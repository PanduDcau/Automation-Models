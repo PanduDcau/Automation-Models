{
 "cells": [
  {
   "cell_type": "markdown",
   "id": "ac0c5b3b",
   "metadata": {
    "execution": {
     "iopub.execute_input": "2024-05-08T08:15:34.981688Z",
     "iopub.status.busy": "2024-05-08T08:15:34.981337Z",
     "iopub.status.idle": "2024-05-08T08:15:36.027982Z",
     "shell.execute_reply": "2024-05-08T08:15:36.026626Z",
     "shell.execute_reply.started": "2024-05-08T08:15:34.981661Z"
    },
    "papermill": {
     "duration": 0.037073,
     "end_time": "2024-05-13T12:24:17.896582",
     "exception": false,
     "start_time": "2024-05-13T12:24:17.859509",
     "status": "completed"
    },
    "tags": []
   },
   "source": [
    "![](https://i.postimg.cc/ZqrQRHMs/image.jpg)"
   ]
  },
  {
   "cell_type": "markdown",
   "id": "6bba6218",
   "metadata": {
    "papermill": {
     "duration": 0.034069,
     "end_time": "2024-05-13T12:24:17.964940",
     "exception": false,
     "start_time": "2024-05-13T12:24:17.930871",
     "status": "completed"
    },
    "tags": []
   },
   "source": [
    "# Data upload."
   ]
  },
  {
   "cell_type": "markdown",
   "id": "c43e298d",
   "metadata": {
    "papermill": {
     "duration": 0.033761,
     "end_time": "2024-05-13T12:24:18.032650",
     "exception": false,
     "start_time": "2024-05-13T12:24:17.998889",
     "status": "completed"
    },
    "tags": []
   },
   "source": [
    "## Importing libs."
   ]
  },
  {
   "cell_type": "code",
   "execution_count": 1,
   "id": "5a67e5bf",
   "metadata": {
    "_cell_guid": "b1076dfc-b9ad-4769-8c92-a6c4dae69d19",
    "_uuid": "8f2839f25d086af736a60e9eeb907d3b93b6e0e5",
    "execution": {
     "iopub.execute_input": "2024-05-13T12:24:18.103635Z",
     "iopub.status.busy": "2024-05-13T12:24:18.103224Z",
     "iopub.status.idle": "2024-05-13T12:24:22.175479Z",
     "shell.execute_reply": "2024-05-13T12:24:22.173909Z"
    },
    "papermill": {
     "duration": 4.110895,
     "end_time": "2024-05-13T12:24:22.178190",
     "exception": false,
     "start_time": "2024-05-13T12:24:18.067295",
     "status": "completed"
    },
    "tags": []
   },
   "outputs": [
    {
     "name": "stdout",
     "output_type": "stream",
     "text": [
      "/kaggle/input/netflix-shows/netflix_titles.csv\n"
     ]
    }
   ],
   "source": [
    "import numpy as np \n",
    "import pandas as pd \n",
    "\n",
    "import plotly.express as px\n",
    "import plotly.figure_factory as ff\n",
    "\n",
    "import os\n",
    "for dirname, _, filenames in os.walk('/kaggle/input'):\n",
    "    for filename in filenames:\n",
    "        print(os.path.join(dirname, filename))\n",
    "\n",
    "import warnings\n",
    "warnings.filterwarnings('ignore')"
   ]
  },
  {
   "cell_type": "markdown",
   "id": "b09b879c",
   "metadata": {
    "papermill": {
     "duration": 0.034096,
     "end_time": "2024-05-13T12:24:22.247480",
     "exception": false,
     "start_time": "2024-05-13T12:24:22.213384",
     "status": "completed"
    },
    "tags": []
   },
   "source": [
    "## Short description"
   ]
  },
  {
   "cell_type": "markdown",
   "id": "b261c3b9",
   "metadata": {
    "papermill": {
     "duration": 0.03423,
     "end_time": "2024-05-13T12:24:22.315859",
     "exception": false,
     "start_time": "2024-05-13T12:24:22.281629",
     "status": "completed"
    },
    "tags": []
   },
   "source": [
    "* **Show_id** - id of the movie or tv show\n",
    "* **Type** - product type, movie or tv show\n",
    "* **Title** - name of the movie or tv show\n",
    "* **Director** - movie's or tv show's director\n",
    "* **Сast** - main actors of the project\n",
    "* **Country** - country of the production\n",
    "* **Date_added**  - release date at Netflix\n",
    "* **Release_year**  - year of the release \n",
    "* **Rating** - age rating (e.g. PG-13, TV-MA)\n",
    "* **Duration** - duration of the project in mins for Movies and seasons for TV Shows  \n",
    "* **Listed_in** - genre\n",
    "* **Description** - short description "
   ]
  },
  {
   "cell_type": "markdown",
   "id": "0923aebc",
   "metadata": {
    "papermill": {
     "duration": 0.036159,
     "end_time": "2024-05-13T12:24:22.386478",
     "exception": false,
     "start_time": "2024-05-13T12:24:22.350319",
     "status": "completed"
    },
    "tags": []
   },
   "source": [
    "# EDA and visualization"
   ]
  },
  {
   "cell_type": "code",
   "execution_count": 2,
   "id": "04608fa0",
   "metadata": {
    "execution": {
     "iopub.execute_input": "2024-05-13T12:24:22.458552Z",
     "iopub.status.busy": "2024-05-13T12:24:22.457434Z",
     "iopub.status.idle": "2024-05-13T12:24:22.626196Z",
     "shell.execute_reply": "2024-05-13T12:24:22.625077Z"
    },
    "papermill": {
     "duration": 0.208037,
     "end_time": "2024-05-13T12:24:22.628801",
     "exception": false,
     "start_time": "2024-05-13T12:24:22.420764",
     "status": "completed"
    },
    "tags": []
   },
   "outputs": [
    {
     "data": {
      "text/html": [
       "<div>\n",
       "<style scoped>\n",
       "    .dataframe tbody tr th:only-of-type {\n",
       "        vertical-align: middle;\n",
       "    }\n",
       "\n",
       "    .dataframe tbody tr th {\n",
       "        vertical-align: top;\n",
       "    }\n",
       "\n",
       "    .dataframe thead th {\n",
       "        text-align: right;\n",
       "    }\n",
       "</style>\n",
       "<table border=\"1\" class=\"dataframe\">\n",
       "  <thead>\n",
       "    <tr style=\"text-align: right;\">\n",
       "      <th></th>\n",
       "      <th>show_id</th>\n",
       "      <th>type</th>\n",
       "      <th>title</th>\n",
       "      <th>director</th>\n",
       "      <th>cast</th>\n",
       "      <th>country</th>\n",
       "      <th>date_added</th>\n",
       "      <th>release_year</th>\n",
       "      <th>rating</th>\n",
       "      <th>duration</th>\n",
       "      <th>listed_in</th>\n",
       "      <th>description</th>\n",
       "    </tr>\n",
       "  </thead>\n",
       "  <tbody>\n",
       "    <tr>\n",
       "      <th>0</th>\n",
       "      <td>s1</td>\n",
       "      <td>Movie</td>\n",
       "      <td>Dick Johnson Is Dead</td>\n",
       "      <td>Kirsten Johnson</td>\n",
       "      <td>NaN</td>\n",
       "      <td>United States</td>\n",
       "      <td>September 25, 2021</td>\n",
       "      <td>2020</td>\n",
       "      <td>PG-13</td>\n",
       "      <td>90 min</td>\n",
       "      <td>Documentaries</td>\n",
       "      <td>As her father nears the end of his life, filmm...</td>\n",
       "    </tr>\n",
       "    <tr>\n",
       "      <th>1</th>\n",
       "      <td>s2</td>\n",
       "      <td>TV Show</td>\n",
       "      <td>Blood &amp; Water</td>\n",
       "      <td>NaN</td>\n",
       "      <td>Ama Qamata, Khosi Ngema, Gail Mabalane, Thaban...</td>\n",
       "      <td>South Africa</td>\n",
       "      <td>September 24, 2021</td>\n",
       "      <td>2021</td>\n",
       "      <td>TV-MA</td>\n",
       "      <td>2 Seasons</td>\n",
       "      <td>International TV Shows, TV Dramas, TV Mysteries</td>\n",
       "      <td>After crossing paths at a party, a Cape Town t...</td>\n",
       "    </tr>\n",
       "    <tr>\n",
       "      <th>2</th>\n",
       "      <td>s3</td>\n",
       "      <td>TV Show</td>\n",
       "      <td>Ganglands</td>\n",
       "      <td>Julien Leclercq</td>\n",
       "      <td>Sami Bouajila, Tracy Gotoas, Samuel Jouy, Nabi...</td>\n",
       "      <td>NaN</td>\n",
       "      <td>September 24, 2021</td>\n",
       "      <td>2021</td>\n",
       "      <td>TV-MA</td>\n",
       "      <td>1 Season</td>\n",
       "      <td>Crime TV Shows, International TV Shows, TV Act...</td>\n",
       "      <td>To protect his family from a powerful drug lor...</td>\n",
       "    </tr>\n",
       "    <tr>\n",
       "      <th>3</th>\n",
       "      <td>s4</td>\n",
       "      <td>TV Show</td>\n",
       "      <td>Jailbirds New Orleans</td>\n",
       "      <td>NaN</td>\n",
       "      <td>NaN</td>\n",
       "      <td>NaN</td>\n",
       "      <td>September 24, 2021</td>\n",
       "      <td>2021</td>\n",
       "      <td>TV-MA</td>\n",
       "      <td>1 Season</td>\n",
       "      <td>Docuseries, Reality TV</td>\n",
       "      <td>Feuds, flirtations and toilet talk go down amo...</td>\n",
       "    </tr>\n",
       "    <tr>\n",
       "      <th>4</th>\n",
       "      <td>s5</td>\n",
       "      <td>TV Show</td>\n",
       "      <td>Kota Factory</td>\n",
       "      <td>NaN</td>\n",
       "      <td>Mayur More, Jitendra Kumar, Ranjan Raj, Alam K...</td>\n",
       "      <td>India</td>\n",
       "      <td>September 24, 2021</td>\n",
       "      <td>2021</td>\n",
       "      <td>TV-MA</td>\n",
       "      <td>2 Seasons</td>\n",
       "      <td>International TV Shows, Romantic TV Shows, TV ...</td>\n",
       "      <td>In a city of coaching centers known to train I...</td>\n",
       "    </tr>\n",
       "  </tbody>\n",
       "</table>\n",
       "</div>"
      ],
      "text/plain": [
       "  show_id     type                  title         director  \\\n",
       "0      s1    Movie   Dick Johnson Is Dead  Kirsten Johnson   \n",
       "1      s2  TV Show          Blood & Water              NaN   \n",
       "2      s3  TV Show              Ganglands  Julien Leclercq   \n",
       "3      s4  TV Show  Jailbirds New Orleans              NaN   \n",
       "4      s5  TV Show           Kota Factory              NaN   \n",
       "\n",
       "                                                cast        country  \\\n",
       "0                                                NaN  United States   \n",
       "1  Ama Qamata, Khosi Ngema, Gail Mabalane, Thaban...   South Africa   \n",
       "2  Sami Bouajila, Tracy Gotoas, Samuel Jouy, Nabi...            NaN   \n",
       "3                                                NaN            NaN   \n",
       "4  Mayur More, Jitendra Kumar, Ranjan Raj, Alam K...          India   \n",
       "\n",
       "           date_added  release_year rating   duration  \\\n",
       "0  September 25, 2021          2020  PG-13     90 min   \n",
       "1  September 24, 2021          2021  TV-MA  2 Seasons   \n",
       "2  September 24, 2021          2021  TV-MA   1 Season   \n",
       "3  September 24, 2021          2021  TV-MA   1 Season   \n",
       "4  September 24, 2021          2021  TV-MA  2 Seasons   \n",
       "\n",
       "                                           listed_in  \\\n",
       "0                                      Documentaries   \n",
       "1    International TV Shows, TV Dramas, TV Mysteries   \n",
       "2  Crime TV Shows, International TV Shows, TV Act...   \n",
       "3                             Docuseries, Reality TV   \n",
       "4  International TV Shows, Romantic TV Shows, TV ...   \n",
       "\n",
       "                                         description  \n",
       "0  As her father nears the end of his life, filmm...  \n",
       "1  After crossing paths at a party, a Cape Town t...  \n",
       "2  To protect his family from a powerful drug lor...  \n",
       "3  Feuds, flirtations and toilet talk go down amo...  \n",
       "4  In a city of coaching centers known to train I...  "
      ]
     },
     "execution_count": 2,
     "metadata": {},
     "output_type": "execute_result"
    }
   ],
   "source": [
    "netflix_full = pd.read_csv('/kaggle/input/netflix-shows/netflix_titles.csv')\n",
    "netflix_full.head(5)"
   ]
  },
  {
   "cell_type": "code",
   "execution_count": 3,
   "id": "18f67825",
   "metadata": {
    "execution": {
     "iopub.execute_input": "2024-05-13T12:24:22.699725Z",
     "iopub.status.busy": "2024-05-13T12:24:22.698941Z",
     "iopub.status.idle": "2024-05-13T12:24:22.736513Z",
     "shell.execute_reply": "2024-05-13T12:24:22.734886Z"
    },
    "papermill": {
     "duration": 0.075914,
     "end_time": "2024-05-13T12:24:22.739017",
     "exception": false,
     "start_time": "2024-05-13T12:24:22.663103",
     "status": "completed"
    },
    "tags": []
   },
   "outputs": [
    {
     "name": "stdout",
     "output_type": "stream",
     "text": [
      "<class 'pandas.core.frame.DataFrame'>\n",
      "RangeIndex: 8807 entries, 0 to 8806\n",
      "Data columns (total 12 columns):\n",
      " #   Column        Non-Null Count  Dtype \n",
      "---  ------        --------------  ----- \n",
      " 0   show_id       8807 non-null   object\n",
      " 1   type          8807 non-null   object\n",
      " 2   title         8807 non-null   object\n",
      " 3   director      6173 non-null   object\n",
      " 4   cast          7982 non-null   object\n",
      " 5   country       7976 non-null   object\n",
      " 6   date_added    8797 non-null   object\n",
      " 7   release_year  8807 non-null   int64 \n",
      " 8   rating        8803 non-null   object\n",
      " 9   duration      8804 non-null   object\n",
      " 10  listed_in     8807 non-null   object\n",
      " 11  description   8807 non-null   object\n",
      "dtypes: int64(1), object(11)\n",
      "memory usage: 825.8+ KB\n"
     ]
    }
   ],
   "source": [
    "# looking at dtypes and NANs. There are 12 features for analysis.\n",
    "\n",
    "netflix_full.info()"
   ]
  },
  {
   "cell_type": "code",
   "execution_count": 4,
   "id": "a16ed634",
   "metadata": {
    "execution": {
     "iopub.execute_input": "2024-05-13T12:24:22.882594Z",
     "iopub.status.busy": "2024-05-13T12:24:22.882176Z",
     "iopub.status.idle": "2024-05-13T12:24:22.904022Z",
     "shell.execute_reply": "2024-05-13T12:24:22.901666Z"
    },
    "papermill": {
     "duration": 0.065956,
     "end_time": "2024-05-13T12:24:22.908760",
     "exception": false,
     "start_time": "2024-05-13T12:24:22.842804",
     "status": "completed"
    },
    "tags": []
   },
   "outputs": [
    {
     "data": {
      "text/plain": [
       "show_id            0\n",
       "type               0\n",
       "title              0\n",
       "director        2634\n",
       "cast             825\n",
       "country          831\n",
       "date_added        10\n",
       "release_year       0\n",
       "rating             4\n",
       "duration           3\n",
       "listed_in          0\n",
       "description        0\n",
       "dtype: int64"
      ]
     },
     "execution_count": 4,
     "metadata": {},
     "output_type": "execute_result"
    }
   ],
   "source": [
    "netflix_full.isna().sum() "
   ]
  },
  {
   "cell_type": "code",
   "execution_count": 5,
   "id": "bbf29c1a",
   "metadata": {
    "execution": {
     "iopub.execute_input": "2024-05-13T12:24:22.988341Z",
     "iopub.status.busy": "2024-05-13T12:24:22.986867Z",
     "iopub.status.idle": "2024-05-13T12:24:23.000742Z",
     "shell.execute_reply": "2024-05-13T12:24:22.999726Z"
    },
    "papermill": {
     "duration": 0.058687,
     "end_time": "2024-05-13T12:24:23.003892",
     "exception": false,
     "start_time": "2024-05-13T12:24:22.945205",
     "status": "completed"
    },
    "tags": []
   },
   "outputs": [
    {
     "data": {
      "text/plain": [
       "duration\n",
       "1 Season     1793\n",
       "2 Seasons     425\n",
       "3 Seasons     199\n",
       "90 min        152\n",
       "94 min        146\n",
       "             ... \n",
       "16 min          1\n",
       "186 min         1\n",
       "193 min         1\n",
       "189 min         1\n",
       "191 min         1\n",
       "Name: count, Length: 220, dtype: int64"
      ]
     },
     "execution_count": 5,
     "metadata": {},
     "output_type": "execute_result"
    }
   ],
   "source": [
    "duration = netflix_full['duration'].value_counts()\n",
    "duration"
   ]
  },
  {
   "cell_type": "code",
   "execution_count": 6,
   "id": "e313776f",
   "metadata": {
    "execution": {
     "iopub.execute_input": "2024-05-13T12:24:23.114797Z",
     "iopub.status.busy": "2024-05-13T12:24:23.114026Z",
     "iopub.status.idle": "2024-05-13T12:24:24.959504Z",
     "shell.execute_reply": "2024-05-13T12:24:24.958085Z"
    },
    "papermill": {
     "duration": 1.899425,
     "end_time": "2024-05-13T12:24:24.962340",
     "exception": false,
     "start_time": "2024-05-13T12:24:23.062915",
     "status": "completed"
    },
    "tags": []
   },
   "outputs": [
    {
     "data": {
      "text/html": [
       "        <script type=\"text/javascript\">\n",
       "        window.PlotlyConfig = {MathJaxConfig: 'local'};\n",
       "        if (window.MathJax && window.MathJax.Hub && window.MathJax.Hub.Config) {window.MathJax.Hub.Config({SVG: {font: \"STIX-Web\"}});}\n",
       "        if (typeof require !== 'undefined') {\n",
       "        require.undef(\"plotly\");\n",
       "        requirejs.config({\n",
       "            paths: {\n",
       "                'plotly': ['https://cdn.plot.ly/plotly-2.27.0.min']\n",
       "            }\n",
       "        });\n",
       "        require(['plotly'], function(Plotly) {\n",
       "            window._Plotly = Plotly;\n",
       "        });\n",
       "        }\n",
       "        </script>\n",
       "        "
      ]
     },
     "metadata": {},
     "output_type": "display_data"
    },
    {
     "data": {
      "text/html": [
       "<div>                            <div id=\"19051b81-6c71-4043-bf7c-d0c77aaa8caf\" class=\"plotly-graph-div\" style=\"height:500px; width:800px;\"></div>            <script type=\"text/javascript\">                require([\"plotly\"], function(Plotly) {                    window.PLOTLYENV=window.PLOTLYENV || {};                                    if (document.getElementById(\"19051b81-6c71-4043-bf7c-d0c77aaa8caf\")) {                    Plotly.newPlot(                        \"19051b81-6c71-4043-bf7c-d0c77aaa8caf\",                        [{\"alignmentgroup\":\"True\",\"bingroup\":\"x\",\"histfunc\":\"sum\",\"hovertemplate\":\"duration=%{x}\\u003cbr\\u003esum of y=%{y}\\u003cextra\\u003e\\u003c\\u002fextra\\u003e\",\"legendgroup\":\"\",\"marker\":{\"color\":\"#2ca02c\",\"pattern\":{\"shape\":\"\"}},\"name\":\"\",\"offsetgroup\":\"\",\"orientation\":\"v\",\"showlegend\":false,\"x\":[\"1 Season\",\"2 Seasons\",\"3 Seasons\",\"90 min\",\"94 min\",\"97 min\",\"93 min\",\"91 min\",\"95 min\",\"96 min\",\"92 min\",\"102 min\",\"98 min\",\"99 min\",\"101 min\",\"88 min\",\"103 min\",\"106 min\",\"100 min\",\"89 min\",\"104 min\",\"86 min\",\"105 min\",\"87 min\",\"107 min\",\"110 min\",\"4 Seasons\",\"108 min\",\"116 min\",\"112 min\",\"85 min\",\"113 min\",\"109 min\",\"111 min\",\"84 min\",\"118 min\",\"83 min\",\"5 Seasons\",\"119 min\",\"81 min\",\"115 min\",\"117 min\",\"120 min\",\"114 min\",\"121 min\",\"82 min\",\"124 min\",\"127 min\",\"122 min\",\"78 min\",\"123 min\",\"126 min\",\"80 min\",\"133 min\",\"128 min\",\"130 min\",\"135 min\",\"137 min\",\"132 min\",\"125 min\",\"75 min\",\"79 min\",\"131 min\",\"6 Seasons\",\"72 min\",\"63 min\",\"129 min\",\"76 min\",\"61 min\",\"74 min\",\"73 min\",\"77 min\",\"60 min\",\"71 min\",\"66 min\",\"69 min\",\"70 min\",\"140 min\",\"65 min\",\"58 min\",\"59 min\",\"68 min\",\"54 min\",\"46 min\",\"62 min\",\"53 min\",\"64 min\",\"136 min\",\"7 Seasons\",\"24 min\",\"143 min\",\"134 min\",\"139 min\",\"138 min\",\"67 min\",\"52 min\",\"44 min\",\"141 min\",\"148 min\",\"145 min\",\"150 min\",\"8 Seasons\",\"22 min\",\"55 min\",\"151 min\",\"149 min\",\"162 min\",\"57 min\",\"146 min\",\"23 min\",\"142 min\",\"154 min\",\"40 min\",\"158 min\",\"56 min\",\"147 min\",\"153 min\",\"163 min\",\"25 min\",\"51 min\",\"29 min\",\"47 min\",\"161 min\",\"45 min\",\"155 min\",\"28 min\",\"50 min\",\"156 min\",\"42 min\",\"32 min\",\"144 min\",\"9 Seasons\",\"49 min\",\"166 min\",\"165 min\",\"48 min\",\"168 min\",\"10 Seasons\",\"171 min\",\"173 min\",\"185 min\",\"26 min\",\"33 min\",\"159 min\",\"30 min\",\"160 min\",\"157 min\",\"176 min\",\"152 min\",\"170 min\",\"36 min\",\"177 min\",\"38 min\",\"35 min\",\"172 min\",\"181 min\",\"164 min\",\"14 min\",\"15 min\",\"13 min\",\"41 min\",\"17 min\",\"27 min\",\"34 min\",\"37 min\",\"12 min\",\"21 min\",\"182 min\",\"13 Seasons\",\"192 min\",\"19 min\",\"174 min\",\"11 min\",\"209 min\",\"187 min\",\"31 min\",\"12 Seasons\",\"39 min\",\"169 min\",\"180 min\",\"195 min\",\"179 min\",\"15 Seasons\",\"20 min\",\"190 min\",\"204 min\",\"11 Seasons\",\"200 min\",\"196 min\",\"43 min\",\"167 min\",\"229 min\",\"178 min\",\"228 min\",\"214 min\",\"18 min\",\"205 min\",\"201 min\",\"312 min\",\"17 Seasons\",\"3 min\",\"10 min\",\"8 min\",\"9 min\",\"224 min\",\"212 min\",\"203 min\",\"194 min\",\"233 min\",\"237 min\",\"230 min\",\"253 min\",\"273 min\",\"208 min\",\"5 min\",\"16 min\",\"186 min\",\"193 min\",\"189 min\",\"191 min\"],\"xaxis\":\"x\",\"y\":[1793,425,199,152,146,146,146,144,137,130,129,122,120,118,116,116,114,111,108,106,104,103,101,101,98,97,95,87,80,74,73,69,69,68,67,65,65,65,63,62,61,61,56,56,54,52,52,48,45,45,44,44,43,42,41,40,39,38,37,36,35,35,34,33,33,32,32,31,31,31,30,30,29,28,28,28,28,25,25,25,25,25,24,24,24,24,23,23,23,23,23,22,22,21,21,20,19,19,19,18,17,17,16,16,15,15,14,14,13,13,13,13,13,12,12,12,11,11,11,11,11,11,10,10,10,10,10,10,9,9,9,9,9,8,8,8,7,7,7,6,6,6,6,6,6,6,6,5,5,5,5,5,5,5,4,4,4,3,3,3,3,3,3,3,3,3,3,3,3,2,2,2,2,2,2,2,2,2,2,2,2,2,2,2,2,2,2,1,1,1,1,1,1,1,1,1,1,1,1,1,1,1,1,1,1,1,1,1,1,1,1,1,1,1,1,1,1,1,1,1],\"yaxis\":\"y\",\"type\":\"histogram\"}],                        {\"template\":{\"data\":{\"barpolar\":[{\"marker\":{\"line\":{\"color\":\"rgb(17,17,17)\",\"width\":0.5},\"pattern\":{\"fillmode\":\"overlay\",\"size\":10,\"solidity\":0.2}},\"type\":\"barpolar\"}],\"bar\":[{\"error_x\":{\"color\":\"#f2f5fa\"},\"error_y\":{\"color\":\"#f2f5fa\"},\"marker\":{\"line\":{\"color\":\"rgb(17,17,17)\",\"width\":0.5},\"pattern\":{\"fillmode\":\"overlay\",\"size\":10,\"solidity\":0.2}},\"type\":\"bar\"}],\"carpet\":[{\"aaxis\":{\"endlinecolor\":\"#A2B1C6\",\"gridcolor\":\"#506784\",\"linecolor\":\"#506784\",\"minorgridcolor\":\"#506784\",\"startlinecolor\":\"#A2B1C6\"},\"baxis\":{\"endlinecolor\":\"#A2B1C6\",\"gridcolor\":\"#506784\",\"linecolor\":\"#506784\",\"minorgridcolor\":\"#506784\",\"startlinecolor\":\"#A2B1C6\"},\"type\":\"carpet\"}],\"choropleth\":[{\"colorbar\":{\"outlinewidth\":0,\"ticks\":\"\"},\"type\":\"choropleth\"}],\"contourcarpet\":[{\"colorbar\":{\"outlinewidth\":0,\"ticks\":\"\"},\"type\":\"contourcarpet\"}],\"contour\":[{\"colorbar\":{\"outlinewidth\":0,\"ticks\":\"\"},\"colorscale\":[[0.0,\"#0d0887\"],[0.1111111111111111,\"#46039f\"],[0.2222222222222222,\"#7201a8\"],[0.3333333333333333,\"#9c179e\"],[0.4444444444444444,\"#bd3786\"],[0.5555555555555556,\"#d8576b\"],[0.6666666666666666,\"#ed7953\"],[0.7777777777777778,\"#fb9f3a\"],[0.8888888888888888,\"#fdca26\"],[1.0,\"#f0f921\"]],\"type\":\"contour\"}],\"heatmapgl\":[{\"colorbar\":{\"outlinewidth\":0,\"ticks\":\"\"},\"colorscale\":[[0.0,\"#0d0887\"],[0.1111111111111111,\"#46039f\"],[0.2222222222222222,\"#7201a8\"],[0.3333333333333333,\"#9c179e\"],[0.4444444444444444,\"#bd3786\"],[0.5555555555555556,\"#d8576b\"],[0.6666666666666666,\"#ed7953\"],[0.7777777777777778,\"#fb9f3a\"],[0.8888888888888888,\"#fdca26\"],[1.0,\"#f0f921\"]],\"type\":\"heatmapgl\"}],\"heatmap\":[{\"colorbar\":{\"outlinewidth\":0,\"ticks\":\"\"},\"colorscale\":[[0.0,\"#0d0887\"],[0.1111111111111111,\"#46039f\"],[0.2222222222222222,\"#7201a8\"],[0.3333333333333333,\"#9c179e\"],[0.4444444444444444,\"#bd3786\"],[0.5555555555555556,\"#d8576b\"],[0.6666666666666666,\"#ed7953\"],[0.7777777777777778,\"#fb9f3a\"],[0.8888888888888888,\"#fdca26\"],[1.0,\"#f0f921\"]],\"type\":\"heatmap\"}],\"histogram2dcontour\":[{\"colorbar\":{\"outlinewidth\":0,\"ticks\":\"\"},\"colorscale\":[[0.0,\"#0d0887\"],[0.1111111111111111,\"#46039f\"],[0.2222222222222222,\"#7201a8\"],[0.3333333333333333,\"#9c179e\"],[0.4444444444444444,\"#bd3786\"],[0.5555555555555556,\"#d8576b\"],[0.6666666666666666,\"#ed7953\"],[0.7777777777777778,\"#fb9f3a\"],[0.8888888888888888,\"#fdca26\"],[1.0,\"#f0f921\"]],\"type\":\"histogram2dcontour\"}],\"histogram2d\":[{\"colorbar\":{\"outlinewidth\":0,\"ticks\":\"\"},\"colorscale\":[[0.0,\"#0d0887\"],[0.1111111111111111,\"#46039f\"],[0.2222222222222222,\"#7201a8\"],[0.3333333333333333,\"#9c179e\"],[0.4444444444444444,\"#bd3786\"],[0.5555555555555556,\"#d8576b\"],[0.6666666666666666,\"#ed7953\"],[0.7777777777777778,\"#fb9f3a\"],[0.8888888888888888,\"#fdca26\"],[1.0,\"#f0f921\"]],\"type\":\"histogram2d\"}],\"histogram\":[{\"marker\":{\"pattern\":{\"fillmode\":\"overlay\",\"size\":10,\"solidity\":0.2}},\"type\":\"histogram\"}],\"mesh3d\":[{\"colorbar\":{\"outlinewidth\":0,\"ticks\":\"\"},\"type\":\"mesh3d\"}],\"parcoords\":[{\"line\":{\"colorbar\":{\"outlinewidth\":0,\"ticks\":\"\"}},\"type\":\"parcoords\"}],\"pie\":[{\"automargin\":true,\"type\":\"pie\"}],\"scatter3d\":[{\"line\":{\"colorbar\":{\"outlinewidth\":0,\"ticks\":\"\"}},\"marker\":{\"colorbar\":{\"outlinewidth\":0,\"ticks\":\"\"}},\"type\":\"scatter3d\"}],\"scattercarpet\":[{\"marker\":{\"colorbar\":{\"outlinewidth\":0,\"ticks\":\"\"}},\"type\":\"scattercarpet\"}],\"scattergeo\":[{\"marker\":{\"colorbar\":{\"outlinewidth\":0,\"ticks\":\"\"}},\"type\":\"scattergeo\"}],\"scattergl\":[{\"marker\":{\"line\":{\"color\":\"#283442\"}},\"type\":\"scattergl\"}],\"scattermapbox\":[{\"marker\":{\"colorbar\":{\"outlinewidth\":0,\"ticks\":\"\"}},\"type\":\"scattermapbox\"}],\"scatterpolargl\":[{\"marker\":{\"colorbar\":{\"outlinewidth\":0,\"ticks\":\"\"}},\"type\":\"scatterpolargl\"}],\"scatterpolar\":[{\"marker\":{\"colorbar\":{\"outlinewidth\":0,\"ticks\":\"\"}},\"type\":\"scatterpolar\"}],\"scatter\":[{\"marker\":{\"line\":{\"color\":\"#283442\"}},\"type\":\"scatter\"}],\"scatterternary\":[{\"marker\":{\"colorbar\":{\"outlinewidth\":0,\"ticks\":\"\"}},\"type\":\"scatterternary\"}],\"surface\":[{\"colorbar\":{\"outlinewidth\":0,\"ticks\":\"\"},\"colorscale\":[[0.0,\"#0d0887\"],[0.1111111111111111,\"#46039f\"],[0.2222222222222222,\"#7201a8\"],[0.3333333333333333,\"#9c179e\"],[0.4444444444444444,\"#bd3786\"],[0.5555555555555556,\"#d8576b\"],[0.6666666666666666,\"#ed7953\"],[0.7777777777777778,\"#fb9f3a\"],[0.8888888888888888,\"#fdca26\"],[1.0,\"#f0f921\"]],\"type\":\"surface\"}],\"table\":[{\"cells\":{\"fill\":{\"color\":\"#506784\"},\"line\":{\"color\":\"rgb(17,17,17)\"}},\"header\":{\"fill\":{\"color\":\"#2a3f5f\"},\"line\":{\"color\":\"rgb(17,17,17)\"}},\"type\":\"table\"}]},\"layout\":{\"annotationdefaults\":{\"arrowcolor\":\"#f2f5fa\",\"arrowhead\":0,\"arrowwidth\":1},\"autotypenumbers\":\"strict\",\"coloraxis\":{\"colorbar\":{\"outlinewidth\":0,\"ticks\":\"\"}},\"colorscale\":{\"diverging\":[[0,\"#8e0152\"],[0.1,\"#c51b7d\"],[0.2,\"#de77ae\"],[0.3,\"#f1b6da\"],[0.4,\"#fde0ef\"],[0.5,\"#f7f7f7\"],[0.6,\"#e6f5d0\"],[0.7,\"#b8e186\"],[0.8,\"#7fbc41\"],[0.9,\"#4d9221\"],[1,\"#276419\"]],\"sequential\":[[0.0,\"#0d0887\"],[0.1111111111111111,\"#46039f\"],[0.2222222222222222,\"#7201a8\"],[0.3333333333333333,\"#9c179e\"],[0.4444444444444444,\"#bd3786\"],[0.5555555555555556,\"#d8576b\"],[0.6666666666666666,\"#ed7953\"],[0.7777777777777778,\"#fb9f3a\"],[0.8888888888888888,\"#fdca26\"],[1.0,\"#f0f921\"]],\"sequentialminus\":[[0.0,\"#0d0887\"],[0.1111111111111111,\"#46039f\"],[0.2222222222222222,\"#7201a8\"],[0.3333333333333333,\"#9c179e\"],[0.4444444444444444,\"#bd3786\"],[0.5555555555555556,\"#d8576b\"],[0.6666666666666666,\"#ed7953\"],[0.7777777777777778,\"#fb9f3a\"],[0.8888888888888888,\"#fdca26\"],[1.0,\"#f0f921\"]]},\"colorway\":[\"#636efa\",\"#EF553B\",\"#00cc96\",\"#ab63fa\",\"#FFA15A\",\"#19d3f3\",\"#FF6692\",\"#B6E880\",\"#FF97FF\",\"#FECB52\"],\"font\":{\"color\":\"#f2f5fa\"},\"geo\":{\"bgcolor\":\"rgb(17,17,17)\",\"lakecolor\":\"rgb(17,17,17)\",\"landcolor\":\"rgb(17,17,17)\",\"showlakes\":true,\"showland\":true,\"subunitcolor\":\"#506784\"},\"hoverlabel\":{\"align\":\"left\"},\"hovermode\":\"closest\",\"mapbox\":{\"style\":\"dark\"},\"paper_bgcolor\":\"rgb(17,17,17)\",\"plot_bgcolor\":\"rgb(17,17,17)\",\"polar\":{\"angularaxis\":{\"gridcolor\":\"#506784\",\"linecolor\":\"#506784\",\"ticks\":\"\"},\"bgcolor\":\"rgb(17,17,17)\",\"radialaxis\":{\"gridcolor\":\"#506784\",\"linecolor\":\"#506784\",\"ticks\":\"\"}},\"scene\":{\"xaxis\":{\"backgroundcolor\":\"rgb(17,17,17)\",\"gridcolor\":\"#506784\",\"gridwidth\":2,\"linecolor\":\"#506784\",\"showbackground\":true,\"ticks\":\"\",\"zerolinecolor\":\"#C8D4E3\"},\"yaxis\":{\"backgroundcolor\":\"rgb(17,17,17)\",\"gridcolor\":\"#506784\",\"gridwidth\":2,\"linecolor\":\"#506784\",\"showbackground\":true,\"ticks\":\"\",\"zerolinecolor\":\"#C8D4E3\"},\"zaxis\":{\"backgroundcolor\":\"rgb(17,17,17)\",\"gridcolor\":\"#506784\",\"gridwidth\":2,\"linecolor\":\"#506784\",\"showbackground\":true,\"ticks\":\"\",\"zerolinecolor\":\"#C8D4E3\"}},\"shapedefaults\":{\"line\":{\"color\":\"#f2f5fa\"}},\"sliderdefaults\":{\"bgcolor\":\"#C8D4E3\",\"bordercolor\":\"rgb(17,17,17)\",\"borderwidth\":1,\"tickwidth\":0},\"ternary\":{\"aaxis\":{\"gridcolor\":\"#506784\",\"linecolor\":\"#506784\",\"ticks\":\"\"},\"baxis\":{\"gridcolor\":\"#506784\",\"linecolor\":\"#506784\",\"ticks\":\"\"},\"bgcolor\":\"rgb(17,17,17)\",\"caxis\":{\"gridcolor\":\"#506784\",\"linecolor\":\"#506784\",\"ticks\":\"\"}},\"title\":{\"x\":0.05},\"updatemenudefaults\":{\"bgcolor\":\"#506784\",\"borderwidth\":0},\"xaxis\":{\"automargin\":true,\"gridcolor\":\"#283442\",\"linecolor\":\"#506784\",\"ticks\":\"\",\"title\":{\"standoff\":15},\"zerolinecolor\":\"#283442\",\"zerolinewidth\":2},\"yaxis\":{\"automargin\":true,\"gridcolor\":\"#283442\",\"linecolor\":\"#506784\",\"ticks\":\"\",\"title\":{\"standoff\":15},\"zerolinecolor\":\"#283442\",\"zerolinewidth\":2}}},\"xaxis\":{\"anchor\":\"y\",\"domain\":[0.0,1.0],\"title\":{\"text\":\"duration\"}},\"yaxis\":{\"anchor\":\"x\",\"domain\":[0.0,1.0],\"title\":{\"text\":\"sum of y\"}},\"legend\":{\"tracegroupgap\":0},\"title\":{\"text\":\"The most popular projects duration wise\"},\"barmode\":\"relative\",\"height\":500,\"width\":800,\"bargap\":0.5},                        {\"responsive\": true}                    ).then(function(){\n",
       "                            \n",
       "var gd = document.getElementById('19051b81-6c71-4043-bf7c-d0c77aaa8caf');\n",
       "var x = new MutationObserver(function (mutations, observer) {{\n",
       "        var display = window.getComputedStyle(gd).display;\n",
       "        if (!display || display === 'none') {{\n",
       "            console.log([gd, 'removed!']);\n",
       "            Plotly.purge(gd);\n",
       "            observer.disconnect();\n",
       "        }}\n",
       "}});\n",
       "\n",
       "// Listen for the removal of the full notebook cells\n",
       "var notebookContainer = gd.closest('#notebook-container');\n",
       "if (notebookContainer) {{\n",
       "    x.observe(notebookContainer, {childList: true});\n",
       "}}\n",
       "\n",
       "// Listen for the clearing of the current output cell\n",
       "var outputEl = gd.closest('.output');\n",
       "if (outputEl) {{\n",
       "    x.observe(outputEl, {childList: true});\n",
       "}}\n",
       "\n",
       "                        })                };                });            </script>        </div>"
      ]
     },
     "metadata": {},
     "output_type": "display_data"
    }
   ],
   "source": [
    "chart_colors = ['#2ca02c', '#8c564b', '#ff7f0e', '#1f77b4',  '#FF9900', '#d1d6d5', '#333333', '#FFFFFF']\n",
    "\n",
    "fig = px.histogram(duration, duration.index, duration.values, \n",
    "                   template= \"plotly_dark\",\n",
    "                   color_discrete_sequence= chart_colors, \n",
    "                   width = 800, height = 500, \n",
    "                   title = 'The most popular projects duration wise'\n",
    "                  )\n",
    "fig.update_layout(bargap=0.5)\n",
    "\n",
    "fig.show()"
   ]
  },
  {
   "cell_type": "markdown",
   "id": "9ff82a50",
   "metadata": {
    "papermill": {
     "duration": 0.037023,
     "end_time": "2024-05-13T12:24:25.038328",
     "exception": false,
     "start_time": "2024-05-13T12:24:25.001305",
     "status": "completed"
    },
    "tags": []
   },
   "source": [
    "* 1 season TV Shows are the most popular, as for Movies the ones are with duration 97 and 92 mins."
   ]
  },
  {
   "cell_type": "markdown",
   "id": "cd48e55b",
   "metadata": {
    "papermill": {
     "duration": 0.035271,
     "end_time": "2024-05-13T12:24:25.110593",
     "exception": false,
     "start_time": "2024-05-13T12:24:25.075322",
     "status": "completed"
    },
    "tags": []
   },
   "source": [
    "* Let's split our data and consider TV Shows and Movies separately in our further analysis"
   ]
  },
  {
   "cell_type": "code",
   "execution_count": 7,
   "id": "f30bad48",
   "metadata": {
    "execution": {
     "iopub.execute_input": "2024-05-13T12:24:25.185575Z",
     "iopub.status.busy": "2024-05-13T12:24:25.184681Z",
     "iopub.status.idle": "2024-05-13T12:24:25.198515Z",
     "shell.execute_reply": "2024-05-13T12:24:25.197405Z"
    },
    "papermill": {
     "duration": 0.053996,
     "end_time": "2024-05-13T12:24:25.201136",
     "exception": false,
     "start_time": "2024-05-13T12:24:25.147140",
     "status": "completed"
    },
    "tags": []
   },
   "outputs": [],
   "source": [
    "movies = netflix_full[netflix_full['type'] == 'Movie'].copy()"
   ]
  },
  {
   "cell_type": "code",
   "execution_count": 8,
   "id": "379225ce",
   "metadata": {
    "execution": {
     "iopub.execute_input": "2024-05-13T12:24:25.277919Z",
     "iopub.status.busy": "2024-05-13T12:24:25.277242Z",
     "iopub.status.idle": "2024-05-13T12:24:25.286357Z",
     "shell.execute_reply": "2024-05-13T12:24:25.285415Z"
    },
    "papermill": {
     "duration": 0.051311,
     "end_time": "2024-05-13T12:24:25.288933",
     "exception": false,
     "start_time": "2024-05-13T12:24:25.237622",
     "status": "completed"
    },
    "tags": []
   },
   "outputs": [],
   "source": [
    "tv_shows = netflix_full[netflix_full['type'] == 'TV Show'].copy()"
   ]
  },
  {
   "cell_type": "code",
   "execution_count": 9,
   "id": "f15be077",
   "metadata": {
    "execution": {
     "iopub.execute_input": "2024-05-13T12:24:25.369671Z",
     "iopub.status.busy": "2024-05-13T12:24:25.368474Z",
     "iopub.status.idle": "2024-05-13T12:24:25.480164Z",
     "shell.execute_reply": "2024-05-13T12:24:25.478832Z"
    },
    "papermill": {
     "duration": 0.154035,
     "end_time": "2024-05-13T12:24:25.483664",
     "exception": false,
     "start_time": "2024-05-13T12:24:25.329629",
     "status": "completed"
    },
    "tags": []
   },
   "outputs": [
    {
     "data": {
      "text/html": [
       "<div>                            <div id=\"ac380a80-2b44-4a8b-98ad-924ce27557cb\" class=\"plotly-graph-div\" style=\"height:400px; width:800px;\"></div>            <script type=\"text/javascript\">                require([\"plotly\"], function(Plotly) {                    window.PLOTLYENV=window.PLOTLYENV || {};                                    if (document.getElementById(\"ac380a80-2b44-4a8b-98ad-924ce27557cb\")) {                    Plotly.newPlot(                        \"ac380a80-2b44-4a8b-98ad-924ce27557cb\",                        [{\"alignmentgroup\":\"True\",\"bingroup\":\"x\",\"hovertemplate\":\"type=%{x}\\u003cbr\\u003ecount=%{y}\\u003cextra\\u003e\\u003c\\u002fextra\\u003e\",\"legendgroup\":\"\",\"marker\":{\"color\":\"#8c564b\",\"pattern\":{\"shape\":\"\"}},\"name\":\"\",\"offsetgroup\":\"\",\"orientation\":\"v\",\"showlegend\":false,\"texttemplate\":\"%{value}\",\"x\":[\"Movie\",\"TV Show\",\"TV Show\",\"TV Show\",\"TV Show\",\"TV Show\",\"Movie\",\"Movie\",\"TV Show\",\"Movie\",\"TV Show\",\"TV Show\",\"Movie\",\"Movie\",\"TV Show\",\"TV Show\",\"Movie\",\"TV Show\",\"Movie\",\"TV Show\",\"TV Show\",\"TV Show\",\"Movie\",\"Movie\",\"Movie\",\"TV Show\",\"Movie\",\"Movie\",\"Movie\",\"Movie\",\"Movie\",\"TV Show\",\"TV Show\",\"TV Show\",\"TV Show\",\"Movie\",\"Movie\",\"TV Show\",\"Movie\",\"TV Show\",\"TV Show\",\"Movie\",\"Movie\",\"Movie\",\"Movie\",\"Movie\",\"Movie\",\"TV Show\",\"Movie\",\"TV Show\",\"TV Show\",\"Movie\",\"Movie\",\"Movie\",\"Movie\",\"TV Show\",\"Movie\",\"Movie\",\"Movie\",\"Movie\",\"Movie\",\"Movie\",\"Movie\",\"Movie\",\"Movie\",\"TV Show\",\"TV Show\",\"TV Show\",\"Movie\",\"TV Show\",\"TV Show\",\"Movie\",\"TV Show\",\"Movie\",\"TV Show\",\"Movie\",\"TV Show\",\"Movie\",\"Movie\",\"Movie\",\"Movie\",\"Movie\",\"TV Show\",\"TV Show\",\"Movie\",\"TV Show\",\"Movie\",\"TV Show\",\"Movie\",\"TV Show\",\"Movie\",\"Movie\",\"TV Show\",\"Movie\",\"Movie\",\"TV Show\",\"Movie\",\"TV Show\",\"TV Show\",\"TV Show\",\"TV Show\",\"Movie\",\"TV Show\",\"Movie\",\"TV Show\",\"Movie\",\"TV Show\",\"Movie\",\"TV Show\",\"TV Show\",\"TV Show\",\"TV Show\",\"Movie\",\"Movie\",\"Movie\",\"Movie\",\"Movie\",\"Movie\",\"Movie\",\"Movie\",\"TV Show\",\"TV Show\",\"Movie\",\"TV Show\",\"TV Show\",\"TV Show\",\"Movie\",\"Movie\",\"Movie\",\"Movie\",\"Movie\",\"Movie\",\"TV Show\",\"Movie\",\"Movie\",\"Movie\",\"Movie\",\"Movie\",\"Movie\",\"Movie\",\"Movie\",\"Movie\",\"Movie\",\"Movie\",\"Movie\",\"Movie\",\"Movie\",\"TV Show\",\"TV Show\",\"Movie\",\"Movie\",\"Movie\",\"Movie\",\"TV Show\",\"TV Show\",\"Movie\",\"Movie\",\"Movie\",\"Movie\",\"Movie\",\"TV Show\",\"Movie\",\"Movie\",\"Movie\",\"Movie\",\"TV Show\",\"Movie\",\"Movie\",\"Movie\",\"Movie\",\"Movie\",\"Movie\",\"Movie\",\"Movie\",\"Movie\",\"Movie\",\"Movie\",\"Movie\",\"Movie\",\"Movie\",\"Movie\",\"TV Show\",\"Movie\",\"Movie\",\"TV Show\",\"Movie\",\"TV Show\",\"TV Show\",\"Movie\",\"TV Show\",\"Movie\",\"Movie\",\"Movie\",\"TV Show\",\"TV Show\",\"Movie\",\"Movie\",\"TV Show\",\"TV Show\",\"Movie\",\"Movie\",\"Movie\",\"Movie\",\"Movie\",\"Movie\",\"Movie\",\"Movie\",\"Movie\",\"Movie\",\"Movie\",\"Movie\",\"Movie\",\"TV Show\",\"TV Show\",\"Movie\",\"Movie\",\"Movie\",\"Movie\",\"TV Show\",\"TV Show\",\"TV Show\",\"Movie\",\"TV Show\",\"TV Show\",\"TV Show\",\"TV Show\",\"TV Show\",\"Movie\",\"Movie\",\"Movie\",\"Movie\",\"Movie\",\"TV Show\",\"Movie\",\"TV Show\",\"Movie\",\"Movie\",\"Movie\",\"Movie\",\"Movie\",\"Movie\",\"TV Show\",\"TV Show\",\"TV Show\",\"Movie\",\"TV Show\",\"Movie\",\"Movie\",\"TV Show\",\"Movie\",\"Movie\",\"Movie\",\"Movie\",\"Movie\",\"TV Show\",\"Movie\",\"Movie\",\"Movie\",\"Movie\",\"Movie\",\"TV Show\",\"Movie\",\"Movie\",\"TV Show\",\"Movie\",\"TV Show\",\"TV Show\",\"Movie\",\"Movie\",\"TV Show\",\"Movie\",\"TV Show\",\"TV Show\",\"TV Show\",\"TV Show\",\"TV Show\",\"TV Show\",\"TV Show\",\"Movie\",\"Movie\",\"TV Show\",\"Movie\",\"Movie\",\"Movie\",\"Movie\",\"Movie\",\"TV Show\",\"TV Show\",\"TV Show\",\"TV Show\",\"Movie\",\"TV Show\",\"Movie\",\"Movie\",\"Movie\",\"Movie\",\"TV Show\",\"TV Show\",\"Movie\",\"Movie\",\"Movie\",\"Movie\",\"Movie\",\"Movie\",\"Movie\",\"Movie\",\"Movie\",\"Movie\",\"Movie\",\"TV Show\",\"TV Show\",\"TV Show\",\"TV Show\",\"TV Show\",\"Movie\",\"Movie\",\"TV Show\",\"Movie\",\"Movie\",\"TV Show\",\"TV Show\",\"TV Show\",\"TV Show\",\"TV Show\",\"TV Show\",\"Movie\",\"Movie\",\"Movie\",\"Movie\",\"Movie\",\"Movie\",\"TV Show\",\"Movie\",\"Movie\",\"Movie\",\"Movie\",\"TV Show\",\"Movie\",\"TV Show\",\"Movie\",\"Movie\",\"Movie\",\"Movie\",\"Movie\",\"Movie\",\"Movie\",\"Movie\",\"Movie\",\"Movie\",\"Movie\",\"Movie\",\"Movie\",\"Movie\",\"Movie\",\"Movie\",\"Movie\",\"Movie\",\"Movie\",\"Movie\",\"Movie\",\"Movie\",\"TV Show\",\"Movie\",\"Movie\",\"TV Show\",\"Movie\",\"TV Show\",\"Movie\",\"TV Show\",\"TV Show\",\"TV Show\",\"Movie\",\"Movie\",\"Movie\",\"Movie\",\"Movie\",\"TV Show\",\"Movie\",\"Movie\",\"TV Show\",\"TV Show\",\"TV Show\",\"TV Show\",\"Movie\",\"Movie\",\"TV Show\",\"TV Show\",\"Movie\",\"TV Show\",\"Movie\",\"TV Show\",\"TV Show\",\"Movie\",\"Movie\",\"Movie\",\"Movie\",\"Movie\",\"TV Show\",\"Movie\",\"TV Show\",\"TV Show\",\"TV Show\",\"Movie\",\"TV Show\",\"Movie\",\"Movie\",\"Movie\",\"Movie\",\"Movie\",\"Movie\",\"Movie\",\"Movie\",\"Movie\",\"Movie\",\"Movie\",\"Movie\",\"Movie\",\"Movie\",\"Movie\",\"Movie\",\"Movie\",\"Movie\",\"Movie\",\"Movie\",\"Movie\",\"TV Show\",\"Movie\",\"Movie\",\"Movie\",\"Movie\",\"TV Show\",\"TV Show\",\"Movie\",\"Movie\",\"TV Show\",\"TV Show\",\"Movie\",\"Movie\",\"Movie\",\"Movie\",\"TV Show\",\"Movie\",\"TV Show\",\"Movie\",\"TV Show\",\"Movie\",\"Movie\",\"Movie\",\"Movie\",\"Movie\",\"Movie\",\"Movie\",\"Movie\",\"TV Show\",\"Movie\",\"Movie\",\"TV Show\",\"Movie\",\"Movie\",\"TV Show\",\"Movie\",\"Movie\",\"Movie\",\"Movie\",\"Movie\",\"TV Show\",\"TV Show\",\"Movie\",\"Movie\",\"Movie\",\"Movie\",\"Movie\",\"TV Show\",\"Movie\",\"Movie\",\"Movie\",\"Movie\",\"TV Show\",\"TV Show\",\"Movie\",\"Movie\",\"Movie\",\"TV Show\",\"Movie\",\"Movie\",\"Movie\",\"Movie\",\"TV Show\",\"TV Show\",\"Movie\",\"TV Show\",\"Movie\",\"Movie\",\"TV Show\",\"Movie\",\"Movie\",\"Movie\",\"TV Show\",\"Movie\",\"TV Show\",\"Movie\",\"Movie\",\"Movie\",\"TV Show\",\"TV Show\",\"Movie\",\"Movie\",\"Movie\",\"Movie\",\"TV Show\",\"TV Show\",\"TV Show\",\"TV Show\",\"TV Show\",\"TV Show\",\"TV Show\",\"TV Show\",\"TV Show\",\"Movie\",\"TV Show\",\"TV Show\",\"TV Show\",\"TV Show\",\"TV Show\",\"TV Show\",\"TV Show\",\"TV Show\",\"TV Show\",\"Movie\",\"Movie\",\"TV Show\",\"Movie\",\"TV Show\",\"TV Show\",\"Movie\",\"TV Show\",\"TV Show\",\"TV Show\",\"TV Show\",\"TV Show\",\"TV Show\",\"Movie\",\"Movie\",\"TV Show\",\"TV Show\",\"TV Show\",\"TV Show\",\"TV Show\",\"TV Show\",\"TV Show\",\"Movie\",\"Movie\",\"Movie\",\"TV Show\",\"Movie\",\"Movie\",\"Movie\",\"Movie\",\"Movie\",\"Movie\",\"Movie\",\"Movie\",\"Movie\",\"Movie\",\"Movie\",\"TV Show\",\"Movie\",\"Movie\",\"Movie\",\"Movie\",\"Movie\",\"TV Show\",\"Movie\",\"Movie\",\"Movie\",\"Movie\",\"Movie\",\"TV Show\",\"Movie\",\"Movie\",\"Movie\",\"Movie\",\"Movie\",\"Movie\",\"Movie\",\"Movie\",\"Movie\",\"TV Show\",\"TV Show\",\"Movie\",\"TV Show\",\"Movie\",\"Movie\",\"Movie\",\"Movie\",\"Movie\",\"Movie\",\"Movie\",\"Movie\",\"Movie\",\"Movie\",\"Movie\",\"Movie\",\"Movie\",\"Movie\",\"Movie\",\"Movie\",\"Movie\",\"Movie\",\"Movie\",\"Movie\",\"Movie\",\"Movie\",\"Movie\",\"Movie\",\"Movie\",\"Movie\",\"TV Show\",\"Movie\",\"Movie\",\"TV Show\",\"TV Show\",\"Movie\",\"Movie\",\"Movie\",\"TV Show\",\"TV Show\",\"TV Show\",\"TV Show\",\"Movie\",\"Movie\",\"TV Show\",\"Movie\",\"Movie\",\"Movie\",\"Movie\",\"Movie\",\"TV Show\",\"TV Show\",\"TV Show\",\"TV Show\",\"Movie\",\"TV Show\",\"Movie\",\"Movie\",\"Movie\",\"Movie\",\"TV Show\",\"TV Show\",\"Movie\",\"Movie\",\"Movie\",\"Movie\",\"TV Show\",\"Movie\",\"Movie\",\"Movie\",\"TV Show\",\"TV Show\",\"TV Show\",\"TV Show\",\"TV Show\",\"TV Show\",\"TV Show\",\"TV Show\",\"TV Show\",\"TV Show\",\"TV Show\",\"TV Show\",\"TV Show\",\"Movie\",\"Movie\",\"Movie\",\"TV Show\",\"TV Show\",\"TV Show\",\"TV Show\",\"TV Show\",\"TV Show\",\"TV Show\",\"TV Show\",\"TV Show\",\"TV Show\",\"Movie\",\"TV Show\",\"Movie\",\"TV Show\",\"Movie\",\"Movie\",\"Movie\",\"Movie\",\"TV Show\",\"TV Show\",\"Movie\",\"Movie\",\"Movie\",\"TV Show\",\"TV Show\",\"Movie\",\"TV Show\",\"TV Show\",\"Movie\",\"Movie\",\"TV Show\",\"Movie\",\"Movie\",\"TV Show\",\"TV Show\",\"Movie\",\"TV Show\",\"TV Show\",\"Movie\",\"Movie\",\"TV Show\",\"TV Show\",\"TV Show\",\"Movie\",\"Movie\",\"Movie\",\"TV Show\",\"TV Show\",\"Movie\",\"Movie\",\"TV Show\",\"Movie\",\"TV Show\",\"TV Show\",\"Movie\",\"Movie\",\"Movie\",\"Movie\",\"TV Show\",\"Movie\",\"TV Show\",\"TV Show\",\"Movie\",\"Movie\",\"TV Show\",\"Movie\",\"Movie\",\"Movie\",\"Movie\",\"Movie\",\"Movie\",\"TV Show\",\"Movie\",\"Movie\",\"Movie\",\"TV Show\",\"TV Show\",\"Movie\",\"TV Show\",\"Movie\",\"TV Show\",\"Movie\",\"Movie\",\"Movie\",\"Movie\",\"TV Show\",\"Movie\",\"Movie\",\"TV Show\",\"Movie\",\"TV Show\",\"Movie\",\"Movie\",\"Movie\",\"TV Show\",\"Movie\",\"Movie\",\"Movie\",\"TV Show\",\"TV Show\",\"Movie\",\"Movie\",\"Movie\",\"Movie\",\"Movie\",\"TV Show\",\"Movie\",\"TV Show\",\"Movie\",\"Movie\",\"Movie\",\"Movie\",\"TV Show\",\"Movie\",\"Movie\",\"Movie\",\"TV Show\",\"Movie\",\"Movie\",\"Movie\",\"Movie\",\"Movie\",\"TV Show\",\"Movie\",\"Movie\",\"Movie\",\"Movie\",\"Movie\",\"Movie\",\"Movie\",\"TV Show\",\"Movie\",\"TV Show\",\"Movie\",\"Movie\",\"Movie\",\"Movie\",\"Movie\",\"Movie\",\"Movie\",\"TV Show\",\"Movie\",\"Movie\",\"Movie\",\"Movie\",\"Movie\",\"Movie\",\"TV Show\",\"Movie\",\"Movie\",\"Movie\",\"Movie\",\"TV Show\",\"Movie\",\"Movie\",\"Movie\",\"Movie\",\"TV Show\",\"TV Show\",\"TV Show\",\"TV Show\",\"Movie\",\"TV Show\",\"Movie\",\"TV Show\",\"Movie\",\"Movie\",\"Movie\",\"Movie\",\"TV Show\",\"TV Show\",\"Movie\",\"Movie\",\"Movie\",\"TV Show\",\"TV Show\",\"Movie\",\"Movie\",\"Movie\",\"Movie\",\"Movie\",\"Movie\",\"TV Show\",\"Movie\",\"TV Show\",\"Movie\",\"Movie\",\"Movie\",\"Movie\",\"TV Show\",\"Movie\",\"Movie\",\"Movie\",\"Movie\",\"Movie\",\"TV Show\",\"TV Show\",\"Movie\",\"Movie\",\"Movie\",\"Movie\",\"TV Show\",\"Movie\",\"TV Show\",\"Movie\",\"Movie\",\"TV Show\",\"TV Show\",\"Movie\",\"Movie\",\"TV Show\",\"TV Show\",\"Movie\",\"TV Show\",\"Movie\",\"Movie\",\"Movie\",\"TV Show\",\"Movie\",\"Movie\",\"Movie\",\"Movie\",\"Movie\",\"TV Show\",\"TV Show\",\"Movie\",\"Movie\",\"TV Show\",\"Movie\",\"TV Show\",\"Movie\",\"Movie\",\"Movie\",\"Movie\",\"Movie\",\"TV Show\",\"Movie\",\"Movie\",\"TV Show\",\"Movie\",\"Movie\",\"Movie\",\"Movie\",\"Movie\",\"Movie\",\"TV Show\",\"TV Show\",\"TV Show\",\"TV Show\",\"Movie\",\"TV Show\",\"Movie\",\"TV Show\",\"Movie\",\"TV Show\",\"Movie\",\"Movie\",\"Movie\",\"Movie\",\"Movie\",\"Movie\",\"Movie\",\"Movie\",\"TV Show\",\"Movie\",\"Movie\",\"Movie\",\"Movie\",\"Movie\",\"Movie\",\"Movie\",\"Movie\",\"Movie\",\"Movie\",\"Movie\",\"Movie\",\"Movie\",\"Movie\",\"Movie\",\"Movie\",\"Movie\",\"Movie\",\"Movie\",\"Movie\",\"TV Show\",\"Movie\",\"Movie\",\"TV Show\",\"Movie\",\"Movie\",\"TV Show\",\"Movie\",\"TV Show\",\"Movie\",\"TV Show\",\"TV Show\",\"Movie\",\"Movie\",\"Movie\",\"TV Show\",\"Movie\",\"Movie\",\"Movie\",\"Movie\",\"Movie\",\"Movie\",\"Movie\",\"Movie\",\"Movie\",\"Movie\",\"Movie\",\"Movie\",\"Movie\",\"Movie\",\"Movie\",\"TV Show\",\"Movie\",\"Movie\",\"Movie\",\"Movie\",\"TV Show\",\"Movie\",\"Movie\",\"Movie\",\"TV Show\",\"Movie\",\"Movie\",\"Movie\",\"Movie\",\"Movie\",\"TV Show\",\"TV Show\",\"Movie\",\"Movie\",\"Movie\",\"Movie\",\"Movie\",\"Movie\",\"Movie\",\"TV Show\",\"Movie\",\"TV Show\",\"Movie\",\"Movie\",\"Movie\",\"Movie\",\"Movie\",\"Movie\",\"Movie\",\"Movie\",\"Movie\",\"Movie\",\"TV Show\",\"Movie\",\"Movie\",\"Movie\",\"Movie\",\"Movie\",\"Movie\",\"TV Show\",\"Movie\",\"Movie\",\"Movie\",\"Movie\",\"Movie\",\"TV Show\",\"Movie\",\"TV Show\",\"Movie\",\"TV Show\",\"TV Show\",\"TV Show\",\"TV Show\",\"Movie\",\"TV Show\",\"TV Show\",\"TV Show\",\"Movie\",\"TV Show\",\"Movie\",\"Movie\",\"Movie\",\"Movie\",\"TV Show\",\"TV Show\",\"TV Show\",\"TV Show\",\"TV Show\",\"TV Show\",\"TV Show\",\"TV Show\",\"TV Show\",\"TV Show\",\"Movie\",\"TV Show\",\"TV Show\",\"Movie\",\"Movie\",\"Movie\",\"Movie\",\"Movie\",\"Movie\",\"TV Show\",\"Movie\",\"Movie\",\"Movie\",\"TV Show\",\"Movie\",\"TV Show\",\"TV Show\",\"Movie\",\"TV Show\",\"Movie\",\"Movie\",\"Movie\",\"Movie\",\"Movie\",\"Movie\",\"TV Show\",\"Movie\",\"TV Show\",\"TV Show\",\"TV Show\",\"Movie\",\"Movie\",\"Movie\",\"Movie\",\"Movie\",\"Movie\",\"Movie\",\"Movie\",\"Movie\",\"Movie\",\"Movie\",\"Movie\",\"Movie\",\"Movie\",\"Movie\",\"Movie\",\"Movie\",\"Movie\",\"Movie\",\"Movie\",\"TV Show\",\"Movie\",\"Movie\",\"Movie\",\"Movie\",\"Movie\",\"Movie\",\"TV Show\",\"Movie\",\"TV Show\",\"Movie\",\"TV Show\",\"Movie\",\"TV Show\",\"Movie\",\"Movie\",\"Movie\",\"Movie\",\"Movie\",\"Movie\",\"Movie\",\"Movie\",\"Movie\",\"Movie\",\"Movie\",\"Movie\",\"Movie\",\"TV Show\",\"Movie\",\"Movie\",\"TV Show\",\"Movie\",\"TV Show\",\"TV Show\",\"Movie\",\"Movie\",\"TV Show\",\"Movie\",\"Movie\",\"Movie\",\"Movie\",\"Movie\",\"TV Show\",\"Movie\",\"Movie\",\"Movie\",\"Movie\",\"TV Show\",\"Movie\",\"Movie\",\"TV Show\",\"Movie\",\"TV Show\",\"TV Show\",\"Movie\",\"Movie\",\"Movie\",\"TV Show\",\"TV Show\",\"Movie\",\"Movie\",\"Movie\",\"Movie\",\"TV Show\",\"TV Show\",\"TV Show\",\"TV Show\",\"Movie\",\"Movie\",\"Movie\",\"TV Show\",\"Movie\",\"Movie\",\"Movie\",\"Movie\",\"Movie\",\"Movie\",\"Movie\",\"Movie\",\"Movie\",\"TV Show\",\"Movie\",\"Movie\",\"Movie\",\"TV Show\",\"TV Show\",\"Movie\",\"Movie\",\"Movie\",\"TV Show\",\"TV Show\",\"Movie\",\"Movie\",\"Movie\",\"TV Show\",\"Movie\",\"Movie\",\"TV Show\",\"Movie\",\"Movie\",\"Movie\",\"TV Show\",\"Movie\",\"Movie\",\"Movie\",\"Movie\",\"Movie\",\"TV Show\",\"TV Show\",\"TV Show\",\"TV Show\",\"TV Show\",\"Movie\",\"TV Show\",\"Movie\",\"TV Show\",\"Movie\",\"Movie\",\"TV Show\",\"TV Show\",\"Movie\",\"Movie\",\"TV Show\",\"Movie\",\"Movie\",\"Movie\",\"TV Show\",\"Movie\",\"Movie\",\"TV Show\",\"TV Show\",\"Movie\",\"Movie\",\"Movie\",\"Movie\",\"Movie\",\"Movie\",\"Movie\",\"Movie\",\"Movie\",\"Movie\",\"TV Show\",\"Movie\",\"Movie\",\"Movie\",\"Movie\",\"Movie\",\"Movie\",\"Movie\",\"Movie\",\"Movie\",\"Movie\",\"TV Show\",\"Movie\",\"TV Show\",\"TV Show\",\"TV Show\",\"Movie\",\"TV Show\",\"TV Show\",\"Movie\",\"TV Show\",\"Movie\",\"Movie\",\"Movie\",\"Movie\",\"TV Show\",\"Movie\",\"Movie\",\"TV Show\",\"Movie\",\"Movie\",\"Movie\",\"Movie\",\"Movie\",\"Movie\",\"Movie\",\"TV Show\",\"TV Show\",\"Movie\",\"TV Show\",\"Movie\",\"TV Show\",\"TV Show\",\"TV Show\",\"TV Show\",\"TV Show\",\"Movie\",\"Movie\",\"Movie\",\"TV Show\",\"Movie\",\"TV Show\",\"Movie\",\"TV Show\",\"Movie\",\"Movie\",\"TV Show\",\"TV Show\",\"Movie\",\"Movie\",\"TV Show\",\"Movie\",\"Movie\",\"TV Show\",\"TV Show\",\"Movie\",\"Movie\",\"Movie\",\"Movie\",\"Movie\",\"Movie\",\"TV Show\",\"Movie\",\"Movie\",\"TV Show\",\"TV Show\",\"Movie\",\"Movie\",\"TV Show\",\"Movie\",\"Movie\",\"TV Show\",\"TV Show\",\"Movie\",\"Movie\",\"Movie\",\"Movie\",\"Movie\",\"Movie\",\"Movie\",\"Movie\",\"TV Show\",\"TV Show\",\"TV Show\",\"Movie\",\"TV Show\",\"Movie\",\"TV Show\",\"TV Show\",\"TV Show\",\"Movie\",\"Movie\",\"Movie\",\"TV Show\",\"TV Show\",\"TV Show\",\"TV Show\",\"Movie\",\"TV Show\",\"Movie\",\"Movie\",\"Movie\",\"Movie\",\"Movie\",\"TV Show\",\"Movie\",\"TV Show\",\"Movie\",\"TV Show\",\"Movie\",\"TV Show\",\"Movie\",\"Movie\",\"TV Show\",\"Movie\",\"Movie\",\"TV Show\",\"TV Show\",\"TV Show\",\"Movie\",\"Movie\",\"Movie\",\"Movie\",\"Movie\",\"Movie\",\"TV Show\",\"Movie\",\"TV Show\",\"TV Show\",\"Movie\",\"Movie\",\"Movie\",\"Movie\",\"TV Show\",\"TV Show\",\"TV Show\",\"Movie\",\"TV Show\",\"Movie\",\"Movie\",\"Movie\",\"TV Show\",\"Movie\",\"Movie\",\"Movie\",\"Movie\",\"Movie\",\"Movie\",\"Movie\",\"TV Show\",\"Movie\",\"Movie\",\"TV Show\",\"Movie\",\"Movie\",\"Movie\",\"Movie\",\"Movie\",\"Movie\",\"Movie\",\"TV Show\",\"Movie\",\"TV Show\",\"TV Show\",\"Movie\",\"TV Show\",\"Movie\",\"Movie\",\"Movie\",\"Movie\",\"TV Show\",\"Movie\",\"TV Show\",\"TV Show\",\"Movie\",\"TV Show\",\"TV Show\",\"Movie\",\"Movie\",\"Movie\",\"Movie\",\"TV Show\",\"TV Show\",\"Movie\",\"Movie\",\"Movie\",\"Movie\",\"Movie\",\"TV Show\",\"Movie\",\"TV Show\",\"Movie\",\"Movie\",\"TV Show\",\"Movie\",\"TV Show\",\"TV Show\",\"Movie\",\"TV Show\",\"Movie\",\"Movie\",\"Movie\",\"Movie\",\"Movie\",\"Movie\",\"Movie\",\"TV Show\",\"Movie\",\"Movie\",\"TV Show\",\"TV Show\",\"TV Show\",\"TV Show\",\"TV Show\",\"Movie\",\"TV Show\",\"TV Show\",\"Movie\",\"Movie\",\"Movie\",\"TV Show\",\"Movie\",\"TV Show\",\"Movie\",\"Movie\",\"TV Show\",\"Movie\",\"Movie\",\"Movie\",\"Movie\",\"Movie\",\"Movie\",\"Movie\",\"Movie\",\"Movie\",\"Movie\",\"TV Show\",\"Movie\",\"TV Show\",\"TV Show\",\"Movie\",\"TV Show\",\"Movie\",\"Movie\",\"Movie\",\"Movie\",\"Movie\",\"TV Show\",\"Movie\",\"TV Show\",\"Movie\",\"Movie\",\"Movie\",\"TV Show\",\"Movie\",\"Movie\",\"Movie\",\"Movie\",\"Movie\",\"Movie\",\"TV Show\",\"TV Show\",\"Movie\",\"TV Show\",\"Movie\",\"TV Show\",\"TV Show\",\"Movie\",\"TV Show\",\"Movie\",\"Movie\",\"TV Show\",\"TV Show\",\"Movie\",\"TV Show\",\"Movie\",\"TV Show\",\"Movie\",\"TV Show\",\"TV Show\",\"TV Show\",\"TV Show\",\"Movie\",\"Movie\",\"TV Show\",\"TV Show\",\"Movie\",\"TV Show\",\"TV Show\",\"Movie\",\"Movie\",\"Movie\",\"TV Show\",\"Movie\",\"Movie\",\"TV Show\",\"Movie\",\"TV Show\",\"Movie\",\"Movie\",\"Movie\",\"Movie\",\"TV Show\",\"TV Show\",\"Movie\",\"TV Show\",\"TV Show\",\"TV Show\",\"Movie\",\"Movie\",\"Movie\",\"TV Show\",\"TV Show\",\"Movie\",\"Movie\",\"Movie\",\"TV Show\",\"Movie\",\"TV Show\",\"TV Show\",\"TV Show\",\"Movie\",\"TV Show\",\"TV Show\",\"Movie\",\"Movie\",\"TV Show\",\"Movie\",\"Movie\",\"TV Show\",\"Movie\",\"Movie\",\"Movie\",\"Movie\",\"Movie\",\"Movie\",\"TV Show\",\"Movie\",\"TV Show\",\"Movie\",\"Movie\",\"Movie\",\"Movie\",\"Movie\",\"TV Show\",\"Movie\",\"Movie\",\"TV Show\",\"TV Show\",\"Movie\",\"Movie\",\"TV Show\",\"TV Show\",\"Movie\",\"Movie\",\"TV Show\",\"TV Show\",\"Movie\",\"TV Show\",\"Movie\",\"TV Show\",\"TV Show\",\"Movie\",\"Movie\",\"Movie\",\"Movie\",\"Movie\",\"TV Show\",\"Movie\",\"Movie\",\"Movie\",\"TV Show\",\"TV Show\",\"TV Show\",\"TV Show\",\"Movie\",\"Movie\",\"Movie\",\"Movie\",\"Movie\",\"Movie\",\"Movie\",\"TV Show\",\"Movie\",\"Movie\",\"Movie\",\"Movie\",\"TV Show\",\"Movie\",\"Movie\",\"Movie\",\"TV Show\",\"Movie\",\"Movie\",\"TV Show\",\"Movie\",\"Movie\",\"Movie\",\"Movie\",\"Movie\",\"TV Show\",\"TV Show\",\"Movie\",\"TV Show\",\"Movie\",\"TV Show\",\"Movie\",\"Movie\",\"Movie\",\"Movie\",\"Movie\",\"Movie\",\"Movie\",\"Movie\",\"Movie\",\"Movie\",\"Movie\",\"TV Show\",\"Movie\",\"Movie\",\"TV Show\",\"TV Show\",\"Movie\",\"Movie\",\"Movie\",\"TV Show\",\"TV Show\",\"Movie\",\"Movie\",\"TV Show\",\"TV Show\",\"TV Show\",\"Movie\",\"Movie\",\"TV Show\",\"Movie\",\"Movie\",\"Movie\",\"Movie\",\"TV Show\",\"Movie\",\"TV Show\",\"Movie\",\"Movie\",\"TV Show\",\"Movie\",\"Movie\",\"Movie\",\"TV Show\",\"TV Show\",\"TV Show\",\"TV Show\",\"Movie\",\"Movie\",\"TV Show\",\"TV Show\",\"TV Show\",\"TV Show\",\"Movie\",\"TV Show\",\"Movie\",\"Movie\",\"Movie\",\"TV Show\",\"Movie\",\"Movie\",\"TV Show\",\"Movie\",\"Movie\",\"Movie\",\"TV Show\",\"Movie\",\"Movie\",\"TV Show\",\"Movie\",\"Movie\",\"Movie\",\"Movie\",\"Movie\",\"TV Show\",\"Movie\",\"TV Show\",\"Movie\",\"TV Show\",\"Movie\",\"Movie\",\"Movie\",\"TV Show\",\"TV Show\",\"TV Show\",\"TV Show\",\"TV Show\",\"TV Show\",\"TV Show\",\"Movie\",\"Movie\",\"Movie\",\"Movie\",\"TV Show\",\"TV Show\",\"Movie\",\"Movie\",\"TV Show\",\"Movie\",\"TV Show\",\"Movie\",\"TV Show\",\"Movie\",\"Movie\",\"Movie\",\"Movie\",\"TV Show\",\"TV Show\",\"Movie\",\"TV Show\",\"TV Show\",\"Movie\",\"Movie\",\"Movie\",\"Movie\",\"Movie\",\"Movie\",\"Movie\",\"TV Show\",\"TV Show\",\"Movie\",\"Movie\",\"TV Show\",\"Movie\",\"Movie\",\"Movie\",\"Movie\",\"TV Show\",\"TV Show\",\"Movie\",\"Movie\",\"TV Show\",\"TV Show\",\"Movie\",\"Movie\",\"Movie\",\"Movie\",\"Movie\",\"Movie\",\"Movie\",\"Movie\",\"TV Show\",\"Movie\",\"Movie\",\"Movie\",\"Movie\",\"Movie\",\"Movie\",\"Movie\",\"Movie\",\"Movie\",\"Movie\",\"Movie\",\"Movie\",\"Movie\",\"Movie\",\"TV Show\",\"Movie\",\"Movie\",\"Movie\",\"Movie\",\"Movie\",\"TV Show\",\"Movie\",\"Movie\",\"TV Show\",\"Movie\",\"TV Show\",\"TV Show\",\"TV Show\",\"Movie\",\"Movie\",\"Movie\",\"Movie\",\"Movie\",\"TV Show\",\"TV Show\",\"Movie\",\"Movie\",\"TV Show\",\"TV Show\",\"Movie\",\"TV Show\",\"Movie\",\"Movie\",\"Movie\",\"Movie\",\"Movie\",\"TV Show\",\"Movie\",\"Movie\",\"Movie\",\"TV Show\",\"Movie\",\"Movie\",\"Movie\",\"TV Show\",\"Movie\",\"Movie\",\"Movie\",\"Movie\",\"TV Show\",\"Movie\",\"TV Show\",\"Movie\",\"TV Show\",\"TV Show\",\"Movie\",\"TV Show\",\"Movie\",\"Movie\",\"Movie\",\"Movie\",\"TV Show\",\"Movie\",\"Movie\",\"Movie\",\"TV Show\",\"TV Show\",\"Movie\",\"Movie\",\"TV Show\",\"TV Show\",\"TV Show\",\"Movie\",\"Movie\",\"Movie\",\"Movie\",\"Movie\",\"Movie\",\"Movie\",\"Movie\",\"Movie\",\"Movie\",\"TV Show\",\"TV Show\",\"TV Show\",\"Movie\",\"TV Show\",\"Movie\",\"Movie\",\"Movie\",\"TV Show\",\"TV Show\",\"Movie\",\"TV Show\",\"TV Show\",\"Movie\",\"Movie\",\"Movie\",\"TV Show\",\"TV Show\",\"Movie\",\"TV Show\",\"Movie\",\"Movie\",\"TV Show\",\"TV Show\",\"Movie\",\"Movie\",\"Movie\",\"TV Show\",\"Movie\",\"Movie\",\"Movie\",\"Movie\",\"Movie\",\"Movie\",\"Movie\",\"Movie\",\"Movie\",\"Movie\",\"Movie\",\"Movie\",\"Movie\",\"TV Show\",\"TV Show\",\"TV Show\",\"Movie\",\"TV Show\",\"TV Show\",\"Movie\",\"TV Show\",\"TV Show\",\"Movie\",\"Movie\",\"TV Show\",\"Movie\",\"Movie\",\"TV Show\",\"Movie\",\"Movie\",\"Movie\",\"Movie\",\"Movie\",\"Movie\",\"Movie\",\"Movie\",\"Movie\",\"Movie\",\"Movie\",\"TV Show\",\"Movie\",\"Movie\",\"Movie\",\"Movie\",\"TV Show\",\"TV Show\",\"TV Show\",\"Movie\",\"Movie\",\"TV Show\",\"Movie\",\"Movie\",\"Movie\",\"Movie\",\"TV Show\",\"TV Show\",\"TV Show\",\"TV Show\",\"Movie\",\"TV Show\",\"TV Show\",\"Movie\",\"Movie\",\"Movie\",\"TV Show\",\"Movie\",\"Movie\",\"Movie\",\"TV Show\",\"Movie\",\"Movie\",\"Movie\",\"TV Show\",\"Movie\",\"TV Show\",\"TV Show\",\"Movie\",\"Movie\",\"TV Show\",\"TV Show\",\"Movie\",\"Movie\",\"Movie\",\"Movie\",\"Movie\",\"Movie\",\"Movie\",\"TV Show\",\"TV Show\",\"Movie\",\"Movie\",\"Movie\",\"Movie\",\"Movie\",\"Movie\",\"Movie\",\"Movie\",\"Movie\",\"TV Show\",\"TV Show\",\"Movie\",\"Movie\",\"Movie\",\"TV Show\",\"Movie\",\"Movie\",\"TV Show\",\"Movie\",\"TV Show\",\"Movie\",\"TV Show\",\"Movie\",\"Movie\",\"TV Show\",\"Movie\",\"Movie\",\"Movie\",\"Movie\",\"Movie\",\"TV Show\",\"TV Show\",\"Movie\",\"Movie\",\"Movie\",\"TV Show\",\"Movie\",\"Movie\",\"Movie\",\"TV Show\",\"TV Show\",\"TV Show\",\"Movie\",\"TV Show\",\"Movie\",\"TV Show\",\"TV Show\",\"TV Show\",\"Movie\",\"Movie\",\"TV Show\",\"Movie\",\"Movie\",\"Movie\",\"Movie\",\"TV Show\",\"Movie\",\"TV Show\",\"Movie\",\"Movie\",\"Movie\",\"Movie\",\"TV Show\",\"TV Show\",\"Movie\",\"Movie\",\"TV Show\",\"Movie\",\"Movie\",\"Movie\",\"TV Show\",\"Movie\",\"Movie\",\"TV Show\",\"Movie\",\"TV Show\",\"TV Show\",\"Movie\",\"TV Show\",\"TV Show\",\"Movie\",\"Movie\",\"TV Show\",\"TV Show\",\"Movie\",\"TV Show\",\"Movie\",\"Movie\",\"Movie\",\"TV Show\",\"TV Show\",\"Movie\",\"Movie\",\"Movie\",\"Movie\",\"TV Show\",\"Movie\",\"Movie\",\"Movie\",\"TV Show\",\"TV Show\",\"TV Show\",\"TV Show\",\"Movie\",\"TV Show\",\"Movie\",\"Movie\",\"Movie\",\"Movie\",\"Movie\",\"TV Show\",\"TV Show\",\"TV Show\",\"TV Show\",\"Movie\",\"Movie\",\"Movie\",\"TV Show\",\"Movie\",\"Movie\",\"Movie\",\"TV Show\",\"TV Show\",\"Movie\",\"Movie\",\"TV Show\",\"Movie\",\"Movie\",\"TV Show\",\"TV Show\",\"TV Show\",\"Movie\",\"Movie\",\"TV Show\",\"TV Show\",\"TV Show\",\"Movie\",\"TV Show\",\"Movie\",\"TV Show\",\"Movie\",\"Movie\",\"TV Show\",\"Movie\",\"Movie\",\"TV Show\",\"Movie\",\"TV Show\",\"Movie\",\"Movie\",\"TV Show\",\"TV Show\",\"TV Show\",\"Movie\",\"Movie\",\"TV Show\",\"Movie\",\"TV Show\",\"TV Show\",\"Movie\",\"Movie\",\"TV Show\",\"Movie\",\"Movie\",\"Movie\",\"Movie\",\"TV Show\",\"TV Show\",\"Movie\",\"TV Show\",\"Movie\",\"TV Show\",\"Movie\",\"Movie\",\"Movie\",\"Movie\",\"Movie\",\"Movie\",\"TV Show\",\"Movie\",\"TV Show\",\"Movie\",\"Movie\",\"Movie\",\"Movie\",\"Movie\",\"Movie\",\"Movie\",\"Movie\",\"TV Show\",\"Movie\",\"TV Show\",\"Movie\",\"Movie\",\"TV Show\",\"TV Show\",\"Movie\",\"Movie\",\"Movie\",\"TV Show\",\"TV Show\",\"Movie\",\"TV Show\",\"TV Show\",\"TV Show\",\"Movie\",\"TV Show\",\"TV Show\",\"Movie\",\"Movie\",\"Movie\",\"Movie\",\"TV Show\",\"Movie\",\"TV Show\",\"TV Show\",\"Movie\",\"Movie\",\"TV Show\",\"Movie\",\"Movie\",\"Movie\",\"TV Show\",\"TV Show\",\"Movie\",\"Movie\",\"TV Show\",\"Movie\",\"TV Show\",\"Movie\",\"TV Show\",\"TV Show\",\"TV Show\",\"Movie\",\"Movie\",\"TV Show\",\"Movie\",\"Movie\",\"Movie\",\"Movie\",\"Movie\",\"Movie\",\"Movie\",\"Movie\",\"Movie\",\"Movie\",\"Movie\",\"Movie\",\"Movie\",\"Movie\",\"Movie\",\"Movie\",\"TV Show\",\"Movie\",\"Movie\",\"Movie\",\"Movie\",\"Movie\",\"Movie\",\"Movie\",\"Movie\",\"Movie\",\"Movie\",\"Movie\",\"Movie\",\"Movie\",\"Movie\",\"Movie\",\"Movie\",\"TV Show\",\"TV Show\",\"Movie\",\"Movie\",\"Movie\",\"TV Show\",\"TV Show\",\"TV Show\",\"Movie\",\"TV Show\",\"Movie\",\"TV Show\",\"Movie\",\"TV Show\",\"TV Show\",\"TV Show\",\"Movie\",\"Movie\",\"Movie\",\"Movie\",\"Movie\",\"TV Show\",\"Movie\",\"Movie\",\"Movie\",\"Movie\",\"TV Show\",\"Movie\",\"TV Show\",\"Movie\",\"TV Show\",\"Movie\",\"Movie\",\"Movie\",\"Movie\",\"TV Show\",\"Movie\",\"TV Show\",\"Movie\",\"TV Show\",\"Movie\",\"Movie\",\"Movie\",\"Movie\",\"Movie\",\"TV Show\",\"Movie\",\"Movie\",\"Movie\",\"Movie\",\"Movie\",\"TV Show\",\"Movie\",\"Movie\",\"TV Show\",\"Movie\",\"Movie\",\"TV Show\",\"Movie\",\"Movie\",\"TV Show\",\"Movie\",\"Movie\",\"Movie\",\"Movie\",\"TV Show\",\"Movie\",\"TV Show\",\"Movie\",\"Movie\",\"TV Show\",\"Movie\",\"Movie\",\"Movie\",\"Movie\",\"Movie\",\"Movie\",\"Movie\",\"Movie\",\"Movie\",\"Movie\",\"Movie\",\"Movie\",\"Movie\",\"Movie\",\"Movie\",\"TV Show\",\"Movie\",\"Movie\",\"Movie\",\"Movie\",\"TV Show\",\"Movie\",\"Movie\",\"Movie\",\"Movie\",\"TV Show\",\"Movie\",\"TV Show\",\"Movie\",\"Movie\",\"Movie\",\"TV Show\",\"TV Show\",\"TV Show\",\"Movie\",\"Movie\",\"TV Show\",\"TV Show\",\"TV Show\",\"Movie\",\"Movie\",\"TV Show\",\"TV Show\",\"TV Show\",\"Movie\",\"TV Show\",\"TV Show\",\"Movie\",\"Movie\",\"Movie\",\"Movie\",\"Movie\",\"TV Show\",\"Movie\",\"TV Show\",\"Movie\",\"Movie\",\"Movie\",\"Movie\",\"TV Show\",\"TV Show\",\"Movie\",\"Movie\",\"TV Show\",\"Movie\",\"Movie\",\"Movie\",\"Movie\",\"Movie\",\"TV Show\",\"Movie\",\"Movie\",\"Movie\",\"Movie\",\"Movie\",\"Movie\",\"Movie\",\"Movie\",\"Movie\",\"Movie\",\"Movie\",\"TV Show\",\"Movie\",\"Movie\",\"TV Show\",\"Movie\",\"TV Show\",\"TV Show\",\"Movie\",\"TV Show\",\"TV Show\",\"Movie\",\"Movie\",\"Movie\",\"Movie\",\"Movie\",\"TV Show\",\"Movie\",\"TV Show\",\"TV Show\",\"Movie\",\"Movie\",\"Movie\",\"TV Show\",\"Movie\",\"Movie\",\"Movie\",\"TV Show\",\"Movie\",\"TV Show\",\"TV Show\",\"Movie\",\"Movie\",\"TV Show\",\"Movie\",\"Movie\",\"Movie\",\"TV Show\",\"Movie\",\"Movie\",\"Movie\",\"Movie\",\"Movie\",\"TV Show\",\"Movie\",\"Movie\",\"Movie\",\"Movie\",\"Movie\",\"Movie\",\"Movie\",\"Movie\",\"TV Show\",\"Movie\",\"Movie\",\"Movie\",\"TV Show\",\"Movie\",\"Movie\",\"Movie\",\"Movie\",\"Movie\",\"Movie\",\"Movie\",\"TV Show\",\"TV Show\",\"Movie\",\"Movie\",\"Movie\",\"Movie\",\"Movie\",\"TV Show\",\"TV Show\",\"Movie\",\"TV Show\",\"TV Show\",\"TV Show\",\"Movie\",\"Movie\",\"TV Show\",\"TV Show\",\"TV Show\",\"TV Show\",\"TV Show\",\"TV Show\",\"TV Show\",\"TV Show\",\"TV Show\",\"Movie\",\"Movie\",\"Movie\",\"Movie\",\"Movie\",\"Movie\",\"Movie\",\"Movie\",\"Movie\",\"Movie\",\"Movie\",\"TV Show\",\"Movie\",\"Movie\",\"Movie\",\"TV Show\",\"Movie\",\"TV Show\",\"Movie\",\"Movie\",\"TV Show\",\"TV Show\",\"TV Show\",\"TV Show\",\"Movie\",\"Movie\",\"TV Show\",\"Movie\",\"Movie\",\"Movie\",\"Movie\",\"Movie\",\"Movie\",\"Movie\",\"TV Show\",\"Movie\",\"Movie\",\"TV Show\",\"TV Show\",\"Movie\",\"Movie\",\"Movie\",\"Movie\",\"TV Show\",\"TV Show\",\"Movie\",\"Movie\",\"Movie\",\"Movie\",\"TV Show\",\"Movie\",\"Movie\",\"TV Show\",\"Movie\",\"TV Show\",\"TV Show\",\"Movie\",\"TV Show\",\"Movie\",\"TV Show\",\"Movie\",\"Movie\",\"Movie\",\"Movie\",\"Movie\",\"Movie\",\"Movie\",\"TV Show\",\"TV Show\",\"TV Show\",\"Movie\",\"TV Show\",\"TV Show\",\"Movie\",\"Movie\",\"TV Show\",\"Movie\",\"Movie\",\"TV Show\",\"Movie\",\"TV Show\",\"Movie\",\"Movie\",\"Movie\",\"Movie\",\"Movie\",\"Movie\",\"Movie\",\"Movie\",\"Movie\",\"Movie\",\"Movie\",\"Movie\",\"Movie\",\"Movie\",\"Movie\",\"TV Show\",\"TV Show\",\"Movie\",\"Movie\",\"TV Show\",\"Movie\",\"Movie\",\"Movie\",\"Movie\",\"Movie\",\"Movie\",\"Movie\",\"TV Show\",\"TV Show\",\"TV Show\",\"Movie\",\"TV Show\",\"Movie\",\"TV Show\",\"Movie\",\"Movie\",\"TV Show\",\"Movie\",\"Movie\",\"TV Show\",\"Movie\",\"Movie\",\"Movie\",\"Movie\",\"Movie\",\"TV Show\",\"TV Show\",\"TV Show\",\"TV Show\",\"TV Show\",\"TV Show\",\"Movie\",\"TV Show\",\"TV Show\",\"TV Show\",\"Movie\",\"Movie\",\"TV Show\",\"TV Show\",\"Movie\",\"Movie\",\"Movie\",\"Movie\",\"TV Show\",\"TV Show\",\"Movie\",\"Movie\",\"Movie\",\"Movie\",\"Movie\",\"Movie\",\"Movie\",\"TV Show\",\"Movie\",\"Movie\",\"Movie\",\"Movie\",\"Movie\",\"Movie\",\"TV Show\",\"Movie\",\"Movie\",\"Movie\",\"Movie\",\"TV Show\",\"Movie\",\"TV Show\",\"TV Show\",\"Movie\",\"Movie\",\"Movie\",\"Movie\",\"Movie\",\"Movie\",\"Movie\",\"Movie\",\"TV Show\",\"Movie\",\"TV Show\",\"Movie\",\"Movie\",\"Movie\",\"Movie\",\"Movie\",\"Movie\",\"Movie\",\"TV Show\",\"Movie\",\"Movie\",\"Movie\",\"Movie\",\"Movie\",\"Movie\",\"Movie\",\"Movie\",\"TV Show\",\"Movie\",\"Movie\",\"Movie\",\"Movie\",\"Movie\",\"Movie\",\"Movie\",\"Movie\",\"TV Show\",\"Movie\",\"Movie\",\"TV Show\",\"TV Show\",\"Movie\",\"TV Show\",\"TV Show\",\"Movie\",\"Movie\",\"TV Show\",\"Movie\",\"TV Show\",\"Movie\",\"Movie\",\"TV Show\",\"TV Show\",\"Movie\",\"Movie\",\"Movie\",\"Movie\",\"Movie\",\"Movie\",\"TV Show\",\"Movie\",\"TV Show\",\"Movie\",\"Movie\",\"TV Show\",\"TV Show\",\"Movie\",\"TV Show\",\"Movie\",\"Movie\",\"Movie\",\"Movie\",\"TV Show\",\"Movie\",\"TV Show\",\"Movie\",\"Movie\",\"TV Show\",\"Movie\",\"Movie\",\"Movie\",\"Movie\",\"Movie\",\"TV Show\",\"TV Show\",\"TV Show\",\"Movie\",\"TV Show\",\"TV Show\",\"Movie\",\"TV Show\",\"TV Show\",\"TV Show\",\"TV Show\",\"TV Show\",\"TV Show\",\"Movie\",\"TV Show\",\"Movie\",\"Movie\",\"Movie\",\"Movie\",\"TV Show\",\"Movie\",\"TV Show\",\"Movie\",\"Movie\",\"TV Show\",\"TV Show\",\"Movie\",\"Movie\",\"Movie\",\"Movie\",\"TV Show\",\"Movie\",\"Movie\",\"TV Show\",\"Movie\",\"TV Show\",\"Movie\",\"Movie\",\"TV Show\",\"Movie\",\"Movie\",\"TV Show\",\"TV Show\",\"TV Show\",\"TV Show\",\"Movie\",\"Movie\",\"Movie\",\"Movie\",\"Movie\",\"Movie\",\"Movie\",\"Movie\",\"Movie\",\"Movie\",\"TV Show\",\"Movie\",\"Movie\",\"TV Show\",\"Movie\",\"Movie\",\"Movie\",\"Movie\",\"TV Show\",\"Movie\",\"Movie\",\"Movie\",\"Movie\",\"Movie\",\"Movie\",\"Movie\",\"TV Show\",\"TV Show\",\"Movie\",\"TV Show\",\"Movie\",\"Movie\",\"Movie\",\"Movie\",\"Movie\",\"Movie\",\"Movie\",\"Movie\",\"Movie\",\"Movie\",\"TV Show\",\"Movie\",\"TV Show\",\"TV Show\",\"TV Show\",\"Movie\",\"TV Show\",\"TV Show\",\"Movie\",\"TV Show\",\"Movie\",\"Movie\",\"TV Show\",\"Movie\",\"Movie\",\"TV Show\",\"Movie\",\"Movie\",\"Movie\",\"Movie\",\"TV Show\",\"Movie\",\"TV Show\",\"TV Show\",\"TV Show\",\"TV Show\",\"TV Show\",\"Movie\",\"Movie\",\"Movie\",\"Movie\",\"Movie\",\"TV Show\",\"Movie\",\"TV Show\",\"Movie\",\"Movie\",\"Movie\",\"TV Show\",\"Movie\",\"Movie\",\"Movie\",\"TV Show\",\"Movie\",\"Movie\",\"Movie\",\"Movie\",\"Movie\",\"Movie\",\"TV Show\",\"Movie\",\"Movie\",\"TV Show\",\"TV Show\",\"TV Show\",\"TV Show\",\"Movie\",\"Movie\",\"TV Show\",\"Movie\",\"Movie\",\"Movie\",\"Movie\",\"TV Show\",\"Movie\",\"Movie\",\"Movie\",\"Movie\",\"Movie\",\"TV Show\",\"TV Show\",\"Movie\",\"Movie\",\"TV Show\",\"TV Show\",\"Movie\",\"TV Show\",\"TV Show\",\"Movie\",\"TV Show\",\"TV Show\",\"Movie\",\"Movie\",\"Movie\",\"Movie\",\"TV Show\",\"Movie\",\"Movie\",\"Movie\",\"Movie\",\"TV Show\",\"TV Show\",\"Movie\",\"Movie\",\"TV Show\",\"Movie\",\"Movie\",\"TV Show\",\"TV Show\",\"TV Show\",\"Movie\",\"Movie\",\"Movie\",\"TV Show\",\"Movie\",\"Movie\",\"TV Show\",\"Movie\",\"TV Show\",\"TV Show\",\"Movie\",\"TV Show\",\"TV Show\",\"Movie\",\"TV Show\",\"TV Show\",\"TV Show\",\"Movie\",\"Movie\",\"Movie\",\"Movie\",\"Movie\",\"Movie\",\"TV Show\",\"TV Show\",\"TV Show\",\"TV Show\",\"Movie\",\"Movie\",\"TV Show\",\"TV Show\",\"TV Show\",\"TV Show\",\"TV Show\",\"Movie\",\"Movie\",\"Movie\",\"TV Show\",\"Movie\",\"Movie\",\"Movie\",\"Movie\",\"TV Show\",\"TV Show\",\"TV Show\",\"TV Show\",\"Movie\",\"TV Show\",\"Movie\",\"Movie\",\"Movie\",\"Movie\",\"TV Show\",\"Movie\",\"Movie\",\"Movie\",\"TV Show\",\"Movie\",\"Movie\",\"Movie\",\"TV Show\",\"Movie\",\"TV Show\",\"Movie\",\"Movie\",\"TV Show\",\"TV Show\",\"TV Show\",\"TV Show\",\"TV Show\",\"Movie\",\"TV Show\",\"TV Show\",\"Movie\",\"TV Show\",\"Movie\",\"Movie\",\"TV Show\",\"Movie\",\"TV Show\",\"Movie\",\"TV Show\",\"TV Show\",\"Movie\",\"TV Show\",\"TV Show\",\"Movie\",\"TV Show\",\"TV Show\",\"Movie\",\"Movie\",\"Movie\",\"Movie\",\"Movie\",\"Movie\",\"TV Show\",\"Movie\",\"TV Show\",\"TV Show\",\"TV Show\",\"Movie\",\"Movie\",\"Movie\",\"TV Show\",\"Movie\",\"Movie\",\"TV Show\",\"TV Show\",\"TV Show\",\"Movie\",\"Movie\",\"TV Show\",\"Movie\",\"Movie\",\"TV Show\",\"TV Show\",\"TV Show\",\"TV Show\",\"TV Show\",\"TV Show\",\"TV Show\",\"Movie\",\"Movie\",\"Movie\",\"TV Show\",\"Movie\",\"Movie\",\"TV Show\",\"TV Show\",\"Movie\",\"Movie\",\"Movie\",\"Movie\",\"Movie\",\"Movie\",\"TV Show\",\"Movie\",\"Movie\",\"TV Show\",\"Movie\",\"TV Show\",\"Movie\",\"Movie\",\"TV Show\",\"Movie\",\"Movie\",\"Movie\",\"Movie\",\"Movie\",\"TV Show\",\"Movie\",\"TV Show\",\"TV Show\",\"TV Show\",\"TV Show\",\"Movie\",\"Movie\",\"Movie\",\"Movie\",\"TV Show\",\"TV Show\",\"TV Show\",\"TV Show\",\"Movie\",\"Movie\",\"Movie\",\"Movie\",\"Movie\",\"Movie\",\"TV Show\",\"Movie\",\"Movie\",\"Movie\",\"Movie\",\"Movie\",\"Movie\",\"Movie\",\"Movie\",\"TV Show\",\"Movie\",\"TV Show\",\"Movie\",\"Movie\",\"Movie\",\"Movie\",\"Movie\",\"Movie\",\"Movie\",\"Movie\",\"Movie\",\"Movie\",\"Movie\",\"Movie\",\"Movie\",\"Movie\",\"Movie\",\"Movie\",\"TV Show\",\"Movie\",\"Movie\",\"TV Show\",\"Movie\",\"Movie\",\"Movie\",\"Movie\",\"TV Show\",\"TV Show\",\"TV Show\",\"TV Show\",\"TV Show\",\"Movie\",\"Movie\",\"Movie\",\"Movie\",\"TV Show\",\"TV Show\",\"TV Show\",\"TV Show\",\"Movie\",\"TV Show\",\"Movie\",\"Movie\",\"Movie\",\"Movie\",\"TV Show\",\"Movie\",\"Movie\",\"Movie\",\"Movie\",\"Movie\",\"Movie\",\"TV Show\",\"Movie\",\"Movie\",\"Movie\",\"Movie\",\"TV Show\",\"Movie\",\"Movie\",\"Movie\",\"TV Show\",\"Movie\",\"Movie\",\"Movie\",\"TV Show\",\"Movie\",\"Movie\",\"Movie\",\"TV Show\",\"Movie\",\"Movie\",\"TV Show\",\"TV Show\",\"TV Show\",\"TV Show\",\"Movie\",\"Movie\",\"Movie\",\"Movie\",\"Movie\",\"Movie\",\"Movie\",\"TV Show\",\"Movie\",\"TV Show\",\"Movie\",\"Movie\",\"Movie\",\"TV Show\",\"Movie\",\"TV Show\",\"Movie\",\"Movie\",\"TV Show\",\"TV Show\",\"TV Show\",\"Movie\",\"TV Show\",\"TV Show\",\"TV Show\",\"Movie\",\"TV Show\",\"Movie\",\"Movie\",\"TV Show\",\"Movie\",\"Movie\",\"TV Show\",\"Movie\",\"TV Show\",\"TV Show\",\"Movie\",\"Movie\",\"Movie\",\"Movie\",\"TV Show\",\"Movie\",\"Movie\",\"Movie\",\"Movie\",\"Movie\",\"TV Show\",\"TV Show\",\"TV Show\",\"Movie\",\"Movie\",\"TV Show\",\"TV Show\",\"TV Show\",\"TV Show\",\"Movie\",\"TV Show\",\"Movie\",\"TV Show\",\"TV Show\",\"TV Show\",\"TV Show\",\"Movie\",\"TV Show\",\"TV Show\",\"TV Show\",\"Movie\",\"Movie\",\"TV Show\",\"Movie\",\"TV Show\",\"TV Show\",\"TV Show\",\"Movie\",\"Movie\",\"TV Show\",\"Movie\",\"Movie\",\"TV Show\",\"Movie\",\"Movie\",\"TV Show\",\"Movie\",\"TV Show\",\"Movie\",\"Movie\",\"Movie\",\"TV Show\",\"Movie\",\"Movie\",\"TV Show\",\"Movie\",\"Movie\",\"TV Show\",\"Movie\",\"Movie\",\"Movie\",\"Movie\",\"Movie\",\"Movie\",\"Movie\",\"Movie\",\"TV Show\",\"Movie\",\"TV Show\",\"TV Show\",\"Movie\",\"TV Show\",\"Movie\",\"Movie\",\"TV Show\",\"Movie\",\"Movie\",\"TV Show\",\"Movie\",\"Movie\",\"TV Show\",\"TV Show\",\"TV Show\",\"TV Show\",\"Movie\",\"TV Show\",\"TV Show\",\"Movie\",\"Movie\",\"Movie\",\"Movie\",\"Movie\",\"TV Show\",\"TV Show\",\"Movie\",\"Movie\",\"TV Show\",\"TV Show\",\"TV Show\",\"TV Show\",\"Movie\",\"TV Show\",\"TV Show\",\"Movie\",\"TV Show\",\"Movie\",\"Movie\",\"Movie\",\"TV Show\",\"TV Show\",\"TV Show\",\"TV Show\",\"Movie\",\"Movie\",\"TV Show\",\"Movie\",\"TV Show\",\"Movie\",\"TV Show\",\"TV Show\",\"Movie\",\"Movie\",\"TV Show\",\"TV Show\",\"Movie\",\"Movie\",\"TV Show\",\"Movie\",\"Movie\",\"Movie\",\"Movie\",\"Movie\",\"Movie\",\"Movie\",\"TV Show\",\"Movie\",\"Movie\",\"Movie\",\"Movie\",\"Movie\",\"Movie\",\"TV Show\",\"TV Show\",\"Movie\",\"TV Show\",\"TV Show\",\"Movie\",\"TV Show\",\"Movie\",\"Movie\",\"Movie\",\"TV Show\",\"Movie\",\"Movie\",\"Movie\",\"TV Show\",\"TV Show\",\"TV Show\",\"Movie\",\"Movie\",\"Movie\",\"TV Show\",\"Movie\",\"Movie\",\"TV Show\",\"Movie\",\"Movie\",\"TV Show\",\"Movie\",\"Movie\",\"Movie\",\"TV Show\",\"Movie\",\"Movie\",\"TV Show\",\"Movie\",\"TV Show\",\"Movie\",\"TV Show\",\"Movie\",\"Movie\",\"TV Show\",\"Movie\",\"Movie\",\"Movie\",\"TV Show\",\"TV Show\",\"Movie\",\"Movie\",\"Movie\",\"TV Show\",\"Movie\",\"Movie\",\"TV Show\",\"TV Show\",\"TV Show\",\"TV Show\",\"Movie\",\"TV Show\",\"TV Show\",\"Movie\",\"Movie\",\"TV Show\",\"TV Show\",\"TV Show\",\"TV Show\",\"Movie\",\"TV Show\",\"TV Show\",\"Movie\",\"Movie\",\"TV Show\",\"Movie\",\"Movie\",\"TV Show\",\"TV Show\",\"Movie\",\"Movie\",\"TV Show\",\"Movie\",\"Movie\",\"Movie\",\"TV Show\",\"Movie\",\"TV Show\",\"Movie\",\"Movie\",\"Movie\",\"Movie\",\"TV Show\",\"TV Show\",\"Movie\",\"TV Show\",\"Movie\",\"Movie\",\"Movie\",\"Movie\",\"Movie\",\"Movie\",\"Movie\",\"TV Show\",\"Movie\",\"TV Show\",\"TV Show\",\"TV Show\",\"TV Show\",\"TV Show\",\"TV Show\",\"Movie\",\"Movie\",\"Movie\",\"TV Show\",\"Movie\",\"Movie\",\"Movie\",\"Movie\",\"TV Show\",\"Movie\",\"Movie\",\"Movie\",\"TV Show\",\"Movie\",\"TV Show\",\"Movie\",\"Movie\",\"TV Show\",\"TV Show\",\"TV Show\",\"TV Show\",\"Movie\",\"Movie\",\"Movie\",\"Movie\",\"Movie\",\"Movie\",\"TV Show\",\"Movie\",\"Movie\",\"Movie\",\"Movie\",\"TV Show\",\"TV Show\",\"TV Show\",\"Movie\",\"TV Show\",\"Movie\",\"Movie\",\"TV Show\",\"Movie\",\"Movie\",\"Movie\",\"TV Show\",\"TV Show\",\"TV Show\",\"TV Show\",\"Movie\",\"Movie\",\"Movie\",\"Movie\",\"TV Show\",\"Movie\",\"Movie\",\"TV Show\",\"TV Show\",\"Movie\",\"Movie\",\"Movie\",\"Movie\",\"Movie\",\"Movie\",\"Movie\",\"Movie\",\"TV Show\",\"Movie\",\"Movie\",\"Movie\",\"TV Show\",\"TV Show\",\"TV Show\",\"TV Show\",\"TV Show\",\"Movie\",\"TV Show\",\"Movie\",\"Movie\",\"Movie\",\"TV Show\",\"Movie\",\"TV Show\",\"TV Show\",\"TV Show\",\"TV Show\",\"Movie\",\"TV Show\",\"Movie\",\"Movie\",\"Movie\",\"Movie\",\"TV Show\",\"TV Show\",\"Movie\",\"TV Show\",\"TV Show\",\"Movie\",\"Movie\",\"TV Show\",\"TV Show\",\"TV Show\",\"TV Show\",\"TV Show\",\"TV Show\",\"TV Show\",\"TV Show\",\"TV Show\",\"TV Show\",\"TV Show\",\"TV Show\",\"Movie\",\"Movie\",\"Movie\",\"Movie\",\"Movie\",\"Movie\",\"Movie\",\"Movie\",\"TV Show\",\"Movie\",\"Movie\",\"TV Show\",\"Movie\",\"Movie\",\"Movie\",\"Movie\",\"TV Show\",\"TV Show\",\"Movie\",\"Movie\",\"TV Show\",\"Movie\",\"Movie\",\"Movie\",\"TV Show\",\"Movie\",\"TV Show\",\"Movie\",\"TV Show\",\"Movie\",\"Movie\",\"Movie\",\"Movie\",\"Movie\",\"Movie\",\"TV Show\",\"Movie\",\"TV Show\",\"TV Show\",\"TV Show\",\"TV Show\",\"Movie\",\"Movie\",\"TV Show\",\"TV Show\",\"Movie\",\"Movie\",\"TV Show\",\"TV Show\",\"TV Show\",\"TV Show\",\"TV Show\",\"Movie\",\"TV Show\",\"Movie\",\"TV Show\",\"Movie\",\"TV Show\",\"TV Show\",\"Movie\",\"Movie\",\"TV Show\",\"Movie\",\"Movie\",\"TV Show\",\"Movie\",\"TV Show\",\"Movie\",\"TV Show\",\"TV Show\",\"TV Show\",\"TV Show\",\"TV Show\",\"TV Show\",\"TV Show\",\"TV Show\",\"TV Show\",\"Movie\",\"TV Show\",\"TV Show\",\"TV Show\",\"Movie\",\"Movie\",\"Movie\",\"TV Show\",\"Movie\",\"TV Show\",\"Movie\",\"TV Show\",\"TV Show\",\"Movie\",\"TV Show\",\"TV Show\",\"Movie\",\"TV Show\",\"Movie\",\"Movie\",\"Movie\",\"Movie\",\"Movie\",\"TV Show\",\"Movie\",\"Movie\",\"TV Show\",\"Movie\",\"TV Show\",\"TV Show\",\"TV Show\",\"TV Show\",\"TV Show\",\"TV Show\",\"TV Show\",\"Movie\",\"Movie\",\"Movie\",\"Movie\",\"Movie\",\"Movie\",\"Movie\",\"Movie\",\"TV Show\",\"TV Show\",\"Movie\",\"Movie\",\"Movie\",\"TV Show\",\"TV Show\",\"TV Show\",\"TV Show\",\"TV Show\",\"TV Show\",\"Movie\",\"TV Show\",\"TV Show\",\"TV Show\",\"TV Show\",\"TV Show\",\"Movie\",\"TV Show\",\"TV Show\",\"Movie\",\"Movie\",\"Movie\",\"Movie\",\"TV Show\",\"Movie\",\"TV Show\",\"Movie\",\"Movie\",\"Movie\",\"Movie\",\"Movie\",\"Movie\",\"TV Show\",\"TV Show\",\"Movie\",\"Movie\",\"Movie\",\"TV Show\",\"Movie\",\"Movie\",\"Movie\",\"TV Show\",\"TV Show\",\"TV Show\",\"Movie\",\"TV Show\",\"Movie\",\"TV Show\",\"Movie\",\"Movie\",\"TV Show\",\"Movie\",\"TV Show\",\"Movie\",\"Movie\",\"TV Show\",\"Movie\",\"TV Show\",\"Movie\",\"TV Show\",\"Movie\",\"Movie\",\"TV Show\",\"Movie\",\"TV Show\",\"Movie\",\"Movie\",\"Movie\",\"Movie\",\"TV Show\",\"TV Show\",\"TV Show\",\"Movie\",\"Movie\",\"Movie\",\"TV Show\",\"Movie\",\"Movie\",\"Movie\",\"Movie\",\"TV Show\",\"Movie\",\"Movie\",\"Movie\",\"TV Show\",\"Movie\",\"TV Show\",\"TV Show\",\"Movie\",\"TV Show\",\"Movie\",\"Movie\",\"Movie\",\"Movie\",\"TV Show\",\"Movie\",\"Movie\",\"Movie\",\"TV Show\",\"Movie\",\"TV Show\",\"TV Show\",\"TV Show\",\"TV Show\",\"Movie\",\"Movie\",\"TV Show\",\"TV Show\",\"TV Show\",\"TV Show\",\"TV Show\",\"TV Show\",\"TV Show\",\"TV Show\",\"TV Show\",\"TV Show\",\"TV Show\",\"TV Show\",\"TV Show\",\"TV Show\",\"Movie\",\"Movie\",\"Movie\",\"TV Show\",\"TV Show\",\"Movie\",\"Movie\",\"TV Show\",\"Movie\",\"Movie\",\"TV Show\",\"Movie\",\"Movie\",\"TV Show\",\"Movie\",\"Movie\",\"Movie\",\"Movie\",\"Movie\",\"TV Show\",\"Movie\",\"TV Show\",\"TV Show\",\"TV Show\",\"TV Show\",\"TV Show\",\"TV Show\",\"TV Show\",\"Movie\",\"TV Show\",\"TV Show\",\"Movie\",\"Movie\",\"Movie\",\"Movie\",\"TV Show\",\"TV Show\",\"Movie\",\"Movie\",\"Movie\",\"TV Show\",\"TV Show\",\"Movie\",\"TV Show\",\"TV Show\",\"TV Show\",\"Movie\",\"Movie\",\"Movie\",\"Movie\",\"Movie\",\"Movie\",\"Movie\",\"Movie\",\"Movie\",\"Movie\",\"Movie\",\"Movie\",\"Movie\",\"Movie\",\"Movie\",\"Movie\",\"Movie\",\"TV Show\",\"Movie\",\"Movie\",\"Movie\",\"Movie\",\"TV Show\",\"Movie\",\"TV Show\",\"TV Show\",\"Movie\",\"Movie\",\"TV Show\",\"Movie\",\"Movie\",\"TV Show\",\"Movie\",\"TV Show\",\"TV Show\",\"TV Show\",\"Movie\",\"TV Show\",\"TV Show\",\"TV Show\",\"TV Show\",\"TV Show\",\"Movie\",\"TV Show\",\"Movie\",\"Movie\",\"TV Show\",\"Movie\",\"Movie\",\"Movie\",\"TV Show\",\"Movie\",\"Movie\",\"TV Show\",\"Movie\",\"TV Show\",\"Movie\",\"Movie\",\"TV Show\",\"Movie\",\"Movie\",\"TV Show\",\"TV Show\",\"Movie\",\"Movie\",\"TV Show\",\"TV Show\",\"TV Show\",\"TV Show\",\"Movie\",\"Movie\",\"Movie\",\"Movie\",\"TV Show\",\"Movie\",\"Movie\",\"TV Show\",\"TV Show\",\"TV Show\",\"Movie\",\"Movie\",\"TV Show\",\"Movie\",\"TV Show\",\"Movie\",\"TV Show\",\"TV Show\",\"Movie\",\"Movie\",\"Movie\",\"Movie\",\"Movie\",\"Movie\",\"TV Show\",\"Movie\",\"TV Show\",\"Movie\",\"Movie\",\"TV Show\",\"Movie\",\"Movie\",\"Movie\",\"Movie\",\"TV Show\",\"Movie\",\"Movie\",\"Movie\",\"Movie\",\"Movie\",\"TV Show\",\"Movie\",\"TV Show\",\"TV Show\",\"TV Show\",\"Movie\",\"Movie\",\"Movie\",\"Movie\",\"Movie\",\"TV Show\",\"TV Show\",\"Movie\",\"Movie\",\"TV Show\",\"TV Show\",\"TV Show\",\"TV Show\",\"TV Show\",\"Movie\",\"TV Show\",\"Movie\",\"Movie\",\"TV Show\",\"Movie\",\"Movie\",\"Movie\",\"Movie\",\"Movie\",\"Movie\",\"TV Show\",\"TV Show\",\"TV Show\",\"Movie\",\"Movie\",\"Movie\",\"Movie\",\"Movie\",\"Movie\",\"Movie\",\"Movie\",\"Movie\",\"TV Show\",\"TV Show\",\"TV Show\",\"TV Show\",\"Movie\",\"Movie\",\"Movie\",\"Movie\",\"Movie\",\"TV Show\",\"Movie\",\"Movie\",\"Movie\",\"Movie\",\"Movie\",\"Movie\",\"Movie\",\"Movie\",\"Movie\",\"Movie\",\"Movie\",\"Movie\",\"Movie\",\"Movie\",\"Movie\",\"TV Show\",\"Movie\",\"Movie\",\"Movie\",\"Movie\",\"TV Show\",\"Movie\",\"Movie\",\"Movie\",\"Movie\",\"TV Show\",\"TV Show\",\"Movie\",\"Movie\",\"Movie\",\"Movie\",\"Movie\",\"Movie\",\"Movie\",\"Movie\",\"Movie\",\"Movie\",\"Movie\",\"Movie\",\"Movie\",\"TV Show\",\"TV Show\",\"Movie\",\"Movie\",\"Movie\",\"TV Show\",\"Movie\",\"TV Show\",\"Movie\",\"Movie\",\"TV Show\",\"Movie\",\"TV Show\",\"Movie\",\"TV Show\",\"TV Show\",\"Movie\",\"Movie\",\"TV Show\",\"Movie\",\"Movie\",\"TV Show\",\"TV Show\",\"TV Show\",\"Movie\",\"TV Show\",\"TV Show\",\"TV Show\",\"TV Show\",\"Movie\",\"Movie\",\"Movie\",\"Movie\",\"Movie\",\"Movie\",\"Movie\",\"Movie\",\"TV Show\",\"TV Show\",\"TV Show\",\"TV Show\",\"Movie\",\"Movie\",\"Movie\",\"Movie\",\"TV Show\",\"Movie\",\"Movie\",\"Movie\",\"Movie\",\"Movie\",\"Movie\",\"Movie\",\"Movie\",\"Movie\",\"Movie\",\"Movie\",\"Movie\",\"TV Show\",\"TV Show\",\"Movie\",\"Movie\",\"TV Show\",\"TV Show\",\"TV Show\",\"Movie\",\"Movie\",\"TV Show\",\"TV Show\",\"Movie\",\"TV Show\",\"Movie\",\"Movie\",\"Movie\",\"TV Show\",\"TV Show\",\"Movie\",\"Movie\",\"Movie\",\"TV Show\",\"TV Show\",\"Movie\",\"Movie\",\"Movie\",\"Movie\",\"TV Show\",\"Movie\",\"Movie\",\"Movie\",\"Movie\",\"Movie\",\"Movie\",\"TV Show\",\"Movie\",\"Movie\",\"TV Show\",\"TV Show\",\"TV Show\",\"TV Show\",\"Movie\",\"Movie\",\"Movie\",\"TV Show\",\"TV Show\",\"Movie\",\"Movie\",\"Movie\",\"Movie\",\"Movie\",\"Movie\",\"Movie\",\"TV Show\",\"TV Show\",\"Movie\",\"TV Show\",\"Movie\",\"TV Show\",\"Movie\",\"Movie\",\"Movie\",\"Movie\",\"Movie\",\"TV Show\",\"TV Show\",\"Movie\",\"Movie\",\"Movie\",\"Movie\",\"Movie\",\"Movie\",\"Movie\",\"Movie\",\"Movie\",\"Movie\",\"Movie\",\"Movie\",\"Movie\",\"Movie\",\"Movie\",\"Movie\",\"Movie\",\"Movie\",\"Movie\",\"Movie\",\"Movie\",\"Movie\",\"TV Show\",\"TV Show\",\"Movie\",\"Movie\",\"TV Show\",\"Movie\",\"TV Show\",\"TV Show\",\"Movie\",\"Movie\",\"TV Show\",\"TV Show\",\"TV Show\",\"TV Show\",\"TV Show\",\"TV Show\",\"TV Show\",\"Movie\",\"Movie\",\"TV Show\",\"TV Show\",\"TV Show\",\"TV Show\",\"TV Show\",\"TV Show\",\"Movie\",\"TV Show\",\"Movie\",\"Movie\",\"TV Show\",\"Movie\",\"Movie\",\"Movie\",\"Movie\",\"TV Show\",\"Movie\",\"Movie\",\"Movie\",\"TV Show\",\"Movie\",\"TV Show\",\"Movie\",\"Movie\",\"Movie\",\"Movie\",\"Movie\",\"TV Show\",\"Movie\",\"Movie\",\"Movie\",\"Movie\",\"Movie\",\"Movie\",\"Movie\",\"TV Show\",\"TV Show\",\"Movie\",\"TV Show\",\"TV Show\",\"TV Show\",\"TV Show\",\"TV Show\",\"TV Show\",\"Movie\",\"Movie\",\"Movie\",\"TV Show\",\"Movie\",\"Movie\",\"Movie\",\"TV Show\",\"TV Show\",\"Movie\",\"Movie\",\"Movie\",\"Movie\",\"TV Show\",\"TV Show\",\"Movie\",\"Movie\",\"Movie\",\"Movie\",\"Movie\",\"Movie\",\"Movie\",\"Movie\",\"Movie\",\"Movie\",\"Movie\",\"Movie\",\"TV Show\",\"Movie\",\"Movie\",\"Movie\",\"Movie\",\"Movie\",\"Movie\",\"Movie\",\"Movie\",\"Movie\",\"TV Show\",\"Movie\",\"Movie\",\"TV Show\",\"Movie\",\"Movie\",\"TV Show\",\"Movie\",\"Movie\",\"TV Show\",\"Movie\",\"Movie\",\"TV Show\",\"TV Show\",\"Movie\",\"TV Show\",\"TV Show\",\"TV Show\",\"TV Show\",\"Movie\",\"Movie\",\"TV Show\",\"TV Show\",\"Movie\",\"Movie\",\"Movie\",\"TV Show\",\"Movie\",\"Movie\",\"TV Show\",\"TV Show\",\"TV Show\",\"Movie\",\"Movie\",\"TV Show\",\"Movie\",\"Movie\",\"TV Show\",\"Movie\",\"TV Show\",\"Movie\",\"Movie\",\"Movie\",\"Movie\",\"Movie\",\"Movie\",\"Movie\",\"Movie\",\"Movie\",\"TV Show\",\"TV Show\",\"Movie\",\"Movie\",\"TV Show\",\"Movie\",\"TV Show\",\"TV Show\",\"TV Show\",\"TV Show\",\"TV Show\",\"TV Show\",\"Movie\",\"Movie\",\"TV Show\",\"Movie\",\"TV Show\",\"Movie\",\"Movie\",\"Movie\",\"Movie\",\"Movie\",\"Movie\",\"Movie\",\"Movie\",\"Movie\",\"Movie\",\"Movie\",\"Movie\",\"Movie\",\"Movie\",\"TV Show\",\"Movie\",\"Movie\",\"Movie\",\"Movie\",\"Movie\",\"TV Show\",\"Movie\",\"Movie\",\"Movie\",\"Movie\",\"Movie\",\"Movie\",\"Movie\",\"Movie\",\"Movie\",\"Movie\",\"Movie\",\"Movie\",\"Movie\",\"Movie\",\"Movie\",\"Movie\",\"Movie\",\"Movie\",\"Movie\",\"Movie\",\"Movie\",\"Movie\",\"Movie\",\"Movie\",\"TV Show\",\"Movie\",\"Movie\",\"Movie\",\"Movie\",\"Movie\",\"Movie\",\"Movie\",\"TV Show\",\"Movie\",\"Movie\",\"Movie\",\"Movie\",\"Movie\",\"Movie\",\"TV Show\",\"Movie\",\"TV Show\",\"TV Show\",\"Movie\",\"Movie\",\"Movie\",\"TV Show\",\"Movie\",\"TV Show\",\"Movie\",\"TV Show\",\"TV Show\",\"TV Show\",\"Movie\",\"Movie\",\"Movie\",\"Movie\",\"TV Show\",\"TV Show\",\"Movie\",\"Movie\",\"TV Show\",\"Movie\",\"Movie\",\"TV Show\",\"Movie\",\"TV Show\",\"TV Show\",\"Movie\",\"Movie\",\"Movie\",\"TV Show\",\"Movie\",\"Movie\",\"TV Show\",\"Movie\",\"Movie\",\"TV Show\",\"Movie\",\"Movie\",\"TV Show\",\"TV Show\",\"Movie\",\"TV Show\",\"TV Show\",\"Movie\",\"TV Show\",\"Movie\",\"Movie\",\"Movie\",\"TV Show\",\"Movie\",\"TV Show\",\"TV Show\",\"TV Show\",\"Movie\",\"Movie\",\"Movie\",\"TV Show\",\"TV Show\",\"Movie\",\"Movie\",\"Movie\",\"Movie\",\"Movie\",\"TV Show\",\"Movie\",\"Movie\",\"Movie\",\"Movie\",\"Movie\",\"Movie\",\"TV Show\",\"TV Show\",\"TV Show\",\"Movie\",\"TV Show\",\"Movie\",\"Movie\",\"Movie\",\"Movie\",\"Movie\",\"Movie\",\"Movie\",\"Movie\",\"Movie\",\"Movie\",\"Movie\",\"Movie\",\"Movie\",\"Movie\",\"Movie\",\"Movie\",\"TV Show\",\"Movie\",\"Movie\",\"Movie\",\"Movie\",\"Movie\",\"Movie\",\"Movie\",\"Movie\",\"Movie\",\"Movie\",\"Movie\",\"Movie\",\"Movie\",\"Movie\",\"Movie\",\"Movie\",\"Movie\",\"Movie\",\"Movie\",\"Movie\",\"Movie\",\"Movie\",\"Movie\",\"Movie\",\"Movie\",\"Movie\",\"Movie\",\"Movie\",\"Movie\",\"Movie\",\"Movie\",\"Movie\",\"Movie\",\"TV Show\",\"Movie\",\"Movie\",\"Movie\",\"TV Show\",\"Movie\",\"Movie\",\"Movie\",\"Movie\",\"Movie\",\"Movie\",\"Movie\",\"Movie\",\"Movie\",\"Movie\",\"Movie\",\"Movie\",\"TV Show\",\"TV Show\",\"TV Show\",\"Movie\",\"Movie\",\"Movie\",\"TV Show\",\"TV Show\",\"TV Show\",\"Movie\",\"Movie\",\"TV Show\",\"TV Show\",\"TV Show\",\"TV Show\",\"TV Show\",\"TV Show\",\"TV Show\",\"TV Show\",\"TV Show\",\"Movie\",\"Movie\",\"TV Show\",\"Movie\",\"TV Show\",\"Movie\",\"TV Show\",\"TV Show\",\"Movie\",\"TV Show\",\"TV Show\",\"TV Show\",\"Movie\",\"TV Show\",\"TV Show\",\"Movie\",\"Movie\",\"TV Show\",\"Movie\",\"Movie\",\"Movie\",\"TV Show\",\"TV Show\",\"TV Show\",\"Movie\",\"Movie\",\"Movie\",\"Movie\",\"Movie\",\"TV Show\",\"Movie\",\"TV Show\",\"TV Show\",\"TV Show\",\"Movie\",\"TV Show\",\"TV Show\",\"TV Show\",\"Movie\",\"Movie\",\"Movie\",\"TV Show\",\"Movie\",\"Movie\",\"TV Show\",\"Movie\",\"TV Show\",\"Movie\",\"TV Show\",\"Movie\",\"Movie\",\"Movie\",\"Movie\",\"Movie\",\"Movie\",\"TV Show\",\"Movie\",\"Movie\",\"Movie\",\"Movie\",\"Movie\",\"TV Show\",\"TV Show\",\"TV Show\",\"Movie\",\"Movie\",\"Movie\",\"Movie\",\"TV Show\",\"TV Show\",\"TV Show\",\"Movie\",\"Movie\",\"Movie\",\"Movie\",\"TV Show\",\"TV Show\",\"Movie\",\"Movie\",\"Movie\",\"Movie\",\"Movie\",\"Movie\",\"Movie\",\"Movie\",\"Movie\",\"Movie\",\"Movie\",\"Movie\",\"Movie\",\"Movie\",\"Movie\",\"Movie\",\"Movie\",\"Movie\",\"Movie\",\"Movie\",\"TV Show\",\"Movie\",\"Movie\",\"TV Show\",\"TV Show\",\"TV Show\",\"TV Show\",\"Movie\",\"Movie\",\"TV Show\",\"Movie\",\"Movie\",\"TV Show\",\"Movie\",\"TV Show\",\"Movie\",\"TV Show\",\"Movie\",\"Movie\",\"Movie\",\"TV Show\",\"TV Show\",\"Movie\",\"Movie\",\"TV Show\",\"TV Show\",\"TV Show\",\"Movie\",\"Movie\",\"TV Show\",\"Movie\",\"Movie\",\"Movie\",\"TV Show\",\"TV Show\",\"Movie\",\"Movie\",\"Movie\",\"TV Show\",\"TV Show\",\"TV Show\",\"TV Show\",\"TV Show\",\"Movie\",\"Movie\",\"Movie\",\"Movie\",\"Movie\",\"Movie\",\"Movie\",\"Movie\",\"Movie\",\"Movie\",\"Movie\",\"Movie\",\"Movie\",\"Movie\",\"Movie\",\"Movie\",\"Movie\",\"TV Show\",\"Movie\",\"Movie\",\"Movie\",\"Movie\",\"Movie\",\"TV Show\",\"Movie\",\"Movie\",\"TV Show\",\"Movie\",\"TV Show\",\"Movie\",\"Movie\",\"Movie\",\"TV Show\",\"Movie\",\"TV Show\",\"Movie\",\"Movie\",\"TV Show\",\"Movie\",\"Movie\",\"TV Show\",\"Movie\",\"Movie\",\"TV Show\",\"Movie\",\"Movie\",\"Movie\",\"Movie\",\"Movie\",\"Movie\",\"TV Show\",\"TV Show\",\"Movie\",\"Movie\",\"Movie\",\"TV Show\",\"TV Show\",\"TV Show\",\"Movie\",\"Movie\",\"TV Show\",\"Movie\",\"Movie\",\"TV Show\",\"TV Show\",\"TV Show\",\"Movie\",\"TV Show\",\"Movie\",\"Movie\",\"Movie\",\"TV Show\",\"TV Show\",\"Movie\",\"Movie\",\"TV Show\",\"TV Show\",\"Movie\",\"Movie\",\"Movie\",\"Movie\",\"TV Show\",\"Movie\",\"Movie\",\"TV Show\",\"Movie\",\"TV Show\",\"Movie\",\"TV Show\",\"Movie\",\"Movie\",\"Movie\",\"Movie\",\"TV Show\",\"Movie\",\"Movie\",\"Movie\",\"Movie\",\"TV Show\",\"Movie\",\"Movie\",\"Movie\",\"Movie\",\"Movie\",\"Movie\",\"Movie\",\"Movie\",\"Movie\",\"Movie\",\"Movie\",\"Movie\",\"Movie\",\"Movie\",\"Movie\",\"Movie\",\"Movie\",\"Movie\",\"TV Show\",\"Movie\",\"TV Show\",\"Movie\",\"Movie\",\"TV Show\",\"Movie\",\"Movie\",\"TV Show\",\"Movie\",\"TV Show\",\"Movie\",\"TV Show\",\"Movie\",\"Movie\",\"TV Show\",\"TV Show\",\"Movie\",\"Movie\",\"Movie\",\"Movie\",\"Movie\",\"Movie\",\"Movie\",\"Movie\",\"Movie\",\"TV Show\",\"TV Show\",\"TV Show\",\"Movie\",\"Movie\",\"Movie\",\"TV Show\",\"Movie\",\"Movie\",\"TV Show\",\"Movie\",\"Movie\",\"Movie\",\"Movie\",\"Movie\",\"Movie\",\"Movie\",\"TV Show\",\"TV Show\",\"Movie\",\"Movie\",\"Movie\",\"TV Show\",\"Movie\",\"Movie\",\"TV Show\",\"Movie\",\"TV Show\",\"Movie\",\"Movie\",\"Movie\",\"Movie\",\"Movie\",\"TV Show\",\"Movie\",\"Movie\",\"Movie\",\"TV Show\",\"Movie\",\"Movie\",\"TV Show\",\"Movie\",\"Movie\",\"TV Show\",\"TV Show\",\"Movie\",\"Movie\",\"Movie\",\"Movie\",\"TV Show\",\"Movie\",\"Movie\",\"TV Show\",\"Movie\",\"TV Show\",\"Movie\",\"TV Show\",\"Movie\",\"Movie\",\"Movie\",\"TV Show\",\"TV Show\",\"Movie\",\"Movie\",\"TV Show\",\"Movie\",\"Movie\",\"TV Show\",\"TV Show\",\"Movie\",\"TV Show\",\"Movie\",\"Movie\",\"TV Show\",\"Movie\",\"Movie\",\"TV Show\",\"Movie\",\"Movie\",\"Movie\",\"TV Show\",\"Movie\",\"Movie\",\"Movie\",\"Movie\",\"Movie\",\"Movie\",\"Movie\",\"Movie\",\"Movie\",\"Movie\",\"Movie\",\"Movie\",\"Movie\",\"Movie\",\"Movie\",\"Movie\",\"Movie\",\"Movie\",\"Movie\",\"Movie\",\"Movie\",\"TV Show\",\"TV Show\",\"Movie\",\"TV Show\",\"TV Show\",\"Movie\",\"TV Show\",\"Movie\",\"Movie\",\"TV Show\",\"TV Show\",\"Movie\",\"TV Show\",\"Movie\",\"Movie\",\"Movie\",\"Movie\",\"Movie\",\"Movie\",\"Movie\",\"TV Show\",\"Movie\",\"TV Show\",\"Movie\",\"Movie\",\"Movie\",\"Movie\",\"Movie\",\"TV Show\",\"Movie\",\"Movie\",\"TV Show\",\"Movie\",\"Movie\",\"Movie\",\"Movie\",\"Movie\",\"TV Show\",\"Movie\",\"TV Show\",\"Movie\",\"Movie\",\"Movie\",\"TV Show\",\"TV Show\",\"Movie\",\"Movie\",\"Movie\",\"Movie\",\"TV Show\",\"Movie\",\"TV Show\",\"Movie\",\"Movie\",\"Movie\",\"Movie\",\"TV Show\",\"Movie\",\"Movie\",\"Movie\",\"Movie\",\"Movie\",\"Movie\",\"TV Show\",\"TV Show\",\"Movie\",\"TV Show\",\"Movie\",\"Movie\",\"TV Show\",\"TV Show\",\"TV Show\",\"TV Show\",\"TV Show\",\"TV Show\",\"Movie\",\"Movie\",\"TV Show\",\"Movie\",\"TV Show\",\"Movie\",\"Movie\",\"Movie\",\"TV Show\",\"Movie\",\"TV Show\",\"TV Show\",\"Movie\",\"Movie\",\"Movie\",\"Movie\",\"Movie\",\"TV Show\",\"TV Show\",\"TV Show\",\"Movie\",\"Movie\",\"Movie\",\"Movie\",\"TV Show\",\"TV Show\",\"Movie\",\"TV Show\",\"Movie\",\"Movie\",\"Movie\",\"Movie\",\"Movie\",\"Movie\",\"Movie\",\"Movie\",\"Movie\",\"TV Show\",\"TV Show\",\"Movie\",\"TV Show\",\"Movie\",\"Movie\",\"TV Show\",\"TV Show\",\"Movie\",\"TV Show\",\"Movie\",\"TV Show\",\"TV Show\",\"Movie\",\"Movie\",\"Movie\",\"TV Show\",\"TV Show\",\"TV Show\",\"TV Show\",\"Movie\",\"TV Show\",\"Movie\",\"Movie\",\"Movie\",\"Movie\",\"Movie\",\"TV Show\",\"TV Show\",\"Movie\",\"TV Show\",\"TV Show\",\"TV Show\",\"Movie\",\"Movie\",\"TV Show\",\"TV Show\",\"TV Show\",\"Movie\",\"Movie\",\"TV Show\",\"Movie\",\"TV Show\",\"Movie\",\"Movie\",\"Movie\",\"TV Show\",\"TV Show\",\"Movie\",\"Movie\",\"Movie\",\"Movie\",\"Movie\",\"TV Show\",\"TV Show\",\"TV Show\",\"TV Show\",\"TV Show\",\"Movie\",\"Movie\",\"Movie\",\"Movie\",\"TV Show\",\"Movie\",\"Movie\",\"Movie\",\"Movie\",\"TV Show\",\"TV Show\",\"Movie\",\"TV Show\",\"Movie\",\"TV Show\",\"Movie\",\"Movie\",\"Movie\",\"Movie\",\"TV Show\",\"TV Show\",\"Movie\",\"Movie\",\"TV Show\",\"Movie\",\"TV Show\",\"Movie\",\"Movie\",\"Movie\",\"Movie\",\"Movie\",\"Movie\",\"Movie\",\"Movie\",\"Movie\",\"TV Show\",\"TV Show\",\"Movie\",\"Movie\",\"Movie\",\"TV Show\",\"TV Show\",\"Movie\",\"Movie\",\"Movie\",\"Movie\",\"TV Show\",\"TV Show\",\"TV Show\",\"TV Show\",\"TV Show\",\"TV Show\",\"Movie\",\"Movie\",\"TV Show\",\"TV Show\",\"Movie\",\"Movie\",\"TV Show\",\"Movie\",\"Movie\",\"TV Show\",\"TV Show\",\"TV Show\",\"Movie\",\"Movie\",\"TV Show\",\"TV Show\",\"Movie\",\"Movie\",\"Movie\",\"Movie\",\"Movie\",\"Movie\",\"Movie\",\"Movie\",\"TV Show\",\"Movie\",\"TV Show\",\"Movie\",\"Movie\",\"Movie\",\"TV Show\",\"Movie\",\"TV Show\",\"Movie\",\"Movie\",\"Movie\",\"TV Show\",\"TV Show\",\"TV Show\",\"TV Show\",\"TV Show\",\"TV Show\",\"Movie\",\"Movie\",\"Movie\",\"Movie\",\"Movie\",\"Movie\",\"Movie\",\"TV Show\",\"TV Show\",\"TV Show\",\"Movie\",\"TV Show\",\"Movie\",\"Movie\",\"Movie\",\"TV Show\",\"Movie\",\"Movie\",\"Movie\",\"Movie\",\"Movie\",\"Movie\",\"Movie\",\"Movie\",\"Movie\",\"Movie\",\"Movie\",\"Movie\",\"Movie\",\"Movie\",\"TV Show\",\"TV Show\",\"Movie\",\"Movie\",\"TV Show\",\"Movie\",\"Movie\",\"TV Show\",\"Movie\",\"Movie\",\"Movie\",\"Movie\",\"Movie\",\"Movie\",\"Movie\",\"Movie\",\"Movie\",\"Movie\",\"Movie\",\"Movie\",\"Movie\",\"Movie\",\"Movie\",\"Movie\",\"Movie\",\"TV Show\",\"Movie\",\"TV Show\",\"TV Show\",\"TV Show\",\"TV Show\",\"Movie\",\"TV Show\",\"Movie\",\"TV Show\",\"TV Show\",\"TV Show\",\"Movie\",\"Movie\",\"Movie\",\"TV Show\",\"Movie\",\"TV Show\",\"TV Show\",\"Movie\",\"TV Show\",\"TV Show\",\"TV Show\",\"Movie\",\"Movie\",\"Movie\",\"Movie\",\"TV Show\",\"Movie\",\"Movie\",\"Movie\",\"Movie\",\"Movie\",\"Movie\",\"Movie\",\"TV Show\",\"TV Show\",\"TV Show\",\"TV Show\",\"TV Show\",\"Movie\",\"TV Show\",\"Movie\",\"TV Show\",\"Movie\",\"TV Show\",\"Movie\",\"TV Show\",\"TV Show\",\"Movie\",\"TV Show\",\"Movie\",\"TV Show\",\"Movie\",\"TV Show\",\"Movie\",\"TV Show\",\"Movie\",\"TV Show\",\"TV Show\",\"TV Show\",\"TV Show\",\"TV Show\",\"Movie\",\"TV Show\",\"TV Show\",\"Movie\",\"TV Show\",\"TV Show\",\"TV Show\",\"Movie\",\"Movie\",\"Movie\",\"Movie\",\"Movie\",\"Movie\",\"TV Show\",\"TV Show\",\"Movie\",\"Movie\",\"TV Show\",\"Movie\",\"Movie\",\"TV Show\",\"Movie\",\"Movie\",\"Movie\",\"Movie\",\"TV Show\",\"TV Show\",\"TV Show\",\"TV Show\",\"TV Show\",\"TV Show\",\"TV Show\",\"Movie\",\"Movie\",\"Movie\",\"Movie\",\"TV Show\",\"TV Show\",\"Movie\",\"Movie\",\"Movie\",\"Movie\",\"Movie\",\"Movie\",\"Movie\",\"Movie\",\"Movie\",\"Movie\",\"Movie\",\"TV Show\",\"TV Show\",\"TV Show\",\"Movie\",\"Movie\",\"Movie\",\"Movie\",\"TV Show\",\"TV Show\",\"Movie\",\"Movie\",\"Movie\",\"Movie\",\"TV Show\",\"Movie\",\"Movie\",\"Movie\",\"Movie\",\"Movie\",\"Movie\",\"TV Show\",\"Movie\",\"TV Show\",\"Movie\",\"Movie\",\"Movie\",\"Movie\",\"Movie\",\"Movie\",\"Movie\",\"Movie\",\"TV Show\",\"Movie\",\"Movie\",\"Movie\",\"Movie\",\"Movie\",\"TV Show\",\"Movie\",\"Movie\",\"Movie\",\"Movie\",\"Movie\",\"Movie\",\"Movie\",\"Movie\",\"Movie\",\"Movie\",\"Movie\",\"Movie\",\"Movie\",\"Movie\",\"TV Show\",\"TV Show\",\"Movie\",\"Movie\",\"TV Show\",\"TV Show\",\"Movie\",\"Movie\",\"Movie\",\"Movie\",\"TV Show\",\"TV Show\",\"TV Show\",\"Movie\",\"TV Show\",\"Movie\",\"Movie\",\"Movie\",\"Movie\",\"Movie\",\"Movie\",\"Movie\",\"Movie\",\"Movie\",\"Movie\",\"Movie\",\"Movie\",\"Movie\",\"TV Show\",\"TV Show\",\"Movie\",\"Movie\",\"Movie\",\"TV Show\",\"Movie\",\"Movie\",\"Movie\",\"Movie\",\"Movie\",\"Movie\",\"Movie\",\"Movie\",\"Movie\",\"Movie\",\"Movie\",\"TV Show\",\"TV Show\",\"Movie\",\"Movie\",\"TV Show\",\"Movie\",\"Movie\",\"Movie\",\"TV Show\",\"TV Show\",\"Movie\",\"Movie\",\"TV Show\",\"TV Show\",\"Movie\",\"TV Show\",\"Movie\",\"Movie\",\"Movie\",\"Movie\",\"Movie\",\"TV Show\",\"Movie\",\"Movie\",\"TV Show\",\"Movie\",\"TV Show\",\"Movie\",\"Movie\",\"TV Show\",\"Movie\",\"TV Show\",\"Movie\",\"Movie\",\"Movie\",\"Movie\",\"Movie\",\"TV Show\",\"TV Show\",\"TV Show\",\"Movie\",\"Movie\",\"Movie\",\"Movie\",\"TV Show\",\"Movie\",\"Movie\",\"TV Show\",\"Movie\",\"TV Show\",\"Movie\",\"Movie\",\"Movie\",\"Movie\",\"TV Show\",\"TV Show\",\"Movie\",\"Movie\",\"Movie\",\"Movie\",\"Movie\",\"Movie\",\"Movie\",\"Movie\",\"Movie\",\"Movie\",\"Movie\",\"Movie\",\"Movie\",\"Movie\",\"Movie\",\"Movie\",\"Movie\",\"Movie\",\"Movie\",\"Movie\",\"Movie\",\"Movie\",\"Movie\",\"Movie\",\"Movie\",\"Movie\",\"Movie\",\"Movie\",\"Movie\",\"Movie\",\"TV Show\",\"Movie\",\"Movie\",\"Movie\",\"Movie\",\"Movie\",\"Movie\",\"Movie\",\"Movie\",\"Movie\",\"TV Show\",\"Movie\",\"Movie\",\"TV Show\",\"TV Show\",\"TV Show\",\"Movie\",\"Movie\",\"TV Show\",\"Movie\",\"Movie\",\"Movie\",\"TV Show\",\"Movie\",\"Movie\",\"TV Show\",\"Movie\",\"TV Show\",\"TV Show\",\"TV Show\",\"TV Show\",\"TV Show\",\"TV Show\",\"TV Show\",\"TV Show\",\"TV Show\",\"Movie\",\"TV Show\",\"Movie\",\"Movie\",\"TV Show\",\"Movie\",\"Movie\",\"TV Show\",\"TV Show\",\"Movie\",\"TV Show\",\"Movie\",\"Movie\",\"Movie\",\"TV Show\",\"Movie\",\"TV Show\",\"Movie\",\"Movie\",\"Movie\",\"Movie\",\"Movie\",\"Movie\",\"TV Show\",\"TV Show\",\"Movie\",\"Movie\",\"TV Show\",\"Movie\",\"Movie\",\"Movie\",\"TV Show\",\"Movie\",\"Movie\",\"Movie\",\"Movie\",\"Movie\",\"Movie\",\"Movie\",\"TV Show\",\"TV Show\",\"Movie\",\"Movie\",\"Movie\",\"TV Show\",\"Movie\",\"TV Show\",\"TV Show\",\"Movie\",\"Movie\",\"Movie\",\"TV Show\",\"TV Show\",\"TV Show\",\"TV Show\",\"TV Show\",\"TV Show\",\"Movie\",\"Movie\",\"Movie\",\"Movie\",\"Movie\",\"Movie\",\"Movie\",\"Movie\",\"TV Show\",\"Movie\",\"Movie\",\"TV Show\",\"Movie\",\"Movie\",\"Movie\",\"Movie\",\"Movie\",\"Movie\",\"TV Show\",\"TV Show\",\"TV Show\",\"Movie\",\"Movie\",\"Movie\",\"Movie\",\"Movie\",\"TV Show\",\"Movie\",\"Movie\",\"TV Show\",\"TV Show\",\"Movie\",\"Movie\",\"TV Show\",\"Movie\",\"TV Show\",\"TV Show\",\"Movie\",\"TV Show\",\"Movie\",\"Movie\",\"TV Show\",\"Movie\",\"Movie\",\"TV Show\",\"Movie\",\"Movie\",\"Movie\",\"TV Show\",\"Movie\",\"Movie\",\"Movie\",\"TV Show\",\"Movie\",\"Movie\",\"Movie\",\"Movie\",\"Movie\",\"Movie\",\"Movie\",\"Movie\",\"Movie\",\"Movie\",\"Movie\",\"Movie\",\"Movie\",\"TV Show\",\"TV Show\",\"TV Show\",\"TV Show\",\"TV Show\",\"Movie\",\"TV Show\",\"TV Show\",\"TV Show\",\"Movie\",\"Movie\",\"Movie\",\"TV Show\",\"TV Show\",\"Movie\",\"Movie\",\"Movie\",\"Movie\",\"Movie\",\"Movie\",\"Movie\",\"Movie\",\"Movie\",\"TV Show\",\"TV Show\",\"Movie\",\"TV Show\",\"Movie\",\"TV Show\",\"Movie\",\"TV Show\",\"Movie\",\"Movie\",\"Movie\",\"Movie\",\"TV Show\",\"Movie\",\"TV Show\",\"Movie\",\"TV Show\",\"Movie\",\"Movie\",\"Movie\",\"Movie\",\"TV Show\",\"TV Show\",\"TV Show\",\"Movie\",\"Movie\",\"Movie\",\"Movie\",\"Movie\",\"Movie\",\"Movie\",\"TV Show\",\"Movie\",\"TV Show\",\"TV Show\",\"Movie\",\"Movie\",\"Movie\",\"Movie\",\"Movie\",\"TV Show\",\"TV Show\",\"Movie\",\"Movie\",\"TV Show\",\"TV Show\",\"Movie\",\"TV Show\",\"TV Show\",\"TV Show\",\"Movie\",\"Movie\",\"Movie\",\"Movie\",\"Movie\",\"TV Show\",\"Movie\",\"Movie\",\"Movie\",\"Movie\",\"TV Show\",\"Movie\",\"Movie\",\"TV Show\",\"Movie\",\"Movie\",\"TV Show\",\"Movie\",\"Movie\",\"Movie\",\"Movie\",\"Movie\",\"Movie\",\"TV Show\",\"Movie\",\"Movie\",\"Movie\",\"Movie\",\"TV Show\",\"Movie\",\"TV Show\",\"Movie\",\"Movie\",\"Movie\",\"Movie\",\"Movie\",\"TV Show\",\"Movie\",\"Movie\",\"Movie\",\"Movie\",\"Movie\",\"TV Show\",\"Movie\",\"Movie\",\"Movie\",\"Movie\",\"Movie\",\"Movie\",\"Movie\",\"TV Show\",\"TV Show\",\"Movie\",\"Movie\",\"Movie\",\"Movie\",\"Movie\",\"Movie\",\"Movie\",\"Movie\",\"Movie\",\"TV Show\",\"Movie\",\"Movie\",\"Movie\",\"Movie\",\"Movie\",\"TV Show\",\"TV Show\",\"Movie\",\"Movie\",\"Movie\",\"Movie\",\"Movie\",\"Movie\",\"Movie\",\"Movie\",\"Movie\",\"Movie\",\"Movie\",\"Movie\",\"Movie\",\"Movie\",\"Movie\",\"Movie\",\"Movie\",\"Movie\",\"Movie\",\"Movie\",\"Movie\",\"Movie\",\"Movie\",\"TV Show\",\"Movie\",\"Movie\",\"Movie\",\"Movie\",\"Movie\",\"Movie\",\"Movie\",\"Movie\",\"Movie\",\"TV Show\",\"Movie\",\"Movie\",\"Movie\",\"TV Show\",\"Movie\",\"Movie\",\"Movie\",\"Movie\",\"Movie\",\"TV Show\",\"Movie\",\"TV Show\",\"Movie\",\"Movie\",\"Movie\",\"Movie\",\"Movie\",\"Movie\",\"Movie\",\"Movie\",\"Movie\",\"Movie\",\"Movie\",\"Movie\",\"Movie\",\"Movie\",\"TV Show\",\"Movie\",\"Movie\",\"Movie\",\"Movie\",\"Movie\",\"Movie\",\"Movie\",\"Movie\",\"Movie\",\"Movie\",\"Movie\",\"Movie\",\"Movie\",\"Movie\",\"Movie\",\"Movie\",\"Movie\",\"Movie\",\"Movie\",\"Movie\",\"Movie\",\"Movie\",\"TV Show\",\"Movie\",\"TV Show\",\"Movie\",\"Movie\",\"Movie\",\"Movie\",\"Movie\",\"Movie\",\"Movie\",\"Movie\",\"Movie\",\"Movie\",\"TV Show\",\"Movie\",\"Movie\",\"Movie\",\"Movie\",\"Movie\",\"Movie\",\"TV Show\",\"Movie\",\"Movie\",\"Movie\",\"Movie\",\"Movie\",\"Movie\",\"Movie\",\"Movie\",\"Movie\",\"Movie\",\"Movie\",\"Movie\",\"Movie\",\"Movie\",\"Movie\",\"Movie\",\"Movie\",\"Movie\",\"Movie\",\"Movie\",\"Movie\",\"TV Show\",\"TV Show\",\"Movie\",\"Movie\",\"Movie\",\"Movie\",\"Movie\",\"Movie\",\"Movie\",\"Movie\",\"Movie\",\"Movie\",\"Movie\",\"TV Show\",\"Movie\",\"Movie\",\"Movie\",\"Movie\",\"Movie\",\"Movie\",\"Movie\",\"Movie\",\"Movie\",\"TV Show\",\"Movie\",\"Movie\",\"Movie\",\"Movie\",\"TV Show\",\"Movie\",\"Movie\",\"Movie\",\"Movie\",\"Movie\",\"TV Show\",\"TV Show\",\"TV Show\",\"Movie\",\"Movie\",\"TV Show\",\"Movie\",\"Movie\",\"Movie\",\"Movie\",\"Movie\",\"Movie\",\"Movie\",\"Movie\",\"Movie\",\"Movie\",\"Movie\",\"Movie\",\"Movie\",\"Movie\",\"Movie\",\"Movie\",\"Movie\",\"Movie\",\"Movie\",\"Movie\",\"TV Show\",\"Movie\",\"Movie\",\"Movie\",\"Movie\",\"Movie\",\"TV Show\",\"Movie\",\"Movie\",\"Movie\",\"Movie\",\"TV Show\",\"Movie\",\"TV Show\",\"Movie\",\"Movie\",\"Movie\",\"Movie\",\"Movie\",\"Movie\",\"TV Show\",\"Movie\",\"Movie\",\"Movie\",\"Movie\",\"Movie\",\"Movie\",\"Movie\",\"Movie\",\"Movie\",\"TV Show\",\"Movie\",\"Movie\",\"Movie\",\"Movie\",\"TV Show\",\"Movie\",\"Movie\",\"Movie\",\"Movie\",\"TV Show\",\"TV Show\",\"Movie\",\"Movie\",\"Movie\",\"Movie\",\"Movie\",\"Movie\",\"TV Show\",\"Movie\",\"Movie\",\"TV Show\",\"Movie\",\"Movie\",\"Movie\",\"Movie\",\"Movie\",\"Movie\",\"Movie\",\"Movie\",\"Movie\",\"Movie\",\"Movie\",\"Movie\",\"Movie\",\"Movie\",\"Movie\",\"Movie\",\"TV Show\",\"Movie\",\"Movie\",\"Movie\",\"TV Show\",\"Movie\",\"Movie\",\"Movie\",\"Movie\",\"Movie\",\"Movie\",\"Movie\",\"Movie\",\"Movie\",\"Movie\",\"Movie\",\"Movie\",\"Movie\",\"Movie\",\"TV Show\",\"Movie\",\"Movie\",\"TV Show\",\"Movie\",\"Movie\",\"TV Show\",\"Movie\",\"Movie\",\"Movie\",\"Movie\",\"Movie\",\"Movie\",\"Movie\",\"Movie\",\"TV Show\",\"Movie\",\"Movie\",\"Movie\",\"Movie\",\"Movie\",\"Movie\",\"Movie\",\"Movie\",\"Movie\",\"Movie\",\"Movie\",\"Movie\",\"Movie\",\"Movie\",\"Movie\",\"Movie\",\"Movie\",\"Movie\",\"Movie\",\"Movie\",\"TV Show\",\"TV Show\",\"Movie\",\"TV Show\",\"TV Show\",\"Movie\",\"Movie\",\"Movie\",\"Movie\",\"TV Show\",\"Movie\",\"Movie\",\"Movie\",\"TV Show\",\"TV Show\",\"TV Show\",\"TV Show\",\"Movie\",\"Movie\",\"Movie\",\"Movie\",\"Movie\",\"Movie\",\"Movie\",\"Movie\",\"Movie\",\"TV Show\",\"TV Show\",\"Movie\",\"Movie\",\"TV Show\",\"Movie\",\"TV Show\",\"Movie\",\"Movie\",\"Movie\",\"Movie\",\"Movie\",\"Movie\",\"Movie\",\"Movie\",\"Movie\",\"TV Show\",\"Movie\",\"Movie\",\"TV Show\",\"TV Show\",\"Movie\",\"Movie\",\"Movie\",\"Movie\",\"Movie\",\"TV Show\",\"Movie\",\"Movie\",\"TV Show\",\"Movie\",\"Movie\",\"Movie\",\"Movie\",\"Movie\",\"Movie\",\"Movie\",\"Movie\",\"Movie\",\"Movie\",\"Movie\",\"Movie\",\"Movie\",\"TV Show\",\"TV Show\",\"Movie\",\"Movie\",\"Movie\",\"TV Show\",\"Movie\",\"Movie\",\"Movie\",\"Movie\",\"Movie\",\"Movie\",\"Movie\",\"Movie\",\"Movie\",\"Movie\",\"Movie\",\"TV Show\",\"Movie\",\"Movie\",\"Movie\",\"Movie\",\"Movie\",\"TV Show\",\"Movie\",\"Movie\",\"Movie\",\"Movie\",\"Movie\",\"TV Show\",\"Movie\",\"Movie\",\"Movie\",\"Movie\",\"Movie\",\"Movie\",\"Movie\",\"Movie\",\"Movie\",\"TV Show\",\"Movie\",\"Movie\",\"TV Show\",\"TV Show\",\"Movie\",\"Movie\",\"TV Show\",\"Movie\",\"Movie\",\"Movie\",\"TV Show\",\"Movie\",\"Movie\",\"TV Show\",\"Movie\",\"TV Show\",\"Movie\",\"Movie\",\"Movie\",\"Movie\",\"TV Show\",\"Movie\",\"Movie\",\"TV Show\",\"Movie\",\"Movie\",\"Movie\",\"TV Show\",\"Movie\",\"Movie\",\"Movie\",\"TV Show\",\"Movie\",\"Movie\",\"Movie\",\"TV Show\",\"Movie\",\"Movie\",\"Movie\",\"Movie\",\"TV Show\",\"Movie\",\"Movie\",\"TV Show\",\"Movie\",\"Movie\",\"TV Show\",\"Movie\",\"Movie\",\"TV Show\",\"TV Show\",\"Movie\",\"Movie\",\"TV Show\",\"Movie\",\"TV Show\",\"Movie\",\"Movie\",\"TV Show\",\"Movie\",\"Movie\",\"Movie\",\"TV Show\",\"Movie\",\"Movie\",\"Movie\",\"Movie\",\"Movie\",\"TV Show\",\"Movie\",\"Movie\",\"Movie\",\"TV Show\",\"Movie\",\"Movie\",\"Movie\",\"Movie\",\"Movie\",\"Movie\",\"Movie\",\"Movie\",\"Movie\",\"Movie\",\"Movie\",\"Movie\",\"Movie\",\"Movie\",\"Movie\",\"Movie\",\"Movie\",\"Movie\",\"Movie\",\"Movie\",\"TV Show\",\"Movie\",\"Movie\",\"Movie\",\"TV Show\",\"TV Show\",\"TV Show\",\"Movie\",\"TV Show\",\"TV Show\",\"Movie\",\"Movie\",\"Movie\",\"Movie\",\"Movie\",\"Movie\",\"Movie\",\"Movie\",\"TV Show\",\"Movie\",\"Movie\",\"Movie\",\"Movie\",\"Movie\",\"Movie\",\"Movie\",\"TV Show\",\"Movie\",\"Movie\",\"Movie\",\"Movie\",\"Movie\",\"TV Show\",\"Movie\",\"Movie\",\"Movie\",\"TV Show\",\"Movie\",\"Movie\",\"TV Show\",\"Movie\",\"Movie\",\"Movie\",\"Movie\",\"TV Show\",\"Movie\",\"Movie\",\"TV Show\",\"Movie\",\"Movie\",\"Movie\",\"Movie\",\"Movie\",\"TV Show\",\"TV Show\",\"TV Show\",\"TV Show\",\"TV Show\",\"TV Show\",\"Movie\",\"Movie\",\"Movie\",\"TV Show\",\"TV Show\",\"Movie\",\"Movie\",\"Movie\",\"Movie\",\"TV Show\",\"TV Show\",\"Movie\",\"Movie\",\"Movie\",\"TV Show\",\"Movie\",\"Movie\",\"Movie\",\"Movie\",\"Movie\",\"Movie\",\"Movie\",\"TV Show\",\"Movie\",\"Movie\",\"Movie\",\"Movie\",\"Movie\",\"TV Show\",\"Movie\",\"Movie\",\"Movie\",\"TV Show\",\"Movie\",\"Movie\",\"Movie\",\"Movie\",\"Movie\",\"Movie\",\"TV Show\",\"Movie\",\"Movie\",\"Movie\",\"Movie\",\"Movie\",\"Movie\",\"TV Show\",\"Movie\",\"Movie\",\"TV Show\",\"TV Show\",\"Movie\",\"Movie\",\"Movie\",\"Movie\",\"Movie\",\"Movie\",\"Movie\",\"TV Show\",\"Movie\",\"Movie\",\"TV Show\",\"TV Show\",\"Movie\",\"Movie\",\"Movie\",\"Movie\",\"Movie\",\"Movie\",\"Movie\",\"Movie\",\"Movie\",\"Movie\",\"Movie\",\"Movie\",\"Movie\",\"TV Show\",\"TV Show\",\"Movie\",\"Movie\",\"Movie\",\"Movie\",\"Movie\",\"Movie\",\"Movie\",\"Movie\",\"Movie\",\"Movie\",\"Movie\",\"Movie\",\"Movie\",\"TV Show\",\"Movie\",\"TV Show\",\"Movie\",\"Movie\",\"Movie\",\"Movie\",\"Movie\",\"Movie\",\"Movie\",\"TV Show\",\"Movie\",\"TV Show\",\"Movie\",\"Movie\",\"Movie\",\"Movie\",\"TV Show\",\"Movie\",\"Movie\",\"Movie\",\"Movie\",\"Movie\",\"Movie\",\"Movie\",\"Movie\",\"Movie\",\"Movie\",\"Movie\",\"Movie\",\"Movie\",\"Movie\",\"Movie\",\"Movie\",\"TV Show\",\"Movie\",\"Movie\",\"Movie\",\"Movie\",\"Movie\",\"Movie\",\"Movie\",\"Movie\",\"Movie\",\"Movie\",\"TV Show\",\"Movie\",\"Movie\",\"Movie\",\"Movie\",\"TV Show\",\"TV Show\",\"Movie\",\"Movie\",\"Movie\",\"Movie\",\"Movie\",\"TV Show\",\"TV Show\",\"TV Show\",\"Movie\",\"Movie\",\"TV Show\",\"Movie\",\"Movie\",\"Movie\",\"Movie\",\"Movie\",\"Movie\",\"Movie\",\"TV Show\",\"TV Show\",\"TV Show\",\"TV Show\",\"Movie\",\"TV Show\",\"Movie\",\"TV Show\",\"Movie\",\"Movie\",\"Movie\",\"Movie\",\"Movie\",\"Movie\",\"Movie\",\"Movie\",\"Movie\",\"Movie\",\"Movie\",\"TV Show\",\"Movie\",\"Movie\",\"TV Show\",\"Movie\",\"TV Show\",\"Movie\",\"TV Show\",\"Movie\",\"Movie\",\"Movie\",\"Movie\",\"Movie\",\"Movie\",\"Movie\",\"Movie\",\"Movie\",\"Movie\",\"Movie\",\"TV Show\",\"Movie\",\"Movie\",\"Movie\",\"Movie\",\"TV Show\",\"Movie\",\"Movie\",\"TV Show\",\"TV Show\",\"Movie\",\"Movie\",\"Movie\",\"Movie\",\"Movie\",\"TV Show\",\"Movie\",\"Movie\",\"Movie\",\"TV Show\",\"Movie\",\"Movie\",\"TV Show\",\"TV Show\",\"Movie\",\"Movie\",\"Movie\",\"Movie\",\"Movie\",\"Movie\",\"Movie\",\"Movie\",\"TV Show\",\"TV Show\",\"Movie\",\"TV Show\",\"Movie\",\"Movie\",\"Movie\",\"Movie\",\"Movie\",\"TV Show\",\"Movie\",\"Movie\",\"Movie\",\"Movie\",\"Movie\",\"Movie\",\"Movie\",\"Movie\",\"Movie\",\"Movie\",\"Movie\",\"Movie\",\"TV Show\",\"Movie\",\"Movie\",\"TV Show\",\"Movie\",\"Movie\",\"Movie\",\"TV Show\",\"Movie\",\"Movie\",\"TV Show\",\"TV Show\",\"Movie\",\"Movie\",\"Movie\",\"Movie\",\"Movie\",\"Movie\",\"Movie\",\"TV Show\",\"Movie\",\"Movie\",\"TV Show\",\"Movie\",\"Movie\",\"TV Show\",\"Movie\",\"Movie\",\"TV Show\",\"Movie\",\"Movie\",\"Movie\",\"TV Show\",\"Movie\",\"Movie\",\"Movie\",\"Movie\",\"Movie\",\"Movie\",\"Movie\",\"TV Show\",\"Movie\",\"Movie\",\"TV Show\",\"Movie\",\"Movie\",\"Movie\",\"TV Show\",\"Movie\",\"Movie\",\"Movie\",\"Movie\",\"Movie\",\"Movie\",\"Movie\",\"Movie\",\"Movie\",\"TV Show\",\"Movie\",\"TV Show\",\"Movie\",\"TV Show\",\"TV Show\",\"Movie\",\"TV Show\",\"Movie\",\"Movie\",\"Movie\",\"Movie\",\"Movie\",\"Movie\",\"TV Show\",\"TV Show\",\"TV Show\",\"Movie\",\"TV Show\",\"Movie\",\"Movie\",\"TV Show\",\"Movie\",\"Movie\",\"Movie\",\"Movie\",\"Movie\",\"Movie\",\"Movie\",\"TV Show\",\"Movie\",\"Movie\",\"Movie\",\"Movie\",\"Movie\",\"Movie\",\"Movie\",\"TV Show\",\"Movie\",\"Movie\",\"Movie\",\"Movie\",\"Movie\",\"Movie\",\"Movie\",\"Movie\",\"Movie\",\"Movie\",\"TV Show\",\"Movie\",\"Movie\",\"TV Show\",\"Movie\",\"TV Show\",\"Movie\",\"Movie\",\"Movie\",\"Movie\",\"Movie\",\"Movie\",\"Movie\",\"Movie\",\"Movie\",\"Movie\",\"Movie\",\"TV Show\",\"Movie\",\"Movie\",\"Movie\",\"TV Show\",\"TV Show\",\"Movie\",\"Movie\",\"Movie\",\"TV Show\",\"TV Show\",\"Movie\",\"Movie\",\"Movie\",\"Movie\",\"Movie\",\"TV Show\",\"Movie\",\"Movie\",\"Movie\",\"Movie\",\"TV Show\",\"Movie\",\"Movie\",\"Movie\",\"Movie\",\"Movie\",\"Movie\",\"Movie\",\"Movie\",\"Movie\",\"Movie\",\"TV Show\",\"Movie\",\"TV Show\",\"Movie\",\"Movie\",\"TV Show\",\"TV Show\",\"Movie\",\"Movie\",\"Movie\",\"Movie\",\"Movie\",\"Movie\",\"TV Show\",\"Movie\",\"TV Show\",\"Movie\",\"Movie\",\"TV Show\",\"Movie\",\"TV Show\",\"Movie\",\"Movie\",\"Movie\",\"TV Show\",\"Movie\",\"Movie\",\"Movie\",\"Movie\",\"Movie\",\"Movie\",\"Movie\",\"Movie\",\"Movie\",\"TV Show\",\"Movie\",\"TV Show\",\"Movie\",\"TV Show\",\"Movie\",\"Movie\",\"Movie\",\"Movie\",\"Movie\",\"Movie\",\"Movie\",\"TV Show\",\"Movie\",\"TV Show\",\"Movie\",\"Movie\",\"Movie\",\"TV Show\",\"TV Show\",\"TV Show\",\"Movie\",\"Movie\",\"TV Show\",\"Movie\",\"TV Show\",\"Movie\",\"Movie\",\"Movie\",\"Movie\",\"TV Show\",\"Movie\",\"Movie\",\"Movie\",\"Movie\",\"Movie\",\"Movie\",\"Movie\",\"Movie\",\"Movie\",\"Movie\",\"Movie\",\"Movie\",\"Movie\",\"Movie\",\"TV Show\",\"Movie\",\"TV Show\",\"Movie\",\"Movie\",\"Movie\",\"Movie\",\"Movie\",\"Movie\",\"Movie\",\"TV Show\",\"Movie\",\"Movie\",\"Movie\",\"Movie\",\"Movie\",\"Movie\",\"Movie\",\"Movie\",\"Movie\",\"Movie\",\"TV Show\",\"Movie\",\"Movie\",\"Movie\",\"Movie\",\"Movie\",\"Movie\",\"TV Show\",\"Movie\",\"Movie\",\"Movie\",\"TV Show\",\"TV Show\",\"Movie\",\"Movie\",\"Movie\",\"TV Show\",\"Movie\",\"Movie\",\"Movie\",\"Movie\",\"Movie\",\"TV Show\",\"Movie\",\"Movie\",\"Movie\",\"Movie\",\"Movie\",\"Movie\",\"Movie\",\"Movie\",\"Movie\",\"Movie\",\"TV Show\",\"Movie\",\"Movie\",\"Movie\",\"TV Show\",\"Movie\",\"Movie\",\"Movie\",\"Movie\",\"TV Show\",\"Movie\",\"Movie\",\"Movie\",\"Movie\",\"Movie\",\"Movie\",\"Movie\",\"Movie\",\"Movie\",\"TV Show\",\"Movie\",\"Movie\",\"Movie\",\"Movie\",\"Movie\",\"Movie\",\"Movie\",\"Movie\",\"Movie\",\"Movie\",\"TV Show\",\"TV Show\",\"TV Show\",\"TV Show\",\"Movie\",\"TV Show\",\"Movie\",\"Movie\",\"Movie\",\"Movie\",\"Movie\",\"Movie\",\"Movie\",\"Movie\",\"Movie\",\"Movie\",\"Movie\",\"Movie\",\"TV Show\",\"Movie\",\"TV Show\",\"TV Show\",\"Movie\",\"Movie\",\"Movie\",\"Movie\",\"Movie\",\"Movie\",\"Movie\",\"Movie\",\"Movie\",\"Movie\",\"TV Show\",\"Movie\",\"Movie\",\"Movie\",\"Movie\",\"Movie\",\"Movie\",\"Movie\",\"TV Show\",\"Movie\",\"Movie\",\"TV Show\",\"Movie\",\"TV Show\",\"Movie\",\"Movie\",\"Movie\",\"TV Show\",\"Movie\",\"TV Show\",\"Movie\",\"Movie\",\"Movie\",\"Movie\",\"Movie\",\"Movie\",\"Movie\",\"Movie\",\"TV Show\",\"Movie\",\"TV Show\",\"TV Show\",\"Movie\",\"Movie\",\"Movie\",\"Movie\",\"TV Show\",\"Movie\",\"Movie\",\"Movie\",\"Movie\",\"Movie\",\"Movie\",\"TV Show\",\"Movie\",\"TV Show\",\"Movie\",\"Movie\",\"Movie\",\"Movie\",\"Movie\",\"Movie\",\"Movie\",\"Movie\",\"Movie\",\"Movie\",\"Movie\",\"Movie\",\"Movie\",\"Movie\",\"Movie\",\"Movie\",\"Movie\",\"TV Show\",\"TV Show\",\"TV Show\",\"Movie\",\"Movie\",\"Movie\",\"Movie\",\"TV Show\",\"Movie\",\"TV Show\",\"TV Show\",\"Movie\",\"TV Show\",\"Movie\",\"Movie\",\"Movie\",\"Movie\",\"Movie\",\"Movie\",\"Movie\",\"Movie\",\"TV Show\",\"Movie\",\"Movie\",\"Movie\",\"Movie\",\"Movie\",\"Movie\",\"Movie\",\"Movie\",\"Movie\",\"Movie\",\"Movie\",\"Movie\",\"TV Show\",\"Movie\",\"Movie\",\"Movie\",\"Movie\",\"TV Show\",\"TV Show\",\"Movie\",\"TV Show\",\"Movie\",\"Movie\",\"Movie\",\"Movie\",\"TV Show\",\"Movie\",\"Movie\",\"Movie\",\"Movie\",\"Movie\",\"Movie\",\"Movie\",\"Movie\",\"Movie\",\"Movie\",\"Movie\",\"Movie\",\"TV Show\",\"Movie\",\"Movie\",\"Movie\",\"Movie\",\"Movie\",\"Movie\",\"Movie\",\"Movie\",\"Movie\",\"TV Show\",\"Movie\",\"Movie\",\"Movie\",\"Movie\",\"Movie\",\"Movie\",\"Movie\",\"Movie\",\"TV Show\",\"TV Show\",\"TV Show\",\"TV Show\",\"TV Show\",\"Movie\",\"Movie\",\"Movie\",\"Movie\",\"Movie\",\"TV Show\",\"Movie\",\"TV Show\",\"Movie\",\"TV Show\",\"Movie\",\"Movie\",\"Movie\",\"Movie\",\"Movie\",\"Movie\",\"Movie\",\"Movie\",\"Movie\",\"Movie\",\"TV Show\",\"Movie\",\"Movie\",\"Movie\",\"Movie\",\"Movie\",\"TV Show\",\"Movie\",\"TV Show\",\"TV Show\",\"Movie\",\"Movie\",\"TV Show\",\"Movie\",\"Movie\",\"Movie\",\"TV Show\",\"Movie\",\"TV Show\",\"Movie\",\"Movie\",\"TV Show\",\"TV Show\",\"Movie\",\"Movie\",\"Movie\",\"Movie\",\"Movie\",\"TV Show\",\"Movie\",\"Movie\",\"Movie\",\"Movie\",\"TV Show\",\"Movie\",\"Movie\",\"Movie\",\"Movie\",\"Movie\",\"Movie\",\"Movie\",\"Movie\",\"TV Show\",\"Movie\",\"Movie\",\"TV Show\",\"TV Show\",\"Movie\",\"Movie\",\"Movie\",\"Movie\",\"Movie\",\"TV Show\",\"Movie\",\"TV Show\",\"Movie\",\"Movie\",\"Movie\",\"Movie\",\"TV Show\",\"Movie\",\"TV Show\",\"Movie\",\"TV Show\",\"TV Show\",\"Movie\",\"Movie\",\"Movie\",\"Movie\",\"TV Show\",\"TV Show\",\"Movie\",\"Movie\",\"Movie\",\"TV Show\",\"Movie\",\"Movie\",\"Movie\",\"Movie\",\"Movie\",\"TV Show\",\"Movie\",\"Movie\",\"Movie\",\"Movie\",\"Movie\",\"Movie\",\"Movie\",\"Movie\",\"TV Show\",\"Movie\",\"Movie\",\"Movie\",\"Movie\",\"Movie\",\"Movie\",\"TV Show\",\"TV Show\",\"Movie\",\"Movie\",\"Movie\",\"Movie\",\"TV Show\",\"TV Show\",\"TV Show\",\"Movie\",\"TV Show\",\"Movie\",\"Movie\",\"Movie\",\"Movie\",\"Movie\",\"Movie\",\"TV Show\",\"Movie\",\"Movie\",\"Movie\",\"Movie\",\"Movie\",\"Movie\",\"Movie\",\"Movie\",\"Movie\",\"Movie\",\"Movie\",\"TV Show\",\"Movie\",\"TV Show\",\"Movie\",\"TV Show\",\"TV Show\",\"Movie\",\"Movie\",\"Movie\",\"Movie\",\"Movie\",\"Movie\",\"Movie\",\"Movie\",\"TV Show\",\"Movie\",\"Movie\",\"Movie\",\"Movie\",\"Movie\",\"Movie\",\"Movie\",\"Movie\",\"Movie\",\"Movie\",\"Movie\",\"Movie\",\"Movie\",\"Movie\",\"Movie\",\"Movie\",\"TV Show\",\"TV Show\",\"Movie\",\"TV Show\",\"Movie\",\"Movie\",\"Movie\",\"Movie\",\"Movie\",\"Movie\",\"Movie\",\"TV Show\",\"TV Show\",\"Movie\",\"TV Show\",\"Movie\",\"Movie\",\"Movie\",\"TV Show\",\"Movie\",\"TV Show\",\"Movie\",\"TV Show\",\"Movie\",\"TV Show\",\"Movie\",\"Movie\",\"Movie\",\"TV Show\",\"Movie\",\"Movie\",\"Movie\",\"Movie\",\"TV Show\",\"Movie\",\"Movie\",\"Movie\",\"Movie\",\"Movie\",\"Movie\",\"Movie\",\"Movie\",\"Movie\",\"Movie\",\"Movie\",\"TV Show\",\"Movie\",\"Movie\",\"TV Show\",\"Movie\",\"TV Show\",\"Movie\",\"Movie\",\"Movie\",\"Movie\",\"Movie\",\"Movie\",\"Movie\",\"Movie\",\"Movie\",\"Movie\",\"Movie\",\"Movie\",\"Movie\",\"Movie\",\"Movie\",\"Movie\",\"TV Show\",\"Movie\",\"TV Show\",\"TV Show\",\"Movie\",\"Movie\",\"Movie\",\"Movie\",\"Movie\",\"Movie\",\"Movie\",\"Movie\",\"Movie\",\"Movie\",\"Movie\",\"Movie\",\"Movie\",\"Movie\",\"Movie\",\"TV Show\",\"Movie\",\"Movie\",\"Movie\",\"Movie\",\"Movie\",\"Movie\",\"TV Show\",\"TV Show\",\"Movie\",\"Movie\",\"Movie\",\"Movie\",\"Movie\",\"Movie\",\"Movie\",\"Movie\",\"TV Show\",\"Movie\",\"TV Show\",\"Movie\",\"Movie\",\"Movie\",\"Movie\",\"Movie\",\"Movie\",\"TV Show\",\"Movie\",\"Movie\",\"Movie\",\"TV Show\",\"Movie\",\"Movie\",\"Movie\",\"Movie\",\"Movie\",\"Movie\",\"Movie\",\"Movie\",\"Movie\",\"Movie\",\"Movie\",\"Movie\",\"Movie\",\"Movie\",\"Movie\",\"Movie\",\"TV Show\",\"TV Show\",\"Movie\",\"TV Show\",\"TV Show\",\"TV Show\",\"TV Show\",\"Movie\",\"TV Show\",\"Movie\",\"Movie\",\"Movie\",\"Movie\",\"Movie\",\"Movie\",\"Movie\",\"Movie\",\"Movie\",\"TV Show\",\"Movie\",\"TV Show\",\"TV Show\",\"Movie\",\"Movie\",\"Movie\",\"TV Show\",\"Movie\",\"Movie\",\"Movie\",\"TV Show\",\"Movie\",\"Movie\",\"Movie\",\"Movie\",\"Movie\",\"Movie\",\"Movie\",\"Movie\",\"Movie\",\"Movie\",\"Movie\",\"Movie\",\"Movie\",\"Movie\",\"Movie\",\"Movie\",\"Movie\",\"Movie\",\"Movie\",\"Movie\",\"Movie\",\"Movie\",\"Movie\",\"Movie\",\"Movie\",\"TV Show\",\"TV Show\",\"Movie\",\"Movie\",\"TV Show\",\"TV Show\",\"TV Show\",\"Movie\",\"Movie\",\"TV Show\",\"Movie\",\"Movie\",\"Movie\",\"Movie\",\"Movie\",\"Movie\",\"Movie\",\"TV Show\",\"Movie\",\"Movie\",\"Movie\",\"Movie\",\"Movie\",\"TV Show\",\"Movie\",\"TV Show\",\"TV Show\",\"Movie\",\"Movie\",\"Movie\",\"Movie\",\"Movie\",\"Movie\",\"Movie\",\"Movie\",\"Movie\",\"Movie\",\"Movie\",\"Movie\",\"Movie\",\"Movie\",\"Movie\",\"Movie\",\"TV Show\",\"Movie\",\"Movie\",\"Movie\",\"Movie\",\"TV Show\",\"Movie\",\"Movie\",\"TV Show\",\"TV Show\",\"Movie\",\"Movie\",\"Movie\",\"TV Show\",\"Movie\",\"Movie\",\"Movie\",\"Movie\",\"Movie\",\"Movie\",\"Movie\",\"Movie\",\"Movie\",\"TV Show\",\"Movie\",\"Movie\",\"Movie\",\"TV Show\",\"Movie\",\"Movie\",\"Movie\",\"Movie\",\"TV Show\",\"Movie\",\"Movie\",\"Movie\",\"Movie\",\"Movie\",\"Movie\",\"TV Show\",\"Movie\",\"Movie\",\"Movie\",\"TV Show\",\"TV Show\",\"Movie\",\"Movie\",\"Movie\",\"Movie\",\"Movie\",\"Movie\",\"Movie\",\"TV Show\",\"Movie\",\"Movie\",\"TV Show\",\"Movie\",\"Movie\",\"Movie\",\"TV Show\",\"Movie\",\"Movie\",\"Movie\",\"TV Show\",\"Movie\",\"Movie\",\"Movie\",\"Movie\",\"Movie\",\"Movie\",\"Movie\",\"Movie\",\"Movie\",\"Movie\",\"Movie\",\"Movie\",\"Movie\",\"TV Show\",\"Movie\",\"Movie\",\"Movie\",\"TV Show\",\"TV Show\",\"Movie\",\"Movie\",\"Movie\",\"Movie\",\"Movie\",\"Movie\",\"Movie\",\"TV Show\",\"Movie\",\"Movie\",\"TV Show\",\"TV Show\",\"TV Show\",\"TV Show\",\"TV Show\",\"TV Show\",\"TV Show\",\"TV Show\",\"TV Show\",\"TV Show\",\"TV Show\",\"TV Show\",\"TV Show\",\"TV Show\",\"TV Show\",\"Movie\",\"Movie\",\"Movie\",\"TV Show\",\"Movie\",\"TV Show\",\"Movie\",\"Movie\",\"TV Show\",\"TV Show\",\"TV Show\",\"TV Show\",\"TV Show\",\"Movie\",\"Movie\",\"Movie\",\"Movie\",\"Movie\",\"Movie\",\"Movie\",\"Movie\",\"TV Show\",\"Movie\",\"Movie\",\"TV Show\",\"Movie\",\"TV Show\",\"Movie\",\"Movie\",\"Movie\",\"Movie\",\"Movie\",\"TV Show\",\"Movie\",\"TV Show\",\"Movie\",\"TV Show\",\"Movie\",\"TV Show\",\"TV Show\",\"Movie\",\"TV Show\",\"Movie\",\"Movie\",\"Movie\",\"Movie\",\"Movie\",\"Movie\",\"Movie\",\"Movie\",\"Movie\",\"Movie\",\"Movie\",\"Movie\",\"TV Show\",\"Movie\",\"Movie\",\"Movie\",\"Movie\",\"Movie\",\"Movie\",\"TV Show\",\"Movie\",\"Movie\",\"TV Show\",\"Movie\",\"TV Show\",\"Movie\",\"TV Show\",\"Movie\",\"Movie\",\"Movie\",\"Movie\",\"TV Show\",\"Movie\",\"Movie\",\"TV Show\",\"Movie\",\"Movie\",\"Movie\",\"Movie\",\"Movie\",\"TV Show\",\"Movie\",\"Movie\",\"Movie\",\"Movie\",\"Movie\",\"TV Show\",\"Movie\",\"TV Show\",\"Movie\",\"Movie\",\"TV Show\",\"Movie\",\"Movie\",\"TV Show\",\"Movie\",\"TV Show\",\"Movie\",\"Movie\",\"Movie\",\"Movie\",\"Movie\",\"TV Show\",\"Movie\",\"Movie\",\"Movie\",\"Movie\",\"Movie\",\"Movie\",\"Movie\",\"Movie\",\"Movie\",\"Movie\",\"Movie\",\"Movie\",\"Movie\",\"TV Show\",\"Movie\",\"Movie\",\"Movie\",\"TV Show\",\"TV Show\",\"Movie\",\"Movie\",\"Movie\",\"Movie\",\"Movie\",\"Movie\",\"Movie\",\"Movie\",\"TV Show\",\"Movie\",\"TV Show\",\"Movie\",\"Movie\",\"Movie\",\"Movie\",\"Movie\",\"Movie\",\"Movie\",\"Movie\",\"Movie\",\"TV Show\",\"Movie\",\"Movie\",\"Movie\",\"Movie\",\"Movie\",\"Movie\",\"Movie\",\"Movie\",\"Movie\",\"Movie\",\"Movie\",\"Movie\",\"Movie\",\"Movie\",\"Movie\",\"Movie\",\"Movie\",\"Movie\",\"Movie\",\"Movie\",\"Movie\",\"Movie\",\"Movie\",\"TV Show\",\"Movie\",\"Movie\",\"Movie\",\"Movie\",\"Movie\",\"TV Show\",\"Movie\",\"Movie\",\"Movie\",\"Movie\",\"TV Show\",\"Movie\",\"Movie\",\"Movie\",\"Movie\",\"Movie\",\"Movie\",\"Movie\",\"Movie\",\"Movie\",\"Movie\",\"Movie\",\"Movie\",\"Movie\",\"Movie\",\"TV Show\",\"Movie\",\"Movie\",\"Movie\",\"Movie\",\"Movie\",\"Movie\",\"Movie\",\"Movie\",\"Movie\",\"Movie\",\"Movie\",\"Movie\",\"Movie\",\"TV Show\",\"Movie\",\"TV Show\",\"Movie\",\"Movie\",\"Movie\",\"Movie\",\"Movie\",\"Movie\",\"TV Show\",\"Movie\",\"TV Show\",\"Movie\",\"Movie\",\"Movie\",\"Movie\",\"Movie\",\"Movie\",\"Movie\",\"Movie\",\"TV Show\",\"Movie\",\"Movie\",\"Movie\",\"Movie\",\"Movie\",\"Movie\",\"Movie\",\"Movie\",\"Movie\",\"Movie\",\"Movie\",\"Movie\",\"TV Show\",\"Movie\",\"Movie\",\"Movie\",\"Movie\",\"TV Show\",\"TV Show\",\"TV Show\",\"Movie\",\"Movie\",\"Movie\",\"Movie\",\"Movie\",\"Movie\",\"Movie\",\"TV Show\",\"TV Show\",\"Movie\",\"Movie\",\"Movie\",\"Movie\",\"Movie\",\"Movie\",\"Movie\",\"Movie\",\"TV Show\",\"Movie\",\"Movie\",\"Movie\",\"Movie\",\"Movie\",\"Movie\",\"Movie\",\"Movie\",\"Movie\",\"Movie\",\"Movie\",\"Movie\",\"Movie\",\"Movie\",\"Movie\",\"Movie\",\"Movie\",\"TV Show\",\"Movie\",\"Movie\",\"Movie\",\"TV Show\",\"Movie\",\"TV Show\",\"Movie\",\"Movie\",\"Movie\",\"Movie\",\"Movie\",\"TV Show\",\"Movie\",\"Movie\",\"Movie\",\"Movie\",\"Movie\",\"Movie\",\"Movie\",\"Movie\",\"Movie\",\"Movie\",\"Movie\",\"Movie\",\"TV Show\",\"Movie\",\"TV Show\",\"Movie\",\"Movie\",\"Movie\",\"Movie\",\"Movie\",\"Movie\",\"Movie\",\"TV Show\",\"TV Show\",\"Movie\",\"Movie\",\"TV Show\",\"Movie\",\"Movie\",\"Movie\",\"Movie\",\"TV Show\",\"Movie\",\"Movie\",\"Movie\",\"Movie\",\"TV Show\",\"Movie\",\"TV Show\",\"Movie\",\"Movie\",\"Movie\",\"Movie\",\"Movie\",\"Movie\",\"Movie\",\"TV Show\",\"Movie\",\"Movie\",\"Movie\",\"TV Show\",\"Movie\",\"Movie\",\"Movie\",\"TV Show\",\"Movie\",\"Movie\",\"Movie\",\"TV Show\",\"Movie\",\"Movie\",\"TV Show\",\"Movie\",\"Movie\",\"Movie\",\"Movie\",\"TV Show\",\"Movie\",\"Movie\",\"Movie\",\"Movie\",\"Movie\",\"TV Show\",\"Movie\",\"Movie\",\"Movie\",\"TV Show\",\"TV Show\",\"Movie\",\"Movie\",\"Movie\",\"Movie\",\"Movie\",\"Movie\",\"Movie\",\"Movie\",\"Movie\",\"Movie\",\"Movie\",\"Movie\",\"Movie\",\"Movie\",\"Movie\",\"Movie\",\"TV Show\",\"Movie\",\"Movie\",\"Movie\",\"Movie\",\"Movie\",\"Movie\",\"TV Show\",\"TV Show\",\"TV Show\",\"TV Show\",\"Movie\",\"Movie\",\"Movie\",\"Movie\",\"TV Show\",\"Movie\",\"TV Show\",\"Movie\",\"Movie\",\"Movie\",\"Movie\",\"Movie\",\"Movie\",\"TV Show\",\"Movie\",\"Movie\",\"Movie\",\"TV Show\",\"Movie\",\"Movie\",\"Movie\",\"Movie\",\"Movie\",\"TV Show\",\"Movie\",\"Movie\",\"Movie\",\"Movie\",\"Movie\",\"Movie\",\"TV Show\",\"TV Show\",\"TV Show\",\"TV Show\",\"Movie\",\"Movie\",\"Movie\",\"Movie\",\"TV Show\",\"Movie\",\"TV Show\",\"Movie\",\"Movie\",\"Movie\",\"Movie\",\"Movie\",\"Movie\",\"Movie\",\"Movie\",\"Movie\",\"Movie\",\"Movie\",\"Movie\",\"Movie\",\"Movie\",\"Movie\",\"Movie\",\"Movie\",\"Movie\",\"TV Show\",\"Movie\",\"Movie\",\"Movie\",\"Movie\",\"Movie\",\"Movie\",\"Movie\",\"TV Show\",\"Movie\",\"Movie\",\"Movie\",\"Movie\",\"Movie\",\"Movie\",\"TV Show\",\"Movie\",\"Movie\",\"Movie\",\"Movie\",\"Movie\",\"Movie\",\"TV Show\",\"Movie\",\"Movie\",\"Movie\",\"Movie\",\"TV Show\",\"Movie\",\"Movie\",\"Movie\",\"Movie\",\"Movie\",\"Movie\",\"Movie\",\"Movie\",\"TV Show\",\"Movie\",\"Movie\",\"Movie\",\"Movie\",\"Movie\",\"TV Show\",\"Movie\",\"Movie\",\"Movie\",\"Movie\",\"TV Show\",\"Movie\",\"Movie\",\"Movie\",\"Movie\",\"TV Show\",\"Movie\",\"Movie\",\"Movie\",\"Movie\",\"Movie\",\"TV Show\",\"Movie\",\"Movie\",\"Movie\",\"Movie\",\"Movie\",\"Movie\",\"Movie\",\"Movie\",\"TV Show\",\"Movie\",\"Movie\",\"Movie\",\"Movie\",\"Movie\",\"Movie\",\"Movie\",\"Movie\",\"TV Show\",\"Movie\",\"Movie\",\"Movie\",\"TV Show\",\"TV Show\",\"Movie\",\"Movie\",\"Movie\",\"Movie\",\"TV Show\",\"Movie\",\"Movie\",\"Movie\",\"Movie\",\"Movie\",\"Movie\",\"Movie\",\"Movie\",\"Movie\",\"TV Show\",\"Movie\",\"Movie\",\"TV Show\",\"Movie\",\"TV Show\",\"Movie\",\"Movie\",\"Movie\",\"Movie\",\"Movie\",\"Movie\",\"Movie\",\"Movie\",\"Movie\",\"Movie\",\"TV Show\",\"Movie\",\"TV Show\",\"Movie\",\"Movie\",\"Movie\",\"TV Show\",\"Movie\",\"Movie\",\"Movie\",\"TV Show\",\"Movie\",\"Movie\",\"Movie\",\"Movie\",\"Movie\",\"Movie\",\"Movie\",\"Movie\",\"TV Show\",\"Movie\",\"TV Show\",\"Movie\",\"Movie\",\"TV Show\",\"Movie\",\"TV Show\",\"Movie\",\"Movie\",\"TV Show\",\"Movie\",\"TV Show\",\"TV Show\",\"Movie\",\"Movie\",\"Movie\",\"Movie\",\"Movie\",\"Movie\",\"Movie\",\"Movie\",\"Movie\",\"Movie\",\"Movie\",\"Movie\",\"TV Show\",\"Movie\",\"Movie\",\"Movie\",\"Movie\",\"TV Show\",\"Movie\",\"Movie\",\"Movie\",\"Movie\",\"Movie\",\"Movie\",\"Movie\",\"Movie\",\"Movie\",\"Movie\",\"Movie\",\"Movie\",\"Movie\",\"TV Show\",\"Movie\",\"Movie\",\"Movie\",\"Movie\",\"Movie\",\"Movie\",\"Movie\",\"Movie\",\"Movie\",\"TV Show\",\"TV Show\",\"TV Show\",\"TV Show\",\"Movie\",\"Movie\",\"Movie\",\"TV Show\",\"TV Show\",\"Movie\",\"TV Show\",\"Movie\",\"Movie\",\"Movie\",\"Movie\",\"Movie\",\"TV Show\",\"Movie\",\"TV Show\",\"Movie\",\"Movie\",\"TV Show\",\"Movie\",\"Movie\",\"Movie\",\"Movie\",\"Movie\",\"Movie\",\"Movie\",\"Movie\",\"Movie\",\"Movie\",\"Movie\",\"Movie\",\"Movie\",\"Movie\",\"Movie\",\"Movie\",\"Movie\",\"Movie\",\"Movie\",\"Movie\",\"Movie\",\"Movie\",\"Movie\",\"Movie\",\"Movie\",\"Movie\",\"Movie\",\"Movie\",\"TV Show\",\"Movie\",\"Movie\",\"TV Show\",\"Movie\",\"TV Show\",\"Movie\",\"Movie\",\"Movie\",\"Movie\",\"Movie\",\"TV Show\",\"Movie\",\"Movie\",\"Movie\",\"Movie\",\"Movie\",\"Movie\",\"Movie\",\"TV Show\",\"Movie\",\"Movie\",\"Movie\",\"Movie\",\"Movie\",\"Movie\",\"Movie\",\"Movie\",\"Movie\",\"Movie\",\"Movie\",\"Movie\",\"TV Show\",\"Movie\",\"Movie\",\"Movie\",\"Movie\",\"Movie\",\"Movie\",\"TV Show\",\"Movie\",\"Movie\",\"Movie\",\"Movie\",\"Movie\",\"Movie\",\"Movie\",\"TV Show\",\"TV Show\",\"Movie\",\"Movie\",\"Movie\",\"TV Show\",\"Movie\",\"Movie\",\"Movie\",\"Movie\",\"Movie\",\"Movie\",\"Movie\",\"Movie\",\"Movie\",\"TV Show\",\"Movie\",\"Movie\",\"Movie\",\"Movie\",\"Movie\",\"TV Show\",\"Movie\",\"TV Show\",\"Movie\",\"Movie\",\"TV Show\",\"TV Show\",\"Movie\",\"Movie\",\"Movie\",\"TV Show\",\"Movie\",\"TV Show\",\"Movie\",\"Movie\",\"Movie\",\"Movie\",\"Movie\",\"TV Show\",\"Movie\",\"Movie\",\"TV Show\",\"Movie\",\"Movie\",\"Movie\",\"Movie\",\"Movie\",\"Movie\",\"TV Show\",\"Movie\",\"Movie\",\"Movie\",\"Movie\",\"Movie\",\"Movie\",\"TV Show\",\"TV Show\",\"Movie\",\"Movie\",\"Movie\",\"Movie\",\"Movie\",\"Movie\",\"Movie\",\"Movie\",\"Movie\",\"Movie\",\"Movie\",\"Movie\",\"TV Show\",\"Movie\",\"Movie\",\"Movie\",\"TV Show\",\"TV Show\",\"Movie\",\"Movie\",\"TV Show\",\"Movie\",\"Movie\",\"TV Show\",\"TV Show\",\"Movie\",\"Movie\",\"Movie\",\"TV Show\",\"TV Show\",\"Movie\",\"Movie\",\"Movie\",\"TV Show\",\"Movie\",\"Movie\",\"Movie\",\"Movie\",\"Movie\",\"Movie\",\"Movie\",\"Movie\",\"Movie\",\"Movie\",\"Movie\",\"Movie\",\"Movie\",\"Movie\",\"Movie\",\"Movie\",\"Movie\",\"Movie\",\"Movie\",\"Movie\",\"Movie\",\"Movie\",\"Movie\",\"TV Show\",\"Movie\",\"Movie\",\"Movie\",\"Movie\",\"Movie\",\"Movie\",\"Movie\",\"Movie\",\"Movie\",\"Movie\",\"TV Show\",\"Movie\",\"TV Show\",\"Movie\",\"Movie\",\"Movie\",\"Movie\",\"Movie\",\"Movie\",\"TV Show\",\"Movie\",\"Movie\",\"Movie\",\"Movie\",\"Movie\",\"Movie\",\"Movie\",\"Movie\",\"Movie\",\"Movie\",\"Movie\",\"Movie\",\"Movie\",\"Movie\",\"Movie\",\"TV Show\",\"Movie\",\"Movie\",\"Movie\",\"Movie\",\"Movie\",\"Movie\",\"Movie\",\"Movie\",\"Movie\",\"TV Show\",\"Movie\",\"Movie\",\"Movie\",\"Movie\",\"TV Show\",\"Movie\",\"Movie\",\"Movie\",\"Movie\",\"Movie\",\"TV Show\",\"Movie\",\"Movie\",\"Movie\",\"Movie\",\"Movie\",\"Movie\",\"Movie\",\"Movie\",\"Movie\",\"TV Show\",\"Movie\",\"Movie\",\"Movie\",\"Movie\",\"Movie\",\"Movie\",\"Movie\",\"Movie\",\"Movie\",\"TV Show\",\"Movie\",\"TV Show\",\"Movie\",\"Movie\",\"Movie\",\"Movie\",\"Movie\",\"Movie\",\"Movie\",\"TV Show\",\"TV Show\",\"Movie\",\"Movie\",\"Movie\",\"Movie\",\"TV Show\",\"Movie\",\"Movie\",\"Movie\",\"Movie\",\"Movie\",\"Movie\",\"Movie\",\"Movie\",\"Movie\",\"TV Show\",\"Movie\",\"Movie\",\"Movie\",\"TV Show\",\"TV Show\",\"Movie\",\"Movie\",\"Movie\",\"Movie\",\"Movie\",\"TV Show\",\"Movie\",\"TV Show\",\"Movie\",\"Movie\",\"Movie\",\"Movie\",\"Movie\",\"TV Show\",\"Movie\",\"Movie\",\"TV Show\",\"Movie\",\"Movie\",\"Movie\",\"Movie\",\"Movie\",\"Movie\",\"Movie\",\"Movie\",\"Movie\",\"Movie\",\"Movie\",\"Movie\",\"Movie\",\"Movie\",\"Movie\",\"Movie\",\"TV Show\",\"Movie\",\"Movie\",\"Movie\",\"Movie\",\"TV Show\",\"Movie\",\"Movie\",\"TV Show\",\"Movie\",\"TV Show\",\"Movie\",\"Movie\",\"Movie\",\"Movie\",\"Movie\",\"Movie\",\"Movie\",\"Movie\",\"Movie\",\"TV Show\",\"TV Show\",\"TV Show\",\"Movie\",\"Movie\",\"TV Show\",\"Movie\",\"Movie\",\"TV Show\",\"Movie\",\"Movie\",\"Movie\"],\"xaxis\":\"x\",\"yaxis\":\"y\",\"type\":\"histogram\"}],                        {\"template\":{\"data\":{\"barpolar\":[{\"marker\":{\"line\":{\"color\":\"rgb(17,17,17)\",\"width\":0.5},\"pattern\":{\"fillmode\":\"overlay\",\"size\":10,\"solidity\":0.2}},\"type\":\"barpolar\"}],\"bar\":[{\"error_x\":{\"color\":\"#f2f5fa\"},\"error_y\":{\"color\":\"#f2f5fa\"},\"marker\":{\"line\":{\"color\":\"rgb(17,17,17)\",\"width\":0.5},\"pattern\":{\"fillmode\":\"overlay\",\"size\":10,\"solidity\":0.2}},\"type\":\"bar\"}],\"carpet\":[{\"aaxis\":{\"endlinecolor\":\"#A2B1C6\",\"gridcolor\":\"#506784\",\"linecolor\":\"#506784\",\"minorgridcolor\":\"#506784\",\"startlinecolor\":\"#A2B1C6\"},\"baxis\":{\"endlinecolor\":\"#A2B1C6\",\"gridcolor\":\"#506784\",\"linecolor\":\"#506784\",\"minorgridcolor\":\"#506784\",\"startlinecolor\":\"#A2B1C6\"},\"type\":\"carpet\"}],\"choropleth\":[{\"colorbar\":{\"outlinewidth\":0,\"ticks\":\"\"},\"type\":\"choropleth\"}],\"contourcarpet\":[{\"colorbar\":{\"outlinewidth\":0,\"ticks\":\"\"},\"type\":\"contourcarpet\"}],\"contour\":[{\"colorbar\":{\"outlinewidth\":0,\"ticks\":\"\"},\"colorscale\":[[0.0,\"#0d0887\"],[0.1111111111111111,\"#46039f\"],[0.2222222222222222,\"#7201a8\"],[0.3333333333333333,\"#9c179e\"],[0.4444444444444444,\"#bd3786\"],[0.5555555555555556,\"#d8576b\"],[0.6666666666666666,\"#ed7953\"],[0.7777777777777778,\"#fb9f3a\"],[0.8888888888888888,\"#fdca26\"],[1.0,\"#f0f921\"]],\"type\":\"contour\"}],\"heatmapgl\":[{\"colorbar\":{\"outlinewidth\":0,\"ticks\":\"\"},\"colorscale\":[[0.0,\"#0d0887\"],[0.1111111111111111,\"#46039f\"],[0.2222222222222222,\"#7201a8\"],[0.3333333333333333,\"#9c179e\"],[0.4444444444444444,\"#bd3786\"],[0.5555555555555556,\"#d8576b\"],[0.6666666666666666,\"#ed7953\"],[0.7777777777777778,\"#fb9f3a\"],[0.8888888888888888,\"#fdca26\"],[1.0,\"#f0f921\"]],\"type\":\"heatmapgl\"}],\"heatmap\":[{\"colorbar\":{\"outlinewidth\":0,\"ticks\":\"\"},\"colorscale\":[[0.0,\"#0d0887\"],[0.1111111111111111,\"#46039f\"],[0.2222222222222222,\"#7201a8\"],[0.3333333333333333,\"#9c179e\"],[0.4444444444444444,\"#bd3786\"],[0.5555555555555556,\"#d8576b\"],[0.6666666666666666,\"#ed7953\"],[0.7777777777777778,\"#fb9f3a\"],[0.8888888888888888,\"#fdca26\"],[1.0,\"#f0f921\"]],\"type\":\"heatmap\"}],\"histogram2dcontour\":[{\"colorbar\":{\"outlinewidth\":0,\"ticks\":\"\"},\"colorscale\":[[0.0,\"#0d0887\"],[0.1111111111111111,\"#46039f\"],[0.2222222222222222,\"#7201a8\"],[0.3333333333333333,\"#9c179e\"],[0.4444444444444444,\"#bd3786\"],[0.5555555555555556,\"#d8576b\"],[0.6666666666666666,\"#ed7953\"],[0.7777777777777778,\"#fb9f3a\"],[0.8888888888888888,\"#fdca26\"],[1.0,\"#f0f921\"]],\"type\":\"histogram2dcontour\"}],\"histogram2d\":[{\"colorbar\":{\"outlinewidth\":0,\"ticks\":\"\"},\"colorscale\":[[0.0,\"#0d0887\"],[0.1111111111111111,\"#46039f\"],[0.2222222222222222,\"#7201a8\"],[0.3333333333333333,\"#9c179e\"],[0.4444444444444444,\"#bd3786\"],[0.5555555555555556,\"#d8576b\"],[0.6666666666666666,\"#ed7953\"],[0.7777777777777778,\"#fb9f3a\"],[0.8888888888888888,\"#fdca26\"],[1.0,\"#f0f921\"]],\"type\":\"histogram2d\"}],\"histogram\":[{\"marker\":{\"pattern\":{\"fillmode\":\"overlay\",\"size\":10,\"solidity\":0.2}},\"type\":\"histogram\"}],\"mesh3d\":[{\"colorbar\":{\"outlinewidth\":0,\"ticks\":\"\"},\"type\":\"mesh3d\"}],\"parcoords\":[{\"line\":{\"colorbar\":{\"outlinewidth\":0,\"ticks\":\"\"}},\"type\":\"parcoords\"}],\"pie\":[{\"automargin\":true,\"type\":\"pie\"}],\"scatter3d\":[{\"line\":{\"colorbar\":{\"outlinewidth\":0,\"ticks\":\"\"}},\"marker\":{\"colorbar\":{\"outlinewidth\":0,\"ticks\":\"\"}},\"type\":\"scatter3d\"}],\"scattercarpet\":[{\"marker\":{\"colorbar\":{\"outlinewidth\":0,\"ticks\":\"\"}},\"type\":\"scattercarpet\"}],\"scattergeo\":[{\"marker\":{\"colorbar\":{\"outlinewidth\":0,\"ticks\":\"\"}},\"type\":\"scattergeo\"}],\"scattergl\":[{\"marker\":{\"line\":{\"color\":\"#283442\"}},\"type\":\"scattergl\"}],\"scattermapbox\":[{\"marker\":{\"colorbar\":{\"outlinewidth\":0,\"ticks\":\"\"}},\"type\":\"scattermapbox\"}],\"scatterpolargl\":[{\"marker\":{\"colorbar\":{\"outlinewidth\":0,\"ticks\":\"\"}},\"type\":\"scatterpolargl\"}],\"scatterpolar\":[{\"marker\":{\"colorbar\":{\"outlinewidth\":0,\"ticks\":\"\"}},\"type\":\"scatterpolar\"}],\"scatter\":[{\"marker\":{\"line\":{\"color\":\"#283442\"}},\"type\":\"scatter\"}],\"scatterternary\":[{\"marker\":{\"colorbar\":{\"outlinewidth\":0,\"ticks\":\"\"}},\"type\":\"scatterternary\"}],\"surface\":[{\"colorbar\":{\"outlinewidth\":0,\"ticks\":\"\"},\"colorscale\":[[0.0,\"#0d0887\"],[0.1111111111111111,\"#46039f\"],[0.2222222222222222,\"#7201a8\"],[0.3333333333333333,\"#9c179e\"],[0.4444444444444444,\"#bd3786\"],[0.5555555555555556,\"#d8576b\"],[0.6666666666666666,\"#ed7953\"],[0.7777777777777778,\"#fb9f3a\"],[0.8888888888888888,\"#fdca26\"],[1.0,\"#f0f921\"]],\"type\":\"surface\"}],\"table\":[{\"cells\":{\"fill\":{\"color\":\"#506784\"},\"line\":{\"color\":\"rgb(17,17,17)\"}},\"header\":{\"fill\":{\"color\":\"#2a3f5f\"},\"line\":{\"color\":\"rgb(17,17,17)\"}},\"type\":\"table\"}]},\"layout\":{\"annotationdefaults\":{\"arrowcolor\":\"#f2f5fa\",\"arrowhead\":0,\"arrowwidth\":1},\"autotypenumbers\":\"strict\",\"coloraxis\":{\"colorbar\":{\"outlinewidth\":0,\"ticks\":\"\"}},\"colorscale\":{\"diverging\":[[0,\"#8e0152\"],[0.1,\"#c51b7d\"],[0.2,\"#de77ae\"],[0.3,\"#f1b6da\"],[0.4,\"#fde0ef\"],[0.5,\"#f7f7f7\"],[0.6,\"#e6f5d0\"],[0.7,\"#b8e186\"],[0.8,\"#7fbc41\"],[0.9,\"#4d9221\"],[1,\"#276419\"]],\"sequential\":[[0.0,\"#0d0887\"],[0.1111111111111111,\"#46039f\"],[0.2222222222222222,\"#7201a8\"],[0.3333333333333333,\"#9c179e\"],[0.4444444444444444,\"#bd3786\"],[0.5555555555555556,\"#d8576b\"],[0.6666666666666666,\"#ed7953\"],[0.7777777777777778,\"#fb9f3a\"],[0.8888888888888888,\"#fdca26\"],[1.0,\"#f0f921\"]],\"sequentialminus\":[[0.0,\"#0d0887\"],[0.1111111111111111,\"#46039f\"],[0.2222222222222222,\"#7201a8\"],[0.3333333333333333,\"#9c179e\"],[0.4444444444444444,\"#bd3786\"],[0.5555555555555556,\"#d8576b\"],[0.6666666666666666,\"#ed7953\"],[0.7777777777777778,\"#fb9f3a\"],[0.8888888888888888,\"#fdca26\"],[1.0,\"#f0f921\"]]},\"colorway\":[\"#636efa\",\"#EF553B\",\"#00cc96\",\"#ab63fa\",\"#FFA15A\",\"#19d3f3\",\"#FF6692\",\"#B6E880\",\"#FF97FF\",\"#FECB52\"],\"font\":{\"color\":\"#f2f5fa\"},\"geo\":{\"bgcolor\":\"rgb(17,17,17)\",\"lakecolor\":\"rgb(17,17,17)\",\"landcolor\":\"rgb(17,17,17)\",\"showlakes\":true,\"showland\":true,\"subunitcolor\":\"#506784\"},\"hoverlabel\":{\"align\":\"left\"},\"hovermode\":\"closest\",\"mapbox\":{\"style\":\"dark\"},\"paper_bgcolor\":\"rgb(17,17,17)\",\"plot_bgcolor\":\"rgb(17,17,17)\",\"polar\":{\"angularaxis\":{\"gridcolor\":\"#506784\",\"linecolor\":\"#506784\",\"ticks\":\"\"},\"bgcolor\":\"rgb(17,17,17)\",\"radialaxis\":{\"gridcolor\":\"#506784\",\"linecolor\":\"#506784\",\"ticks\":\"\"}},\"scene\":{\"xaxis\":{\"backgroundcolor\":\"rgb(17,17,17)\",\"gridcolor\":\"#506784\",\"gridwidth\":2,\"linecolor\":\"#506784\",\"showbackground\":true,\"ticks\":\"\",\"zerolinecolor\":\"#C8D4E3\"},\"yaxis\":{\"backgroundcolor\":\"rgb(17,17,17)\",\"gridcolor\":\"#506784\",\"gridwidth\":2,\"linecolor\":\"#506784\",\"showbackground\":true,\"ticks\":\"\",\"zerolinecolor\":\"#C8D4E3\"},\"zaxis\":{\"backgroundcolor\":\"rgb(17,17,17)\",\"gridcolor\":\"#506784\",\"gridwidth\":2,\"linecolor\":\"#506784\",\"showbackground\":true,\"ticks\":\"\",\"zerolinecolor\":\"#C8D4E3\"}},\"shapedefaults\":{\"line\":{\"color\":\"#f2f5fa\"}},\"sliderdefaults\":{\"bgcolor\":\"#C8D4E3\",\"bordercolor\":\"rgb(17,17,17)\",\"borderwidth\":1,\"tickwidth\":0},\"ternary\":{\"aaxis\":{\"gridcolor\":\"#506784\",\"linecolor\":\"#506784\",\"ticks\":\"\"},\"baxis\":{\"gridcolor\":\"#506784\",\"linecolor\":\"#506784\",\"ticks\":\"\"},\"bgcolor\":\"rgb(17,17,17)\",\"caxis\":{\"gridcolor\":\"#506784\",\"linecolor\":\"#506784\",\"ticks\":\"\"}},\"title\":{\"x\":0.05},\"updatemenudefaults\":{\"bgcolor\":\"#506784\",\"borderwidth\":0},\"xaxis\":{\"automargin\":true,\"gridcolor\":\"#283442\",\"linecolor\":\"#506784\",\"ticks\":\"\",\"title\":{\"standoff\":15},\"zerolinecolor\":\"#283442\",\"zerolinewidth\":2},\"yaxis\":{\"automargin\":true,\"gridcolor\":\"#283442\",\"linecolor\":\"#506784\",\"ticks\":\"\",\"title\":{\"standoff\":15},\"zerolinecolor\":\"#283442\",\"zerolinewidth\":2}}},\"xaxis\":{\"anchor\":\"y\",\"domain\":[0.0,1.0],\"title\":{\"text\":\"type\"}},\"yaxis\":{\"anchor\":\"x\",\"domain\":[0.0,1.0],\"title\":{\"text\":\"count\"}},\"legend\":{\"tracegroupgap\":0},\"title\":{\"text\":\"Qty of Movies and TV Shows on Netflix\"},\"barmode\":\"relative\",\"height\":400,\"width\":800},                        {\"responsive\": true}                    ).then(function(){\n",
       "                            \n",
       "var gd = document.getElementById('ac380a80-2b44-4a8b-98ad-924ce27557cb');\n",
       "var x = new MutationObserver(function (mutations, observer) {{\n",
       "        var display = window.getComputedStyle(gd).display;\n",
       "        if (!display || display === 'none') {{\n",
       "            console.log([gd, 'removed!']);\n",
       "            Plotly.purge(gd);\n",
       "            observer.disconnect();\n",
       "        }}\n",
       "}});\n",
       "\n",
       "// Listen for the removal of the full notebook cells\n",
       "var notebookContainer = gd.closest('#notebook-container');\n",
       "if (notebookContainer) {{\n",
       "    x.observe(notebookContainer, {childList: true});\n",
       "}}\n",
       "\n",
       "// Listen for the clearing of the current output cell\n",
       "var outputEl = gd.closest('.output');\n",
       "if (outputEl) {{\n",
       "    x.observe(outputEl, {childList: true});\n",
       "}}\n",
       "\n",
       "                        })                };                });            </script>        </div>"
      ]
     },
     "metadata": {},
     "output_type": "display_data"
    }
   ],
   "source": [
    "chart_colors = ['#8c564b', '#2ca02c', '#ff7f0e', '#1f77b4',  '#FF9900', '#d1d6d5', '#333333', '#FFFFFF']\n",
    "\n",
    "fig = px.histogram(netflix_full, 'type', \n",
    "                   template= \"plotly_dark\",\n",
    "                   color_discrete_sequence= chart_colors, \n",
    "                   width = 800, height = 400,\n",
    "                   text_auto=True, \n",
    "                   title = 'Qty of Movies and TV Shows on Netflix'\n",
    "                  )\n",
    "\n",
    "fig.show()"
   ]
  },
  {
   "cell_type": "markdown",
   "id": "edc03a74",
   "metadata": {
    "execution": {
     "iopub.execute_input": "2024-05-05T16:31:25.128156Z",
     "iopub.status.busy": "2024-05-05T16:31:25.127654Z",
     "iopub.status.idle": "2024-05-05T16:31:25.147395Z",
     "shell.execute_reply": "2024-05-05T16:31:25.145916Z",
     "shell.execute_reply.started": "2024-05-05T16:31:25.128116Z"
    },
    "papermill": {
     "duration": 0.036976,
     "end_time": "2024-05-13T12:24:25.557560",
     "exception": false,
     "start_time": "2024-05-13T12:24:25.520584",
     "status": "completed"
    },
    "tags": []
   },
   "source": [
    "* We see that Movies are represented more than two times as often in our data."
   ]
  },
  {
   "cell_type": "markdown",
   "id": "e32ce0ae",
   "metadata": {
    "papermill": {
     "duration": 0.036413,
     "end_time": "2024-05-13T12:24:25.631478",
     "exception": false,
     "start_time": "2024-05-13T12:24:25.595065",
     "status": "completed"
    },
    "tags": []
   },
   "source": [
    "### TV Shows"
   ]
  },
  {
   "cell_type": "markdown",
   "id": "4f96c46d",
   "metadata": {
    "papermill": {
     "duration": 0.036468,
     "end_time": "2024-05-13T12:24:25.704917",
     "exception": false,
     "start_time": "2024-05-13T12:24:25.668449",
     "status": "completed"
    },
    "tags": []
   },
   "source": [
    "* Let'start with TV Shows"
   ]
  },
  {
   "cell_type": "markdown",
   "id": "3a5dfc34",
   "metadata": {
    "papermill": {
     "duration": 0.036347,
     "end_time": "2024-05-13T12:24:25.777967",
     "exception": false,
     "start_time": "2024-05-13T12:24:25.741620",
     "status": "completed"
    },
    "tags": []
   },
   "source": [
    "#### Release"
   ]
  },
  {
   "cell_type": "code",
   "execution_count": 10,
   "id": "04eac4bd",
   "metadata": {
    "execution": {
     "iopub.execute_input": "2024-05-13T12:24:25.855983Z",
     "iopub.status.busy": "2024-05-13T12:24:25.855193Z",
     "iopub.status.idle": "2024-05-13T12:24:25.871550Z",
     "shell.execute_reply": "2024-05-13T12:24:25.870474Z"
    },
    "papermill": {
     "duration": 0.059281,
     "end_time": "2024-05-13T12:24:25.874030",
     "exception": false,
     "start_time": "2024-05-13T12:24:25.814749",
     "status": "completed"
    },
    "tags": []
   },
   "outputs": [
    {
     "data": {
      "text/html": [
       "<div>\n",
       "<style scoped>\n",
       "    .dataframe tbody tr th:only-of-type {\n",
       "        vertical-align: middle;\n",
       "    }\n",
       "\n",
       "    .dataframe tbody tr th {\n",
       "        vertical-align: top;\n",
       "    }\n",
       "\n",
       "    .dataframe thead th {\n",
       "        text-align: right;\n",
       "    }\n",
       "</style>\n",
       "<table border=\"1\" class=\"dataframe\">\n",
       "  <thead>\n",
       "    <tr style=\"text-align: right;\">\n",
       "      <th></th>\n",
       "      <th>date_added</th>\n",
       "    </tr>\n",
       "  </thead>\n",
       "  <tbody>\n",
       "    <tr>\n",
       "      <th>1</th>\n",
       "      <td>September 24, 2021</td>\n",
       "    </tr>\n",
       "    <tr>\n",
       "      <th>2</th>\n",
       "      <td>September 24, 2021</td>\n",
       "    </tr>\n",
       "    <tr>\n",
       "      <th>3</th>\n",
       "      <td>September 24, 2021</td>\n",
       "    </tr>\n",
       "    <tr>\n",
       "      <th>4</th>\n",
       "      <td>September 24, 2021</td>\n",
       "    </tr>\n",
       "    <tr>\n",
       "      <th>5</th>\n",
       "      <td>September 24, 2021</td>\n",
       "    </tr>\n",
       "  </tbody>\n",
       "</table>\n",
       "</div>"
      ],
      "text/plain": [
       "           date_added\n",
       "1  September 24, 2021\n",
       "2  September 24, 2021\n",
       "3  September 24, 2021\n",
       "4  September 24, 2021\n",
       "5  September 24, 2021"
      ]
     },
     "execution_count": 10,
     "metadata": {},
     "output_type": "execute_result"
    }
   ],
   "source": [
    "tv_shows_release = tv_shows[['date_added']]\n",
    "tv_shows_release = tv_shows_release.dropna()\n",
    "tv_shows_release[:5]"
   ]
  },
  {
   "cell_type": "code",
   "execution_count": 11,
   "id": "bc4c61c8",
   "metadata": {
    "execution": {
     "iopub.execute_input": "2024-05-13T12:24:25.951232Z",
     "iopub.status.busy": "2024-05-13T12:24:25.950847Z",
     "iopub.status.idle": "2024-05-13T12:24:25.970092Z",
     "shell.execute_reply": "2024-05-13T12:24:25.968617Z"
    },
    "papermill": {
     "duration": 0.060193,
     "end_time": "2024-05-13T12:24:25.972588",
     "exception": false,
     "start_time": "2024-05-13T12:24:25.912395",
     "status": "completed"
    },
    "tags": []
   },
   "outputs": [
    {
     "data": {
      "text/html": [
       "<div>\n",
       "<style scoped>\n",
       "    .dataframe tbody tr th:only-of-type {\n",
       "        vertical-align: middle;\n",
       "    }\n",
       "\n",
       "    .dataframe tbody tr th {\n",
       "        vertical-align: top;\n",
       "    }\n",
       "\n",
       "    .dataframe thead th {\n",
       "        text-align: right;\n",
       "    }\n",
       "</style>\n",
       "<table border=\"1\" class=\"dataframe\">\n",
       "  <thead>\n",
       "    <tr style=\"text-align: right;\">\n",
       "      <th></th>\n",
       "      <th>date_added</th>\n",
       "      <th>month</th>\n",
       "      <th>year</th>\n",
       "    </tr>\n",
       "  </thead>\n",
       "  <tbody>\n",
       "    <tr>\n",
       "      <th>1</th>\n",
       "      <td>September 24, 2021</td>\n",
       "      <td>September</td>\n",
       "      <td>2021</td>\n",
       "    </tr>\n",
       "    <tr>\n",
       "      <th>2</th>\n",
       "      <td>September 24, 2021</td>\n",
       "      <td>September</td>\n",
       "      <td>2021</td>\n",
       "    </tr>\n",
       "    <tr>\n",
       "      <th>3</th>\n",
       "      <td>September 24, 2021</td>\n",
       "      <td>September</td>\n",
       "      <td>2021</td>\n",
       "    </tr>\n",
       "    <tr>\n",
       "      <th>4</th>\n",
       "      <td>September 24, 2021</td>\n",
       "      <td>September</td>\n",
       "      <td>2021</td>\n",
       "    </tr>\n",
       "    <tr>\n",
       "      <th>5</th>\n",
       "      <td>September 24, 2021</td>\n",
       "      <td>September</td>\n",
       "      <td>2021</td>\n",
       "    </tr>\n",
       "  </tbody>\n",
       "</table>\n",
       "</div>"
      ],
      "text/plain": [
       "           date_added      month  year\n",
       "1  September 24, 2021  September  2021\n",
       "2  September 24, 2021  September  2021\n",
       "3  September 24, 2021  September  2021\n",
       "4  September 24, 2021  September  2021\n",
       "5  September 24, 2021  September  2021"
      ]
     },
     "execution_count": 11,
     "metadata": {},
     "output_type": "execute_result"
    }
   ],
   "source": [
    "tv_shows_release['month'] = tv_shows_release['date_added'].apply(lambda x: x.split(' ')[0])\n",
    "tv_shows_release['year'] = tv_shows_release['date_added'].apply(lambda x: x.split(', ')[1])\n",
    "tv_shows_release.head()"
   ]
  },
  {
   "cell_type": "code",
   "execution_count": 12,
   "id": "c2d1ca56",
   "metadata": {
    "execution": {
     "iopub.execute_input": "2024-05-13T12:24:26.053406Z",
     "iopub.status.busy": "2024-05-13T12:24:26.052287Z",
     "iopub.status.idle": "2024-05-13T12:24:26.057462Z",
     "shell.execute_reply": "2024-05-13T12:24:26.056570Z"
    },
    "papermill": {
     "duration": 0.049262,
     "end_time": "2024-05-13T12:24:26.059931",
     "exception": false,
     "start_time": "2024-05-13T12:24:26.010669",
     "status": "completed"
    },
    "tags": []
   },
   "outputs": [],
   "source": [
    "months_list = ['January', 'February', 'March', 'April', 'May', 'June', 'July', 'August', 'September', 'October', 'November', 'December']"
   ]
  },
  {
   "cell_type": "code",
   "execution_count": 13,
   "id": "8ba96483",
   "metadata": {
    "execution": {
     "iopub.execute_input": "2024-05-13T12:24:26.137284Z",
     "iopub.status.busy": "2024-05-13T12:24:26.136483Z",
     "iopub.status.idle": "2024-05-13T12:24:26.182327Z",
     "shell.execute_reply": "2024-05-13T12:24:26.181230Z"
    },
    "papermill": {
     "duration": 0.087081,
     "end_time": "2024-05-13T12:24:26.185045",
     "exception": false,
     "start_time": "2024-05-13T12:24:26.097964",
     "status": "completed"
    },
    "tags": []
   },
   "outputs": [
    {
     "data": {
      "text/html": [
       "<div>\n",
       "<style scoped>\n",
       "    .dataframe tbody tr th:only-of-type {\n",
       "        vertical-align: middle;\n",
       "    }\n",
       "\n",
       "    .dataframe tbody tr th {\n",
       "        vertical-align: top;\n",
       "    }\n",
       "\n",
       "    .dataframe thead th {\n",
       "        text-align: right;\n",
       "    }\n",
       "</style>\n",
       "<table border=\"1\" class=\"dataframe\">\n",
       "  <thead>\n",
       "    <tr style=\"text-align: right;\">\n",
       "      <th>year</th>\n",
       "      <th>2008</th>\n",
       "      <th>2013</th>\n",
       "      <th>2014</th>\n",
       "      <th>2015</th>\n",
       "      <th>2016</th>\n",
       "      <th>2017</th>\n",
       "      <th>2018</th>\n",
       "      <th>2019</th>\n",
       "      <th>2020</th>\n",
       "      <th>2021</th>\n",
       "    </tr>\n",
       "    <tr>\n",
       "      <th>month</th>\n",
       "      <th></th>\n",
       "      <th></th>\n",
       "      <th></th>\n",
       "      <th></th>\n",
       "      <th></th>\n",
       "      <th></th>\n",
       "      <th></th>\n",
       "      <th></th>\n",
       "      <th></th>\n",
       "      <th></th>\n",
       "    </tr>\n",
       "  </thead>\n",
       "  <tbody>\n",
       "    <tr>\n",
       "      <th>January</th>\n",
       "      <td>0.0</td>\n",
       "      <td>0.0</td>\n",
       "      <td>0.0</td>\n",
       "      <td>0.0</td>\n",
       "      <td>26.0</td>\n",
       "      <td>14.0</td>\n",
       "      <td>18.0</td>\n",
       "      <td>35.0</td>\n",
       "      <td>52.0</td>\n",
       "      <td>36.0</td>\n",
       "    </tr>\n",
       "    <tr>\n",
       "      <th>February</th>\n",
       "      <td>1.0</td>\n",
       "      <td>0.0</td>\n",
       "      <td>1.0</td>\n",
       "      <td>0.0</td>\n",
       "      <td>6.0</td>\n",
       "      <td>16.0</td>\n",
       "      <td>23.0</td>\n",
       "      <td>42.0</td>\n",
       "      <td>42.0</td>\n",
       "      <td>44.0</td>\n",
       "    </tr>\n",
       "    <tr>\n",
       "      <th>March</th>\n",
       "      <td>0.0</td>\n",
       "      <td>1.0</td>\n",
       "      <td>0.0</td>\n",
       "      <td>1.0</td>\n",
       "      <td>2.0</td>\n",
       "      <td>36.0</td>\n",
       "      <td>32.0</td>\n",
       "      <td>52.0</td>\n",
       "      <td>44.0</td>\n",
       "      <td>37.0</td>\n",
       "    </tr>\n",
       "    <tr>\n",
       "      <th>April</th>\n",
       "      <td>0.0</td>\n",
       "      <td>0.0</td>\n",
       "      <td>1.0</td>\n",
       "      <td>4.0</td>\n",
       "      <td>7.0</td>\n",
       "      <td>25.0</td>\n",
       "      <td>27.0</td>\n",
       "      <td>42.0</td>\n",
       "      <td>50.0</td>\n",
       "      <td>53.0</td>\n",
       "    </tr>\n",
       "    <tr>\n",
       "      <th>May</th>\n",
       "      <td>0.0</td>\n",
       "      <td>0.0</td>\n",
       "      <td>0.0</td>\n",
       "      <td>0.0</td>\n",
       "      <td>2.0</td>\n",
       "      <td>22.0</td>\n",
       "      <td>25.0</td>\n",
       "      <td>48.0</td>\n",
       "      <td>52.0</td>\n",
       "      <td>38.0</td>\n",
       "    </tr>\n",
       "    <tr>\n",
       "      <th>June</th>\n",
       "      <td>0.0</td>\n",
       "      <td>0.0</td>\n",
       "      <td>0.0</td>\n",
       "      <td>1.0</td>\n",
       "      <td>7.0</td>\n",
       "      <td>27.0</td>\n",
       "      <td>27.0</td>\n",
       "      <td>46.0</td>\n",
       "      <td>41.0</td>\n",
       "      <td>83.0</td>\n",
       "    </tr>\n",
       "    <tr>\n",
       "      <th>July</th>\n",
       "      <td>0.0</td>\n",
       "      <td>0.0</td>\n",
       "      <td>0.0</td>\n",
       "      <td>2.0</td>\n",
       "      <td>9.0</td>\n",
       "      <td>30.0</td>\n",
       "      <td>25.0</td>\n",
       "      <td>57.0</td>\n",
       "      <td>43.0</td>\n",
       "      <td>88.0</td>\n",
       "    </tr>\n",
       "    <tr>\n",
       "      <th>August</th>\n",
       "      <td>0.0</td>\n",
       "      <td>1.0</td>\n",
       "      <td>0.0</td>\n",
       "      <td>0.0</td>\n",
       "      <td>11.0</td>\n",
       "      <td>33.0</td>\n",
       "      <td>33.0</td>\n",
       "      <td>44.0</td>\n",
       "      <td>47.0</td>\n",
       "      <td>61.0</td>\n",
       "    </tr>\n",
       "    <tr>\n",
       "      <th>September</th>\n",
       "      <td>0.0</td>\n",
       "      <td>1.0</td>\n",
       "      <td>0.0</td>\n",
       "      <td>0.0</td>\n",
       "      <td>17.0</td>\n",
       "      <td>32.0</td>\n",
       "      <td>42.0</td>\n",
       "      <td>36.0</td>\n",
       "      <td>53.0</td>\n",
       "      <td>65.0</td>\n",
       "    </tr>\n",
       "    <tr>\n",
       "      <th>October</th>\n",
       "      <td>0.0</td>\n",
       "      <td>1.0</td>\n",
       "      <td>0.0</td>\n",
       "      <td>4.0</td>\n",
       "      <td>19.0</td>\n",
       "      <td>28.0</td>\n",
       "      <td>44.0</td>\n",
       "      <td>63.0</td>\n",
       "      <td>51.0</td>\n",
       "      <td>0.0</td>\n",
       "    </tr>\n",
       "    <tr>\n",
       "      <th>November</th>\n",
       "      <td>0.0</td>\n",
       "      <td>0.0</td>\n",
       "      <td>2.0</td>\n",
       "      <td>1.0</td>\n",
       "      <td>16.0</td>\n",
       "      <td>27.0</td>\n",
       "      <td>36.0</td>\n",
       "      <td>66.0</td>\n",
       "      <td>51.0</td>\n",
       "      <td>0.0</td>\n",
       "    </tr>\n",
       "    <tr>\n",
       "      <th>December</th>\n",
       "      <td>0.0</td>\n",
       "      <td>0.0</td>\n",
       "      <td>0.0</td>\n",
       "      <td>4.0</td>\n",
       "      <td>43.0</td>\n",
       "      <td>35.0</td>\n",
       "      <td>56.0</td>\n",
       "      <td>44.0</td>\n",
       "      <td>68.0</td>\n",
       "      <td>0.0</td>\n",
       "    </tr>\n",
       "  </tbody>\n",
       "</table>\n",
       "</div>"
      ],
      "text/plain": [
       "year       2008  2013  2014  2015  2016  2017  2018  2019  2020  2021\n",
       "month                                                                \n",
       "January     0.0   0.0   0.0   0.0  26.0  14.0  18.0  35.0  52.0  36.0\n",
       "February    1.0   0.0   1.0   0.0   6.0  16.0  23.0  42.0  42.0  44.0\n",
       "March       0.0   1.0   0.0   1.0   2.0  36.0  32.0  52.0  44.0  37.0\n",
       "April       0.0   0.0   1.0   4.0   7.0  25.0  27.0  42.0  50.0  53.0\n",
       "May         0.0   0.0   0.0   0.0   2.0  22.0  25.0  48.0  52.0  38.0\n",
       "June        0.0   0.0   0.0   1.0   7.0  27.0  27.0  46.0  41.0  83.0\n",
       "July        0.0   0.0   0.0   2.0   9.0  30.0  25.0  57.0  43.0  88.0\n",
       "August      0.0   1.0   0.0   0.0  11.0  33.0  33.0  44.0  47.0  61.0\n",
       "September   0.0   1.0   0.0   0.0  17.0  32.0  42.0  36.0  53.0  65.0\n",
       "October     0.0   1.0   0.0   4.0  19.0  28.0  44.0  63.0  51.0   0.0\n",
       "November    0.0   0.0   2.0   1.0  16.0  27.0  36.0  66.0  51.0   0.0\n",
       "December    0.0   0.0   0.0   4.0  43.0  35.0  56.0  44.0  68.0   0.0"
      ]
     },
     "execution_count": 13,
     "metadata": {},
     "output_type": "execute_result"
    }
   ],
   "source": [
    "tv_shows_release_matrix =  tv_shows_release.groupby('year')['month'].value_counts().unstack()[months_list].fillna(0).T\n",
    "tv_shows_release_matrix"
   ]
  },
  {
   "cell_type": "code",
   "execution_count": 14,
   "id": "cae14308",
   "metadata": {
    "execution": {
     "iopub.execute_input": "2024-05-13T12:24:26.264652Z",
     "iopub.status.busy": "2024-05-13T12:24:26.264237Z",
     "iopub.status.idle": "2024-05-13T12:24:26.359251Z",
     "shell.execute_reply": "2024-05-13T12:24:26.358108Z"
    },
    "papermill": {
     "duration": 0.138224,
     "end_time": "2024-05-13T12:24:26.362027",
     "exception": false,
     "start_time": "2024-05-13T12:24:26.223803",
     "status": "completed"
    },
    "tags": []
   },
   "outputs": [
    {
     "data": {
      "text/html": [
       "<div>                            <div id=\"dcc7eab6-3c23-456e-86f4-6a8b21f6ea45\" class=\"plotly-graph-div\" style=\"height:800px; width:800px;\"></div>            <script type=\"text/javascript\">                require([\"plotly\"], function(Plotly) {                    window.PLOTLYENV=window.PLOTLYENV || {};                                    if (document.getElementById(\"dcc7eab6-3c23-456e-86f4-6a8b21f6ea45\")) {                    Plotly.newPlot(                        \"dcc7eab6-3c23-456e-86f4-6a8b21f6ea45\",                        [{\"coloraxis\":\"coloraxis\",\"name\":\"0\",\"texttemplate\":\"%{z}\",\"x\":[\"2008\",\"2013\",\"2014\",\"2015\",\"2016\",\"2017\",\"2018\",\"2019\",\"2020\",\"2021\"],\"y\":[\"January\",\"February\",\"March\",\"April\",\"May\",\"June\",\"July\",\"August\",\"September\",\"October\",\"November\",\"December\"],\"z\":[[0.0,0.0,0.0,0.0,26.0,14.0,18.0,35.0,52.0,36.0],[1.0,0.0,1.0,0.0,6.0,16.0,23.0,42.0,42.0,44.0],[0.0,1.0,0.0,1.0,2.0,36.0,32.0,52.0,44.0,37.0],[0.0,0.0,1.0,4.0,7.0,25.0,27.0,42.0,50.0,53.0],[0.0,0.0,0.0,0.0,2.0,22.0,25.0,48.0,52.0,38.0],[0.0,0.0,0.0,1.0,7.0,27.0,27.0,46.0,41.0,83.0],[0.0,0.0,0.0,2.0,9.0,30.0,25.0,57.0,43.0,88.0],[0.0,1.0,0.0,0.0,11.0,33.0,33.0,44.0,47.0,61.0],[0.0,1.0,0.0,0.0,17.0,32.0,42.0,36.0,53.0,65.0],[0.0,1.0,0.0,4.0,19.0,28.0,44.0,63.0,51.0,0.0],[0.0,0.0,2.0,1.0,16.0,27.0,36.0,66.0,51.0,0.0],[0.0,0.0,0.0,4.0,43.0,35.0,56.0,44.0,68.0,0.0]],\"type\":\"heatmap\",\"xaxis\":\"x\",\"yaxis\":\"y\",\"hovertemplate\":\"year: %{x}\\u003cbr\\u003emonth: %{y}\\u003cbr\\u003ecolor: %{z}\\u003cextra\\u003e\\u003c\\u002fextra\\u003e\"}],                        {\"template\":{\"data\":{\"barpolar\":[{\"marker\":{\"line\":{\"color\":\"rgb(17,17,17)\",\"width\":0.5},\"pattern\":{\"fillmode\":\"overlay\",\"size\":10,\"solidity\":0.2}},\"type\":\"barpolar\"}],\"bar\":[{\"error_x\":{\"color\":\"#f2f5fa\"},\"error_y\":{\"color\":\"#f2f5fa\"},\"marker\":{\"line\":{\"color\":\"rgb(17,17,17)\",\"width\":0.5},\"pattern\":{\"fillmode\":\"overlay\",\"size\":10,\"solidity\":0.2}},\"type\":\"bar\"}],\"carpet\":[{\"aaxis\":{\"endlinecolor\":\"#A2B1C6\",\"gridcolor\":\"#506784\",\"linecolor\":\"#506784\",\"minorgridcolor\":\"#506784\",\"startlinecolor\":\"#A2B1C6\"},\"baxis\":{\"endlinecolor\":\"#A2B1C6\",\"gridcolor\":\"#506784\",\"linecolor\":\"#506784\",\"minorgridcolor\":\"#506784\",\"startlinecolor\":\"#A2B1C6\"},\"type\":\"carpet\"}],\"choropleth\":[{\"colorbar\":{\"outlinewidth\":0,\"ticks\":\"\"},\"type\":\"choropleth\"}],\"contourcarpet\":[{\"colorbar\":{\"outlinewidth\":0,\"ticks\":\"\"},\"type\":\"contourcarpet\"}],\"contour\":[{\"colorbar\":{\"outlinewidth\":0,\"ticks\":\"\"},\"colorscale\":[[0.0,\"#0d0887\"],[0.1111111111111111,\"#46039f\"],[0.2222222222222222,\"#7201a8\"],[0.3333333333333333,\"#9c179e\"],[0.4444444444444444,\"#bd3786\"],[0.5555555555555556,\"#d8576b\"],[0.6666666666666666,\"#ed7953\"],[0.7777777777777778,\"#fb9f3a\"],[0.8888888888888888,\"#fdca26\"],[1.0,\"#f0f921\"]],\"type\":\"contour\"}],\"heatmapgl\":[{\"colorbar\":{\"outlinewidth\":0,\"ticks\":\"\"},\"colorscale\":[[0.0,\"#0d0887\"],[0.1111111111111111,\"#46039f\"],[0.2222222222222222,\"#7201a8\"],[0.3333333333333333,\"#9c179e\"],[0.4444444444444444,\"#bd3786\"],[0.5555555555555556,\"#d8576b\"],[0.6666666666666666,\"#ed7953\"],[0.7777777777777778,\"#fb9f3a\"],[0.8888888888888888,\"#fdca26\"],[1.0,\"#f0f921\"]],\"type\":\"heatmapgl\"}],\"heatmap\":[{\"colorbar\":{\"outlinewidth\":0,\"ticks\":\"\"},\"colorscale\":[[0.0,\"#0d0887\"],[0.1111111111111111,\"#46039f\"],[0.2222222222222222,\"#7201a8\"],[0.3333333333333333,\"#9c179e\"],[0.4444444444444444,\"#bd3786\"],[0.5555555555555556,\"#d8576b\"],[0.6666666666666666,\"#ed7953\"],[0.7777777777777778,\"#fb9f3a\"],[0.8888888888888888,\"#fdca26\"],[1.0,\"#f0f921\"]],\"type\":\"heatmap\"}],\"histogram2dcontour\":[{\"colorbar\":{\"outlinewidth\":0,\"ticks\":\"\"},\"colorscale\":[[0.0,\"#0d0887\"],[0.1111111111111111,\"#46039f\"],[0.2222222222222222,\"#7201a8\"],[0.3333333333333333,\"#9c179e\"],[0.4444444444444444,\"#bd3786\"],[0.5555555555555556,\"#d8576b\"],[0.6666666666666666,\"#ed7953\"],[0.7777777777777778,\"#fb9f3a\"],[0.8888888888888888,\"#fdca26\"],[1.0,\"#f0f921\"]],\"type\":\"histogram2dcontour\"}],\"histogram2d\":[{\"colorbar\":{\"outlinewidth\":0,\"ticks\":\"\"},\"colorscale\":[[0.0,\"#0d0887\"],[0.1111111111111111,\"#46039f\"],[0.2222222222222222,\"#7201a8\"],[0.3333333333333333,\"#9c179e\"],[0.4444444444444444,\"#bd3786\"],[0.5555555555555556,\"#d8576b\"],[0.6666666666666666,\"#ed7953\"],[0.7777777777777778,\"#fb9f3a\"],[0.8888888888888888,\"#fdca26\"],[1.0,\"#f0f921\"]],\"type\":\"histogram2d\"}],\"histogram\":[{\"marker\":{\"pattern\":{\"fillmode\":\"overlay\",\"size\":10,\"solidity\":0.2}},\"type\":\"histogram\"}],\"mesh3d\":[{\"colorbar\":{\"outlinewidth\":0,\"ticks\":\"\"},\"type\":\"mesh3d\"}],\"parcoords\":[{\"line\":{\"colorbar\":{\"outlinewidth\":0,\"ticks\":\"\"}},\"type\":\"parcoords\"}],\"pie\":[{\"automargin\":true,\"type\":\"pie\"}],\"scatter3d\":[{\"line\":{\"colorbar\":{\"outlinewidth\":0,\"ticks\":\"\"}},\"marker\":{\"colorbar\":{\"outlinewidth\":0,\"ticks\":\"\"}},\"type\":\"scatter3d\"}],\"scattercarpet\":[{\"marker\":{\"colorbar\":{\"outlinewidth\":0,\"ticks\":\"\"}},\"type\":\"scattercarpet\"}],\"scattergeo\":[{\"marker\":{\"colorbar\":{\"outlinewidth\":0,\"ticks\":\"\"}},\"type\":\"scattergeo\"}],\"scattergl\":[{\"marker\":{\"line\":{\"color\":\"#283442\"}},\"type\":\"scattergl\"}],\"scattermapbox\":[{\"marker\":{\"colorbar\":{\"outlinewidth\":0,\"ticks\":\"\"}},\"type\":\"scattermapbox\"}],\"scatterpolargl\":[{\"marker\":{\"colorbar\":{\"outlinewidth\":0,\"ticks\":\"\"}},\"type\":\"scatterpolargl\"}],\"scatterpolar\":[{\"marker\":{\"colorbar\":{\"outlinewidth\":0,\"ticks\":\"\"}},\"type\":\"scatterpolar\"}],\"scatter\":[{\"marker\":{\"line\":{\"color\":\"#283442\"}},\"type\":\"scatter\"}],\"scatterternary\":[{\"marker\":{\"colorbar\":{\"outlinewidth\":0,\"ticks\":\"\"}},\"type\":\"scatterternary\"}],\"surface\":[{\"colorbar\":{\"outlinewidth\":0,\"ticks\":\"\"},\"colorscale\":[[0.0,\"#0d0887\"],[0.1111111111111111,\"#46039f\"],[0.2222222222222222,\"#7201a8\"],[0.3333333333333333,\"#9c179e\"],[0.4444444444444444,\"#bd3786\"],[0.5555555555555556,\"#d8576b\"],[0.6666666666666666,\"#ed7953\"],[0.7777777777777778,\"#fb9f3a\"],[0.8888888888888888,\"#fdca26\"],[1.0,\"#f0f921\"]],\"type\":\"surface\"}],\"table\":[{\"cells\":{\"fill\":{\"color\":\"#506784\"},\"line\":{\"color\":\"rgb(17,17,17)\"}},\"header\":{\"fill\":{\"color\":\"#2a3f5f\"},\"line\":{\"color\":\"rgb(17,17,17)\"}},\"type\":\"table\"}]},\"layout\":{\"annotationdefaults\":{\"arrowcolor\":\"#f2f5fa\",\"arrowhead\":0,\"arrowwidth\":1},\"autotypenumbers\":\"strict\",\"coloraxis\":{\"colorbar\":{\"outlinewidth\":0,\"ticks\":\"\"}},\"colorscale\":{\"diverging\":[[0,\"#8e0152\"],[0.1,\"#c51b7d\"],[0.2,\"#de77ae\"],[0.3,\"#f1b6da\"],[0.4,\"#fde0ef\"],[0.5,\"#f7f7f7\"],[0.6,\"#e6f5d0\"],[0.7,\"#b8e186\"],[0.8,\"#7fbc41\"],[0.9,\"#4d9221\"],[1,\"#276419\"]],\"sequential\":[[0.0,\"#0d0887\"],[0.1111111111111111,\"#46039f\"],[0.2222222222222222,\"#7201a8\"],[0.3333333333333333,\"#9c179e\"],[0.4444444444444444,\"#bd3786\"],[0.5555555555555556,\"#d8576b\"],[0.6666666666666666,\"#ed7953\"],[0.7777777777777778,\"#fb9f3a\"],[0.8888888888888888,\"#fdca26\"],[1.0,\"#f0f921\"]],\"sequentialminus\":[[0.0,\"#0d0887\"],[0.1111111111111111,\"#46039f\"],[0.2222222222222222,\"#7201a8\"],[0.3333333333333333,\"#9c179e\"],[0.4444444444444444,\"#bd3786\"],[0.5555555555555556,\"#d8576b\"],[0.6666666666666666,\"#ed7953\"],[0.7777777777777778,\"#fb9f3a\"],[0.8888888888888888,\"#fdca26\"],[1.0,\"#f0f921\"]]},\"colorway\":[\"#636efa\",\"#EF553B\",\"#00cc96\",\"#ab63fa\",\"#FFA15A\",\"#19d3f3\",\"#FF6692\",\"#B6E880\",\"#FF97FF\",\"#FECB52\"],\"font\":{\"color\":\"#f2f5fa\"},\"geo\":{\"bgcolor\":\"rgb(17,17,17)\",\"lakecolor\":\"rgb(17,17,17)\",\"landcolor\":\"rgb(17,17,17)\",\"showlakes\":true,\"showland\":true,\"subunitcolor\":\"#506784\"},\"hoverlabel\":{\"align\":\"left\"},\"hovermode\":\"closest\",\"mapbox\":{\"style\":\"dark\"},\"paper_bgcolor\":\"rgb(17,17,17)\",\"plot_bgcolor\":\"rgb(17,17,17)\",\"polar\":{\"angularaxis\":{\"gridcolor\":\"#506784\",\"linecolor\":\"#506784\",\"ticks\":\"\"},\"bgcolor\":\"rgb(17,17,17)\",\"radialaxis\":{\"gridcolor\":\"#506784\",\"linecolor\":\"#506784\",\"ticks\":\"\"}},\"scene\":{\"xaxis\":{\"backgroundcolor\":\"rgb(17,17,17)\",\"gridcolor\":\"#506784\",\"gridwidth\":2,\"linecolor\":\"#506784\",\"showbackground\":true,\"ticks\":\"\",\"zerolinecolor\":\"#C8D4E3\"},\"yaxis\":{\"backgroundcolor\":\"rgb(17,17,17)\",\"gridcolor\":\"#506784\",\"gridwidth\":2,\"linecolor\":\"#506784\",\"showbackground\":true,\"ticks\":\"\",\"zerolinecolor\":\"#C8D4E3\"},\"zaxis\":{\"backgroundcolor\":\"rgb(17,17,17)\",\"gridcolor\":\"#506784\",\"gridwidth\":2,\"linecolor\":\"#506784\",\"showbackground\":true,\"ticks\":\"\",\"zerolinecolor\":\"#C8D4E3\"}},\"shapedefaults\":{\"line\":{\"color\":\"#f2f5fa\"}},\"sliderdefaults\":{\"bgcolor\":\"#C8D4E3\",\"bordercolor\":\"rgb(17,17,17)\",\"borderwidth\":1,\"tickwidth\":0},\"ternary\":{\"aaxis\":{\"gridcolor\":\"#506784\",\"linecolor\":\"#506784\",\"ticks\":\"\"},\"baxis\":{\"gridcolor\":\"#506784\",\"linecolor\":\"#506784\",\"ticks\":\"\"},\"bgcolor\":\"rgb(17,17,17)\",\"caxis\":{\"gridcolor\":\"#506784\",\"linecolor\":\"#506784\",\"ticks\":\"\"}},\"title\":{\"x\":0.05},\"updatemenudefaults\":{\"bgcolor\":\"#506784\",\"borderwidth\":0},\"xaxis\":{\"automargin\":true,\"gridcolor\":\"#283442\",\"linecolor\":\"#506784\",\"ticks\":\"\",\"title\":{\"standoff\":15},\"zerolinecolor\":\"#283442\",\"zerolinewidth\":2},\"yaxis\":{\"automargin\":true,\"gridcolor\":\"#283442\",\"linecolor\":\"#506784\",\"ticks\":\"\",\"title\":{\"standoff\":15},\"zerolinecolor\":\"#283442\",\"zerolinewidth\":2}}},\"xaxis\":{\"anchor\":\"y\",\"domain\":[0.0,1.0],\"scaleanchor\":\"y\",\"constrain\":\"domain\",\"title\":{\"text\":\"year\"}},\"yaxis\":{\"anchor\":\"x\",\"domain\":[0.0,1.0],\"autorange\":\"reversed\",\"constrain\":\"domain\",\"title\":{\"text\":\"month\"}},\"coloraxis\":{\"colorscale\":[[0.0,\"#0d0887\"],[0.1111111111111111,\"#46039f\"],[0.2222222222222222,\"#7201a8\"],[0.3333333333333333,\"#9c179e\"],[0.4444444444444444,\"#bd3786\"],[0.5555555555555556,\"#d8576b\"],[0.6666666666666666,\"#ed7953\"],[0.7777777777777778,\"#fb9f3a\"],[0.8888888888888888,\"#fdca26\"],[1.0,\"#f0f921\"]]},\"title\":{\"text\":\"Release matrix\"},\"height\":800,\"width\":800},                        {\"responsive\": true}                    ).then(function(){\n",
       "                            \n",
       "var gd = document.getElementById('dcc7eab6-3c23-456e-86f4-6a8b21f6ea45');\n",
       "var x = new MutationObserver(function (mutations, observer) {{\n",
       "        var display = window.getComputedStyle(gd).display;\n",
       "        if (!display || display === 'none') {{\n",
       "            console.log([gd, 'removed!']);\n",
       "            Plotly.purge(gd);\n",
       "            observer.disconnect();\n",
       "        }}\n",
       "}});\n",
       "\n",
       "// Listen for the removal of the full notebook cells\n",
       "var notebookContainer = gd.closest('#notebook-container');\n",
       "if (notebookContainer) {{\n",
       "    x.observe(notebookContainer, {childList: true});\n",
       "}}\n",
       "\n",
       "// Listen for the clearing of the current output cell\n",
       "var outputEl = gd.closest('.output');\n",
       "if (outputEl) {{\n",
       "    x.observe(outputEl, {childList: true});\n",
       "}}\n",
       "\n",
       "                        })                };                });            </script>        </div>"
      ]
     },
     "metadata": {},
     "output_type": "display_data"
    }
   ],
   "source": [
    "fig = px.imshow(tv_shows_release_matrix, \n",
    "                template= \"plotly_dark\",\n",
    "                text_auto=True,\n",
    "                width = 800, height = 800, \n",
    "                title = 'Release matrix')\n",
    "fig.show()\n",
    "\n",
    "# The lighter the month the more frequently projects launched "
   ]
  },
  {
   "cell_type": "code",
   "execution_count": 15,
   "id": "e09377a3",
   "metadata": {
    "execution": {
     "iopub.execute_input": "2024-05-13T12:24:26.444335Z",
     "iopub.status.busy": "2024-05-13T12:24:26.443593Z",
     "iopub.status.idle": "2024-05-13T12:24:26.525233Z",
     "shell.execute_reply": "2024-05-13T12:24:26.524299Z"
    },
    "papermill": {
     "duration": 0.124794,
     "end_time": "2024-05-13T12:24:26.527577",
     "exception": false,
     "start_time": "2024-05-13T12:24:26.402783",
     "status": "completed"
    },
    "tags": []
   },
   "outputs": [
    {
     "data": {
      "text/html": [
       "<div>                            <div id=\"cef74ada-eab4-4aa0-83b5-94b4afb6ad90\" class=\"plotly-graph-div\" style=\"height:500px; width:800px;\"></div>            <script type=\"text/javascript\">                require([\"plotly\"], function(Plotly) {                    window.PLOTLYENV=window.PLOTLYENV || {};                                    if (document.getElementById(\"cef74ada-eab4-4aa0-83b5-94b4afb6ad90\")) {                    Plotly.newPlot(                        \"cef74ada-eab4-4aa0-83b5-94b4afb6ad90\",                        [{\"alignmentgroup\":\"True\",\"bingroup\":\"x\",\"hovertemplate\":\"year=%{x}\\u003cbr\\u003ecount=%{y}\\u003cextra\\u003e\\u003c\\u002fextra\\u003e\",\"legendgroup\":\"\",\"marker\":{\"color\":\"#F9917A\",\"pattern\":{\"shape\":\"\"}},\"name\":\"\",\"offsetgroup\":\"\",\"orientation\":\"v\",\"showlegend\":false,\"texttemplate\":\"%{value}\",\"x\":[\"2021\",\"2021\",\"2021\",\"2021\",\"2021\",\"2021\",\"2021\",\"2021\",\"2021\",\"2021\",\"2021\",\"2021\",\"2021\",\"2021\",\"2021\",\"2021\",\"2021\",\"2021\",\"2021\",\"2021\",\"2021\",\"2021\",\"2021\",\"2021\",\"2021\",\"2021\",\"2021\",\"2021\",\"2021\",\"2021\",\"2021\",\"2021\",\"2021\",\"2021\",\"2021\",\"2021\",\"2021\",\"2021\",\"2021\",\"2021\",\"2021\",\"2021\",\"2021\",\"2021\",\"2021\",\"2021\",\"2021\",\"2021\",\"2021\",\"2021\",\"2021\",\"2021\",\"2021\",\"2021\",\"2021\",\"2021\",\"2021\",\"2021\",\"2021\",\"2021\",\"2021\",\"2021\",\"2021\",\"2021\",\"2021\",\"2021\",\"2021\",\"2021\",\"2021\",\"2021\",\"2021\",\"2021\",\"2021\",\"2021\",\"2021\",\"2021\",\"2021\",\"2021\",\"2021\",\"2021\",\"2021\",\"2021\",\"2021\",\"2021\",\"2021\",\"2021\",\"2021\",\"2021\",\"2021\",\"2021\",\"2021\",\"2021\",\"2021\",\"2021\",\"2021\",\"2021\",\"2021\",\"2021\",\"2021\",\"2021\",\"2021\",\"2021\",\"2021\",\"2021\",\"2021\",\"2021\",\"2021\",\"2021\",\"2021\",\"2021\",\"2021\",\"2021\",\"2021\",\"2021\",\"2021\",\"2021\",\"2021\",\"2021\",\"2021\",\"2021\",\"2021\",\"2021\",\"2021\",\"2021\",\"2021\",\"2021\",\"2021\",\"2021\",\"2021\",\"2021\",\"2021\",\"2021\",\"2021\",\"2021\",\"2021\",\"2021\",\"2021\",\"2021\",\"2021\",\"2021\",\"2021\",\"2021\",\"2021\",\"2021\",\"2021\",\"2021\",\"2021\",\"2021\",\"2021\",\"2021\",\"2021\",\"2021\",\"2021\",\"2021\",\"2021\",\"2021\",\"2021\",\"2021\",\"2021\",\"2021\",\"2021\",\"2021\",\"2021\",\"2021\",\"2021\",\"2021\",\"2021\",\"2021\",\"2021\",\"2021\",\"2021\",\"2021\",\"2021\",\"2021\",\"2021\",\"2021\",\"2021\",\"2021\",\"2021\",\"2021\",\"2021\",\"2021\",\"2021\",\"2021\",\"2021\",\"2021\",\"2021\",\"2021\",\"2021\",\"2021\",\"2021\",\"2021\",\"2021\",\"2021\",\"2021\",\"2021\",\"2021\",\"2021\",\"2021\",\"2021\",\"2021\",\"2021\",\"2021\",\"2021\",\"2021\",\"2021\",\"2021\",\"2021\",\"2021\",\"2021\",\"2021\",\"2021\",\"2021\",\"2021\",\"2021\",\"2021\",\"2021\",\"2021\",\"2021\",\"2021\",\"2021\",\"2021\",\"2021\",\"2021\",\"2021\",\"2021\",\"2021\",\"2021\",\"2021\",\"2021\",\"2021\",\"2021\",\"2021\",\"2021\",\"2021\",\"2021\",\"2021\",\"2021\",\"2021\",\"2021\",\"2021\",\"2021\",\"2021\",\"2021\",\"2021\",\"2021\",\"2021\",\"2021\",\"2021\",\"2021\",\"2021\",\"2021\",\"2021\",\"2021\",\"2021\",\"2021\",\"2021\",\"2021\",\"2021\",\"2021\",\"2021\",\"2021\",\"2021\",\"2021\",\"2021\",\"2021\",\"2021\",\"2021\",\"2021\",\"2021\",\"2021\",\"2021\",\"2021\",\"2021\",\"2021\",\"2021\",\"2021\",\"2021\",\"2021\",\"2021\",\"2021\",\"2021\",\"2021\",\"2021\",\"2021\",\"2021\",\"2021\",\"2021\",\"2021\",\"2021\",\"2021\",\"2021\",\"2021\",\"2021\",\"2021\",\"2021\",\"2021\",\"2021\",\"2021\",\"2021\",\"2021\",\"2021\",\"2021\",\"2021\",\"2021\",\"2021\",\"2021\",\"2021\",\"2021\",\"2021\",\"2021\",\"2021\",\"2021\",\"2021\",\"2021\",\"2021\",\"2021\",\"2021\",\"2021\",\"2021\",\"2021\",\"2021\",\"2021\",\"2021\",\"2021\",\"2021\",\"2021\",\"2021\",\"2021\",\"2021\",\"2021\",\"2021\",\"2021\",\"2021\",\"2021\",\"2021\",\"2021\",\"2021\",\"2021\",\"2021\",\"2021\",\"2021\",\"2021\",\"2021\",\"2021\",\"2021\",\"2021\",\"2021\",\"2021\",\"2021\",\"2021\",\"2021\",\"2021\",\"2021\",\"2021\",\"2021\",\"2021\",\"2021\",\"2021\",\"2021\",\"2021\",\"2021\",\"2021\",\"2021\",\"2021\",\"2021\",\"2021\",\"2021\",\"2021\",\"2021\",\"2021\",\"2021\",\"2021\",\"2021\",\"2021\",\"2021\",\"2021\",\"2021\",\"2021\",\"2021\",\"2021\",\"2021\",\"2021\",\"2021\",\"2021\",\"2021\",\"2021\",\"2021\",\"2021\",\"2021\",\"2021\",\"2021\",\"2021\",\"2021\",\"2021\",\"2021\",\"2021\",\"2021\",\"2021\",\"2021\",\"2021\",\"2021\",\"2021\",\"2021\",\"2021\",\"2021\",\"2021\",\"2021\",\"2021\",\"2021\",\"2021\",\"2021\",\"2021\",\"2021\",\"2021\",\"2021\",\"2021\",\"2021\",\"2021\",\"2021\",\"2021\",\"2021\",\"2021\",\"2021\",\"2021\",\"2021\",\"2021\",\"2021\",\"2021\",\"2021\",\"2021\",\"2021\",\"2021\",\"2021\",\"2021\",\"2021\",\"2021\",\"2021\",\"2021\",\"2021\",\"2021\",\"2021\",\"2021\",\"2021\",\"2021\",\"2021\",\"2021\",\"2021\",\"2021\",\"2021\",\"2021\",\"2021\",\"2021\",\"2021\",\"2021\",\"2021\",\"2021\",\"2021\",\"2021\",\"2021\",\"2021\",\"2021\",\"2021\",\"2021\",\"2021\",\"2021\",\"2021\",\"2021\",\"2021\",\"2021\",\"2021\",\"2021\",\"2021\",\"2021\",\"2021\",\"2021\",\"2021\",\"2021\",\"2021\",\"2021\",\"2021\",\"2021\",\"2021\",\"2021\",\"2021\",\"2021\",\"2021\",\"2021\",\"2021\",\"2021\",\"2021\",\"2021\",\"2021\",\"2021\",\"2021\",\"2021\",\"2021\",\"2021\",\"2021\",\"2021\",\"2021\",\"2021\",\"2021\",\"2021\",\"2020\",\"2020\",\"2020\",\"2020\",\"2020\",\"2020\",\"2020\",\"2020\",\"2020\",\"2020\",\"2020\",\"2020\",\"2020\",\"2020\",\"2020\",\"2020\",\"2020\",\"2020\",\"2020\",\"2020\",\"2020\",\"2020\",\"2020\",\"2020\",\"2020\",\"2020\",\"2020\",\"2020\",\"2020\",\"2020\",\"2020\",\"2020\",\"2020\",\"2020\",\"2020\",\"2020\",\"2020\",\"2020\",\"2020\",\"2020\",\"2020\",\"2020\",\"2020\",\"2020\",\"2020\",\"2020\",\"2020\",\"2020\",\"2020\",\"2020\",\"2020\",\"2020\",\"2020\",\"2020\",\"2020\",\"2020\",\"2020\",\"2020\",\"2020\",\"2020\",\"2020\",\"2020\",\"2020\",\"2020\",\"2020\",\"2020\",\"2020\",\"2020\",\"2020\",\"2020\",\"2020\",\"2020\",\"2020\",\"2020\",\"2020\",\"2020\",\"2020\",\"2020\",\"2020\",\"2020\",\"2020\",\"2020\",\"2020\",\"2020\",\"2020\",\"2020\",\"2020\",\"2020\",\"2020\",\"2020\",\"2020\",\"2020\",\"2020\",\"2020\",\"2020\",\"2020\",\"2020\",\"2020\",\"2020\",\"2020\",\"2020\",\"2020\",\"2020\",\"2020\",\"2020\",\"2020\",\"2020\",\"2020\",\"2020\",\"2020\",\"2020\",\"2020\",\"2020\",\"2020\",\"2020\",\"2020\",\"2020\",\"2020\",\"2020\",\"2020\",\"2020\",\"2020\",\"2020\",\"2020\",\"2020\",\"2020\",\"2020\",\"2020\",\"2020\",\"2020\",\"2020\",\"2020\",\"2020\",\"2020\",\"2020\",\"2020\",\"2020\",\"2020\",\"2020\",\"2020\",\"2020\",\"2020\",\"2020\",\"2020\",\"2020\",\"2020\",\"2020\",\"2020\",\"2020\",\"2020\",\"2020\",\"2020\",\"2020\",\"2020\",\"2020\",\"2020\",\"2020\",\"2020\",\"2020\",\"2020\",\"2020\",\"2020\",\"2020\",\"2020\",\"2020\",\"2020\",\"2020\",\"2020\",\"2020\",\"2020\",\"2020\",\"2020\",\"2020\",\"2020\",\"2020\",\"2020\",\"2020\",\"2020\",\"2020\",\"2020\",\"2020\",\"2020\",\"2020\",\"2020\",\"2020\",\"2020\",\"2020\",\"2020\",\"2020\",\"2020\",\"2020\",\"2020\",\"2020\",\"2020\",\"2020\",\"2020\",\"2020\",\"2020\",\"2020\",\"2020\",\"2020\",\"2020\",\"2020\",\"2020\",\"2020\",\"2020\",\"2020\",\"2020\",\"2020\",\"2020\",\"2020\",\"2020\",\"2020\",\"2020\",\"2020\",\"2020\",\"2020\",\"2020\",\"2020\",\"2020\",\"2020\",\"2020\",\"2020\",\"2020\",\"2020\",\"2020\",\"2020\",\"2020\",\"2020\",\"2020\",\"2020\",\"2020\",\"2020\",\"2020\",\"2020\",\"2020\",\"2020\",\"2020\",\"2020\",\"2020\",\"2020\",\"2020\",\"2020\",\"2020\",\"2020\",\"2020\",\"2020\",\"2020\",\"2020\",\"2020\",\"2020\",\"2020\",\"2020\",\"2020\",\"2020\",\"2020\",\"2020\",\"2020\",\"2020\",\"2020\",\"2020\",\"2020\",\"2020\",\"2020\",\"2020\",\"2020\",\"2020\",\"2020\",\"2020\",\"2020\",\"2020\",\"2020\",\"2020\",\"2020\",\"2020\",\"2020\",\"2020\",\"2020\",\"2020\",\"2020\",\"2020\",\"2020\",\"2020\",\"2020\",\"2020\",\"2020\",\"2020\",\"2020\",\"2020\",\"2020\",\"2020\",\"2020\",\"2020\",\"2020\",\"2020\",\"2020\",\"2020\",\"2020\",\"2020\",\"2020\",\"2020\",\"2020\",\"2020\",\"2020\",\"2020\",\"2020\",\"2020\",\"2020\",\"2020\",\"2020\",\"2020\",\"2020\",\"2020\",\"2020\",\"2020\",\"2020\",\"2020\",\"2020\",\"2020\",\"2020\",\"2020\",\"2020\",\"2020\",\"2020\",\"2020\",\"2020\",\"2020\",\"2020\",\"2020\",\"2020\",\"2020\",\"2020\",\"2020\",\"2020\",\"2020\",\"2020\",\"2020\",\"2020\",\"2020\",\"2020\",\"2020\",\"2020\",\"2020\",\"2020\",\"2020\",\"2020\",\"2020\",\"2020\",\"2020\",\"2020\",\"2020\",\"2020\",\"2020\",\"2020\",\"2020\",\"2020\",\"2020\",\"2020\",\"2020\",\"2020\",\"2020\",\"2020\",\"2020\",\"2020\",\"2020\",\"2020\",\"2020\",\"2020\",\"2020\",\"2020\",\"2020\",\"2020\",\"2020\",\"2020\",\"2020\",\"2020\",\"2020\",\"2020\",\"2020\",\"2020\",\"2020\",\"2020\",\"2020\",\"2020\",\"2020\",\"2020\",\"2020\",\"2020\",\"2020\",\"2020\",\"2020\",\"2020\",\"2020\",\"2020\",\"2020\",\"2020\",\"2020\",\"2020\",\"2020\",\"2020\",\"2020\",\"2020\",\"2020\",\"2020\",\"2020\",\"2020\",\"2020\",\"2020\",\"2020\",\"2020\",\"2020\",\"2020\",\"2020\",\"2020\",\"2020\",\"2020\",\"2020\",\"2020\",\"2020\",\"2020\",\"2020\",\"2020\",\"2020\",\"2020\",\"2020\",\"2020\",\"2020\",\"2020\",\"2020\",\"2020\",\"2020\",\"2020\",\"2020\",\"2020\",\"2020\",\"2020\",\"2020\",\"2020\",\"2020\",\"2020\",\"2020\",\"2020\",\"2020\",\"2020\",\"2020\",\"2020\",\"2020\",\"2020\",\"2020\",\"2020\",\"2020\",\"2020\",\"2020\",\"2020\",\"2020\",\"2020\",\"2020\",\"2020\",\"2020\",\"2020\",\"2020\",\"2020\",\"2020\",\"2020\",\"2020\",\"2020\",\"2020\",\"2020\",\"2020\",\"2020\",\"2020\",\"2020\",\"2020\",\"2020\",\"2020\",\"2020\",\"2020\",\"2020\",\"2020\",\"2020\",\"2020\",\"2020\",\"2020\",\"2020\",\"2020\",\"2020\",\"2020\",\"2020\",\"2020\",\"2020\",\"2020\",\"2020\",\"2020\",\"2020\",\"2020\",\"2020\",\"2020\",\"2020\",\"2020\",\"2020\",\"2020\",\"2020\",\"2020\",\"2020\",\"2020\",\"2020\",\"2020\",\"2020\",\"2020\",\"2020\",\"2020\",\"2020\",\"2020\",\"2020\",\"2020\",\"2020\",\"2020\",\"2020\",\"2020\",\"2020\",\"2020\",\"2020\",\"2020\",\"2020\",\"2020\",\"2020\",\"2020\",\"2020\",\"2020\",\"2020\",\"2020\",\"2020\",\"2020\",\"2020\",\"2020\",\"2020\",\"2020\",\"2020\",\"2020\",\"2020\",\"2020\",\"2020\",\"2020\",\"2020\",\"2020\",\"2020\",\"2020\",\"2020\",\"2020\",\"2020\",\"2020\",\"2020\",\"2020\",\"2020\",\"2020\",\"2020\",\"2020\",\"2020\",\"2020\",\"2020\",\"2020\",\"2020\",\"2020\",\"2020\",\"2020\",\"2020\",\"2020\",\"2020\",\"2020\",\"2020\",\"2020\",\"2020\",\"2020\",\"2020\",\"2019\",\"2019\",\"2019\",\"2019\",\"2019\",\"2019\",\"2019\",\"2019\",\"2019\",\"2019\",\"2019\",\"2019\",\"2019\",\"2019\",\"2019\",\"2019\",\"2019\",\"2019\",\"2019\",\"2019\",\"2019\",\"2019\",\"2019\",\"2019\",\"2019\",\"2019\",\"2019\",\"2019\",\"2019\",\"2019\",\"2019\",\"2019\",\"2019\",\"2019\",\"2019\",\"2019\",\"2019\",\"2019\",\"2019\",\"2019\",\"2019\",\"2019\",\"2019\",\"2019\",\"2019\",\"2019\",\"2019\",\"2019\",\"2019\",\"2019\",\"2019\",\"2019\",\"2019\",\"2019\",\"2019\",\"2019\",\"2019\",\"2019\",\"2019\",\"2019\",\"2019\",\"2019\",\"2019\",\"2019\",\"2019\",\"2019\",\"2019\",\"2019\",\"2019\",\"2019\",\"2019\",\"2019\",\"2019\",\"2019\",\"2019\",\"2019\",\"2019\",\"2019\",\"2019\",\"2019\",\"2019\",\"2019\",\"2019\",\"2019\",\"2019\",\"2019\",\"2019\",\"2019\",\"2019\",\"2019\",\"2019\",\"2019\",\"2019\",\"2019\",\"2019\",\"2019\",\"2019\",\"2019\",\"2019\",\"2019\",\"2019\",\"2019\",\"2019\",\"2019\",\"2019\",\"2019\",\"2019\",\"2019\",\"2019\",\"2019\",\"2019\",\"2019\",\"2019\",\"2019\",\"2019\",\"2019\",\"2019\",\"2019\",\"2019\",\"2019\",\"2019\",\"2019\",\"2019\",\"2019\",\"2019\",\"2019\",\"2019\",\"2019\",\"2019\",\"2019\",\"2019\",\"2019\",\"2019\",\"2019\",\"2019\",\"2019\",\"2019\",\"2019\",\"2019\",\"2019\",\"2019\",\"2019\",\"2019\",\"2019\",\"2019\",\"2019\",\"2019\",\"2019\",\"2019\",\"2019\",\"2019\",\"2019\",\"2019\",\"2019\",\"2019\",\"2019\",\"2019\",\"2019\",\"2019\",\"2019\",\"2019\",\"2019\",\"2019\",\"2019\",\"2019\",\"2019\",\"2019\",\"2019\",\"2019\",\"2019\",\"2019\",\"2019\",\"2019\",\"2019\",\"2019\",\"2019\",\"2019\",\"2019\",\"2019\",\"2019\",\"2019\",\"2019\",\"2019\",\"2019\",\"2019\",\"2019\",\"2019\",\"2019\",\"2019\",\"2019\",\"2019\",\"2019\",\"2019\",\"2019\",\"2019\",\"2019\",\"2019\",\"2019\",\"2019\",\"2019\",\"2019\",\"2019\",\"2019\",\"2019\",\"2019\",\"2019\",\"2019\",\"2019\",\"2019\",\"2019\",\"2019\",\"2019\",\"2019\",\"2019\",\"2019\",\"2019\",\"2019\",\"2019\",\"2019\",\"2019\",\"2019\",\"2019\",\"2019\",\"2019\",\"2019\",\"2019\",\"2019\",\"2019\",\"2019\",\"2019\",\"2019\",\"2019\",\"2019\",\"2019\",\"2019\",\"2019\",\"2019\",\"2019\",\"2019\",\"2019\",\"2019\",\"2019\",\"2019\",\"2019\",\"2019\",\"2019\",\"2019\",\"2019\",\"2019\",\"2019\",\"2019\",\"2019\",\"2019\",\"2019\",\"2019\",\"2019\",\"2019\",\"2019\",\"2019\",\"2019\",\"2019\",\"2019\",\"2019\",\"2019\",\"2019\",\"2019\",\"2019\",\"2019\",\"2019\",\"2019\",\"2019\",\"2019\",\"2019\",\"2019\",\"2019\",\"2019\",\"2019\",\"2019\",\"2019\",\"2019\",\"2019\",\"2019\",\"2019\",\"2019\",\"2019\",\"2019\",\"2019\",\"2019\",\"2019\",\"2019\",\"2019\",\"2019\",\"2019\",\"2019\",\"2019\",\"2019\",\"2019\",\"2019\",\"2019\",\"2019\",\"2019\",\"2019\",\"2019\",\"2019\",\"2019\",\"2019\",\"2019\",\"2019\",\"2019\",\"2019\",\"2019\",\"2019\",\"2019\",\"2019\",\"2019\",\"2019\",\"2019\",\"2019\",\"2019\",\"2019\",\"2019\",\"2019\",\"2019\",\"2019\",\"2019\",\"2019\",\"2019\",\"2019\",\"2019\",\"2019\",\"2019\",\"2019\",\"2019\",\"2019\",\"2019\",\"2019\",\"2019\",\"2019\",\"2019\",\"2019\",\"2019\",\"2019\",\"2019\",\"2019\",\"2019\",\"2019\",\"2019\",\"2019\",\"2019\",\"2019\",\"2019\",\"2019\",\"2019\",\"2019\",\"2019\",\"2019\",\"2019\",\"2019\",\"2019\",\"2019\",\"2019\",\"2019\",\"2019\",\"2019\",\"2019\",\"2019\",\"2019\",\"2019\",\"2019\",\"2019\",\"2019\",\"2019\",\"2019\",\"2019\",\"2019\",\"2019\",\"2019\",\"2019\",\"2019\",\"2019\",\"2019\",\"2019\",\"2019\",\"2019\",\"2019\",\"2019\",\"2019\",\"2019\",\"2019\",\"2019\",\"2019\",\"2019\",\"2019\",\"2019\",\"2019\",\"2019\",\"2019\",\"2019\",\"2019\",\"2019\",\"2019\",\"2019\",\"2019\",\"2019\",\"2019\",\"2019\",\"2019\",\"2019\",\"2019\",\"2019\",\"2019\",\"2019\",\"2019\",\"2019\",\"2019\",\"2019\",\"2019\",\"2019\",\"2019\",\"2019\",\"2019\",\"2019\",\"2019\",\"2019\",\"2019\",\"2019\",\"2019\",\"2019\",\"2019\",\"2019\",\"2019\",\"2019\",\"2019\",\"2019\",\"2019\",\"2019\",\"2019\",\"2019\",\"2019\",\"2019\",\"2019\",\"2019\",\"2019\",\"2019\",\"2019\",\"2019\",\"2019\",\"2019\",\"2019\",\"2019\",\"2019\",\"2019\",\"2019\",\"2019\",\"2019\",\"2019\",\"2019\",\"2019\",\"2019\",\"2019\",\"2019\",\"2019\",\"2019\",\"2019\",\"2019\",\"2019\",\"2019\",\"2019\",\"2019\",\"2019\",\"2018\",\"2018\",\"2018\",\"2018\",\"2018\",\"2018\",\"2018\",\"2018\",\"2018\",\"2018\",\"2018\",\"2018\",\"2018\",\"2018\",\"2018\",\"2018\",\"2018\",\"2018\",\"2018\",\"2018\",\"2018\",\"2018\",\"2018\",\"2018\",\"2018\",\"2018\",\"2018\",\"2018\",\"2018\",\"2018\",\"2018\",\"2018\",\"2018\",\"2018\",\"2018\",\"2018\",\"2018\",\"2018\",\"2018\",\"2018\",\"2018\",\"2018\",\"2018\",\"2018\",\"2018\",\"2018\",\"2018\",\"2018\",\"2018\",\"2018\",\"2018\",\"2018\",\"2018\",\"2018\",\"2018\",\"2018\",\"2018\",\"2018\",\"2018\",\"2018\",\"2018\",\"2018\",\"2018\",\"2018\",\"2018\",\"2018\",\"2018\",\"2018\",\"2018\",\"2018\",\"2018\",\"2018\",\"2018\",\"2018\",\"2018\",\"2018\",\"2018\",\"2018\",\"2018\",\"2018\",\"2018\",\"2018\",\"2018\",\"2018\",\"2018\",\"2018\",\"2018\",\"2018\",\"2018\",\"2018\",\"2018\",\"2018\",\"2018\",\"2018\",\"2018\",\"2018\",\"2018\",\"2018\",\"2018\",\"2018\",\"2018\",\"2018\",\"2018\",\"2018\",\"2018\",\"2018\",\"2018\",\"2018\",\"2018\",\"2018\",\"2018\",\"2018\",\"2018\",\"2018\",\"2018\",\"2018\",\"2018\",\"2018\",\"2018\",\"2018\",\"2018\",\"2018\",\"2018\",\"2018\",\"2018\",\"2018\",\"2018\",\"2018\",\"2018\",\"2018\",\"2018\",\"2018\",\"2018\",\"2018\",\"2018\",\"2018\",\"2018\",\"2018\",\"2018\",\"2018\",\"2018\",\"2018\",\"2018\",\"2018\",\"2018\",\"2018\",\"2018\",\"2018\",\"2018\",\"2018\",\"2018\",\"2018\",\"2018\",\"2018\",\"2018\",\"2018\",\"2018\",\"2018\",\"2018\",\"2018\",\"2018\",\"2018\",\"2018\",\"2018\",\"2018\",\"2018\",\"2018\",\"2018\",\"2018\",\"2018\",\"2018\",\"2018\",\"2018\",\"2018\",\"2018\",\"2018\",\"2018\",\"2018\",\"2018\",\"2018\",\"2018\",\"2018\",\"2018\",\"2018\",\"2018\",\"2018\",\"2018\",\"2018\",\"2018\",\"2018\",\"2018\",\"2018\",\"2018\",\"2018\",\"2018\",\"2018\",\"2018\",\"2018\",\"2018\",\"2018\",\"2018\",\"2018\",\"2018\",\"2018\",\"2018\",\"2018\",\"2018\",\"2018\",\"2018\",\"2018\",\"2018\",\"2018\",\"2018\",\"2018\",\"2018\",\"2018\",\"2018\",\"2018\",\"2018\",\"2018\",\"2018\",\"2018\",\"2018\",\"2018\",\"2018\",\"2018\",\"2018\",\"2018\",\"2018\",\"2018\",\"2018\",\"2018\",\"2018\",\"2018\",\"2018\",\"2018\",\"2018\",\"2018\",\"2018\",\"2018\",\"2018\",\"2018\",\"2018\",\"2018\",\"2018\",\"2018\",\"2018\",\"2018\",\"2018\",\"2018\",\"2018\",\"2018\",\"2018\",\"2018\",\"2018\",\"2018\",\"2018\",\"2018\",\"2018\",\"2018\",\"2018\",\"2018\",\"2018\",\"2018\",\"2018\",\"2018\",\"2018\",\"2018\",\"2018\",\"2018\",\"2017\",\"2017\",\"2017\",\"2017\",\"2017\",\"2017\",\"2017\",\"2017\",\"2017\",\"2017\",\"2017\",\"2017\",\"2017\",\"2017\",\"2017\",\"2017\",\"2017\",\"2017\",\"2017\",\"2017\",\"2017\",\"2017\",\"2017\",\"2017\",\"2017\",\"2017\",\"2017\",\"2017\",\"2017\",\"2017\",\"2017\",\"2017\",\"2017\",\"2017\",\"2017\",\"2017\",\"2017\",\"2017\",\"2017\",\"2017\",\"2017\",\"2017\",\"2017\",\"2017\",\"2017\",\"2017\",\"2017\",\"2017\",\"2017\",\"2017\",\"2017\",\"2017\",\"2017\",\"2017\",\"2017\",\"2017\",\"2017\",\"2017\",\"2017\",\"2017\",\"2017\",\"2017\",\"2017\",\"2017\",\"2017\",\"2017\",\"2017\",\"2017\",\"2017\",\"2017\",\"2017\",\"2017\",\"2017\",\"2017\",\"2017\",\"2017\",\"2017\",\"2017\",\"2017\",\"2017\",\"2017\",\"2017\",\"2017\",\"2017\",\"2017\",\"2017\",\"2017\",\"2017\",\"2017\",\"2017\",\"2017\",\"2017\",\"2017\",\"2017\",\"2017\",\"2017\",\"2017\",\"2017\",\"2017\",\"2017\",\"2017\",\"2017\",\"2017\",\"2017\",\"2017\",\"2017\",\"2017\",\"2017\",\"2017\",\"2017\",\"2017\",\"2017\",\"2017\",\"2017\",\"2017\",\"2017\",\"2017\",\"2017\",\"2017\",\"2017\",\"2017\",\"2017\",\"2017\",\"2017\",\"2017\",\"2017\",\"2017\",\"2017\",\"2017\",\"2017\",\"2017\",\"2017\",\"2017\",\"2017\",\"2017\",\"2017\",\"2017\",\"2017\",\"2017\",\"2017\",\"2017\",\"2017\",\"2017\",\"2017\",\"2017\",\"2017\",\"2017\",\"2017\",\"2017\",\"2017\",\"2017\",\"2017\",\"2017\",\"2017\",\"2017\",\"2017\",\"2017\",\"2017\",\"2017\",\"2017\",\"2017\",\"2017\",\"2017\",\"2017\",\"2017\",\"2017\",\"2017\",\"2017\",\"2017\",\"2017\",\"2017\",\"2017\",\"2017\",\"2017\",\"2017\",\"2017\",\"2017\",\"2017\",\"2017\",\"2017\",\"2017\",\"2017\",\"2017\",\"2017\",\"2017\",\"2016\",\"2016\",\"2016\",\"2016\",\"2016\",\"2016\",\"2016\",\"2016\",\"2016\",\"2016\",\"2016\",\"2016\",\"2016\",\"2016\",\"2016\",\"2016\",\"2016\",\"2016\",\"2016\",\"2016\",\"2016\",\"2016\",\"2016\",\"2016\",\"2016\",\"2016\",\"2016\",\"2016\",\"2016\",\"2016\",\"2016\",\"2016\",\"2016\",\"2016\",\"2016\",\"2016\",\"2016\",\"2016\",\"2016\",\"2016\",\"2016\",\"2016\",\"2016\",\"2016\",\"2016\",\"2016\",\"2016\",\"2016\",\"2016\",\"2016\",\"2016\",\"2016\",\"2016\",\"2016\",\"2016\",\"2016\",\"2016\",\"2016\",\"2016\",\"2016\",\"2016\",\"2016\",\"2016\",\"2016\",\"2016\",\"2016\",\"2016\",\"2016\",\"2016\",\"2016\",\"2016\",\"2016\",\"2016\",\"2016\",\"2016\",\"2016\",\"2016\",\"2016\",\"2016\",\"2016\",\"2016\",\"2016\",\"2016\",\"2016\",\"2015\",\"2015\",\"2015\",\"2015\",\"2015\",\"2015\",\"2015\",\"2015\",\"2015\",\"2014\",\"2014\",\"2014\",\"2013\",\"2013\",\"2019\",\"2019\",\"2017\",\"2019\",\"2017\",\"2018\",\"2019\",\"2017\",\"2017\",\"2019\",\"2017\",\"2017\",\"2018\",\"2016\",\"2019\",\"2017\",\"2017\",\"2019\",\"2020\",\"2019\",\"2017\",\"2019\",\"2016\",\"2017\",\"2019\",\"2018\",\"2018\",\"2018\",\"2017\",\"2017\",\"2018\",\"2017\",\"2017\",\"2018\",\"2017\",\"2018\",\"2015\",\"2016\",\"2018\",\"2019\",\"2017\",\"2016\",\"2019\",\"2018\",\"2017\",\"2017\",\"2018\",\"2017\",\"2018\",\"2017\",\"2016\",\"2019\",\"2016\",\"2019\",\"2018\",\"2018\",\"2018\",\"2016\",\"2019\",\"2019\",\"2017\",\"2019\",\"2019\",\"2018\",\"2020\",\"2019\",\"2016\",\"2018\",\"2018\",\"2019\",\"2018\",\"2019\",\"2018\",\"2016\",\"2017\",\"2019\",\"2017\",\"2016\",\"2019\",\"2019\",\"2018\",\"2017\",\"2017\",\"2017\",\"2017\",\"2016\",\"2017\",\"2016\",\"2018\",\"2017\",\"2017\",\"2018\",\"2017\",\"2017\",\"2019\",\"2018\",\"2019\",\"2018\",\"2018\",\"2018\",\"2019\",\"2020\",\"2016\",\"2018\",\"2018\",\"2018\",\"2019\",\"2019\",\"2018\",\"2017\",\"2018\",\"2019\",\"2018\",\"2018\",\"2018\",\"2018\",\"2017\",\"2018\",\"2018\",\"2008\",\"2017\",\"2019\",\"2019\",\"2016\",\"2019\",\"2017\",\"2020\",\"2017\",\"2018\",\"2016\",\"2017\",\"2018\",\"2018\",\"2017\",\"2017\",\"2018\",\"2018\",\"2018\",\"2019\",\"2018\",\"2019\",\"2017\",\"2017\",\"2017\",\"2017\",\"2016\",\"2017\",\"2019\",\"2018\",\"2018\",\"2017\",\"2017\",\"2018\",\"2018\",\"2019\",\"2017\",\"2017\",\"2018\",\"2017\",\"2017\",\"2016\",\"2018\",\"2016\",\"2018\",\"2016\",\"2016\",\"2017\",\"2016\",\"2017\",\"2017\",\"2016\",\"2017\",\"2018\",\"2019\",\"2017\",\"2018\",\"2017\",\"2017\",\"2013\",\"2019\",\"2017\",\"2018\",\"2017\",\"2018\",\"2020\",\"2017\",\"2016\",\"2016\",\"2019\",\"2017\",\"2015\",\"2017\",\"2015\",\"2018\",\"2018\",\"2016\",\"2019\",\"2017\",\"2019\",\"2016\",\"2017\",\"2017\",\"2019\",\"2017\",\"2018\",\"2019\",\"2017\",\"2018\",\"2016\",\"2019\",\"2018\",\"2018\",\"2017\",\"2019\",\"2018\",\"2017\",\"2017\",\"2018\",\"2019\",\"2019\",\"2018\",\"2017\",\"2020\",\"2017\",\"2018\",\"2013\",\"2017\",\"2020\",\"2017\",\"2017\",\"2019\",\"2016\",\"2017\",\"2017\",\"2015\",\"2016\",\"2016\",\"2017\",\"2017\",\"2017\",\"2019\",\"2018\",\"2017\",\"2018\",\"2018\",\"2019\",\"2019\",\"2019\",\"2018\",\"2019\",\"2016\",\"2017\",\"2018\",\"2019\",\"2019\",\"2018\",\"2017\",\"2017\",\"2020\",\"2019\",\"2019\",\"2019\",\"2018\",\"2017\",\"2019\",\"2015\",\"2016\",\"2019\",\"2018\",\"2017\",\"2019\",\"2017\",\"2018\",\"2017\",\"2018\",\"2018\",\"2016\",\"2016\",\"2018\",\"2018\",\"2019\",\"2016\",\"2015\",\"2019\",\"2016\",\"2017\",\"2017\",\"2018\",\"2016\",\"2018\",\"2018\",\"2020\",\"2019\",\"2019\",\"2019\",\"2019\",\"2019\",\"2018\",\"2016\",\"2017\",\"2019\",\"2016\",\"2018\",\"2018\",\"2018\",\"2016\",\"2017\",\"2019\",\"2017\",\"2020\",\"2019\",\"2019\",\"2019\",\"2018\",\"2017\",\"2019\",\"2017\",\"2019\",\"2018\",\"2018\",\"2017\",\"2015\",\"2015\",\"2017\",\"2019\",\"2017\",\"2019\",\"2018\",\"2016\",\"2016\",\"2017\",\"2016\",\"2018\",\"2016\",\"2015\",\"2017\",\"2018\",\"2018\",\"2015\",\"2016\",\"2018\",\"2019\",\"2019\",\"2020\",\"2016\",\"2018\",\"2017\",\"2016\",\"2020\",\"2017\",\"2016\",\"2017\",\"2019\",\"2014\",\"2016\",\"2016\",\"2017\",\"2017\",\"2015\",\"2019\",\"2018\",\"2017\",\"2015\",\"2016\",\"2016\",\"2016\",\"2016\",\"2016\",\"2016\",\"2016\",\"2016\",\"2016\",\"2016\",\"2016\",\"2016\",\"2016\",\"2016\",\"2016\",\"2016\",\"2016\",\"2016\",\"2016\",\"2020\",\"2017\",\"2018\",\"2017\",\"2016\",\"2016\",\"2018\",\"2018\",\"2017\",\"2018\",\"2017\",\"2018\",\"2017\",\"2017\",\"2017\",\"2020\",\"2019\",\"2018\",\"2019\",\"2017\",\"2018\",\"2016\",\"2019\",\"2017\",\"2017\",\"2020\",\"2013\",\"2016\",\"2017\",\"2018\",\"2018\",\"2017\",\"2019\",\"2017\",\"2017\",\"2019\",\"2017\",\"2020\",\"2017\",\"2017\",\"2019\",\"2016\",\"2018\",\"2018\",\"2019\",\"2020\",\"2015\",\"2018\",\"2015\",\"2016\",\"2017\",\"2019\",\"2019\",\"2016\",\"2019\",\"2019\",\"2019\",\"2019\",\"2020\",\"2017\",\"2020\",\"2018\",\"2019\",\"2019\",\"2019\",\"2017\",\"2018\",\"2019\",\"2017\",\"2019\",\"2017\",\"2017\",\"2018\",\"2019\",\"2017\",\"2016\",\"2019\",\"2019\",\"2015\",\"2019\",\"2019\",\"2019\",\"2018\",\"2017\",\"2019\",\"2015\",\"2019\",\"2018\",\"2018\",\"2017\",\"2017\",\"2017\",\"2017\",\"2016\",\"2017\",\"2018\",\"2017\",\"2019\",\"2017\",\"2017\",\"2017\",\"2018\",\"2020\",\"2016\",\"2017\",\"2019\",\"2019\",\"2018\",\"2018\",\"2017\",\"2016\",\"2016\",\"2016\",\"2017\",\"2018\",\"2018\",\"2018\",\"2017\",\"2017\",\"2021\",\"2018\",\"2016\",\"2016\",\"2019\",\"2017\",\"2019\",\"2018\",\"2018\",\"2018\",\"2019\",\"2019\",\"2016\",\"2018\",\"2018\",\"2017\",\"2018\",\"2019\",\"2018\",\"2017\",\"2015\",\"2016\",\"2016\",\"2019\",\"2017\",\"2018\",\"2017\",\"2018\",\"2017\",\"2017\",\"2019\",\"2019\",\"2018\",\"2017\",\"2018\",\"2017\",\"2020\",\"2019\",\"2016\",\"2018\",\"2017\",\"2018\",\"2016\",\"2014\",\"2017\",\"2017\",\"2017\",\"2018\",\"2017\",\"2017\",\"2017\",\"2018\",\"2017\",\"2016\",\"2019\",\"2018\",\"2016\",\"2018\",\"2018\",\"2018\",\"2017\",\"2018\",\"2016\",\"2019\"],\"xaxis\":\"x\",\"yaxis\":\"y\",\"type\":\"histogram\"}],                        {\"template\":{\"data\":{\"barpolar\":[{\"marker\":{\"line\":{\"color\":\"rgb(17,17,17)\",\"width\":0.5},\"pattern\":{\"fillmode\":\"overlay\",\"size\":10,\"solidity\":0.2}},\"type\":\"barpolar\"}],\"bar\":[{\"error_x\":{\"color\":\"#f2f5fa\"},\"error_y\":{\"color\":\"#f2f5fa\"},\"marker\":{\"line\":{\"color\":\"rgb(17,17,17)\",\"width\":0.5},\"pattern\":{\"fillmode\":\"overlay\",\"size\":10,\"solidity\":0.2}},\"type\":\"bar\"}],\"carpet\":[{\"aaxis\":{\"endlinecolor\":\"#A2B1C6\",\"gridcolor\":\"#506784\",\"linecolor\":\"#506784\",\"minorgridcolor\":\"#506784\",\"startlinecolor\":\"#A2B1C6\"},\"baxis\":{\"endlinecolor\":\"#A2B1C6\",\"gridcolor\":\"#506784\",\"linecolor\":\"#506784\",\"minorgridcolor\":\"#506784\",\"startlinecolor\":\"#A2B1C6\"},\"type\":\"carpet\"}],\"choropleth\":[{\"colorbar\":{\"outlinewidth\":0,\"ticks\":\"\"},\"type\":\"choropleth\"}],\"contourcarpet\":[{\"colorbar\":{\"outlinewidth\":0,\"ticks\":\"\"},\"type\":\"contourcarpet\"}],\"contour\":[{\"colorbar\":{\"outlinewidth\":0,\"ticks\":\"\"},\"colorscale\":[[0.0,\"#0d0887\"],[0.1111111111111111,\"#46039f\"],[0.2222222222222222,\"#7201a8\"],[0.3333333333333333,\"#9c179e\"],[0.4444444444444444,\"#bd3786\"],[0.5555555555555556,\"#d8576b\"],[0.6666666666666666,\"#ed7953\"],[0.7777777777777778,\"#fb9f3a\"],[0.8888888888888888,\"#fdca26\"],[1.0,\"#f0f921\"]],\"type\":\"contour\"}],\"heatmapgl\":[{\"colorbar\":{\"outlinewidth\":0,\"ticks\":\"\"},\"colorscale\":[[0.0,\"#0d0887\"],[0.1111111111111111,\"#46039f\"],[0.2222222222222222,\"#7201a8\"],[0.3333333333333333,\"#9c179e\"],[0.4444444444444444,\"#bd3786\"],[0.5555555555555556,\"#d8576b\"],[0.6666666666666666,\"#ed7953\"],[0.7777777777777778,\"#fb9f3a\"],[0.8888888888888888,\"#fdca26\"],[1.0,\"#f0f921\"]],\"type\":\"heatmapgl\"}],\"heatmap\":[{\"colorbar\":{\"outlinewidth\":0,\"ticks\":\"\"},\"colorscale\":[[0.0,\"#0d0887\"],[0.1111111111111111,\"#46039f\"],[0.2222222222222222,\"#7201a8\"],[0.3333333333333333,\"#9c179e\"],[0.4444444444444444,\"#bd3786\"],[0.5555555555555556,\"#d8576b\"],[0.6666666666666666,\"#ed7953\"],[0.7777777777777778,\"#fb9f3a\"],[0.8888888888888888,\"#fdca26\"],[1.0,\"#f0f921\"]],\"type\":\"heatmap\"}],\"histogram2dcontour\":[{\"colorbar\":{\"outlinewidth\":0,\"ticks\":\"\"},\"colorscale\":[[0.0,\"#0d0887\"],[0.1111111111111111,\"#46039f\"],[0.2222222222222222,\"#7201a8\"],[0.3333333333333333,\"#9c179e\"],[0.4444444444444444,\"#bd3786\"],[0.5555555555555556,\"#d8576b\"],[0.6666666666666666,\"#ed7953\"],[0.7777777777777778,\"#fb9f3a\"],[0.8888888888888888,\"#fdca26\"],[1.0,\"#f0f921\"]],\"type\":\"histogram2dcontour\"}],\"histogram2d\":[{\"colorbar\":{\"outlinewidth\":0,\"ticks\":\"\"},\"colorscale\":[[0.0,\"#0d0887\"],[0.1111111111111111,\"#46039f\"],[0.2222222222222222,\"#7201a8\"],[0.3333333333333333,\"#9c179e\"],[0.4444444444444444,\"#bd3786\"],[0.5555555555555556,\"#d8576b\"],[0.6666666666666666,\"#ed7953\"],[0.7777777777777778,\"#fb9f3a\"],[0.8888888888888888,\"#fdca26\"],[1.0,\"#f0f921\"]],\"type\":\"histogram2d\"}],\"histogram\":[{\"marker\":{\"pattern\":{\"fillmode\":\"overlay\",\"size\":10,\"solidity\":0.2}},\"type\":\"histogram\"}],\"mesh3d\":[{\"colorbar\":{\"outlinewidth\":0,\"ticks\":\"\"},\"type\":\"mesh3d\"}],\"parcoords\":[{\"line\":{\"colorbar\":{\"outlinewidth\":0,\"ticks\":\"\"}},\"type\":\"parcoords\"}],\"pie\":[{\"automargin\":true,\"type\":\"pie\"}],\"scatter3d\":[{\"line\":{\"colorbar\":{\"outlinewidth\":0,\"ticks\":\"\"}},\"marker\":{\"colorbar\":{\"outlinewidth\":0,\"ticks\":\"\"}},\"type\":\"scatter3d\"}],\"scattercarpet\":[{\"marker\":{\"colorbar\":{\"outlinewidth\":0,\"ticks\":\"\"}},\"type\":\"scattercarpet\"}],\"scattergeo\":[{\"marker\":{\"colorbar\":{\"outlinewidth\":0,\"ticks\":\"\"}},\"type\":\"scattergeo\"}],\"scattergl\":[{\"marker\":{\"line\":{\"color\":\"#283442\"}},\"type\":\"scattergl\"}],\"scattermapbox\":[{\"marker\":{\"colorbar\":{\"outlinewidth\":0,\"ticks\":\"\"}},\"type\":\"scattermapbox\"}],\"scatterpolargl\":[{\"marker\":{\"colorbar\":{\"outlinewidth\":0,\"ticks\":\"\"}},\"type\":\"scatterpolargl\"}],\"scatterpolar\":[{\"marker\":{\"colorbar\":{\"outlinewidth\":0,\"ticks\":\"\"}},\"type\":\"scatterpolar\"}],\"scatter\":[{\"marker\":{\"line\":{\"color\":\"#283442\"}},\"type\":\"scatter\"}],\"scatterternary\":[{\"marker\":{\"colorbar\":{\"outlinewidth\":0,\"ticks\":\"\"}},\"type\":\"scatterternary\"}],\"surface\":[{\"colorbar\":{\"outlinewidth\":0,\"ticks\":\"\"},\"colorscale\":[[0.0,\"#0d0887\"],[0.1111111111111111,\"#46039f\"],[0.2222222222222222,\"#7201a8\"],[0.3333333333333333,\"#9c179e\"],[0.4444444444444444,\"#bd3786\"],[0.5555555555555556,\"#d8576b\"],[0.6666666666666666,\"#ed7953\"],[0.7777777777777778,\"#fb9f3a\"],[0.8888888888888888,\"#fdca26\"],[1.0,\"#f0f921\"]],\"type\":\"surface\"}],\"table\":[{\"cells\":{\"fill\":{\"color\":\"#506784\"},\"line\":{\"color\":\"rgb(17,17,17)\"}},\"header\":{\"fill\":{\"color\":\"#2a3f5f\"},\"line\":{\"color\":\"rgb(17,17,17)\"}},\"type\":\"table\"}]},\"layout\":{\"annotationdefaults\":{\"arrowcolor\":\"#f2f5fa\",\"arrowhead\":0,\"arrowwidth\":1},\"autotypenumbers\":\"strict\",\"coloraxis\":{\"colorbar\":{\"outlinewidth\":0,\"ticks\":\"\"}},\"colorscale\":{\"diverging\":[[0,\"#8e0152\"],[0.1,\"#c51b7d\"],[0.2,\"#de77ae\"],[0.3,\"#f1b6da\"],[0.4,\"#fde0ef\"],[0.5,\"#f7f7f7\"],[0.6,\"#e6f5d0\"],[0.7,\"#b8e186\"],[0.8,\"#7fbc41\"],[0.9,\"#4d9221\"],[1,\"#276419\"]],\"sequential\":[[0.0,\"#0d0887\"],[0.1111111111111111,\"#46039f\"],[0.2222222222222222,\"#7201a8\"],[0.3333333333333333,\"#9c179e\"],[0.4444444444444444,\"#bd3786\"],[0.5555555555555556,\"#d8576b\"],[0.6666666666666666,\"#ed7953\"],[0.7777777777777778,\"#fb9f3a\"],[0.8888888888888888,\"#fdca26\"],[1.0,\"#f0f921\"]],\"sequentialminus\":[[0.0,\"#0d0887\"],[0.1111111111111111,\"#46039f\"],[0.2222222222222222,\"#7201a8\"],[0.3333333333333333,\"#9c179e\"],[0.4444444444444444,\"#bd3786\"],[0.5555555555555556,\"#d8576b\"],[0.6666666666666666,\"#ed7953\"],[0.7777777777777778,\"#fb9f3a\"],[0.8888888888888888,\"#fdca26\"],[1.0,\"#f0f921\"]]},\"colorway\":[\"#636efa\",\"#EF553B\",\"#00cc96\",\"#ab63fa\",\"#FFA15A\",\"#19d3f3\",\"#FF6692\",\"#B6E880\",\"#FF97FF\",\"#FECB52\"],\"font\":{\"color\":\"#f2f5fa\"},\"geo\":{\"bgcolor\":\"rgb(17,17,17)\",\"lakecolor\":\"rgb(17,17,17)\",\"landcolor\":\"rgb(17,17,17)\",\"showlakes\":true,\"showland\":true,\"subunitcolor\":\"#506784\"},\"hoverlabel\":{\"align\":\"left\"},\"hovermode\":\"closest\",\"mapbox\":{\"style\":\"dark\"},\"paper_bgcolor\":\"rgb(17,17,17)\",\"plot_bgcolor\":\"rgb(17,17,17)\",\"polar\":{\"angularaxis\":{\"gridcolor\":\"#506784\",\"linecolor\":\"#506784\",\"ticks\":\"\"},\"bgcolor\":\"rgb(17,17,17)\",\"radialaxis\":{\"gridcolor\":\"#506784\",\"linecolor\":\"#506784\",\"ticks\":\"\"}},\"scene\":{\"xaxis\":{\"backgroundcolor\":\"rgb(17,17,17)\",\"gridcolor\":\"#506784\",\"gridwidth\":2,\"linecolor\":\"#506784\",\"showbackground\":true,\"ticks\":\"\",\"zerolinecolor\":\"#C8D4E3\"},\"yaxis\":{\"backgroundcolor\":\"rgb(17,17,17)\",\"gridcolor\":\"#506784\",\"gridwidth\":2,\"linecolor\":\"#506784\",\"showbackground\":true,\"ticks\":\"\",\"zerolinecolor\":\"#C8D4E3\"},\"zaxis\":{\"backgroundcolor\":\"rgb(17,17,17)\",\"gridcolor\":\"#506784\",\"gridwidth\":2,\"linecolor\":\"#506784\",\"showbackground\":true,\"ticks\":\"\",\"zerolinecolor\":\"#C8D4E3\"}},\"shapedefaults\":{\"line\":{\"color\":\"#f2f5fa\"}},\"sliderdefaults\":{\"bgcolor\":\"#C8D4E3\",\"bordercolor\":\"rgb(17,17,17)\",\"borderwidth\":1,\"tickwidth\":0},\"ternary\":{\"aaxis\":{\"gridcolor\":\"#506784\",\"linecolor\":\"#506784\",\"ticks\":\"\"},\"baxis\":{\"gridcolor\":\"#506784\",\"linecolor\":\"#506784\",\"ticks\":\"\"},\"bgcolor\":\"rgb(17,17,17)\",\"caxis\":{\"gridcolor\":\"#506784\",\"linecolor\":\"#506784\",\"ticks\":\"\"}},\"title\":{\"x\":0.05},\"updatemenudefaults\":{\"bgcolor\":\"#506784\",\"borderwidth\":0},\"xaxis\":{\"automargin\":true,\"gridcolor\":\"#283442\",\"linecolor\":\"#506784\",\"ticks\":\"\",\"title\":{\"standoff\":15},\"zerolinecolor\":\"#283442\",\"zerolinewidth\":2},\"yaxis\":{\"automargin\":true,\"gridcolor\":\"#283442\",\"linecolor\":\"#506784\",\"ticks\":\"\",\"title\":{\"standoff\":15},\"zerolinecolor\":\"#283442\",\"zerolinewidth\":2}}},\"xaxis\":{\"anchor\":\"y\",\"domain\":[0.0,1.0],\"title\":{\"text\":\"year\"}},\"yaxis\":{\"anchor\":\"x\",\"domain\":[0.0,1.0],\"title\":{\"text\":\"count\"}},\"legend\":{\"tracegroupgap\":0},\"title\":{\"text\":\"Number of released TV Shows (Year split)\"},\"barmode\":\"relative\",\"height\":500,\"width\":800},                        {\"responsive\": true}                    ).then(function(){\n",
       "                            \n",
       "var gd = document.getElementById('cef74ada-eab4-4aa0-83b5-94b4afb6ad90');\n",
       "var x = new MutationObserver(function (mutations, observer) {{\n",
       "        var display = window.getComputedStyle(gd).display;\n",
       "        if (!display || display === 'none') {{\n",
       "            console.log([gd, 'removed!']);\n",
       "            Plotly.purge(gd);\n",
       "            observer.disconnect();\n",
       "        }}\n",
       "}});\n",
       "\n",
       "// Listen for the removal of the full notebook cells\n",
       "var notebookContainer = gd.closest('#notebook-container');\n",
       "if (notebookContainer) {{\n",
       "    x.observe(notebookContainer, {childList: true});\n",
       "}}\n",
       "\n",
       "// Listen for the clearing of the current output cell\n",
       "var outputEl = gd.closest('.output');\n",
       "if (outputEl) {{\n",
       "    x.observe(outputEl, {childList: true});\n",
       "}}\n",
       "\n",
       "                        })                };                });            </script>        </div>"
      ]
     },
     "metadata": {},
     "output_type": "display_data"
    }
   ],
   "source": [
    "fig = px.histogram(tv_shows_release,  'year', \n",
    "             template= \"plotly_dark\",\n",
    "             color_discrete_sequence= ['#F9917A'],\n",
    "             width = 800, height = 500,\n",
    "             text_auto=True,\n",
    "             title = 'Number of released TV Shows (Year split)'\n",
    "            )\n",
    "\n",
    "fig.show()"
   ]
  },
  {
   "cell_type": "markdown",
   "id": "d69c3409",
   "metadata": {
    "papermill": {
     "duration": 0.039547,
     "end_time": "2024-05-13T12:24:26.606679",
     "exception": false,
     "start_time": "2024-05-13T12:24:26.567132",
     "status": "completed"
    },
    "tags": []
   },
   "source": [
    "#### Rating"
   ]
  },
  {
   "cell_type": "code",
   "execution_count": 16,
   "id": "3f0d358f",
   "metadata": {
    "execution": {
     "iopub.execute_input": "2024-05-13T12:24:26.692523Z",
     "iopub.status.busy": "2024-05-13T12:24:26.691795Z",
     "iopub.status.idle": "2024-05-13T12:24:26.701094Z",
     "shell.execute_reply": "2024-05-13T12:24:26.699874Z"
    },
    "papermill": {
     "duration": 0.056267,
     "end_time": "2024-05-13T12:24:26.703897",
     "exception": false,
     "start_time": "2024-05-13T12:24:26.647630",
     "status": "completed"
    },
    "tags": []
   },
   "outputs": [],
   "source": [
    "tvshow_rating = tv_shows['rating'].reset_index()\n",
    "tvshow_rating = tvshow_rating.groupby('rating').count().reset_index().sort_values(by = 'index', ascending=False)"
   ]
  },
  {
   "cell_type": "code",
   "execution_count": 17,
   "id": "610b0fc7",
   "metadata": {
    "execution": {
     "iopub.execute_input": "2024-05-13T12:24:26.784360Z",
     "iopub.status.busy": "2024-05-13T12:24:26.783644Z",
     "iopub.status.idle": "2024-05-13T12:24:26.877938Z",
     "shell.execute_reply": "2024-05-13T12:24:26.876719Z"
    },
    "papermill": {
     "duration": 0.137634,
     "end_time": "2024-05-13T12:24:26.880626",
     "exception": false,
     "start_time": "2024-05-13T12:24:26.742992",
     "status": "completed"
    },
    "tags": []
   },
   "outputs": [
    {
     "data": {
      "text/html": [
       "<div>                            <div id=\"e68e4216-e416-429a-9748-f69e1818cf87\" class=\"plotly-graph-div\" style=\"height:500px; width:800px;\"></div>            <script type=\"text/javascript\">                require([\"plotly\"], function(Plotly) {                    window.PLOTLYENV=window.PLOTLYENV || {};                                    if (document.getElementById(\"e68e4216-e416-429a-9748-f69e1818cf87\")) {                    Plotly.newPlot(                        \"e68e4216-e416-429a-9748-f69e1818cf87\",                        [{\"alignmentgroup\":\"True\",\"hovertemplate\":\"rating=%{x}\\u003cbr\\u003eindex=%{y}\\u003cextra\\u003e\\u003c\\u002fextra\\u003e\",\"legendgroup\":\"\",\"marker\":{\"color\":\"#1F77B4\",\"pattern\":{\"shape\":\"\"}},\"name\":\"\",\"offsetgroup\":\"\",\"orientation\":\"v\",\"showlegend\":false,\"textposition\":\"auto\",\"texttemplate\":\"%{y}\",\"x\":[\"TV-MA\",\"TV-14\",\"TV-PG\",\"TV-Y7\",\"TV-Y\",\"TV-G\",\"NR\",\"R\",\"TV-Y7-FV\"],\"xaxis\":\"x\",\"y\":[1145,733,323,195,176,94,5,2,1],\"yaxis\":\"y\",\"type\":\"bar\"}],                        {\"template\":{\"data\":{\"barpolar\":[{\"marker\":{\"line\":{\"color\":\"rgb(17,17,17)\",\"width\":0.5},\"pattern\":{\"fillmode\":\"overlay\",\"size\":10,\"solidity\":0.2}},\"type\":\"barpolar\"}],\"bar\":[{\"error_x\":{\"color\":\"#f2f5fa\"},\"error_y\":{\"color\":\"#f2f5fa\"},\"marker\":{\"line\":{\"color\":\"rgb(17,17,17)\",\"width\":0.5},\"pattern\":{\"fillmode\":\"overlay\",\"size\":10,\"solidity\":0.2}},\"type\":\"bar\"}],\"carpet\":[{\"aaxis\":{\"endlinecolor\":\"#A2B1C6\",\"gridcolor\":\"#506784\",\"linecolor\":\"#506784\",\"minorgridcolor\":\"#506784\",\"startlinecolor\":\"#A2B1C6\"},\"baxis\":{\"endlinecolor\":\"#A2B1C6\",\"gridcolor\":\"#506784\",\"linecolor\":\"#506784\",\"minorgridcolor\":\"#506784\",\"startlinecolor\":\"#A2B1C6\"},\"type\":\"carpet\"}],\"choropleth\":[{\"colorbar\":{\"outlinewidth\":0,\"ticks\":\"\"},\"type\":\"choropleth\"}],\"contourcarpet\":[{\"colorbar\":{\"outlinewidth\":0,\"ticks\":\"\"},\"type\":\"contourcarpet\"}],\"contour\":[{\"colorbar\":{\"outlinewidth\":0,\"ticks\":\"\"},\"colorscale\":[[0.0,\"#0d0887\"],[0.1111111111111111,\"#46039f\"],[0.2222222222222222,\"#7201a8\"],[0.3333333333333333,\"#9c179e\"],[0.4444444444444444,\"#bd3786\"],[0.5555555555555556,\"#d8576b\"],[0.6666666666666666,\"#ed7953\"],[0.7777777777777778,\"#fb9f3a\"],[0.8888888888888888,\"#fdca26\"],[1.0,\"#f0f921\"]],\"type\":\"contour\"}],\"heatmapgl\":[{\"colorbar\":{\"outlinewidth\":0,\"ticks\":\"\"},\"colorscale\":[[0.0,\"#0d0887\"],[0.1111111111111111,\"#46039f\"],[0.2222222222222222,\"#7201a8\"],[0.3333333333333333,\"#9c179e\"],[0.4444444444444444,\"#bd3786\"],[0.5555555555555556,\"#d8576b\"],[0.6666666666666666,\"#ed7953\"],[0.7777777777777778,\"#fb9f3a\"],[0.8888888888888888,\"#fdca26\"],[1.0,\"#f0f921\"]],\"type\":\"heatmapgl\"}],\"heatmap\":[{\"colorbar\":{\"outlinewidth\":0,\"ticks\":\"\"},\"colorscale\":[[0.0,\"#0d0887\"],[0.1111111111111111,\"#46039f\"],[0.2222222222222222,\"#7201a8\"],[0.3333333333333333,\"#9c179e\"],[0.4444444444444444,\"#bd3786\"],[0.5555555555555556,\"#d8576b\"],[0.6666666666666666,\"#ed7953\"],[0.7777777777777778,\"#fb9f3a\"],[0.8888888888888888,\"#fdca26\"],[1.0,\"#f0f921\"]],\"type\":\"heatmap\"}],\"histogram2dcontour\":[{\"colorbar\":{\"outlinewidth\":0,\"ticks\":\"\"},\"colorscale\":[[0.0,\"#0d0887\"],[0.1111111111111111,\"#46039f\"],[0.2222222222222222,\"#7201a8\"],[0.3333333333333333,\"#9c179e\"],[0.4444444444444444,\"#bd3786\"],[0.5555555555555556,\"#d8576b\"],[0.6666666666666666,\"#ed7953\"],[0.7777777777777778,\"#fb9f3a\"],[0.8888888888888888,\"#fdca26\"],[1.0,\"#f0f921\"]],\"type\":\"histogram2dcontour\"}],\"histogram2d\":[{\"colorbar\":{\"outlinewidth\":0,\"ticks\":\"\"},\"colorscale\":[[0.0,\"#0d0887\"],[0.1111111111111111,\"#46039f\"],[0.2222222222222222,\"#7201a8\"],[0.3333333333333333,\"#9c179e\"],[0.4444444444444444,\"#bd3786\"],[0.5555555555555556,\"#d8576b\"],[0.6666666666666666,\"#ed7953\"],[0.7777777777777778,\"#fb9f3a\"],[0.8888888888888888,\"#fdca26\"],[1.0,\"#f0f921\"]],\"type\":\"histogram2d\"}],\"histogram\":[{\"marker\":{\"pattern\":{\"fillmode\":\"overlay\",\"size\":10,\"solidity\":0.2}},\"type\":\"histogram\"}],\"mesh3d\":[{\"colorbar\":{\"outlinewidth\":0,\"ticks\":\"\"},\"type\":\"mesh3d\"}],\"parcoords\":[{\"line\":{\"colorbar\":{\"outlinewidth\":0,\"ticks\":\"\"}},\"type\":\"parcoords\"}],\"pie\":[{\"automargin\":true,\"type\":\"pie\"}],\"scatter3d\":[{\"line\":{\"colorbar\":{\"outlinewidth\":0,\"ticks\":\"\"}},\"marker\":{\"colorbar\":{\"outlinewidth\":0,\"ticks\":\"\"}},\"type\":\"scatter3d\"}],\"scattercarpet\":[{\"marker\":{\"colorbar\":{\"outlinewidth\":0,\"ticks\":\"\"}},\"type\":\"scattercarpet\"}],\"scattergeo\":[{\"marker\":{\"colorbar\":{\"outlinewidth\":0,\"ticks\":\"\"}},\"type\":\"scattergeo\"}],\"scattergl\":[{\"marker\":{\"line\":{\"color\":\"#283442\"}},\"type\":\"scattergl\"}],\"scattermapbox\":[{\"marker\":{\"colorbar\":{\"outlinewidth\":0,\"ticks\":\"\"}},\"type\":\"scattermapbox\"}],\"scatterpolargl\":[{\"marker\":{\"colorbar\":{\"outlinewidth\":0,\"ticks\":\"\"}},\"type\":\"scatterpolargl\"}],\"scatterpolar\":[{\"marker\":{\"colorbar\":{\"outlinewidth\":0,\"ticks\":\"\"}},\"type\":\"scatterpolar\"}],\"scatter\":[{\"marker\":{\"line\":{\"color\":\"#283442\"}},\"type\":\"scatter\"}],\"scatterternary\":[{\"marker\":{\"colorbar\":{\"outlinewidth\":0,\"ticks\":\"\"}},\"type\":\"scatterternary\"}],\"surface\":[{\"colorbar\":{\"outlinewidth\":0,\"ticks\":\"\"},\"colorscale\":[[0.0,\"#0d0887\"],[0.1111111111111111,\"#46039f\"],[0.2222222222222222,\"#7201a8\"],[0.3333333333333333,\"#9c179e\"],[0.4444444444444444,\"#bd3786\"],[0.5555555555555556,\"#d8576b\"],[0.6666666666666666,\"#ed7953\"],[0.7777777777777778,\"#fb9f3a\"],[0.8888888888888888,\"#fdca26\"],[1.0,\"#f0f921\"]],\"type\":\"surface\"}],\"table\":[{\"cells\":{\"fill\":{\"color\":\"#506784\"},\"line\":{\"color\":\"rgb(17,17,17)\"}},\"header\":{\"fill\":{\"color\":\"#2a3f5f\"},\"line\":{\"color\":\"rgb(17,17,17)\"}},\"type\":\"table\"}]},\"layout\":{\"annotationdefaults\":{\"arrowcolor\":\"#f2f5fa\",\"arrowhead\":0,\"arrowwidth\":1},\"autotypenumbers\":\"strict\",\"coloraxis\":{\"colorbar\":{\"outlinewidth\":0,\"ticks\":\"\"}},\"colorscale\":{\"diverging\":[[0,\"#8e0152\"],[0.1,\"#c51b7d\"],[0.2,\"#de77ae\"],[0.3,\"#f1b6da\"],[0.4,\"#fde0ef\"],[0.5,\"#f7f7f7\"],[0.6,\"#e6f5d0\"],[0.7,\"#b8e186\"],[0.8,\"#7fbc41\"],[0.9,\"#4d9221\"],[1,\"#276419\"]],\"sequential\":[[0.0,\"#0d0887\"],[0.1111111111111111,\"#46039f\"],[0.2222222222222222,\"#7201a8\"],[0.3333333333333333,\"#9c179e\"],[0.4444444444444444,\"#bd3786\"],[0.5555555555555556,\"#d8576b\"],[0.6666666666666666,\"#ed7953\"],[0.7777777777777778,\"#fb9f3a\"],[0.8888888888888888,\"#fdca26\"],[1.0,\"#f0f921\"]],\"sequentialminus\":[[0.0,\"#0d0887\"],[0.1111111111111111,\"#46039f\"],[0.2222222222222222,\"#7201a8\"],[0.3333333333333333,\"#9c179e\"],[0.4444444444444444,\"#bd3786\"],[0.5555555555555556,\"#d8576b\"],[0.6666666666666666,\"#ed7953\"],[0.7777777777777778,\"#fb9f3a\"],[0.8888888888888888,\"#fdca26\"],[1.0,\"#f0f921\"]]},\"colorway\":[\"#636efa\",\"#EF553B\",\"#00cc96\",\"#ab63fa\",\"#FFA15A\",\"#19d3f3\",\"#FF6692\",\"#B6E880\",\"#FF97FF\",\"#FECB52\"],\"font\":{\"color\":\"#f2f5fa\"},\"geo\":{\"bgcolor\":\"rgb(17,17,17)\",\"lakecolor\":\"rgb(17,17,17)\",\"landcolor\":\"rgb(17,17,17)\",\"showlakes\":true,\"showland\":true,\"subunitcolor\":\"#506784\"},\"hoverlabel\":{\"align\":\"left\"},\"hovermode\":\"closest\",\"mapbox\":{\"style\":\"dark\"},\"paper_bgcolor\":\"rgb(17,17,17)\",\"plot_bgcolor\":\"rgb(17,17,17)\",\"polar\":{\"angularaxis\":{\"gridcolor\":\"#506784\",\"linecolor\":\"#506784\",\"ticks\":\"\"},\"bgcolor\":\"rgb(17,17,17)\",\"radialaxis\":{\"gridcolor\":\"#506784\",\"linecolor\":\"#506784\",\"ticks\":\"\"}},\"scene\":{\"xaxis\":{\"backgroundcolor\":\"rgb(17,17,17)\",\"gridcolor\":\"#506784\",\"gridwidth\":2,\"linecolor\":\"#506784\",\"showbackground\":true,\"ticks\":\"\",\"zerolinecolor\":\"#C8D4E3\"},\"yaxis\":{\"backgroundcolor\":\"rgb(17,17,17)\",\"gridcolor\":\"#506784\",\"gridwidth\":2,\"linecolor\":\"#506784\",\"showbackground\":true,\"ticks\":\"\",\"zerolinecolor\":\"#C8D4E3\"},\"zaxis\":{\"backgroundcolor\":\"rgb(17,17,17)\",\"gridcolor\":\"#506784\",\"gridwidth\":2,\"linecolor\":\"#506784\",\"showbackground\":true,\"ticks\":\"\",\"zerolinecolor\":\"#C8D4E3\"}},\"shapedefaults\":{\"line\":{\"color\":\"#f2f5fa\"}},\"sliderdefaults\":{\"bgcolor\":\"#C8D4E3\",\"bordercolor\":\"rgb(17,17,17)\",\"borderwidth\":1,\"tickwidth\":0},\"ternary\":{\"aaxis\":{\"gridcolor\":\"#506784\",\"linecolor\":\"#506784\",\"ticks\":\"\"},\"baxis\":{\"gridcolor\":\"#506784\",\"linecolor\":\"#506784\",\"ticks\":\"\"},\"bgcolor\":\"rgb(17,17,17)\",\"caxis\":{\"gridcolor\":\"#506784\",\"linecolor\":\"#506784\",\"ticks\":\"\"}},\"title\":{\"x\":0.05},\"updatemenudefaults\":{\"bgcolor\":\"#506784\",\"borderwidth\":0},\"xaxis\":{\"automargin\":true,\"gridcolor\":\"#283442\",\"linecolor\":\"#506784\",\"ticks\":\"\",\"title\":{\"standoff\":15},\"zerolinecolor\":\"#283442\",\"zerolinewidth\":2},\"yaxis\":{\"automargin\":true,\"gridcolor\":\"#283442\",\"linecolor\":\"#506784\",\"ticks\":\"\",\"title\":{\"standoff\":15},\"zerolinecolor\":\"#283442\",\"zerolinewidth\":2}}},\"xaxis\":{\"anchor\":\"y\",\"domain\":[0.0,1.0],\"title\":{\"text\":\"rating\"}},\"yaxis\":{\"anchor\":\"x\",\"domain\":[0.0,1.0],\"title\":{\"text\":\"index\"}},\"legend\":{\"tracegroupgap\":0},\"title\":{\"text\":\"The most frequent tv shows (rating split)\"},\"barmode\":\"relative\",\"height\":500,\"width\":800},                        {\"responsive\": true}                    ).then(function(){\n",
       "                            \n",
       "var gd = document.getElementById('e68e4216-e416-429a-9748-f69e1818cf87');\n",
       "var x = new MutationObserver(function (mutations, observer) {{\n",
       "        var display = window.getComputedStyle(gd).display;\n",
       "        if (!display || display === 'none') {{\n",
       "            console.log([gd, 'removed!']);\n",
       "            Plotly.purge(gd);\n",
       "            observer.disconnect();\n",
       "        }}\n",
       "}});\n",
       "\n",
       "// Listen for the removal of the full notebook cells\n",
       "var notebookContainer = gd.closest('#notebook-container');\n",
       "if (notebookContainer) {{\n",
       "    x.observe(notebookContainer, {childList: true});\n",
       "}}\n",
       "\n",
       "// Listen for the clearing of the current output cell\n",
       "var outputEl = gd.closest('.output');\n",
       "if (outputEl) {{\n",
       "    x.observe(outputEl, {childList: true});\n",
       "}}\n",
       "\n",
       "                        })                };                });            </script>        </div>"
      ]
     },
     "metadata": {},
     "output_type": "display_data"
    }
   ],
   "source": [
    "fig = px.bar(tvshow_rating,  'rating', 'index', \n",
    "             template= \"plotly_dark\",\n",
    "             color_discrete_sequence= ['#1F77B4'],\n",
    "             width = 800, height = 500,\n",
    "             text_auto=True,\n",
    "             title = 'The most frequent tv shows (rating split)'\n",
    "            )\n",
    "\n",
    "fig.show()"
   ]
  },
  {
   "cell_type": "markdown",
   "id": "9f1d0d17",
   "metadata": {
    "papermill": {
     "duration": 0.038999,
     "end_time": "2024-05-13T12:24:26.958738",
     "exception": false,
     "start_time": "2024-05-13T12:24:26.919739",
     "status": "completed"
    },
    "tags": []
   },
   "source": [
    "#### Production country"
   ]
  },
  {
   "cell_type": "code",
   "execution_count": 18,
   "id": "ed7f1b49",
   "metadata": {
    "execution": {
     "iopub.execute_input": "2024-05-13T12:24:27.045330Z",
     "iopub.status.busy": "2024-05-13T12:24:27.044923Z",
     "iopub.status.idle": "2024-05-13T12:24:27.055465Z",
     "shell.execute_reply": "2024-05-13T12:24:27.054280Z"
    },
    "papermill": {
     "duration": 0.059157,
     "end_time": "2024-05-13T12:24:27.060298",
     "exception": false,
     "start_time": "2024-05-13T12:24:27.001141",
     "status": "completed"
    },
    "tags": []
   },
   "outputs": [
    {
     "data": {
      "text/plain": [
       "0"
      ]
     },
     "execution_count": 18,
     "metadata": {},
     "output_type": "execute_result"
    }
   ],
   "source": [
    "countries = tv_shows['country']\n",
    "countries.fillna('No_info', inplace = True)\n",
    "countries.isna().sum()"
   ]
  },
  {
   "cell_type": "code",
   "execution_count": 19,
   "id": "3e091b73",
   "metadata": {
    "execution": {
     "iopub.execute_input": "2024-05-13T12:24:27.148437Z",
     "iopub.status.busy": "2024-05-13T12:24:27.147224Z",
     "iopub.status.idle": "2024-05-13T12:24:27.163154Z",
     "shell.execute_reply": "2024-05-13T12:24:27.161907Z"
    },
    "papermill": {
     "duration": 0.063562,
     "end_time": "2024-05-13T12:24:27.166393",
     "exception": false,
     "start_time": "2024-05-13T12:24:27.102831",
     "status": "completed"
    },
    "tags": []
   },
   "outputs": [],
   "source": [
    "# unsplitting fields with several countries\n",
    "\n",
    "contry_dict = {}\n",
    "\n",
    "c = list(countries)\n",
    "for i in c:\n",
    "    i = i.replace(' ', '')\n",
    "    i = i.split(',')\n",
    "        \n",
    "    for j in i:\n",
    "        if j in list(contry_dict.keys()):\n",
    "            contry_dict[j] += 1\n",
    "        else:\n",
    "            contry_dict[j] = 1  "
   ]
  },
  {
   "cell_type": "code",
   "execution_count": 20,
   "id": "652fbc28",
   "metadata": {
    "execution": {
     "iopub.execute_input": "2024-05-13T12:24:27.249354Z",
     "iopub.status.busy": "2024-05-13T12:24:27.247966Z",
     "iopub.status.idle": "2024-05-13T12:24:27.254599Z",
     "shell.execute_reply": "2024-05-13T12:24:27.253525Z"
    },
    "papermill": {
     "duration": 0.051498,
     "end_time": "2024-05-13T12:24:27.257066",
     "exception": false,
     "start_time": "2024-05-13T12:24:27.205568",
     "status": "completed"
    },
    "tags": []
   },
   "outputs": [],
   "source": [
    "countries_sorted = sorted(contry_dict.items(), key = lambda item: contry_dict[item[0]], reverse = True)\n",
    "countries_sorted = countries_sorted[:15]"
   ]
  },
  {
   "cell_type": "code",
   "execution_count": 21,
   "id": "147e4649",
   "metadata": {
    "execution": {
     "iopub.execute_input": "2024-05-13T12:24:27.346153Z",
     "iopub.status.busy": "2024-05-13T12:24:27.344698Z",
     "iopub.status.idle": "2024-05-13T12:24:27.354437Z",
     "shell.execute_reply": "2024-05-13T12:24:27.353251Z"
    },
    "papermill": {
     "duration": 0.059203,
     "end_time": "2024-05-13T12:24:27.357890",
     "exception": false,
     "start_time": "2024-05-13T12:24:27.298687",
     "status": "completed"
    },
    "tags": []
   },
   "outputs": [
    {
     "data": {
      "text/plain": [
       "[('UnitedStates', 938),\n",
       " ('No_info', 391),\n",
       " ('UnitedKingdom', 272),\n",
       " ('Japan', 199),\n",
       " ('SouthKorea', 170),\n",
       " ('Canada', 126),\n",
       " ('France', 90),\n",
       " ('India', 84),\n",
       " ('Taiwan', 70),\n",
       " ('Australia', 66),\n",
       " ('Spain', 61),\n",
       " ('Mexico', 58),\n",
       " ('China', 48),\n",
       " ('Germany', 44),\n",
       " ('Colombia', 32)]"
      ]
     },
     "execution_count": 21,
     "metadata": {},
     "output_type": "execute_result"
    }
   ],
   "source": [
    "countries_sorted"
   ]
  },
  {
   "cell_type": "code",
   "execution_count": 22,
   "id": "39db1315",
   "metadata": {
    "execution": {
     "iopub.execute_input": "2024-05-13T12:24:27.440178Z",
     "iopub.status.busy": "2024-05-13T12:24:27.439471Z",
     "iopub.status.idle": "2024-05-13T12:24:27.448635Z",
     "shell.execute_reply": "2024-05-13T12:24:27.447141Z"
    },
    "papermill": {
     "duration": 0.052965,
     "end_time": "2024-05-13T12:24:27.451693",
     "exception": false,
     "start_time": "2024-05-13T12:24:27.398728",
     "status": "completed"
    },
    "tags": []
   },
   "outputs": [
    {
     "data": {
      "text/plain": [
       "['UnitedStates',\n",
       " 'No_info',\n",
       " 'UnitedKingdom',\n",
       " 'Japan',\n",
       " 'SouthKorea',\n",
       " 'Canada',\n",
       " 'France',\n",
       " 'India',\n",
       " 'Taiwan',\n",
       " 'Australia',\n",
       " 'Spain',\n",
       " 'Mexico',\n",
       " 'China',\n",
       " 'Germany',\n",
       " 'Colombia']"
      ]
     },
     "execution_count": 22,
     "metadata": {},
     "output_type": "execute_result"
    }
   ],
   "source": [
    "# getting countries' names\n",
    "\n",
    "states = [i for i, value in countries_sorted]\n",
    "states "
   ]
  },
  {
   "cell_type": "code",
   "execution_count": 23,
   "id": "2da4520e",
   "metadata": {
    "execution": {
     "iopub.execute_input": "2024-05-13T12:24:27.538883Z",
     "iopub.status.busy": "2024-05-13T12:24:27.538421Z",
     "iopub.status.idle": "2024-05-13T12:24:27.547246Z",
     "shell.execute_reply": "2024-05-13T12:24:27.545930Z"
    },
    "papermill": {
     "duration": 0.05655,
     "end_time": "2024-05-13T12:24:27.550430",
     "exception": false,
     "start_time": "2024-05-13T12:24:27.493880",
     "status": "completed"
    },
    "tags": []
   },
   "outputs": [
    {
     "data": {
      "text/plain": [
       "[938, 391, 272, 199, 170, 126, 90, 84, 70, 66, 61, 58, 48, 44, 32]"
      ]
     },
     "execution_count": 23,
     "metadata": {},
     "output_type": "execute_result"
    }
   ],
   "source": [
    "# getting values\n",
    "\n",
    "qty = [value for i, value in countries_sorted]\n",
    "qty "
   ]
  },
  {
   "cell_type": "code",
   "execution_count": 24,
   "id": "466ba50e",
   "metadata": {
    "execution": {
     "iopub.execute_input": "2024-05-13T12:24:27.644284Z",
     "iopub.status.busy": "2024-05-13T12:24:27.643785Z",
     "iopub.status.idle": "2024-05-13T12:24:27.740480Z",
     "shell.execute_reply": "2024-05-13T12:24:27.738726Z"
    },
    "papermill": {
     "duration": 0.14864,
     "end_time": "2024-05-13T12:24:27.744581",
     "exception": false,
     "start_time": "2024-05-13T12:24:27.595941",
     "status": "completed"
    },
    "tags": []
   },
   "outputs": [
    {
     "data": {
      "text/html": [
       "<div>                            <div id=\"2c65aa79-81e1-4643-92bc-7b6c8ba85a0e\" class=\"plotly-graph-div\" style=\"height:500px; width:800px;\"></div>            <script type=\"text/javascript\">                require([\"plotly\"], function(Plotly) {                    window.PLOTLYENV=window.PLOTLYENV || {};                                    if (document.getElementById(\"2c65aa79-81e1-4643-92bc-7b6c8ba85a0e\")) {                    Plotly.newPlot(                        \"2c65aa79-81e1-4643-92bc-7b6c8ba85a0e\",                        [{\"domain\":{\"x\":[0.0,1.0],\"y\":[0.0,1.0]},\"hovertemplate\":\"label=%{label}\\u003cbr\\u003evalue=%{value}\\u003cextra\\u003e\\u003c\\u002fextra\\u003e\",\"labels\":[\"UnitedStates\",\"No_info\",\"UnitedKingdom\",\"Japan\",\"SouthKorea\",\"Canada\",\"France\",\"India\",\"Taiwan\",\"Australia\",\"Spain\",\"Mexico\",\"China\",\"Germany\",\"Colombia\"],\"legendgroup\":\"\",\"name\":\"\",\"showlegend\":true,\"values\":[938,391,272,199,170,126,90,84,70,66,61,58,48,44,32],\"type\":\"pie\"}],                        {\"template\":{\"data\":{\"barpolar\":[{\"marker\":{\"line\":{\"color\":\"rgb(17,17,17)\",\"width\":0.5},\"pattern\":{\"fillmode\":\"overlay\",\"size\":10,\"solidity\":0.2}},\"type\":\"barpolar\"}],\"bar\":[{\"error_x\":{\"color\":\"#f2f5fa\"},\"error_y\":{\"color\":\"#f2f5fa\"},\"marker\":{\"line\":{\"color\":\"rgb(17,17,17)\",\"width\":0.5},\"pattern\":{\"fillmode\":\"overlay\",\"size\":10,\"solidity\":0.2}},\"type\":\"bar\"}],\"carpet\":[{\"aaxis\":{\"endlinecolor\":\"#A2B1C6\",\"gridcolor\":\"#506784\",\"linecolor\":\"#506784\",\"minorgridcolor\":\"#506784\",\"startlinecolor\":\"#A2B1C6\"},\"baxis\":{\"endlinecolor\":\"#A2B1C6\",\"gridcolor\":\"#506784\",\"linecolor\":\"#506784\",\"minorgridcolor\":\"#506784\",\"startlinecolor\":\"#A2B1C6\"},\"type\":\"carpet\"}],\"choropleth\":[{\"colorbar\":{\"outlinewidth\":0,\"ticks\":\"\"},\"type\":\"choropleth\"}],\"contourcarpet\":[{\"colorbar\":{\"outlinewidth\":0,\"ticks\":\"\"},\"type\":\"contourcarpet\"}],\"contour\":[{\"colorbar\":{\"outlinewidth\":0,\"ticks\":\"\"},\"colorscale\":[[0.0,\"#0d0887\"],[0.1111111111111111,\"#46039f\"],[0.2222222222222222,\"#7201a8\"],[0.3333333333333333,\"#9c179e\"],[0.4444444444444444,\"#bd3786\"],[0.5555555555555556,\"#d8576b\"],[0.6666666666666666,\"#ed7953\"],[0.7777777777777778,\"#fb9f3a\"],[0.8888888888888888,\"#fdca26\"],[1.0,\"#f0f921\"]],\"type\":\"contour\"}],\"heatmapgl\":[{\"colorbar\":{\"outlinewidth\":0,\"ticks\":\"\"},\"colorscale\":[[0.0,\"#0d0887\"],[0.1111111111111111,\"#46039f\"],[0.2222222222222222,\"#7201a8\"],[0.3333333333333333,\"#9c179e\"],[0.4444444444444444,\"#bd3786\"],[0.5555555555555556,\"#d8576b\"],[0.6666666666666666,\"#ed7953\"],[0.7777777777777778,\"#fb9f3a\"],[0.8888888888888888,\"#fdca26\"],[1.0,\"#f0f921\"]],\"type\":\"heatmapgl\"}],\"heatmap\":[{\"colorbar\":{\"outlinewidth\":0,\"ticks\":\"\"},\"colorscale\":[[0.0,\"#0d0887\"],[0.1111111111111111,\"#46039f\"],[0.2222222222222222,\"#7201a8\"],[0.3333333333333333,\"#9c179e\"],[0.4444444444444444,\"#bd3786\"],[0.5555555555555556,\"#d8576b\"],[0.6666666666666666,\"#ed7953\"],[0.7777777777777778,\"#fb9f3a\"],[0.8888888888888888,\"#fdca26\"],[1.0,\"#f0f921\"]],\"type\":\"heatmap\"}],\"histogram2dcontour\":[{\"colorbar\":{\"outlinewidth\":0,\"ticks\":\"\"},\"colorscale\":[[0.0,\"#0d0887\"],[0.1111111111111111,\"#46039f\"],[0.2222222222222222,\"#7201a8\"],[0.3333333333333333,\"#9c179e\"],[0.4444444444444444,\"#bd3786\"],[0.5555555555555556,\"#d8576b\"],[0.6666666666666666,\"#ed7953\"],[0.7777777777777778,\"#fb9f3a\"],[0.8888888888888888,\"#fdca26\"],[1.0,\"#f0f921\"]],\"type\":\"histogram2dcontour\"}],\"histogram2d\":[{\"colorbar\":{\"outlinewidth\":0,\"ticks\":\"\"},\"colorscale\":[[0.0,\"#0d0887\"],[0.1111111111111111,\"#46039f\"],[0.2222222222222222,\"#7201a8\"],[0.3333333333333333,\"#9c179e\"],[0.4444444444444444,\"#bd3786\"],[0.5555555555555556,\"#d8576b\"],[0.6666666666666666,\"#ed7953\"],[0.7777777777777778,\"#fb9f3a\"],[0.8888888888888888,\"#fdca26\"],[1.0,\"#f0f921\"]],\"type\":\"histogram2d\"}],\"histogram\":[{\"marker\":{\"pattern\":{\"fillmode\":\"overlay\",\"size\":10,\"solidity\":0.2}},\"type\":\"histogram\"}],\"mesh3d\":[{\"colorbar\":{\"outlinewidth\":0,\"ticks\":\"\"},\"type\":\"mesh3d\"}],\"parcoords\":[{\"line\":{\"colorbar\":{\"outlinewidth\":0,\"ticks\":\"\"}},\"type\":\"parcoords\"}],\"pie\":[{\"automargin\":true,\"type\":\"pie\"}],\"scatter3d\":[{\"line\":{\"colorbar\":{\"outlinewidth\":0,\"ticks\":\"\"}},\"marker\":{\"colorbar\":{\"outlinewidth\":0,\"ticks\":\"\"}},\"type\":\"scatter3d\"}],\"scattercarpet\":[{\"marker\":{\"colorbar\":{\"outlinewidth\":0,\"ticks\":\"\"}},\"type\":\"scattercarpet\"}],\"scattergeo\":[{\"marker\":{\"colorbar\":{\"outlinewidth\":0,\"ticks\":\"\"}},\"type\":\"scattergeo\"}],\"scattergl\":[{\"marker\":{\"line\":{\"color\":\"#283442\"}},\"type\":\"scattergl\"}],\"scattermapbox\":[{\"marker\":{\"colorbar\":{\"outlinewidth\":0,\"ticks\":\"\"}},\"type\":\"scattermapbox\"}],\"scatterpolargl\":[{\"marker\":{\"colorbar\":{\"outlinewidth\":0,\"ticks\":\"\"}},\"type\":\"scatterpolargl\"}],\"scatterpolar\":[{\"marker\":{\"colorbar\":{\"outlinewidth\":0,\"ticks\":\"\"}},\"type\":\"scatterpolar\"}],\"scatter\":[{\"marker\":{\"line\":{\"color\":\"#283442\"}},\"type\":\"scatter\"}],\"scatterternary\":[{\"marker\":{\"colorbar\":{\"outlinewidth\":0,\"ticks\":\"\"}},\"type\":\"scatterternary\"}],\"surface\":[{\"colorbar\":{\"outlinewidth\":0,\"ticks\":\"\"},\"colorscale\":[[0.0,\"#0d0887\"],[0.1111111111111111,\"#46039f\"],[0.2222222222222222,\"#7201a8\"],[0.3333333333333333,\"#9c179e\"],[0.4444444444444444,\"#bd3786\"],[0.5555555555555556,\"#d8576b\"],[0.6666666666666666,\"#ed7953\"],[0.7777777777777778,\"#fb9f3a\"],[0.8888888888888888,\"#fdca26\"],[1.0,\"#f0f921\"]],\"type\":\"surface\"}],\"table\":[{\"cells\":{\"fill\":{\"color\":\"#506784\"},\"line\":{\"color\":\"rgb(17,17,17)\"}},\"header\":{\"fill\":{\"color\":\"#2a3f5f\"},\"line\":{\"color\":\"rgb(17,17,17)\"}},\"type\":\"table\"}]},\"layout\":{\"annotationdefaults\":{\"arrowcolor\":\"#f2f5fa\",\"arrowhead\":0,\"arrowwidth\":1},\"autotypenumbers\":\"strict\",\"coloraxis\":{\"colorbar\":{\"outlinewidth\":0,\"ticks\":\"\"}},\"colorscale\":{\"diverging\":[[0,\"#8e0152\"],[0.1,\"#c51b7d\"],[0.2,\"#de77ae\"],[0.3,\"#f1b6da\"],[0.4,\"#fde0ef\"],[0.5,\"#f7f7f7\"],[0.6,\"#e6f5d0\"],[0.7,\"#b8e186\"],[0.8,\"#7fbc41\"],[0.9,\"#4d9221\"],[1,\"#276419\"]],\"sequential\":[[0.0,\"#0d0887\"],[0.1111111111111111,\"#46039f\"],[0.2222222222222222,\"#7201a8\"],[0.3333333333333333,\"#9c179e\"],[0.4444444444444444,\"#bd3786\"],[0.5555555555555556,\"#d8576b\"],[0.6666666666666666,\"#ed7953\"],[0.7777777777777778,\"#fb9f3a\"],[0.8888888888888888,\"#fdca26\"],[1.0,\"#f0f921\"]],\"sequentialminus\":[[0.0,\"#0d0887\"],[0.1111111111111111,\"#46039f\"],[0.2222222222222222,\"#7201a8\"],[0.3333333333333333,\"#9c179e\"],[0.4444444444444444,\"#bd3786\"],[0.5555555555555556,\"#d8576b\"],[0.6666666666666666,\"#ed7953\"],[0.7777777777777778,\"#fb9f3a\"],[0.8888888888888888,\"#fdca26\"],[1.0,\"#f0f921\"]]},\"colorway\":[\"#636efa\",\"#EF553B\",\"#00cc96\",\"#ab63fa\",\"#FFA15A\",\"#19d3f3\",\"#FF6692\",\"#B6E880\",\"#FF97FF\",\"#FECB52\"],\"font\":{\"color\":\"#f2f5fa\"},\"geo\":{\"bgcolor\":\"rgb(17,17,17)\",\"lakecolor\":\"rgb(17,17,17)\",\"landcolor\":\"rgb(17,17,17)\",\"showlakes\":true,\"showland\":true,\"subunitcolor\":\"#506784\"},\"hoverlabel\":{\"align\":\"left\"},\"hovermode\":\"closest\",\"mapbox\":{\"style\":\"dark\"},\"paper_bgcolor\":\"rgb(17,17,17)\",\"plot_bgcolor\":\"rgb(17,17,17)\",\"polar\":{\"angularaxis\":{\"gridcolor\":\"#506784\",\"linecolor\":\"#506784\",\"ticks\":\"\"},\"bgcolor\":\"rgb(17,17,17)\",\"radialaxis\":{\"gridcolor\":\"#506784\",\"linecolor\":\"#506784\",\"ticks\":\"\"}},\"scene\":{\"xaxis\":{\"backgroundcolor\":\"rgb(17,17,17)\",\"gridcolor\":\"#506784\",\"gridwidth\":2,\"linecolor\":\"#506784\",\"showbackground\":true,\"ticks\":\"\",\"zerolinecolor\":\"#C8D4E3\"},\"yaxis\":{\"backgroundcolor\":\"rgb(17,17,17)\",\"gridcolor\":\"#506784\",\"gridwidth\":2,\"linecolor\":\"#506784\",\"showbackground\":true,\"ticks\":\"\",\"zerolinecolor\":\"#C8D4E3\"},\"zaxis\":{\"backgroundcolor\":\"rgb(17,17,17)\",\"gridcolor\":\"#506784\",\"gridwidth\":2,\"linecolor\":\"#506784\",\"showbackground\":true,\"ticks\":\"\",\"zerolinecolor\":\"#C8D4E3\"}},\"shapedefaults\":{\"line\":{\"color\":\"#f2f5fa\"}},\"sliderdefaults\":{\"bgcolor\":\"#C8D4E3\",\"bordercolor\":\"rgb(17,17,17)\",\"borderwidth\":1,\"tickwidth\":0},\"ternary\":{\"aaxis\":{\"gridcolor\":\"#506784\",\"linecolor\":\"#506784\",\"ticks\":\"\"},\"baxis\":{\"gridcolor\":\"#506784\",\"linecolor\":\"#506784\",\"ticks\":\"\"},\"bgcolor\":\"rgb(17,17,17)\",\"caxis\":{\"gridcolor\":\"#506784\",\"linecolor\":\"#506784\",\"ticks\":\"\"}},\"title\":{\"x\":0.05},\"updatemenudefaults\":{\"bgcolor\":\"#506784\",\"borderwidth\":0},\"xaxis\":{\"automargin\":true,\"gridcolor\":\"#283442\",\"linecolor\":\"#506784\",\"ticks\":\"\",\"title\":{\"standoff\":15},\"zerolinecolor\":\"#283442\",\"zerolinewidth\":2},\"yaxis\":{\"automargin\":true,\"gridcolor\":\"#283442\",\"linecolor\":\"#506784\",\"ticks\":\"\",\"title\":{\"standoff\":15},\"zerolinecolor\":\"#283442\",\"zerolinewidth\":2}}},\"legend\":{\"tracegroupgap\":0},\"title\":{\"text\":\"Top-15 tv show production countries\"},\"piecolorway\":[\"#2CA02C\",\"#D62728\",\"#9467BD\",\"#E377C2\",\"#1F77B4\",\"#FF7F0E\"],\"height\":500,\"width\":800},                        {\"responsive\": true}                    ).then(function(){\n",
       "                            \n",
       "var gd = document.getElementById('2c65aa79-81e1-4643-92bc-7b6c8ba85a0e');\n",
       "var x = new MutationObserver(function (mutations, observer) {{\n",
       "        var display = window.getComputedStyle(gd).display;\n",
       "        if (!display || display === 'none') {{\n",
       "            console.log([gd, 'removed!']);\n",
       "            Plotly.purge(gd);\n",
       "            observer.disconnect();\n",
       "        }}\n",
       "}});\n",
       "\n",
       "// Listen for the removal of the full notebook cells\n",
       "var notebookContainer = gd.closest('#notebook-container');\n",
       "if (notebookContainer) {{\n",
       "    x.observe(notebookContainer, {childList: true});\n",
       "}}\n",
       "\n",
       "// Listen for the clearing of the current output cell\n",
       "var outputEl = gd.closest('.output');\n",
       "if (outputEl) {{\n",
       "    x.observe(outputEl, {childList: true});\n",
       "}}\n",
       "\n",
       "                        })                };                });            </script>        </div>"
      ]
     },
     "metadata": {},
     "output_type": "display_data"
    }
   ],
   "source": [
    "chart_colors = [ '#2CA02C', '#D62728', '#9467BD', '#E377C2', '#1F77B4', '#FF7F0E',] \n",
    "\n",
    "fig = px.pie(values = qty, names = states,\n",
    "             template= \"plotly_dark\", \n",
    "             title = 'Top-15 tv show production countries', \n",
    "             width = 800, height = 500, \n",
    "             color_discrete_sequence=  chart_colors)\n",
    "\n",
    "\n",
    "fig.show()"
   ]
  },
  {
   "cell_type": "markdown",
   "id": "a205ceba",
   "metadata": {
    "papermill": {
     "duration": 0.042532,
     "end_time": "2024-05-13T12:24:27.829847",
     "exception": false,
     "start_time": "2024-05-13T12:24:27.787315",
     "status": "completed"
    },
    "tags": []
   },
   "source": [
    "#### TV Shows duration"
   ]
  },
  {
   "cell_type": "code",
   "execution_count": 25,
   "id": "73b74bb4",
   "metadata": {
    "execution": {
     "iopub.execute_input": "2024-05-13T12:24:27.916677Z",
     "iopub.status.busy": "2024-05-13T12:24:27.916206Z",
     "iopub.status.idle": "2024-05-13T12:24:27.928651Z",
     "shell.execute_reply": "2024-05-13T12:24:27.927470Z"
    },
    "papermill": {
     "duration": 0.057743,
     "end_time": "2024-05-13T12:24:27.931431",
     "exception": false,
     "start_time": "2024-05-13T12:24:27.873688",
     "status": "completed"
    },
    "tags": []
   },
   "outputs": [
    {
     "data": {
      "text/html": [
       "<div>\n",
       "<style scoped>\n",
       "    .dataframe tbody tr th:only-of-type {\n",
       "        vertical-align: middle;\n",
       "    }\n",
       "\n",
       "    .dataframe tbody tr th {\n",
       "        vertical-align: top;\n",
       "    }\n",
       "\n",
       "    .dataframe thead th {\n",
       "        text-align: right;\n",
       "    }\n",
       "</style>\n",
       "<table border=\"1\" class=\"dataframe\">\n",
       "  <thead>\n",
       "    <tr style=\"text-align: right;\">\n",
       "      <th></th>\n",
       "      <th>title</th>\n",
       "      <th>duration</th>\n",
       "    </tr>\n",
       "  </thead>\n",
       "  <tbody>\n",
       "    <tr>\n",
       "      <th>1</th>\n",
       "      <td>Blood &amp; Water</td>\n",
       "      <td>2 Seasons</td>\n",
       "    </tr>\n",
       "    <tr>\n",
       "      <th>2</th>\n",
       "      <td>Ganglands</td>\n",
       "      <td>1 Season</td>\n",
       "    </tr>\n",
       "    <tr>\n",
       "      <th>3</th>\n",
       "      <td>Jailbirds New Orleans</td>\n",
       "      <td>1 Season</td>\n",
       "    </tr>\n",
       "  </tbody>\n",
       "</table>\n",
       "</div>"
      ],
      "text/plain": [
       "                   title   duration\n",
       "1          Blood & Water  2 Seasons\n",
       "2              Ganglands   1 Season\n",
       "3  Jailbirds New Orleans   1 Season"
      ]
     },
     "execution_count": 25,
     "metadata": {},
     "output_type": "execute_result"
    }
   ],
   "source": [
    "tvshow_duration = tv_shows[['title', 'duration']]#.str.replace('Season', '')\n",
    "tvshow_duration.head(3)"
   ]
  },
  {
   "cell_type": "code",
   "execution_count": 26,
   "id": "8987e65f",
   "metadata": {
    "execution": {
     "iopub.execute_input": "2024-05-13T12:24:28.020082Z",
     "iopub.status.busy": "2024-05-13T12:24:28.019675Z",
     "iopub.status.idle": "2024-05-13T12:24:28.028087Z",
     "shell.execute_reply": "2024-05-13T12:24:28.026844Z"
    },
    "papermill": {
     "duration": 0.054939,
     "end_time": "2024-05-13T12:24:28.030404",
     "exception": false,
     "start_time": "2024-05-13T12:24:27.975465",
     "status": "completed"
    },
    "tags": []
   },
   "outputs": [],
   "source": [
    "# Getting number of seasons\n",
    "\n",
    "tvshow_duration['seasons_no'] = tvshow_duration['duration'].apply(\n",
    "    lambda x:  x.replace('Seasons', '') if 'Seasons' in x else x.replace('Season', ''))"
   ]
  },
  {
   "cell_type": "code",
   "execution_count": 27,
   "id": "d2e50226",
   "metadata": {
    "execution": {
     "iopub.execute_input": "2024-05-13T12:24:28.116175Z",
     "iopub.status.busy": "2024-05-13T12:24:28.115747Z",
     "iopub.status.idle": "2024-05-13T12:24:28.129261Z",
     "shell.execute_reply": "2024-05-13T12:24:28.127931Z"
    },
    "papermill": {
     "duration": 0.058838,
     "end_time": "2024-05-13T12:24:28.131709",
     "exception": false,
     "start_time": "2024-05-13T12:24:28.072871",
     "status": "completed"
    },
    "tags": []
   },
   "outputs": [
    {
     "data": {
      "text/html": [
       "<div>\n",
       "<style scoped>\n",
       "    .dataframe tbody tr th:only-of-type {\n",
       "        vertical-align: middle;\n",
       "    }\n",
       "\n",
       "    .dataframe tbody tr th {\n",
       "        vertical-align: top;\n",
       "    }\n",
       "\n",
       "    .dataframe thead th {\n",
       "        text-align: right;\n",
       "    }\n",
       "</style>\n",
       "<table border=\"1\" class=\"dataframe\">\n",
       "  <thead>\n",
       "    <tr style=\"text-align: right;\">\n",
       "      <th></th>\n",
       "      <th>title</th>\n",
       "      <th>seasons_no</th>\n",
       "    </tr>\n",
       "  </thead>\n",
       "  <tbody>\n",
       "    <tr>\n",
       "      <th>1</th>\n",
       "      <td>Blood &amp; Water</td>\n",
       "      <td>2</td>\n",
       "    </tr>\n",
       "    <tr>\n",
       "      <th>2</th>\n",
       "      <td>Ganglands</td>\n",
       "      <td>1</td>\n",
       "    </tr>\n",
       "    <tr>\n",
       "      <th>3</th>\n",
       "      <td>Jailbirds New Orleans</td>\n",
       "      <td>1</td>\n",
       "    </tr>\n",
       "  </tbody>\n",
       "</table>\n",
       "</div>"
      ],
      "text/plain": [
       "                   title  seasons_no\n",
       "1          Blood & Water           2\n",
       "2              Ganglands           1\n",
       "3  Jailbirds New Orleans           1"
      ]
     },
     "execution_count": 27,
     "metadata": {},
     "output_type": "execute_result"
    }
   ],
   "source": [
    "tvshow_duration['seasons_no'] = tvshow_duration['seasons_no'].astype('int')\n",
    "tvshow_duration = tvshow_duration[['title', 'seasons_no']]\n",
    "tvshow_duration[:3]"
   ]
  },
  {
   "cell_type": "code",
   "execution_count": 28,
   "id": "514dc203",
   "metadata": {
    "execution": {
     "iopub.execute_input": "2024-05-13T12:24:28.218111Z",
     "iopub.status.busy": "2024-05-13T12:24:28.217485Z",
     "iopub.status.idle": "2024-05-13T12:24:28.225311Z",
     "shell.execute_reply": "2024-05-13T12:24:28.223679Z"
    },
    "papermill": {
     "duration": 0.053822,
     "end_time": "2024-05-13T12:24:28.228412",
     "exception": false,
     "start_time": "2024-05-13T12:24:28.174590",
     "status": "completed"
    },
    "tags": []
   },
   "outputs": [],
   "source": [
    "# getting tv shows with the biggest number of seasons +10\n",
    "\n",
    "tvshow_duration10 = tvshow_duration.sort_values(by = 'seasons_no', ascending = False)\n",
    "tvshow_duration10 = tvshow_duration[tvshow_duration['seasons_no'] >= 10]"
   ]
  },
  {
   "cell_type": "code",
   "execution_count": 29,
   "id": "d5ae5c39",
   "metadata": {
    "execution": {
     "iopub.execute_input": "2024-05-13T12:24:28.317402Z",
     "iopub.status.busy": "2024-05-13T12:24:28.317007Z",
     "iopub.status.idle": "2024-05-13T12:24:28.333810Z",
     "shell.execute_reply": "2024-05-13T12:24:28.332254Z"
    },
    "papermill": {
     "duration": 0.063966,
     "end_time": "2024-05-13T12:24:28.336652",
     "exception": false,
     "start_time": "2024-05-13T12:24:28.272686",
     "status": "completed"
    },
    "tags": []
   },
   "outputs": [
    {
     "data": {
      "text/html": [
       "<div>\n",
       "<style scoped>\n",
       "    .dataframe tbody tr th:only-of-type {\n",
       "        vertical-align: middle;\n",
       "    }\n",
       "\n",
       "    .dataframe tbody tr th {\n",
       "        vertical-align: top;\n",
       "    }\n",
       "\n",
       "    .dataframe thead th {\n",
       "        text-align: right;\n",
       "    }\n",
       "</style>\n",
       "<table border=\"1\" class=\"dataframe\">\n",
       "  <thead>\n",
       "    <tr style=\"text-align: right;\">\n",
       "      <th></th>\n",
       "      <th>title</th>\n",
       "      <th>seasons_no</th>\n",
       "    </tr>\n",
       "  </thead>\n",
       "  <tbody>\n",
       "    <tr>\n",
       "      <th>548</th>\n",
       "      <td>Grey's Anatomy</td>\n",
       "      <td>17</td>\n",
       "    </tr>\n",
       "    <tr>\n",
       "      <th>4798</th>\n",
       "      <td>NCIS</td>\n",
       "      <td>15</td>\n",
       "    </tr>\n",
       "    <tr>\n",
       "      <th>2423</th>\n",
       "      <td>Supernatural</td>\n",
       "      <td>15</td>\n",
       "    </tr>\n",
       "    <tr>\n",
       "      <th>4220</th>\n",
       "      <td>COMEDIANS of the world</td>\n",
       "      <td>13</td>\n",
       "    </tr>\n",
       "    <tr>\n",
       "      <th>7847</th>\n",
       "      <td>Red vs. Blue</td>\n",
       "      <td>13</td>\n",
       "    </tr>\n",
       "    <tr>\n",
       "      <th>1354</th>\n",
       "      <td>Heartland</td>\n",
       "      <td>13</td>\n",
       "    </tr>\n",
       "    <tr>\n",
       "      <th>4964</th>\n",
       "      <td>Trailer Park Boys</td>\n",
       "      <td>12</td>\n",
       "    </tr>\n",
       "    <tr>\n",
       "      <th>5412</th>\n",
       "      <td>Criminal Minds</td>\n",
       "      <td>12</td>\n",
       "    </tr>\n",
       "    <tr>\n",
       "      <th>6456</th>\n",
       "      <td>Cheers</td>\n",
       "      <td>11</td>\n",
       "    </tr>\n",
       "    <tr>\n",
       "      <th>6795</th>\n",
       "      <td>Frasier</td>\n",
       "      <td>11</td>\n",
       "    </tr>\n",
       "    <tr>\n",
       "      <th>2203</th>\n",
       "      <td>Shameless (U.S.)</td>\n",
       "      <td>10</td>\n",
       "    </tr>\n",
       "    <tr>\n",
       "      <th>1759</th>\n",
       "      <td>LEGO Ninjago: Masters of Spinjitzu</td>\n",
       "      <td>10</td>\n",
       "    </tr>\n",
       "    <tr>\n",
       "      <th>1622</th>\n",
       "      <td>Stargate SG-1</td>\n",
       "      <td>10</td>\n",
       "    </tr>\n",
       "    <tr>\n",
       "      <th>5908</th>\n",
       "      <td>Danger Mouse: Classic Collection</td>\n",
       "      <td>10</td>\n",
       "    </tr>\n",
       "    <tr>\n",
       "      <th>6549</th>\n",
       "      <td>Dad's Army</td>\n",
       "      <td>10</td>\n",
       "    </tr>\n",
       "    <tr>\n",
       "      <th>6806</th>\n",
       "      <td>Friends</td>\n",
       "      <td>10</td>\n",
       "    </tr>\n",
       "    <tr>\n",
       "      <th>390</th>\n",
       "      <td>The Walking Dead</td>\n",
       "      <td>10</td>\n",
       "    </tr>\n",
       "  </tbody>\n",
       "</table>\n",
       "</div>"
      ],
      "text/plain": [
       "                                   title  seasons_no\n",
       "548                       Grey's Anatomy          17\n",
       "4798                                NCIS          15\n",
       "2423                        Supernatural          15\n",
       "4220              COMEDIANS of the world          13\n",
       "7847                        Red vs. Blue          13\n",
       "1354                           Heartland          13\n",
       "4964                   Trailer Park Boys          12\n",
       "5412                      Criminal Minds          12\n",
       "6456                              Cheers          11\n",
       "6795                             Frasier          11\n",
       "2203                    Shameless (U.S.)          10\n",
       "1759  LEGO Ninjago: Masters of Spinjitzu          10\n",
       "1622                       Stargate SG-1          10\n",
       "5908    Danger Mouse: Classic Collection          10\n",
       "6549                          Dad's Army          10\n",
       "6806                             Friends          10\n",
       "390                     The Walking Dead          10"
      ]
     },
     "execution_count": 29,
     "metadata": {},
     "output_type": "execute_result"
    }
   ],
   "source": [
    "tvshow_duration10 = tvshow_duration10.sort_values(by = 'seasons_no', ascending = False)\n",
    "tvshow_duration10 "
   ]
  },
  {
   "cell_type": "code",
   "execution_count": 30,
   "id": "47554338",
   "metadata": {
    "execution": {
     "iopub.execute_input": "2024-05-13T12:24:28.424493Z",
     "iopub.status.busy": "2024-05-13T12:24:28.424059Z",
     "iopub.status.idle": "2024-05-13T12:24:28.499881Z",
     "shell.execute_reply": "2024-05-13T12:24:28.498400Z"
    },
    "papermill": {
     "duration": 0.124143,
     "end_time": "2024-05-13T12:24:28.502529",
     "exception": false,
     "start_time": "2024-05-13T12:24:28.378386",
     "status": "completed"
    },
    "tags": []
   },
   "outputs": [
    {
     "data": {
      "text/html": [
       "<div>                            <div id=\"acf03acb-034e-40ab-8954-e5987c4e65b8\" class=\"plotly-graph-div\" style=\"height:500px; width:800px;\"></div>            <script type=\"text/javascript\">                require([\"plotly\"], function(Plotly) {                    window.PLOTLYENV=window.PLOTLYENV || {};                                    if (document.getElementById(\"acf03acb-034e-40ab-8954-e5987c4e65b8\")) {                    Plotly.newPlot(                        \"acf03acb-034e-40ab-8954-e5987c4e65b8\",                        [{\"alignmentgroup\":\"True\",\"hovertemplate\":\"title=%{x}\\u003cbr\\u003eseasons_no=%{y}\\u003cextra\\u003e\\u003c\\u002fextra\\u003e\",\"legendgroup\":\"\",\"marker\":{\"color\":\"#F94233\",\"pattern\":{\"shape\":\"\"}},\"name\":\"\",\"offsetgroup\":\"\",\"orientation\":\"v\",\"showlegend\":false,\"textposition\":\"auto\",\"texttemplate\":\"%{y}\",\"x\":[\"Grey's Anatomy\",\"NCIS\",\"Supernatural\",\"COMEDIANS of the world\",\"Red vs. Blue\",\"Heartland\",\"Trailer Park Boys\",\"Criminal Minds\",\"Cheers\",\"Frasier\",\"Shameless (U.S.)\",\"LEGO Ninjago: Masters of Spinjitzu\",\"Stargate SG-1\",\"Danger Mouse: Classic Collection\",\"Dad's Army\",\"Friends\",\"The Walking Dead\"],\"xaxis\":\"x\",\"y\":[17,15,15,13,13,13,12,12,11,11,10,10,10,10,10,10,10],\"yaxis\":\"y\",\"type\":\"bar\"}],                        {\"template\":{\"data\":{\"barpolar\":[{\"marker\":{\"line\":{\"color\":\"rgb(17,17,17)\",\"width\":0.5},\"pattern\":{\"fillmode\":\"overlay\",\"size\":10,\"solidity\":0.2}},\"type\":\"barpolar\"}],\"bar\":[{\"error_x\":{\"color\":\"#f2f5fa\"},\"error_y\":{\"color\":\"#f2f5fa\"},\"marker\":{\"line\":{\"color\":\"rgb(17,17,17)\",\"width\":0.5},\"pattern\":{\"fillmode\":\"overlay\",\"size\":10,\"solidity\":0.2}},\"type\":\"bar\"}],\"carpet\":[{\"aaxis\":{\"endlinecolor\":\"#A2B1C6\",\"gridcolor\":\"#506784\",\"linecolor\":\"#506784\",\"minorgridcolor\":\"#506784\",\"startlinecolor\":\"#A2B1C6\"},\"baxis\":{\"endlinecolor\":\"#A2B1C6\",\"gridcolor\":\"#506784\",\"linecolor\":\"#506784\",\"minorgridcolor\":\"#506784\",\"startlinecolor\":\"#A2B1C6\"},\"type\":\"carpet\"}],\"choropleth\":[{\"colorbar\":{\"outlinewidth\":0,\"ticks\":\"\"},\"type\":\"choropleth\"}],\"contourcarpet\":[{\"colorbar\":{\"outlinewidth\":0,\"ticks\":\"\"},\"type\":\"contourcarpet\"}],\"contour\":[{\"colorbar\":{\"outlinewidth\":0,\"ticks\":\"\"},\"colorscale\":[[0.0,\"#0d0887\"],[0.1111111111111111,\"#46039f\"],[0.2222222222222222,\"#7201a8\"],[0.3333333333333333,\"#9c179e\"],[0.4444444444444444,\"#bd3786\"],[0.5555555555555556,\"#d8576b\"],[0.6666666666666666,\"#ed7953\"],[0.7777777777777778,\"#fb9f3a\"],[0.8888888888888888,\"#fdca26\"],[1.0,\"#f0f921\"]],\"type\":\"contour\"}],\"heatmapgl\":[{\"colorbar\":{\"outlinewidth\":0,\"ticks\":\"\"},\"colorscale\":[[0.0,\"#0d0887\"],[0.1111111111111111,\"#46039f\"],[0.2222222222222222,\"#7201a8\"],[0.3333333333333333,\"#9c179e\"],[0.4444444444444444,\"#bd3786\"],[0.5555555555555556,\"#d8576b\"],[0.6666666666666666,\"#ed7953\"],[0.7777777777777778,\"#fb9f3a\"],[0.8888888888888888,\"#fdca26\"],[1.0,\"#f0f921\"]],\"type\":\"heatmapgl\"}],\"heatmap\":[{\"colorbar\":{\"outlinewidth\":0,\"ticks\":\"\"},\"colorscale\":[[0.0,\"#0d0887\"],[0.1111111111111111,\"#46039f\"],[0.2222222222222222,\"#7201a8\"],[0.3333333333333333,\"#9c179e\"],[0.4444444444444444,\"#bd3786\"],[0.5555555555555556,\"#d8576b\"],[0.6666666666666666,\"#ed7953\"],[0.7777777777777778,\"#fb9f3a\"],[0.8888888888888888,\"#fdca26\"],[1.0,\"#f0f921\"]],\"type\":\"heatmap\"}],\"histogram2dcontour\":[{\"colorbar\":{\"outlinewidth\":0,\"ticks\":\"\"},\"colorscale\":[[0.0,\"#0d0887\"],[0.1111111111111111,\"#46039f\"],[0.2222222222222222,\"#7201a8\"],[0.3333333333333333,\"#9c179e\"],[0.4444444444444444,\"#bd3786\"],[0.5555555555555556,\"#d8576b\"],[0.6666666666666666,\"#ed7953\"],[0.7777777777777778,\"#fb9f3a\"],[0.8888888888888888,\"#fdca26\"],[1.0,\"#f0f921\"]],\"type\":\"histogram2dcontour\"}],\"histogram2d\":[{\"colorbar\":{\"outlinewidth\":0,\"ticks\":\"\"},\"colorscale\":[[0.0,\"#0d0887\"],[0.1111111111111111,\"#46039f\"],[0.2222222222222222,\"#7201a8\"],[0.3333333333333333,\"#9c179e\"],[0.4444444444444444,\"#bd3786\"],[0.5555555555555556,\"#d8576b\"],[0.6666666666666666,\"#ed7953\"],[0.7777777777777778,\"#fb9f3a\"],[0.8888888888888888,\"#fdca26\"],[1.0,\"#f0f921\"]],\"type\":\"histogram2d\"}],\"histogram\":[{\"marker\":{\"pattern\":{\"fillmode\":\"overlay\",\"size\":10,\"solidity\":0.2}},\"type\":\"histogram\"}],\"mesh3d\":[{\"colorbar\":{\"outlinewidth\":0,\"ticks\":\"\"},\"type\":\"mesh3d\"}],\"parcoords\":[{\"line\":{\"colorbar\":{\"outlinewidth\":0,\"ticks\":\"\"}},\"type\":\"parcoords\"}],\"pie\":[{\"automargin\":true,\"type\":\"pie\"}],\"scatter3d\":[{\"line\":{\"colorbar\":{\"outlinewidth\":0,\"ticks\":\"\"}},\"marker\":{\"colorbar\":{\"outlinewidth\":0,\"ticks\":\"\"}},\"type\":\"scatter3d\"}],\"scattercarpet\":[{\"marker\":{\"colorbar\":{\"outlinewidth\":0,\"ticks\":\"\"}},\"type\":\"scattercarpet\"}],\"scattergeo\":[{\"marker\":{\"colorbar\":{\"outlinewidth\":0,\"ticks\":\"\"}},\"type\":\"scattergeo\"}],\"scattergl\":[{\"marker\":{\"line\":{\"color\":\"#283442\"}},\"type\":\"scattergl\"}],\"scattermapbox\":[{\"marker\":{\"colorbar\":{\"outlinewidth\":0,\"ticks\":\"\"}},\"type\":\"scattermapbox\"}],\"scatterpolargl\":[{\"marker\":{\"colorbar\":{\"outlinewidth\":0,\"ticks\":\"\"}},\"type\":\"scatterpolargl\"}],\"scatterpolar\":[{\"marker\":{\"colorbar\":{\"outlinewidth\":0,\"ticks\":\"\"}},\"type\":\"scatterpolar\"}],\"scatter\":[{\"marker\":{\"line\":{\"color\":\"#283442\"}},\"type\":\"scatter\"}],\"scatterternary\":[{\"marker\":{\"colorbar\":{\"outlinewidth\":0,\"ticks\":\"\"}},\"type\":\"scatterternary\"}],\"surface\":[{\"colorbar\":{\"outlinewidth\":0,\"ticks\":\"\"},\"colorscale\":[[0.0,\"#0d0887\"],[0.1111111111111111,\"#46039f\"],[0.2222222222222222,\"#7201a8\"],[0.3333333333333333,\"#9c179e\"],[0.4444444444444444,\"#bd3786\"],[0.5555555555555556,\"#d8576b\"],[0.6666666666666666,\"#ed7953\"],[0.7777777777777778,\"#fb9f3a\"],[0.8888888888888888,\"#fdca26\"],[1.0,\"#f0f921\"]],\"type\":\"surface\"}],\"table\":[{\"cells\":{\"fill\":{\"color\":\"#506784\"},\"line\":{\"color\":\"rgb(17,17,17)\"}},\"header\":{\"fill\":{\"color\":\"#2a3f5f\"},\"line\":{\"color\":\"rgb(17,17,17)\"}},\"type\":\"table\"}]},\"layout\":{\"annotationdefaults\":{\"arrowcolor\":\"#f2f5fa\",\"arrowhead\":0,\"arrowwidth\":1},\"autotypenumbers\":\"strict\",\"coloraxis\":{\"colorbar\":{\"outlinewidth\":0,\"ticks\":\"\"}},\"colorscale\":{\"diverging\":[[0,\"#8e0152\"],[0.1,\"#c51b7d\"],[0.2,\"#de77ae\"],[0.3,\"#f1b6da\"],[0.4,\"#fde0ef\"],[0.5,\"#f7f7f7\"],[0.6,\"#e6f5d0\"],[0.7,\"#b8e186\"],[0.8,\"#7fbc41\"],[0.9,\"#4d9221\"],[1,\"#276419\"]],\"sequential\":[[0.0,\"#0d0887\"],[0.1111111111111111,\"#46039f\"],[0.2222222222222222,\"#7201a8\"],[0.3333333333333333,\"#9c179e\"],[0.4444444444444444,\"#bd3786\"],[0.5555555555555556,\"#d8576b\"],[0.6666666666666666,\"#ed7953\"],[0.7777777777777778,\"#fb9f3a\"],[0.8888888888888888,\"#fdca26\"],[1.0,\"#f0f921\"]],\"sequentialminus\":[[0.0,\"#0d0887\"],[0.1111111111111111,\"#46039f\"],[0.2222222222222222,\"#7201a8\"],[0.3333333333333333,\"#9c179e\"],[0.4444444444444444,\"#bd3786\"],[0.5555555555555556,\"#d8576b\"],[0.6666666666666666,\"#ed7953\"],[0.7777777777777778,\"#fb9f3a\"],[0.8888888888888888,\"#fdca26\"],[1.0,\"#f0f921\"]]},\"colorway\":[\"#636efa\",\"#EF553B\",\"#00cc96\",\"#ab63fa\",\"#FFA15A\",\"#19d3f3\",\"#FF6692\",\"#B6E880\",\"#FF97FF\",\"#FECB52\"],\"font\":{\"color\":\"#f2f5fa\"},\"geo\":{\"bgcolor\":\"rgb(17,17,17)\",\"lakecolor\":\"rgb(17,17,17)\",\"landcolor\":\"rgb(17,17,17)\",\"showlakes\":true,\"showland\":true,\"subunitcolor\":\"#506784\"},\"hoverlabel\":{\"align\":\"left\"},\"hovermode\":\"closest\",\"mapbox\":{\"style\":\"dark\"},\"paper_bgcolor\":\"rgb(17,17,17)\",\"plot_bgcolor\":\"rgb(17,17,17)\",\"polar\":{\"angularaxis\":{\"gridcolor\":\"#506784\",\"linecolor\":\"#506784\",\"ticks\":\"\"},\"bgcolor\":\"rgb(17,17,17)\",\"radialaxis\":{\"gridcolor\":\"#506784\",\"linecolor\":\"#506784\",\"ticks\":\"\"}},\"scene\":{\"xaxis\":{\"backgroundcolor\":\"rgb(17,17,17)\",\"gridcolor\":\"#506784\",\"gridwidth\":2,\"linecolor\":\"#506784\",\"showbackground\":true,\"ticks\":\"\",\"zerolinecolor\":\"#C8D4E3\"},\"yaxis\":{\"backgroundcolor\":\"rgb(17,17,17)\",\"gridcolor\":\"#506784\",\"gridwidth\":2,\"linecolor\":\"#506784\",\"showbackground\":true,\"ticks\":\"\",\"zerolinecolor\":\"#C8D4E3\"},\"zaxis\":{\"backgroundcolor\":\"rgb(17,17,17)\",\"gridcolor\":\"#506784\",\"gridwidth\":2,\"linecolor\":\"#506784\",\"showbackground\":true,\"ticks\":\"\",\"zerolinecolor\":\"#C8D4E3\"}},\"shapedefaults\":{\"line\":{\"color\":\"#f2f5fa\"}},\"sliderdefaults\":{\"bgcolor\":\"#C8D4E3\",\"bordercolor\":\"rgb(17,17,17)\",\"borderwidth\":1,\"tickwidth\":0},\"ternary\":{\"aaxis\":{\"gridcolor\":\"#506784\",\"linecolor\":\"#506784\",\"ticks\":\"\"},\"baxis\":{\"gridcolor\":\"#506784\",\"linecolor\":\"#506784\",\"ticks\":\"\"},\"bgcolor\":\"rgb(17,17,17)\",\"caxis\":{\"gridcolor\":\"#506784\",\"linecolor\":\"#506784\",\"ticks\":\"\"}},\"title\":{\"x\":0.05},\"updatemenudefaults\":{\"bgcolor\":\"#506784\",\"borderwidth\":0},\"xaxis\":{\"automargin\":true,\"gridcolor\":\"#283442\",\"linecolor\":\"#506784\",\"ticks\":\"\",\"title\":{\"standoff\":15},\"zerolinecolor\":\"#283442\",\"zerolinewidth\":2},\"yaxis\":{\"automargin\":true,\"gridcolor\":\"#283442\",\"linecolor\":\"#506784\",\"ticks\":\"\",\"title\":{\"standoff\":15},\"zerolinecolor\":\"#283442\",\"zerolinewidth\":2}}},\"xaxis\":{\"anchor\":\"y\",\"domain\":[0.0,1.0],\"title\":{\"text\":\"title\"}},\"yaxis\":{\"anchor\":\"x\",\"domain\":[0.0,1.0],\"title\":{\"text\":\"seasons_no\"}},\"legend\":{\"tracegroupgap\":0},\"title\":{\"text\":\"Tv shows with the biggest number of seasons +10\"},\"barmode\":\"relative\",\"height\":500,\"width\":800},                        {\"responsive\": true}                    ).then(function(){\n",
       "                            \n",
       "var gd = document.getElementById('acf03acb-034e-40ab-8954-e5987c4e65b8');\n",
       "var x = new MutationObserver(function (mutations, observer) {{\n",
       "        var display = window.getComputedStyle(gd).display;\n",
       "        if (!display || display === 'none') {{\n",
       "            console.log([gd, 'removed!']);\n",
       "            Plotly.purge(gd);\n",
       "            observer.disconnect();\n",
       "        }}\n",
       "}});\n",
       "\n",
       "// Listen for the removal of the full notebook cells\n",
       "var notebookContainer = gd.closest('#notebook-container');\n",
       "if (notebookContainer) {{\n",
       "    x.observe(notebookContainer, {childList: true});\n",
       "}}\n",
       "\n",
       "// Listen for the clearing of the current output cell\n",
       "var outputEl = gd.closest('.output');\n",
       "if (outputEl) {{\n",
       "    x.observe(outputEl, {childList: true});\n",
       "}}\n",
       "\n",
       "                        })                };                });            </script>        </div>"
      ]
     },
     "metadata": {},
     "output_type": "display_data"
    }
   ],
   "source": [
    "fig = px.bar(tvshow_duration10,  'title', 'seasons_no', \n",
    "             template= \"plotly_dark\",\n",
    "             color_discrete_sequence= ['#F94233'],\n",
    "             width = 800, height = 500,\n",
    "             text_auto=True,\n",
    "             title = 'Tv shows with the biggest number of seasons +10'\n",
    "            )\n",
    "\n",
    "fig.show()"
   ]
  },
  {
   "cell_type": "code",
   "execution_count": 31,
   "id": "2b60ce31",
   "metadata": {
    "execution": {
     "iopub.execute_input": "2024-05-13T12:24:28.592565Z",
     "iopub.status.busy": "2024-05-13T12:24:28.592157Z",
     "iopub.status.idle": "2024-05-13T12:24:28.775115Z",
     "shell.execute_reply": "2024-05-13T12:24:28.773920Z"
    },
    "papermill": {
     "duration": 0.233139,
     "end_time": "2024-05-13T12:24:28.778326",
     "exception": false,
     "start_time": "2024-05-13T12:24:28.545187",
     "status": "completed"
    },
    "tags": []
   },
   "outputs": [
    {
     "data": {
      "text/html": [
       "<div>                            <div id=\"62dd8295-9895-43fe-b7e1-a8f5c8682b6b\" class=\"plotly-graph-div\" style=\"height:600px; width:900px;\"></div>            <script type=\"text/javascript\">                require([\"plotly\"], function(Plotly) {                    window.PLOTLYENV=window.PLOTLYENV || {};                                    if (document.getElementById(\"62dd8295-9895-43fe-b7e1-a8f5c8682b6b\")) {                    Plotly.newPlot(                        \"62dd8295-9895-43fe-b7e1-a8f5c8682b6b\",                        [{\"autobinx\":false,\"histnorm\":\"probability density\",\"legendgroup\":\"distplot\",\"marker\":{\"color\":\"rgb(31, 119, 180)\"},\"name\":\"distplot\",\"opacity\":0.7,\"x\":[2,1,1,2,1,9,1,1,1,4,2,1,1,5,2,1,3,1,1,1,3,1,1,2,1,6,6,1,9,1,1,5,2,1,6,1,1,2,4,2,3,2,1,1,2,1,2,5,1,5,1,1,1,1,1,3,1,1,1,1,2,3,4,1,1,1,1,1,2,1,1,1,1,2,3,1,1,4,1,1,1,1,1,3,1,3,1,1,1,1,5,1,2,1,1,2,1,5,1,7,1,2,1,1,2,1,1,1,1,1,1,3,1,2,1,1,1,1,1,1,1,7,3,1,5,6,3,1,3,1,1,2,1,1,7,1,3,3,4,1,10,4,1,1,1,2,2,5,1,1,1,1,3,1,1,2,1,2,1,1,1,4,2,1,1,3,1,1,1,2,2,1,3,2,2,4,3,5,2,2,2,2,2,5,3,3,2,8,7,2,2,3,3,2,3,6,2,2,4,2,5,3,1,1,17,1,2,1,1,1,1,1,3,1,1,1,1,1,1,4,5,1,1,1,1,2,1,2,1,2,1,1,4,4,1,1,2,2,1,6,3,5,1,2,1,4,6,1,1,1,1,1,4,2,1,1,2,1,1,1,3,1,1,3,1,1,1,1,1,2,1,1,1,2,2,2,1,1,1,2,2,1,2,1,1,1,1,2,1,2,3,6,3,1,1,1,3,2,3,2,1,1,1,2,1,3,1,3,3,2,2,1,2,1,1,1,3,2,1,1,4,1,1,1,1,1,2,1,1,2,3,2,2,2,1,1,1,2,1,1,1,1,1,1,1,1,2,2,3,1,1,1,1,1,7,1,1,1,3,1,2,1,1,1,6,1,1,1,1,1,3,1,1,1,1,4,1,1,1,2,1,1,1,2,2,2,2,1,1,2,1,1,4,1,1,1,1,6,1,4,2,1,3,2,1,1,1,1,1,2,3,1,1,1,1,1,1,1,1,1,4,1,1,5,1,1,1,3,1,1,1,1,2,1,1,1,1,1,1,1,1,1,4,3,4,1,1,2,1,1,1,1,1,2,3,2,1,1,1,2,2,13,1,1,1,1,7,2,2,1,1,2,4,1,2,3,1,1,1,4,1,4,3,3,5,1,4,5,1,1,2,1,1,3,1,1,3,2,1,1,2,1,1,2,4,1,1,1,1,9,1,1,1,2,1,1,1,2,1,1,2,1,2,1,1,1,1,1,1,1,1,2,2,2,2,2,2,1,1,2,1,1,1,4,1,2,3,1,1,3,1,1,1,1,1,4,1,3,1,2,2,1,2,4,1,10,1,1,1,1,1,1,7,1,2,2,1,1,1,3,1,1,1,1,4,1,2,1,2,2,4,9,1,1,1,1,1,1,1,1,1,1,1,1,1,1,1,1,2,1,6,1,3,1,1,2,10,1,4,1,2,1,1,2,7,4,3,1,4,1,1,1,1,1,3,2,1,1,1,1,3,4,4,5,2,1,1,3,1,1,1,1,7,1,1,1,1,1,1,3,1,1,2,1,1,1,1,3,5,1,1,3,4,8,1,4,4,1,3,1,1,4,1,1,1,1,7,1,1,3,1,2,2,1,9,2,2,2,8,1,1,5,1,1,1,1,2,1,1,2,1,1,1,2,1,3,1,1,4,1,6,1,2,1,1,3,1,1,1,2,1,1,1,3,1,1,1,2,2,1,5,2,4,1,1,4,1,1,1,2,1,3,3,1,1,1,1,5,3,1,1,1,6,1,1,1,1,2,1,3,2,1,1,5,10,1,1,1,3,1,1,1,1,1,2,1,1,1,2,1,1,1,1,1,1,4,1,1,1,2,6,1,1,1,1,1,1,1,1,1,1,1,1,3,1,1,1,1,2,1,2,1,2,2,2,2,4,6,2,4,1,4,1,1,1,5,1,1,1,4,4,5,15,3,1,2,1,1,3,1,1,1,2,1,4,5,1,3,1,2,1,1,1,1,1,1,6,1,1,3,1,6,3,1,5,1,1,2,1,1,3,1,2,2,1,2,2,1,1,1,1,1,1,4,3,1,1,1,1,7,5,1,1,1,1,2,1,4,1,1,2,1,1,1,3,1,1,5,1,1,1,1,1,1,1,2,1,2,3,1,1,1,2,1,2,2,6,1,3,3,6,2,1,3,2,1,1,1,1,2,1,3,1,2,1,1,1,2,2,2,4,1,1,1,1,1,1,1,1,1,1,1,1,1,2,1,2,3,1,2,1,4,1,3,1,2,1,1,1,2,1,1,1,1,1,1,1,1,1,1,1,1,1,1,1,1,2,1,1,2,4,2,2,1,1,1,1,8,1,3,1,1,5,1,1,1,2,1,2,1,1,1,1,1,1,1,2,1,8,1,2,1,1,1,1,1,4,1,2,1,1,1,1,1,1,1,4,1,1,2,1,1,1,3,1,1,1,1,1,1,1,1,2,1,1,1,1,1,1,3,1,1,2,2,1,1,1,1,2,2,2,6,1,1,1,2,1,1,1,2,1,1,1,2,3,1,5,1,2,1,1,1,1,2,1,1,1,4,2,1,2,2,1,1,1,1,1,2,1,1,1,2,1,1,1,3,8,1,1,1,1,1,1,1,1,2,1,2,1,1,1,1,3,2,1,1,1,2,1,3,1,1,2,1,2,2,3,1,1,3,1,1,4,2,2,2,1,2,1,2,3,1,1,2,1,1,1,1,1,1,1,1,6,1,1,1,1,1,1,1,1,1,1,2,1,1,2,2,2,1,1,1,1,1,2,2,1,1,1,1,1,2,5,1,2,3,1,1,1,1,1,1,1,1,1,1,1,5,1,3,1,2,3,1,1,1,1,2,1,1,1,1,1,1,1,1,1,1,1,1,3,9,1,1,1,1,1,3,2,3,2,1,1,1,1,1,1,2,1,1,1,2,1,1,2,1,3,5,1,1,1,1,5,1,1,1,1,1,1,1,2,1,1,2,1,2,1,3,1,6,3,1,1,3,1,1,1,1,1,2,3,1,1,1,1,3,1,2,3,1,2,1,1,1,1,2,1,1,1,2,3,1,2,2,3,1,2,1,2,2,2,1,3,2,2,2,1,1,1,1,1,1,2,2,5,1,2,3,1,1,1,3,1,1,5,3,1,1,1,2,2,1,1,1,1,2,1,2,2,1,1,2,1,1,1,1,1,3,1,2,1,1,1,1,1,1,1,1,1,1,1,1,1,1,1,1,1,2,1,1,2,1,1,1,1,1,1,1,3,5,1,1,1,1,1,1,1,2,4,1,7,1,1,1,3,2,1,1,1,3,8,1,1,1,1,1,1,1,1,3,1,1,3,2,1,1,1,1,1,2,1,1,1,1,1,1,1,2,1,1,1,1,1,1,3,1,1,1,1,1,2,1,1,2,1,1,3,1,6,2,2,1,1,1,1,3,2,1,2,3,1,1,1,1,1,1,1,2,1,1,1,1,1,5,1,4,1,1,1,1,2,1,3,1,1,1,1,2,4,2,4,1,1,1,3,13,2,1,1,1,1,1,1,1,1,1,1,5,1,1,1,2,1,1,1,1,1,2,1,1,1,2,1,1,1,1,1,3,8,1,1,2,1,2,1,1,1,1,1,2,1,1,3,1,2,2,1,1,1,1,1,1,2,1,1,1,1,1,1,1,2,1,1,1,7,1,2,3,1,2,1,1,2,1,3,1,1,1,2,3,4,1,2,5,1,2,1,1,1,1,1,1,4,1,1,1,1,1,1,1,1,4,1,1,1,1,1,2,3,1,1,1,1,1,1,1,2,1,2,1,1,1,1,1,1,2,1,1,1,2,2,1,3,1,1,1,1,2,3,3,1,1,1,1,1,1,1,1,1,5,1,1,1,3,1,1,1,2,2,6,3,1,1,1,1,4,1,2,1,2,1,2,2,2,1,2,15,1,1,1,1,1,1,2,1,1,1,1,4,2,1,4,5,1,1,3,1,1,4,1,3,1,1,1,2,1,1,1,1,2,1,1,1,1,1,1,2,1,1,3,7,1,1,2,1,12,1,1,1,2,1,1,1,1,1,1,1,1,1,1,1,1,2,1,1,2,6,1,1,1,1,8,1,6,1,2,1,1,1,2,1,5,1,1,5,3,1,1,1,1,1,1,1,1,1,2,1,1,4,1,5,1,1,1,1,4,4,3,1,1,1,1,1,6,3,1,1,1,1,2,2,2,6,1,1,1,1,1,1,1,1,1,3,2,1,1,1,1,6,1,2,1,1,1,2,4,7,1,1,1,1,1,1,2,1,4,3,2,7,1,1,1,4,1,8,1,1,1,1,1,1,3,5,1,1,1,1,1,1,1,1,1,1,1,1,1,1,5,2,1,1,1,4,4,1,1,1,1,1,1,1,1,3,1,1,1,1,1,1,2,1,1,1,12,1,2,5,2,2,2,1,1,1,1,1,1,1,1,2,1,1,3,1,1,3,1,1,1,3,1,1,1,2,1,1,1,4,1,2,1,1,2,2,1,1,1,3,1,1,1,1,1,1,1,1,3,1,1,1,1,1,1,7,1,2,1,2,1,1,1,1,1,1,1,2,1,5,1,1,1,1,1,1,3,2,1,1,1,1,1,1,1,1,2,1,1,1,1,1,1,1,1,1,1,2,1,1,1,1,1,1,1,1,1,1,4,1,1,1,1,9,1,1,2,1,3,1,1,1,2,3,2,2,1,1,1,1,1,2,2,1,1,1,2,3,1,1,1,1,1,3,1,1,2,10,1,3,5,3,4,5,1,1,1,1,1,1,1,1,1,1,2,1,2,1,1,1,2,1,1,5,1,3,1,1,1,1,1,1,5,2,1,1,3,1,1,1,1,5,1,1,1,1,1,4,2,1,1,4,1,1,1,1,2,3,3,1,1,1,1,1,1,1,2,1,3,1,2,1,1,1,1,2,1,1,1,1,1,1,1,1,1,1,1,2,1,11,2,1,2,1,1,1,1,1,1,1,9,7,8,1,1,1,1,1,5,1,1,1,1,1,10,1,1,2,1,1,2,3,1,1,8,1,1,1,1,1,1,1,1,1,1,1,3,1,1,1,1,2,1,1,1,1,1,1,1,1,2,1,1,1,1,6,1,2,2,3,1,1,1,1,1,1,1,11,4,10,1,1,2,1,1,1,1,1,1,1,1,1,1,2,2,1,6,2,3,2,1,2,2,3,1,2,1,1,1,4,1,5,2,1,5,2,1,3,5,3,1,1,1,3,1,1,1,1,1,2,2,1,2,1,1,1,1,1,1,1,2,2,1,1,1,1,2,2,1,1,1,1,1,2,1,1,1,1,1,1,1,1,1,2,1,1,1,2,1,1,1,3,1,1,1,1,1,3,1,1,1,3,1,1,3,1,1,1,2,1,4,1,1,2,1,1,1,5,1,1,1,1,1,7,1,1,1,1,1,1,1,1,4,1,2,1,1,1,1,1,1,1,1,1,2,1,1,1,1,1,1,2,1,1,2,3,2,1,1,1,1,1,1,1,1,1,3,3,2,1,1,1,1,1,1,1,7,1,1,1,2,1,1,1,1,1,1,3,1,1,1,2,7,1,1,5,3,5,1,1,1,8,1,1,1,1,1,1,1,1,1,1,1,1,1,1,1,1,1,1,1,1,1,1,1,1,2,3,1,1,1,1,1,1,1,1,1,4,13,2,6,1,1,4,5,1,1,3,8,1,3,1,1,1,1,7,1,1,1,1,1,4,1,2,1,3,3,1,1,1,1,4,2,1,1,1,1,1,1,1,1,1,1,3,1,1,1,1,2,1,1,1,1,8,1,2,2,8,2,1,1,1,1,1,1,1,1,1,1,2,1,2,1,1,1,1,1,5,2,1,1,4,1,1,1,3,1,3,2,1,1,1,1,6,1,1,1,1,1,5,2,3,1,1,1,1,1,9,1,1,1,1,1,1,3,2,1,1,1,4,4,1,1,1,1,7,1,1,1,1,1,1,1,1,3,2,1,3,1,1,2,2,4,2,2,3,2,1,8,2,1,1,5,1,1,1,1,1,3,1,1,1,1,1,2,2,3,1,2],\"xaxis\":\"x\",\"xbins\":{\"end\":17.0,\"size\":1.0,\"start\":1.0},\"yaxis\":\"y\",\"type\":\"histogram\"},{\"legendgroup\":\"distplot\",\"marker\":{\"color\":\"rgb(31, 119, 180)\"},\"mode\":\"lines\",\"name\":\"distplot\",\"showlegend\":false,\"x\":[1.0,1.032,1.064,1.096,1.1280000000000001,1.16,1.192,1.224,1.256,1.288,1.32,1.3519999999999999,1.384,1.416,1.448,1.48,1.512,1.544,1.576,1.608,1.6400000000000001,1.6720000000000002,1.704,1.736,1.768,1.8,1.8319999999999999,1.8639999999999999,1.896,1.928,1.96,1.992,2.024,2.056,2.088,2.12,2.152,2.184,2.216,2.248,2.2800000000000002,2.3120000000000003,2.3440000000000003,2.376,2.408,2.44,2.472,2.504,2.536,2.568,2.6,2.6319999999999997,2.6639999999999997,2.6959999999999997,2.7279999999999998,2.76,2.792,2.824,2.856,2.888,2.92,2.952,2.984,3.016,3.048,3.08,3.112,3.144,3.176,3.208,3.24,3.272,3.304,3.336,3.368,3.4,3.432,3.464,3.496,3.528,3.56,3.592,3.624,3.656,3.688,3.72,3.752,3.784,3.816,3.848,3.88,3.912,3.944,3.976,4.008,4.04,4.072,4.104,4.136,4.168,4.2,4.232,4.263999999999999,4.295999999999999,4.327999999999999,4.359999999999999,4.3919999999999995,4.4239999999999995,4.4559999999999995,4.4879999999999995,4.52,4.552,4.584,4.616,4.648,4.68,4.712,4.744,4.776,4.808,4.84,4.872,4.904,4.936,4.968,5.0,5.032,5.064,5.096,5.128,5.16,5.192,5.224,5.256,5.288,5.32,5.352,5.384,5.416,5.448,5.48,5.512,5.544,5.576,5.608,5.64,5.672,5.704,5.736,5.768,5.8,5.832,5.864,5.896,5.928,5.96,5.992,6.024,6.056,6.088,6.12,6.152,6.184,6.216,6.248,6.28,6.312,6.344,6.376,6.408,6.44,6.472,6.504,6.536,6.568,6.6,6.632,6.664,6.696,6.728,6.76,6.792,6.824,6.856,6.888,6.92,6.952,6.984,7.016,7.048,7.08,7.112,7.144,7.176,7.208,7.24,7.272,7.304,7.336,7.368,7.4,7.432,7.464,7.496,7.528,7.56,7.592,7.624,7.656,7.688,7.72,7.752,7.784,7.816,7.848,7.88,7.912,7.944,7.976,8.008,8.04,8.072,8.104,8.136,8.168,8.2,8.232,8.264,8.296,8.328,8.36,8.392,8.424,8.456,8.488,8.52,8.552,8.584,8.616,8.648,8.68,8.712,8.744,8.776,8.808,8.84,8.872,8.904,8.936,8.968,9.0,9.032,9.064,9.096,9.128,9.16,9.192,9.224,9.256,9.288,9.32,9.352,9.384,9.416,9.448,9.48,9.512,9.544,9.576,9.608,9.64,9.672,9.704,9.736,9.768,9.8,9.832,9.864,9.896,9.928,9.96,9.992,10.024,10.056,10.088,10.12,10.152,10.184,10.216,10.248,10.28,10.312,10.344,10.376,10.408,10.44,10.472,10.504,10.536,10.568,10.6,10.632,10.664,10.696,10.728,10.76,10.792,10.824,10.856,10.888,10.92,10.952,10.984,11.016,11.048,11.08,11.112,11.144,11.176,11.208,11.24,11.272,11.304,11.336,11.368,11.4,11.432,11.464,11.496,11.528,11.56,11.592,11.624,11.656,11.688,11.72,11.752,11.784,11.816,11.848,11.88,11.912,11.944,11.976,12.008,12.04,12.072,12.104,12.136,12.168,12.2,12.232,12.264,12.296,12.328,12.36,12.392,12.424,12.456,12.488,12.52,12.552,12.584,12.616,12.648,12.68,12.712,12.744,12.776,12.808,12.84,12.872,12.904,12.936,12.968,13.0,13.032,13.064,13.096,13.128,13.16,13.192,13.224,13.256,13.288,13.32,13.352,13.384,13.416,13.448,13.48,13.512,13.544,13.576,13.608,13.64,13.672,13.704,13.736,13.768,13.8,13.832,13.864,13.896,13.928,13.96,13.992,14.024,14.056,14.088,14.12,14.152,14.184,14.216,14.248,14.28,14.312,14.344,14.376,14.408,14.44,14.472,14.504,14.536,14.568,14.6,14.632,14.664,14.696,14.728,14.76,14.792,14.824,14.856,14.888,14.92,14.952,14.984,15.016,15.048,15.08,15.112,15.144,15.176,15.208,15.24,15.272,15.304,15.336,15.368,15.4,15.432,15.464,15.496,15.528,15.56,15.592,15.624,15.656,15.688,15.72,15.752,15.784,15.816,15.848,15.88,15.912,15.944,15.976,16.008,16.04,16.072,16.104,16.136,16.168,16.2,16.232,16.264,16.296,16.328,16.36,16.392,16.424,16.456,16.488,16.52,16.552,16.584,16.616,16.648,16.68,16.712,16.744,16.776,16.808,16.84,16.872,16.904,16.936,16.968],\"xaxis\":\"x\",\"y\":[0.8204150902787952,0.8171059811254087,0.8062453834538552,0.788206844817345,0.7635738015914966,0.7331144358459066,0.6977484785631896,0.6585079645763189,0.6164942417484441,0.572833655189663,0.5286342679337985,0.4849457600958604,0.44272430009948455,0.40280374419891257,0.3658740383969823,0.3324672131774512,0.3029509139994515,0.2775290282546122,0.2562486707227893,0.23901258179188792,0.22559587315644863,0.21566601381739667,0.20880496935975293,0.20453247200607777,0.202329490853993,0.2016610768785186,0.20199786573382106,0.20283562770690916,0.20371235703327395,0.20422249387596245,0.20402797481991317,0.20286591496729858,0.20055283851123612,0.19698549463425227,0.1921384187240758,0.18605851980842225,0.17885708667399747,0.17069969958595,0.1617946046477636,0.15238014808747583,0.1427118751187295,0.13304987251553413,0.12364687872201331,0.11473760588604419,0.1065296222217733,0.09919603900166514,0.09287014250579663,0.08764201452880332,0.083557100829519,0.0806166182291841,0.07877963867925324,0.07796665132842175,0.07806437882780375,0.07893160855586577,0.08040578991550856,0.08231014284563555,0.08446101882078035,0.08667525381290916,0.08877725409581272,0.09060556238668366,0.09201866600329177,0.09289983259927592,0.09316079397294286,0.0927441445584402,0.09162437718861895,0.0898075418112024,0.08732957908728968,0.08425344548658759,0.0806652047023824,0.07666930743775831,0.07238331432569274,0.06793233278900664,0.06344343749118292,0.05904032677341972,0.05483843664405189,0.05094069306060439,0.04743403656037622,0.04438680492532753,0.04184701323042717,0.039841529207806724,0.038376107189112614,0.03743621667964485,0.03698858158562959,0.03698333222555083,0.03735666305434961,0.03803388299895064,0.03893274118534443,0.03996690786171179,0.04104948832397849,0.042096447054350936,0.04302982096764183,0.04378060573066896,0.04429120863805696,0.04451737624104196,0.04442952504825186,0.04401342869735391,0.043270243894564485,0.042215888399142115,0.04087981524893338,0.03930325598797365,0.037537029710712745,0.03563903252611771,0.03367153242983802,0.03169839715306686,0.029782377689397423,0.027982558915959032,0.0263520725552053,0.02493614847486975,0.02377055982573885,0.022880497390764237,0.022279889995841025,0.02197117164929699,0.02194548245915252,0.022183279106184558,0.022655321200046805,0.023323991557530892,0.024144900714449857,0.025068718432230692,0.026043167534562577,0.02701510842915418,0.027932636795235128,0.028747113045697027,0.029415041281244964,0.029899718419778832,0.03017258160741138,0.0302141940782388,0.030014826004386284,0.02957460672650904,0.028903246787840595,0.028019350803815412,0.02694936363876325,0.02572621095164961,0.024387709496696837,0.02297483162701427,0.021529911781659437,0.02009488043013808,0.018709603615151383,0.017410394903412056,0.01622875252143959,0.015190359107671853,0.014314366165607524,0.01361297104460425,0.013091281873454931,0.012747455730200481,0.012573087502239427,0.012553821139949836,0.012670150915311543,0.012898377376747287,0.013211680500626953,0.01358127077414716,0.013977577492633548,0.014371432511800512,0.014735207333127708,0.015043862099131345,0.015275867237027233,0.015413962442254613,0.015445723606853106,0.015363916122250427,0.015166622428457604,0.01485714221972603,0.014443674650725834,0.013938802420845702,0.013358806951103157,0.012722851310724972,0.012052072584212255,0.01136862772191225,0.010694736581240618,0.010051763088931989,0.009459370691951022,0.008934782106911334,0.008492166466731114,0.00814216990558952,0.007891598917879517,0.007743259814580372,0.007695952443181208,0.007744612027772716,0.007880589384777719,0.00809205666168375,0.008364522904928447,0.008681441014078712,0.009024884908206195,0.009376273069719995,0.009717112221893831,0.01002973302297445,0.01029798866237204,0.010507887459016303,0.010648132256211508,0.010710542723848486,0.010690341595179363,0.010586292177740044,0.010400681811777506,0.010139153795340092,0.00981039806550859,0.009425718023111996,0.008998496777892152,0.008543590360099582,0.008076677848909537,0.007613598853611092,0.007169707481325615,0.0067592691225352355,0.006394922478734945,0.006087224689742606,0.005844292623795185,0.005671548737195662,0.005571575652123318,0.005544079877199025,0.005585961920250277,0.005691487333178307,0.005852550841783164,0.006059023491935167,0.0062991705624333965,0.006560125798037279,0.006828405338610557,0.007090442692378297,0.0073331244330853695,0.0075443052502564955,0.00771328081106029,0.007831197820495189,0.00789138282556744,0.007889574710487733,0.007824050348782864,0.007695638256337182,0.007507620957794424,0.007265532696944433,0.006976864627566513,0.006650694284570244,0.006297259607578121,0.0059274998418477175,0.0055525861885916605,0.005183464178199847,0.004830427586152473,0.004502740592731078,0.004208321152094535,0.003953494543924221,0.003742822160123404,0.003579006991882161,0.003462874202019619,0.003393422671436637,0.0033679414864714115,0.0033821839080842198,0.0034305903170500363,0.0035065508367837918,0.003602697693114663,0.003711216817053679,0.0038241677252864132,0.003933800370514208,0.004032857529001705,0.004114851497210704,0.004174304511991112,0.004206943470210862,0.004209841235325749,0.004181499048611825,0.004121867213402572,0.004032304133968584,0.003915476766076974,0.003775208353996235,0.0036162817767187716,0.003444208726195024,0.003264976169189838,0.0030847820471522134,0.002909771962409176,0.0027457877668913672,0.0025981376449406004,0.002471395627542216,0.0023692366603769695,0.0022943115244051008,0.002248164192396314,0.002231192669159714,0.002242653030070618,0.0022807052221784662,0.0023424981753729316,0.0024242908260909213,0.002521604727447745,0.002629402974971029,0.0027422892184583744,0.002854719599460512,0.002961219628499845,0.003056597400318648,0.0031361442529409173,0.0031958141113130746,0.0032323733940750527,0.003243514532859756,0.0032279278322730146,0.003185328502080338,0.0031164380852139336,0.0030229220106066236,0.0029072874225846484,0.002772747584163107,0.0026230608493312295,0.0024623533213957403,0.002294934789241264,0.002125117352346748,0.001957045361210888,0.0017945440174991268,0.0016409923403845196,0.0014992243742384503,0.0013714606502368066,0.0012592701654503748,0.0011635616214525182,0.0010846014449263277,0.0010220552279342665,0.0009750486695850217,0.0009422438371170062,0.0009219265360841665,0.0009121007211405172,0.0009105861281942903,0.000915115613966806,0.0009234290152989815,0.0009333606710779549,0.0009429180838089026,0.0009503495466191163,0.0009541989411711571,0.0009533463376444609,0.0009470335077287656,0.0009348739927572481,0.0009168479367516023,0.0008932824721876656,0.0008648190008526821,0.0008323692064475885,0.0007970620353130224,0.0007601841601838183,0.0007231165840604059,0.0006872700454785738,0.0006540217643445117,0.0006246558418570552,0.0006003093288551834,0.00058192563658944,0.0005702166122637316,0.0005656342618268326,0.0005683527879785412,0.0005782613253045909,0.0005949674905695836,0.0006178116115744573,0.0006458912371513475,0.0006780952503254113,0.00071314659913003,0.0007496523270925187,0.000786159240932956,0.0008212132198002584,0.0008534198795204007,0.000881504091694887,0.000904365754501353,0.0009211292464089675,0.0009311841810059969,0.0009342154213614019,0.0009302207905206258,0.0009195155006949526,0.0009027229755567306,0.0008807524090848482,0.0008547640409548228,0.0008261236879161747,0.0007963485185547783,0.000767046374730884,0.0007398511215356463,0.0007163565579710139,0.000698051363299922,0.0006862574164911669,0.0006820736370711752,0.0006863272796254839,0.0006995343874186704,0.0007218708784448977,0.0007531554937783207,0.0007928455682897104,0.0008400462674932274,0.0008935335517686548,0.000951790667125038,0.0010130574184258694,0.001075390870506243,0.0011367354757584858,0.0011949999900149632,0.0012481379698075445,0.0012942282061255148,0.0013315512022801469,0.001358657794495787,0.0013744262722970068,0.0013781048857981473,0.0013693374053192632,0.001348170375312742,0.001315041806781799,0.0012707521921725003,0.0012164198098893863,0.0011534232218039999,0.001083334579706343,0.0010078477905882271,0.00092870571804788,0.0008476304193453621,0.0007662599641391798,0.0006860947048241043,0.0006084550397591257,0.0005344518083849108,0.00046496956036057074,0.0004006621208197781,0.0003419591880896378,0.00028908218798611677,0.00024206728937434252,0.00020079335888607906,0.0001650126813985535,0.00013438246695883727,0.00010849546584381847,0.00008690837948331553,0.00006916714512796878,0.0000548285500739595,0.00004347796772101109,0.00003474328198119433,0.000028305266639331343,0.000023904808563163567,0.000021347411732949734,0.000020505402196334137,0.000021318185709291,0.00002379080611105739,0.00002799093082949162,0.00003404426791644121,0.00004212831344012368,0.000052464253978218716,0.00006530681888242423,0.00008093190005860442,0.00009962183813074574,0.00012164841290312286,0.00014725376718696583,0.00017662972444834678,0.00020989621453430365,0.0002470797748449215,0.00028809331976056016,0.00033271854015295857,0.0003805923796128828,0.0004311990109274889,0.00048386858899668274,0.0005377837787288537,0.0005919946549119669,0.0006454420655387328,0.000696988973592544,0.00074545868896639,0.0007896783235800232,0.0008285253031195973,0.0008609743993962953,0.0008861425505777752,0.0009033287409750054,0.0009120464282355101,0.0009120464242714386,0.0009033287277387576,0.0008861425236395835,0.0008609743499482522,0.0008285252154704119,0.0007896781708377752,0.0007454584259155337,0.0006969885251972651,0.0006454413086630353,0.0005919933896196053,0.0005377816837567801,0.00048386515347966603,0.0004311934309283139,0.0003805834031585031,0.0003327042379039809,0.00028807074970138737,0.0002470444979840355,0.00020984160404816942,0.00017654599253228448,0.0001471266117620491,0.00012145716017661485,0.00009933692710595498,0.00008051152227813105,0.0000646924925520348,0.00005157507868552345,0.00004085362360068941,0.000032234384737362544,0.00002544571012419283,0.000020245700007026174,0.000016427588241571837,0.000013823140280339024,0.000012304381750562837,0.000011783950736934017,0.000012214317401769598,0.000013586047013994938,0.000015925207571118287,0.0000192899512998637,0.000023766239742634242,0.000029462642774412553,0.000036504128807504384,0.00004502478047628078,0.000055159418530958187,0.00006703419491868975,0.00008075631943266246,0.00009640320511422536,0.00011401144518657375,0.00013356615575437115,0.0001549913194768929,0.00017814183137794128,0.00020279796565788287,0.00022866294150055883,0.00025536416057880704,0.0002824585191944376,0.0003094419702819365,0.0003357632381670842,0.00036084129146375497,0.0003840858810160206,0.0004049201771558145,0.0004228043205016337,0.0004372585568680278,0.00044788457763481363,0.00045438374210734903],\"yaxis\":\"y\",\"type\":\"scatter\"},{\"legendgroup\":\"distplot\",\"marker\":{\"color\":\"rgb(31, 119, 180)\",\"symbol\":\"line-ns-open\"},\"mode\":\"markers\",\"name\":\"distplot\",\"showlegend\":false,\"x\":[2,1,1,2,1,9,1,1,1,4,2,1,1,5,2,1,3,1,1,1,3,1,1,2,1,6,6,1,9,1,1,5,2,1,6,1,1,2,4,2,3,2,1,1,2,1,2,5,1,5,1,1,1,1,1,3,1,1,1,1,2,3,4,1,1,1,1,1,2,1,1,1,1,2,3,1,1,4,1,1,1,1,1,3,1,3,1,1,1,1,5,1,2,1,1,2,1,5,1,7,1,2,1,1,2,1,1,1,1,1,1,3,1,2,1,1,1,1,1,1,1,7,3,1,5,6,3,1,3,1,1,2,1,1,7,1,3,3,4,1,10,4,1,1,1,2,2,5,1,1,1,1,3,1,1,2,1,2,1,1,1,4,2,1,1,3,1,1,1,2,2,1,3,2,2,4,3,5,2,2,2,2,2,5,3,3,2,8,7,2,2,3,3,2,3,6,2,2,4,2,5,3,1,1,17,1,2,1,1,1,1,1,3,1,1,1,1,1,1,4,5,1,1,1,1,2,1,2,1,2,1,1,4,4,1,1,2,2,1,6,3,5,1,2,1,4,6,1,1,1,1,1,4,2,1,1,2,1,1,1,3,1,1,3,1,1,1,1,1,2,1,1,1,2,2,2,1,1,1,2,2,1,2,1,1,1,1,2,1,2,3,6,3,1,1,1,3,2,3,2,1,1,1,2,1,3,1,3,3,2,2,1,2,1,1,1,3,2,1,1,4,1,1,1,1,1,2,1,1,2,3,2,2,2,1,1,1,2,1,1,1,1,1,1,1,1,2,2,3,1,1,1,1,1,7,1,1,1,3,1,2,1,1,1,6,1,1,1,1,1,3,1,1,1,1,4,1,1,1,2,1,1,1,2,2,2,2,1,1,2,1,1,4,1,1,1,1,6,1,4,2,1,3,2,1,1,1,1,1,2,3,1,1,1,1,1,1,1,1,1,4,1,1,5,1,1,1,3,1,1,1,1,2,1,1,1,1,1,1,1,1,1,4,3,4,1,1,2,1,1,1,1,1,2,3,2,1,1,1,2,2,13,1,1,1,1,7,2,2,1,1,2,4,1,2,3,1,1,1,4,1,4,3,3,5,1,4,5,1,1,2,1,1,3,1,1,3,2,1,1,2,1,1,2,4,1,1,1,1,9,1,1,1,2,1,1,1,2,1,1,2,1,2,1,1,1,1,1,1,1,1,2,2,2,2,2,2,1,1,2,1,1,1,4,1,2,3,1,1,3,1,1,1,1,1,4,1,3,1,2,2,1,2,4,1,10,1,1,1,1,1,1,7,1,2,2,1,1,1,3,1,1,1,1,4,1,2,1,2,2,4,9,1,1,1,1,1,1,1,1,1,1,1,1,1,1,1,1,2,1,6,1,3,1,1,2,10,1,4,1,2,1,1,2,7,4,3,1,4,1,1,1,1,1,3,2,1,1,1,1,3,4,4,5,2,1,1,3,1,1,1,1,7,1,1,1,1,1,1,3,1,1,2,1,1,1,1,3,5,1,1,3,4,8,1,4,4,1,3,1,1,4,1,1,1,1,7,1,1,3,1,2,2,1,9,2,2,2,8,1,1,5,1,1,1,1,2,1,1,2,1,1,1,2,1,3,1,1,4,1,6,1,2,1,1,3,1,1,1,2,1,1,1,3,1,1,1,2,2,1,5,2,4,1,1,4,1,1,1,2,1,3,3,1,1,1,1,5,3,1,1,1,6,1,1,1,1,2,1,3,2,1,1,5,10,1,1,1,3,1,1,1,1,1,2,1,1,1,2,1,1,1,1,1,1,4,1,1,1,2,6,1,1,1,1,1,1,1,1,1,1,1,1,3,1,1,1,1,2,1,2,1,2,2,2,2,4,6,2,4,1,4,1,1,1,5,1,1,1,4,4,5,15,3,1,2,1,1,3,1,1,1,2,1,4,5,1,3,1,2,1,1,1,1,1,1,6,1,1,3,1,6,3,1,5,1,1,2,1,1,3,1,2,2,1,2,2,1,1,1,1,1,1,4,3,1,1,1,1,7,5,1,1,1,1,2,1,4,1,1,2,1,1,1,3,1,1,5,1,1,1,1,1,1,1,2,1,2,3,1,1,1,2,1,2,2,6,1,3,3,6,2,1,3,2,1,1,1,1,2,1,3,1,2,1,1,1,2,2,2,4,1,1,1,1,1,1,1,1,1,1,1,1,1,2,1,2,3,1,2,1,4,1,3,1,2,1,1,1,2,1,1,1,1,1,1,1,1,1,1,1,1,1,1,1,1,2,1,1,2,4,2,2,1,1,1,1,8,1,3,1,1,5,1,1,1,2,1,2,1,1,1,1,1,1,1,2,1,8,1,2,1,1,1,1,1,4,1,2,1,1,1,1,1,1,1,4,1,1,2,1,1,1,3,1,1,1,1,1,1,1,1,2,1,1,1,1,1,1,3,1,1,2,2,1,1,1,1,2,2,2,6,1,1,1,2,1,1,1,2,1,1,1,2,3,1,5,1,2,1,1,1,1,2,1,1,1,4,2,1,2,2,1,1,1,1,1,2,1,1,1,2,1,1,1,3,8,1,1,1,1,1,1,1,1,2,1,2,1,1,1,1,3,2,1,1,1,2,1,3,1,1,2,1,2,2,3,1,1,3,1,1,4,2,2,2,1,2,1,2,3,1,1,2,1,1,1,1,1,1,1,1,6,1,1,1,1,1,1,1,1,1,1,2,1,1,2,2,2,1,1,1,1,1,2,2,1,1,1,1,1,2,5,1,2,3,1,1,1,1,1,1,1,1,1,1,1,5,1,3,1,2,3,1,1,1,1,2,1,1,1,1,1,1,1,1,1,1,1,1,3,9,1,1,1,1,1,3,2,3,2,1,1,1,1,1,1,2,1,1,1,2,1,1,2,1,3,5,1,1,1,1,5,1,1,1,1,1,1,1,2,1,1,2,1,2,1,3,1,6,3,1,1,3,1,1,1,1,1,2,3,1,1,1,1,3,1,2,3,1,2,1,1,1,1,2,1,1,1,2,3,1,2,2,3,1,2,1,2,2,2,1,3,2,2,2,1,1,1,1,1,1,2,2,5,1,2,3,1,1,1,3,1,1,5,3,1,1,1,2,2,1,1,1,1,2,1,2,2,1,1,2,1,1,1,1,1,3,1,2,1,1,1,1,1,1,1,1,1,1,1,1,1,1,1,1,1,2,1,1,2,1,1,1,1,1,1,1,3,5,1,1,1,1,1,1,1,2,4,1,7,1,1,1,3,2,1,1,1,3,8,1,1,1,1,1,1,1,1,3,1,1,3,2,1,1,1,1,1,2,1,1,1,1,1,1,1,2,1,1,1,1,1,1,3,1,1,1,1,1,2,1,1,2,1,1,3,1,6,2,2,1,1,1,1,3,2,1,2,3,1,1,1,1,1,1,1,2,1,1,1,1,1,5,1,4,1,1,1,1,2,1,3,1,1,1,1,2,4,2,4,1,1,1,3,13,2,1,1,1,1,1,1,1,1,1,1,5,1,1,1,2,1,1,1,1,1,2,1,1,1,2,1,1,1,1,1,3,8,1,1,2,1,2,1,1,1,1,1,2,1,1,3,1,2,2,1,1,1,1,1,1,2,1,1,1,1,1,1,1,2,1,1,1,7,1,2,3,1,2,1,1,2,1,3,1,1,1,2,3,4,1,2,5,1,2,1,1,1,1,1,1,4,1,1,1,1,1,1,1,1,4,1,1,1,1,1,2,3,1,1,1,1,1,1,1,2,1,2,1,1,1,1,1,1,2,1,1,1,2,2,1,3,1,1,1,1,2,3,3,1,1,1,1,1,1,1,1,1,5,1,1,1,3,1,1,1,2,2,6,3,1,1,1,1,4,1,2,1,2,1,2,2,2,1,2,15,1,1,1,1,1,1,2,1,1,1,1,4,2,1,4,5,1,1,3,1,1,4,1,3,1,1,1,2,1,1,1,1,2,1,1,1,1,1,1,2,1,1,3,7,1,1,2,1,12,1,1,1,2,1,1,1,1,1,1,1,1,1,1,1,1,2,1,1,2,6,1,1,1,1,8,1,6,1,2,1,1,1,2,1,5,1,1,5,3,1,1,1,1,1,1,1,1,1,2,1,1,4,1,5,1,1,1,1,4,4,3,1,1,1,1,1,6,3,1,1,1,1,2,2,2,6,1,1,1,1,1,1,1,1,1,3,2,1,1,1,1,6,1,2,1,1,1,2,4,7,1,1,1,1,1,1,2,1,4,3,2,7,1,1,1,4,1,8,1,1,1,1,1,1,3,5,1,1,1,1,1,1,1,1,1,1,1,1,1,1,5,2,1,1,1,4,4,1,1,1,1,1,1,1,1,3,1,1,1,1,1,1,2,1,1,1,12,1,2,5,2,2,2,1,1,1,1,1,1,1,1,2,1,1,3,1,1,3,1,1,1,3,1,1,1,2,1,1,1,4,1,2,1,1,2,2,1,1,1,3,1,1,1,1,1,1,1,1,3,1,1,1,1,1,1,7,1,2,1,2,1,1,1,1,1,1,1,2,1,5,1,1,1,1,1,1,3,2,1,1,1,1,1,1,1,1,2,1,1,1,1,1,1,1,1,1,1,2,1,1,1,1,1,1,1,1,1,1,4,1,1,1,1,9,1,1,2,1,3,1,1,1,2,3,2,2,1,1,1,1,1,2,2,1,1,1,2,3,1,1,1,1,1,3,1,1,2,10,1,3,5,3,4,5,1,1,1,1,1,1,1,1,1,1,2,1,2,1,1,1,2,1,1,5,1,3,1,1,1,1,1,1,5,2,1,1,3,1,1,1,1,5,1,1,1,1,1,4,2,1,1,4,1,1,1,1,2,3,3,1,1,1,1,1,1,1,2,1,3,1,2,1,1,1,1,2,1,1,1,1,1,1,1,1,1,1,1,2,1,11,2,1,2,1,1,1,1,1,1,1,9,7,8,1,1,1,1,1,5,1,1,1,1,1,10,1,1,2,1,1,2,3,1,1,8,1,1,1,1,1,1,1,1,1,1,1,3,1,1,1,1,2,1,1,1,1,1,1,1,1,2,1,1,1,1,6,1,2,2,3,1,1,1,1,1,1,1,11,4,10,1,1,2,1,1,1,1,1,1,1,1,1,1,2,2,1,6,2,3,2,1,2,2,3,1,2,1,1,1,4,1,5,2,1,5,2,1,3,5,3,1,1,1,3,1,1,1,1,1,2,2,1,2,1,1,1,1,1,1,1,2,2,1,1,1,1,2,2,1,1,1,1,1,2,1,1,1,1,1,1,1,1,1,2,1,1,1,2,1,1,1,3,1,1,1,1,1,3,1,1,1,3,1,1,3,1,1,1,2,1,4,1,1,2,1,1,1,5,1,1,1,1,1,7,1,1,1,1,1,1,1,1,4,1,2,1,1,1,1,1,1,1,1,1,2,1,1,1,1,1,1,2,1,1,2,3,2,1,1,1,1,1,1,1,1,1,3,3,2,1,1,1,1,1,1,1,7,1,1,1,2,1,1,1,1,1,1,3,1,1,1,2,7,1,1,5,3,5,1,1,1,8,1,1,1,1,1,1,1,1,1,1,1,1,1,1,1,1,1,1,1,1,1,1,1,1,2,3,1,1,1,1,1,1,1,1,1,4,13,2,6,1,1,4,5,1,1,3,8,1,3,1,1,1,1,7,1,1,1,1,1,4,1,2,1,3,3,1,1,1,1,4,2,1,1,1,1,1,1,1,1,1,1,3,1,1,1,1,2,1,1,1,1,8,1,2,2,8,2,1,1,1,1,1,1,1,1,1,1,2,1,2,1,1,1,1,1,5,2,1,1,4,1,1,1,3,1,3,2,1,1,1,1,6,1,1,1,1,1,5,2,3,1,1,1,1,1,9,1,1,1,1,1,1,3,2,1,1,1,4,4,1,1,1,1,7,1,1,1,1,1,1,1,1,3,2,1,3,1,1,2,2,4,2,2,3,2,1,8,2,1,1,5,1,1,1,1,1,3,1,1,1,1,1,2,2,3,1,2],\"xaxis\":\"x\",\"y\":[\"distplot\",\"distplot\",\"distplot\",\"distplot\",\"distplot\",\"distplot\",\"distplot\",\"distplot\",\"distplot\",\"distplot\",\"distplot\",\"distplot\",\"distplot\",\"distplot\",\"distplot\",\"distplot\",\"distplot\",\"distplot\",\"distplot\",\"distplot\",\"distplot\",\"distplot\",\"distplot\",\"distplot\",\"distplot\",\"distplot\",\"distplot\",\"distplot\",\"distplot\",\"distplot\",\"distplot\",\"distplot\",\"distplot\",\"distplot\",\"distplot\",\"distplot\",\"distplot\",\"distplot\",\"distplot\",\"distplot\",\"distplot\",\"distplot\",\"distplot\",\"distplot\",\"distplot\",\"distplot\",\"distplot\",\"distplot\",\"distplot\",\"distplot\",\"distplot\",\"distplot\",\"distplot\",\"distplot\",\"distplot\",\"distplot\",\"distplot\",\"distplot\",\"distplot\",\"distplot\",\"distplot\",\"distplot\",\"distplot\",\"distplot\",\"distplot\",\"distplot\",\"distplot\",\"distplot\",\"distplot\",\"distplot\",\"distplot\",\"distplot\",\"distplot\",\"distplot\",\"distplot\",\"distplot\",\"distplot\",\"distplot\",\"distplot\",\"distplot\",\"distplot\",\"distplot\",\"distplot\",\"distplot\",\"distplot\",\"distplot\",\"distplot\",\"distplot\",\"distplot\",\"distplot\",\"distplot\",\"distplot\",\"distplot\",\"distplot\",\"distplot\",\"distplot\",\"distplot\",\"distplot\",\"distplot\",\"distplot\",\"distplot\",\"distplot\",\"distplot\",\"distplot\",\"distplot\",\"distplot\",\"distplot\",\"distplot\",\"distplot\",\"distplot\",\"distplot\",\"distplot\",\"distplot\",\"distplot\",\"distplot\",\"distplot\",\"distplot\",\"distplot\",\"distplot\",\"distplot\",\"distplot\",\"distplot\",\"distplot\",\"distplot\",\"distplot\",\"distplot\",\"distplot\",\"distplot\",\"distplot\",\"distplot\",\"distplot\",\"distplot\",\"distplot\",\"distplot\",\"distplot\",\"distplot\",\"distplot\",\"distplot\",\"distplot\",\"distplot\",\"distplot\",\"distplot\",\"distplot\",\"distplot\",\"distplot\",\"distplot\",\"distplot\",\"distplot\",\"distplot\",\"distplot\",\"distplot\",\"distplot\",\"distplot\",\"distplot\",\"distplot\",\"distplot\",\"distplot\",\"distplot\",\"distplot\",\"distplot\",\"distplot\",\"distplot\",\"distplot\",\"distplot\",\"distplot\",\"distplot\",\"distplot\",\"distplot\",\"distplot\",\"distplot\",\"distplot\",\"distplot\",\"distplot\",\"distplot\",\"distplot\",\"distplot\",\"distplot\",\"distplot\",\"distplot\",\"distplot\",\"distplot\",\"distplot\",\"distplot\",\"distplot\",\"distplot\",\"distplot\",\"distplot\",\"distplot\",\"distplot\",\"distplot\",\"distplot\",\"distplot\",\"distplot\",\"distplot\",\"distplot\",\"distplot\",\"distplot\",\"distplot\",\"distplot\",\"distplot\",\"distplot\",\"distplot\",\"distplot\",\"distplot\",\"distplot\",\"distplot\",\"distplot\",\"distplot\",\"distplot\",\"distplot\",\"distplot\",\"distplot\",\"distplot\",\"distplot\",\"distplot\",\"distplot\",\"distplot\",\"distplot\",\"distplot\",\"distplot\",\"distplot\",\"distplot\",\"distplot\",\"distplot\",\"distplot\",\"distplot\",\"distplot\",\"distplot\",\"distplot\",\"distplot\",\"distplot\",\"distplot\",\"distplot\",\"distplot\",\"distplot\",\"distplot\",\"distplot\",\"distplot\",\"distplot\",\"distplot\",\"distplot\",\"distplot\",\"distplot\",\"distplot\",\"distplot\",\"distplot\",\"distplot\",\"distplot\",\"distplot\",\"distplot\",\"distplot\",\"distplot\",\"distplot\",\"distplot\",\"distplot\",\"distplot\",\"distplot\",\"distplot\",\"distplot\",\"distplot\",\"distplot\",\"distplot\",\"distplot\",\"distplot\",\"distplot\",\"distplot\",\"distplot\",\"distplot\",\"distplot\",\"distplot\",\"distplot\",\"distplot\",\"distplot\",\"distplot\",\"distplot\",\"distplot\",\"distplot\",\"distplot\",\"distplot\",\"distplot\",\"distplot\",\"distplot\",\"distplot\",\"distplot\",\"distplot\",\"distplot\",\"distplot\",\"distplot\",\"distplot\",\"distplot\",\"distplot\",\"distplot\",\"distplot\",\"distplot\",\"distplot\",\"distplot\",\"distplot\",\"distplot\",\"distplot\",\"distplot\",\"distplot\",\"distplot\",\"distplot\",\"distplot\",\"distplot\",\"distplot\",\"distplot\",\"distplot\",\"distplot\",\"distplot\",\"distplot\",\"distplot\",\"distplot\",\"distplot\",\"distplot\",\"distplot\",\"distplot\",\"distplot\",\"distplot\",\"distplot\",\"distplot\",\"distplot\",\"distplot\",\"distplot\",\"distplot\",\"distplot\",\"distplot\",\"distplot\",\"distplot\",\"distplot\",\"distplot\",\"distplot\",\"distplot\",\"distplot\",\"distplot\",\"distplot\",\"distplot\",\"distplot\",\"distplot\",\"distplot\",\"distplot\",\"distplot\",\"distplot\",\"distplot\",\"distplot\",\"distplot\",\"distplot\",\"distplot\",\"distplot\",\"distplot\",\"distplot\",\"distplot\",\"distplot\",\"distplot\",\"distplot\",\"distplot\",\"distplot\",\"distplot\",\"distplot\",\"distplot\",\"distplot\",\"distplot\",\"distplot\",\"distplot\",\"distplot\",\"distplot\",\"distplot\",\"distplot\",\"distplot\",\"distplot\",\"distplot\",\"distplot\",\"distplot\",\"distplot\",\"distplot\",\"distplot\",\"distplot\",\"distplot\",\"distplot\",\"distplot\",\"distplot\",\"distplot\",\"distplot\",\"distplot\",\"distplot\",\"distplot\",\"distplot\",\"distplot\",\"distplot\",\"distplot\",\"distplot\",\"distplot\",\"distplot\",\"distplot\",\"distplot\",\"distplot\",\"distplot\",\"distplot\",\"distplot\",\"distplot\",\"distplot\",\"distplot\",\"distplot\",\"distplot\",\"distplot\",\"distplot\",\"distplot\",\"distplot\",\"distplot\",\"distplot\",\"distplot\",\"distplot\",\"distplot\",\"distplot\",\"distplot\",\"distplot\",\"distplot\",\"distplot\",\"distplot\",\"distplot\",\"distplot\",\"distplot\",\"distplot\",\"distplot\",\"distplot\",\"distplot\",\"distplot\",\"distplot\",\"distplot\",\"distplot\",\"distplot\",\"distplot\",\"distplot\",\"distplot\",\"distplot\",\"distplot\",\"distplot\",\"distplot\",\"distplot\",\"distplot\",\"distplot\",\"distplot\",\"distplot\",\"distplot\",\"distplot\",\"distplot\",\"distplot\",\"distplot\",\"distplot\",\"distplot\",\"distplot\",\"distplot\",\"distplot\",\"distplot\",\"distplot\",\"distplot\",\"distplot\",\"distplot\",\"distplot\",\"distplot\",\"distplot\",\"distplot\",\"distplot\",\"distplot\",\"distplot\",\"distplot\",\"distplot\",\"distplot\",\"distplot\",\"distplot\",\"distplot\",\"distplot\",\"distplot\",\"distplot\",\"distplot\",\"distplot\",\"distplot\",\"distplot\",\"distplot\",\"distplot\",\"distplot\",\"distplot\",\"distplot\",\"distplot\",\"distplot\",\"distplot\",\"distplot\",\"distplot\",\"distplot\",\"distplot\",\"distplot\",\"distplot\",\"distplot\",\"distplot\",\"distplot\",\"distplot\",\"distplot\",\"distplot\",\"distplot\",\"distplot\",\"distplot\",\"distplot\",\"distplot\",\"distplot\",\"distplot\",\"distplot\",\"distplot\",\"distplot\",\"distplot\",\"distplot\",\"distplot\",\"distplot\",\"distplot\",\"distplot\",\"distplot\",\"distplot\",\"distplot\",\"distplot\",\"distplot\",\"distplot\",\"distplot\",\"distplot\",\"distplot\",\"distplot\",\"distplot\",\"distplot\",\"distplot\",\"distplot\",\"distplot\",\"distplot\",\"distplot\",\"distplot\",\"distplot\",\"distplot\",\"distplot\",\"distplot\",\"distplot\",\"distplot\",\"distplot\",\"distplot\",\"distplot\",\"distplot\",\"distplot\",\"distplot\",\"distplot\",\"distplot\",\"distplot\",\"distplot\",\"distplot\",\"distplot\",\"distplot\",\"distplot\",\"distplot\",\"distplot\",\"distplot\",\"distplot\",\"distplot\",\"distplot\",\"distplot\",\"distplot\",\"distplot\",\"distplot\",\"distplot\",\"distplot\",\"distplot\",\"distplot\",\"distplot\",\"distplot\",\"distplot\",\"distplot\",\"distplot\",\"distplot\",\"distplot\",\"distplot\",\"distplot\",\"distplot\",\"distplot\",\"distplot\",\"distplot\",\"distplot\",\"distplot\",\"distplot\",\"distplot\",\"distplot\",\"distplot\",\"distplot\",\"distplot\",\"distplot\",\"distplot\",\"distplot\",\"distplot\",\"distplot\",\"distplot\",\"distplot\",\"distplot\",\"distplot\",\"distplot\",\"distplot\",\"distplot\",\"distplot\",\"distplot\",\"distplot\",\"distplot\",\"distplot\",\"distplot\",\"distplot\",\"distplot\",\"distplot\",\"distplot\",\"distplot\",\"distplot\",\"distplot\",\"distplot\",\"distplot\",\"distplot\",\"distplot\",\"distplot\",\"distplot\",\"distplot\",\"distplot\",\"distplot\",\"distplot\",\"distplot\",\"distplot\",\"distplot\",\"distplot\",\"distplot\",\"distplot\",\"distplot\",\"distplot\",\"distplot\",\"distplot\",\"distplot\",\"distplot\",\"distplot\",\"distplot\",\"distplot\",\"distplot\",\"distplot\",\"distplot\",\"distplot\",\"distplot\",\"distplot\",\"distplot\",\"distplot\",\"distplot\",\"distplot\",\"distplot\",\"distplot\",\"distplot\",\"distplot\",\"distplot\",\"distplot\",\"distplot\",\"distplot\",\"distplot\",\"distplot\",\"distplot\",\"distplot\",\"distplot\",\"distplot\",\"distplot\",\"distplot\",\"distplot\",\"distplot\",\"distplot\",\"distplot\",\"distplot\",\"distplot\",\"distplot\",\"distplot\",\"distplot\",\"distplot\",\"distplot\",\"distplot\",\"distplot\",\"distplot\",\"distplot\",\"distplot\",\"distplot\",\"distplot\",\"distplot\",\"distplot\",\"distplot\",\"distplot\",\"distplot\",\"distplot\",\"distplot\",\"distplot\",\"distplot\",\"distplot\",\"distplot\",\"distplot\",\"distplot\",\"distplot\",\"distplot\",\"distplot\",\"distplot\",\"distplot\",\"distplot\",\"distplot\",\"distplot\",\"distplot\",\"distplot\",\"distplot\",\"distplot\",\"distplot\",\"distplot\",\"distplot\",\"distplot\",\"distplot\",\"distplot\",\"distplot\",\"distplot\",\"distplot\",\"distplot\",\"distplot\",\"distplot\",\"distplot\",\"distplot\",\"distplot\",\"distplot\",\"distplot\",\"distplot\",\"distplot\",\"distplot\",\"distplot\",\"distplot\",\"distplot\",\"distplot\",\"distplot\",\"distplot\",\"distplot\",\"distplot\",\"distplot\",\"distplot\",\"distplot\",\"distplot\",\"distplot\",\"distplot\",\"distplot\",\"distplot\",\"distplot\",\"distplot\",\"distplot\",\"distplot\",\"distplot\",\"distplot\",\"distplot\",\"distplot\",\"distplot\",\"distplot\",\"distplot\",\"distplot\",\"distplot\",\"distplot\",\"distplot\",\"distplot\",\"distplot\",\"distplot\",\"distplot\",\"distplot\",\"distplot\",\"distplot\",\"distplot\",\"distplot\",\"distplot\",\"distplot\",\"distplot\",\"distplot\",\"distplot\",\"distplot\",\"distplot\",\"distplot\",\"distplot\",\"distplot\",\"distplot\",\"distplot\",\"distplot\",\"distplot\",\"distplot\",\"distplot\",\"distplot\",\"distplot\",\"distplot\",\"distplot\",\"distplot\",\"distplot\",\"distplot\",\"distplot\",\"distplot\",\"distplot\",\"distplot\",\"distplot\",\"distplot\",\"distplot\",\"distplot\",\"distplot\",\"distplot\",\"distplot\",\"distplot\",\"distplot\",\"distplot\",\"distplot\",\"distplot\",\"distplot\",\"distplot\",\"distplot\",\"distplot\",\"distplot\",\"distplot\",\"distplot\",\"distplot\",\"distplot\",\"distplot\",\"distplot\",\"distplot\",\"distplot\",\"distplot\",\"distplot\",\"distplot\",\"distplot\",\"distplot\",\"distplot\",\"distplot\",\"distplot\",\"distplot\",\"distplot\",\"distplot\",\"distplot\",\"distplot\",\"distplot\",\"distplot\",\"distplot\",\"distplot\",\"distplot\",\"distplot\",\"distplot\",\"distplot\",\"distplot\",\"distplot\",\"distplot\",\"distplot\",\"distplot\",\"distplot\",\"distplot\",\"distplot\",\"distplot\",\"distplot\",\"distplot\",\"distplot\",\"distplot\",\"distplot\",\"distplot\",\"distplot\",\"distplot\",\"distplot\",\"distplot\",\"distplot\",\"distplot\",\"distplot\",\"distplot\",\"distplot\",\"distplot\",\"distplot\",\"distplot\",\"distplot\",\"distplot\",\"distplot\",\"distplot\",\"distplot\",\"distplot\",\"distplot\",\"distplot\",\"distplot\",\"distplot\",\"distplot\",\"distplot\",\"distplot\",\"distplot\",\"distplot\",\"distplot\",\"distplot\",\"distplot\",\"distplot\",\"distplot\",\"distplot\",\"distplot\",\"distplot\",\"distplot\",\"distplot\",\"distplot\",\"distplot\",\"distplot\",\"distplot\",\"distplot\",\"distplot\",\"distplot\",\"distplot\",\"distplot\",\"distplot\",\"distplot\",\"distplot\",\"distplot\",\"distplot\",\"distplot\",\"distplot\",\"distplot\",\"distplot\",\"distplot\",\"distplot\",\"distplot\",\"distplot\",\"distplot\",\"distplot\",\"distplot\",\"distplot\",\"distplot\",\"distplot\",\"distplot\",\"distplot\",\"distplot\",\"distplot\",\"distplot\",\"distplot\",\"distplot\",\"distplot\",\"distplot\",\"distplot\",\"distplot\",\"distplot\",\"distplot\",\"distplot\",\"distplot\",\"distplot\",\"distplot\",\"distplot\",\"distplot\",\"distplot\",\"distplot\",\"distplot\",\"distplot\",\"distplot\",\"distplot\",\"distplot\",\"distplot\",\"distplot\",\"distplot\",\"distplot\",\"distplot\",\"distplot\",\"distplot\",\"distplot\",\"distplot\",\"distplot\",\"distplot\",\"distplot\",\"distplot\",\"distplot\",\"distplot\",\"distplot\",\"distplot\",\"distplot\",\"distplot\",\"distplot\",\"distplot\",\"distplot\",\"distplot\",\"distplot\",\"distplot\",\"distplot\",\"distplot\",\"distplot\",\"distplot\",\"distplot\",\"distplot\",\"distplot\",\"distplot\",\"distplot\",\"distplot\",\"distplot\",\"distplot\",\"distplot\",\"distplot\",\"distplot\",\"distplot\",\"distplot\",\"distplot\",\"distplot\",\"distplot\",\"distplot\",\"distplot\",\"distplot\",\"distplot\",\"distplot\",\"distplot\",\"distplot\",\"distplot\",\"distplot\",\"distplot\",\"distplot\",\"distplot\",\"distplot\",\"distplot\",\"distplot\",\"distplot\",\"distplot\",\"distplot\",\"distplot\",\"distplot\",\"distplot\",\"distplot\",\"distplot\",\"distplot\",\"distplot\",\"distplot\",\"distplot\",\"distplot\",\"distplot\",\"distplot\",\"distplot\",\"distplot\",\"distplot\",\"distplot\",\"distplot\",\"distplot\",\"distplot\",\"distplot\",\"distplot\",\"distplot\",\"distplot\",\"distplot\",\"distplot\",\"distplot\",\"distplot\",\"distplot\",\"distplot\",\"distplot\",\"distplot\",\"distplot\",\"distplot\",\"distplot\",\"distplot\",\"distplot\",\"distplot\",\"distplot\",\"distplot\",\"distplot\",\"distplot\",\"distplot\",\"distplot\",\"distplot\",\"distplot\",\"distplot\",\"distplot\",\"distplot\",\"distplot\",\"distplot\",\"distplot\",\"distplot\",\"distplot\",\"distplot\",\"distplot\",\"distplot\",\"distplot\",\"distplot\",\"distplot\",\"distplot\",\"distplot\",\"distplot\",\"distplot\",\"distplot\",\"distplot\",\"distplot\",\"distplot\",\"distplot\",\"distplot\",\"distplot\",\"distplot\",\"distplot\",\"distplot\",\"distplot\",\"distplot\",\"distplot\",\"distplot\",\"distplot\",\"distplot\",\"distplot\",\"distplot\",\"distplot\",\"distplot\",\"distplot\",\"distplot\",\"distplot\",\"distplot\",\"distplot\",\"distplot\",\"distplot\",\"distplot\",\"distplot\",\"distplot\",\"distplot\",\"distplot\",\"distplot\",\"distplot\",\"distplot\",\"distplot\",\"distplot\",\"distplot\",\"distplot\",\"distplot\",\"distplot\",\"distplot\",\"distplot\",\"distplot\",\"distplot\",\"distplot\",\"distplot\",\"distplot\",\"distplot\",\"distplot\",\"distplot\",\"distplot\",\"distplot\",\"distplot\",\"distplot\",\"distplot\",\"distplot\",\"distplot\",\"distplot\",\"distplot\",\"distplot\",\"distplot\",\"distplot\",\"distplot\",\"distplot\",\"distplot\",\"distplot\",\"distplot\",\"distplot\",\"distplot\",\"distplot\",\"distplot\",\"distplot\",\"distplot\",\"distplot\",\"distplot\",\"distplot\",\"distplot\",\"distplot\",\"distplot\",\"distplot\",\"distplot\",\"distplot\",\"distplot\",\"distplot\",\"distplot\",\"distplot\",\"distplot\",\"distplot\",\"distplot\",\"distplot\",\"distplot\",\"distplot\",\"distplot\",\"distplot\",\"distplot\",\"distplot\",\"distplot\",\"distplot\",\"distplot\",\"distplot\",\"distplot\",\"distplot\",\"distplot\",\"distplot\",\"distplot\",\"distplot\",\"distplot\",\"distplot\",\"distplot\",\"distplot\",\"distplot\",\"distplot\",\"distplot\",\"distplot\",\"distplot\",\"distplot\",\"distplot\",\"distplot\",\"distplot\",\"distplot\",\"distplot\",\"distplot\",\"distplot\",\"distplot\",\"distplot\",\"distplot\",\"distplot\",\"distplot\",\"distplot\",\"distplot\",\"distplot\",\"distplot\",\"distplot\",\"distplot\",\"distplot\",\"distplot\",\"distplot\",\"distplot\",\"distplot\",\"distplot\",\"distplot\",\"distplot\",\"distplot\",\"distplot\",\"distplot\",\"distplot\",\"distplot\",\"distplot\",\"distplot\",\"distplot\",\"distplot\",\"distplot\",\"distplot\",\"distplot\",\"distplot\",\"distplot\",\"distplot\",\"distplot\",\"distplot\",\"distplot\",\"distplot\",\"distplot\",\"distplot\",\"distplot\",\"distplot\",\"distplot\",\"distplot\",\"distplot\",\"distplot\",\"distplot\",\"distplot\",\"distplot\",\"distplot\",\"distplot\",\"distplot\",\"distplot\",\"distplot\",\"distplot\",\"distplot\",\"distplot\",\"distplot\",\"distplot\",\"distplot\",\"distplot\",\"distplot\",\"distplot\",\"distplot\",\"distplot\",\"distplot\",\"distplot\",\"distplot\",\"distplot\",\"distplot\",\"distplot\",\"distplot\",\"distplot\",\"distplot\",\"distplot\",\"distplot\",\"distplot\",\"distplot\",\"distplot\",\"distplot\",\"distplot\",\"distplot\",\"distplot\",\"distplot\",\"distplot\",\"distplot\",\"distplot\",\"distplot\",\"distplot\",\"distplot\",\"distplot\",\"distplot\",\"distplot\",\"distplot\",\"distplot\",\"distplot\",\"distplot\",\"distplot\",\"distplot\",\"distplot\",\"distplot\",\"distplot\",\"distplot\",\"distplot\",\"distplot\",\"distplot\",\"distplot\",\"distplot\",\"distplot\",\"distplot\",\"distplot\",\"distplot\",\"distplot\",\"distplot\",\"distplot\",\"distplot\",\"distplot\",\"distplot\",\"distplot\",\"distplot\",\"distplot\",\"distplot\",\"distplot\",\"distplot\",\"distplot\",\"distplot\",\"distplot\",\"distplot\",\"distplot\",\"distplot\",\"distplot\",\"distplot\",\"distplot\",\"distplot\",\"distplot\",\"distplot\",\"distplot\",\"distplot\",\"distplot\",\"distplot\",\"distplot\",\"distplot\",\"distplot\",\"distplot\",\"distplot\",\"distplot\",\"distplot\",\"distplot\",\"distplot\",\"distplot\",\"distplot\",\"distplot\",\"distplot\",\"distplot\",\"distplot\",\"distplot\",\"distplot\",\"distplot\",\"distplot\",\"distplot\",\"distplot\",\"distplot\",\"distplot\",\"distplot\",\"distplot\",\"distplot\",\"distplot\",\"distplot\",\"distplot\",\"distplot\",\"distplot\",\"distplot\",\"distplot\",\"distplot\",\"distplot\",\"distplot\",\"distplot\",\"distplot\",\"distplot\",\"distplot\",\"distplot\",\"distplot\",\"distplot\",\"distplot\",\"distplot\",\"distplot\",\"distplot\",\"distplot\",\"distplot\",\"distplot\",\"distplot\",\"distplot\",\"distplot\",\"distplot\",\"distplot\",\"distplot\",\"distplot\",\"distplot\",\"distplot\",\"distplot\",\"distplot\",\"distplot\",\"distplot\",\"distplot\",\"distplot\",\"distplot\",\"distplot\",\"distplot\",\"distplot\",\"distplot\",\"distplot\",\"distplot\",\"distplot\",\"distplot\",\"distplot\",\"distplot\",\"distplot\",\"distplot\",\"distplot\",\"distplot\",\"distplot\",\"distplot\",\"distplot\",\"distplot\",\"distplot\",\"distplot\",\"distplot\",\"distplot\",\"distplot\",\"distplot\",\"distplot\",\"distplot\",\"distplot\",\"distplot\",\"distplot\",\"distplot\",\"distplot\",\"distplot\",\"distplot\",\"distplot\",\"distplot\",\"distplot\",\"distplot\",\"distplot\",\"distplot\",\"distplot\",\"distplot\",\"distplot\",\"distplot\",\"distplot\",\"distplot\",\"distplot\",\"distplot\",\"distplot\",\"distplot\",\"distplot\",\"distplot\",\"distplot\",\"distplot\",\"distplot\",\"distplot\",\"distplot\",\"distplot\",\"distplot\",\"distplot\",\"distplot\",\"distplot\",\"distplot\",\"distplot\",\"distplot\",\"distplot\",\"distplot\",\"distplot\",\"distplot\",\"distplot\",\"distplot\",\"distplot\",\"distplot\",\"distplot\",\"distplot\",\"distplot\",\"distplot\",\"distplot\",\"distplot\",\"distplot\",\"distplot\",\"distplot\",\"distplot\",\"distplot\",\"distplot\",\"distplot\",\"distplot\",\"distplot\",\"distplot\",\"distplot\",\"distplot\",\"distplot\",\"distplot\",\"distplot\",\"distplot\",\"distplot\",\"distplot\",\"distplot\",\"distplot\",\"distplot\",\"distplot\",\"distplot\",\"distplot\",\"distplot\",\"distplot\",\"distplot\",\"distplot\",\"distplot\",\"distplot\",\"distplot\",\"distplot\",\"distplot\",\"distplot\",\"distplot\",\"distplot\",\"distplot\",\"distplot\",\"distplot\",\"distplot\",\"distplot\",\"distplot\",\"distplot\",\"distplot\",\"distplot\",\"distplot\",\"distplot\",\"distplot\",\"distplot\",\"distplot\",\"distplot\",\"distplot\",\"distplot\",\"distplot\",\"distplot\",\"distplot\",\"distplot\",\"distplot\",\"distplot\",\"distplot\",\"distplot\",\"distplot\",\"distplot\",\"distplot\",\"distplot\",\"distplot\",\"distplot\",\"distplot\",\"distplot\",\"distplot\",\"distplot\",\"distplot\",\"distplot\",\"distplot\",\"distplot\",\"distplot\",\"distplot\",\"distplot\",\"distplot\",\"distplot\",\"distplot\",\"distplot\",\"distplot\",\"distplot\",\"distplot\",\"distplot\",\"distplot\",\"distplot\",\"distplot\",\"distplot\",\"distplot\",\"distplot\",\"distplot\",\"distplot\",\"distplot\",\"distplot\",\"distplot\",\"distplot\",\"distplot\",\"distplot\",\"distplot\",\"distplot\",\"distplot\",\"distplot\",\"distplot\",\"distplot\",\"distplot\",\"distplot\",\"distplot\",\"distplot\",\"distplot\",\"distplot\",\"distplot\",\"distplot\",\"distplot\",\"distplot\",\"distplot\",\"distplot\",\"distplot\",\"distplot\",\"distplot\",\"distplot\",\"distplot\",\"distplot\",\"distplot\",\"distplot\",\"distplot\",\"distplot\",\"distplot\",\"distplot\",\"distplot\",\"distplot\",\"distplot\",\"distplot\",\"distplot\",\"distplot\",\"distplot\",\"distplot\",\"distplot\",\"distplot\",\"distplot\",\"distplot\",\"distplot\",\"distplot\",\"distplot\",\"distplot\",\"distplot\",\"distplot\",\"distplot\",\"distplot\",\"distplot\",\"distplot\",\"distplot\",\"distplot\",\"distplot\",\"distplot\",\"distplot\",\"distplot\",\"distplot\",\"distplot\",\"distplot\",\"distplot\",\"distplot\",\"distplot\",\"distplot\",\"distplot\",\"distplot\",\"distplot\",\"distplot\",\"distplot\",\"distplot\",\"distplot\",\"distplot\",\"distplot\",\"distplot\",\"distplot\",\"distplot\",\"distplot\",\"distplot\",\"distplot\",\"distplot\",\"distplot\",\"distplot\",\"distplot\",\"distplot\",\"distplot\",\"distplot\",\"distplot\",\"distplot\",\"distplot\",\"distplot\",\"distplot\",\"distplot\",\"distplot\",\"distplot\",\"distplot\",\"distplot\",\"distplot\",\"distplot\",\"distplot\",\"distplot\",\"distplot\",\"distplot\",\"distplot\",\"distplot\",\"distplot\",\"distplot\",\"distplot\",\"distplot\",\"distplot\",\"distplot\",\"distplot\",\"distplot\",\"distplot\",\"distplot\",\"distplot\",\"distplot\",\"distplot\",\"distplot\",\"distplot\",\"distplot\",\"distplot\",\"distplot\",\"distplot\",\"distplot\",\"distplot\",\"distplot\",\"distplot\",\"distplot\",\"distplot\",\"distplot\",\"distplot\",\"distplot\",\"distplot\",\"distplot\",\"distplot\",\"distplot\",\"distplot\",\"distplot\",\"distplot\",\"distplot\",\"distplot\",\"distplot\",\"distplot\",\"distplot\",\"distplot\",\"distplot\",\"distplot\",\"distplot\",\"distplot\",\"distplot\",\"distplot\",\"distplot\",\"distplot\",\"distplot\",\"distplot\",\"distplot\",\"distplot\",\"distplot\",\"distplot\",\"distplot\",\"distplot\",\"distplot\",\"distplot\",\"distplot\",\"distplot\",\"distplot\",\"distplot\",\"distplot\",\"distplot\",\"distplot\",\"distplot\",\"distplot\",\"distplot\",\"distplot\",\"distplot\",\"distplot\",\"distplot\",\"distplot\",\"distplot\",\"distplot\",\"distplot\",\"distplot\",\"distplot\",\"distplot\",\"distplot\",\"distplot\",\"distplot\",\"distplot\",\"distplot\",\"distplot\",\"distplot\",\"distplot\",\"distplot\",\"distplot\",\"distplot\",\"distplot\",\"distplot\",\"distplot\",\"distplot\",\"distplot\",\"distplot\",\"distplot\",\"distplot\",\"distplot\",\"distplot\",\"distplot\",\"distplot\",\"distplot\",\"distplot\",\"distplot\",\"distplot\",\"distplot\",\"distplot\",\"distplot\",\"distplot\",\"distplot\",\"distplot\",\"distplot\",\"distplot\",\"distplot\",\"distplot\",\"distplot\",\"distplot\",\"distplot\",\"distplot\",\"distplot\",\"distplot\",\"distplot\",\"distplot\",\"distplot\",\"distplot\",\"distplot\",\"distplot\",\"distplot\",\"distplot\",\"distplot\",\"distplot\",\"distplot\",\"distplot\",\"distplot\",\"distplot\",\"distplot\",\"distplot\",\"distplot\",\"distplot\",\"distplot\",\"distplot\",\"distplot\",\"distplot\",\"distplot\",\"distplot\",\"distplot\",\"distplot\",\"distplot\",\"distplot\",\"distplot\",\"distplot\",\"distplot\",\"distplot\",\"distplot\",\"distplot\",\"distplot\",\"distplot\",\"distplot\",\"distplot\",\"distplot\",\"distplot\",\"distplot\",\"distplot\",\"distplot\",\"distplot\",\"distplot\",\"distplot\",\"distplot\",\"distplot\",\"distplot\",\"distplot\",\"distplot\",\"distplot\",\"distplot\",\"distplot\",\"distplot\",\"distplot\",\"distplot\",\"distplot\",\"distplot\",\"distplot\",\"distplot\",\"distplot\",\"distplot\",\"distplot\",\"distplot\",\"distplot\",\"distplot\",\"distplot\",\"distplot\",\"distplot\",\"distplot\",\"distplot\",\"distplot\",\"distplot\",\"distplot\",\"distplot\",\"distplot\",\"distplot\",\"distplot\",\"distplot\",\"distplot\",\"distplot\",\"distplot\",\"distplot\",\"distplot\",\"distplot\",\"distplot\",\"distplot\",\"distplot\",\"distplot\",\"distplot\",\"distplot\",\"distplot\",\"distplot\",\"distplot\",\"distplot\",\"distplot\",\"distplot\",\"distplot\",\"distplot\",\"distplot\",\"distplot\",\"distplot\",\"distplot\",\"distplot\",\"distplot\",\"distplot\",\"distplot\",\"distplot\",\"distplot\",\"distplot\",\"distplot\",\"distplot\",\"distplot\",\"distplot\",\"distplot\",\"distplot\",\"distplot\",\"distplot\",\"distplot\",\"distplot\",\"distplot\",\"distplot\",\"distplot\",\"distplot\",\"distplot\",\"distplot\",\"distplot\",\"distplot\",\"distplot\",\"distplot\",\"distplot\",\"distplot\",\"distplot\",\"distplot\",\"distplot\",\"distplot\",\"distplot\",\"distplot\",\"distplot\",\"distplot\",\"distplot\",\"distplot\",\"distplot\",\"distplot\",\"distplot\",\"distplot\",\"distplot\",\"distplot\",\"distplot\",\"distplot\",\"distplot\",\"distplot\",\"distplot\",\"distplot\",\"distplot\",\"distplot\",\"distplot\",\"distplot\",\"distplot\",\"distplot\",\"distplot\",\"distplot\",\"distplot\",\"distplot\",\"distplot\",\"distplot\",\"distplot\",\"distplot\",\"distplot\",\"distplot\",\"distplot\",\"distplot\",\"distplot\",\"distplot\",\"distplot\",\"distplot\",\"distplot\",\"distplot\",\"distplot\",\"distplot\",\"distplot\",\"distplot\",\"distplot\",\"distplot\",\"distplot\",\"distplot\",\"distplot\",\"distplot\",\"distplot\",\"distplot\",\"distplot\",\"distplot\",\"distplot\",\"distplot\",\"distplot\",\"distplot\",\"distplot\",\"distplot\",\"distplot\",\"distplot\",\"distplot\",\"distplot\",\"distplot\",\"distplot\",\"distplot\",\"distplot\",\"distplot\",\"distplot\",\"distplot\",\"distplot\",\"distplot\",\"distplot\",\"distplot\",\"distplot\",\"distplot\",\"distplot\",\"distplot\",\"distplot\",\"distplot\",\"distplot\",\"distplot\",\"distplot\",\"distplot\",\"distplot\",\"distplot\",\"distplot\",\"distplot\",\"distplot\",\"distplot\",\"distplot\",\"distplot\",\"distplot\",\"distplot\",\"distplot\",\"distplot\",\"distplot\",\"distplot\",\"distplot\",\"distplot\",\"distplot\",\"distplot\",\"distplot\",\"distplot\",\"distplot\",\"distplot\",\"distplot\",\"distplot\",\"distplot\",\"distplot\",\"distplot\",\"distplot\",\"distplot\",\"distplot\",\"distplot\",\"distplot\",\"distplot\",\"distplot\",\"distplot\",\"distplot\",\"distplot\",\"distplot\",\"distplot\",\"distplot\",\"distplot\",\"distplot\",\"distplot\",\"distplot\",\"distplot\",\"distplot\",\"distplot\",\"distplot\",\"distplot\",\"distplot\",\"distplot\",\"distplot\",\"distplot\",\"distplot\",\"distplot\",\"distplot\",\"distplot\",\"distplot\",\"distplot\",\"distplot\",\"distplot\",\"distplot\",\"distplot\",\"distplot\",\"distplot\",\"distplot\",\"distplot\",\"distplot\",\"distplot\",\"distplot\",\"distplot\",\"distplot\",\"distplot\",\"distplot\",\"distplot\",\"distplot\",\"distplot\",\"distplot\",\"distplot\",\"distplot\",\"distplot\",\"distplot\",\"distplot\",\"distplot\",\"distplot\",\"distplot\",\"distplot\",\"distplot\",\"distplot\",\"distplot\",\"distplot\",\"distplot\",\"distplot\",\"distplot\",\"distplot\",\"distplot\",\"distplot\",\"distplot\",\"distplot\",\"distplot\",\"distplot\",\"distplot\",\"distplot\",\"distplot\",\"distplot\",\"distplot\",\"distplot\",\"distplot\",\"distplot\",\"distplot\",\"distplot\",\"distplot\",\"distplot\",\"distplot\",\"distplot\",\"distplot\",\"distplot\",\"distplot\",\"distplot\",\"distplot\",\"distplot\",\"distplot\",\"distplot\",\"distplot\",\"distplot\",\"distplot\",\"distplot\",\"distplot\",\"distplot\",\"distplot\",\"distplot\",\"distplot\",\"distplot\",\"distplot\",\"distplot\",\"distplot\",\"distplot\",\"distplot\",\"distplot\",\"distplot\",\"distplot\",\"distplot\",\"distplot\",\"distplot\",\"distplot\",\"distplot\",\"distplot\",\"distplot\",\"distplot\",\"distplot\",\"distplot\",\"distplot\",\"distplot\",\"distplot\",\"distplot\",\"distplot\",\"distplot\",\"distplot\",\"distplot\",\"distplot\",\"distplot\",\"distplot\",\"distplot\",\"distplot\",\"distplot\",\"distplot\",\"distplot\",\"distplot\",\"distplot\",\"distplot\",\"distplot\",\"distplot\",\"distplot\",\"distplot\",\"distplot\",\"distplot\",\"distplot\",\"distplot\",\"distplot\",\"distplot\",\"distplot\",\"distplot\",\"distplot\",\"distplot\",\"distplot\",\"distplot\",\"distplot\",\"distplot\",\"distplot\",\"distplot\",\"distplot\",\"distplot\",\"distplot\",\"distplot\",\"distplot\",\"distplot\",\"distplot\",\"distplot\",\"distplot\",\"distplot\",\"distplot\",\"distplot\",\"distplot\",\"distplot\",\"distplot\",\"distplot\",\"distplot\",\"distplot\",\"distplot\",\"distplot\",\"distplot\",\"distplot\",\"distplot\",\"distplot\",\"distplot\",\"distplot\",\"distplot\",\"distplot\",\"distplot\",\"distplot\",\"distplot\",\"distplot\",\"distplot\",\"distplot\",\"distplot\",\"distplot\",\"distplot\",\"distplot\",\"distplot\",\"distplot\",\"distplot\",\"distplot\",\"distplot\",\"distplot\",\"distplot\",\"distplot\",\"distplot\",\"distplot\",\"distplot\",\"distplot\",\"distplot\",\"distplot\",\"distplot\",\"distplot\",\"distplot\",\"distplot\",\"distplot\",\"distplot\",\"distplot\",\"distplot\",\"distplot\",\"distplot\",\"distplot\",\"distplot\",\"distplot\",\"distplot\",\"distplot\",\"distplot\",\"distplot\",\"distplot\",\"distplot\",\"distplot\",\"distplot\",\"distplot\",\"distplot\",\"distplot\",\"distplot\",\"distplot\",\"distplot\",\"distplot\",\"distplot\",\"distplot\",\"distplot\",\"distplot\",\"distplot\",\"distplot\",\"distplot\",\"distplot\",\"distplot\",\"distplot\",\"distplot\",\"distplot\",\"distplot\",\"distplot\",\"distplot\",\"distplot\",\"distplot\",\"distplot\",\"distplot\",\"distplot\",\"distplot\",\"distplot\",\"distplot\",\"distplot\",\"distplot\",\"distplot\",\"distplot\",\"distplot\",\"distplot\",\"distplot\",\"distplot\",\"distplot\",\"distplot\",\"distplot\",\"distplot\",\"distplot\",\"distplot\",\"distplot\",\"distplot\",\"distplot\",\"distplot\",\"distplot\",\"distplot\",\"distplot\",\"distplot\",\"distplot\",\"distplot\",\"distplot\",\"distplot\",\"distplot\",\"distplot\",\"distplot\",\"distplot\",\"distplot\",\"distplot\",\"distplot\",\"distplot\",\"distplot\",\"distplot\",\"distplot\",\"distplot\",\"distplot\",\"distplot\",\"distplot\",\"distplot\",\"distplot\",\"distplot\",\"distplot\",\"distplot\",\"distplot\",\"distplot\",\"distplot\",\"distplot\",\"distplot\",\"distplot\",\"distplot\",\"distplot\",\"distplot\",\"distplot\",\"distplot\",\"distplot\",\"distplot\",\"distplot\",\"distplot\",\"distplot\",\"distplot\",\"distplot\",\"distplot\",\"distplot\",\"distplot\",\"distplot\",\"distplot\",\"distplot\",\"distplot\",\"distplot\",\"distplot\",\"distplot\",\"distplot\",\"distplot\",\"distplot\",\"distplot\",\"distplot\",\"distplot\",\"distplot\",\"distplot\",\"distplot\",\"distplot\",\"distplot\",\"distplot\",\"distplot\",\"distplot\",\"distplot\",\"distplot\",\"distplot\",\"distplot\",\"distplot\",\"distplot\",\"distplot\",\"distplot\",\"distplot\",\"distplot\",\"distplot\",\"distplot\",\"distplot\",\"distplot\",\"distplot\",\"distplot\",\"distplot\",\"distplot\",\"distplot\",\"distplot\",\"distplot\",\"distplot\",\"distplot\",\"distplot\",\"distplot\",\"distplot\",\"distplot\",\"distplot\",\"distplot\",\"distplot\",\"distplot\",\"distplot\",\"distplot\",\"distplot\",\"distplot\",\"distplot\",\"distplot\",\"distplot\",\"distplot\",\"distplot\",\"distplot\",\"distplot\",\"distplot\",\"distplot\",\"distplot\",\"distplot\",\"distplot\",\"distplot\",\"distplot\",\"distplot\",\"distplot\",\"distplot\",\"distplot\",\"distplot\",\"distplot\",\"distplot\",\"distplot\",\"distplot\",\"distplot\",\"distplot\",\"distplot\",\"distplot\",\"distplot\",\"distplot\",\"distplot\",\"distplot\",\"distplot\",\"distplot\",\"distplot\",\"distplot\",\"distplot\",\"distplot\",\"distplot\",\"distplot\",\"distplot\",\"distplot\",\"distplot\",\"distplot\",\"distplot\",\"distplot\",\"distplot\",\"distplot\",\"distplot\",\"distplot\",\"distplot\",\"distplot\",\"distplot\",\"distplot\",\"distplot\",\"distplot\",\"distplot\",\"distplot\",\"distplot\",\"distplot\",\"distplot\",\"distplot\",\"distplot\",\"distplot\",\"distplot\",\"distplot\",\"distplot\",\"distplot\",\"distplot\",\"distplot\",\"distplot\",\"distplot\",\"distplot\",\"distplot\",\"distplot\",\"distplot\",\"distplot\",\"distplot\",\"distplot\",\"distplot\",\"distplot\",\"distplot\",\"distplot\",\"distplot\",\"distplot\",\"distplot\",\"distplot\",\"distplot\",\"distplot\",\"distplot\",\"distplot\",\"distplot\",\"distplot\",\"distplot\",\"distplot\",\"distplot\",\"distplot\",\"distplot\",\"distplot\",\"distplot\",\"distplot\",\"distplot\",\"distplot\",\"distplot\",\"distplot\",\"distplot\",\"distplot\",\"distplot\",\"distplot\",\"distplot\",\"distplot\",\"distplot\",\"distplot\",\"distplot\",\"distplot\",\"distplot\",\"distplot\",\"distplot\",\"distplot\",\"distplot\",\"distplot\",\"distplot\",\"distplot\",\"distplot\",\"distplot\",\"distplot\",\"distplot\",\"distplot\",\"distplot\",\"distplot\",\"distplot\",\"distplot\",\"distplot\",\"distplot\",\"distplot\",\"distplot\",\"distplot\",\"distplot\",\"distplot\",\"distplot\",\"distplot\",\"distplot\",\"distplot\",\"distplot\",\"distplot\",\"distplot\",\"distplot\",\"distplot\",\"distplot\",\"distplot\",\"distplot\",\"distplot\",\"distplot\",\"distplot\",\"distplot\",\"distplot\",\"distplot\",\"distplot\",\"distplot\",\"distplot\",\"distplot\",\"distplot\",\"distplot\",\"distplot\",\"distplot\",\"distplot\",\"distplot\",\"distplot\",\"distplot\",\"distplot\",\"distplot\",\"distplot\",\"distplot\",\"distplot\",\"distplot\",\"distplot\",\"distplot\",\"distplot\",\"distplot\",\"distplot\",\"distplot\",\"distplot\",\"distplot\",\"distplot\",\"distplot\",\"distplot\",\"distplot\",\"distplot\",\"distplot\",\"distplot\",\"distplot\",\"distplot\",\"distplot\",\"distplot\",\"distplot\",\"distplot\",\"distplot\",\"distplot\",\"distplot\",\"distplot\",\"distplot\",\"distplot\",\"distplot\",\"distplot\",\"distplot\",\"distplot\",\"distplot\",\"distplot\",\"distplot\",\"distplot\",\"distplot\",\"distplot\",\"distplot\",\"distplot\",\"distplot\",\"distplot\",\"distplot\",\"distplot\",\"distplot\",\"distplot\",\"distplot\",\"distplot\",\"distplot\",\"distplot\",\"distplot\",\"distplot\",\"distplot\",\"distplot\",\"distplot\",\"distplot\"],\"yaxis\":\"y2\",\"type\":\"scatter\"}],                        {\"barmode\":\"overlay\",\"hovermode\":\"closest\",\"legend\":{\"traceorder\":\"reversed\"},\"xaxis\":{\"anchor\":\"y2\",\"domain\":[0.0,1.0],\"zeroline\":false},\"yaxis\":{\"anchor\":\"free\",\"domain\":[0.35,1],\"position\":0.0},\"yaxis2\":{\"anchor\":\"x\",\"domain\":[0,0.25],\"dtick\":1,\"showticklabels\":false},\"template\":{\"data\":{\"barpolar\":[{\"marker\":{\"line\":{\"color\":\"rgb(17,17,17)\",\"width\":0.5},\"pattern\":{\"fillmode\":\"overlay\",\"size\":10,\"solidity\":0.2}},\"type\":\"barpolar\"}],\"bar\":[{\"error_x\":{\"color\":\"#f2f5fa\"},\"error_y\":{\"color\":\"#f2f5fa\"},\"marker\":{\"line\":{\"color\":\"rgb(17,17,17)\",\"width\":0.5},\"pattern\":{\"fillmode\":\"overlay\",\"size\":10,\"solidity\":0.2}},\"type\":\"bar\"}],\"carpet\":[{\"aaxis\":{\"endlinecolor\":\"#A2B1C6\",\"gridcolor\":\"#506784\",\"linecolor\":\"#506784\",\"minorgridcolor\":\"#506784\",\"startlinecolor\":\"#A2B1C6\"},\"baxis\":{\"endlinecolor\":\"#A2B1C6\",\"gridcolor\":\"#506784\",\"linecolor\":\"#506784\",\"minorgridcolor\":\"#506784\",\"startlinecolor\":\"#A2B1C6\"},\"type\":\"carpet\"}],\"choropleth\":[{\"colorbar\":{\"outlinewidth\":0,\"ticks\":\"\"},\"type\":\"choropleth\"}],\"contourcarpet\":[{\"colorbar\":{\"outlinewidth\":0,\"ticks\":\"\"},\"type\":\"contourcarpet\"}],\"contour\":[{\"colorbar\":{\"outlinewidth\":0,\"ticks\":\"\"},\"colorscale\":[[0.0,\"#0d0887\"],[0.1111111111111111,\"#46039f\"],[0.2222222222222222,\"#7201a8\"],[0.3333333333333333,\"#9c179e\"],[0.4444444444444444,\"#bd3786\"],[0.5555555555555556,\"#d8576b\"],[0.6666666666666666,\"#ed7953\"],[0.7777777777777778,\"#fb9f3a\"],[0.8888888888888888,\"#fdca26\"],[1.0,\"#f0f921\"]],\"type\":\"contour\"}],\"heatmapgl\":[{\"colorbar\":{\"outlinewidth\":0,\"ticks\":\"\"},\"colorscale\":[[0.0,\"#0d0887\"],[0.1111111111111111,\"#46039f\"],[0.2222222222222222,\"#7201a8\"],[0.3333333333333333,\"#9c179e\"],[0.4444444444444444,\"#bd3786\"],[0.5555555555555556,\"#d8576b\"],[0.6666666666666666,\"#ed7953\"],[0.7777777777777778,\"#fb9f3a\"],[0.8888888888888888,\"#fdca26\"],[1.0,\"#f0f921\"]],\"type\":\"heatmapgl\"}],\"heatmap\":[{\"colorbar\":{\"outlinewidth\":0,\"ticks\":\"\"},\"colorscale\":[[0.0,\"#0d0887\"],[0.1111111111111111,\"#46039f\"],[0.2222222222222222,\"#7201a8\"],[0.3333333333333333,\"#9c179e\"],[0.4444444444444444,\"#bd3786\"],[0.5555555555555556,\"#d8576b\"],[0.6666666666666666,\"#ed7953\"],[0.7777777777777778,\"#fb9f3a\"],[0.8888888888888888,\"#fdca26\"],[1.0,\"#f0f921\"]],\"type\":\"heatmap\"}],\"histogram2dcontour\":[{\"colorbar\":{\"outlinewidth\":0,\"ticks\":\"\"},\"colorscale\":[[0.0,\"#0d0887\"],[0.1111111111111111,\"#46039f\"],[0.2222222222222222,\"#7201a8\"],[0.3333333333333333,\"#9c179e\"],[0.4444444444444444,\"#bd3786\"],[0.5555555555555556,\"#d8576b\"],[0.6666666666666666,\"#ed7953\"],[0.7777777777777778,\"#fb9f3a\"],[0.8888888888888888,\"#fdca26\"],[1.0,\"#f0f921\"]],\"type\":\"histogram2dcontour\"}],\"histogram2d\":[{\"colorbar\":{\"outlinewidth\":0,\"ticks\":\"\"},\"colorscale\":[[0.0,\"#0d0887\"],[0.1111111111111111,\"#46039f\"],[0.2222222222222222,\"#7201a8\"],[0.3333333333333333,\"#9c179e\"],[0.4444444444444444,\"#bd3786\"],[0.5555555555555556,\"#d8576b\"],[0.6666666666666666,\"#ed7953\"],[0.7777777777777778,\"#fb9f3a\"],[0.8888888888888888,\"#fdca26\"],[1.0,\"#f0f921\"]],\"type\":\"histogram2d\"}],\"histogram\":[{\"marker\":{\"pattern\":{\"fillmode\":\"overlay\",\"size\":10,\"solidity\":0.2}},\"type\":\"histogram\"}],\"mesh3d\":[{\"colorbar\":{\"outlinewidth\":0,\"ticks\":\"\"},\"type\":\"mesh3d\"}],\"parcoords\":[{\"line\":{\"colorbar\":{\"outlinewidth\":0,\"ticks\":\"\"}},\"type\":\"parcoords\"}],\"pie\":[{\"automargin\":true,\"type\":\"pie\"}],\"scatter3d\":[{\"line\":{\"colorbar\":{\"outlinewidth\":0,\"ticks\":\"\"}},\"marker\":{\"colorbar\":{\"outlinewidth\":0,\"ticks\":\"\"}},\"type\":\"scatter3d\"}],\"scattercarpet\":[{\"marker\":{\"colorbar\":{\"outlinewidth\":0,\"ticks\":\"\"}},\"type\":\"scattercarpet\"}],\"scattergeo\":[{\"marker\":{\"colorbar\":{\"outlinewidth\":0,\"ticks\":\"\"}},\"type\":\"scattergeo\"}],\"scattergl\":[{\"marker\":{\"line\":{\"color\":\"#283442\"}},\"type\":\"scattergl\"}],\"scattermapbox\":[{\"marker\":{\"colorbar\":{\"outlinewidth\":0,\"ticks\":\"\"}},\"type\":\"scattermapbox\"}],\"scatterpolargl\":[{\"marker\":{\"colorbar\":{\"outlinewidth\":0,\"ticks\":\"\"}},\"type\":\"scatterpolargl\"}],\"scatterpolar\":[{\"marker\":{\"colorbar\":{\"outlinewidth\":0,\"ticks\":\"\"}},\"type\":\"scatterpolar\"}],\"scatter\":[{\"marker\":{\"line\":{\"color\":\"#283442\"}},\"type\":\"scatter\"}],\"scatterternary\":[{\"marker\":{\"colorbar\":{\"outlinewidth\":0,\"ticks\":\"\"}},\"type\":\"scatterternary\"}],\"surface\":[{\"colorbar\":{\"outlinewidth\":0,\"ticks\":\"\"},\"colorscale\":[[0.0,\"#0d0887\"],[0.1111111111111111,\"#46039f\"],[0.2222222222222222,\"#7201a8\"],[0.3333333333333333,\"#9c179e\"],[0.4444444444444444,\"#bd3786\"],[0.5555555555555556,\"#d8576b\"],[0.6666666666666666,\"#ed7953\"],[0.7777777777777778,\"#fb9f3a\"],[0.8888888888888888,\"#fdca26\"],[1.0,\"#f0f921\"]],\"type\":\"surface\"}],\"table\":[{\"cells\":{\"fill\":{\"color\":\"#506784\"},\"line\":{\"color\":\"rgb(17,17,17)\"}},\"header\":{\"fill\":{\"color\":\"#2a3f5f\"},\"line\":{\"color\":\"rgb(17,17,17)\"}},\"type\":\"table\"}]},\"layout\":{\"annotationdefaults\":{\"arrowcolor\":\"#f2f5fa\",\"arrowhead\":0,\"arrowwidth\":1},\"autotypenumbers\":\"strict\",\"coloraxis\":{\"colorbar\":{\"outlinewidth\":0,\"ticks\":\"\"}},\"colorscale\":{\"diverging\":[[0,\"#8e0152\"],[0.1,\"#c51b7d\"],[0.2,\"#de77ae\"],[0.3,\"#f1b6da\"],[0.4,\"#fde0ef\"],[0.5,\"#f7f7f7\"],[0.6,\"#e6f5d0\"],[0.7,\"#b8e186\"],[0.8,\"#7fbc41\"],[0.9,\"#4d9221\"],[1,\"#276419\"]],\"sequential\":[[0.0,\"#0d0887\"],[0.1111111111111111,\"#46039f\"],[0.2222222222222222,\"#7201a8\"],[0.3333333333333333,\"#9c179e\"],[0.4444444444444444,\"#bd3786\"],[0.5555555555555556,\"#d8576b\"],[0.6666666666666666,\"#ed7953\"],[0.7777777777777778,\"#fb9f3a\"],[0.8888888888888888,\"#fdca26\"],[1.0,\"#f0f921\"]],\"sequentialminus\":[[0.0,\"#0d0887\"],[0.1111111111111111,\"#46039f\"],[0.2222222222222222,\"#7201a8\"],[0.3333333333333333,\"#9c179e\"],[0.4444444444444444,\"#bd3786\"],[0.5555555555555556,\"#d8576b\"],[0.6666666666666666,\"#ed7953\"],[0.7777777777777778,\"#fb9f3a\"],[0.8888888888888888,\"#fdca26\"],[1.0,\"#f0f921\"]]},\"colorway\":[\"#636efa\",\"#EF553B\",\"#00cc96\",\"#ab63fa\",\"#FFA15A\",\"#19d3f3\",\"#FF6692\",\"#B6E880\",\"#FF97FF\",\"#FECB52\"],\"font\":{\"color\":\"#f2f5fa\"},\"geo\":{\"bgcolor\":\"rgb(17,17,17)\",\"lakecolor\":\"rgb(17,17,17)\",\"landcolor\":\"rgb(17,17,17)\",\"showlakes\":true,\"showland\":true,\"subunitcolor\":\"#506784\"},\"hoverlabel\":{\"align\":\"left\"},\"hovermode\":\"closest\",\"mapbox\":{\"style\":\"dark\"},\"paper_bgcolor\":\"rgb(17,17,17)\",\"plot_bgcolor\":\"rgb(17,17,17)\",\"polar\":{\"angularaxis\":{\"gridcolor\":\"#506784\",\"linecolor\":\"#506784\",\"ticks\":\"\"},\"bgcolor\":\"rgb(17,17,17)\",\"radialaxis\":{\"gridcolor\":\"#506784\",\"linecolor\":\"#506784\",\"ticks\":\"\"}},\"scene\":{\"xaxis\":{\"backgroundcolor\":\"rgb(17,17,17)\",\"gridcolor\":\"#506784\",\"gridwidth\":2,\"linecolor\":\"#506784\",\"showbackground\":true,\"ticks\":\"\",\"zerolinecolor\":\"#C8D4E3\"},\"yaxis\":{\"backgroundcolor\":\"rgb(17,17,17)\",\"gridcolor\":\"#506784\",\"gridwidth\":2,\"linecolor\":\"#506784\",\"showbackground\":true,\"ticks\":\"\",\"zerolinecolor\":\"#C8D4E3\"},\"zaxis\":{\"backgroundcolor\":\"rgb(17,17,17)\",\"gridcolor\":\"#506784\",\"gridwidth\":2,\"linecolor\":\"#506784\",\"showbackground\":true,\"ticks\":\"\",\"zerolinecolor\":\"#C8D4E3\"}},\"shapedefaults\":{\"line\":{\"color\":\"#f2f5fa\"}},\"sliderdefaults\":{\"bgcolor\":\"#C8D4E3\",\"bordercolor\":\"rgb(17,17,17)\",\"borderwidth\":1,\"tickwidth\":0},\"ternary\":{\"aaxis\":{\"gridcolor\":\"#506784\",\"linecolor\":\"#506784\",\"ticks\":\"\"},\"baxis\":{\"gridcolor\":\"#506784\",\"linecolor\":\"#506784\",\"ticks\":\"\"},\"bgcolor\":\"rgb(17,17,17)\",\"caxis\":{\"gridcolor\":\"#506784\",\"linecolor\":\"#506784\",\"ticks\":\"\"}},\"title\":{\"x\":0.05},\"updatemenudefaults\":{\"bgcolor\":\"#506784\",\"borderwidth\":0},\"xaxis\":{\"automargin\":true,\"gridcolor\":\"#283442\",\"linecolor\":\"#506784\",\"ticks\":\"\",\"title\":{\"standoff\":15},\"zerolinecolor\":\"#283442\",\"zerolinewidth\":2},\"yaxis\":{\"automargin\":true,\"gridcolor\":\"#283442\",\"linecolor\":\"#506784\",\"ticks\":\"\",\"title\":{\"standoff\":15},\"zerolinecolor\":\"#283442\",\"zerolinewidth\":2}}},\"title\":{\"text\":\"TV Shows duration distribution\"},\"width\":900,\"height\":600},                        {\"responsive\": true}                    ).then(function(){\n",
       "                            \n",
       "var gd = document.getElementById('62dd8295-9895-43fe-b7e1-a8f5c8682b6b');\n",
       "var x = new MutationObserver(function (mutations, observer) {{\n",
       "        var display = window.getComputedStyle(gd).display;\n",
       "        if (!display || display === 'none') {{\n",
       "            console.log([gd, 'removed!']);\n",
       "            Plotly.purge(gd);\n",
       "            observer.disconnect();\n",
       "        }}\n",
       "}});\n",
       "\n",
       "// Listen for the removal of the full notebook cells\n",
       "var notebookContainer = gd.closest('#notebook-container');\n",
       "if (notebookContainer) {{\n",
       "    x.observe(notebookContainer, {childList: true});\n",
       "}}\n",
       "\n",
       "// Listen for the clearing of the current output cell\n",
       "var outputEl = gd.closest('.output');\n",
       "if (outputEl) {{\n",
       "    x.observe(outputEl, {childList: true});\n",
       "}}\n",
       "\n",
       "                        })                };                });            </script>        </div>"
      ]
     },
     "metadata": {},
     "output_type": "display_data"
    }
   ],
   "source": [
    "x = tvshow_duration['seasons_no']\n",
    "hist_data = [x]\n",
    "group_labels = ['distplot'] # name of the dataset\n",
    "\n",
    "fig = ff.create_distplot(hist_data, group_labels)\n",
    "\n",
    "fig.update_layout(title=\"TV Shows duration distribution\", \n",
    "                  width = 900, height = 600, \n",
    "                  template= \"plotly_dark\")                    \n",
    "                   \n",
    "fig.show()"
   ]
  },
  {
   "cell_type": "markdown",
   "id": "8e6c6f95",
   "metadata": {
    "papermill": {
     "duration": 0.046617,
     "end_time": "2024-05-13T12:24:28.868683",
     "exception": false,
     "start_time": "2024-05-13T12:24:28.822066",
     "status": "completed"
    },
    "tags": []
   },
   "source": [
    "* 1-season project has significant domination among other TV shows"
   ]
  },
  {
   "cell_type": "markdown",
   "id": "bdfba983",
   "metadata": {
    "papermill": {
     "duration": 0.042835,
     "end_time": "2024-05-13T12:24:28.955261",
     "exception": false,
     "start_time": "2024-05-13T12:24:28.912426",
     "status": "completed"
    },
    "tags": []
   },
   "source": [
    "#### Genres"
   ]
  },
  {
   "cell_type": "code",
   "execution_count": 32,
   "id": "962e8291",
   "metadata": {
    "execution": {
     "iopub.execute_input": "2024-05-13T12:24:29.043019Z",
     "iopub.status.busy": "2024-05-13T12:24:29.042629Z",
     "iopub.status.idle": "2024-05-13T12:24:29.047126Z",
     "shell.execute_reply": "2024-05-13T12:24:29.046213Z"
    },
    "papermill": {
     "duration": 0.049984,
     "end_time": "2024-05-13T12:24:29.049179",
     "exception": false,
     "start_time": "2024-05-13T12:24:28.999195",
     "status": "completed"
    },
    "tags": []
   },
   "outputs": [],
   "source": [
    "genre = tv_shows['listed_in']"
   ]
  },
  {
   "cell_type": "code",
   "execution_count": 33,
   "id": "c55870ea",
   "metadata": {
    "execution": {
     "iopub.execute_input": "2024-05-13T12:24:29.139512Z",
     "iopub.status.busy": "2024-05-13T12:24:29.138767Z",
     "iopub.status.idle": "2024-05-13T12:24:29.150741Z",
     "shell.execute_reply": "2024-05-13T12:24:29.149884Z"
    },
    "papermill": {
     "duration": 0.059767,
     "end_time": "2024-05-13T12:24:29.153191",
     "exception": false,
     "start_time": "2024-05-13T12:24:29.093424",
     "status": "completed"
    },
    "tags": []
   },
   "outputs": [],
   "source": [
    "genre_list = []\n",
    "\n",
    "for i in genre:\n",
    "    i = i.split(',')\n",
    "    for j in i:\n",
    "        genre_list.append(' '.join(j.split())) # merging all values into one list and deleting extra spaces"
   ]
  },
  {
   "cell_type": "code",
   "execution_count": 34,
   "id": "7f968b7d",
   "metadata": {
    "execution": {
     "iopub.execute_input": "2024-05-13T12:24:29.240752Z",
     "iopub.status.busy": "2024-05-13T12:24:29.240040Z",
     "iopub.status.idle": "2024-05-13T12:24:29.246684Z",
     "shell.execute_reply": "2024-05-13T12:24:29.245366Z"
    },
    "papermill": {
     "duration": 0.053564,
     "end_time": "2024-05-13T12:24:29.249491",
     "exception": false,
     "start_time": "2024-05-13T12:24:29.195927",
     "status": "completed"
    },
    "tags": []
   },
   "outputs": [],
   "source": [
    "from collections import Counter\n",
    "\n",
    "genre = Counter(genre_list)\n",
    "genre = sorted(genre.items(), key= lambda item: genre[item[0]], reverse = True)\n",
    "genre = genre[:15]"
   ]
  },
  {
   "cell_type": "code",
   "execution_count": 35,
   "id": "331ede20",
   "metadata": {
    "execution": {
     "iopub.execute_input": "2024-05-13T12:24:29.338524Z",
     "iopub.status.busy": "2024-05-13T12:24:29.338106Z",
     "iopub.status.idle": "2024-05-13T12:24:29.344422Z",
     "shell.execute_reply": "2024-05-13T12:24:29.342630Z"
    },
    "papermill": {
     "duration": 0.054981,
     "end_time": "2024-05-13T12:24:29.347292",
     "exception": false,
     "start_time": "2024-05-13T12:24:29.292311",
     "status": "completed"
    },
    "tags": []
   },
   "outputs": [],
   "source": [
    "value = [value for value, value in genre] # extracting values\n",
    "name = [name for name, value in genre] # extracting keys"
   ]
  },
  {
   "cell_type": "code",
   "execution_count": 36,
   "id": "d805f08e",
   "metadata": {
    "execution": {
     "iopub.execute_input": "2024-05-13T12:24:29.435984Z",
     "iopub.status.busy": "2024-05-13T12:24:29.435568Z",
     "iopub.status.idle": "2024-05-13T12:24:29.500446Z",
     "shell.execute_reply": "2024-05-13T12:24:29.499204Z"
    },
    "papermill": {
     "duration": 0.112521,
     "end_time": "2024-05-13T12:24:29.503309",
     "exception": false,
     "start_time": "2024-05-13T12:24:29.390788",
     "status": "completed"
    },
    "tags": []
   },
   "outputs": [
    {
     "data": {
      "text/html": [
       "<div>                            <div id=\"93e16b01-07bc-45a2-8624-de3a7f3aa6bc\" class=\"plotly-graph-div\" style=\"height:500px; width:800px;\"></div>            <script type=\"text/javascript\">                require([\"plotly\"], function(Plotly) {                    window.PLOTLYENV=window.PLOTLYENV || {};                                    if (document.getElementById(\"93e16b01-07bc-45a2-8624-de3a7f3aa6bc\")) {                    Plotly.newPlot(                        \"93e16b01-07bc-45a2-8624-de3a7f3aa6bc\",                        [{\"domain\":{\"x\":[0.0,1.0],\"y\":[0.0,1.0]},\"hovertemplate\":\"label=%{label}\\u003cbr\\u003evalue=%{value}\\u003cextra\\u003e\\u003c\\u002fextra\\u003e\",\"labels\":[\"International TV Shows\",\"TV Dramas\",\"TV Comedies\",\"Crime TV Shows\",\"Kids' TV\",\"Docuseries\",\"Romantic TV Shows\",\"Reality TV\",\"British TV Shows\",\"Anime Series\",\"Spanish-Language TV Shows\",\"TV Action & Adventure\",\"Korean TV Shows\",\"TV Mysteries\",\"Science & Nature TV\"],\"legendgroup\":\"\",\"name\":\"\",\"showlegend\":true,\"values\":[1351,763,581,470,451,395,370,255,253,176,174,168,151,98,92],\"type\":\"pie\"}],                        {\"template\":{\"data\":{\"barpolar\":[{\"marker\":{\"line\":{\"color\":\"rgb(17,17,17)\",\"width\":0.5},\"pattern\":{\"fillmode\":\"overlay\",\"size\":10,\"solidity\":0.2}},\"type\":\"barpolar\"}],\"bar\":[{\"error_x\":{\"color\":\"#f2f5fa\"},\"error_y\":{\"color\":\"#f2f5fa\"},\"marker\":{\"line\":{\"color\":\"rgb(17,17,17)\",\"width\":0.5},\"pattern\":{\"fillmode\":\"overlay\",\"size\":10,\"solidity\":0.2}},\"type\":\"bar\"}],\"carpet\":[{\"aaxis\":{\"endlinecolor\":\"#A2B1C6\",\"gridcolor\":\"#506784\",\"linecolor\":\"#506784\",\"minorgridcolor\":\"#506784\",\"startlinecolor\":\"#A2B1C6\"},\"baxis\":{\"endlinecolor\":\"#A2B1C6\",\"gridcolor\":\"#506784\",\"linecolor\":\"#506784\",\"minorgridcolor\":\"#506784\",\"startlinecolor\":\"#A2B1C6\"},\"type\":\"carpet\"}],\"choropleth\":[{\"colorbar\":{\"outlinewidth\":0,\"ticks\":\"\"},\"type\":\"choropleth\"}],\"contourcarpet\":[{\"colorbar\":{\"outlinewidth\":0,\"ticks\":\"\"},\"type\":\"contourcarpet\"}],\"contour\":[{\"colorbar\":{\"outlinewidth\":0,\"ticks\":\"\"},\"colorscale\":[[0.0,\"#0d0887\"],[0.1111111111111111,\"#46039f\"],[0.2222222222222222,\"#7201a8\"],[0.3333333333333333,\"#9c179e\"],[0.4444444444444444,\"#bd3786\"],[0.5555555555555556,\"#d8576b\"],[0.6666666666666666,\"#ed7953\"],[0.7777777777777778,\"#fb9f3a\"],[0.8888888888888888,\"#fdca26\"],[1.0,\"#f0f921\"]],\"type\":\"contour\"}],\"heatmapgl\":[{\"colorbar\":{\"outlinewidth\":0,\"ticks\":\"\"},\"colorscale\":[[0.0,\"#0d0887\"],[0.1111111111111111,\"#46039f\"],[0.2222222222222222,\"#7201a8\"],[0.3333333333333333,\"#9c179e\"],[0.4444444444444444,\"#bd3786\"],[0.5555555555555556,\"#d8576b\"],[0.6666666666666666,\"#ed7953\"],[0.7777777777777778,\"#fb9f3a\"],[0.8888888888888888,\"#fdca26\"],[1.0,\"#f0f921\"]],\"type\":\"heatmapgl\"}],\"heatmap\":[{\"colorbar\":{\"outlinewidth\":0,\"ticks\":\"\"},\"colorscale\":[[0.0,\"#0d0887\"],[0.1111111111111111,\"#46039f\"],[0.2222222222222222,\"#7201a8\"],[0.3333333333333333,\"#9c179e\"],[0.4444444444444444,\"#bd3786\"],[0.5555555555555556,\"#d8576b\"],[0.6666666666666666,\"#ed7953\"],[0.7777777777777778,\"#fb9f3a\"],[0.8888888888888888,\"#fdca26\"],[1.0,\"#f0f921\"]],\"type\":\"heatmap\"}],\"histogram2dcontour\":[{\"colorbar\":{\"outlinewidth\":0,\"ticks\":\"\"},\"colorscale\":[[0.0,\"#0d0887\"],[0.1111111111111111,\"#46039f\"],[0.2222222222222222,\"#7201a8\"],[0.3333333333333333,\"#9c179e\"],[0.4444444444444444,\"#bd3786\"],[0.5555555555555556,\"#d8576b\"],[0.6666666666666666,\"#ed7953\"],[0.7777777777777778,\"#fb9f3a\"],[0.8888888888888888,\"#fdca26\"],[1.0,\"#f0f921\"]],\"type\":\"histogram2dcontour\"}],\"histogram2d\":[{\"colorbar\":{\"outlinewidth\":0,\"ticks\":\"\"},\"colorscale\":[[0.0,\"#0d0887\"],[0.1111111111111111,\"#46039f\"],[0.2222222222222222,\"#7201a8\"],[0.3333333333333333,\"#9c179e\"],[0.4444444444444444,\"#bd3786\"],[0.5555555555555556,\"#d8576b\"],[0.6666666666666666,\"#ed7953\"],[0.7777777777777778,\"#fb9f3a\"],[0.8888888888888888,\"#fdca26\"],[1.0,\"#f0f921\"]],\"type\":\"histogram2d\"}],\"histogram\":[{\"marker\":{\"pattern\":{\"fillmode\":\"overlay\",\"size\":10,\"solidity\":0.2}},\"type\":\"histogram\"}],\"mesh3d\":[{\"colorbar\":{\"outlinewidth\":0,\"ticks\":\"\"},\"type\":\"mesh3d\"}],\"parcoords\":[{\"line\":{\"colorbar\":{\"outlinewidth\":0,\"ticks\":\"\"}},\"type\":\"parcoords\"}],\"pie\":[{\"automargin\":true,\"type\":\"pie\"}],\"scatter3d\":[{\"line\":{\"colorbar\":{\"outlinewidth\":0,\"ticks\":\"\"}},\"marker\":{\"colorbar\":{\"outlinewidth\":0,\"ticks\":\"\"}},\"type\":\"scatter3d\"}],\"scattercarpet\":[{\"marker\":{\"colorbar\":{\"outlinewidth\":0,\"ticks\":\"\"}},\"type\":\"scattercarpet\"}],\"scattergeo\":[{\"marker\":{\"colorbar\":{\"outlinewidth\":0,\"ticks\":\"\"}},\"type\":\"scattergeo\"}],\"scattergl\":[{\"marker\":{\"line\":{\"color\":\"#283442\"}},\"type\":\"scattergl\"}],\"scattermapbox\":[{\"marker\":{\"colorbar\":{\"outlinewidth\":0,\"ticks\":\"\"}},\"type\":\"scattermapbox\"}],\"scatterpolargl\":[{\"marker\":{\"colorbar\":{\"outlinewidth\":0,\"ticks\":\"\"}},\"type\":\"scatterpolargl\"}],\"scatterpolar\":[{\"marker\":{\"colorbar\":{\"outlinewidth\":0,\"ticks\":\"\"}},\"type\":\"scatterpolar\"}],\"scatter\":[{\"marker\":{\"line\":{\"color\":\"#283442\"}},\"type\":\"scatter\"}],\"scatterternary\":[{\"marker\":{\"colorbar\":{\"outlinewidth\":0,\"ticks\":\"\"}},\"type\":\"scatterternary\"}],\"surface\":[{\"colorbar\":{\"outlinewidth\":0,\"ticks\":\"\"},\"colorscale\":[[0.0,\"#0d0887\"],[0.1111111111111111,\"#46039f\"],[0.2222222222222222,\"#7201a8\"],[0.3333333333333333,\"#9c179e\"],[0.4444444444444444,\"#bd3786\"],[0.5555555555555556,\"#d8576b\"],[0.6666666666666666,\"#ed7953\"],[0.7777777777777778,\"#fb9f3a\"],[0.8888888888888888,\"#fdca26\"],[1.0,\"#f0f921\"]],\"type\":\"surface\"}],\"table\":[{\"cells\":{\"fill\":{\"color\":\"#506784\"},\"line\":{\"color\":\"rgb(17,17,17)\"}},\"header\":{\"fill\":{\"color\":\"#2a3f5f\"},\"line\":{\"color\":\"rgb(17,17,17)\"}},\"type\":\"table\"}]},\"layout\":{\"annotationdefaults\":{\"arrowcolor\":\"#f2f5fa\",\"arrowhead\":0,\"arrowwidth\":1},\"autotypenumbers\":\"strict\",\"coloraxis\":{\"colorbar\":{\"outlinewidth\":0,\"ticks\":\"\"}},\"colorscale\":{\"diverging\":[[0,\"#8e0152\"],[0.1,\"#c51b7d\"],[0.2,\"#de77ae\"],[0.3,\"#f1b6da\"],[0.4,\"#fde0ef\"],[0.5,\"#f7f7f7\"],[0.6,\"#e6f5d0\"],[0.7,\"#b8e186\"],[0.8,\"#7fbc41\"],[0.9,\"#4d9221\"],[1,\"#276419\"]],\"sequential\":[[0.0,\"#0d0887\"],[0.1111111111111111,\"#46039f\"],[0.2222222222222222,\"#7201a8\"],[0.3333333333333333,\"#9c179e\"],[0.4444444444444444,\"#bd3786\"],[0.5555555555555556,\"#d8576b\"],[0.6666666666666666,\"#ed7953\"],[0.7777777777777778,\"#fb9f3a\"],[0.8888888888888888,\"#fdca26\"],[1.0,\"#f0f921\"]],\"sequentialminus\":[[0.0,\"#0d0887\"],[0.1111111111111111,\"#46039f\"],[0.2222222222222222,\"#7201a8\"],[0.3333333333333333,\"#9c179e\"],[0.4444444444444444,\"#bd3786\"],[0.5555555555555556,\"#d8576b\"],[0.6666666666666666,\"#ed7953\"],[0.7777777777777778,\"#fb9f3a\"],[0.8888888888888888,\"#fdca26\"],[1.0,\"#f0f921\"]]},\"colorway\":[\"#636efa\",\"#EF553B\",\"#00cc96\",\"#ab63fa\",\"#FFA15A\",\"#19d3f3\",\"#FF6692\",\"#B6E880\",\"#FF97FF\",\"#FECB52\"],\"font\":{\"color\":\"#f2f5fa\"},\"geo\":{\"bgcolor\":\"rgb(17,17,17)\",\"lakecolor\":\"rgb(17,17,17)\",\"landcolor\":\"rgb(17,17,17)\",\"showlakes\":true,\"showland\":true,\"subunitcolor\":\"#506784\"},\"hoverlabel\":{\"align\":\"left\"},\"hovermode\":\"closest\",\"mapbox\":{\"style\":\"dark\"},\"paper_bgcolor\":\"rgb(17,17,17)\",\"plot_bgcolor\":\"rgb(17,17,17)\",\"polar\":{\"angularaxis\":{\"gridcolor\":\"#506784\",\"linecolor\":\"#506784\",\"ticks\":\"\"},\"bgcolor\":\"rgb(17,17,17)\",\"radialaxis\":{\"gridcolor\":\"#506784\",\"linecolor\":\"#506784\",\"ticks\":\"\"}},\"scene\":{\"xaxis\":{\"backgroundcolor\":\"rgb(17,17,17)\",\"gridcolor\":\"#506784\",\"gridwidth\":2,\"linecolor\":\"#506784\",\"showbackground\":true,\"ticks\":\"\",\"zerolinecolor\":\"#C8D4E3\"},\"yaxis\":{\"backgroundcolor\":\"rgb(17,17,17)\",\"gridcolor\":\"#506784\",\"gridwidth\":2,\"linecolor\":\"#506784\",\"showbackground\":true,\"ticks\":\"\",\"zerolinecolor\":\"#C8D4E3\"},\"zaxis\":{\"backgroundcolor\":\"rgb(17,17,17)\",\"gridcolor\":\"#506784\",\"gridwidth\":2,\"linecolor\":\"#506784\",\"showbackground\":true,\"ticks\":\"\",\"zerolinecolor\":\"#C8D4E3\"}},\"shapedefaults\":{\"line\":{\"color\":\"#f2f5fa\"}},\"sliderdefaults\":{\"bgcolor\":\"#C8D4E3\",\"bordercolor\":\"rgb(17,17,17)\",\"borderwidth\":1,\"tickwidth\":0},\"ternary\":{\"aaxis\":{\"gridcolor\":\"#506784\",\"linecolor\":\"#506784\",\"ticks\":\"\"},\"baxis\":{\"gridcolor\":\"#506784\",\"linecolor\":\"#506784\",\"ticks\":\"\"},\"bgcolor\":\"rgb(17,17,17)\",\"caxis\":{\"gridcolor\":\"#506784\",\"linecolor\":\"#506784\",\"ticks\":\"\"}},\"title\":{\"x\":0.05},\"updatemenudefaults\":{\"bgcolor\":\"#506784\",\"borderwidth\":0},\"xaxis\":{\"automargin\":true,\"gridcolor\":\"#283442\",\"linecolor\":\"#506784\",\"ticks\":\"\",\"title\":{\"standoff\":15},\"zerolinecolor\":\"#283442\",\"zerolinewidth\":2},\"yaxis\":{\"automargin\":true,\"gridcolor\":\"#283442\",\"linecolor\":\"#506784\",\"ticks\":\"\",\"title\":{\"standoff\":15},\"zerolinecolor\":\"#283442\",\"zerolinewidth\":2}}},\"legend\":{\"tracegroupgap\":0},\"title\":{\"text\":\"Top 15 genres\"},\"piecolorway\":[\"#D62728\",\"#9467BD\",\"#E377C2\",\"#1F77B4\",\"#FF7F0E\",\"#2CA02C\"],\"height\":500,\"width\":800},                        {\"responsive\": true}                    ).then(function(){\n",
       "                            \n",
       "var gd = document.getElementById('93e16b01-07bc-45a2-8624-de3a7f3aa6bc');\n",
       "var x = new MutationObserver(function (mutations, observer) {{\n",
       "        var display = window.getComputedStyle(gd).display;\n",
       "        if (!display || display === 'none') {{\n",
       "            console.log([gd, 'removed!']);\n",
       "            Plotly.purge(gd);\n",
       "            observer.disconnect();\n",
       "        }}\n",
       "}});\n",
       "\n",
       "// Listen for the removal of the full notebook cells\n",
       "var notebookContainer = gd.closest('#notebook-container');\n",
       "if (notebookContainer) {{\n",
       "    x.observe(notebookContainer, {childList: true});\n",
       "}}\n",
       "\n",
       "// Listen for the clearing of the current output cell\n",
       "var outputEl = gd.closest('.output');\n",
       "if (outputEl) {{\n",
       "    x.observe(outputEl, {childList: true});\n",
       "}}\n",
       "\n",
       "                        })                };                });            </script>        </div>"
      ]
     },
     "metadata": {},
     "output_type": "display_data"
    }
   ],
   "source": [
    "chart_colors = ['#D62728', '#9467BD', '#E377C2', '#1F77B4', '#FF7F0E', '#2CA02C'] \n",
    "\n",
    "fig = px.pie(values = value, names = name,\n",
    "             template= \"plotly_dark\", \n",
    "             title = 'Top 15 genres', \n",
    "             width = 800, height = 500, \n",
    "             color_discrete_sequence=  chart_colors)\n",
    "\n",
    "\n",
    "fig.show()"
   ]
  },
  {
   "cell_type": "markdown",
   "id": "372c10c1",
   "metadata": {
    "papermill": {
     "duration": 0.042615,
     "end_time": "2024-05-13T12:24:29.589918",
     "exception": false,
     "start_time": "2024-05-13T12:24:29.547303",
     "status": "completed"
    },
    "tags": []
   },
   "source": [
    "#### Directors"
   ]
  },
  {
   "cell_type": "code",
   "execution_count": 37,
   "id": "2bdabff4",
   "metadata": {
    "execution": {
     "iopub.execute_input": "2024-05-13T12:24:29.677578Z",
     "iopub.status.busy": "2024-05-13T12:24:29.677183Z",
     "iopub.status.idle": "2024-05-13T12:24:29.683212Z",
     "shell.execute_reply": "2024-05-13T12:24:29.682088Z"
    },
    "papermill": {
     "duration": 0.053286,
     "end_time": "2024-05-13T12:24:29.685665",
     "exception": false,
     "start_time": "2024-05-13T12:24:29.632379",
     "status": "completed"
    },
    "tags": []
   },
   "outputs": [],
   "source": [
    "d = tv_shows['director']\n",
    "d = d.dropna()"
   ]
  },
  {
   "cell_type": "code",
   "execution_count": 38,
   "id": "5a19eeb1",
   "metadata": {
    "execution": {
     "iopub.execute_input": "2024-05-13T12:24:29.776095Z",
     "iopub.status.busy": "2024-05-13T12:24:29.775665Z",
     "iopub.status.idle": "2024-05-13T12:24:29.783551Z",
     "shell.execute_reply": "2024-05-13T12:24:29.781601Z"
    },
    "papermill": {
     "duration": 0.056467,
     "end_time": "2024-05-13T12:24:29.786298",
     "exception": false,
     "start_time": "2024-05-13T12:24:29.729831",
     "status": "completed"
    },
    "tags": []
   },
   "outputs": [],
   "source": [
    "director = []\n",
    "\n",
    "for i in d:\n",
    "    i = i.split(',')\n",
    "    for j in i:\n",
    "        director.append(' '.join(j.split()))"
   ]
  },
  {
   "cell_type": "code",
   "execution_count": 39,
   "id": "238efe06",
   "metadata": {
    "execution": {
     "iopub.execute_input": "2024-05-13T12:24:29.879897Z",
     "iopub.status.busy": "2024-05-13T12:24:29.878797Z",
     "iopub.status.idle": "2024-05-13T12:24:29.883790Z",
     "shell.execute_reply": "2024-05-13T12:24:29.882912Z"
    },
    "papermill": {
     "duration": 0.055342,
     "end_time": "2024-05-13T12:24:29.886059",
     "exception": false,
     "start_time": "2024-05-13T12:24:29.830717",
     "status": "completed"
    },
    "tags": []
   },
   "outputs": [],
   "source": [
    "director = Counter(director)"
   ]
  },
  {
   "cell_type": "code",
   "execution_count": 40,
   "id": "1c366ec4",
   "metadata": {
    "execution": {
     "iopub.execute_input": "2024-05-13T12:24:29.975104Z",
     "iopub.status.busy": "2024-05-13T12:24:29.973871Z",
     "iopub.status.idle": "2024-05-13T12:24:29.980312Z",
     "shell.execute_reply": "2024-05-13T12:24:29.979337Z"
    },
    "papermill": {
     "duration": 0.054485,
     "end_time": "2024-05-13T12:24:29.983127",
     "exception": false,
     "start_time": "2024-05-13T12:24:29.928642",
     "status": "completed"
    },
    "tags": []
   },
   "outputs": [],
   "source": [
    "director = sorted(director.items(), key = lambda item: director[item[0]], reverse = True)[:11]"
   ]
  },
  {
   "cell_type": "code",
   "execution_count": 41,
   "id": "84e5bc46",
   "metadata": {
    "execution": {
     "iopub.execute_input": "2024-05-13T12:24:30.076265Z",
     "iopub.status.busy": "2024-05-13T12:24:30.075214Z",
     "iopub.status.idle": "2024-05-13T12:24:30.082248Z",
     "shell.execute_reply": "2024-05-13T12:24:30.081393Z"
    },
    "papermill": {
     "duration": 0.057094,
     "end_time": "2024-05-13T12:24:30.084472",
     "exception": false,
     "start_time": "2024-05-13T12:24:30.027378",
     "status": "completed"
    },
    "tags": []
   },
   "outputs": [
    {
     "data": {
      "text/plain": [
       "[('Alastair Fothergill', 3),\n",
       " ('Ken Burns', 3),\n",
       " ('Gautham Vasudev Menon', 2),\n",
       " ('Hsu Fu-chun', 2),\n",
       " ('Rob Seidenglanz', 2),\n",
       " ('Joe Berlinger', 2),\n",
       " ('Jung-ah Im', 2),\n",
       " ('Lynn Novick', 2),\n",
       " ('Shin Won-ho', 2),\n",
       " ('Stan Lathan', 2),\n",
       " ('Iginio Straffi', 2)]"
      ]
     },
     "execution_count": 41,
     "metadata": {},
     "output_type": "execute_result"
    }
   ],
   "source": [
    "director"
   ]
  },
  {
   "cell_type": "code",
   "execution_count": 42,
   "id": "b8ae863a",
   "metadata": {
    "execution": {
     "iopub.execute_input": "2024-05-13T12:24:30.174520Z",
     "iopub.status.busy": "2024-05-13T12:24:30.173845Z",
     "iopub.status.idle": "2024-05-13T12:24:30.180247Z",
     "shell.execute_reply": "2024-05-13T12:24:30.178697Z"
    },
    "papermill": {
     "duration": 0.054838,
     "end_time": "2024-05-13T12:24:30.182786",
     "exception": false,
     "start_time": "2024-05-13T12:24:30.127948",
     "status": "completed"
    },
    "tags": []
   },
   "outputs": [],
   "source": [
    "name = [name for name, value in director]\n",
    "value = [value for name, value in director]"
   ]
  },
  {
   "cell_type": "code",
   "execution_count": 43,
   "id": "545c9fd3",
   "metadata": {
    "execution": {
     "iopub.execute_input": "2024-05-13T12:24:30.276062Z",
     "iopub.status.busy": "2024-05-13T12:24:30.275585Z",
     "iopub.status.idle": "2024-05-13T12:24:30.357531Z",
     "shell.execute_reply": "2024-05-13T12:24:30.356169Z"
    },
    "papermill": {
     "duration": 0.132922,
     "end_time": "2024-05-13T12:24:30.360494",
     "exception": false,
     "start_time": "2024-05-13T12:24:30.227572",
     "status": "completed"
    },
    "tags": []
   },
   "outputs": [
    {
     "data": {
      "text/html": [
       "<div>                            <div id=\"b6eaaf97-4632-40d8-b398-b574e4af85b3\" class=\"plotly-graph-div\" style=\"height:500px; width:800px;\"></div>            <script type=\"text/javascript\">                require([\"plotly\"], function(Plotly) {                    window.PLOTLYENV=window.PLOTLYENV || {};                                    if (document.getElementById(\"b6eaaf97-4632-40d8-b398-b574e4af85b3\")) {                    Plotly.newPlot(                        \"b6eaaf97-4632-40d8-b398-b574e4af85b3\",                        [{\"alignmentgroup\":\"True\",\"hovertemplate\":\"x=%{x}\\u003cbr\\u003ey=%{y}\\u003cextra\\u003e\\u003c\\u002fextra\\u003e\",\"legendgroup\":\"\",\"marker\":{\"color\":\"#033695\",\"pattern\":{\"shape\":\"\"}},\"name\":\"\",\"offsetgroup\":\"\",\"orientation\":\"v\",\"showlegend\":false,\"textposition\":\"auto\",\"texttemplate\":\"%{y}\",\"x\":[\"Alastair Fothergill\",\"Ken Burns\",\"Gautham Vasudev Menon\",\"Hsu Fu-chun\",\"Rob Seidenglanz\",\"Joe Berlinger\",\"Jung-ah Im\",\"Lynn Novick\",\"Shin Won-ho\",\"Stan Lathan\",\"Iginio Straffi\"],\"xaxis\":\"x\",\"y\":[3,3,2,2,2,2,2,2,2,2,2],\"yaxis\":\"y\",\"type\":\"bar\"}],                        {\"template\":{\"data\":{\"barpolar\":[{\"marker\":{\"line\":{\"color\":\"rgb(17,17,17)\",\"width\":0.5},\"pattern\":{\"fillmode\":\"overlay\",\"size\":10,\"solidity\":0.2}},\"type\":\"barpolar\"}],\"bar\":[{\"error_x\":{\"color\":\"#f2f5fa\"},\"error_y\":{\"color\":\"#f2f5fa\"},\"marker\":{\"line\":{\"color\":\"rgb(17,17,17)\",\"width\":0.5},\"pattern\":{\"fillmode\":\"overlay\",\"size\":10,\"solidity\":0.2}},\"type\":\"bar\"}],\"carpet\":[{\"aaxis\":{\"endlinecolor\":\"#A2B1C6\",\"gridcolor\":\"#506784\",\"linecolor\":\"#506784\",\"minorgridcolor\":\"#506784\",\"startlinecolor\":\"#A2B1C6\"},\"baxis\":{\"endlinecolor\":\"#A2B1C6\",\"gridcolor\":\"#506784\",\"linecolor\":\"#506784\",\"minorgridcolor\":\"#506784\",\"startlinecolor\":\"#A2B1C6\"},\"type\":\"carpet\"}],\"choropleth\":[{\"colorbar\":{\"outlinewidth\":0,\"ticks\":\"\"},\"type\":\"choropleth\"}],\"contourcarpet\":[{\"colorbar\":{\"outlinewidth\":0,\"ticks\":\"\"},\"type\":\"contourcarpet\"}],\"contour\":[{\"colorbar\":{\"outlinewidth\":0,\"ticks\":\"\"},\"colorscale\":[[0.0,\"#0d0887\"],[0.1111111111111111,\"#46039f\"],[0.2222222222222222,\"#7201a8\"],[0.3333333333333333,\"#9c179e\"],[0.4444444444444444,\"#bd3786\"],[0.5555555555555556,\"#d8576b\"],[0.6666666666666666,\"#ed7953\"],[0.7777777777777778,\"#fb9f3a\"],[0.8888888888888888,\"#fdca26\"],[1.0,\"#f0f921\"]],\"type\":\"contour\"}],\"heatmapgl\":[{\"colorbar\":{\"outlinewidth\":0,\"ticks\":\"\"},\"colorscale\":[[0.0,\"#0d0887\"],[0.1111111111111111,\"#46039f\"],[0.2222222222222222,\"#7201a8\"],[0.3333333333333333,\"#9c179e\"],[0.4444444444444444,\"#bd3786\"],[0.5555555555555556,\"#d8576b\"],[0.6666666666666666,\"#ed7953\"],[0.7777777777777778,\"#fb9f3a\"],[0.8888888888888888,\"#fdca26\"],[1.0,\"#f0f921\"]],\"type\":\"heatmapgl\"}],\"heatmap\":[{\"colorbar\":{\"outlinewidth\":0,\"ticks\":\"\"},\"colorscale\":[[0.0,\"#0d0887\"],[0.1111111111111111,\"#46039f\"],[0.2222222222222222,\"#7201a8\"],[0.3333333333333333,\"#9c179e\"],[0.4444444444444444,\"#bd3786\"],[0.5555555555555556,\"#d8576b\"],[0.6666666666666666,\"#ed7953\"],[0.7777777777777778,\"#fb9f3a\"],[0.8888888888888888,\"#fdca26\"],[1.0,\"#f0f921\"]],\"type\":\"heatmap\"}],\"histogram2dcontour\":[{\"colorbar\":{\"outlinewidth\":0,\"ticks\":\"\"},\"colorscale\":[[0.0,\"#0d0887\"],[0.1111111111111111,\"#46039f\"],[0.2222222222222222,\"#7201a8\"],[0.3333333333333333,\"#9c179e\"],[0.4444444444444444,\"#bd3786\"],[0.5555555555555556,\"#d8576b\"],[0.6666666666666666,\"#ed7953\"],[0.7777777777777778,\"#fb9f3a\"],[0.8888888888888888,\"#fdca26\"],[1.0,\"#f0f921\"]],\"type\":\"histogram2dcontour\"}],\"histogram2d\":[{\"colorbar\":{\"outlinewidth\":0,\"ticks\":\"\"},\"colorscale\":[[0.0,\"#0d0887\"],[0.1111111111111111,\"#46039f\"],[0.2222222222222222,\"#7201a8\"],[0.3333333333333333,\"#9c179e\"],[0.4444444444444444,\"#bd3786\"],[0.5555555555555556,\"#d8576b\"],[0.6666666666666666,\"#ed7953\"],[0.7777777777777778,\"#fb9f3a\"],[0.8888888888888888,\"#fdca26\"],[1.0,\"#f0f921\"]],\"type\":\"histogram2d\"}],\"histogram\":[{\"marker\":{\"pattern\":{\"fillmode\":\"overlay\",\"size\":10,\"solidity\":0.2}},\"type\":\"histogram\"}],\"mesh3d\":[{\"colorbar\":{\"outlinewidth\":0,\"ticks\":\"\"},\"type\":\"mesh3d\"}],\"parcoords\":[{\"line\":{\"colorbar\":{\"outlinewidth\":0,\"ticks\":\"\"}},\"type\":\"parcoords\"}],\"pie\":[{\"automargin\":true,\"type\":\"pie\"}],\"scatter3d\":[{\"line\":{\"colorbar\":{\"outlinewidth\":0,\"ticks\":\"\"}},\"marker\":{\"colorbar\":{\"outlinewidth\":0,\"ticks\":\"\"}},\"type\":\"scatter3d\"}],\"scattercarpet\":[{\"marker\":{\"colorbar\":{\"outlinewidth\":0,\"ticks\":\"\"}},\"type\":\"scattercarpet\"}],\"scattergeo\":[{\"marker\":{\"colorbar\":{\"outlinewidth\":0,\"ticks\":\"\"}},\"type\":\"scattergeo\"}],\"scattergl\":[{\"marker\":{\"line\":{\"color\":\"#283442\"}},\"type\":\"scattergl\"}],\"scattermapbox\":[{\"marker\":{\"colorbar\":{\"outlinewidth\":0,\"ticks\":\"\"}},\"type\":\"scattermapbox\"}],\"scatterpolargl\":[{\"marker\":{\"colorbar\":{\"outlinewidth\":0,\"ticks\":\"\"}},\"type\":\"scatterpolargl\"}],\"scatterpolar\":[{\"marker\":{\"colorbar\":{\"outlinewidth\":0,\"ticks\":\"\"}},\"type\":\"scatterpolar\"}],\"scatter\":[{\"marker\":{\"line\":{\"color\":\"#283442\"}},\"type\":\"scatter\"}],\"scatterternary\":[{\"marker\":{\"colorbar\":{\"outlinewidth\":0,\"ticks\":\"\"}},\"type\":\"scatterternary\"}],\"surface\":[{\"colorbar\":{\"outlinewidth\":0,\"ticks\":\"\"},\"colorscale\":[[0.0,\"#0d0887\"],[0.1111111111111111,\"#46039f\"],[0.2222222222222222,\"#7201a8\"],[0.3333333333333333,\"#9c179e\"],[0.4444444444444444,\"#bd3786\"],[0.5555555555555556,\"#d8576b\"],[0.6666666666666666,\"#ed7953\"],[0.7777777777777778,\"#fb9f3a\"],[0.8888888888888888,\"#fdca26\"],[1.0,\"#f0f921\"]],\"type\":\"surface\"}],\"table\":[{\"cells\":{\"fill\":{\"color\":\"#506784\"},\"line\":{\"color\":\"rgb(17,17,17)\"}},\"header\":{\"fill\":{\"color\":\"#2a3f5f\"},\"line\":{\"color\":\"rgb(17,17,17)\"}},\"type\":\"table\"}]},\"layout\":{\"annotationdefaults\":{\"arrowcolor\":\"#f2f5fa\",\"arrowhead\":0,\"arrowwidth\":1},\"autotypenumbers\":\"strict\",\"coloraxis\":{\"colorbar\":{\"outlinewidth\":0,\"ticks\":\"\"}},\"colorscale\":{\"diverging\":[[0,\"#8e0152\"],[0.1,\"#c51b7d\"],[0.2,\"#de77ae\"],[0.3,\"#f1b6da\"],[0.4,\"#fde0ef\"],[0.5,\"#f7f7f7\"],[0.6,\"#e6f5d0\"],[0.7,\"#b8e186\"],[0.8,\"#7fbc41\"],[0.9,\"#4d9221\"],[1,\"#276419\"]],\"sequential\":[[0.0,\"#0d0887\"],[0.1111111111111111,\"#46039f\"],[0.2222222222222222,\"#7201a8\"],[0.3333333333333333,\"#9c179e\"],[0.4444444444444444,\"#bd3786\"],[0.5555555555555556,\"#d8576b\"],[0.6666666666666666,\"#ed7953\"],[0.7777777777777778,\"#fb9f3a\"],[0.8888888888888888,\"#fdca26\"],[1.0,\"#f0f921\"]],\"sequentialminus\":[[0.0,\"#0d0887\"],[0.1111111111111111,\"#46039f\"],[0.2222222222222222,\"#7201a8\"],[0.3333333333333333,\"#9c179e\"],[0.4444444444444444,\"#bd3786\"],[0.5555555555555556,\"#d8576b\"],[0.6666666666666666,\"#ed7953\"],[0.7777777777777778,\"#fb9f3a\"],[0.8888888888888888,\"#fdca26\"],[1.0,\"#f0f921\"]]},\"colorway\":[\"#636efa\",\"#EF553B\",\"#00cc96\",\"#ab63fa\",\"#FFA15A\",\"#19d3f3\",\"#FF6692\",\"#B6E880\",\"#FF97FF\",\"#FECB52\"],\"font\":{\"color\":\"#f2f5fa\"},\"geo\":{\"bgcolor\":\"rgb(17,17,17)\",\"lakecolor\":\"rgb(17,17,17)\",\"landcolor\":\"rgb(17,17,17)\",\"showlakes\":true,\"showland\":true,\"subunitcolor\":\"#506784\"},\"hoverlabel\":{\"align\":\"left\"},\"hovermode\":\"closest\",\"mapbox\":{\"style\":\"dark\"},\"paper_bgcolor\":\"rgb(17,17,17)\",\"plot_bgcolor\":\"rgb(17,17,17)\",\"polar\":{\"angularaxis\":{\"gridcolor\":\"#506784\",\"linecolor\":\"#506784\",\"ticks\":\"\"},\"bgcolor\":\"rgb(17,17,17)\",\"radialaxis\":{\"gridcolor\":\"#506784\",\"linecolor\":\"#506784\",\"ticks\":\"\"}},\"scene\":{\"xaxis\":{\"backgroundcolor\":\"rgb(17,17,17)\",\"gridcolor\":\"#506784\",\"gridwidth\":2,\"linecolor\":\"#506784\",\"showbackground\":true,\"ticks\":\"\",\"zerolinecolor\":\"#C8D4E3\"},\"yaxis\":{\"backgroundcolor\":\"rgb(17,17,17)\",\"gridcolor\":\"#506784\",\"gridwidth\":2,\"linecolor\":\"#506784\",\"showbackground\":true,\"ticks\":\"\",\"zerolinecolor\":\"#C8D4E3\"},\"zaxis\":{\"backgroundcolor\":\"rgb(17,17,17)\",\"gridcolor\":\"#506784\",\"gridwidth\":2,\"linecolor\":\"#506784\",\"showbackground\":true,\"ticks\":\"\",\"zerolinecolor\":\"#C8D4E3\"}},\"shapedefaults\":{\"line\":{\"color\":\"#f2f5fa\"}},\"sliderdefaults\":{\"bgcolor\":\"#C8D4E3\",\"bordercolor\":\"rgb(17,17,17)\",\"borderwidth\":1,\"tickwidth\":0},\"ternary\":{\"aaxis\":{\"gridcolor\":\"#506784\",\"linecolor\":\"#506784\",\"ticks\":\"\"},\"baxis\":{\"gridcolor\":\"#506784\",\"linecolor\":\"#506784\",\"ticks\":\"\"},\"bgcolor\":\"rgb(17,17,17)\",\"caxis\":{\"gridcolor\":\"#506784\",\"linecolor\":\"#506784\",\"ticks\":\"\"}},\"title\":{\"x\":0.05},\"updatemenudefaults\":{\"bgcolor\":\"#506784\",\"borderwidth\":0},\"xaxis\":{\"automargin\":true,\"gridcolor\":\"#283442\",\"linecolor\":\"#506784\",\"ticks\":\"\",\"title\":{\"standoff\":15},\"zerolinecolor\":\"#283442\",\"zerolinewidth\":2},\"yaxis\":{\"automargin\":true,\"gridcolor\":\"#283442\",\"linecolor\":\"#506784\",\"ticks\":\"\",\"title\":{\"standoff\":15},\"zerolinecolor\":\"#283442\",\"zerolinewidth\":2}}},\"xaxis\":{\"anchor\":\"y\",\"domain\":[0.0,1.0],\"title\":{\"text\":\"director\"}},\"yaxis\":{\"anchor\":\"x\",\"domain\":[0.0,1.0],\"title\":{\"text\":\"TvShows_number\"}},\"legend\":{\"tracegroupgap\":0},\"title\":{\"text\":\"Top-11 directors by produced tv shows q-ty\"},\"barmode\":\"relative\",\"height\":500,\"width\":800},                        {\"responsive\": true}                    ).then(function(){\n",
       "                            \n",
       "var gd = document.getElementById('b6eaaf97-4632-40d8-b398-b574e4af85b3');\n",
       "var x = new MutationObserver(function (mutations, observer) {{\n",
       "        var display = window.getComputedStyle(gd).display;\n",
       "        if (!display || display === 'none') {{\n",
       "            console.log([gd, 'removed!']);\n",
       "            Plotly.purge(gd);\n",
       "            observer.disconnect();\n",
       "        }}\n",
       "}});\n",
       "\n",
       "// Listen for the removal of the full notebook cells\n",
       "var notebookContainer = gd.closest('#notebook-container');\n",
       "if (notebookContainer) {{\n",
       "    x.observe(notebookContainer, {childList: true});\n",
       "}}\n",
       "\n",
       "// Listen for the clearing of the current output cell\n",
       "var outputEl = gd.closest('.output');\n",
       "if (outputEl) {{\n",
       "    x.observe(outputEl, {childList: true});\n",
       "}}\n",
       "\n",
       "                        })                };                });            </script>        </div>"
      ]
     },
     "metadata": {},
     "output_type": "display_data"
    }
   ],
   "source": [
    "fig = px.bar(x = name, y = value, \n",
    "             template= \"plotly_dark\",\n",
    "             color_discrete_sequence= ['#033695'],\n",
    "             width = 800, height = 500,\n",
    "             text_auto=True,\n",
    "             title = 'Top-11 directors by produced tv shows q-ty'\n",
    "            )\n",
    "\n",
    "fig.update_layout(\n",
    "    xaxis_title=dict(text=\"director\"), \n",
    "    yaxis_title=dict(text=\"TvShows_number\")\n",
    ")\n",
    "\n",
    "fig.show()"
   ]
  },
  {
   "cell_type": "markdown",
   "id": "4bf43451",
   "metadata": {
    "papermill": {
     "duration": 0.047936,
     "end_time": "2024-05-13T12:24:30.457281",
     "exception": false,
     "start_time": "2024-05-13T12:24:30.409345",
     "status": "completed"
    },
    "tags": []
   },
   "source": [
    "### Movies"
   ]
  },
  {
   "cell_type": "markdown",
   "id": "8336579f",
   "metadata": {
    "papermill": {
     "duration": 0.0429,
     "end_time": "2024-05-13T12:24:30.546202",
     "exception": false,
     "start_time": "2024-05-13T12:24:30.503302",
     "status": "completed"
    },
    "tags": []
   },
   "source": [
    "* Now let's switch yo movies analysis"
   ]
  },
  {
   "cell_type": "markdown",
   "id": "bccf8202",
   "metadata": {
    "papermill": {
     "duration": 0.04383,
     "end_time": "2024-05-13T12:24:30.635553",
     "exception": false,
     "start_time": "2024-05-13T12:24:30.591723",
     "status": "completed"
    },
    "tags": []
   },
   "source": [
    "#### Release"
   ]
  },
  {
   "cell_type": "code",
   "execution_count": 44,
   "id": "6df05eb7",
   "metadata": {
    "execution": {
     "iopub.execute_input": "2024-05-13T12:24:30.724238Z",
     "iopub.status.busy": "2024-05-13T12:24:30.723500Z",
     "iopub.status.idle": "2024-05-13T12:24:30.738639Z",
     "shell.execute_reply": "2024-05-13T12:24:30.737716Z"
    },
    "papermill": {
     "duration": 0.061692,
     "end_time": "2024-05-13T12:24:30.740690",
     "exception": false,
     "start_time": "2024-05-13T12:24:30.678998",
     "status": "completed"
    },
    "tags": []
   },
   "outputs": [
    {
     "data": {
      "text/html": [
       "<div>\n",
       "<style scoped>\n",
       "    .dataframe tbody tr th:only-of-type {\n",
       "        vertical-align: middle;\n",
       "    }\n",
       "\n",
       "    .dataframe tbody tr th {\n",
       "        vertical-align: top;\n",
       "    }\n",
       "\n",
       "    .dataframe thead th {\n",
       "        text-align: right;\n",
       "    }\n",
       "</style>\n",
       "<table border=\"1\" class=\"dataframe\">\n",
       "  <thead>\n",
       "    <tr style=\"text-align: right;\">\n",
       "      <th></th>\n",
       "      <th>date_added</th>\n",
       "    </tr>\n",
       "  </thead>\n",
       "  <tbody>\n",
       "    <tr>\n",
       "      <th>0</th>\n",
       "      <td>September 25, 2021</td>\n",
       "    </tr>\n",
       "    <tr>\n",
       "      <th>6</th>\n",
       "      <td>September 24, 2021</td>\n",
       "    </tr>\n",
       "    <tr>\n",
       "      <th>7</th>\n",
       "      <td>September 24, 2021</td>\n",
       "    </tr>\n",
       "    <tr>\n",
       "      <th>9</th>\n",
       "      <td>September 24, 2021</td>\n",
       "    </tr>\n",
       "    <tr>\n",
       "      <th>12</th>\n",
       "      <td>September 23, 2021</td>\n",
       "    </tr>\n",
       "  </tbody>\n",
       "</table>\n",
       "</div>"
      ],
      "text/plain": [
       "            date_added\n",
       "0   September 25, 2021\n",
       "6   September 24, 2021\n",
       "7   September 24, 2021\n",
       "9   September 24, 2021\n",
       "12  September 23, 2021"
      ]
     },
     "execution_count": 44,
     "metadata": {},
     "output_type": "execute_result"
    }
   ],
   "source": [
    "movies_release = movies[['date_added']]\n",
    "movies_release = movies_release.dropna()\n",
    "movies_release[:5]"
   ]
  },
  {
   "cell_type": "code",
   "execution_count": 45,
   "id": "52a82ead",
   "metadata": {
    "execution": {
     "iopub.execute_input": "2024-05-13T12:24:30.833603Z",
     "iopub.status.busy": "2024-05-13T12:24:30.833212Z",
     "iopub.status.idle": "2024-05-13T12:24:30.857522Z",
     "shell.execute_reply": "2024-05-13T12:24:30.855988Z"
    },
    "papermill": {
     "duration": 0.072801,
     "end_time": "2024-05-13T12:24:30.859899",
     "exception": false,
     "start_time": "2024-05-13T12:24:30.787098",
     "status": "completed"
    },
    "tags": []
   },
   "outputs": [
    {
     "data": {
      "text/html": [
       "<div>\n",
       "<style scoped>\n",
       "    .dataframe tbody tr th:only-of-type {\n",
       "        vertical-align: middle;\n",
       "    }\n",
       "\n",
       "    .dataframe tbody tr th {\n",
       "        vertical-align: top;\n",
       "    }\n",
       "\n",
       "    .dataframe thead th {\n",
       "        text-align: right;\n",
       "    }\n",
       "</style>\n",
       "<table border=\"1\" class=\"dataframe\">\n",
       "  <thead>\n",
       "    <tr style=\"text-align: right;\">\n",
       "      <th></th>\n",
       "      <th>date_added</th>\n",
       "      <th>month</th>\n",
       "      <th>year</th>\n",
       "    </tr>\n",
       "  </thead>\n",
       "  <tbody>\n",
       "    <tr>\n",
       "      <th>0</th>\n",
       "      <td>September 25, 2021</td>\n",
       "      <td>September</td>\n",
       "      <td>2021</td>\n",
       "    </tr>\n",
       "    <tr>\n",
       "      <th>6</th>\n",
       "      <td>September 24, 2021</td>\n",
       "      <td>September</td>\n",
       "      <td>2021</td>\n",
       "    </tr>\n",
       "    <tr>\n",
       "      <th>7</th>\n",
       "      <td>September 24, 2021</td>\n",
       "      <td>September</td>\n",
       "      <td>2021</td>\n",
       "    </tr>\n",
       "    <tr>\n",
       "      <th>9</th>\n",
       "      <td>September 24, 2021</td>\n",
       "      <td>September</td>\n",
       "      <td>2021</td>\n",
       "    </tr>\n",
       "    <tr>\n",
       "      <th>12</th>\n",
       "      <td>September 23, 2021</td>\n",
       "      <td>September</td>\n",
       "      <td>2021</td>\n",
       "    </tr>\n",
       "  </tbody>\n",
       "</table>\n",
       "</div>"
      ],
      "text/plain": [
       "            date_added      month  year\n",
       "0   September 25, 2021  September  2021\n",
       "6   September 24, 2021  September  2021\n",
       "7   September 24, 2021  September  2021\n",
       "9   September 24, 2021  September  2021\n",
       "12  September 23, 2021  September  2021"
      ]
     },
     "execution_count": 45,
     "metadata": {},
     "output_type": "execute_result"
    }
   ],
   "source": [
    "movies_release['month'] = movies_release['date_added'].apply(lambda x: x.split(' ')[0])\n",
    "movies_release['year'] = movies_release['date_added'].apply(lambda x: x.split(', ')[1])\n",
    "movies_release.head()"
   ]
  },
  {
   "cell_type": "markdown",
   "id": "c2e43927",
   "metadata": {
    "papermill": {
     "duration": 0.044578,
     "end_time": "2024-05-13T12:24:30.951681",
     "exception": false,
     "start_time": "2024-05-13T12:24:30.907103",
     "status": "completed"
    },
    "tags": []
   },
   "source": [
    "* Let's create a matrix with information about release of projects and respective qty in each period. This information might be considered for new launches taking into account that seasonality. "
   ]
  },
  {
   "cell_type": "code",
   "execution_count": 46,
   "id": "7e9e0896",
   "metadata": {
    "execution": {
     "iopub.execute_input": "2024-05-13T12:24:31.044207Z",
     "iopub.status.busy": "2024-05-13T12:24:31.043805Z",
     "iopub.status.idle": "2024-05-13T12:24:31.049430Z",
     "shell.execute_reply": "2024-05-13T12:24:31.047925Z"
    },
    "papermill": {
     "duration": 0.054467,
     "end_time": "2024-05-13T12:24:31.052691",
     "exception": false,
     "start_time": "2024-05-13T12:24:30.998224",
     "status": "completed"
    },
    "tags": []
   },
   "outputs": [],
   "source": [
    "months_list = ['January', 'February', 'March', 'April', 'May', 'June', 'July', 'August', 'September', 'October', 'November', 'December']"
   ]
  },
  {
   "cell_type": "code",
   "execution_count": 47,
   "id": "dbadaa16",
   "metadata": {
    "execution": {
     "iopub.execute_input": "2024-05-13T12:24:31.145229Z",
     "iopub.status.busy": "2024-05-13T12:24:31.144805Z",
     "iopub.status.idle": "2024-05-13T12:24:31.191023Z",
     "shell.execute_reply": "2024-05-13T12:24:31.189237Z"
    },
    "papermill": {
     "duration": 0.095492,
     "end_time": "2024-05-13T12:24:31.193758",
     "exception": false,
     "start_time": "2024-05-13T12:24:31.098266",
     "status": "completed"
    },
    "tags": []
   },
   "outputs": [
    {
     "data": {
      "text/html": [
       "<div>\n",
       "<style scoped>\n",
       "    .dataframe tbody tr th:only-of-type {\n",
       "        vertical-align: middle;\n",
       "    }\n",
       "\n",
       "    .dataframe tbody tr th {\n",
       "        vertical-align: top;\n",
       "    }\n",
       "\n",
       "    .dataframe thead th {\n",
       "        text-align: right;\n",
       "    }\n",
       "</style>\n",
       "<table border=\"1\" class=\"dataframe\">\n",
       "  <thead>\n",
       "    <tr style=\"text-align: right;\">\n",
       "      <th>year</th>\n",
       "      <th>2008</th>\n",
       "      <th>2009</th>\n",
       "      <th>2010</th>\n",
       "      <th>2011</th>\n",
       "      <th>2012</th>\n",
       "      <th>2013</th>\n",
       "      <th>2014</th>\n",
       "      <th>2015</th>\n",
       "      <th>2016</th>\n",
       "      <th>2017</th>\n",
       "      <th>2018</th>\n",
       "      <th>2019</th>\n",
       "      <th>2020</th>\n",
       "      <th>2021</th>\n",
       "    </tr>\n",
       "    <tr>\n",
       "      <th>month</th>\n",
       "      <th></th>\n",
       "      <th></th>\n",
       "      <th></th>\n",
       "      <th></th>\n",
       "      <th></th>\n",
       "      <th></th>\n",
       "      <th></th>\n",
       "      <th></th>\n",
       "      <th></th>\n",
       "      <th></th>\n",
       "      <th></th>\n",
       "      <th></th>\n",
       "      <th></th>\n",
       "      <th></th>\n",
       "    </tr>\n",
       "  </thead>\n",
       "  <tbody>\n",
       "    <tr>\n",
       "      <th>January</th>\n",
       "      <td>1.0</td>\n",
       "      <td>0.0</td>\n",
       "      <td>0.0</td>\n",
       "      <td>0.0</td>\n",
       "      <td>0.0</td>\n",
       "      <td>0.0</td>\n",
       "      <td>2.0</td>\n",
       "      <td>1.0</td>\n",
       "      <td>15.0</td>\n",
       "      <td>58.0</td>\n",
       "      <td>105.0</td>\n",
       "      <td>116.0</td>\n",
       "      <td>152.0</td>\n",
       "      <td>96.0</td>\n",
       "    </tr>\n",
       "    <tr>\n",
       "      <th>February</th>\n",
       "      <td>0.0</td>\n",
       "      <td>0.0</td>\n",
       "      <td>0.0</td>\n",
       "      <td>0.0</td>\n",
       "      <td>1.0</td>\n",
       "      <td>0.0</td>\n",
       "      <td>1.0</td>\n",
       "      <td>3.0</td>\n",
       "      <td>9.0</td>\n",
       "      <td>65.0</td>\n",
       "      <td>63.0</td>\n",
       "      <td>103.0</td>\n",
       "      <td>72.0</td>\n",
       "      <td>65.0</td>\n",
       "    </tr>\n",
       "    <tr>\n",
       "      <th>March</th>\n",
       "      <td>0.0</td>\n",
       "      <td>0.0</td>\n",
       "      <td>0.0</td>\n",
       "      <td>0.0</td>\n",
       "      <td>0.0</td>\n",
       "      <td>0.0</td>\n",
       "      <td>0.0</td>\n",
       "      <td>3.0</td>\n",
       "      <td>14.0</td>\n",
       "      <td>87.0</td>\n",
       "      <td>138.0</td>\n",
       "      <td>119.0</td>\n",
       "      <td>93.0</td>\n",
       "      <td>75.0</td>\n",
       "    </tr>\n",
       "    <tr>\n",
       "      <th>April</th>\n",
       "      <td>0.0</td>\n",
       "      <td>0.0</td>\n",
       "      <td>0.0</td>\n",
       "      <td>0.0</td>\n",
       "      <td>0.0</td>\n",
       "      <td>0.0</td>\n",
       "      <td>1.0</td>\n",
       "      <td>1.0</td>\n",
       "      <td>14.0</td>\n",
       "      <td>66.0</td>\n",
       "      <td>87.0</td>\n",
       "      <td>119.0</td>\n",
       "      <td>127.0</td>\n",
       "      <td>135.0</td>\n",
       "    </tr>\n",
       "    <tr>\n",
       "      <th>May</th>\n",
       "      <td>0.0</td>\n",
       "      <td>1.0</td>\n",
       "      <td>0.0</td>\n",
       "      <td>1.0</td>\n",
       "      <td>0.0</td>\n",
       "      <td>0.0</td>\n",
       "      <td>0.0</td>\n",
       "      <td>5.0</td>\n",
       "      <td>9.0</td>\n",
       "      <td>63.0</td>\n",
       "      <td>70.0</td>\n",
       "      <td>91.0</td>\n",
       "      <td>105.0</td>\n",
       "      <td>94.0</td>\n",
       "    </tr>\n",
       "    <tr>\n",
       "      <th>June</th>\n",
       "      <td>0.0</td>\n",
       "      <td>0.0</td>\n",
       "      <td>0.0</td>\n",
       "      <td>0.0</td>\n",
       "      <td>0.0</td>\n",
       "      <td>0.0</td>\n",
       "      <td>1.0</td>\n",
       "      <td>4.0</td>\n",
       "      <td>11.0</td>\n",
       "      <td>65.0</td>\n",
       "      <td>50.0</td>\n",
       "      <td>122.0</td>\n",
       "      <td>115.0</td>\n",
       "      <td>124.0</td>\n",
       "    </tr>\n",
       "    <tr>\n",
       "      <th>July</th>\n",
       "      <td>0.0</td>\n",
       "      <td>0.0</td>\n",
       "      <td>0.0</td>\n",
       "      <td>0.0</td>\n",
       "      <td>0.0</td>\n",
       "      <td>0.0</td>\n",
       "      <td>1.0</td>\n",
       "      <td>5.0</td>\n",
       "      <td>19.0</td>\n",
       "      <td>45.0</td>\n",
       "      <td>125.0</td>\n",
       "      <td>98.0</td>\n",
       "      <td>103.0</td>\n",
       "      <td>169.0</td>\n",
       "    </tr>\n",
       "    <tr>\n",
       "      <th>August</th>\n",
       "      <td>0.0</td>\n",
       "      <td>0.0</td>\n",
       "      <td>0.0</td>\n",
       "      <td>0.0</td>\n",
       "      <td>0.0</td>\n",
       "      <td>0.0</td>\n",
       "      <td>1.0</td>\n",
       "      <td>2.0</td>\n",
       "      <td>23.0</td>\n",
       "      <td>77.0</td>\n",
       "      <td>130.0</td>\n",
       "      <td>87.0</td>\n",
       "      <td>82.0</td>\n",
       "      <td>117.0</td>\n",
       "    </tr>\n",
       "    <tr>\n",
       "      <th>September</th>\n",
       "      <td>0.0</td>\n",
       "      <td>0.0</td>\n",
       "      <td>0.0</td>\n",
       "      <td>1.0</td>\n",
       "      <td>0.0</td>\n",
       "      <td>1.0</td>\n",
       "      <td>1.0</td>\n",
       "      <td>6.0</td>\n",
       "      <td>29.0</td>\n",
       "      <td>81.0</td>\n",
       "      <td>81.0</td>\n",
       "      <td>86.0</td>\n",
       "      <td>115.0</td>\n",
       "      <td>118.0</td>\n",
       "    </tr>\n",
       "    <tr>\n",
       "      <th>October</th>\n",
       "      <td>0.0</td>\n",
       "      <td>0.0</td>\n",
       "      <td>0.0</td>\n",
       "      <td>11.0</td>\n",
       "      <td>0.0</td>\n",
       "      <td>1.0</td>\n",
       "      <td>4.0</td>\n",
       "      <td>10.0</td>\n",
       "      <td>32.0</td>\n",
       "      <td>97.0</td>\n",
       "      <td>146.0</td>\n",
       "      <td>128.0</td>\n",
       "      <td>116.0</td>\n",
       "      <td>0.0</td>\n",
       "    </tr>\n",
       "    <tr>\n",
       "      <th>November</th>\n",
       "      <td>0.0</td>\n",
       "      <td>1.0</td>\n",
       "      <td>1.0</td>\n",
       "      <td>0.0</td>\n",
       "      <td>1.0</td>\n",
       "      <td>2.0</td>\n",
       "      <td>2.0</td>\n",
       "      <td>2.0</td>\n",
       "      <td>26.0</td>\n",
       "      <td>55.0</td>\n",
       "      <td>118.0</td>\n",
       "      <td>187.0</td>\n",
       "      <td>103.0</td>\n",
       "      <td>0.0</td>\n",
       "    </tr>\n",
       "    <tr>\n",
       "      <th>December</th>\n",
       "      <td>0.0</td>\n",
       "      <td>0.0</td>\n",
       "      <td>0.0</td>\n",
       "      <td>0.0</td>\n",
       "      <td>1.0</td>\n",
       "      <td>2.0</td>\n",
       "      <td>5.0</td>\n",
       "      <td>14.0</td>\n",
       "      <td>52.0</td>\n",
       "      <td>80.0</td>\n",
       "      <td>124.0</td>\n",
       "      <td>168.0</td>\n",
       "      <td>101.0</td>\n",
       "      <td>0.0</td>\n",
       "    </tr>\n",
       "  </tbody>\n",
       "</table>\n",
       "</div>"
      ],
      "text/plain": [
       "year       2008  2009  2010  2011  2012  2013  2014  2015  2016  2017   2018  \\\n",
       "month                                                                          \n",
       "January     1.0   0.0   0.0   0.0   0.0   0.0   2.0   1.0  15.0  58.0  105.0   \n",
       "February    0.0   0.0   0.0   0.0   1.0   0.0   1.0   3.0   9.0  65.0   63.0   \n",
       "March       0.0   0.0   0.0   0.0   0.0   0.0   0.0   3.0  14.0  87.0  138.0   \n",
       "April       0.0   0.0   0.0   0.0   0.0   0.0   1.0   1.0  14.0  66.0   87.0   \n",
       "May         0.0   1.0   0.0   1.0   0.0   0.0   0.0   5.0   9.0  63.0   70.0   \n",
       "June        0.0   0.0   0.0   0.0   0.0   0.0   1.0   4.0  11.0  65.0   50.0   \n",
       "July        0.0   0.0   0.0   0.0   0.0   0.0   1.0   5.0  19.0  45.0  125.0   \n",
       "August      0.0   0.0   0.0   0.0   0.0   0.0   1.0   2.0  23.0  77.0  130.0   \n",
       "September   0.0   0.0   0.0   1.0   0.0   1.0   1.0   6.0  29.0  81.0   81.0   \n",
       "October     0.0   0.0   0.0  11.0   0.0   1.0   4.0  10.0  32.0  97.0  146.0   \n",
       "November    0.0   1.0   1.0   0.0   1.0   2.0   2.0   2.0  26.0  55.0  118.0   \n",
       "December    0.0   0.0   0.0   0.0   1.0   2.0   5.0  14.0  52.0  80.0  124.0   \n",
       "\n",
       "year        2019   2020   2021  \n",
       "month                           \n",
       "January    116.0  152.0   96.0  \n",
       "February   103.0   72.0   65.0  \n",
       "March      119.0   93.0   75.0  \n",
       "April      119.0  127.0  135.0  \n",
       "May         91.0  105.0   94.0  \n",
       "June       122.0  115.0  124.0  \n",
       "July        98.0  103.0  169.0  \n",
       "August      87.0   82.0  117.0  \n",
       "September   86.0  115.0  118.0  \n",
       "October    128.0  116.0    0.0  \n",
       "November   187.0  103.0    0.0  \n",
       "December   168.0  101.0    0.0  "
      ]
     },
     "execution_count": 47,
     "metadata": {},
     "output_type": "execute_result"
    }
   ],
   "source": [
    "movies_release_matrix =  movies_release.groupby('year')['month'].value_counts().unstack()[months_list].fillna(0).T\n",
    "movies_release_matrix"
   ]
  },
  {
   "cell_type": "code",
   "execution_count": 48,
   "id": "82dd7a2d",
   "metadata": {
    "execution": {
     "iopub.execute_input": "2024-05-13T12:24:31.285330Z",
     "iopub.status.busy": "2024-05-13T12:24:31.284903Z",
     "iopub.status.idle": "2024-05-13T12:24:31.352679Z",
     "shell.execute_reply": "2024-05-13T12:24:31.351390Z"
    },
    "papermill": {
     "duration": 0.115848,
     "end_time": "2024-05-13T12:24:31.355391",
     "exception": false,
     "start_time": "2024-05-13T12:24:31.239543",
     "status": "completed"
    },
    "tags": []
   },
   "outputs": [
    {
     "data": {
      "text/html": [
       "<div>                            <div id=\"2fc94000-0f26-4efc-bdd9-cc4c145d24d2\" class=\"plotly-graph-div\" style=\"height:800px; width:800px;\"></div>            <script type=\"text/javascript\">                require([\"plotly\"], function(Plotly) {                    window.PLOTLYENV=window.PLOTLYENV || {};                                    if (document.getElementById(\"2fc94000-0f26-4efc-bdd9-cc4c145d24d2\")) {                    Plotly.newPlot(                        \"2fc94000-0f26-4efc-bdd9-cc4c145d24d2\",                        [{\"coloraxis\":\"coloraxis\",\"name\":\"0\",\"texttemplate\":\"%{z}\",\"x\":[\"2008\",\"2009\",\"2010\",\"2011\",\"2012\",\"2013\",\"2014\",\"2015\",\"2016\",\"2017\",\"2018\",\"2019\",\"2020\",\"2021\"],\"y\":[\"January\",\"February\",\"March\",\"April\",\"May\",\"June\",\"July\",\"August\",\"September\",\"October\",\"November\",\"December\"],\"z\":[[1.0,0.0,0.0,0.0,0.0,0.0,2.0,1.0,15.0,58.0,105.0,116.0,152.0,96.0],[0.0,0.0,0.0,0.0,1.0,0.0,1.0,3.0,9.0,65.0,63.0,103.0,72.0,65.0],[0.0,0.0,0.0,0.0,0.0,0.0,0.0,3.0,14.0,87.0,138.0,119.0,93.0,75.0],[0.0,0.0,0.0,0.0,0.0,0.0,1.0,1.0,14.0,66.0,87.0,119.0,127.0,135.0],[0.0,1.0,0.0,1.0,0.0,0.0,0.0,5.0,9.0,63.0,70.0,91.0,105.0,94.0],[0.0,0.0,0.0,0.0,0.0,0.0,1.0,4.0,11.0,65.0,50.0,122.0,115.0,124.0],[0.0,0.0,0.0,0.0,0.0,0.0,1.0,5.0,19.0,45.0,125.0,98.0,103.0,169.0],[0.0,0.0,0.0,0.0,0.0,0.0,1.0,2.0,23.0,77.0,130.0,87.0,82.0,117.0],[0.0,0.0,0.0,1.0,0.0,1.0,1.0,6.0,29.0,81.0,81.0,86.0,115.0,118.0],[0.0,0.0,0.0,11.0,0.0,1.0,4.0,10.0,32.0,97.0,146.0,128.0,116.0,0.0],[0.0,1.0,1.0,0.0,1.0,2.0,2.0,2.0,26.0,55.0,118.0,187.0,103.0,0.0],[0.0,0.0,0.0,0.0,1.0,2.0,5.0,14.0,52.0,80.0,124.0,168.0,101.0,0.0]],\"type\":\"heatmap\",\"xaxis\":\"x\",\"yaxis\":\"y\",\"hovertemplate\":\"year: %{x}\\u003cbr\\u003emonth: %{y}\\u003cbr\\u003ecolor: %{z}\\u003cextra\\u003e\\u003c\\u002fextra\\u003e\"}],                        {\"template\":{\"data\":{\"barpolar\":[{\"marker\":{\"line\":{\"color\":\"rgb(17,17,17)\",\"width\":0.5},\"pattern\":{\"fillmode\":\"overlay\",\"size\":10,\"solidity\":0.2}},\"type\":\"barpolar\"}],\"bar\":[{\"error_x\":{\"color\":\"#f2f5fa\"},\"error_y\":{\"color\":\"#f2f5fa\"},\"marker\":{\"line\":{\"color\":\"rgb(17,17,17)\",\"width\":0.5},\"pattern\":{\"fillmode\":\"overlay\",\"size\":10,\"solidity\":0.2}},\"type\":\"bar\"}],\"carpet\":[{\"aaxis\":{\"endlinecolor\":\"#A2B1C6\",\"gridcolor\":\"#506784\",\"linecolor\":\"#506784\",\"minorgridcolor\":\"#506784\",\"startlinecolor\":\"#A2B1C6\"},\"baxis\":{\"endlinecolor\":\"#A2B1C6\",\"gridcolor\":\"#506784\",\"linecolor\":\"#506784\",\"minorgridcolor\":\"#506784\",\"startlinecolor\":\"#A2B1C6\"},\"type\":\"carpet\"}],\"choropleth\":[{\"colorbar\":{\"outlinewidth\":0,\"ticks\":\"\"},\"type\":\"choropleth\"}],\"contourcarpet\":[{\"colorbar\":{\"outlinewidth\":0,\"ticks\":\"\"},\"type\":\"contourcarpet\"}],\"contour\":[{\"colorbar\":{\"outlinewidth\":0,\"ticks\":\"\"},\"colorscale\":[[0.0,\"#0d0887\"],[0.1111111111111111,\"#46039f\"],[0.2222222222222222,\"#7201a8\"],[0.3333333333333333,\"#9c179e\"],[0.4444444444444444,\"#bd3786\"],[0.5555555555555556,\"#d8576b\"],[0.6666666666666666,\"#ed7953\"],[0.7777777777777778,\"#fb9f3a\"],[0.8888888888888888,\"#fdca26\"],[1.0,\"#f0f921\"]],\"type\":\"contour\"}],\"heatmapgl\":[{\"colorbar\":{\"outlinewidth\":0,\"ticks\":\"\"},\"colorscale\":[[0.0,\"#0d0887\"],[0.1111111111111111,\"#46039f\"],[0.2222222222222222,\"#7201a8\"],[0.3333333333333333,\"#9c179e\"],[0.4444444444444444,\"#bd3786\"],[0.5555555555555556,\"#d8576b\"],[0.6666666666666666,\"#ed7953\"],[0.7777777777777778,\"#fb9f3a\"],[0.8888888888888888,\"#fdca26\"],[1.0,\"#f0f921\"]],\"type\":\"heatmapgl\"}],\"heatmap\":[{\"colorbar\":{\"outlinewidth\":0,\"ticks\":\"\"},\"colorscale\":[[0.0,\"#0d0887\"],[0.1111111111111111,\"#46039f\"],[0.2222222222222222,\"#7201a8\"],[0.3333333333333333,\"#9c179e\"],[0.4444444444444444,\"#bd3786\"],[0.5555555555555556,\"#d8576b\"],[0.6666666666666666,\"#ed7953\"],[0.7777777777777778,\"#fb9f3a\"],[0.8888888888888888,\"#fdca26\"],[1.0,\"#f0f921\"]],\"type\":\"heatmap\"}],\"histogram2dcontour\":[{\"colorbar\":{\"outlinewidth\":0,\"ticks\":\"\"},\"colorscale\":[[0.0,\"#0d0887\"],[0.1111111111111111,\"#46039f\"],[0.2222222222222222,\"#7201a8\"],[0.3333333333333333,\"#9c179e\"],[0.4444444444444444,\"#bd3786\"],[0.5555555555555556,\"#d8576b\"],[0.6666666666666666,\"#ed7953\"],[0.7777777777777778,\"#fb9f3a\"],[0.8888888888888888,\"#fdca26\"],[1.0,\"#f0f921\"]],\"type\":\"histogram2dcontour\"}],\"histogram2d\":[{\"colorbar\":{\"outlinewidth\":0,\"ticks\":\"\"},\"colorscale\":[[0.0,\"#0d0887\"],[0.1111111111111111,\"#46039f\"],[0.2222222222222222,\"#7201a8\"],[0.3333333333333333,\"#9c179e\"],[0.4444444444444444,\"#bd3786\"],[0.5555555555555556,\"#d8576b\"],[0.6666666666666666,\"#ed7953\"],[0.7777777777777778,\"#fb9f3a\"],[0.8888888888888888,\"#fdca26\"],[1.0,\"#f0f921\"]],\"type\":\"histogram2d\"}],\"histogram\":[{\"marker\":{\"pattern\":{\"fillmode\":\"overlay\",\"size\":10,\"solidity\":0.2}},\"type\":\"histogram\"}],\"mesh3d\":[{\"colorbar\":{\"outlinewidth\":0,\"ticks\":\"\"},\"type\":\"mesh3d\"}],\"parcoords\":[{\"line\":{\"colorbar\":{\"outlinewidth\":0,\"ticks\":\"\"}},\"type\":\"parcoords\"}],\"pie\":[{\"automargin\":true,\"type\":\"pie\"}],\"scatter3d\":[{\"line\":{\"colorbar\":{\"outlinewidth\":0,\"ticks\":\"\"}},\"marker\":{\"colorbar\":{\"outlinewidth\":0,\"ticks\":\"\"}},\"type\":\"scatter3d\"}],\"scattercarpet\":[{\"marker\":{\"colorbar\":{\"outlinewidth\":0,\"ticks\":\"\"}},\"type\":\"scattercarpet\"}],\"scattergeo\":[{\"marker\":{\"colorbar\":{\"outlinewidth\":0,\"ticks\":\"\"}},\"type\":\"scattergeo\"}],\"scattergl\":[{\"marker\":{\"line\":{\"color\":\"#283442\"}},\"type\":\"scattergl\"}],\"scattermapbox\":[{\"marker\":{\"colorbar\":{\"outlinewidth\":0,\"ticks\":\"\"}},\"type\":\"scattermapbox\"}],\"scatterpolargl\":[{\"marker\":{\"colorbar\":{\"outlinewidth\":0,\"ticks\":\"\"}},\"type\":\"scatterpolargl\"}],\"scatterpolar\":[{\"marker\":{\"colorbar\":{\"outlinewidth\":0,\"ticks\":\"\"}},\"type\":\"scatterpolar\"}],\"scatter\":[{\"marker\":{\"line\":{\"color\":\"#283442\"}},\"type\":\"scatter\"}],\"scatterternary\":[{\"marker\":{\"colorbar\":{\"outlinewidth\":0,\"ticks\":\"\"}},\"type\":\"scatterternary\"}],\"surface\":[{\"colorbar\":{\"outlinewidth\":0,\"ticks\":\"\"},\"colorscale\":[[0.0,\"#0d0887\"],[0.1111111111111111,\"#46039f\"],[0.2222222222222222,\"#7201a8\"],[0.3333333333333333,\"#9c179e\"],[0.4444444444444444,\"#bd3786\"],[0.5555555555555556,\"#d8576b\"],[0.6666666666666666,\"#ed7953\"],[0.7777777777777778,\"#fb9f3a\"],[0.8888888888888888,\"#fdca26\"],[1.0,\"#f0f921\"]],\"type\":\"surface\"}],\"table\":[{\"cells\":{\"fill\":{\"color\":\"#506784\"},\"line\":{\"color\":\"rgb(17,17,17)\"}},\"header\":{\"fill\":{\"color\":\"#2a3f5f\"},\"line\":{\"color\":\"rgb(17,17,17)\"}},\"type\":\"table\"}]},\"layout\":{\"annotationdefaults\":{\"arrowcolor\":\"#f2f5fa\",\"arrowhead\":0,\"arrowwidth\":1},\"autotypenumbers\":\"strict\",\"coloraxis\":{\"colorbar\":{\"outlinewidth\":0,\"ticks\":\"\"}},\"colorscale\":{\"diverging\":[[0,\"#8e0152\"],[0.1,\"#c51b7d\"],[0.2,\"#de77ae\"],[0.3,\"#f1b6da\"],[0.4,\"#fde0ef\"],[0.5,\"#f7f7f7\"],[0.6,\"#e6f5d0\"],[0.7,\"#b8e186\"],[0.8,\"#7fbc41\"],[0.9,\"#4d9221\"],[1,\"#276419\"]],\"sequential\":[[0.0,\"#0d0887\"],[0.1111111111111111,\"#46039f\"],[0.2222222222222222,\"#7201a8\"],[0.3333333333333333,\"#9c179e\"],[0.4444444444444444,\"#bd3786\"],[0.5555555555555556,\"#d8576b\"],[0.6666666666666666,\"#ed7953\"],[0.7777777777777778,\"#fb9f3a\"],[0.8888888888888888,\"#fdca26\"],[1.0,\"#f0f921\"]],\"sequentialminus\":[[0.0,\"#0d0887\"],[0.1111111111111111,\"#46039f\"],[0.2222222222222222,\"#7201a8\"],[0.3333333333333333,\"#9c179e\"],[0.4444444444444444,\"#bd3786\"],[0.5555555555555556,\"#d8576b\"],[0.6666666666666666,\"#ed7953\"],[0.7777777777777778,\"#fb9f3a\"],[0.8888888888888888,\"#fdca26\"],[1.0,\"#f0f921\"]]},\"colorway\":[\"#636efa\",\"#EF553B\",\"#00cc96\",\"#ab63fa\",\"#FFA15A\",\"#19d3f3\",\"#FF6692\",\"#B6E880\",\"#FF97FF\",\"#FECB52\"],\"font\":{\"color\":\"#f2f5fa\"},\"geo\":{\"bgcolor\":\"rgb(17,17,17)\",\"lakecolor\":\"rgb(17,17,17)\",\"landcolor\":\"rgb(17,17,17)\",\"showlakes\":true,\"showland\":true,\"subunitcolor\":\"#506784\"},\"hoverlabel\":{\"align\":\"left\"},\"hovermode\":\"closest\",\"mapbox\":{\"style\":\"dark\"},\"paper_bgcolor\":\"rgb(17,17,17)\",\"plot_bgcolor\":\"rgb(17,17,17)\",\"polar\":{\"angularaxis\":{\"gridcolor\":\"#506784\",\"linecolor\":\"#506784\",\"ticks\":\"\"},\"bgcolor\":\"rgb(17,17,17)\",\"radialaxis\":{\"gridcolor\":\"#506784\",\"linecolor\":\"#506784\",\"ticks\":\"\"}},\"scene\":{\"xaxis\":{\"backgroundcolor\":\"rgb(17,17,17)\",\"gridcolor\":\"#506784\",\"gridwidth\":2,\"linecolor\":\"#506784\",\"showbackground\":true,\"ticks\":\"\",\"zerolinecolor\":\"#C8D4E3\"},\"yaxis\":{\"backgroundcolor\":\"rgb(17,17,17)\",\"gridcolor\":\"#506784\",\"gridwidth\":2,\"linecolor\":\"#506784\",\"showbackground\":true,\"ticks\":\"\",\"zerolinecolor\":\"#C8D4E3\"},\"zaxis\":{\"backgroundcolor\":\"rgb(17,17,17)\",\"gridcolor\":\"#506784\",\"gridwidth\":2,\"linecolor\":\"#506784\",\"showbackground\":true,\"ticks\":\"\",\"zerolinecolor\":\"#C8D4E3\"}},\"shapedefaults\":{\"line\":{\"color\":\"#f2f5fa\"}},\"sliderdefaults\":{\"bgcolor\":\"#C8D4E3\",\"bordercolor\":\"rgb(17,17,17)\",\"borderwidth\":1,\"tickwidth\":0},\"ternary\":{\"aaxis\":{\"gridcolor\":\"#506784\",\"linecolor\":\"#506784\",\"ticks\":\"\"},\"baxis\":{\"gridcolor\":\"#506784\",\"linecolor\":\"#506784\",\"ticks\":\"\"},\"bgcolor\":\"rgb(17,17,17)\",\"caxis\":{\"gridcolor\":\"#506784\",\"linecolor\":\"#506784\",\"ticks\":\"\"}},\"title\":{\"x\":0.05},\"updatemenudefaults\":{\"bgcolor\":\"#506784\",\"borderwidth\":0},\"xaxis\":{\"automargin\":true,\"gridcolor\":\"#283442\",\"linecolor\":\"#506784\",\"ticks\":\"\",\"title\":{\"standoff\":15},\"zerolinecolor\":\"#283442\",\"zerolinewidth\":2},\"yaxis\":{\"automargin\":true,\"gridcolor\":\"#283442\",\"linecolor\":\"#506784\",\"ticks\":\"\",\"title\":{\"standoff\":15},\"zerolinecolor\":\"#283442\",\"zerolinewidth\":2}}},\"xaxis\":{\"anchor\":\"y\",\"domain\":[0.0,1.0],\"scaleanchor\":\"y\",\"constrain\":\"domain\",\"title\":{\"text\":\"year\"}},\"yaxis\":{\"anchor\":\"x\",\"domain\":[0.0,1.0],\"autorange\":\"reversed\",\"constrain\":\"domain\",\"title\":{\"text\":\"month\"}},\"coloraxis\":{\"colorscale\":[[0.0,\"#0d0887\"],[0.1111111111111111,\"#46039f\"],[0.2222222222222222,\"#7201a8\"],[0.3333333333333333,\"#9c179e\"],[0.4444444444444444,\"#bd3786\"],[0.5555555555555556,\"#d8576b\"],[0.6666666666666666,\"#ed7953\"],[0.7777777777777778,\"#fb9f3a\"],[0.8888888888888888,\"#fdca26\"],[1.0,\"#f0f921\"]]},\"title\":{\"text\":\"Release matrix\"},\"height\":800,\"width\":800},                        {\"responsive\": true}                    ).then(function(){\n",
       "                            \n",
       "var gd = document.getElementById('2fc94000-0f26-4efc-bdd9-cc4c145d24d2');\n",
       "var x = new MutationObserver(function (mutations, observer) {{\n",
       "        var display = window.getComputedStyle(gd).display;\n",
       "        if (!display || display === 'none') {{\n",
       "            console.log([gd, 'removed!']);\n",
       "            Plotly.purge(gd);\n",
       "            observer.disconnect();\n",
       "        }}\n",
       "}});\n",
       "\n",
       "// Listen for the removal of the full notebook cells\n",
       "var notebookContainer = gd.closest('#notebook-container');\n",
       "if (notebookContainer) {{\n",
       "    x.observe(notebookContainer, {childList: true});\n",
       "}}\n",
       "\n",
       "// Listen for the clearing of the current output cell\n",
       "var outputEl = gd.closest('.output');\n",
       "if (outputEl) {{\n",
       "    x.observe(outputEl, {childList: true});\n",
       "}}\n",
       "\n",
       "                        })                };                });            </script>        </div>"
      ]
     },
     "metadata": {},
     "output_type": "display_data"
    }
   ],
   "source": [
    "fig = px.imshow(movies_release_matrix, \n",
    "                template= \"plotly_dark\",\n",
    "                text_auto=True,\n",
    "                width = 800, height = 800, \n",
    "                title = 'Release matrix')\n",
    "fig.show()\n",
    "\n",
    "# The lighter the month the more frequently projects launched "
   ]
  },
  {
   "cell_type": "code",
   "execution_count": 49,
   "id": "525dcebf",
   "metadata": {
    "execution": {
     "iopub.execute_input": "2024-05-13T12:24:31.451872Z",
     "iopub.status.busy": "2024-05-13T12:24:31.451437Z",
     "iopub.status.idle": "2024-05-13T12:24:31.544483Z",
     "shell.execute_reply": "2024-05-13T12:24:31.543273Z"
    },
    "papermill": {
     "duration": 0.146543,
     "end_time": "2024-05-13T12:24:31.547524",
     "exception": false,
     "start_time": "2024-05-13T12:24:31.400981",
     "status": "completed"
    },
    "tags": []
   },
   "outputs": [
    {
     "data": {
      "text/html": [
       "<div>                            <div id=\"c1d3e263-b64a-4b49-87c8-574929e1b88b\" class=\"plotly-graph-div\" style=\"height:500px; width:800px;\"></div>            <script type=\"text/javascript\">                require([\"plotly\"], function(Plotly) {                    window.PLOTLYENV=window.PLOTLYENV || {};                                    if (document.getElementById(\"c1d3e263-b64a-4b49-87c8-574929e1b88b\")) {                    Plotly.newPlot(                        \"c1d3e263-b64a-4b49-87c8-574929e1b88b\",                        [{\"alignmentgroup\":\"True\",\"bingroup\":\"x\",\"hovertemplate\":\"year=%{x}\\u003cbr\\u003ecount=%{y}\\u003cextra\\u003e\\u003c\\u002fextra\\u003e\",\"legendgroup\":\"\",\"marker\":{\"color\":\"white\",\"pattern\":{\"shape\":\"\"}},\"name\":\"\",\"offsetgroup\":\"\",\"orientation\":\"v\",\"showlegend\":false,\"texttemplate\":\"%{value}\",\"x\":[\"2021\",\"2021\",\"2021\",\"2021\",\"2021\",\"2021\",\"2021\",\"2021\",\"2021\",\"2021\",\"2021\",\"2021\",\"2021\",\"2021\",\"2021\",\"2021\",\"2021\",\"2021\",\"2021\",\"2021\",\"2021\",\"2021\",\"2021\",\"2021\",\"2021\",\"2021\",\"2021\",\"2021\",\"2021\",\"2021\",\"2021\",\"2021\",\"2021\",\"2021\",\"2021\",\"2021\",\"2021\",\"2021\",\"2021\",\"2021\",\"2021\",\"2021\",\"2021\",\"2021\",\"2021\",\"2021\",\"2021\",\"2021\",\"2021\",\"2021\",\"2021\",\"2021\",\"2021\",\"2021\",\"2021\",\"2021\",\"2021\",\"2021\",\"2021\",\"2021\",\"2021\",\"2021\",\"2021\",\"2021\",\"2021\",\"2021\",\"2021\",\"2021\",\"2021\",\"2021\",\"2021\",\"2021\",\"2021\",\"2021\",\"2021\",\"2021\",\"2021\",\"2021\",\"2021\",\"2021\",\"2021\",\"2021\",\"2021\",\"2021\",\"2021\",\"2021\",\"2021\",\"2021\",\"2021\",\"2021\",\"2021\",\"2021\",\"2021\",\"2021\",\"2021\",\"2021\",\"2021\",\"2021\",\"2021\",\"2021\",\"2021\",\"2021\",\"2021\",\"2021\",\"2021\",\"2021\",\"2021\",\"2021\",\"2021\",\"2021\",\"2021\",\"2021\",\"2021\",\"2021\",\"2021\",\"2021\",\"2021\",\"2021\",\"2021\",\"2021\",\"2021\",\"2021\",\"2021\",\"2021\",\"2021\",\"2021\",\"2021\",\"2021\",\"2021\",\"2021\",\"2021\",\"2021\",\"2021\",\"2021\",\"2021\",\"2021\",\"2021\",\"2021\",\"2021\",\"2021\",\"2021\",\"2021\",\"2021\",\"2021\",\"2021\",\"2021\",\"2021\",\"2021\",\"2021\",\"2021\",\"2021\",\"2021\",\"2021\",\"2021\",\"2021\",\"2021\",\"2021\",\"2021\",\"2021\",\"2021\",\"2021\",\"2021\",\"2021\",\"2021\",\"2021\",\"2021\",\"2021\",\"2021\",\"2021\",\"2021\",\"2021\",\"2021\",\"2021\",\"2021\",\"2021\",\"2021\",\"2021\",\"2021\",\"2021\",\"2021\",\"2021\",\"2021\",\"2021\",\"2021\",\"2021\",\"2021\",\"2021\",\"2021\",\"2021\",\"2021\",\"2021\",\"2021\",\"2021\",\"2021\",\"2021\",\"2021\",\"2021\",\"2021\",\"2021\",\"2021\",\"2021\",\"2021\",\"2021\",\"2021\",\"2021\",\"2021\",\"2021\",\"2021\",\"2021\",\"2021\",\"2021\",\"2021\",\"2021\",\"2021\",\"2021\",\"2021\",\"2021\",\"2021\",\"2021\",\"2021\",\"2021\",\"2021\",\"2021\",\"2021\",\"2021\",\"2021\",\"2021\",\"2021\",\"2021\",\"2021\",\"2021\",\"2021\",\"2021\",\"2021\",\"2021\",\"2021\",\"2021\",\"2021\",\"2021\",\"2021\",\"2021\",\"2021\",\"2021\",\"2021\",\"2021\",\"2021\",\"2021\",\"2021\",\"2021\",\"2021\",\"2021\",\"2021\",\"2021\",\"2021\",\"2021\",\"2021\",\"2021\",\"2021\",\"2021\",\"2021\",\"2021\",\"2021\",\"2021\",\"2021\",\"2021\",\"2021\",\"2021\",\"2021\",\"2021\",\"2021\",\"2021\",\"2021\",\"2021\",\"2021\",\"2021\",\"2021\",\"2021\",\"2021\",\"2021\",\"2021\",\"2021\",\"2021\",\"2021\",\"2021\",\"2021\",\"2021\",\"2021\",\"2021\",\"2021\",\"2021\",\"2021\",\"2021\",\"2021\",\"2021\",\"2021\",\"2021\",\"2021\",\"2021\",\"2021\",\"2021\",\"2021\",\"2021\",\"2021\",\"2021\",\"2021\",\"2021\",\"2021\",\"2021\",\"2021\",\"2021\",\"2021\",\"2021\",\"2021\",\"2021\",\"2021\",\"2021\",\"2021\",\"2021\",\"2021\",\"2021\",\"2021\",\"2021\",\"2021\",\"2021\",\"2021\",\"2021\",\"2021\",\"2021\",\"2021\",\"2021\",\"2021\",\"2021\",\"2021\",\"2021\",\"2021\",\"2021\",\"2021\",\"2021\",\"2021\",\"2021\",\"2021\",\"2021\",\"2021\",\"2021\",\"2021\",\"2021\",\"2021\",\"2021\",\"2021\",\"2021\",\"2021\",\"2021\",\"2021\",\"2021\",\"2021\",\"2021\",\"2021\",\"2021\",\"2021\",\"2021\",\"2021\",\"2021\",\"2021\",\"2021\",\"2021\",\"2021\",\"2021\",\"2021\",\"2021\",\"2021\",\"2021\",\"2021\",\"2021\",\"2021\",\"2021\",\"2021\",\"2021\",\"2021\",\"2021\",\"2021\",\"2021\",\"2021\",\"2021\",\"2021\",\"2021\",\"2021\",\"2021\",\"2021\",\"2021\",\"2021\",\"2021\",\"2021\",\"2021\",\"2021\",\"2021\",\"2021\",\"2021\",\"2021\",\"2021\",\"2021\",\"2021\",\"2021\",\"2021\",\"2021\",\"2021\",\"2021\",\"2021\",\"2021\",\"2021\",\"2021\",\"2021\",\"2021\",\"2021\",\"2021\",\"2021\",\"2021\",\"2021\",\"2021\",\"2021\",\"2021\",\"2021\",\"2021\",\"2021\",\"2021\",\"2021\",\"2021\",\"2021\",\"2021\",\"2021\",\"2021\",\"2021\",\"2021\",\"2021\",\"2021\",\"2021\",\"2021\",\"2021\",\"2021\",\"2021\",\"2021\",\"2021\",\"2021\",\"2021\",\"2021\",\"2021\",\"2021\",\"2021\",\"2021\",\"2021\",\"2021\",\"2021\",\"2021\",\"2021\",\"2021\",\"2021\",\"2021\",\"2021\",\"2021\",\"2021\",\"2021\",\"2021\",\"2021\",\"2021\",\"2021\",\"2021\",\"2021\",\"2021\",\"2021\",\"2021\",\"2021\",\"2021\",\"2021\",\"2021\",\"2021\",\"2021\",\"2021\",\"2021\",\"2021\",\"2021\",\"2021\",\"2021\",\"2021\",\"2021\",\"2021\",\"2021\",\"2021\",\"2021\",\"2021\",\"2021\",\"2021\",\"2021\",\"2021\",\"2021\",\"2021\",\"2021\",\"2021\",\"2021\",\"2021\",\"2021\",\"2021\",\"2021\",\"2021\",\"2021\",\"2021\",\"2021\",\"2021\",\"2021\",\"2021\",\"2021\",\"2021\",\"2021\",\"2021\",\"2021\",\"2021\",\"2021\",\"2021\",\"2021\",\"2021\",\"2021\",\"2021\",\"2021\",\"2021\",\"2021\",\"2021\",\"2021\",\"2021\",\"2021\",\"2021\",\"2021\",\"2021\",\"2021\",\"2021\",\"2021\",\"2021\",\"2021\",\"2021\",\"2021\",\"2021\",\"2021\",\"2021\",\"2021\",\"2021\",\"2021\",\"2021\",\"2021\",\"2021\",\"2021\",\"2021\",\"2021\",\"2021\",\"2021\",\"2021\",\"2021\",\"2021\",\"2021\",\"2021\",\"2021\",\"2021\",\"2021\",\"2021\",\"2021\",\"2021\",\"2021\",\"2021\",\"2021\",\"2021\",\"2021\",\"2021\",\"2021\",\"2021\",\"2021\",\"2021\",\"2021\",\"2021\",\"2021\",\"2021\",\"2021\",\"2021\",\"2021\",\"2021\",\"2021\",\"2021\",\"2021\",\"2021\",\"2021\",\"2021\",\"2021\",\"2021\",\"2021\",\"2021\",\"2021\",\"2021\",\"2021\",\"2021\",\"2021\",\"2021\",\"2021\",\"2021\",\"2021\",\"2021\",\"2021\",\"2021\",\"2021\",\"2021\",\"2021\",\"2021\",\"2021\",\"2021\",\"2021\",\"2021\",\"2021\",\"2021\",\"2021\",\"2021\",\"2021\",\"2021\",\"2021\",\"2021\",\"2021\",\"2021\",\"2021\",\"2021\",\"2021\",\"2021\",\"2021\",\"2021\",\"2021\",\"2021\",\"2021\",\"2021\",\"2021\",\"2021\",\"2021\",\"2021\",\"2021\",\"2021\",\"2021\",\"2021\",\"2021\",\"2021\",\"2021\",\"2021\",\"2021\",\"2021\",\"2021\",\"2021\",\"2021\",\"2021\",\"2021\",\"2021\",\"2021\",\"2021\",\"2021\",\"2021\",\"2021\",\"2021\",\"2021\",\"2021\",\"2021\",\"2021\",\"2021\",\"2021\",\"2021\",\"2021\",\"2021\",\"2021\",\"2021\",\"2021\",\"2021\",\"2021\",\"2021\",\"2021\",\"2021\",\"2021\",\"2021\",\"2021\",\"2021\",\"2021\",\"2021\",\"2021\",\"2021\",\"2021\",\"2021\",\"2021\",\"2021\",\"2021\",\"2021\",\"2021\",\"2021\",\"2021\",\"2021\",\"2021\",\"2021\",\"2021\",\"2021\",\"2021\",\"2021\",\"2021\",\"2021\",\"2021\",\"2021\",\"2021\",\"2021\",\"2021\",\"2021\",\"2021\",\"2021\",\"2021\",\"2021\",\"2021\",\"2021\",\"2021\",\"2021\",\"2021\",\"2021\",\"2021\",\"2021\",\"2021\",\"2021\",\"2021\",\"2021\",\"2021\",\"2021\",\"2021\",\"2021\",\"2021\",\"2021\",\"2021\",\"2021\",\"2021\",\"2021\",\"2021\",\"2021\",\"2021\",\"2021\",\"2021\",\"2021\",\"2021\",\"2021\",\"2021\",\"2021\",\"2021\",\"2021\",\"2021\",\"2021\",\"2021\",\"2021\",\"2021\",\"2021\",\"2021\",\"2021\",\"2021\",\"2021\",\"2021\",\"2021\",\"2021\",\"2021\",\"2021\",\"2021\",\"2021\",\"2021\",\"2021\",\"2021\",\"2021\",\"2021\",\"2021\",\"2021\",\"2021\",\"2021\",\"2021\",\"2021\",\"2021\",\"2021\",\"2021\",\"2021\",\"2021\",\"2021\",\"2021\",\"2021\",\"2021\",\"2021\",\"2021\",\"2021\",\"2021\",\"2021\",\"2021\",\"2021\",\"2021\",\"2021\",\"2021\",\"2021\",\"2021\",\"2021\",\"2021\",\"2021\",\"2021\",\"2021\",\"2021\",\"2021\",\"2021\",\"2021\",\"2021\",\"2021\",\"2021\",\"2021\",\"2021\",\"2021\",\"2021\",\"2021\",\"2021\",\"2021\",\"2021\",\"2021\",\"2021\",\"2021\",\"2021\",\"2021\",\"2021\",\"2021\",\"2021\",\"2021\",\"2021\",\"2021\",\"2021\",\"2021\",\"2021\",\"2021\",\"2021\",\"2021\",\"2021\",\"2021\",\"2021\",\"2021\",\"2021\",\"2021\",\"2021\",\"2021\",\"2021\",\"2021\",\"2021\",\"2021\",\"2021\",\"2021\",\"2021\",\"2021\",\"2021\",\"2021\",\"2021\",\"2021\",\"2021\",\"2021\",\"2021\",\"2021\",\"2021\",\"2021\",\"2021\",\"2021\",\"2021\",\"2021\",\"2021\",\"2021\",\"2021\",\"2021\",\"2021\",\"2021\",\"2021\",\"2021\",\"2021\",\"2021\",\"2021\",\"2021\",\"2021\",\"2021\",\"2021\",\"2021\",\"2021\",\"2021\",\"2021\",\"2021\",\"2021\",\"2021\",\"2021\",\"2021\",\"2021\",\"2021\",\"2021\",\"2021\",\"2021\",\"2021\",\"2021\",\"2021\",\"2021\",\"2021\",\"2021\",\"2021\",\"2021\",\"2021\",\"2021\",\"2021\",\"2021\",\"2021\",\"2021\",\"2021\",\"2021\",\"2021\",\"2021\",\"2021\",\"2021\",\"2021\",\"2021\",\"2021\",\"2021\",\"2021\",\"2021\",\"2021\",\"2021\",\"2021\",\"2021\",\"2021\",\"2021\",\"2021\",\"2021\",\"2021\",\"2021\",\"2021\",\"2021\",\"2021\",\"2021\",\"2021\",\"2021\",\"2021\",\"2021\",\"2021\",\"2021\",\"2021\",\"2021\",\"2021\",\"2021\",\"2021\",\"2021\",\"2021\",\"2021\",\"2021\",\"2021\",\"2021\",\"2021\",\"2021\",\"2021\",\"2021\",\"2021\",\"2021\",\"2021\",\"2021\",\"2021\",\"2021\",\"2021\",\"2021\",\"2021\",\"2021\",\"2021\",\"2021\",\"2021\",\"2021\",\"2021\",\"2021\",\"2021\",\"2020\",\"2020\",\"2020\",\"2020\",\"2020\",\"2020\",\"2020\",\"2020\",\"2020\",\"2020\",\"2020\",\"2020\",\"2020\",\"2020\",\"2020\",\"2020\",\"2020\",\"2020\",\"2020\",\"2020\",\"2020\",\"2020\",\"2020\",\"2020\",\"2020\",\"2020\",\"2020\",\"2020\",\"2020\",\"2020\",\"2020\",\"2020\",\"2020\",\"2020\",\"2020\",\"2020\",\"2020\",\"2020\",\"2020\",\"2020\",\"2020\",\"2020\",\"2020\",\"2020\",\"2020\",\"2020\",\"2020\",\"2020\",\"2020\",\"2020\",\"2020\",\"2020\",\"2020\",\"2020\",\"2020\",\"2020\",\"2020\",\"2020\",\"2020\",\"2020\",\"2020\",\"2020\",\"2020\",\"2020\",\"2020\",\"2020\",\"2020\",\"2020\",\"2020\",\"2020\",\"2020\",\"2020\",\"2020\",\"2020\",\"2020\",\"2020\",\"2020\",\"2020\",\"2020\",\"2020\",\"2020\",\"2020\",\"2020\",\"2020\",\"2020\",\"2020\",\"2020\",\"2020\",\"2020\",\"2020\",\"2020\",\"2020\",\"2020\",\"2020\",\"2020\",\"2020\",\"2020\",\"2020\",\"2020\",\"2020\",\"2020\",\"2020\",\"2020\",\"2020\",\"2020\",\"2020\",\"2020\",\"2020\",\"2020\",\"2020\",\"2020\",\"2020\",\"2020\",\"2020\",\"2020\",\"2020\",\"2020\",\"2020\",\"2020\",\"2020\",\"2020\",\"2020\",\"2020\",\"2020\",\"2020\",\"2020\",\"2020\",\"2020\",\"2020\",\"2020\",\"2020\",\"2020\",\"2020\",\"2020\",\"2020\",\"2020\",\"2020\",\"2020\",\"2020\",\"2020\",\"2020\",\"2020\",\"2020\",\"2020\",\"2020\",\"2020\",\"2020\",\"2020\",\"2020\",\"2020\",\"2020\",\"2020\",\"2020\",\"2020\",\"2020\",\"2020\",\"2020\",\"2020\",\"2020\",\"2020\",\"2020\",\"2020\",\"2020\",\"2020\",\"2020\",\"2020\",\"2020\",\"2020\",\"2020\",\"2020\",\"2020\",\"2020\",\"2020\",\"2020\",\"2020\",\"2020\",\"2020\",\"2020\",\"2020\",\"2020\",\"2020\",\"2020\",\"2020\",\"2020\",\"2020\",\"2020\",\"2020\",\"2020\",\"2020\",\"2020\",\"2020\",\"2020\",\"2020\",\"2020\",\"2020\",\"2020\",\"2020\",\"2020\",\"2020\",\"2020\",\"2020\",\"2020\",\"2020\",\"2020\",\"2020\",\"2020\",\"2020\",\"2020\",\"2020\",\"2020\",\"2020\",\"2020\",\"2020\",\"2020\",\"2020\",\"2020\",\"2020\",\"2020\",\"2020\",\"2020\",\"2020\",\"2020\",\"2020\",\"2020\",\"2020\",\"2020\",\"2020\",\"2020\",\"2020\",\"2020\",\"2020\",\"2020\",\"2020\",\"2020\",\"2020\",\"2020\",\"2020\",\"2020\",\"2020\",\"2020\",\"2020\",\"2020\",\"2020\",\"2020\",\"2020\",\"2020\",\"2020\",\"2020\",\"2020\",\"2020\",\"2020\",\"2020\",\"2020\",\"2020\",\"2020\",\"2020\",\"2020\",\"2020\",\"2020\",\"2020\",\"2020\",\"2020\",\"2020\",\"2020\",\"2020\",\"2020\",\"2020\",\"2020\",\"2020\",\"2020\",\"2020\",\"2020\",\"2020\",\"2020\",\"2020\",\"2020\",\"2020\",\"2020\",\"2020\",\"2020\",\"2020\",\"2020\",\"2020\",\"2020\",\"2020\",\"2020\",\"2020\",\"2020\",\"2020\",\"2020\",\"2020\",\"2020\",\"2020\",\"2020\",\"2020\",\"2020\",\"2020\",\"2020\",\"2020\",\"2020\",\"2020\",\"2020\",\"2020\",\"2020\",\"2020\",\"2020\",\"2020\",\"2020\",\"2020\",\"2020\",\"2020\",\"2020\",\"2020\",\"2020\",\"2020\",\"2020\",\"2020\",\"2020\",\"2020\",\"2020\",\"2020\",\"2020\",\"2020\",\"2020\",\"2020\",\"2020\",\"2020\",\"2020\",\"2020\",\"2020\",\"2020\",\"2020\",\"2020\",\"2020\",\"2020\",\"2020\",\"2020\",\"2020\",\"2020\",\"2020\",\"2020\",\"2020\",\"2020\",\"2020\",\"2020\",\"2020\",\"2020\",\"2020\",\"2020\",\"2020\",\"2020\",\"2020\",\"2020\",\"2020\",\"2020\",\"2020\",\"2020\",\"2020\",\"2020\",\"2020\",\"2020\",\"2020\",\"2020\",\"2020\",\"2020\",\"2020\",\"2020\",\"2020\",\"2020\",\"2020\",\"2020\",\"2020\",\"2020\",\"2020\",\"2020\",\"2020\",\"2020\",\"2020\",\"2020\",\"2020\",\"2020\",\"2020\",\"2020\",\"2020\",\"2020\",\"2020\",\"2020\",\"2020\",\"2020\",\"2020\",\"2020\",\"2020\",\"2020\",\"2020\",\"2020\",\"2020\",\"2020\",\"2020\",\"2020\",\"2020\",\"2020\",\"2020\",\"2020\",\"2020\",\"2020\",\"2020\",\"2020\",\"2020\",\"2020\",\"2020\",\"2020\",\"2020\",\"2020\",\"2020\",\"2020\",\"2020\",\"2020\",\"2020\",\"2020\",\"2020\",\"2020\",\"2020\",\"2020\",\"2020\",\"2020\",\"2020\",\"2020\",\"2020\",\"2020\",\"2020\",\"2020\",\"2020\",\"2020\",\"2020\",\"2020\",\"2020\",\"2020\",\"2020\",\"2020\",\"2020\",\"2020\",\"2020\",\"2020\",\"2020\",\"2020\",\"2020\",\"2020\",\"2020\",\"2020\",\"2020\",\"2020\",\"2020\",\"2020\",\"2020\",\"2020\",\"2020\",\"2020\",\"2020\",\"2020\",\"2020\",\"2020\",\"2020\",\"2020\",\"2020\",\"2020\",\"2020\",\"2020\",\"2020\",\"2020\",\"2020\",\"2020\",\"2020\",\"2020\",\"2020\",\"2020\",\"2020\",\"2020\",\"2020\",\"2020\",\"2020\",\"2020\",\"2020\",\"2020\",\"2020\",\"2020\",\"2020\",\"2020\",\"2020\",\"2020\",\"2020\",\"2020\",\"2020\",\"2020\",\"2020\",\"2020\",\"2020\",\"2020\",\"2020\",\"2020\",\"2020\",\"2020\",\"2020\",\"2020\",\"2020\",\"2020\",\"2020\",\"2020\",\"2020\",\"2020\",\"2020\",\"2020\",\"2020\",\"2020\",\"2020\",\"2020\",\"2020\",\"2020\",\"2020\",\"2020\",\"2020\",\"2020\",\"2020\",\"2020\",\"2020\",\"2020\",\"2020\",\"2020\",\"2020\",\"2020\",\"2020\",\"2020\",\"2020\",\"2020\",\"2020\",\"2020\",\"2020\",\"2020\",\"2020\",\"2020\",\"2020\",\"2020\",\"2020\",\"2020\",\"2020\",\"2020\",\"2020\",\"2020\",\"2020\",\"2020\",\"2020\",\"2020\",\"2020\",\"2020\",\"2020\",\"2020\",\"2020\",\"2020\",\"2020\",\"2020\",\"2020\",\"2020\",\"2020\",\"2020\",\"2020\",\"2020\",\"2020\",\"2020\",\"2020\",\"2020\",\"2020\",\"2020\",\"2020\",\"2020\",\"2020\",\"2020\",\"2020\",\"2020\",\"2020\",\"2020\",\"2020\",\"2020\",\"2020\",\"2020\",\"2020\",\"2020\",\"2020\",\"2020\",\"2020\",\"2020\",\"2020\",\"2020\",\"2020\",\"2020\",\"2020\",\"2020\",\"2020\",\"2020\",\"2020\",\"2020\",\"2020\",\"2020\",\"2020\",\"2020\",\"2020\",\"2020\",\"2020\",\"2020\",\"2020\",\"2020\",\"2020\",\"2020\",\"2020\",\"2020\",\"2020\",\"2020\",\"2020\",\"2020\",\"2020\",\"2020\",\"2020\",\"2020\",\"2020\",\"2020\",\"2020\",\"2020\",\"2020\",\"2020\",\"2020\",\"2020\",\"2020\",\"2020\",\"2020\",\"2020\",\"2020\",\"2020\",\"2020\",\"2020\",\"2020\",\"2020\",\"2020\",\"2020\",\"2020\",\"2020\",\"2020\",\"2020\",\"2020\",\"2020\",\"2020\",\"2020\",\"2020\",\"2020\",\"2020\",\"2020\",\"2020\",\"2020\",\"2020\",\"2020\",\"2020\",\"2020\",\"2020\",\"2020\",\"2020\",\"2020\",\"2020\",\"2020\",\"2020\",\"2020\",\"2020\",\"2020\",\"2020\",\"2020\",\"2020\",\"2020\",\"2020\",\"2020\",\"2020\",\"2020\",\"2020\",\"2020\",\"2020\",\"2020\",\"2020\",\"2020\",\"2020\",\"2020\",\"2020\",\"2020\",\"2020\",\"2020\",\"2020\",\"2020\",\"2020\",\"2020\",\"2020\",\"2020\",\"2020\",\"2020\",\"2020\",\"2020\",\"2020\",\"2020\",\"2020\",\"2020\",\"2020\",\"2020\",\"2020\",\"2020\",\"2020\",\"2020\",\"2020\",\"2020\",\"2020\",\"2020\",\"2020\",\"2020\",\"2020\",\"2020\",\"2020\",\"2020\",\"2020\",\"2020\",\"2020\",\"2020\",\"2020\",\"2020\",\"2020\",\"2020\",\"2020\",\"2020\",\"2020\",\"2020\",\"2020\",\"2020\",\"2020\",\"2020\",\"2020\",\"2020\",\"2020\",\"2020\",\"2020\",\"2020\",\"2020\",\"2020\",\"2020\",\"2020\",\"2020\",\"2020\",\"2020\",\"2020\",\"2020\",\"2020\",\"2020\",\"2020\",\"2020\",\"2020\",\"2020\",\"2020\",\"2020\",\"2020\",\"2020\",\"2020\",\"2020\",\"2020\",\"2020\",\"2020\",\"2020\",\"2020\",\"2020\",\"2020\",\"2020\",\"2020\",\"2020\",\"2020\",\"2020\",\"2020\",\"2020\",\"2020\",\"2020\",\"2020\",\"2020\",\"2020\",\"2020\",\"2020\",\"2020\",\"2020\",\"2020\",\"2020\",\"2020\",\"2020\",\"2020\",\"2020\",\"2020\",\"2020\",\"2020\",\"2020\",\"2020\",\"2020\",\"2020\",\"2020\",\"2020\",\"2020\",\"2020\",\"2020\",\"2020\",\"2020\",\"2020\",\"2020\",\"2020\",\"2020\",\"2020\",\"2020\",\"2020\",\"2020\",\"2020\",\"2020\",\"2020\",\"2020\",\"2020\",\"2020\",\"2020\",\"2020\",\"2020\",\"2020\",\"2020\",\"2020\",\"2020\",\"2020\",\"2020\",\"2020\",\"2020\",\"2020\",\"2020\",\"2020\",\"2020\",\"2020\",\"2020\",\"2020\",\"2020\",\"2020\",\"2020\",\"2020\",\"2020\",\"2020\",\"2020\",\"2020\",\"2020\",\"2020\",\"2020\",\"2020\",\"2020\",\"2020\",\"2020\",\"2020\",\"2020\",\"2020\",\"2020\",\"2020\",\"2020\",\"2020\",\"2020\",\"2020\",\"2020\",\"2020\",\"2020\",\"2020\",\"2020\",\"2020\",\"2020\",\"2020\",\"2020\",\"2020\",\"2020\",\"2020\",\"2020\",\"2020\",\"2020\",\"2020\",\"2020\",\"2020\",\"2020\",\"2020\",\"2020\",\"2020\",\"2020\",\"2020\",\"2020\",\"2020\",\"2020\",\"2020\",\"2020\",\"2020\",\"2020\",\"2020\",\"2020\",\"2020\",\"2020\",\"2020\",\"2020\",\"2020\",\"2020\",\"2020\",\"2020\",\"2020\",\"2020\",\"2020\",\"2020\",\"2020\",\"2020\",\"2020\",\"2020\",\"2020\",\"2020\",\"2020\",\"2020\",\"2020\",\"2020\",\"2020\",\"2020\",\"2020\",\"2020\",\"2020\",\"2020\",\"2020\",\"2020\",\"2020\",\"2020\",\"2020\",\"2020\",\"2020\",\"2020\",\"2020\",\"2020\",\"2020\",\"2020\",\"2020\",\"2020\",\"2020\",\"2020\",\"2020\",\"2020\",\"2020\",\"2020\",\"2020\",\"2020\",\"2020\",\"2020\",\"2020\",\"2020\",\"2020\",\"2020\",\"2020\",\"2020\",\"2020\",\"2020\",\"2020\",\"2020\",\"2020\",\"2020\",\"2020\",\"2020\",\"2020\",\"2020\",\"2020\",\"2020\",\"2020\",\"2020\",\"2020\",\"2020\",\"2020\",\"2020\",\"2020\",\"2020\",\"2020\",\"2020\",\"2020\",\"2020\",\"2020\",\"2020\",\"2020\",\"2020\",\"2020\",\"2020\",\"2020\",\"2020\",\"2020\",\"2020\",\"2020\",\"2020\",\"2020\",\"2020\",\"2020\",\"2020\",\"2020\",\"2020\",\"2020\",\"2020\",\"2020\",\"2020\",\"2020\",\"2020\",\"2020\",\"2020\",\"2020\",\"2020\",\"2020\",\"2020\",\"2020\",\"2020\",\"2020\",\"2020\",\"2020\",\"2020\",\"2020\",\"2020\",\"2020\",\"2020\",\"2020\",\"2020\",\"2020\",\"2020\",\"2020\",\"2020\",\"2020\",\"2020\",\"2020\",\"2020\",\"2020\",\"2020\",\"2020\",\"2020\",\"2020\",\"2020\",\"2020\",\"2019\",\"2019\",\"2019\",\"2019\",\"2019\",\"2019\",\"2019\",\"2019\",\"2019\",\"2019\",\"2019\",\"2019\",\"2019\",\"2019\",\"2019\",\"2019\",\"2019\",\"2019\",\"2019\",\"2019\",\"2019\",\"2019\",\"2019\",\"2019\",\"2019\",\"2019\",\"2019\",\"2019\",\"2019\",\"2019\",\"2019\",\"2019\",\"2019\",\"2019\",\"2019\",\"2019\",\"2019\",\"2019\",\"2019\",\"2019\",\"2019\",\"2019\",\"2019\",\"2019\",\"2019\",\"2019\",\"2019\",\"2019\",\"2019\",\"2019\",\"2019\",\"2019\",\"2019\",\"2019\",\"2019\",\"2019\",\"2019\",\"2019\",\"2019\",\"2019\",\"2019\",\"2019\",\"2019\",\"2019\",\"2019\",\"2019\",\"2019\",\"2019\",\"2019\",\"2019\",\"2019\",\"2019\",\"2019\",\"2019\",\"2019\",\"2019\",\"2019\",\"2019\",\"2019\",\"2019\",\"2019\",\"2019\",\"2019\",\"2019\",\"2019\",\"2019\",\"2019\",\"2019\",\"2019\",\"2019\",\"2019\",\"2019\",\"2019\",\"2019\",\"2019\",\"2019\",\"2019\",\"2019\",\"2019\",\"2019\",\"2019\",\"2019\",\"2019\",\"2019\",\"2019\",\"2019\",\"2019\",\"2019\",\"2019\",\"2019\",\"2019\",\"2019\",\"2019\",\"2019\",\"2019\",\"2019\",\"2019\",\"2019\",\"2019\",\"2019\",\"2019\",\"2019\",\"2019\",\"2019\",\"2019\",\"2019\",\"2019\",\"2019\",\"2019\",\"2019\",\"2019\",\"2019\",\"2019\",\"2019\",\"2019\",\"2019\",\"2019\",\"2019\",\"2019\",\"2019\",\"2019\",\"2019\",\"2019\",\"2019\",\"2019\",\"2019\",\"2019\",\"2019\",\"2019\",\"2019\",\"2019\",\"2019\",\"2019\",\"2019\",\"2019\",\"2019\",\"2019\",\"2019\",\"2019\",\"2019\",\"2019\",\"2019\",\"2019\",\"2019\",\"2019\",\"2019\",\"2019\",\"2019\",\"2019\",\"2019\",\"2019\",\"2019\",\"2019\",\"2019\",\"2019\",\"2019\",\"2019\",\"2019\",\"2019\",\"2019\",\"2019\",\"2019\",\"2019\",\"2019\",\"2019\",\"2019\",\"2019\",\"2019\",\"2019\",\"2019\",\"2019\",\"2019\",\"2019\",\"2019\",\"2019\",\"2019\",\"2019\",\"2019\",\"2019\",\"2019\",\"2019\",\"2019\",\"2019\",\"2019\",\"2019\",\"2019\",\"2019\",\"2019\",\"2019\",\"2019\",\"2019\",\"2019\",\"2019\",\"2019\",\"2019\",\"2019\",\"2019\",\"2019\",\"2019\",\"2019\",\"2019\",\"2019\",\"2019\",\"2019\",\"2019\",\"2019\",\"2019\",\"2019\",\"2019\",\"2019\",\"2019\",\"2019\",\"2019\",\"2019\",\"2019\",\"2019\",\"2019\",\"2019\",\"2019\",\"2019\",\"2019\",\"2019\",\"2019\",\"2019\",\"2019\",\"2019\",\"2019\",\"2019\",\"2019\",\"2019\",\"2019\",\"2019\",\"2019\",\"2019\",\"2019\",\"2019\",\"2019\",\"2019\",\"2019\",\"2019\",\"2019\",\"2019\",\"2019\",\"2019\",\"2019\",\"2019\",\"2019\",\"2019\",\"2019\",\"2019\",\"2019\",\"2019\",\"2019\",\"2019\",\"2019\",\"2019\",\"2019\",\"2019\",\"2019\",\"2019\",\"2019\",\"2019\",\"2019\",\"2019\",\"2019\",\"2019\",\"2019\",\"2019\",\"2019\",\"2019\",\"2019\",\"2019\",\"2019\",\"2019\",\"2019\",\"2019\",\"2019\",\"2019\",\"2019\",\"2019\",\"2019\",\"2019\",\"2019\",\"2019\",\"2019\",\"2019\",\"2019\",\"2019\",\"2019\",\"2019\",\"2019\",\"2019\",\"2019\",\"2019\",\"2019\",\"2019\",\"2019\",\"2019\",\"2019\",\"2019\",\"2019\",\"2019\",\"2019\",\"2019\",\"2019\",\"2019\",\"2019\",\"2019\",\"2019\",\"2019\",\"2019\",\"2019\",\"2019\",\"2019\",\"2019\",\"2019\",\"2019\",\"2019\",\"2019\",\"2019\",\"2019\",\"2019\",\"2019\",\"2019\",\"2019\",\"2019\",\"2019\",\"2019\",\"2019\",\"2019\",\"2019\",\"2019\",\"2019\",\"2019\",\"2019\",\"2019\",\"2019\",\"2019\",\"2019\",\"2019\",\"2019\",\"2019\",\"2019\",\"2019\",\"2019\",\"2019\",\"2019\",\"2019\",\"2019\",\"2019\",\"2019\",\"2019\",\"2019\",\"2019\",\"2019\",\"2019\",\"2019\",\"2019\",\"2019\",\"2019\",\"2019\",\"2019\",\"2019\",\"2019\",\"2019\",\"2019\",\"2019\",\"2019\",\"2019\",\"2019\",\"2019\",\"2019\",\"2019\",\"2019\",\"2019\",\"2019\",\"2019\",\"2019\",\"2019\",\"2019\",\"2019\",\"2019\",\"2019\",\"2019\",\"2019\",\"2019\",\"2019\",\"2019\",\"2019\",\"2019\",\"2019\",\"2019\",\"2019\",\"2019\",\"2019\",\"2019\",\"2019\",\"2019\",\"2019\",\"2019\",\"2019\",\"2019\",\"2019\",\"2019\",\"2019\",\"2019\",\"2019\",\"2019\",\"2019\",\"2019\",\"2019\",\"2019\",\"2019\",\"2019\",\"2019\",\"2019\",\"2019\",\"2019\",\"2019\",\"2019\",\"2019\",\"2019\",\"2019\",\"2019\",\"2019\",\"2019\",\"2019\",\"2019\",\"2019\",\"2019\",\"2019\",\"2019\",\"2019\",\"2019\",\"2019\",\"2019\",\"2019\",\"2019\",\"2019\",\"2019\",\"2019\",\"2019\",\"2019\",\"2019\",\"2019\",\"2019\",\"2019\",\"2019\",\"2019\",\"2019\",\"2019\",\"2019\",\"2019\",\"2019\",\"2019\",\"2019\",\"2019\",\"2019\",\"2019\",\"2019\",\"2019\",\"2019\",\"2019\",\"2019\",\"2019\",\"2019\",\"2019\",\"2019\",\"2019\",\"2019\",\"2019\",\"2019\",\"2019\",\"2019\",\"2019\",\"2019\",\"2019\",\"2019\",\"2019\",\"2019\",\"2019\",\"2019\",\"2019\",\"2019\",\"2019\",\"2019\",\"2019\",\"2019\",\"2019\",\"2019\",\"2019\",\"2019\",\"2019\",\"2019\",\"2019\",\"2019\",\"2019\",\"2019\",\"2019\",\"2019\",\"2019\",\"2019\",\"2019\",\"2019\",\"2019\",\"2019\",\"2019\",\"2019\",\"2019\",\"2019\",\"2019\",\"2019\",\"2019\",\"2019\",\"2019\",\"2019\",\"2019\",\"2019\",\"2019\",\"2019\",\"2019\",\"2019\",\"2019\",\"2019\",\"2019\",\"2019\",\"2019\",\"2019\",\"2019\",\"2019\",\"2019\",\"2019\",\"2019\",\"2019\",\"2019\",\"2019\",\"2019\",\"2019\",\"2019\",\"2019\",\"2019\",\"2019\",\"2019\",\"2019\",\"2019\",\"2019\",\"2019\",\"2019\",\"2019\",\"2019\",\"2019\",\"2019\",\"2019\",\"2019\",\"2019\",\"2019\",\"2019\",\"2019\",\"2019\",\"2019\",\"2019\",\"2019\",\"2019\",\"2019\",\"2019\",\"2019\",\"2019\",\"2019\",\"2019\",\"2019\",\"2019\",\"2019\",\"2019\",\"2019\",\"2019\",\"2019\",\"2019\",\"2019\",\"2019\",\"2019\",\"2019\",\"2019\",\"2019\",\"2019\",\"2019\",\"2019\",\"2019\",\"2019\",\"2019\",\"2019\",\"2019\",\"2019\",\"2019\",\"2019\",\"2019\",\"2019\",\"2019\",\"2019\",\"2019\",\"2019\",\"2019\",\"2019\",\"2019\",\"2019\",\"2019\",\"2019\",\"2019\",\"2019\",\"2019\",\"2019\",\"2019\",\"2019\",\"2019\",\"2019\",\"2019\",\"2019\",\"2019\",\"2019\",\"2019\",\"2019\",\"2019\",\"2019\",\"2019\",\"2019\",\"2019\",\"2019\",\"2019\",\"2019\",\"2019\",\"2019\",\"2019\",\"2019\",\"2019\",\"2019\",\"2019\",\"2019\",\"2019\",\"2019\",\"2019\",\"2019\",\"2019\",\"2019\",\"2019\",\"2019\",\"2019\",\"2019\",\"2019\",\"2019\",\"2019\",\"2019\",\"2019\",\"2019\",\"2019\",\"2019\",\"2019\",\"2019\",\"2019\",\"2019\",\"2019\",\"2019\",\"2019\",\"2019\",\"2018\",\"2018\",\"2018\",\"2018\",\"2018\",\"2018\",\"2018\",\"2018\",\"2018\",\"2018\",\"2018\",\"2018\",\"2018\",\"2018\",\"2018\",\"2018\",\"2018\",\"2018\",\"2018\",\"2018\",\"2018\",\"2018\",\"2018\",\"2018\",\"2018\",\"2018\",\"2018\",\"2018\",\"2018\",\"2018\",\"2018\",\"2018\",\"2018\",\"2018\",\"2018\",\"2018\",\"2018\",\"2018\",\"2018\",\"2018\",\"2018\",\"2018\",\"2018\",\"2018\",\"2018\",\"2018\",\"2018\",\"2018\",\"2018\",\"2018\",\"2018\",\"2018\",\"2018\",\"2018\",\"2018\",\"2018\",\"2018\",\"2018\",\"2018\",\"2018\",\"2018\",\"2018\",\"2018\",\"2018\",\"2018\",\"2018\",\"2018\",\"2018\",\"2018\",\"2018\",\"2018\",\"2018\",\"2018\",\"2018\",\"2018\",\"2018\",\"2018\",\"2018\",\"2018\",\"2018\",\"2018\",\"2018\",\"2018\",\"2018\",\"2018\",\"2018\",\"2018\",\"2018\",\"2018\",\"2018\",\"2018\",\"2018\",\"2018\",\"2018\",\"2018\",\"2018\",\"2018\",\"2018\",\"2018\",\"2018\",\"2018\",\"2018\",\"2018\",\"2018\",\"2018\",\"2018\",\"2018\",\"2018\",\"2018\",\"2018\",\"2018\",\"2018\",\"2018\",\"2018\",\"2018\",\"2018\",\"2018\",\"2018\",\"2018\",\"2018\",\"2018\",\"2018\",\"2018\",\"2018\",\"2018\",\"2018\",\"2018\",\"2018\",\"2018\",\"2018\",\"2018\",\"2018\",\"2018\",\"2018\",\"2018\",\"2018\",\"2018\",\"2018\",\"2018\",\"2018\",\"2018\",\"2018\",\"2018\",\"2018\",\"2018\",\"2018\",\"2018\",\"2018\",\"2018\",\"2018\",\"2018\",\"2018\",\"2018\",\"2018\",\"2018\",\"2018\",\"2018\",\"2018\",\"2018\",\"2018\",\"2018\",\"2018\",\"2018\",\"2018\",\"2018\",\"2018\",\"2018\",\"2018\",\"2018\",\"2018\",\"2018\",\"2018\",\"2018\",\"2018\",\"2018\",\"2018\",\"2018\",\"2018\",\"2018\",\"2018\",\"2018\",\"2018\",\"2018\",\"2018\",\"2018\",\"2018\",\"2018\",\"2018\",\"2018\",\"2018\",\"2018\",\"2018\",\"2018\",\"2018\",\"2018\",\"2018\",\"2018\",\"2018\",\"2018\",\"2018\",\"2018\",\"2018\",\"2018\",\"2018\",\"2018\",\"2018\",\"2018\",\"2018\",\"2018\",\"2018\",\"2018\",\"2018\",\"2018\",\"2018\",\"2018\",\"2018\",\"2018\",\"2018\",\"2018\",\"2018\",\"2018\",\"2018\",\"2018\",\"2018\",\"2018\",\"2018\",\"2018\",\"2018\",\"2018\",\"2018\",\"2018\",\"2018\",\"2018\",\"2018\",\"2018\",\"2018\",\"2018\",\"2018\",\"2018\",\"2018\",\"2018\",\"2018\",\"2018\",\"2018\",\"2018\",\"2018\",\"2018\",\"2018\",\"2018\",\"2018\",\"2018\",\"2018\",\"2018\",\"2018\",\"2018\",\"2018\",\"2018\",\"2018\",\"2018\",\"2018\",\"2018\",\"2018\",\"2018\",\"2018\",\"2018\",\"2018\",\"2018\",\"2018\",\"2018\",\"2018\",\"2018\",\"2018\",\"2018\",\"2018\",\"2018\",\"2018\",\"2018\",\"2018\",\"2018\",\"2018\",\"2018\",\"2018\",\"2018\",\"2018\",\"2018\",\"2018\",\"2018\",\"2018\",\"2018\",\"2018\",\"2018\",\"2018\",\"2018\",\"2018\",\"2018\",\"2018\",\"2018\",\"2018\",\"2018\",\"2018\",\"2018\",\"2018\",\"2018\",\"2018\",\"2018\",\"2018\",\"2018\",\"2018\",\"2018\",\"2018\",\"2018\",\"2018\",\"2018\",\"2018\",\"2018\",\"2018\",\"2018\",\"2018\",\"2018\",\"2018\",\"2018\",\"2018\",\"2018\",\"2018\",\"2018\",\"2018\",\"2018\",\"2018\",\"2018\",\"2018\",\"2018\",\"2018\",\"2018\",\"2018\",\"2018\",\"2018\",\"2018\",\"2018\",\"2018\",\"2018\",\"2018\",\"2018\",\"2018\",\"2018\",\"2018\",\"2018\",\"2018\",\"2018\",\"2018\",\"2018\",\"2018\",\"2018\",\"2018\",\"2018\",\"2018\",\"2018\",\"2018\",\"2018\",\"2018\",\"2018\",\"2018\",\"2018\",\"2018\",\"2018\",\"2018\",\"2018\",\"2018\",\"2018\",\"2018\",\"2018\",\"2018\",\"2018\",\"2018\",\"2018\",\"2018\",\"2018\",\"2018\",\"2018\",\"2018\",\"2018\",\"2018\",\"2018\",\"2018\",\"2018\",\"2018\",\"2018\",\"2018\",\"2018\",\"2018\",\"2018\",\"2018\",\"2018\",\"2018\",\"2018\",\"2018\",\"2018\",\"2018\",\"2018\",\"2018\",\"2018\",\"2018\",\"2018\",\"2018\",\"2018\",\"2018\",\"2018\",\"2018\",\"2018\",\"2018\",\"2018\",\"2018\",\"2018\",\"2018\",\"2018\",\"2018\",\"2018\",\"2018\",\"2018\",\"2018\",\"2018\",\"2018\",\"2018\",\"2018\",\"2018\",\"2018\",\"2018\",\"2018\",\"2018\",\"2018\",\"2018\",\"2018\",\"2018\",\"2018\",\"2018\",\"2018\",\"2018\",\"2018\",\"2018\",\"2018\",\"2018\",\"2018\",\"2018\",\"2018\",\"2018\",\"2018\",\"2018\",\"2018\",\"2018\",\"2018\",\"2018\",\"2018\",\"2018\",\"2018\",\"2018\",\"2018\",\"2018\",\"2018\",\"2018\",\"2018\",\"2018\",\"2018\",\"2018\",\"2018\",\"2018\",\"2018\",\"2018\",\"2018\",\"2018\",\"2018\",\"2018\",\"2018\",\"2018\",\"2018\",\"2018\",\"2018\",\"2018\",\"2018\",\"2018\",\"2018\",\"2018\",\"2018\",\"2018\",\"2018\",\"2018\",\"2018\",\"2018\",\"2018\",\"2018\",\"2018\",\"2018\",\"2018\",\"2018\",\"2018\",\"2018\",\"2018\",\"2018\",\"2018\",\"2018\",\"2018\",\"2018\",\"2018\",\"2018\",\"2018\",\"2018\",\"2018\",\"2018\",\"2018\",\"2018\",\"2018\",\"2018\",\"2018\",\"2018\",\"2018\",\"2018\",\"2018\",\"2018\",\"2018\",\"2018\",\"2018\",\"2018\",\"2018\",\"2018\",\"2018\",\"2018\",\"2018\",\"2018\",\"2018\",\"2018\",\"2018\",\"2018\",\"2018\",\"2018\",\"2018\",\"2018\",\"2018\",\"2018\",\"2018\",\"2018\",\"2018\",\"2018\",\"2018\",\"2018\",\"2018\",\"2018\",\"2018\",\"2018\",\"2018\",\"2018\",\"2018\",\"2018\",\"2018\",\"2018\",\"2018\",\"2018\",\"2018\",\"2018\",\"2018\",\"2018\",\"2018\",\"2018\",\"2018\",\"2018\",\"2018\",\"2018\",\"2018\",\"2018\",\"2018\",\"2018\",\"2018\",\"2018\",\"2018\",\"2018\",\"2018\",\"2018\",\"2018\",\"2018\",\"2018\",\"2018\",\"2018\",\"2018\",\"2018\",\"2018\",\"2018\",\"2018\",\"2018\",\"2018\",\"2018\",\"2018\",\"2018\",\"2018\",\"2018\",\"2018\",\"2018\",\"2018\",\"2018\",\"2018\",\"2018\",\"2018\",\"2018\",\"2018\",\"2018\",\"2017\",\"2017\",\"2017\",\"2017\",\"2017\",\"2017\",\"2017\",\"2017\",\"2017\",\"2017\",\"2017\",\"2017\",\"2017\",\"2017\",\"2017\",\"2017\",\"2017\",\"2017\",\"2017\",\"2017\",\"2017\",\"2017\",\"2017\",\"2017\",\"2017\",\"2017\",\"2017\",\"2017\",\"2017\",\"2017\",\"2017\",\"2017\",\"2017\",\"2017\",\"2017\",\"2017\",\"2017\",\"2017\",\"2017\",\"2017\",\"2017\",\"2017\",\"2017\",\"2017\",\"2017\",\"2017\",\"2017\",\"2017\",\"2017\",\"2017\",\"2017\",\"2017\",\"2017\",\"2017\",\"2017\",\"2017\",\"2017\",\"2017\",\"2017\",\"2017\",\"2017\",\"2017\",\"2017\",\"2017\",\"2017\",\"2017\",\"2017\",\"2017\",\"2017\",\"2017\",\"2017\",\"2017\",\"2017\",\"2017\",\"2017\",\"2017\",\"2017\",\"2017\",\"2017\",\"2017\",\"2017\",\"2017\",\"2017\",\"2017\",\"2017\",\"2017\",\"2017\",\"2017\",\"2017\",\"2017\",\"2017\",\"2017\",\"2017\",\"2017\",\"2017\",\"2017\",\"2017\",\"2017\",\"2017\",\"2017\",\"2017\",\"2017\",\"2017\",\"2017\",\"2017\",\"2017\",\"2017\",\"2017\",\"2017\",\"2017\",\"2017\",\"2017\",\"2017\",\"2017\",\"2017\",\"2017\",\"2017\",\"2017\",\"2017\",\"2017\",\"2017\",\"2017\",\"2017\",\"2017\",\"2017\",\"2017\",\"2017\",\"2017\",\"2017\",\"2017\",\"2017\",\"2017\",\"2017\",\"2017\",\"2017\",\"2017\",\"2017\",\"2017\",\"2017\",\"2017\",\"2017\",\"2017\",\"2017\",\"2017\",\"2017\",\"2017\",\"2017\",\"2017\",\"2017\",\"2017\",\"2017\",\"2017\",\"2017\",\"2017\",\"2017\",\"2017\",\"2017\",\"2017\",\"2017\",\"2017\",\"2017\",\"2017\",\"2017\",\"2017\",\"2017\",\"2017\",\"2017\",\"2017\",\"2017\",\"2017\",\"2017\",\"2017\",\"2017\",\"2017\",\"2017\",\"2017\",\"2017\",\"2017\",\"2017\",\"2017\",\"2017\",\"2017\",\"2017\",\"2017\",\"2017\",\"2017\",\"2017\",\"2017\",\"2017\",\"2017\",\"2017\",\"2017\",\"2017\",\"2017\",\"2017\",\"2017\",\"2017\",\"2017\",\"2017\",\"2017\",\"2017\",\"2017\",\"2017\",\"2017\",\"2017\",\"2017\",\"2017\",\"2017\",\"2017\",\"2017\",\"2017\",\"2017\",\"2017\",\"2017\",\"2017\",\"2017\",\"2017\",\"2017\",\"2017\",\"2017\",\"2017\",\"2017\",\"2017\",\"2017\",\"2017\",\"2017\",\"2017\",\"2017\",\"2017\",\"2017\",\"2017\",\"2017\",\"2017\",\"2017\",\"2017\",\"2017\",\"2017\",\"2017\",\"2017\",\"2017\",\"2017\",\"2017\",\"2017\",\"2017\",\"2017\",\"2017\",\"2017\",\"2017\",\"2017\",\"2017\",\"2017\",\"2017\",\"2017\",\"2017\",\"2017\",\"2017\",\"2017\",\"2017\",\"2017\",\"2017\",\"2017\",\"2017\",\"2017\",\"2017\",\"2017\",\"2017\",\"2017\",\"2017\",\"2017\",\"2017\",\"2017\",\"2017\",\"2017\",\"2017\",\"2017\",\"2017\",\"2017\",\"2017\",\"2017\",\"2017\",\"2017\",\"2017\",\"2017\",\"2017\",\"2017\",\"2017\",\"2017\",\"2017\",\"2017\",\"2017\",\"2017\",\"2017\",\"2017\",\"2017\",\"2017\",\"2017\",\"2017\",\"2017\",\"2017\",\"2017\",\"2017\",\"2017\",\"2017\",\"2017\",\"2017\",\"2017\",\"2017\",\"2017\",\"2017\",\"2017\",\"2017\",\"2017\",\"2017\",\"2017\",\"2017\",\"2017\",\"2017\",\"2017\",\"2017\",\"2017\",\"2017\",\"2017\",\"2017\",\"2017\",\"2017\",\"2017\",\"2017\",\"2017\",\"2017\",\"2017\",\"2017\",\"2017\",\"2017\",\"2017\",\"2017\",\"2017\",\"2017\",\"2017\",\"2017\",\"2017\",\"2017\",\"2017\",\"2017\",\"2017\",\"2017\",\"2017\",\"2017\",\"2017\",\"2017\",\"2017\",\"2017\",\"2017\",\"2017\",\"2017\",\"2017\",\"2017\",\"2017\",\"2017\",\"2017\",\"2017\",\"2017\",\"2017\",\"2017\",\"2017\",\"2017\",\"2017\",\"2017\",\"2016\",\"2016\",\"2016\",\"2016\",\"2016\",\"2016\",\"2016\",\"2016\",\"2016\",\"2016\",\"2016\",\"2016\",\"2016\",\"2016\",\"2016\",\"2016\",\"2016\",\"2016\",\"2016\",\"2016\",\"2016\",\"2016\",\"2016\",\"2016\",\"2016\",\"2016\",\"2016\",\"2016\",\"2016\",\"2016\",\"2016\",\"2016\",\"2016\",\"2016\",\"2016\",\"2016\",\"2016\",\"2016\",\"2016\",\"2016\",\"2016\",\"2016\",\"2016\",\"2016\",\"2016\",\"2016\",\"2016\",\"2016\",\"2016\",\"2016\",\"2016\",\"2016\",\"2016\",\"2016\",\"2016\",\"2016\",\"2016\",\"2016\",\"2016\",\"2016\",\"2016\",\"2016\",\"2016\",\"2016\",\"2016\",\"2016\",\"2016\",\"2016\",\"2016\",\"2016\",\"2016\",\"2016\",\"2016\",\"2016\",\"2016\",\"2016\",\"2016\",\"2016\",\"2016\",\"2016\",\"2016\",\"2016\",\"2016\",\"2016\",\"2016\",\"2016\",\"2016\",\"2016\",\"2016\",\"2016\",\"2016\",\"2016\",\"2016\",\"2016\",\"2016\",\"2016\",\"2016\",\"2016\",\"2016\",\"2016\",\"2016\",\"2016\",\"2016\",\"2016\",\"2016\",\"2016\",\"2016\",\"2016\",\"2016\",\"2016\",\"2016\",\"2016\",\"2016\",\"2016\",\"2016\",\"2016\",\"2016\",\"2016\",\"2016\",\"2016\",\"2016\",\"2016\",\"2016\",\"2016\",\"2016\",\"2016\",\"2016\",\"2016\",\"2016\",\"2016\",\"2016\",\"2016\",\"2016\",\"2016\",\"2016\",\"2016\",\"2016\",\"2016\",\"2016\",\"2016\",\"2015\",\"2015\",\"2015\",\"2015\",\"2015\",\"2015\",\"2015\",\"2015\",\"2015\",\"2015\",\"2015\",\"2015\",\"2015\",\"2015\",\"2015\",\"2015\",\"2015\",\"2015\",\"2015\",\"2015\",\"2015\",\"2015\",\"2015\",\"2015\",\"2015\",\"2015\",\"2015\",\"2015\",\"2015\",\"2015\",\"2015\",\"2015\",\"2015\",\"2015\",\"2015\",\"2014\",\"2014\",\"2014\",\"2014\",\"2014\",\"2014\",\"2014\",\"2014\",\"2014\",\"2014\",\"2014\",\"2014\",\"2014\",\"2013\",\"2013\",\"2013\",\"2012\",\"2011\",\"2011\",\"2011\",\"2011\",\"2011\",\"2011\",\"2011\",\"2011\",\"2011\",\"2011\",\"2011\",\"2011\",\"2011\",\"2009\",\"2009\",\"2008\",\"2017\",\"2020\",\"2019\",\"2019\",\"2017\",\"2019\",\"2018\",\"2019\",\"2018\",\"2018\",\"2018\",\"2018\",\"2016\",\"2020\",\"2019\",\"2018\",\"2017\",\"2018\",\"2017\",\"2017\",\"2019\",\"2018\",\"2018\",\"2019\",\"2016\",\"2019\",\"2017\",\"2019\",\"2018\",\"2019\",\"2021\",\"2020\",\"2019\",\"2018\",\"2017\",\"2018\",\"2019\",\"2019\",\"2018\",\"2018\",\"2018\",\"2018\",\"2020\",\"2019\",\"2017\",\"2019\",\"2019\",\"2019\",\"2021\",\"2019\",\"2018\",\"2016\",\"2019\",\"2017\",\"2020\",\"2019\",\"2018\",\"2018\",\"2017\",\"2019\",\"2019\",\"2020\",\"2018\",\"2018\",\"2020\",\"2020\",\"2018\",\"2016\",\"2019\",\"2017\",\"2018\",\"2017\",\"2020\",\"2019\",\"2019\",\"2017\",\"2018\",\"2019\",\"2018\",\"2017\",\"2018\",\"2019\",\"2016\",\"2017\",\"2019\",\"2020\",\"2013\",\"2017\",\"2019\",\"2018\",\"2017\",\"2019\",\"2020\",\"2020\",\"2020\",\"2018\",\"2018\",\"2018\",\"2020\",\"2019\",\"2018\",\"2018\",\"2018\",\"2019\",\"2017\",\"2018\",\"2017\",\"2019\",\"2018\",\"2016\",\"2019\",\"2016\",\"2017\",\"2019\",\"2019\",\"2020\",\"2018\",\"2020\",\"2020\",\"2019\",\"2019\",\"2018\",\"2019\",\"2018\",\"2020\",\"2018\",\"2019\",\"2019\",\"2018\",\"2017\",\"2018\",\"2019\",\"2017\",\"2018\",\"2019\",\"2018\",\"2018\",\"2017\",\"2019\",\"2020\",\"2019\",\"2017\",\"2019\",\"2018\",\"2019\",\"2019\",\"2019\",\"2019\",\"2020\",\"2018\",\"2020\",\"2017\",\"2019\",\"2019\",\"2017\",\"2020\",\"2020\",\"2018\",\"2017\",\"2019\",\"2019\",\"2019\",\"2019\",\"2019\",\"2019\",\"2019\",\"2019\",\"2018\",\"2017\",\"2018\",\"2018\",\"2018\",\"2018\",\"2019\",\"2019\",\"2019\",\"2017\",\"2019\",\"2018\",\"2020\",\"2019\",\"2017\",\"2017\",\"2017\",\"2017\",\"2019\",\"2019\",\"2019\",\"2019\",\"2019\",\"2019\",\"2016\",\"2019\",\"2017\",\"2017\",\"2019\",\"2018\",\"2019\",\"2020\",\"2018\",\"2020\",\"2019\",\"2018\",\"2016\",\"2018\",\"2018\",\"2016\",\"2018\",\"2019\",\"2017\",\"2018\",\"2018\",\"2019\",\"2018\",\"2018\",\"2019\",\"2018\",\"2017\",\"2017\",\"2019\",\"2018\",\"2019\",\"2019\",\"2018\",\"2017\",\"2018\",\"2020\",\"2018\",\"2018\",\"2018\",\"2018\",\"2017\",\"2019\",\"2016\",\"2018\",\"2018\",\"2018\",\"2018\",\"2019\",\"2017\",\"2017\",\"2017\",\"2017\",\"2017\",\"2017\",\"2017\",\"2017\",\"2017\",\"2017\",\"2017\",\"2018\",\"2018\",\"2018\",\"2018\",\"2020\",\"2019\",\"2019\",\"2019\",\"2017\",\"2019\",\"2017\",\"2018\",\"2017\",\"2019\",\"2019\",\"2018\",\"2019\",\"2019\",\"2019\",\"2018\",\"2017\",\"2018\",\"2017\",\"2016\",\"2017\",\"2019\",\"2018\",\"2018\",\"2017\",\"2019\",\"2019\",\"2017\",\"2019\",\"2019\",\"2017\",\"2018\",\"2019\",\"2019\",\"2017\",\"2019\",\"2017\",\"2018\",\"2020\",\"2020\",\"2019\",\"2018\",\"2017\",\"2019\",\"2017\",\"2019\",\"2019\",\"2018\",\"2018\",\"2018\",\"2018\",\"2017\",\"2020\",\"2019\",\"2019\",\"2016\",\"2018\",\"2017\",\"2019\",\"2017\",\"2020\",\"2017\",\"2020\",\"2020\",\"2017\",\"2018\",\"2020\",\"2019\",\"2016\",\"2019\",\"2016\",\"2019\",\"2021\",\"2018\",\"2017\",\"2019\",\"2015\",\"2018\",\"2019\",\"2018\",\"2017\",\"2017\",\"2018\",\"2018\",\"2016\",\"2021\",\"2018\",\"2017\",\"2017\",\"2020\",\"2017\",\"2019\",\"2019\",\"2020\",\"2017\",\"2017\",\"2018\",\"2018\",\"2017\",\"2018\",\"2018\",\"2017\",\"2017\",\"2017\",\"2019\",\"2018\",\"2019\",\"2019\",\"2017\",\"2019\",\"2017\",\"2019\",\"2017\",\"2019\",\"2018\",\"2017\",\"2019\",\"2017\",\"2018\",\"2018\",\"2017\",\"2018\",\"2017\",\"2021\",\"2019\",\"2020\",\"2018\",\"2018\",\"2019\",\"2020\",\"2019\",\"2019\",\"2012\",\"2020\",\"2018\",\"2018\",\"2019\",\"2016\",\"2019\",\"2019\",\"2017\",\"2017\",\"2020\",\"2018\",\"2018\",\"2019\",\"2018\",\"2017\",\"2020\",\"2019\",\"2018\",\"2020\",\"2019\",\"2019\",\"2017\",\"2020\",\"2018\",\"2017\",\"2017\",\"2018\",\"2019\",\"2019\",\"2019\",\"2019\",\"2018\",\"2016\",\"2019\",\"2019\",\"2018\",\"2017\",\"2018\",\"2020\",\"2020\",\"2017\",\"2019\",\"2019\",\"2019\",\"2019\",\"2019\",\"2018\",\"2019\",\"2019\",\"2018\",\"2020\",\"2017\",\"2019\",\"2019\",\"2018\",\"2018\",\"2019\",\"2020\",\"2019\",\"2017\",\"2017\",\"2017\",\"2020\",\"2020\",\"2019\",\"2017\",\"2017\",\"2018\",\"2018\",\"2019\",\"2017\",\"2018\",\"2018\",\"2017\",\"2018\",\"2018\",\"2018\",\"2019\",\"2019\",\"2019\",\"2021\",\"2017\",\"2017\",\"2017\",\"2018\",\"2016\",\"2019\",\"2019\",\"2019\",\"2017\",\"2018\",\"2018\",\"2019\",\"2018\",\"2019\",\"2019\",\"2016\",\"2018\",\"2018\",\"2018\",\"2018\",\"2017\",\"2017\",\"2019\",\"2018\",\"2017\",\"2019\",\"2018\",\"2019\",\"2017\",\"2017\",\"2018\",\"2019\",\"2018\",\"2019\",\"2019\",\"2019\",\"2020\",\"2019\",\"2016\",\"2019\",\"2020\",\"2019\",\"2018\",\"2020\",\"2017\",\"2018\",\"2016\",\"2020\",\"2017\",\"2020\",\"2018\",\"2019\",\"2017\",\"2019\",\"2017\",\"2020\",\"2018\",\"2019\",\"2019\",\"2017\",\"2017\",\"2016\",\"2019\",\"2018\",\"2020\",\"2018\",\"2017\",\"2018\",\"2019\",\"2019\",\"2016\",\"2019\",\"2019\",\"2019\",\"2018\",\"2020\",\"2019\",\"2020\",\"2020\",\"2020\",\"2019\",\"2017\",\"2017\",\"2020\",\"2020\",\"2018\",\"2019\",\"2018\",\"2019\",\"2019\",\"2020\",\"2020\",\"2020\",\"2017\",\"2019\",\"2018\",\"2017\",\"2018\",\"2019\",\"2016\",\"2018\",\"2019\",\"2019\",\"2019\",\"2020\",\"2020\",\"2019\",\"2018\",\"2018\",\"2017\",\"2018\",\"2019\",\"2018\",\"2017\",\"2017\",\"2017\",\"2018\",\"2017\",\"2020\",\"2017\",\"2018\",\"2017\",\"2016\",\"2018\",\"2018\",\"2018\",\"2018\",\"2020\",\"2019\",\"2019\",\"2018\",\"2017\",\"2018\",\"2021\",\"2018\",\"2019\",\"2019\",\"2018\",\"2017\",\"2018\",\"2019\",\"2019\",\"2020\",\"2020\",\"2019\",\"2019\",\"2018\",\"2019\",\"2016\",\"2019\",\"2019\",\"2019\",\"2017\",\"2017\",\"2017\",\"2018\",\"2018\",\"2018\",\"2020\",\"2019\",\"2019\",\"2016\",\"2019\",\"2018\",\"2019\",\"2019\",\"2017\",\"2020\",\"2015\",\"2016\",\"2016\",\"2018\",\"2018\",\"2020\",\"2020\",\"2020\",\"2017\",\"2019\",\"2019\",\"2019\",\"2017\",\"2018\",\"2018\",\"2020\",\"2019\",\"2017\",\"2019\",\"2018\",\"2018\",\"2018\",\"2017\",\"2020\",\"2016\",\"2019\",\"2019\",\"2019\",\"2018\",\"2017\",\"2019\",\"2018\",\"2017\",\"2019\",\"2021\",\"2019\",\"2019\",\"2017\",\"2020\",\"2021\",\"2020\",\"2017\",\"2019\",\"2016\",\"2020\",\"2020\",\"2018\",\"2019\",\"2020\",\"2018\",\"2016\",\"2016\",\"2019\",\"2016\",\"2018\",\"2019\",\"2019\",\"2019\",\"2018\",\"2017\",\"2018\",\"2019\",\"2018\",\"2018\",\"2018\",\"2017\",\"2018\",\"2018\",\"2016\",\"2020\",\"2014\",\"2019\",\"2019\",\"2019\",\"2017\",\"2019\",\"2020\",\"2019\",\"2019\",\"2019\",\"2018\",\"2019\",\"2018\",\"2019\",\"2017\",\"2019\",\"2018\",\"2017\",\"2020\",\"2018\",\"2018\",\"2019\",\"2017\",\"2019\",\"2020\",\"2018\",\"2019\",\"2019\",\"2017\",\"2017\",\"2020\",\"2019\",\"2019\",\"2017\",\"2021\",\"2018\",\"2017\",\"2019\",\"2019\",\"2021\",\"2017\",\"2020\",\"2018\",\"2019\",\"2019\",\"2018\",\"2018\",\"2018\",\"2017\",\"2017\",\"2019\",\"2018\",\"2017\",\"2017\",\"2018\",\"2018\",\"2020\",\"2017\",\"2016\",\"2018\",\"2019\",\"2019\",\"2020\",\"2018\",\"2018\",\"2018\",\"2017\",\"2017\",\"2020\",\"2019\",\"2019\",\"2020\",\"2018\",\"2018\",\"2017\",\"2017\",\"2018\",\"2018\",\"2019\",\"2019\",\"2017\",\"2020\",\"2018\",\"2019\",\"2019\",\"2018\",\"2019\",\"2019\",\"2018\",\"2019\",\"2018\",\"2019\",\"2018\",\"2018\",\"2019\",\"2019\",\"2017\",\"2018\",\"2020\",\"2018\",\"2017\",\"2017\",\"2017\",\"2017\",\"2018\",\"2020\",\"2016\",\"2017\",\"2017\",\"2017\",\"2016\",\"2016\",\"2016\",\"2018\",\"2018\",\"2018\",\"2019\",\"2019\",\"2018\",\"2018\",\"2018\",\"2018\",\"2019\",\"2019\",\"2019\",\"2017\",\"2018\",\"2018\",\"2016\",\"2017\",\"2019\",\"2019\",\"2019\",\"2020\",\"2018\",\"2017\",\"2018\",\"2017\",\"2019\",\"2019\",\"2016\",\"2018\",\"2016\",\"2018\",\"2020\",\"2018\",\"2017\",\"2018\",\"2020\",\"2019\",\"2017\",\"2018\",\"2019\",\"2017\",\"2019\",\"2017\",\"2017\",\"2019\",\"2017\",\"2017\",\"2018\",\"2019\",\"2019\",\"2019\",\"2018\",\"2019\",\"2019\",\"2017\",\"2017\",\"2018\",\"2018\",\"2019\",\"2013\",\"2019\",\"2019\",\"2018\",\"2018\",\"2017\",\"2018\",\"2017\",\"2018\",\"2017\",\"2019\",\"2017\",\"2019\",\"2019\",\"2019\",\"2019\",\"2017\",\"2018\",\"2018\",\"2019\",\"2019\",\"2018\",\"2020\",\"2016\",\"2018\",\"2017\",\"2017\",\"2017\",\"2019\",\"2019\",\"2018\",\"2018\",\"2018\",\"2019\",\"2014\",\"2018\",\"2018\",\"2019\",\"2019\",\"2016\",\"2019\",\"2016\",\"2018\",\"2019\",\"2017\",\"2019\",\"2019\",\"2018\",\"2019\",\"2017\",\"2017\",\"2018\",\"2017\",\"2019\",\"2019\",\"2016\",\"2019\",\"2019\",\"2018\",\"2019\",\"2019\",\"2019\",\"2017\",\"2016\",\"2019\",\"2019\",\"2018\",\"2019\",\"2018\",\"2019\",\"2019\",\"2018\",\"2021\",\"2020\",\"2019\",\"2019\",\"2019\",\"2018\",\"2018\",\"2019\",\"2017\",\"2018\",\"2019\",\"2018\",\"2017\",\"2017\",\"2017\",\"2017\",\"2018\",\"2018\",\"2018\",\"2017\",\"2020\",\"2019\",\"2018\",\"2018\",\"2018\",\"2018\",\"2018\",\"2018\",\"2019\",\"2018\",\"2018\",\"2019\",\"2018\",\"2019\",\"2018\",\"2016\",\"2019\",\"2019\",\"2017\",\"2020\",\"2020\",\"2017\",\"2019\",\"2017\",\"2020\",\"2020\",\"2021\",\"2018\",\"2019\",\"2016\",\"2019\",\"2020\",\"2018\",\"2017\",\"2020\",\"2017\",\"2020\",\"2017\",\"2019\",\"2017\",\"2019\",\"2019\",\"2017\",\"2017\",\"2017\",\"2017\",\"2017\",\"2017\",\"2017\",\"2017\",\"2017\",\"2018\",\"2015\",\"2019\",\"2019\",\"2020\",\"2018\",\"2012\",\"2017\",\"2018\",\"2019\",\"2017\",\"2018\",\"2018\",\"2018\",\"2017\",\"2018\",\"2020\",\"2017\",\"2018\",\"2018\",\"2017\",\"2019\",\"2019\",\"2018\",\"2017\",\"2020\",\"2019\",\"2019\",\"2018\",\"2019\",\"2019\",\"2020\",\"2020\",\"2020\",\"2020\",\"2018\",\"2018\",\"2020\",\"2018\",\"2018\",\"2019\",\"2018\",\"2019\",\"2015\",\"2017\",\"2017\",\"2019\",\"2018\",\"2019\",\"2019\",\"2018\",\"2019\",\"2019\",\"2016\",\"2018\",\"2019\",\"2019\",\"2018\",\"2018\",\"2018\",\"2017\",\"2020\",\"2018\",\"2019\",\"2019\",\"2017\",\"2016\",\"2016\",\"2019\",\"2018\",\"2020\",\"2017\",\"2019\",\"2019\",\"2017\",\"2018\",\"2016\",\"2017\",\"2017\",\"2017\",\"2020\",\"2018\",\"2018\",\"2018\",\"2019\",\"2019\",\"2019\",\"2019\",\"2017\",\"2018\",\"2018\",\"2018\",\"2017\",\"2019\",\"2016\",\"2018\",\"2018\",\"2016\",\"2017\",\"2020\",\"2019\",\"2010\",\"2018\",\"2017\",\"2018\",\"2017\",\"2015\",\"2020\",\"2017\",\"2018\",\"2018\",\"2019\",\"2018\",\"2018\",\"2019\",\"2018\",\"2018\",\"2020\",\"2018\",\"2017\",\"2018\",\"2017\",\"2018\",\"2020\",\"2017\",\"2017\",\"2019\",\"2020\",\"2016\",\"2017\",\"2018\",\"2019\",\"2018\",\"2018\",\"2015\",\"2014\",\"2018\",\"2019\",\"2019\",\"2018\",\"2018\",\"2018\",\"2017\",\"2018\",\"2019\",\"2017\",\"2018\",\"2018\",\"2017\",\"2019\",\"2019\",\"2018\",\"2019\",\"2017\",\"2018\",\"2018\",\"2018\",\"2019\",\"2019\",\"2019\",\"2017\",\"2019\",\"2019\",\"2018\",\"2019\",\"2019\",\"2020\",\"2017\",\"2018\",\"2018\",\"2020\",\"2017\",\"2017\",\"2015\",\"2017\",\"2017\",\"2017\",\"2016\",\"2017\",\"2019\",\"2017\",\"2018\",\"2017\",\"2018\",\"2018\",\"2019\",\"2020\",\"2019\",\"2017\",\"2019\",\"2016\",\"2019\",\"2018\",\"2018\",\"2015\",\"2018\",\"2018\",\"2018\",\"2018\",\"2018\",\"2018\",\"2017\",\"2018\",\"2017\",\"2015\",\"2018\",\"2020\",\"2020\",\"2019\",\"2017\",\"2017\",\"2018\",\"2018\",\"2018\",\"2017\",\"2018\",\"2019\",\"2018\",\"2020\",\"2017\",\"2018\",\"2019\",\"2019\",\"2021\",\"2019\",\"2018\",\"2020\",\"2018\",\"2019\",\"2018\",\"2018\",\"2018\",\"2019\",\"2018\",\"2017\",\"2017\",\"2017\",\"2015\",\"2014\",\"2019\",\"2018\",\"2017\",\"2019\",\"2018\",\"2019\",\"2019\",\"2018\",\"2019\",\"2017\",\"2018\",\"2020\",\"2019\",\"2017\",\"2017\",\"2017\",\"2017\",\"2019\",\"2018\",\"2018\",\"2018\",\"2016\",\"2016\",\"2017\",\"2017\",\"2017\",\"2019\",\"2020\",\"2017\",\"2019\",\"2018\",\"2020\",\"2019\",\"2020\",\"2019\",\"2018\",\"2018\",\"2019\",\"2020\",\"2020\",\"2019\",\"2018\",\"2019\",\"2019\",\"2019\",\"2019\",\"2019\",\"2019\",\"2019\",\"2019\",\"2019\",\"2019\",\"2019\",\"2019\",\"2019\",\"2019\",\"2019\",\"2019\",\"2019\",\"2019\",\"2019\",\"2019\",\"2020\",\"2019\",\"2018\",\"2018\",\"2017\",\"2018\",\"2018\",\"2018\",\"2018\",\"2018\",\"2019\",\"2019\",\"2019\",\"2019\",\"2019\",\"2016\",\"2017\",\"2018\",\"2018\",\"2018\",\"2017\",\"2019\",\"2018\",\"2018\",\"2018\",\"2018\",\"2018\",\"2018\",\"2018\",\"2020\",\"2019\",\"2018\",\"2019\",\"2017\",\"2019\",\"2018\",\"2017\",\"2018\",\"2018\",\"2019\",\"2018\",\"2017\",\"2020\",\"2018\",\"2017\",\"2018\",\"2018\",\"2017\",\"2017\",\"2019\",\"2020\",\"2018\",\"2019\",\"2019\",\"2018\",\"2019\",\"2018\",\"2018\",\"2018\",\"2019\",\"2018\",\"2018\",\"2016\",\"2016\",\"2019\",\"2017\",\"2019\",\"2020\",\"2018\",\"2018\",\"2017\",\"2021\",\"2017\",\"2018\",\"2020\",\"2017\",\"2020\",\"2018\",\"2018\",\"2018\",\"2014\",\"2017\",\"2019\",\"2017\",\"2019\",\"2019\",\"2019\",\"2017\",\"2018\",\"2019\",\"2017\",\"2019\",\"2018\",\"2018\",\"2019\",\"2019\",\"2020\",\"2019\",\"2018\",\"2018\",\"2018\",\"2019\",\"2020\",\"2018\",\"2020\",\"2017\",\"2019\",\"2019\",\"2019\",\"2018\",\"2019\",\"2016\",\"2016\",\"2016\",\"2016\",\"2016\",\"2016\",\"2016\",\"2016\",\"2017\",\"2017\",\"2018\",\"2016\",\"2019\",\"2018\",\"2018\",\"2019\",\"2019\",\"2018\",\"2019\",\"2017\",\"2017\",\"2017\",\"2020\",\"2020\",\"2019\",\"2018\",\"2019\",\"2019\",\"2017\",\"2017\",\"2019\",\"2018\",\"2016\",\"2017\",\"2017\",\"2019\",\"2019\",\"2019\",\"2019\",\"2019\",\"2019\",\"2018\",\"2018\",\"2016\",\"2019\",\"2017\",\"2019\",\"2019\",\"2017\",\"2019\",\"2018\",\"2018\",\"2017\",\"2019\",\"2016\",\"2017\",\"2018\",\"2020\",\"2020\",\"2020\",\"2018\",\"2017\",\"2018\",\"2017\",\"2018\",\"2019\",\"2016\",\"2019\",\"2018\",\"2017\",\"2017\",\"2019\",\"2016\",\"2018\",\"2019\",\"2019\",\"2019\",\"2019\",\"2019\",\"2019\",\"2017\",\"2019\",\"2019\",\"2017\",\"2017\",\"2018\",\"2019\",\"2019\",\"2017\",\"2019\",\"2019\",\"2018\",\"2017\",\"2019\",\"2019\",\"2018\",\"2020\",\"2019\",\"2019\",\"2015\",\"2013\",\"2017\",\"2017\",\"2021\",\"2019\",\"2017\",\"2017\",\"2017\",\"2019\",\"2017\",\"2020\",\"2017\",\"2018\",\"2018\",\"2019\",\"2018\",\"2018\",\"2019\",\"2018\",\"2019\",\"2017\",\"2018\",\"2019\",\"2017\",\"2015\",\"2019\",\"2017\",\"2017\",\"2018\",\"2018\",\"2019\",\"2019\",\"2018\",\"2019\",\"2020\",\"2017\",\"2019\",\"2019\",\"2020\",\"2018\",\"2020\",\"2020\",\"2020\",\"2020\",\"2018\",\"2020\",\"2019\",\"2018\",\"2019\",\"2019\",\"2020\",\"2020\",\"2019\",\"2019\",\"2018\",\"2018\",\"2017\",\"2017\",\"2017\",\"2017\",\"2017\",\"2017\",\"2017\",\"2017\",\"2017\",\"2017\",\"2017\",\"2019\",\"2018\",\"2020\",\"2021\",\"2021\",\"2017\",\"2017\",\"2019\",\"2018\",\"2018\",\"2018\",\"2018\",\"2018\",\"2019\",\"2018\",\"2020\",\"2017\",\"2021\",\"2019\",\"2018\",\"2018\",\"2018\",\"2018\",\"2019\",\"2019\",\"2017\",\"2018\",\"2018\",\"2019\",\"2018\",\"2018\",\"2019\",\"2017\",\"2017\",\"2018\",\"2018\",\"2019\",\"2020\",\"2016\",\"2018\",\"2019\",\"2017\",\"2018\",\"2019\",\"2017\",\"2020\",\"2019\",\"2020\",\"2018\",\"2019\",\"2019\",\"2017\",\"2015\",\"2020\",\"2018\",\"2019\",\"2019\",\"2018\",\"2019\",\"2019\",\"2018\",\"2017\",\"2019\",\"2018\",\"2016\",\"2020\",\"2019\",\"2016\",\"2019\",\"2017\",\"2020\",\"2019\",\"2019\",\"2019\",\"2020\",\"2021\",\"2020\",\"2019\",\"2019\",\"2019\",\"2016\",\"2019\",\"2019\",\"2018\",\"2017\",\"2018\",\"2019\",\"2016\",\"2019\",\"2019\",\"2018\",\"2018\",\"2018\",\"2018\",\"2017\",\"2015\",\"2017\",\"2020\",\"2020\",\"2020\",\"2020\",\"2017\",\"2019\",\"2021\",\"2017\",\"2020\",\"2019\",\"2015\",\"2018\",\"2018\",\"2016\",\"2017\",\"2020\",\"2016\",\"2017\",\"2019\",\"2018\",\"2018\",\"2021\",\"2019\",\"2019\",\"2019\",\"2018\",\"2018\",\"2018\",\"2017\",\"2019\",\"2020\",\"2019\",\"2019\",\"2017\",\"2018\",\"2018\",\"2018\",\"2019\",\"2017\",\"2018\",\"2018\",\"2017\",\"2019\",\"2019\",\"2017\",\"2018\",\"2017\",\"2019\",\"2020\",\"2020\",\"2018\",\"2016\",\"2018\",\"2019\",\"2020\",\"2020\",\"2016\",\"2018\",\"2017\",\"2017\",\"2019\",\"2018\",\"2019\",\"2018\",\"2017\",\"2020\",\"2019\",\"2018\",\"2018\",\"2021\",\"2020\",\"2020\",\"2020\",\"2019\",\"2017\",\"2018\",\"2020\",\"2020\",\"2018\",\"2018\",\"2018\",\"2017\",\"2018\",\"2019\",\"2017\",\"2018\",\"2017\",\"2019\",\"2019\",\"2017\",\"2019\",\"2017\",\"2019\",\"2019\",\"2020\",\"2019\",\"2019\",\"2019\",\"2018\",\"2019\",\"2019\",\"2019\",\"2019\",\"2019\",\"2018\",\"2019\",\"2020\",\"2018\",\"2018\",\"2020\",\"2018\",\"2017\",\"2019\",\"2019\",\"2017\",\"2019\",\"2017\",\"2016\",\"2019\",\"2019\",\"2019\",\"2018\",\"2019\",\"2019\",\"2019\",\"2019\",\"2020\",\"2019\",\"2019\",\"2019\",\"2020\",\"2017\",\"2018\",\"2018\",\"2019\",\"2019\",\"2018\",\"2017\",\"2019\",\"2021\",\"2018\",\"2019\",\"2018\",\"2019\",\"2019\",\"2018\",\"2018\",\"2017\",\"2019\",\"2020\",\"2020\",\"2017\",\"2018\",\"2018\",\"2020\",\"2019\",\"2017\",\"2016\",\"2018\",\"2019\",\"2019\",\"2020\",\"2016\",\"2019\",\"2019\",\"2018\",\"2019\",\"2019\",\"2018\",\"2019\",\"2018\",\"2020\",\"2017\",\"2020\",\"2017\",\"2020\",\"2018\",\"2019\",\"2020\",\"2021\",\"2019\",\"2018\",\"2016\",\"2019\",\"2018\",\"2018\",\"2018\",\"2018\",\"2019\",\"2019\",\"2019\",\"2020\",\"2017\",\"2018\",\"2020\",\"2019\",\"2020\",\"2019\",\"2016\",\"2018\",\"2017\",\"2018\",\"2017\",\"2017\",\"2018\",\"2019\",\"2018\",\"2017\",\"2019\",\"2017\",\"2019\",\"2019\",\"2020\",\"2018\",\"2017\",\"2019\",\"2020\",\"2016\",\"2019\",\"2018\",\"2019\",\"2018\",\"2018\",\"2018\",\"2019\",\"2018\",\"2017\",\"2016\",\"2019\",\"2020\",\"2018\",\"2016\",\"2019\",\"2019\",\"2017\",\"2019\",\"2018\",\"2018\",\"2020\",\"2019\",\"2018\",\"2018\",\"2019\",\"2019\",\"2019\",\"2016\",\"2020\",\"2020\",\"2019\",\"2017\",\"2019\",\"2018\",\"2018\",\"2018\",\"2020\",\"2019\",\"2019\",\"2019\",\"2019\",\"2017\",\"2017\",\"2019\",\"2016\",\"2019\",\"2015\",\"2020\",\"2018\",\"2020\",\"2021\",\"2020\",\"2017\",\"2019\",\"2016\",\"2019\",\"2019\",\"2019\",\"2020\",\"2018\",\"2019\",\"2020\",\"2019\",\"2018\",\"2020\",\"2019\",\"2015\",\"2019\",\"2014\",\"2018\",\"2020\",\"2017\",\"2018\",\"2019\",\"2021\",\"2018\",\"2017\",\"2019\",\"2020\",\"2019\",\"2017\",\"2019\",\"2019\",\"2019\",\"2018\",\"2019\",\"2017\",\"2017\",\"2019\",\"2018\",\"2018\",\"2019\",\"2017\",\"2018\",\"2019\",\"2020\",\"2017\",\"2017\",\"2018\",\"2019\",\"2020\",\"2018\",\"2019\",\"2017\",\"2017\",\"2019\",\"2019\",\"2018\",\"2018\",\"2019\",\"2017\",\"2018\",\"2020\",\"2020\",\"2018\",\"2017\",\"2018\",\"2020\",\"2019\",\"2018\",\"2019\",\"2020\",\"2019\",\"2017\",\"2019\",\"2017\",\"2019\",\"2018\",\"2019\",\"2020\",\"2019\",\"2019\",\"2018\",\"2018\",\"2019\",\"2019\",\"2019\",\"2018\",\"2017\",\"2019\",\"2017\",\"2019\",\"2019\",\"2018\",\"2017\",\"2019\",\"2020\",\"2019\",\"2019\",\"2018\",\"2017\",\"2019\",\"2019\",\"2018\",\"2019\",\"2017\",\"2017\",\"2018\",\"2019\",\"2019\",\"2019\",\"2017\",\"2018\",\"2017\",\"2018\",\"2019\",\"2016\",\"2017\",\"2015\",\"2017\",\"2018\",\"2018\",\"2020\",\"2016\",\"2016\",\"2017\",\"2019\",\"2018\",\"2017\",\"2017\",\"2018\",\"2018\",\"2015\",\"2019\",\"2017\",\"2019\",\"2017\",\"2019\",\"2019\",\"2018\",\"2020\",\"2016\",\"2019\",\"2019\",\"2018\",\"2017\",\"2019\",\"2018\",\"2018\",\"2019\",\"2017\",\"2018\",\"2016\",\"2020\",\"2020\",\"2020\",\"2020\",\"2020\",\"2018\",\"2019\",\"2019\",\"2018\",\"2017\",\"2020\",\"2018\",\"2018\",\"2020\",\"2018\",\"2020\",\"2019\",\"2018\",\"2017\",\"2019\",\"2018\",\"2017\",\"2019\",\"2017\",\"2019\",\"2017\",\"2015\",\"2019\",\"2017\",\"2018\",\"2019\",\"2017\",\"2017\",\"2018\",\"2017\",\"2017\",\"2019\",\"2019\",\"2019\",\"2020\",\"2018\",\"2019\",\"2019\",\"2018\",\"2019\",\"2017\",\"2019\",\"2017\",\"2017\",\"2017\",\"2019\",\"2017\",\"2017\",\"2018\",\"2017\",\"2017\",\"2019\",\"2019\",\"2017\",\"2017\",\"2018\",\"2020\",\"2019\",\"2017\",\"2019\",\"2019\",\"2019\",\"2019\",\"2019\",\"2019\",\"2017\",\"2018\",\"2018\",\"2020\",\"2019\",\"2016\",\"2019\",\"2018\",\"2017\",\"2019\",\"2018\",\"2018\",\"2017\",\"2017\",\"2018\",\"2019\",\"2019\",\"2018\",\"2020\",\"2019\",\"2018\",\"2018\",\"2016\",\"2016\",\"2020\",\"2018\",\"2017\",\"2019\",\"2017\",\"2017\",\"2019\",\"2019\",\"2017\",\"2017\",\"2020\",\"2020\",\"2017\",\"2020\",\"2018\",\"2016\",\"2019\",\"2018\",\"2019\",\"2018\",\"2019\",\"2019\",\"2019\",\"2019\",\"2019\",\"2017\",\"2017\",\"2017\",\"2020\",\"2017\",\"2019\",\"2019\",\"2017\",\"2018\",\"2018\",\"2017\",\"2017\",\"2018\",\"2019\",\"2015\",\"2018\",\"2018\",\"2018\",\"2016\",\"2016\",\"2018\",\"2017\",\"2017\",\"2016\",\"2019\",\"2019\",\"2019\",\"2016\",\"2019\",\"2018\",\"2019\",\"2018\",\"2016\",\"2019\",\"2019\",\"2020\",\"2019\"],\"xaxis\":\"x\",\"yaxis\":\"y\",\"type\":\"histogram\"}],                        {\"template\":{\"data\":{\"barpolar\":[{\"marker\":{\"line\":{\"color\":\"rgb(17,17,17)\",\"width\":0.5},\"pattern\":{\"fillmode\":\"overlay\",\"size\":10,\"solidity\":0.2}},\"type\":\"barpolar\"}],\"bar\":[{\"error_x\":{\"color\":\"#f2f5fa\"},\"error_y\":{\"color\":\"#f2f5fa\"},\"marker\":{\"line\":{\"color\":\"rgb(17,17,17)\",\"width\":0.5},\"pattern\":{\"fillmode\":\"overlay\",\"size\":10,\"solidity\":0.2}},\"type\":\"bar\"}],\"carpet\":[{\"aaxis\":{\"endlinecolor\":\"#A2B1C6\",\"gridcolor\":\"#506784\",\"linecolor\":\"#506784\",\"minorgridcolor\":\"#506784\",\"startlinecolor\":\"#A2B1C6\"},\"baxis\":{\"endlinecolor\":\"#A2B1C6\",\"gridcolor\":\"#506784\",\"linecolor\":\"#506784\",\"minorgridcolor\":\"#506784\",\"startlinecolor\":\"#A2B1C6\"},\"type\":\"carpet\"}],\"choropleth\":[{\"colorbar\":{\"outlinewidth\":0,\"ticks\":\"\"},\"type\":\"choropleth\"}],\"contourcarpet\":[{\"colorbar\":{\"outlinewidth\":0,\"ticks\":\"\"},\"type\":\"contourcarpet\"}],\"contour\":[{\"colorbar\":{\"outlinewidth\":0,\"ticks\":\"\"},\"colorscale\":[[0.0,\"#0d0887\"],[0.1111111111111111,\"#46039f\"],[0.2222222222222222,\"#7201a8\"],[0.3333333333333333,\"#9c179e\"],[0.4444444444444444,\"#bd3786\"],[0.5555555555555556,\"#d8576b\"],[0.6666666666666666,\"#ed7953\"],[0.7777777777777778,\"#fb9f3a\"],[0.8888888888888888,\"#fdca26\"],[1.0,\"#f0f921\"]],\"type\":\"contour\"}],\"heatmapgl\":[{\"colorbar\":{\"outlinewidth\":0,\"ticks\":\"\"},\"colorscale\":[[0.0,\"#0d0887\"],[0.1111111111111111,\"#46039f\"],[0.2222222222222222,\"#7201a8\"],[0.3333333333333333,\"#9c179e\"],[0.4444444444444444,\"#bd3786\"],[0.5555555555555556,\"#d8576b\"],[0.6666666666666666,\"#ed7953\"],[0.7777777777777778,\"#fb9f3a\"],[0.8888888888888888,\"#fdca26\"],[1.0,\"#f0f921\"]],\"type\":\"heatmapgl\"}],\"heatmap\":[{\"colorbar\":{\"outlinewidth\":0,\"ticks\":\"\"},\"colorscale\":[[0.0,\"#0d0887\"],[0.1111111111111111,\"#46039f\"],[0.2222222222222222,\"#7201a8\"],[0.3333333333333333,\"#9c179e\"],[0.4444444444444444,\"#bd3786\"],[0.5555555555555556,\"#d8576b\"],[0.6666666666666666,\"#ed7953\"],[0.7777777777777778,\"#fb9f3a\"],[0.8888888888888888,\"#fdca26\"],[1.0,\"#f0f921\"]],\"type\":\"heatmap\"}],\"histogram2dcontour\":[{\"colorbar\":{\"outlinewidth\":0,\"ticks\":\"\"},\"colorscale\":[[0.0,\"#0d0887\"],[0.1111111111111111,\"#46039f\"],[0.2222222222222222,\"#7201a8\"],[0.3333333333333333,\"#9c179e\"],[0.4444444444444444,\"#bd3786\"],[0.5555555555555556,\"#d8576b\"],[0.6666666666666666,\"#ed7953\"],[0.7777777777777778,\"#fb9f3a\"],[0.8888888888888888,\"#fdca26\"],[1.0,\"#f0f921\"]],\"type\":\"histogram2dcontour\"}],\"histogram2d\":[{\"colorbar\":{\"outlinewidth\":0,\"ticks\":\"\"},\"colorscale\":[[0.0,\"#0d0887\"],[0.1111111111111111,\"#46039f\"],[0.2222222222222222,\"#7201a8\"],[0.3333333333333333,\"#9c179e\"],[0.4444444444444444,\"#bd3786\"],[0.5555555555555556,\"#d8576b\"],[0.6666666666666666,\"#ed7953\"],[0.7777777777777778,\"#fb9f3a\"],[0.8888888888888888,\"#fdca26\"],[1.0,\"#f0f921\"]],\"type\":\"histogram2d\"}],\"histogram\":[{\"marker\":{\"pattern\":{\"fillmode\":\"overlay\",\"size\":10,\"solidity\":0.2}},\"type\":\"histogram\"}],\"mesh3d\":[{\"colorbar\":{\"outlinewidth\":0,\"ticks\":\"\"},\"type\":\"mesh3d\"}],\"parcoords\":[{\"line\":{\"colorbar\":{\"outlinewidth\":0,\"ticks\":\"\"}},\"type\":\"parcoords\"}],\"pie\":[{\"automargin\":true,\"type\":\"pie\"}],\"scatter3d\":[{\"line\":{\"colorbar\":{\"outlinewidth\":0,\"ticks\":\"\"}},\"marker\":{\"colorbar\":{\"outlinewidth\":0,\"ticks\":\"\"}},\"type\":\"scatter3d\"}],\"scattercarpet\":[{\"marker\":{\"colorbar\":{\"outlinewidth\":0,\"ticks\":\"\"}},\"type\":\"scattercarpet\"}],\"scattergeo\":[{\"marker\":{\"colorbar\":{\"outlinewidth\":0,\"ticks\":\"\"}},\"type\":\"scattergeo\"}],\"scattergl\":[{\"marker\":{\"line\":{\"color\":\"#283442\"}},\"type\":\"scattergl\"}],\"scattermapbox\":[{\"marker\":{\"colorbar\":{\"outlinewidth\":0,\"ticks\":\"\"}},\"type\":\"scattermapbox\"}],\"scatterpolargl\":[{\"marker\":{\"colorbar\":{\"outlinewidth\":0,\"ticks\":\"\"}},\"type\":\"scatterpolargl\"}],\"scatterpolar\":[{\"marker\":{\"colorbar\":{\"outlinewidth\":0,\"ticks\":\"\"}},\"type\":\"scatterpolar\"}],\"scatter\":[{\"marker\":{\"line\":{\"color\":\"#283442\"}},\"type\":\"scatter\"}],\"scatterternary\":[{\"marker\":{\"colorbar\":{\"outlinewidth\":0,\"ticks\":\"\"}},\"type\":\"scatterternary\"}],\"surface\":[{\"colorbar\":{\"outlinewidth\":0,\"ticks\":\"\"},\"colorscale\":[[0.0,\"#0d0887\"],[0.1111111111111111,\"#46039f\"],[0.2222222222222222,\"#7201a8\"],[0.3333333333333333,\"#9c179e\"],[0.4444444444444444,\"#bd3786\"],[0.5555555555555556,\"#d8576b\"],[0.6666666666666666,\"#ed7953\"],[0.7777777777777778,\"#fb9f3a\"],[0.8888888888888888,\"#fdca26\"],[1.0,\"#f0f921\"]],\"type\":\"surface\"}],\"table\":[{\"cells\":{\"fill\":{\"color\":\"#506784\"},\"line\":{\"color\":\"rgb(17,17,17)\"}},\"header\":{\"fill\":{\"color\":\"#2a3f5f\"},\"line\":{\"color\":\"rgb(17,17,17)\"}},\"type\":\"table\"}]},\"layout\":{\"annotationdefaults\":{\"arrowcolor\":\"#f2f5fa\",\"arrowhead\":0,\"arrowwidth\":1},\"autotypenumbers\":\"strict\",\"coloraxis\":{\"colorbar\":{\"outlinewidth\":0,\"ticks\":\"\"}},\"colorscale\":{\"diverging\":[[0,\"#8e0152\"],[0.1,\"#c51b7d\"],[0.2,\"#de77ae\"],[0.3,\"#f1b6da\"],[0.4,\"#fde0ef\"],[0.5,\"#f7f7f7\"],[0.6,\"#e6f5d0\"],[0.7,\"#b8e186\"],[0.8,\"#7fbc41\"],[0.9,\"#4d9221\"],[1,\"#276419\"]],\"sequential\":[[0.0,\"#0d0887\"],[0.1111111111111111,\"#46039f\"],[0.2222222222222222,\"#7201a8\"],[0.3333333333333333,\"#9c179e\"],[0.4444444444444444,\"#bd3786\"],[0.5555555555555556,\"#d8576b\"],[0.6666666666666666,\"#ed7953\"],[0.7777777777777778,\"#fb9f3a\"],[0.8888888888888888,\"#fdca26\"],[1.0,\"#f0f921\"]],\"sequentialminus\":[[0.0,\"#0d0887\"],[0.1111111111111111,\"#46039f\"],[0.2222222222222222,\"#7201a8\"],[0.3333333333333333,\"#9c179e\"],[0.4444444444444444,\"#bd3786\"],[0.5555555555555556,\"#d8576b\"],[0.6666666666666666,\"#ed7953\"],[0.7777777777777778,\"#fb9f3a\"],[0.8888888888888888,\"#fdca26\"],[1.0,\"#f0f921\"]]},\"colorway\":[\"#636efa\",\"#EF553B\",\"#00cc96\",\"#ab63fa\",\"#FFA15A\",\"#19d3f3\",\"#FF6692\",\"#B6E880\",\"#FF97FF\",\"#FECB52\"],\"font\":{\"color\":\"#f2f5fa\"},\"geo\":{\"bgcolor\":\"rgb(17,17,17)\",\"lakecolor\":\"rgb(17,17,17)\",\"landcolor\":\"rgb(17,17,17)\",\"showlakes\":true,\"showland\":true,\"subunitcolor\":\"#506784\"},\"hoverlabel\":{\"align\":\"left\"},\"hovermode\":\"closest\",\"mapbox\":{\"style\":\"dark\"},\"paper_bgcolor\":\"rgb(17,17,17)\",\"plot_bgcolor\":\"rgb(17,17,17)\",\"polar\":{\"angularaxis\":{\"gridcolor\":\"#506784\",\"linecolor\":\"#506784\",\"ticks\":\"\"},\"bgcolor\":\"rgb(17,17,17)\",\"radialaxis\":{\"gridcolor\":\"#506784\",\"linecolor\":\"#506784\",\"ticks\":\"\"}},\"scene\":{\"xaxis\":{\"backgroundcolor\":\"rgb(17,17,17)\",\"gridcolor\":\"#506784\",\"gridwidth\":2,\"linecolor\":\"#506784\",\"showbackground\":true,\"ticks\":\"\",\"zerolinecolor\":\"#C8D4E3\"},\"yaxis\":{\"backgroundcolor\":\"rgb(17,17,17)\",\"gridcolor\":\"#506784\",\"gridwidth\":2,\"linecolor\":\"#506784\",\"showbackground\":true,\"ticks\":\"\",\"zerolinecolor\":\"#C8D4E3\"},\"zaxis\":{\"backgroundcolor\":\"rgb(17,17,17)\",\"gridcolor\":\"#506784\",\"gridwidth\":2,\"linecolor\":\"#506784\",\"showbackground\":true,\"ticks\":\"\",\"zerolinecolor\":\"#C8D4E3\"}},\"shapedefaults\":{\"line\":{\"color\":\"#f2f5fa\"}},\"sliderdefaults\":{\"bgcolor\":\"#C8D4E3\",\"bordercolor\":\"rgb(17,17,17)\",\"borderwidth\":1,\"tickwidth\":0},\"ternary\":{\"aaxis\":{\"gridcolor\":\"#506784\",\"linecolor\":\"#506784\",\"ticks\":\"\"},\"baxis\":{\"gridcolor\":\"#506784\",\"linecolor\":\"#506784\",\"ticks\":\"\"},\"bgcolor\":\"rgb(17,17,17)\",\"caxis\":{\"gridcolor\":\"#506784\",\"linecolor\":\"#506784\",\"ticks\":\"\"}},\"title\":{\"x\":0.05},\"updatemenudefaults\":{\"bgcolor\":\"#506784\",\"borderwidth\":0},\"xaxis\":{\"automargin\":true,\"gridcolor\":\"#283442\",\"linecolor\":\"#506784\",\"ticks\":\"\",\"title\":{\"standoff\":15},\"zerolinecolor\":\"#283442\",\"zerolinewidth\":2},\"yaxis\":{\"automargin\":true,\"gridcolor\":\"#283442\",\"linecolor\":\"#506784\",\"ticks\":\"\",\"title\":{\"standoff\":15},\"zerolinecolor\":\"#283442\",\"zerolinewidth\":2}}},\"xaxis\":{\"anchor\":\"y\",\"domain\":[0.0,1.0],\"title\":{\"text\":\"year\"}},\"yaxis\":{\"anchor\":\"x\",\"domain\":[0.0,1.0],\"title\":{\"text\":\"count\"}},\"legend\":{\"tracegroupgap\":0},\"title\":{\"text\":\"Number of released Movies (year split)\"},\"barmode\":\"relative\",\"height\":500,\"width\":800},                        {\"responsive\": true}                    ).then(function(){\n",
       "                            \n",
       "var gd = document.getElementById('c1d3e263-b64a-4b49-87c8-574929e1b88b');\n",
       "var x = new MutationObserver(function (mutations, observer) {{\n",
       "        var display = window.getComputedStyle(gd).display;\n",
       "        if (!display || display === 'none') {{\n",
       "            console.log([gd, 'removed!']);\n",
       "            Plotly.purge(gd);\n",
       "            observer.disconnect();\n",
       "        }}\n",
       "}});\n",
       "\n",
       "// Listen for the removal of the full notebook cells\n",
       "var notebookContainer = gd.closest('#notebook-container');\n",
       "if (notebookContainer) {{\n",
       "    x.observe(notebookContainer, {childList: true});\n",
       "}}\n",
       "\n",
       "// Listen for the clearing of the current output cell\n",
       "var outputEl = gd.closest('.output');\n",
       "if (outputEl) {{\n",
       "    x.observe(outputEl, {childList: true});\n",
       "}}\n",
       "\n",
       "                        })                };                });            </script>        </div>"
      ]
     },
     "metadata": {},
     "output_type": "display_data"
    }
   ],
   "source": [
    "fig = px.histogram(movies_release,  'year', \n",
    "             template= \"plotly_dark\",\n",
    "             color_discrete_sequence= ['white'],\n",
    "             width = 800, height = 500,\n",
    "             text_auto=True,\n",
    "             title = 'Number of released Movies (year split)'\n",
    "            )\n",
    "\n",
    "fig.show()"
   ]
  },
  {
   "cell_type": "markdown",
   "id": "9b807324",
   "metadata": {
    "papermill": {
     "duration": 0.044867,
     "end_time": "2024-05-13T12:24:31.637793",
     "exception": false,
     "start_time": "2024-05-13T12:24:31.592926",
     "status": "completed"
    },
    "tags": []
   },
   "source": [
    "* 2019, 2020 and 2018 are in top three."
   ]
  },
  {
   "cell_type": "markdown",
   "id": "ce0601a0",
   "metadata": {
    "papermill": {
     "duration": 0.046773,
     "end_time": "2024-05-13T12:24:31.732139",
     "exception": false,
     "start_time": "2024-05-13T12:24:31.685366",
     "status": "completed"
    },
    "tags": []
   },
   "source": [
    "#### Rating"
   ]
  },
  {
   "cell_type": "code",
   "execution_count": 50,
   "id": "7917a745",
   "metadata": {
    "execution": {
     "iopub.execute_input": "2024-05-13T12:24:31.830010Z",
     "iopub.status.busy": "2024-05-13T12:24:31.829587Z",
     "iopub.status.idle": "2024-05-13T12:24:31.840274Z",
     "shell.execute_reply": "2024-05-13T12:24:31.839116Z"
    },
    "papermill": {
     "duration": 0.061711,
     "end_time": "2024-05-13T12:24:31.843045",
     "exception": false,
     "start_time": "2024-05-13T12:24:31.781334",
     "status": "completed"
    },
    "tags": []
   },
   "outputs": [],
   "source": [
    "movies_rating = movies['rating'].reset_index()\n",
    "movies_rating = movies_rating.groupby('rating').count().reset_index().sort_values(by = 'index', ascending=False)"
   ]
  },
  {
   "cell_type": "code",
   "execution_count": 51,
   "id": "2832d4fa",
   "metadata": {
    "execution": {
     "iopub.execute_input": "2024-05-13T12:24:31.942096Z",
     "iopub.status.busy": "2024-05-13T12:24:31.941704Z",
     "iopub.status.idle": "2024-05-13T12:24:32.022116Z",
     "shell.execute_reply": "2024-05-13T12:24:32.020899Z"
    },
    "papermill": {
     "duration": 0.131366,
     "end_time": "2024-05-13T12:24:32.024699",
     "exception": false,
     "start_time": "2024-05-13T12:24:31.893333",
     "status": "completed"
    },
    "tags": []
   },
   "outputs": [
    {
     "data": {
      "text/html": [
       "<div>                            <div id=\"dd4b132b-bebd-4088-adf2-5a4fb3a0a554\" class=\"plotly-graph-div\" style=\"height:500px; width:800px;\"></div>            <script type=\"text/javascript\">                require([\"plotly\"], function(Plotly) {                    window.PLOTLYENV=window.PLOTLYENV || {};                                    if (document.getElementById(\"dd4b132b-bebd-4088-adf2-5a4fb3a0a554\")) {                    Plotly.newPlot(                        \"dd4b132b-bebd-4088-adf2-5a4fb3a0a554\",                        [{\"alignmentgroup\":\"True\",\"hovertemplate\":\"rating=%{x}\\u003cbr\\u003eindex=%{y}\\u003cextra\\u003e\\u003c\\u002fextra\\u003e\",\"legendgroup\":\"\",\"marker\":{\"color\":\"#ff7f0e\",\"pattern\":{\"shape\":\"\"}},\"name\":\"\",\"offsetgroup\":\"\",\"orientation\":\"v\",\"showlegend\":false,\"textposition\":\"auto\",\"texttemplate\":\"%{y}\",\"x\":[\"TV-MA\",\"TV-14\",\"R\",\"TV-PG\",\"PG-13\",\"PG\",\"TV-Y7\",\"TV-Y\",\"TV-G\",\"NR\",\"G\",\"TV-Y7-FV\",\"UR\",\"NC-17\",\"74 min\",\"84 min\",\"66 min\"],\"xaxis\":\"x\",\"y\":[2062,1427,797,540,490,287,139,131,126,75,41,5,3,3,1,1,1],\"yaxis\":\"y\",\"type\":\"bar\"}],                        {\"template\":{\"data\":{\"barpolar\":[{\"marker\":{\"line\":{\"color\":\"rgb(17,17,17)\",\"width\":0.5},\"pattern\":{\"fillmode\":\"overlay\",\"size\":10,\"solidity\":0.2}},\"type\":\"barpolar\"}],\"bar\":[{\"error_x\":{\"color\":\"#f2f5fa\"},\"error_y\":{\"color\":\"#f2f5fa\"},\"marker\":{\"line\":{\"color\":\"rgb(17,17,17)\",\"width\":0.5},\"pattern\":{\"fillmode\":\"overlay\",\"size\":10,\"solidity\":0.2}},\"type\":\"bar\"}],\"carpet\":[{\"aaxis\":{\"endlinecolor\":\"#A2B1C6\",\"gridcolor\":\"#506784\",\"linecolor\":\"#506784\",\"minorgridcolor\":\"#506784\",\"startlinecolor\":\"#A2B1C6\"},\"baxis\":{\"endlinecolor\":\"#A2B1C6\",\"gridcolor\":\"#506784\",\"linecolor\":\"#506784\",\"minorgridcolor\":\"#506784\",\"startlinecolor\":\"#A2B1C6\"},\"type\":\"carpet\"}],\"choropleth\":[{\"colorbar\":{\"outlinewidth\":0,\"ticks\":\"\"},\"type\":\"choropleth\"}],\"contourcarpet\":[{\"colorbar\":{\"outlinewidth\":0,\"ticks\":\"\"},\"type\":\"contourcarpet\"}],\"contour\":[{\"colorbar\":{\"outlinewidth\":0,\"ticks\":\"\"},\"colorscale\":[[0.0,\"#0d0887\"],[0.1111111111111111,\"#46039f\"],[0.2222222222222222,\"#7201a8\"],[0.3333333333333333,\"#9c179e\"],[0.4444444444444444,\"#bd3786\"],[0.5555555555555556,\"#d8576b\"],[0.6666666666666666,\"#ed7953\"],[0.7777777777777778,\"#fb9f3a\"],[0.8888888888888888,\"#fdca26\"],[1.0,\"#f0f921\"]],\"type\":\"contour\"}],\"heatmapgl\":[{\"colorbar\":{\"outlinewidth\":0,\"ticks\":\"\"},\"colorscale\":[[0.0,\"#0d0887\"],[0.1111111111111111,\"#46039f\"],[0.2222222222222222,\"#7201a8\"],[0.3333333333333333,\"#9c179e\"],[0.4444444444444444,\"#bd3786\"],[0.5555555555555556,\"#d8576b\"],[0.6666666666666666,\"#ed7953\"],[0.7777777777777778,\"#fb9f3a\"],[0.8888888888888888,\"#fdca26\"],[1.0,\"#f0f921\"]],\"type\":\"heatmapgl\"}],\"heatmap\":[{\"colorbar\":{\"outlinewidth\":0,\"ticks\":\"\"},\"colorscale\":[[0.0,\"#0d0887\"],[0.1111111111111111,\"#46039f\"],[0.2222222222222222,\"#7201a8\"],[0.3333333333333333,\"#9c179e\"],[0.4444444444444444,\"#bd3786\"],[0.5555555555555556,\"#d8576b\"],[0.6666666666666666,\"#ed7953\"],[0.7777777777777778,\"#fb9f3a\"],[0.8888888888888888,\"#fdca26\"],[1.0,\"#f0f921\"]],\"type\":\"heatmap\"}],\"histogram2dcontour\":[{\"colorbar\":{\"outlinewidth\":0,\"ticks\":\"\"},\"colorscale\":[[0.0,\"#0d0887\"],[0.1111111111111111,\"#46039f\"],[0.2222222222222222,\"#7201a8\"],[0.3333333333333333,\"#9c179e\"],[0.4444444444444444,\"#bd3786\"],[0.5555555555555556,\"#d8576b\"],[0.6666666666666666,\"#ed7953\"],[0.7777777777777778,\"#fb9f3a\"],[0.8888888888888888,\"#fdca26\"],[1.0,\"#f0f921\"]],\"type\":\"histogram2dcontour\"}],\"histogram2d\":[{\"colorbar\":{\"outlinewidth\":0,\"ticks\":\"\"},\"colorscale\":[[0.0,\"#0d0887\"],[0.1111111111111111,\"#46039f\"],[0.2222222222222222,\"#7201a8\"],[0.3333333333333333,\"#9c179e\"],[0.4444444444444444,\"#bd3786\"],[0.5555555555555556,\"#d8576b\"],[0.6666666666666666,\"#ed7953\"],[0.7777777777777778,\"#fb9f3a\"],[0.8888888888888888,\"#fdca26\"],[1.0,\"#f0f921\"]],\"type\":\"histogram2d\"}],\"histogram\":[{\"marker\":{\"pattern\":{\"fillmode\":\"overlay\",\"size\":10,\"solidity\":0.2}},\"type\":\"histogram\"}],\"mesh3d\":[{\"colorbar\":{\"outlinewidth\":0,\"ticks\":\"\"},\"type\":\"mesh3d\"}],\"parcoords\":[{\"line\":{\"colorbar\":{\"outlinewidth\":0,\"ticks\":\"\"}},\"type\":\"parcoords\"}],\"pie\":[{\"automargin\":true,\"type\":\"pie\"}],\"scatter3d\":[{\"line\":{\"colorbar\":{\"outlinewidth\":0,\"ticks\":\"\"}},\"marker\":{\"colorbar\":{\"outlinewidth\":0,\"ticks\":\"\"}},\"type\":\"scatter3d\"}],\"scattercarpet\":[{\"marker\":{\"colorbar\":{\"outlinewidth\":0,\"ticks\":\"\"}},\"type\":\"scattercarpet\"}],\"scattergeo\":[{\"marker\":{\"colorbar\":{\"outlinewidth\":0,\"ticks\":\"\"}},\"type\":\"scattergeo\"}],\"scattergl\":[{\"marker\":{\"line\":{\"color\":\"#283442\"}},\"type\":\"scattergl\"}],\"scattermapbox\":[{\"marker\":{\"colorbar\":{\"outlinewidth\":0,\"ticks\":\"\"}},\"type\":\"scattermapbox\"}],\"scatterpolargl\":[{\"marker\":{\"colorbar\":{\"outlinewidth\":0,\"ticks\":\"\"}},\"type\":\"scatterpolargl\"}],\"scatterpolar\":[{\"marker\":{\"colorbar\":{\"outlinewidth\":0,\"ticks\":\"\"}},\"type\":\"scatterpolar\"}],\"scatter\":[{\"marker\":{\"line\":{\"color\":\"#283442\"}},\"type\":\"scatter\"}],\"scatterternary\":[{\"marker\":{\"colorbar\":{\"outlinewidth\":0,\"ticks\":\"\"}},\"type\":\"scatterternary\"}],\"surface\":[{\"colorbar\":{\"outlinewidth\":0,\"ticks\":\"\"},\"colorscale\":[[0.0,\"#0d0887\"],[0.1111111111111111,\"#46039f\"],[0.2222222222222222,\"#7201a8\"],[0.3333333333333333,\"#9c179e\"],[0.4444444444444444,\"#bd3786\"],[0.5555555555555556,\"#d8576b\"],[0.6666666666666666,\"#ed7953\"],[0.7777777777777778,\"#fb9f3a\"],[0.8888888888888888,\"#fdca26\"],[1.0,\"#f0f921\"]],\"type\":\"surface\"}],\"table\":[{\"cells\":{\"fill\":{\"color\":\"#506784\"},\"line\":{\"color\":\"rgb(17,17,17)\"}},\"header\":{\"fill\":{\"color\":\"#2a3f5f\"},\"line\":{\"color\":\"rgb(17,17,17)\"}},\"type\":\"table\"}]},\"layout\":{\"annotationdefaults\":{\"arrowcolor\":\"#f2f5fa\",\"arrowhead\":0,\"arrowwidth\":1},\"autotypenumbers\":\"strict\",\"coloraxis\":{\"colorbar\":{\"outlinewidth\":0,\"ticks\":\"\"}},\"colorscale\":{\"diverging\":[[0,\"#8e0152\"],[0.1,\"#c51b7d\"],[0.2,\"#de77ae\"],[0.3,\"#f1b6da\"],[0.4,\"#fde0ef\"],[0.5,\"#f7f7f7\"],[0.6,\"#e6f5d0\"],[0.7,\"#b8e186\"],[0.8,\"#7fbc41\"],[0.9,\"#4d9221\"],[1,\"#276419\"]],\"sequential\":[[0.0,\"#0d0887\"],[0.1111111111111111,\"#46039f\"],[0.2222222222222222,\"#7201a8\"],[0.3333333333333333,\"#9c179e\"],[0.4444444444444444,\"#bd3786\"],[0.5555555555555556,\"#d8576b\"],[0.6666666666666666,\"#ed7953\"],[0.7777777777777778,\"#fb9f3a\"],[0.8888888888888888,\"#fdca26\"],[1.0,\"#f0f921\"]],\"sequentialminus\":[[0.0,\"#0d0887\"],[0.1111111111111111,\"#46039f\"],[0.2222222222222222,\"#7201a8\"],[0.3333333333333333,\"#9c179e\"],[0.4444444444444444,\"#bd3786\"],[0.5555555555555556,\"#d8576b\"],[0.6666666666666666,\"#ed7953\"],[0.7777777777777778,\"#fb9f3a\"],[0.8888888888888888,\"#fdca26\"],[1.0,\"#f0f921\"]]},\"colorway\":[\"#636efa\",\"#EF553B\",\"#00cc96\",\"#ab63fa\",\"#FFA15A\",\"#19d3f3\",\"#FF6692\",\"#B6E880\",\"#FF97FF\",\"#FECB52\"],\"font\":{\"color\":\"#f2f5fa\"},\"geo\":{\"bgcolor\":\"rgb(17,17,17)\",\"lakecolor\":\"rgb(17,17,17)\",\"landcolor\":\"rgb(17,17,17)\",\"showlakes\":true,\"showland\":true,\"subunitcolor\":\"#506784\"},\"hoverlabel\":{\"align\":\"left\"},\"hovermode\":\"closest\",\"mapbox\":{\"style\":\"dark\"},\"paper_bgcolor\":\"rgb(17,17,17)\",\"plot_bgcolor\":\"rgb(17,17,17)\",\"polar\":{\"angularaxis\":{\"gridcolor\":\"#506784\",\"linecolor\":\"#506784\",\"ticks\":\"\"},\"bgcolor\":\"rgb(17,17,17)\",\"radialaxis\":{\"gridcolor\":\"#506784\",\"linecolor\":\"#506784\",\"ticks\":\"\"}},\"scene\":{\"xaxis\":{\"backgroundcolor\":\"rgb(17,17,17)\",\"gridcolor\":\"#506784\",\"gridwidth\":2,\"linecolor\":\"#506784\",\"showbackground\":true,\"ticks\":\"\",\"zerolinecolor\":\"#C8D4E3\"},\"yaxis\":{\"backgroundcolor\":\"rgb(17,17,17)\",\"gridcolor\":\"#506784\",\"gridwidth\":2,\"linecolor\":\"#506784\",\"showbackground\":true,\"ticks\":\"\",\"zerolinecolor\":\"#C8D4E3\"},\"zaxis\":{\"backgroundcolor\":\"rgb(17,17,17)\",\"gridcolor\":\"#506784\",\"gridwidth\":2,\"linecolor\":\"#506784\",\"showbackground\":true,\"ticks\":\"\",\"zerolinecolor\":\"#C8D4E3\"}},\"shapedefaults\":{\"line\":{\"color\":\"#f2f5fa\"}},\"sliderdefaults\":{\"bgcolor\":\"#C8D4E3\",\"bordercolor\":\"rgb(17,17,17)\",\"borderwidth\":1,\"tickwidth\":0},\"ternary\":{\"aaxis\":{\"gridcolor\":\"#506784\",\"linecolor\":\"#506784\",\"ticks\":\"\"},\"baxis\":{\"gridcolor\":\"#506784\",\"linecolor\":\"#506784\",\"ticks\":\"\"},\"bgcolor\":\"rgb(17,17,17)\",\"caxis\":{\"gridcolor\":\"#506784\",\"linecolor\":\"#506784\",\"ticks\":\"\"}},\"title\":{\"x\":0.05},\"updatemenudefaults\":{\"bgcolor\":\"#506784\",\"borderwidth\":0},\"xaxis\":{\"automargin\":true,\"gridcolor\":\"#283442\",\"linecolor\":\"#506784\",\"ticks\":\"\",\"title\":{\"standoff\":15},\"zerolinecolor\":\"#283442\",\"zerolinewidth\":2},\"yaxis\":{\"automargin\":true,\"gridcolor\":\"#283442\",\"linecolor\":\"#506784\",\"ticks\":\"\",\"title\":{\"standoff\":15},\"zerolinecolor\":\"#283442\",\"zerolinewidth\":2}}},\"xaxis\":{\"anchor\":\"y\",\"domain\":[0.0,1.0],\"title\":{\"text\":\"rating\"}},\"yaxis\":{\"anchor\":\"x\",\"domain\":[0.0,1.0],\"title\":{\"text\":\"movies_number\"}},\"legend\":{\"tracegroupgap\":0},\"title\":{\"text\":\"The most frequent movies (rating split)\"},\"barmode\":\"relative\",\"height\":500,\"width\":800},                        {\"responsive\": true}                    ).then(function(){\n",
       "                            \n",
       "var gd = document.getElementById('dd4b132b-bebd-4088-adf2-5a4fb3a0a554');\n",
       "var x = new MutationObserver(function (mutations, observer) {{\n",
       "        var display = window.getComputedStyle(gd).display;\n",
       "        if (!display || display === 'none') {{\n",
       "            console.log([gd, 'removed!']);\n",
       "            Plotly.purge(gd);\n",
       "            observer.disconnect();\n",
       "        }}\n",
       "}});\n",
       "\n",
       "// Listen for the removal of the full notebook cells\n",
       "var notebookContainer = gd.closest('#notebook-container');\n",
       "if (notebookContainer) {{\n",
       "    x.observe(notebookContainer, {childList: true});\n",
       "}}\n",
       "\n",
       "// Listen for the clearing of the current output cell\n",
       "var outputEl = gd.closest('.output');\n",
       "if (outputEl) {{\n",
       "    x.observe(outputEl, {childList: true});\n",
       "}}\n",
       "\n",
       "                        })                };                });            </script>        </div>"
      ]
     },
     "metadata": {},
     "output_type": "display_data"
    }
   ],
   "source": [
    "fig = px.bar(movies_rating,  'rating', 'index', \n",
    "             template= \"plotly_dark\",\n",
    "             color_discrete_sequence= ['#ff7f0e'],\n",
    "             width = 800, height = 500,\n",
    "             text_auto=True,\n",
    "             title = 'The most frequent movies (rating split)'\n",
    "            )\n",
    "fig.update_layout(\n",
    "    xaxis_title=dict(text=\"rating\"), \n",
    "    yaxis_title=dict(text=\"movies_number\")\n",
    ")\n",
    "\n",
    "fig.show()"
   ]
  },
  {
   "cell_type": "markdown",
   "id": "ad9e2bcf",
   "metadata": {
    "papermill": {
     "duration": 0.049241,
     "end_time": "2024-05-13T12:24:32.121573",
     "exception": false,
     "start_time": "2024-05-13T12:24:32.072332",
     "status": "completed"
    },
    "tags": []
   },
   "source": [
    "* TV-MA ranks first. TV-14, R, TV-PG and PG-13 are another ones from top-5"
   ]
  },
  {
   "cell_type": "markdown",
   "id": "27b4de74",
   "metadata": {
    "papermill": {
     "duration": 0.045468,
     "end_time": "2024-05-13T12:24:32.214179",
     "exception": false,
     "start_time": "2024-05-13T12:24:32.168711",
     "status": "completed"
    },
    "tags": []
   },
   "source": [
    "#### Production country"
   ]
  },
  {
   "cell_type": "code",
   "execution_count": 52,
   "id": "b6789c12",
   "metadata": {
    "execution": {
     "iopub.execute_input": "2024-05-13T12:24:32.308690Z",
     "iopub.status.busy": "2024-05-13T12:24:32.308265Z",
     "iopub.status.idle": "2024-05-13T12:24:32.318762Z",
     "shell.execute_reply": "2024-05-13T12:24:32.317358Z"
    },
    "papermill": {
     "duration": 0.060635,
     "end_time": "2024-05-13T12:24:32.321104",
     "exception": false,
     "start_time": "2024-05-13T12:24:32.260469",
     "status": "completed"
    },
    "tags": []
   },
   "outputs": [
    {
     "data": {
      "text/plain": [
       "0"
      ]
     },
     "execution_count": 52,
     "metadata": {},
     "output_type": "execute_result"
    }
   ],
   "source": [
    "countries = movies['country']\n",
    "countries.fillna('No_info', inplace = True)\n",
    "countries.isna().sum()"
   ]
  },
  {
   "cell_type": "code",
   "execution_count": 53,
   "id": "1ab33abb",
   "metadata": {
    "execution": {
     "iopub.execute_input": "2024-05-13T12:24:32.416107Z",
     "iopub.status.busy": "2024-05-13T12:24:32.415401Z",
     "iopub.status.idle": "2024-05-13T12:24:32.447470Z",
     "shell.execute_reply": "2024-05-13T12:24:32.446576Z"
    },
    "papermill": {
     "duration": 0.08287,
     "end_time": "2024-05-13T12:24:32.450147",
     "exception": false,
     "start_time": "2024-05-13T12:24:32.367277",
     "status": "completed"
    },
    "tags": []
   },
   "outputs": [],
   "source": [
    "# unsplitting fields with several countries\n",
    "\n",
    "contry_dict = {}\n",
    "\n",
    "c = list(countries)\n",
    "for i in c:\n",
    "    i = i.replace(' ', '')\n",
    "    i = i.split(',')\n",
    "        \n",
    "    for j in i:\n",
    "        if j in list(contry_dict.keys()):\n",
    "            contry_dict[j] += 1\n",
    "        else:\n",
    "            contry_dict[j] = 1        "
   ]
  },
  {
   "cell_type": "code",
   "execution_count": 54,
   "id": "558be5fb",
   "metadata": {
    "execution": {
     "iopub.execute_input": "2024-05-13T12:24:32.546227Z",
     "iopub.status.busy": "2024-05-13T12:24:32.545781Z",
     "iopub.status.idle": "2024-05-13T12:24:32.551227Z",
     "shell.execute_reply": "2024-05-13T12:24:32.549931Z"
    },
    "papermill": {
     "duration": 0.055728,
     "end_time": "2024-05-13T12:24:32.553889",
     "exception": false,
     "start_time": "2024-05-13T12:24:32.498161",
     "status": "completed"
    },
    "tags": []
   },
   "outputs": [],
   "source": [
    "countries_sorted = sorted(contry_dict.items(), key = lambda item: contry_dict[item[0]], reverse = True)\n",
    "countries_sorted = countries_sorted[:15]"
   ]
  },
  {
   "cell_type": "code",
   "execution_count": 55,
   "id": "4d4ef9f1",
   "metadata": {
    "execution": {
     "iopub.execute_input": "2024-05-13T12:24:32.650423Z",
     "iopub.status.busy": "2024-05-13T12:24:32.650047Z",
     "iopub.status.idle": "2024-05-13T12:24:32.658195Z",
     "shell.execute_reply": "2024-05-13T12:24:32.656937Z"
    },
    "papermill": {
     "duration": 0.058449,
     "end_time": "2024-05-13T12:24:32.660559",
     "exception": false,
     "start_time": "2024-05-13T12:24:32.602110",
     "status": "completed"
    },
    "tags": []
   },
   "outputs": [
    {
     "data": {
      "text/plain": [
       "[('UnitedStates', 2752),\n",
       " ('India', 962),\n",
       " ('UnitedKingdom', 534),\n",
       " ('No_info', 440),\n",
       " ('Canada', 319),\n",
       " ('France', 303),\n",
       " ('Germany', 182),\n",
       " ('Spain', 171),\n",
       " ('Japan', 119),\n",
       " ('China', 114),\n",
       " ('Mexico', 111),\n",
       " ('Egypt', 102),\n",
       " ('HongKong', 100),\n",
       " ('Nigeria', 94),\n",
       " ('Australia', 94)]"
      ]
     },
     "execution_count": 55,
     "metadata": {},
     "output_type": "execute_result"
    }
   ],
   "source": [
    "countries_sorted"
   ]
  },
  {
   "cell_type": "code",
   "execution_count": 56,
   "id": "052e3d28",
   "metadata": {
    "execution": {
     "iopub.execute_input": "2024-05-13T12:24:32.756408Z",
     "iopub.status.busy": "2024-05-13T12:24:32.755990Z",
     "iopub.status.idle": "2024-05-13T12:24:32.763864Z",
     "shell.execute_reply": "2024-05-13T12:24:32.762706Z"
    },
    "papermill": {
     "duration": 0.059161,
     "end_time": "2024-05-13T12:24:32.766382",
     "exception": false,
     "start_time": "2024-05-13T12:24:32.707221",
     "status": "completed"
    },
    "tags": []
   },
   "outputs": [
    {
     "data": {
      "text/plain": [
       "['UnitedStates',\n",
       " 'India',\n",
       " 'UnitedKingdom',\n",
       " 'No_info',\n",
       " 'Canada',\n",
       " 'France',\n",
       " 'Germany',\n",
       " 'Spain',\n",
       " 'Japan',\n",
       " 'China',\n",
       " 'Mexico',\n",
       " 'Egypt',\n",
       " 'HongKong',\n",
       " 'Nigeria',\n",
       " 'Australia']"
      ]
     },
     "execution_count": 56,
     "metadata": {},
     "output_type": "execute_result"
    }
   ],
   "source": [
    "# getting countries' names\n",
    "\n",
    "states = [i for i, value in countries_sorted]\n",
    "states "
   ]
  },
  {
   "cell_type": "code",
   "execution_count": 57,
   "id": "3b4aba53",
   "metadata": {
    "execution": {
     "iopub.execute_input": "2024-05-13T12:24:32.867390Z",
     "iopub.status.busy": "2024-05-13T12:24:32.866983Z",
     "iopub.status.idle": "2024-05-13T12:24:32.875904Z",
     "shell.execute_reply": "2024-05-13T12:24:32.874878Z"
    },
    "papermill": {
     "duration": 0.060836,
     "end_time": "2024-05-13T12:24:32.878781",
     "exception": false,
     "start_time": "2024-05-13T12:24:32.817945",
     "status": "completed"
    },
    "tags": []
   },
   "outputs": [
    {
     "data": {
      "text/plain": [
       "[2752, 962, 534, 440, 319, 303, 182, 171, 119, 114, 111, 102, 100, 94, 94]"
      ]
     },
     "execution_count": 57,
     "metadata": {},
     "output_type": "execute_result"
    }
   ],
   "source": [
    "# getting values\n",
    "\n",
    "qty = [value for i, value in countries_sorted]\n",
    "qty "
   ]
  },
  {
   "cell_type": "code",
   "execution_count": 58,
   "id": "2dbbc287",
   "metadata": {
    "execution": {
     "iopub.execute_input": "2024-05-13T12:24:32.979442Z",
     "iopub.status.busy": "2024-05-13T12:24:32.978192Z",
     "iopub.status.idle": "2024-05-13T12:24:33.061126Z",
     "shell.execute_reply": "2024-05-13T12:24:33.059742Z"
    },
    "papermill": {
     "duration": 0.136186,
     "end_time": "2024-05-13T12:24:33.063803",
     "exception": false,
     "start_time": "2024-05-13T12:24:32.927617",
     "status": "completed"
    },
    "tags": []
   },
   "outputs": [
    {
     "data": {
      "text/html": [
       "<div>                            <div id=\"49a81cc8-7bb9-4467-9a71-4d90655d498b\" class=\"plotly-graph-div\" style=\"height:500px; width:800px;\"></div>            <script type=\"text/javascript\">                require([\"plotly\"], function(Plotly) {                    window.PLOTLYENV=window.PLOTLYENV || {};                                    if (document.getElementById(\"49a81cc8-7bb9-4467-9a71-4d90655d498b\")) {                    Plotly.newPlot(                        \"49a81cc8-7bb9-4467-9a71-4d90655d498b\",                        [{\"domain\":{\"x\":[0.0,1.0],\"y\":[0.0,1.0]},\"hovertemplate\":\"label=%{label}\\u003cbr\\u003evalue=%{value}\\u003cextra\\u003e\\u003c\\u002fextra\\u003e\",\"labels\":[\"UnitedStates\",\"India\",\"UnitedKingdom\",\"No_info\",\"Canada\",\"France\",\"Germany\",\"Spain\",\"Japan\",\"China\",\"Mexico\",\"Egypt\",\"HongKong\",\"Nigeria\",\"Australia\"],\"legendgroup\":\"\",\"name\":\"\",\"showlegend\":true,\"values\":[2752,962,534,440,319,303,182,171,119,114,111,102,100,94,94],\"type\":\"pie\"}],                        {\"template\":{\"data\":{\"barpolar\":[{\"marker\":{\"line\":{\"color\":\"rgb(17,17,17)\",\"width\":0.5},\"pattern\":{\"fillmode\":\"overlay\",\"size\":10,\"solidity\":0.2}},\"type\":\"barpolar\"}],\"bar\":[{\"error_x\":{\"color\":\"#f2f5fa\"},\"error_y\":{\"color\":\"#f2f5fa\"},\"marker\":{\"line\":{\"color\":\"rgb(17,17,17)\",\"width\":0.5},\"pattern\":{\"fillmode\":\"overlay\",\"size\":10,\"solidity\":0.2}},\"type\":\"bar\"}],\"carpet\":[{\"aaxis\":{\"endlinecolor\":\"#A2B1C6\",\"gridcolor\":\"#506784\",\"linecolor\":\"#506784\",\"minorgridcolor\":\"#506784\",\"startlinecolor\":\"#A2B1C6\"},\"baxis\":{\"endlinecolor\":\"#A2B1C6\",\"gridcolor\":\"#506784\",\"linecolor\":\"#506784\",\"minorgridcolor\":\"#506784\",\"startlinecolor\":\"#A2B1C6\"},\"type\":\"carpet\"}],\"choropleth\":[{\"colorbar\":{\"outlinewidth\":0,\"ticks\":\"\"},\"type\":\"choropleth\"}],\"contourcarpet\":[{\"colorbar\":{\"outlinewidth\":0,\"ticks\":\"\"},\"type\":\"contourcarpet\"}],\"contour\":[{\"colorbar\":{\"outlinewidth\":0,\"ticks\":\"\"},\"colorscale\":[[0.0,\"#0d0887\"],[0.1111111111111111,\"#46039f\"],[0.2222222222222222,\"#7201a8\"],[0.3333333333333333,\"#9c179e\"],[0.4444444444444444,\"#bd3786\"],[0.5555555555555556,\"#d8576b\"],[0.6666666666666666,\"#ed7953\"],[0.7777777777777778,\"#fb9f3a\"],[0.8888888888888888,\"#fdca26\"],[1.0,\"#f0f921\"]],\"type\":\"contour\"}],\"heatmapgl\":[{\"colorbar\":{\"outlinewidth\":0,\"ticks\":\"\"},\"colorscale\":[[0.0,\"#0d0887\"],[0.1111111111111111,\"#46039f\"],[0.2222222222222222,\"#7201a8\"],[0.3333333333333333,\"#9c179e\"],[0.4444444444444444,\"#bd3786\"],[0.5555555555555556,\"#d8576b\"],[0.6666666666666666,\"#ed7953\"],[0.7777777777777778,\"#fb9f3a\"],[0.8888888888888888,\"#fdca26\"],[1.0,\"#f0f921\"]],\"type\":\"heatmapgl\"}],\"heatmap\":[{\"colorbar\":{\"outlinewidth\":0,\"ticks\":\"\"},\"colorscale\":[[0.0,\"#0d0887\"],[0.1111111111111111,\"#46039f\"],[0.2222222222222222,\"#7201a8\"],[0.3333333333333333,\"#9c179e\"],[0.4444444444444444,\"#bd3786\"],[0.5555555555555556,\"#d8576b\"],[0.6666666666666666,\"#ed7953\"],[0.7777777777777778,\"#fb9f3a\"],[0.8888888888888888,\"#fdca26\"],[1.0,\"#f0f921\"]],\"type\":\"heatmap\"}],\"histogram2dcontour\":[{\"colorbar\":{\"outlinewidth\":0,\"ticks\":\"\"},\"colorscale\":[[0.0,\"#0d0887\"],[0.1111111111111111,\"#46039f\"],[0.2222222222222222,\"#7201a8\"],[0.3333333333333333,\"#9c179e\"],[0.4444444444444444,\"#bd3786\"],[0.5555555555555556,\"#d8576b\"],[0.6666666666666666,\"#ed7953\"],[0.7777777777777778,\"#fb9f3a\"],[0.8888888888888888,\"#fdca26\"],[1.0,\"#f0f921\"]],\"type\":\"histogram2dcontour\"}],\"histogram2d\":[{\"colorbar\":{\"outlinewidth\":0,\"ticks\":\"\"},\"colorscale\":[[0.0,\"#0d0887\"],[0.1111111111111111,\"#46039f\"],[0.2222222222222222,\"#7201a8\"],[0.3333333333333333,\"#9c179e\"],[0.4444444444444444,\"#bd3786\"],[0.5555555555555556,\"#d8576b\"],[0.6666666666666666,\"#ed7953\"],[0.7777777777777778,\"#fb9f3a\"],[0.8888888888888888,\"#fdca26\"],[1.0,\"#f0f921\"]],\"type\":\"histogram2d\"}],\"histogram\":[{\"marker\":{\"pattern\":{\"fillmode\":\"overlay\",\"size\":10,\"solidity\":0.2}},\"type\":\"histogram\"}],\"mesh3d\":[{\"colorbar\":{\"outlinewidth\":0,\"ticks\":\"\"},\"type\":\"mesh3d\"}],\"parcoords\":[{\"line\":{\"colorbar\":{\"outlinewidth\":0,\"ticks\":\"\"}},\"type\":\"parcoords\"}],\"pie\":[{\"automargin\":true,\"type\":\"pie\"}],\"scatter3d\":[{\"line\":{\"colorbar\":{\"outlinewidth\":0,\"ticks\":\"\"}},\"marker\":{\"colorbar\":{\"outlinewidth\":0,\"ticks\":\"\"}},\"type\":\"scatter3d\"}],\"scattercarpet\":[{\"marker\":{\"colorbar\":{\"outlinewidth\":0,\"ticks\":\"\"}},\"type\":\"scattercarpet\"}],\"scattergeo\":[{\"marker\":{\"colorbar\":{\"outlinewidth\":0,\"ticks\":\"\"}},\"type\":\"scattergeo\"}],\"scattergl\":[{\"marker\":{\"line\":{\"color\":\"#283442\"}},\"type\":\"scattergl\"}],\"scattermapbox\":[{\"marker\":{\"colorbar\":{\"outlinewidth\":0,\"ticks\":\"\"}},\"type\":\"scattermapbox\"}],\"scatterpolargl\":[{\"marker\":{\"colorbar\":{\"outlinewidth\":0,\"ticks\":\"\"}},\"type\":\"scatterpolargl\"}],\"scatterpolar\":[{\"marker\":{\"colorbar\":{\"outlinewidth\":0,\"ticks\":\"\"}},\"type\":\"scatterpolar\"}],\"scatter\":[{\"marker\":{\"line\":{\"color\":\"#283442\"}},\"type\":\"scatter\"}],\"scatterternary\":[{\"marker\":{\"colorbar\":{\"outlinewidth\":0,\"ticks\":\"\"}},\"type\":\"scatterternary\"}],\"surface\":[{\"colorbar\":{\"outlinewidth\":0,\"ticks\":\"\"},\"colorscale\":[[0.0,\"#0d0887\"],[0.1111111111111111,\"#46039f\"],[0.2222222222222222,\"#7201a8\"],[0.3333333333333333,\"#9c179e\"],[0.4444444444444444,\"#bd3786\"],[0.5555555555555556,\"#d8576b\"],[0.6666666666666666,\"#ed7953\"],[0.7777777777777778,\"#fb9f3a\"],[0.8888888888888888,\"#fdca26\"],[1.0,\"#f0f921\"]],\"type\":\"surface\"}],\"table\":[{\"cells\":{\"fill\":{\"color\":\"#506784\"},\"line\":{\"color\":\"rgb(17,17,17)\"}},\"header\":{\"fill\":{\"color\":\"#2a3f5f\"},\"line\":{\"color\":\"rgb(17,17,17)\"}},\"type\":\"table\"}]},\"layout\":{\"annotationdefaults\":{\"arrowcolor\":\"#f2f5fa\",\"arrowhead\":0,\"arrowwidth\":1},\"autotypenumbers\":\"strict\",\"coloraxis\":{\"colorbar\":{\"outlinewidth\":0,\"ticks\":\"\"}},\"colorscale\":{\"diverging\":[[0,\"#8e0152\"],[0.1,\"#c51b7d\"],[0.2,\"#de77ae\"],[0.3,\"#f1b6da\"],[0.4,\"#fde0ef\"],[0.5,\"#f7f7f7\"],[0.6,\"#e6f5d0\"],[0.7,\"#b8e186\"],[0.8,\"#7fbc41\"],[0.9,\"#4d9221\"],[1,\"#276419\"]],\"sequential\":[[0.0,\"#0d0887\"],[0.1111111111111111,\"#46039f\"],[0.2222222222222222,\"#7201a8\"],[0.3333333333333333,\"#9c179e\"],[0.4444444444444444,\"#bd3786\"],[0.5555555555555556,\"#d8576b\"],[0.6666666666666666,\"#ed7953\"],[0.7777777777777778,\"#fb9f3a\"],[0.8888888888888888,\"#fdca26\"],[1.0,\"#f0f921\"]],\"sequentialminus\":[[0.0,\"#0d0887\"],[0.1111111111111111,\"#46039f\"],[0.2222222222222222,\"#7201a8\"],[0.3333333333333333,\"#9c179e\"],[0.4444444444444444,\"#bd3786\"],[0.5555555555555556,\"#d8576b\"],[0.6666666666666666,\"#ed7953\"],[0.7777777777777778,\"#fb9f3a\"],[0.8888888888888888,\"#fdca26\"],[1.0,\"#f0f921\"]]},\"colorway\":[\"#636efa\",\"#EF553B\",\"#00cc96\",\"#ab63fa\",\"#FFA15A\",\"#19d3f3\",\"#FF6692\",\"#B6E880\",\"#FF97FF\",\"#FECB52\"],\"font\":{\"color\":\"#f2f5fa\"},\"geo\":{\"bgcolor\":\"rgb(17,17,17)\",\"lakecolor\":\"rgb(17,17,17)\",\"landcolor\":\"rgb(17,17,17)\",\"showlakes\":true,\"showland\":true,\"subunitcolor\":\"#506784\"},\"hoverlabel\":{\"align\":\"left\"},\"hovermode\":\"closest\",\"mapbox\":{\"style\":\"dark\"},\"paper_bgcolor\":\"rgb(17,17,17)\",\"plot_bgcolor\":\"rgb(17,17,17)\",\"polar\":{\"angularaxis\":{\"gridcolor\":\"#506784\",\"linecolor\":\"#506784\",\"ticks\":\"\"},\"bgcolor\":\"rgb(17,17,17)\",\"radialaxis\":{\"gridcolor\":\"#506784\",\"linecolor\":\"#506784\",\"ticks\":\"\"}},\"scene\":{\"xaxis\":{\"backgroundcolor\":\"rgb(17,17,17)\",\"gridcolor\":\"#506784\",\"gridwidth\":2,\"linecolor\":\"#506784\",\"showbackground\":true,\"ticks\":\"\",\"zerolinecolor\":\"#C8D4E3\"},\"yaxis\":{\"backgroundcolor\":\"rgb(17,17,17)\",\"gridcolor\":\"#506784\",\"gridwidth\":2,\"linecolor\":\"#506784\",\"showbackground\":true,\"ticks\":\"\",\"zerolinecolor\":\"#C8D4E3\"},\"zaxis\":{\"backgroundcolor\":\"rgb(17,17,17)\",\"gridcolor\":\"#506784\",\"gridwidth\":2,\"linecolor\":\"#506784\",\"showbackground\":true,\"ticks\":\"\",\"zerolinecolor\":\"#C8D4E3\"}},\"shapedefaults\":{\"line\":{\"color\":\"#f2f5fa\"}},\"sliderdefaults\":{\"bgcolor\":\"#C8D4E3\",\"bordercolor\":\"rgb(17,17,17)\",\"borderwidth\":1,\"tickwidth\":0},\"ternary\":{\"aaxis\":{\"gridcolor\":\"#506784\",\"linecolor\":\"#506784\",\"ticks\":\"\"},\"baxis\":{\"gridcolor\":\"#506784\",\"linecolor\":\"#506784\",\"ticks\":\"\"},\"bgcolor\":\"rgb(17,17,17)\",\"caxis\":{\"gridcolor\":\"#506784\",\"linecolor\":\"#506784\",\"ticks\":\"\"}},\"title\":{\"x\":0.05},\"updatemenudefaults\":{\"bgcolor\":\"#506784\",\"borderwidth\":0},\"xaxis\":{\"automargin\":true,\"gridcolor\":\"#283442\",\"linecolor\":\"#506784\",\"ticks\":\"\",\"title\":{\"standoff\":15},\"zerolinecolor\":\"#283442\",\"zerolinewidth\":2},\"yaxis\":{\"automargin\":true,\"gridcolor\":\"#283442\",\"linecolor\":\"#506784\",\"ticks\":\"\",\"title\":{\"standoff\":15},\"zerolinecolor\":\"#283442\",\"zerolinewidth\":2}}},\"legend\":{\"tracegroupgap\":0},\"title\":{\"text\":\"Top 15 production movies countries\"},\"piecolorway\":[\"#1F77B4\",\"#FF7F0E\",\"#2CA02C\",\"#D62728\",\"#9467BD\",\"#E377C2\"],\"height\":500,\"width\":800},                        {\"responsive\": true}                    ).then(function(){\n",
       "                            \n",
       "var gd = document.getElementById('49a81cc8-7bb9-4467-9a71-4d90655d498b');\n",
       "var x = new MutationObserver(function (mutations, observer) {{\n",
       "        var display = window.getComputedStyle(gd).display;\n",
       "        if (!display || display === 'none') {{\n",
       "            console.log([gd, 'removed!']);\n",
       "            Plotly.purge(gd);\n",
       "            observer.disconnect();\n",
       "        }}\n",
       "}});\n",
       "\n",
       "// Listen for the removal of the full notebook cells\n",
       "var notebookContainer = gd.closest('#notebook-container');\n",
       "if (notebookContainer) {{\n",
       "    x.observe(notebookContainer, {childList: true});\n",
       "}}\n",
       "\n",
       "// Listen for the clearing of the current output cell\n",
       "var outputEl = gd.closest('.output');\n",
       "if (outputEl) {{\n",
       "    x.observe(outputEl, {childList: true});\n",
       "}}\n",
       "\n",
       "                        })                };                });            </script>        </div>"
      ]
     },
     "metadata": {},
     "output_type": "display_data"
    }
   ],
   "source": [
    "chart_colors = ['#1F77B4', '#FF7F0E', '#2CA02C', '#D62728', '#9467BD', '#E377C2'] \n",
    "\n",
    "fig = px.pie(values = qty, names = states,\n",
    "             template= \"plotly_dark\", \n",
    "             title = 'Top 15 production movies countries', \n",
    "             width = 800, height = 500, \n",
    "             color_discrete_sequence=  chart_colors)\n",
    "\n",
    "\n",
    "fig.show()"
   ]
  },
  {
   "cell_type": "markdown",
   "id": "168b346d",
   "metadata": {
    "papermill": {
     "duration": 0.046154,
     "end_time": "2024-05-13T12:24:33.160302",
     "exception": false,
     "start_time": "2024-05-13T12:24:33.114148",
     "status": "completed"
    },
    "tags": []
   },
   "source": [
    "* US has a significant advantage in comparison with other countries from top-15 in terms of production with almost half of produced Movies.\n",
    "* India, UK, Canada and France are another countries from top-5 (exclding 'Other' category which was not marked in our DF)"
   ]
  },
  {
   "cell_type": "markdown",
   "id": "b741b2c4",
   "metadata": {
    "papermill": {
     "duration": 0.058914,
     "end_time": "2024-05-13T12:24:33.275336",
     "exception": false,
     "start_time": "2024-05-13T12:24:33.216422",
     "status": "completed"
    },
    "tags": []
   },
   "source": [
    "#### Duration"
   ]
  },
  {
   "cell_type": "code",
   "execution_count": 59,
   "id": "b34cae34",
   "metadata": {
    "execution": {
     "iopub.execute_input": "2024-05-13T12:24:33.372418Z",
     "iopub.status.busy": "2024-05-13T12:24:33.371871Z",
     "iopub.status.idle": "2024-05-13T12:24:33.385442Z",
     "shell.execute_reply": "2024-05-13T12:24:33.383641Z"
    },
    "papermill": {
     "duration": 0.065126,
     "end_time": "2024-05-13T12:24:33.388160",
     "exception": false,
     "start_time": "2024-05-13T12:24:33.323034",
     "status": "completed"
    },
    "tags": []
   },
   "outputs": [],
   "source": [
    "movies_duration = movies['duration'].str.replace('min', '')\n",
    "movies_duration = movies_duration.astype('float').dropna()"
   ]
  },
  {
   "cell_type": "code",
   "execution_count": 60,
   "id": "ed6556c6",
   "metadata": {
    "execution": {
     "iopub.execute_input": "2024-05-13T12:24:33.486161Z",
     "iopub.status.busy": "2024-05-13T12:24:33.485716Z",
     "iopub.status.idle": "2024-05-13T12:24:33.706327Z",
     "shell.execute_reply": "2024-05-13T12:24:33.705093Z"
    },
    "papermill": {
     "duration": 0.276401,
     "end_time": "2024-05-13T12:24:33.711928",
     "exception": false,
     "start_time": "2024-05-13T12:24:33.435527",
     "status": "completed"
    },
    "tags": []
   },
   "outputs": [
    {
     "data": {
      "text/html": [
       "<div>                            <div id=\"dedc1d95-e8db-4ce9-b1fc-7684ee5a259a\" class=\"plotly-graph-div\" style=\"height:600px; width:900px;\"></div>            <script type=\"text/javascript\">                require([\"plotly\"], function(Plotly) {                    window.PLOTLYENV=window.PLOTLYENV || {};                                    if (document.getElementById(\"dedc1d95-e8db-4ce9-b1fc-7684ee5a259a\")) {                    Plotly.newPlot(                        \"dedc1d95-e8db-4ce9-b1fc-7684ee5a259a\",                        [{\"autobinx\":false,\"histnorm\":\"probability density\",\"legendgroup\":\"distplot\",\"marker\":{\"color\":\"rgb(31, 119, 180)\"},\"name\":\"distplot\",\"opacity\":0.7,\"x\":[90.0,91.0,125.0,104.0,127.0,91.0,67.0,94.0,161.0,61.0,166.0,147.0,103.0,97.0,106.0,111.0,110.0,105.0,96.0,124.0,116.0,98.0,91.0,23.0,115.0,122.0,99.0,99.0,88.0,100.0,102.0,93.0,96.0,95.0,85.0,97.0,95.0,83.0,103.0,113.0,13.0,182.0,106.0,48.0,145.0,145.0,93.0,106.0,147.0,87.0,96.0,95.0,92.0,91.0,90.0,97.0,80.0,117.0,128.0,90.0,119.0,110.0,143.0,119.0,114.0,94.0,106.0,99.0,118.0,115.0,95.0,115.0,108.0,63.0,117.0,121.0,142.0,113.0,154.0,95.0,108.0,120.0,100.0,82.0,124.0,114.0,104.0,94.0,94.0,93.0,97.0,109.0,88.0,101.0,105.0,102.0,101.0,103.0,106.0,118.0,86.0,121.0,229.0,76.0,95.0,98.0,89.0,120.0,110.0,83.0,121.0,105.0,94.0,156.0,112.0,95.0,107.0,114.0,129.0,86.0,97.0,125.0,107.0,127.0,128.0,92.0,135.0,124.0,136.0,165.0,124.0,136.0,150.0,112.0,119.0,133.0,142.0,93.0,113.0,124.0,116.0,106.0,145.0,93.0,95.0,108.0,90.0,86.0,92.0,82.0,70.0,122.0,122.0,122.0,122.0,84.0,96.0,115.0,110.0,88.0,102.0,91.0,105.0,135.0,86.0,140.0,133.0,92.0,82.0,97.0,78.0,94.0,121.0,97.0,110.0,64.0,59.0,101.0,127.0,90.0,114.0,108.0,70.0,98.0,86.0,139.0,111.0,115.0,102.0,100.0,135.0,69.0,95.0,97.0,124.0,118.0,115.0,115.0,104.0,106.0,102.0,97.0,87.0,88.0,114.0,90.0,142.0,90.0,105.0,103.0,116.0,113.0,99.0,96.0,148.0,189.0,97.0,102.0,99.0,85.0,112.0,91.0,91.0,141.0,130.0,98.0,105.0,101.0,105.0,118.0,97.0,102.0,114.0,111.0,125.0,76.0,118.0,103.0,114.0,95.0,138.0,112.0,94.0,102.0,92.0,81.0,143.0,86.0,132.0,117.0,165.0,91.0,97.0,97.0,123.0,94.0,111.0,85.0,65.0,64.0,68.0,67.0,66.0,64.0,64.0,65.0,64.0,68.0,68.0,64.0,62.0,63.0,69.0,70.0,63.0,68.0,74.0,68.0,99.0,90.0,87.0,105.0,106.0,102.0,91.0,88.0,107.0,101.0,114.0,123.0,94.0,105.0,117.0,115.0,124.0,131.0,122.0,113.0,91.0,100.0,93.0,90.0,86.0,100.0,96.0,95.0,115.0,100.0,102.0,87.0,39.0,110.0,93.0,96.0,93.0,93.0,111.0,105.0,101.0,102.0,46.0,89.0,94.0,104.0,97.0,91.0,106.0,38.0,90.0,87.0,138.0,105.0,104.0,85.0,92.0,108.0,95.0,105.0,116.0,124.0,101.0,95.0,128.0,143.0,107.0,136.0,94.0,136.0,126.0,116.0,100.0,115.0,125.0,39.0,94.0,90.0,95.0,155.0,98.0,108.0,96.0,117.0,118.0,103.0,94.0,93.0,115.0,120.0,145.0,126.0,96.0,101.0,118.0,109.0,89.0,106.0,101.0,101.0,123.0,106.0,89.0,128.0,85.0,89.0,108.0,105.0,133.0,129.0,127.0,113.0,112.0,130.0,100.0,103.0,85.0,124.0,103.0,121.0,89.0,92.0,112.0,114.0,116.0,110.0,98.0,98.0,100.0,90.0,92.0,82.0,97.0,90.0,76.0,83.0,101.0,109.0,97.0,87.0,94.0,89.0,88.0,108.0,96.0,84.0,70.0,125.0,119.0,105.0,133.0,140.0,120.0,135.0,111.0,159.0,119.0,139.0,137.0,101.0,13.0,12.0,101.0,96.0,122.0,95.0,89.0,98.0,119.0,138.0,104.0,273.0,101.0,99.0,84.0,82.0,97.0,89.0,36.0,34.0,36.0,113.0,110.0,36.0,102.0,86.0,91.0,117.0,99.0,77.0,97.0,106.0,97.0,104.0,110.0,61.0,98.0,74.0,60.0,60.0,103.0,94.0,112.0,49.0,111.0,58.0,72.0,78.0,101.0,110.0,94.0,70.0,118.0,99.0,103.0,95.0,93.0,101.0,101.0,89.0,109.0,104.0,90.0,109.0,145.0,88.0,132.0,109.0,133.0,85.0,104.0,99.0,93.0,204.0,212.0,98.0,101.0,94.0,25.0,99.0,108.0,106.0,128.0,104.0,127.0,136.0,97.0,88.0,97.0,97.0,88.0,103.0,97.0,88.0,97.0,118.0,70.0,91.0,92.0,120.0,73.0,110.0,94.0,61.0,131.0,131.0,131.0,148.0,29.0,107.0,99.0,92.0,91.0,47.0,88.0,116.0,109.0,92.0,87.0,101.0,140.0,89.0,81.0,116.0,99.0,107.0,107.0,90.0,104.0,100.0,32.0,102.0,105.0,107.0,64.0,99.0,102.0,126.0,119.0,86.0,122.0,95.0,104.0,118.0,85.0,98.0,99.0,35.0,107.0,97.0,112.0,118.0,109.0,109.0,88.0,97.0,97.0,99.0,95.0,91.0,115.0,93.0,109.0,96.0,78.0,87.0,76.0,76.0,71.0,138.0,113.0,94.0,89.0,121.0,127.0,94.0,89.0,136.0,89.0,99.0,93.0,85.0,102.0,101.0,113.0,128.0,114.0,85.0,121.0,95.0,121.0,116.0,91.0,149.0,113.0,33.0,127.0,101.0,102.0,102.0,107.0,123.0,98.0,95.0,101.0,104.0,104.0,103.0,111.0,102.0,15.0,54.0,120.0,106.0,116.0,58.0,116.0,126.0,86.0,97.0,76.0,80.0,81.0,84.0,87.0,91.0,76.0,132.0,126.0,101.0,102.0,147.0,224.0,141.0,109.0,162.0,142.0,93.0,60.0,119.0,37.0,96.0,116.0,102.0,123.0,102.0,127.0,88.0,106.0,65.0,96.0,88.0,143.0,137.0,75.0,71.0,103.0,130.0,145.0,84.0,84.0,77.0,86.0,79.0,80.0,81.0,78.0,118.0,102.0,132.0,108.0,133.0,107.0,32.0,78.0,55.0,92.0,86.0,140.0,143.0,88.0,89.0,93.0,97.0,94.0,112.0,100.0,120.0,91.0,98.0,113.0,98.0,91.0,158.0,164.0,133.0,75.0,103.0,90.0,116.0,96.0,121.0,101.0,173.0,89.0,182.0,181.0,185.0,99.0,88.0,107.0,114.0,96.0,149.0,102.0,83.0,98.0,83.0,104.0,111.0,98.0,93.0,73.0,141.0,116.0,21.0,98.0,87.0,87.0,95.0,87.0,93.0,97.0,114.0,100.0,105.0,90.0,60.0,98.0,108.0,90.0,102.0,84.0,120.0,106.0,115.0,98.0,60.0,113.0,101.0,24.0,51.0,80.0,100.0,139.0,74.0,131.0,131.0,118.0,87.0,101.0,97.0,92.0,136.0,97.0,103.0,110.0,105.0,90.0,107.0,92.0,94.0,99.0,97.0,151.0,108.0,113.0,81.0,116.0,119.0,116.0,112.0,121.0,115.0,182.0,98.0,96.0,42.0,181.0,100.0,22.0,134.0,177.0,94.0,88.0,119.0,107.0,112.0,35.0,103.0,90.0,120.0,97.0,102.0,106.0,119.0,84.0,58.0,90.0,109.0,143.0,112.0,134.0,123.0,36.0,123.0,58.0,118.0,91.0,76.0,97.0,85.0,92.0,139.0,162.0,92.0,86.0,107.0,85.0,83.0,104.0,116.0,87.0,91.0,119.0,102.0,86.0,102.0,98.0,99.0,108.0,114.0,104.0,88.0,104.0,123.0,106.0,138.0,113.0,107.0,133.0,97.0,116.0,123.0,89.0,93.0,139.0,112.0,101.0,113.0,89.0,107.0,123.0,113.0,90.0,52.0,127.0,95.0,121.0,108.0,102.0,95.0,133.0,127.0,95.0,101.0,123.0,89.0,100.0,108.0,94.0,103.0,105.0,116.0,92.0,65.0,115.0,96.0,32.0,102.0,102.0,101.0,71.0,81.0,98.0,90.0,112.0,161.0,129.0,85.0,14.0,148.0,99.0,97.0,101.0,89.0,128.0,76.0,99.0,126.0,106.0,101.0,87.0,111.0,90.0,91.0,101.0,96.0,96.0,148.0,96.0,98.0,104.0,53.0,54.0,113.0,102.0,118.0,83.0,77.0,116.0,116.0,106.0,105.0,8.0,110.0,71.0,91.0,46.0,109.0,102.0,101.0,94.0,110.0,117.0,85.0,119.0,115.0,105.0,68.0,57.0,28.0,98.0,95.0,96.0,66.0,112.0,84.0,94.0,32.0,98.0,85.0,120.0,83.0,94.0,102.0,111.0,90.0,111.0,110.0,87.0,132.0,117.0,50.0,106.0,125.0,107.0,59.0,28.0,9.0,91.0,132.0,133.0,109.0,107.0,111.0,108.0,105.0,119.0,104.0,83.0,90.0,79.0,24.0,115.0,97.0,26.0,46.0,106.0,113.0,133.0,93.0,108.0,96.0,25.0,101.0,106.0,54.0,118.0,58.0,117.0,48.0,139.0,115.0,109.0,91.0,60.0,102.0,120.0,149.0,91.0,99.0,106.0,108.0,45.0,93.0,22.0,81.0,98.0,100.0,112.0,114.0,68.0,103.0,121.0,95.0,87.0,115.0,171.0,171.0,46.0,117.0,84.0,98.0,83.0,97.0,99.0,108.0,93.0,42.0,13.0,64.0,162.0,130.0,108.0,129.0,105.0,133.0,142.0,128.0,97.0,107.0,135.0,84.0,70.0,124.0,102.0,84.0,95.0,84.0,120.0,87.0,75.0,124.0,92.0,95.0,107.0,123.0,85.0,150.0,97.0,88.0,74.0,93.0,151.0,82.0,148.0,95.0,90.0,103.0,87.0,102.0,96.0,87.0,86.0,136.0,60.0,127.0,96.0,15.0,100.0,87.0,28.0,27.0,90.0,102.0,94.0,81.0,134.0,114.0,107.0,107.0,130.0,87.0,93.0,114.0,91.0,116.0,93.0,106.0,105.0,50.0,93.0,103.0,114.0,95.0,50.0,150.0,100.0,117.0,87.0,100.0,86.0,102.0,87.0,103.0,112.0,120.0,111.0,78.0,51.0,123.0,46.0,102.0,106.0,112.0,101.0,96.0,103.0,94.0,69.0,81.0,76.0,108.0,94.0,106.0,98.0,93.0,99.0,93.0,82.0,107.0,104.0,130.0,83.0,99.0,77.0,94.0,118.0,87.0,42.0,101.0,80.0,110.0,117.0,47.0,165.0,134.0,140.0,150.0,156.0,86.0,126.0,100.0,25.0,124.0,100.0,106.0,104.0,96.0,90.0,33.0,81.0,84.0,44.0,115.0,94.0,22.0,107.0,115.0,93.0,107.0,86.0,112.0,102.0,91.0,83.0,73.0,139.0,95.0,101.0,75.0,87.0,91.0,120.0,123.0,95.0,84.0,29.0,28.0,122.0,28.0,98.0,59.0,80.0,103.0,104.0,146.0,135.0,129.0,115.0,143.0,173.0,129.0,149.0,98.0,115.0,44.0,127.0,124.0,85.0,20.0,102.0,129.0,124.0,118.0,111.0,125.0,94.0,130.0,117.0,137.0,139.0,111.0,103.0,120.0,98.0,130.0,96.0,61.0,137.0,90.0,69.0,139.0,94.0,92.0,80.0,63.0,88.0,105.0,93.0,140.0,103.0,102.0,93.0,69.0,133.0,157.0,116.0,112.0,96.0,127.0,130.0,93.0,138.0,138.0,92.0,110.0,102.0,113.0,96.0,108.0,94.0,99.0,86.0,98.0,111.0,97.0,135.0,93.0,94.0,117.0,63.0,73.0,91.0,93.0,101.0,93.0,96.0,112.0,72.0,112.0,72.0,92.0,109.0,155.0,109.0,115.0,97.0,103.0,24.0,110.0,97.0,94.0,107.0,97.0,103.0,88.0,111.0,94.0,33.0,107.0,110.0,98.0,81.0,104.0,17.0,121.0,100.0,70.0,97.0,75.0,102.0,88.0,158.0,102.0,203.0,59.0,92.0,104.0,72.0,113.0,93.0,119.0,105.0,113.0,93.0,44.0,110.0,113.0,90.0,82.0,69.0,46.0,94.0,72.0,95.0,101.0,21.0,71.0,64.0,92.0,80.0,104.0,25.0,111.0,72.0,99.0,83.0,150.0,108.0,44.0,102.0,137.0,112.0,102.0,103.0,136.0,41.0,88.0,84.0,114.0,110.0,103.0,106.0,46.0,115.0,140.0,124.0,133.0,91.0,30.0,67.0,105.0,58.0,87.0,100.0,95.0,90.0,102.0,98.0,68.0,104.0,89.0,62.0,86.0,104.0,101.0,17.0,126.0,120.0,89.0,96.0,91.0,86.0,67.0,89.0,65.0,151.0,116.0,110.0,123.0,139.0,95.0,121.0,127.0,162.0,128.0,112.0,125.0,128.0,120.0,86.0,107.0,129.0,135.0,97.0,125.0,162.0,136.0,138.0,126.0,137.0,114.0,96.0,107.0,89.0,94.0,148.0,82.0,95.0,120.0,115.0,107.0,105.0,134.0,128.0,103.0,96.0,114.0,102.0,52.0,86.0,104.0,76.0,135.0,99.0,124.0,117.0,107.0,111.0,116.0,135.0,126.0,164.0,166.0,104.0,94.0,92.0,52.0,112.0,90.0,101.0,84.0,112.0,136.0,108.0,110.0,93.0,90.0,130.0,128.0,104.0,131.0,109.0,129.0,73.0,104.0,48.0,114.0,86.0,194.0,76.0,116.0,130.0,85.0,108.0,81.0,76.0,92.0,85.0,85.0,108.0,120.0,117.0,100.0,101.0,156.0,55.0,96.0,104.0,101.0,113.0,126.0,98.0,114.0,132.0,92.0,90.0,86.0,103.0,114.0,115.0,149.0,96.0,102.0,105.0,114.0,94.0,83.0,106.0,116.0,109.0,97.0,100.0,116.0,111.0,24.0,95.0,135.0,95.0,92.0,100.0,80.0,98.0,104.0,98.0,104.0,99.0,68.0,106.0,71.0,80.0,116.0,112.0,73.0,110.0,135.0,128.0,93.0,149.0,54.0,87.0,102.0,177.0,204.0,233.0,98.0,237.0,230.0,173.0,195.0,253.0,157.0,97.0,85.0,94.0,80.0,94.0,92.0,105.0,120.0,96.0,107.0,93.0,101.0,110.0,112.0,93.0,109.0,105.0,97.0,91.0,88.0,109.0,118.0,109.0,131.0,91.0,152.0,67.0,72.0,83.0,90.0,106.0,190.0,129.0,160.0,86.0,92.0,114.0,90.0,94.0,86.0,89.0,107.0,61.0,93.0,81.0,120.0,94.0,91.0,104.0,76.0,90.0,103.0,122.0,97.0,98.0,42.0,90.0,91.0,94.0,107.0,143.0,105.0,116.0,23.0,23.0,23.0,105.0,97.0,105.0,83.0,109.0,111.0,97.0,132.0,102.0,107.0,100.0,115.0,104.0,110.0,100.0,111.0,108.0,104.0,116.0,106.0,96.0,140.0,107.0,138.0,132.0,208.0,105.0,101.0,124.0,93.0,110.0,115.0,107.0,72.0,107.0,95.0,180.0,135.0,87.0,94.0,105.0,93.0,92.0,144.0,101.0,81.0,95.0,119.0,121.0,88.0,106.0,119.0,63.0,82.0,95.0,93.0,120.0,147.0,55.0,107.0,92.0,85.0,98.0,92.0,101.0,112.0,103.0,91.0,96.0,104.0,66.0,83.0,111.0,90.0,121.0,121.0,88.0,57.0,107.0,5.0,91.0,174.0,155.0,87.0,77.0,142.0,170.0,165.0,161.0,144.0,149.0,135.0,131.0,126.0,192.0,209.0,187.0,138.0,185.0,143.0,97.0,172.0,103.0,83.0,107.0,114.0,93.0,85.0,85.0,131.0,101.0,107.0,84.0,104.0,160.0,103.0,46.0,112.0,83.0,72.0,24.0,104.0,72.0,113.0,21.0,100.0,108.0,99.0,104.0,70.0,93.0,95.0,109.0,91.0,75.0,100.0,95.0,113.0,91.0,62.0,93.0,135.0,23.0,23.0,23.0,101.0,98.0,103.0,106.0,95.0,132.0,82.0,71.0,16.0,104.0,79.0,120.0,82.0,115.0,111.0,110.0,121.0,162.0,108.0,186.0,116.0,154.0,105.0,71.0,61.0,133.0,98.0,119.0,61.0,130.0,11.0,87.0,127.0,87.0,88.0,158.0,82.0,93.0,90.0,109.0,72.0,162.0,98.0,103.0,97.0,94.0,101.0,138.0,109.0,50.0,110.0,92.0,120.0,101.0,116.0,117.0,95.0,93.0,122.0,102.0,96.0,93.0,93.0,72.0,87.0,95.0,33.0,113.0,118.0,171.0,100.0,103.0,86.0,102.0,81.0,101.0,73.0,96.0,106.0,88.0,103.0,139.0,89.0,104.0,124.0,112.0,70.0,106.0,97.0,106.0,60.0,148.0,122.0,86.0,193.0,92.0,94.0,82.0,59.0,89.0,176.0,116.0,86.0,93.0,85.0,62.0,112.0,121.0,133.0,76.0,82.0,156.0,90.0,97.0,51.0,98.0,61.0,116.0,132.0,17.0,91.0,121.0,78.0,95.0,86.0,132.0,107.0,122.0,95.0,108.0,99.0,103.0,66.0,132.0,56.0,128.0,119.0,97.0,92.0,102.0,90.0,129.0,106.0,105.0,78.0,79.0,78.0,145.0,71.0,83.0,81.0,119.0,98.0,102.0,88.0,97.0,110.0,85.0,90.0,89.0,120.0,102.0,73.0,103.0,79.0,97.0,91.0,96.0,103.0,95.0,83.0,117.0,70.0,90.0,86.0,86.0,113.0,82.0,141.0,107.0,126.0,25.0,63.0,136.0,120.0,134.0,185.0,174.0,169.0,148.0,135.0,135.0,89.0,119.0,98.0,135.0,185.0,156.0,104.0,139.0,140.0,154.0,129.0,99.0,100.0,110.0,107.0,95.0,89.0,65.0,143.0,101.0,60.0,29.0,92.0,172.0,97.0,108.0,107.0,137.0,106.0,115.0,46.0,92.0,93.0,85.0,24.0,56.0,86.0,127.0,93.0,94.0,120.0,108.0,135.0,111.0,134.0,137.0,103.0,133.0,95.0,126.0,67.0,135.0,106.0,107.0,81.0,107.0,118.0,110.0,104.0,93.0,94.0,137.0,134.0,69.0,106.0,209.0,86.0,24.0,46.0,117.0,87.0,121.0,97.0,121.0,56.0,119.0,93.0,86.0,134.0,28.0,131.0,78.0,93.0,84.0,107.0,101.0,107.0,74.0,60.0,143.0,105.0,110.0,98.0,74.0,46.0,54.0,59.0,100.0,88.0,93.0,94.0,121.0,78.0,116.0,87.0,61.0,98.0,123.0,85.0,78.0,103.0,44.0,68.0,68.0,69.0,81.0,69.0,68.0,68.0,86.0,40.0,94.0,90.0,112.0,101.0,119.0,40.0,86.0,92.0,91.0,36.0,141.0,107.0,97.0,24.0,89.0,65.0,126.0,63.0,14.0,28.0,20.0,106.0,118.0,127.0,61.0,86.0,94.0,82.0,92.0,52.0,108.0,67.0,91.0,66.0,118.0,87.0,47.0,56.0,61.0,34.0,98.0,99.0,95.0,100.0,101.0,86.0,96.0,99.0,112.0,127.0,22.0,78.0,63.0,97.0,86.0,62.0,96.0,104.0,123.0,100.0,99.0,151.0,102.0,154.0,106.0,87.0,70.0,46.0,101.0,109.0,100.0,110.0,102.0,102.0,24.0,98.0,76.0,90.0,59.0,58.0,64.0,79.0,81.0,81.0,64.0,45.0,90.0,102.0,116.0,42.0,133.0,108.0,38.0,146.0,146.0,106.0,58.0,152.0,87.0,121.0,83.0,111.0,24.0,171.0,88.0,76.0,64.0,94.0,157.0,83.0,65.0,105.0,107.0,103.0,67.0,96.0,125.0,142.0,133.0,100.0,10.0,128.0,93.0,81.0,82.0,47.0,95.0,84.0,91.0,102.0,100.0,98.0,110.0,85.0,66.0,92.0,133.0,135.0,120.0,118.0,110.0,98.0,98.0,98.0,104.0,63.0,52.0,72.0,117.0,100.0,24.0,86.0,69.0,119.0,123.0,93.0,109.0,66.0,107.0,46.0,117.0,67.0,114.0,67.0,77.0,105.0,63.0,59.0,102.0,81.0,84.0,101.0,116.0,177.0,130.0,59.0,111.0,100.0,77.0,93.0,114.0,58.0,56.0,110.0,98.0,106.0,102.0,81.0,98.0,136.0,161.0,32.0,105.0,106.0,90.0,87.0,91.0,106.0,65.0,105.0,40.0,66.0,61.0,122.0,141.0,176.0,73.0,87.0,15.0,55.0,141.0,122.0,109.0,63.0,96.0,113.0,69.0,87.0,116.0,116.0,110.0,122.0,59.0,88.0,91.0,40.0,113.0,90.0,95.0,98.0,61.0,117.0,60.0,142.0,74.0,119.0,114.0,125.0,71.0,110.0,127.0,118.0,90.0,130.0,12.0,62.0,3.0,114.0,128.0,109.0,109.0,101.0,103.0,98.0,123.0,38.0,101.0,99.0,91.0,30.0,30.0,137.0,66.0,70.0,87.0,88.0,90.0,84.0,53.0,87.0,90.0,96.0,94.0,108.0,102.0,61.0,94.0,70.0,88.0,100.0,111.0,128.0,98.0,104.0,126.0,86.0,125.0,40.0,79.0,110.0,128.0,110.0,116.0,119.0,90.0,88.0,104.0,140.0,92.0,64.0,119.0,91.0,122.0,125.0,49.0,168.0,98.0,77.0,102.0,92.0,111.0,113.0,54.0,138.0,123.0,59.0,102.0,141.0,95.0,111.0,131.0,116.0,119.0,146.0,101.0,87.0,94.0,133.0,135.0,61.0,91.0,59.0,91.0,131.0,170.0,88.0,170.0,92.0,59.0,126.0,120.0,76.0,60.0,103.0,124.0,91.0,88.0,81.0,124.0,102.0,132.0,87.0,75.0,126.0,61.0,126.0,108.0,100.0,129.0,71.0,108.0,60.0,105.0,115.0,118.0,130.0,115.0,69.0,97.0,61.0,92.0,108.0,104.0,65.0,106.0,69.0,97.0,80.0,85.0,98.0,115.0,117.0,132.0,127.0,125.0,128.0,126.0,58.0,116.0,90.0,111.0,100.0,99.0,105.0,128.0,91.0,127.0,94.0,124.0,103.0,118.0,162.0,89.0,89.0,108.0,103.0,87.0,93.0,90.0,131.0,114.0,107.0,97.0,103.0,125.0,130.0,119.0,110.0,120.0,102.0,125.0,127.0,121.0,113.0,118.0,132.0,61.0,80.0,110.0,70.0,117.0,89.0,84.0,131.0,139.0,42.0,79.0,96.0,114.0,99.0,111.0,112.0,96.0,103.0,104.0,102.0,97.0,132.0,120.0,137.0,82.0,115.0,130.0,62.0,26.0,91.0,63.0,74.0,136.0,59.0,91.0,93.0,84.0,100.0,51.0,22.0,22.0,22.0,24.0,113.0,110.0,120.0,56.0,127.0,74.0,91.0,137.0,86.0,106.0,125.0,114.0,143.0,121.0,119.0,150.0,88.0,105.0,119.0,96.0,95.0,98.0,96.0,96.0,90.0,97.0,90.0,88.0,105.0,127.0,125.0,116.0,102.0,65.0,106.0,117.0,136.0,104.0,65.0,91.0,99.0,91.0,117.0,95.0,101.0,102.0,122.0,95.0,92.0,111.0,115.0,61.0,97.0,120.0,148.0,48.0,28.0,34.0,61.0,56.0,81.0,68.0,58.0,100.0,50.0,49.0,71.0,29.0,108.0,125.0,100.0,30.0,30.0,146.0,127.0,46.0,57.0,122.0,312.0,109.0,73.0,96.0,105.0,124.0,105.0,78.0,22.0,95.0,82.0,89.0,90.0,85.0,29.0,137.0,27.0,112.0,112.0,153.0,123.0,90.0,84.0,78.0,79.0,73.0,83.0,83.0,145.0,135.0,35.0,68.0,96.0,110.0,58.0,105.0,59.0,28.0,98.0,63.0,155.0,122.0,87.0,73.0,98.0,130.0,105.0,110.0,81.0,115.0,113.0,146.0,118.0,109.0,117.0,23.0,95.0,124.0,90.0,96.0,96.0,93.0,30.0,82.0,127.0,114.0,119.0,101.0,96.0,44.0,104.0,91.0,91.0,114.0,91.0,64.0,89.0,95.0,94.0,133.0,102.0,122.0,86.0,111.0,111.0,136.0,121.0,119.0,115.0,128.0,92.0,99.0,106.0,122.0,129.0,90.0,116.0,59.0,95.0,122.0,98.0,117.0,95.0,146.0,136.0,91.0,123.0,144.0,121.0,91.0,158.0,157.0,124.0,106.0,92.0,80.0,126.0,129.0,133.0,109.0,143.0,140.0,150.0,128.0,120.0,154.0,45.0,132.0,126.0,95.0,135.0,139.0,131.0,118.0,129.0,131.0,146.0,123.0,141.0,93.0,91.0,106.0,131.0,95.0,104.0,126.0,118.0,94.0,100.0,126.0,90.0,87.0,97.0,115.0,93.0,138.0,74.0,102.0,104.0,51.0,50.0,86.0,140.0,122.0,23.0,95.0,121.0,131.0,63.0,150.0,159.0,131.0,130.0,99.0,86.0,106.0,57.0,97.0,144.0,110.0,57.0,119.0,94.0,89.0,124.0,25.0,121.0,88.0,111.0,81.0,64.0,55.0,137.0,56.0,58.0,80.0,94.0,94.0,72.0,60.0,140.0,91.0,97.0,146.0,118.0,128.0,137.0,145.0,141.0,106.0,135.0,137.0,129.0,99.0,155.0,142.0,214.0,137.0,128.0,151.0,121.0,101.0,145.0,147.0,90.0,129.0,129.0,136.0,117.0,150.0,134.0,100.0,44.0,44.0,111.0,147.0,115.0,121.0,103.0,73.0,129.0,102.0,122.0,155.0,139.0,131.0,127.0,156.0,91.0,132.0,130.0,137.0,156.0,132.0,119.0,140.0,126.0,107.0,111.0,130.0,126.0,24.0,108.0,117.0,101.0,124.0,63.0,114.0,98.0,100.0,100.0,123.0,77.0,106.0,106.0,102.0,146.0,96.0,104.0,109.0,110.0,110.0,101.0,94.0,101.0,141.0,120.0,140.0,50.0,57.0,31.0,90.0,110.0,162.0,139.0,130.0,145.0,33.0,114.0,100.0,54.0,150.0,105.0,124.0,95.0,12.0,104.0,143.0,127.0,100.0,74.0,104.0,148.0,127.0,158.0,124.0,163.0,121.0,154.0,127.0,128.0,98.0,109.0,168.0,162.0,159.0,137.0,133.0,127.0,131.0,90.0,88.0,87.0,82.0,86.0,100.0,57.0,95.0,101.0,124.0,72.0,93.0,92.0,95.0,133.0,85.0,105.0,101.0,88.0,113.0,71.0,75.0,66.0,83.0,110.0,88.0,77.0,58.0,69.0,61.0,88.0,122.0,60.0,166.0,107.0,94.0,87.0,92.0,130.0,88.0,128.0,96.0,94.0,69.0,90.0,101.0,77.0,89.0,90.0,98.0,66.0,103.0,95.0,89.0,74.0,119.0,70.0,121.0,106.0,74.0,106.0,113.0,119.0,100.0,110.0,66.0,126.0,130.0,110.0,85.0,117.0,63.0,94.0,74.0,58.0,117.0,89.0,66.0,158.0,100.0,64.0,92.0,63.0,105.0,67.0,91.0,92.0,87.0,100.0,113.0,40.0,105.0,94.0,109.0,99.0,89.0,92.0,105.0,130.0,69.0,98.0,90.0,65.0,92.0,19.0,25.0,22.0,40.0,22.0,24.0,101.0,90.0,96.0,115.0,92.0,93.0,95.0,105.0,117.0,66.0,97.0,78.0,102.0,62.0,97.0,105.0,79.0,90.0,107.0,105.0,99.0,108.0,66.0,75.0,96.0,95.0,32.0,70.0,94.0,78.0,91.0,75.0,105.0,96.0,132.0,60.0,171.0,116.0,169.0,134.0,159.0,87.0,103.0,78.0,62.0,97.0,102.0,95.0,115.0,102.0,99.0,74.0,100.0,150.0,87.0,88.0,63.0,129.0,91.0,115.0,140.0,79.0,104.0,121.0,40.0,94.0,58.0,78.0,51.0,69.0,104.0,59.0,94.0,166.0,155.0,145.0,106.0,94.0,127.0,87.0,185.0,75.0,89.0,81.0,47.0,46.0,125.0,160.0,110.0,69.0,67.0,105.0,127.0,109.0,134.0,60.0,96.0,65.0,133.0,96.0,95.0,24.0,97.0,65.0,102.0,53.0,116.0,102.0,86.0,117.0,96.0,69.0,108.0,102.0,61.0,57.0,49.0,87.0,59.0,63.0,69.0,62.0,108.0,95.0,99.0,62.0,60.0,147.0,153.0,87.0,124.0,94.0,100.0,71.0,60.0,135.0,97.0,86.0,91.0,82.0,102.0,105.0,106.0,91.0,61.0,80.0,118.0,94.0,84.0,103.0,69.0,105.0,128.0,86.0,109.0,70.0,89.0,162.0,163.0,91.0,27.0,67.0,142.0,78.0,26.0,46.0,81.0,119.0,99.0,96.0,128.0,114.0,101.0,109.0,51.0,61.0,73.0,92.0,94.0,135.0,66.0,126.0,54.0,100.0,81.0,123.0,144.0,153.0,141.0,104.0,97.0,82.0,98.0,84.0,76.0,75.0,93.0,98.0,91.0,168.0,68.0,103.0,95.0,82.0,94.0,66.0,135.0,144.0,90.0,158.0,83.0,102.0,52.0,110.0,85.0,113.0,88.0,89.0,59.0,106.0,66.0,135.0,93.0,79.0,107.0,47.0,118.0,81.0,103.0,40.0,103.0,85.0,104.0,82.0,112.0,102.0,101.0,119.0,62.0,64.0,137.0,108.0,78.0,40.0,71.0,99.0,60.0,78.0,98.0,70.0,148.0,54.0,92.0,107.0,90.0,135.0,151.0,132.0,95.0,162.0,163.0,89.0,28.0,103.0,160.0,113.0,86.0,83.0,113.0,86.0,57.0,98.0,116.0,100.0,51.0,113.0,124.0,63.0,56.0,94.0,90.0,71.0,97.0,83.0,92.0,165.0,166.0,166.0,159.0,160.0,159.0,22.0,105.0,54.0,121.0,103.0,129.0,95.0,80.0,67.0,84.0,97.0,86.0,114.0,84.0,67.0,91.0,63.0,116.0,104.0,14.0,89.0,108.0,59.0,74.0,84.0,97.0,95.0,116.0,86.0,153.0,104.0,163.0,106.0,148.0,105.0,121.0,66.0,102.0,96.0,89.0,161.0,24.0,66.0,91.0,92.0,104.0,73.0,47.0,102.0,87.0,117.0,119.0,130.0,102.0,154.0,44.0,96.0,47.0,44.0,109.0,89.0,92.0,122.0,19.0,154.0,152.0,161.0,123.0,44.0,80.0,71.0,153.0,79.0,143.0,123.0,80.0,73.0,106.0,101.0,59.0,164.0,151.0,84.0,51.0,142.0,110.0,86.0,101.0,88.0,86.0,61.0,81.0,72.0,98.0,64.0,111.0,148.0,163.0,95.0,99.0,44.0,93.0,89.0,83.0,104.0,81.0,53.0,95.0,149.0,106.0,108.0,66.0,113.0,83.0,50.0,97.0,105.0,107.0,99.0,101.0,81.0,92.0,131.0,101.0,96.0,85.0,110.0,89.0,88.0,88.0,143.0,83.0,107.0,99.0,134.0,78.0,81.0,106.0,51.0,102.0,63.0,91.0,93.0,93.0,97.0,92.0,137.0,143.0,168.0,117.0,87.0,160.0,62.0,109.0,102.0,118.0,57.0,94.0,71.0,123.0,97.0,99.0,97.0,67.0,105.0,78.0,99.0,119.0,109.0,107.0,92.0,88.0,71.0,64.0,97.0,96.0,150.0,54.0,78.0,86.0,154.0,179.0,93.0,97.0,108.0,92.0,78.0,87.0,99.0,91.0,102.0,67.0,57.0,130.0,80.0,66.0,105.0,98.0,91.0,123.0,82.0,104.0,109.0,74.0,84.0,98.0,22.0,100.0,75.0,69.0,97.0,92.0,92.0,146.0,97.0,93.0,62.0,22.0,88.0,105.0,88.0,93.0,98.0,88.0,31.0,83.0,38.0,108.0,97.0,81.0,70.0,62.0,99.0,112.0,90.0,56.0,89.0,24.0,100.0,116.0,92.0,79.0,72.0,92.0,61.0,88.0,113.0,67.0,65.0,62.0,107.0,69.0,77.0,98.0,71.0,64.0,112.0,59.0,91.0,44.0,107.0,92.0,89.0,107.0,94.0,110.0,81.0,77.0,64.0,97.0,77.0,94.0,94.0,91.0,80.0,95.0,90.0,101.0,73.0,108.0,25.0,86.0,105.0,100.0,96.0,97.0,73.0,44.0,132.0,96.0,92.0,99.0,92.0,99.0,78.0,65.0,65.0,69.0,64.0,63.0,63.0,89.0,60.0,41.0,83.0,25.0,94.0,52.0,75.0,92.0,80.0,46.0,72.0,71.0,77.0,70.0,73.0,81.0,63.0,45.0,46.0,112.0,101.0,117.0,114.0,96.0,87.0,105.0,80.0,97.0,105.0,60.0,109.0,60.0,101.0,91.0,66.0,127.0,82.0,70.0,23.0,97.0,62.0,84.0,90.0,101.0,74.0,68.0,92.0,107.0,108.0,74.0,29.0,60.0,120.0,74.0,57.0,91.0,62.0,85.0,90.0,105.0,59.0,137.0,86.0,99.0,64.0,82.0,90.0,80.0,62.0,92.0,78.0,92.0,69.0,103.0,92.0,143.0,83.0,78.0,84.0,84.0,58.0,82.0,83.0,29.0,72.0,26.0,81.0,75.0,100.0,90.0,68.0,71.0,100.0,94.0,80.0,35.0,93.0,105.0,130.0,100.0,80.0,76.0,95.0,96.0,94.0,94.0,93.0,96.0,94.0,94.0,93.0,95.0,93.0,75.0,103.0,29.0,104.0,81.0,80.0,123.0,119.0,118.0,143.0,149.0,144.0,124.0,87.0,128.0,117.0,100.0,84.0,90.0,105.0,106.0,99.0,93.0,89.0,105.0,109.0,93.0,75.0,90.0,90.0,93.0,37.0,113.0,89.0,102.0,102.0,90.0,94.0,91.0,107.0,95.0,119.0,93.0,101.0,93.0,82.0,70.0,104.0,121.0,92.0,124.0,53.0,91.0,83.0,93.0,81.0,86.0,106.0,97.0,99.0,100.0,126.0,94.0,103.0,96.0,137.0,104.0,104.0,94.0,176.0,137.0,101.0,111.0,110.0,142.0,86.0,93.0,86.0,80.0,92.0,96.0,87.0,98.0,125.0,91.0,76.0,82.0,111.0,92.0,94.0,91.0,44.0,108.0,123.0,106.0,89.0,98.0,108.0,92.0,102.0,103.0,91.0,110.0,77.0,99.0,122.0,150.0,126.0,164.0,115.0,133.0,127.0,100.0,131.0,44.0,101.0,90.0,89.0,88.0,133.0,110.0,112.0,87.0,91.0,111.0,99.0,86.0,93.0,87.0,107.0,89.0,92.0,122.0,91.0,127.0,153.0,94.0,106.0,102.0,112.0,63.0,90.0,89.0,101.0,85.0,83.0,92.0,84.0,91.0,100.0,103.0,103.0,45.0,45.0,90.0,98.0,92.0,172.0,125.0,81.0,112.0,122.0,101.0,53.0,53.0,99.0,95.0,119.0,163.0,55.0,102.0,106.0,128.0,80.0,80.0,75.0,75.0,79.0,87.0,97.0,85.0,111.0,113.0,90.0,103.0,105.0,104.0,127.0,92.0,72.0,118.0,110.0,65.0,90.0,134.0,89.0,86.0,87.0,107.0,79.0,87.0,113.0,110.0,98.0,93.0,139.0,94.0,133.0,81.0,91.0,122.0,102.0,88.0,49.0,110.0,150.0,97.0,129.0,99.0,112.0,143.0,61.0,95.0,92.0,97.0,90.0,119.0,147.0,83.0,83.0,91.0,117.0,78.0,75.0,78.0,149.0,103.0,94.0,95.0,122.0,107.0,126.0,122.0,95.0,101.0,74.0,74.0,74.0,83.0,79.0,72.0,80.0,75.0,75.0,72.0,99.0,91.0,166.0,103.0,128.0,87.0,125.0,121.0,110.0,88.0,52.0,89.0,52.0,81.0,73.0,75.0,99.0,121.0,100.0,97.0,105.0,100.0,115.0,99.0,91.0,90.0,100.0,25.0,99.0,120.0,98.0,104.0,149.0,112.0,98.0,120.0,151.0,63.0,148.0,114.0,123.0,87.0,93.0,88.0,126.0,90.0,95.0,108.0,65.0,110.0,66.0,127.0,131.0,88.0,97.0,116.0,117.0,79.0,144.0,79.0,135.0,88.0,116.0,91.0,83.0,90.0,129.0,120.0,91.0,85.0,88.0,123.0,180.0,98.0,90.0,90.0,94.0,112.0,85.0,97.0,47.0,99.0,168.0,99.0,106.0,92.0,99.0,89.0,88.0,111.0,79.0,86.0,74.0,84.0,80.0,86.0,90.0,102.0,92.0,81.0,116.0,110.0,95.0,133.0,120.0,91.0,90.0,90.0,103.0,73.0,98.0,119.0,76.0,148.0,94.0,108.0,114.0,98.0,151.0,78.0,125.0,126.0,11.0,22.0,104.0,104.0,117.0,101.0,99.0,103.0,126.0,92.0,131.0,119.0,98.0,85.0,84.0,145.0,125.0,108.0,108.0,74.0,82.0,75.0,77.0,156.0,116.0,126.0,129.0,132.0,118.0,87.0,95.0,86.0,106.0,115.0,106.0,94.0,121.0,113.0,129.0,99.0,116.0,88.0,63.0,62.0,62.0,112.0,113.0,82.0,98.0,87.0,111.0,63.0,105.0,146.0,96.0,80.0,99.0,87.0,88.0,99.0,104.0,104.0,118.0,127.0,109.0,130.0,110.0,88.0,106.0,91.0,103.0,89.0,108.0,124.0,96.0,172.0,124.0,85.0,137.0,91.0,120.0,118.0,110.0,114.0,112.0,92.0,137.0,84.0,52.0,96.0,112.0,90.0,106.0,116.0,97.0,127.0,96.0,45.0,101.0,88.0,75.0,112.0,110.0,120.0,90.0,82.0,118.0,153.0,117.0,93.0,82.0,115.0,151.0,103.0,117.0,100.0,70.0,103.0,108.0,100.0,91.0,93.0,113.0,116.0,121.0,112.0,76.0,81.0,110.0,90.0,97.0,86.0,94.0,83.0,43.0,92.0,93.0,88.0,53.0,156.0,79.0,96.0,99.0,140.0,62.0,88.0,76.0,99.0,97.0,87.0,108.0,94.0,123.0,128.0,132.0,93.0,113.0,96.0,133.0,176.0,115.0,90.0,111.0,87.0,112.0,200.0,93.0,90.0,107.0,89.0,83.0,96.0,99.0,95.0,88.0,94.0,93.0,93.0,92.0,127.0,105.0,94.0,104.0,94.0,82.0,86.0,103.0,97.0,84.0,98.0,68.0,42.0,92.0,89.0,99.0,93.0,162.0,85.0,52.0,91.0,106.0,92.0,140.0,69.0,153.0,124.0,120.0,134.0,105.0,119.0,106.0,79.0,196.0,90.0,109.0,93.0,92.0,49.0,102.0,82.0,74.0,94.0,87.0,108.0,151.0,109.0,91.0,93.0,85.0,103.0,102.0,107.0,88.0,95.0,100.0,91.0,110.0,96.0,96.0,98.0,133.0,102.0,108.0,133.0,58.0,79.0,101.0,81.0,99.0,106.0,103.0,92.0,89.0,150.0,80.0,124.0,99.0,29.0,91.0,102.0,94.0,118.0,70.0,181.0,101.0,29.0,92.0,94.0,118.0,98.0,90.0,93.0,114.0,99.0,96.0,102.0,90.0,49.0,61.0,60.0,104.0,119.0,102.0,83.0,88.0,86.0,90.0,134.0,92.0,145.0,95.0,93.0,84.0,81.0,98.0,74.0,87.0,96.0,88.0,118.0,113.0,86.0,91.0,115.0,112.0,103.0,116.0,72.0,104.0,97.0,92.0,93.0,93.0,99.0,47.0,52.0,97.0,88.0,106.0,97.0,88.0,88.0,132.0,108.0,111.0,167.0,96.0,95.0,107.0,118.0,130.0,90.0,87.0,109.0,103.0,110.0,85.0,163.0,100.0,58.0,110.0,58.0,56.0,161.0,141.0,115.0,90.0,103.0,77.0,111.0,103.0,129.0,113.0,106.0,105.0,137.0,22.0,130.0,89.0,110.0,148.0,100.0,90.0,103.0,75.0,99.0,93.0,90.0,145.0,95.0,92.0,90.0,137.0,98.0,109.0,117.0,93.0,57.0,110.0,95.0,102.0,97.0,82.0,90.0,57.0,91.0,100.0,101.0,138.0,95.0,116.0,117.0,65.0,158.0,110.0,79.0,99.0,86.0,138.0,91.0,79.0,79.0,96.0,55.0,101.0,88.0,95.0,87.0,83.0,90.0,151.0,89.0,99.0,86.0,85.0,93.0,89.0,89.0,90.0,104.0,107.0,124.0,87.0,94.0,86.0,102.0,122.0,126.0,87.0,156.0,97.0,89.0,88.0,96.0,104.0,80.0,95.0,97.0,118.0,118.0,44.0,54.0,170.0,118.0,128.0,106.0,103.0,92.0,102.0,126.0,73.0,111.0,100.0,86.0,95.0,79.0,81.0,120.0,85.0,96.0,91.0,134.0,93.0,82.0,88.0,96.0,97.0,101.0,88.0,84.0,110.0,105.0,116.0,94.0,110.0,116.0,51.0,103.0,83.0,176.0,149.0,79.0,97.0,91.0,85.0,85.0,117.0,84.0,106.0,107.0,98.0,54.0,139.0,88.0,93.0,91.0,89.0,106.0,116.0,100.0,96.0,119.0,108.0,104.0,124.0,87.0,75.0,108.0,103.0,103.0,89.0,103.0,89.0,119.0,106.0,90.0,118.0,95.0,123.0,127.0,116.0,119.0,99.0,90.0,90.0,153.0,106.0,141.0,122.0,87.0,102.0,88.0,99.0,99.0,134.0,91.0,88.0,127.0,137.0,77.0,71.0,130.0,140.0,101.0,101.0,91.0,84.0,88.0,68.0,163.0,93.0,86.0,154.0,92.0,132.0,22.0,132.0,94.0,132.0,105.0,97.0,109.0,134.0,53.0,84.0,102.0,79.0,181.0,90.0,79.0,133.0,125.0,80.0,101.0,135.0,133.0,91.0,52.0,123.0,113.0,107.0,128.0,94.0,95.0,106.0,138.0,139.0,132.0,173.0,105.0,148.0,120.0,85.0,113.0,99.0,41.0,110.0,137.0,118.0,140.0,85.0,116.0,133.0,89.0,75.0,67.0,90.0,170.0,124.0,120.0,157.0,124.0,110.0,90.0,97.0,108.0,95.0,111.0,137.0,100.0,53.0,87.0,106.0,86.0,100.0,103.0,109.0,81.0,98.0,114.0,87.0,132.0,116.0,92.0,99.0,63.0,121.0,56.0,96.0,115.0,117.0,58.0,62.0,65.0,61.0,65.0,65.0,58.0,60.0,81.0,85.0,93.0,126.0,99.0,79.0,26.0,107.0,133.0,95.0,100.0,149.0,52.0,165.0,104.0,114.0,109.0,88.0,143.0,112.0,101.0,110.0,83.0,145.0,87.0,86.0,115.0,93.0,121.0,54.0,100.0,37.0,33.0,35.0,32.0,147.0,110.0,97.0,108.0,101.0,100.0,48.0,44.0,78.0,103.0,58.0,90.0,89.0,83.0,84.0,104.0,99.0,105.0,94.0,150.0,111.0,116.0,92.0,23.0,25.0,85.0,90.0,68.0,67.0,66.0,91.0,87.0,98.0,108.0,85.0,95.0,103.0,118.0,153.0,96.0,88.0,116.0,155.0,88.0,92.0,98.0,103.0,163.0,93.0,77.0,97.0,115.0,103.0,82.0,77.0,79.0,98.0,131.0,110.0,100.0,117.0,107.0,76.0,118.0,93.0,99.0,84.0,102.0,134.0,78.0,95.0,73.0,110.0,75.0,119.0,92.0,137.0,192.0,132.0,91.0,105.0,88.0,155.0,103.0,97.0,92.0,98.0,89.0,112.0,75.0,89.0,99.0,107.0,29.0,94.0,90.0,104.0,55.0,83.0,77.0,72.0,103.0,131.0,138.0,143.0,80.0,132.0,84.0,99.0,93.0,114.0,100.0,132.0,83.0,105.0,112.0,94.0,90.0,48.0,110.0,84.0,118.0,86.0,98.0,88.0,81.0,112.0,106.0,148.0,105.0,92.0,112.0,128.0,128.0,136.0,106.0,129.0,90.0,130.0,85.0,90.0,94.0,86.0,100.0,107.0,93.0,109.0,109.0,92.0,93.0,100.0,141.0,119.0,84.0,96.0,83.0,117.0,93.0,73.0,72.0,46.0,74.0,46.0,46.0,74.0,71.0,72.0,76.0,23.0,60.0,46.0,101.0,97.0,111.0,96.0,135.0,91.0,84.0,121.0,109.0,74.0,94.0,105.0,97.0,102.0,86.0,88.0,90.0,131.0,158.0,85.0,110.0,79.0,185.0,80.0,116.0,95.0,99.0,77.0,91.0,115.0,68.0,72.0,73.0,104.0,90.0,99.0,109.0,108.0,99.0,99.0,88.0,92.0,73.0,85.0,91.0,171.0,80.0,102.0,76.0,92.0,82.0,42.0,131.0,165.0,91.0,101.0,53.0,59.0,108.0,89.0,91.0,84.0,96.0,124.0,87.0,113.0,118.0,97.0,161.0,116.0,104.0,89.0,92.0,90.0,50.0,53.0,113.0,53.0,54.0,53.0,54.0,113.0,53.0,53.0,53.0,54.0,54.0,52.0,54.0,54.0,53.0,53.0,53.0,113.0,53.0,86.0,102.0,114.0,99.0,55.0,91.0,117.0,124.0,122.0,84.0,84.0,120.0,127.0,122.0,125.0,107.0,91.0,103.0,103.0,106.0,102.0,97.0,89.0,92.0,107.0,86.0,70.0,66.0,72.0,111.0,166.0,135.0,92.0,87.0,92.0,89.0,93.0,90.0,76.0,86.0,111.0,124.0,93.0,139.0,91.0,86.0,122.0,96.0,88.0,93.0,90.0,103.0,102.0,105.0,117.0,126.0,89.0,82.0,82.0,98.0,96.0,108.0,91.0,163.0,112.0,137.0,89.0,86.0,187.0,109.0,77.0,84.0,140.0,68.0,117.0,105.0,91.0,104.0,114.0,112.0,48.0,95.0,89.0,108.0,72.0,109.0,105.0,92.0,95.0,108.0,85.0,126.0,118.0,125.0,112.0,96.0,81.0,81.0,92.0,127.0,81.0,133.0,81.0,108.0,120.0,149.0,92.0,96.0,114.0,77.0,90.0,24.0,46.0,24.0,55.0,24.0,23.0,24.0,24.0,106.0,52.0,127.0,86.0,131.0,93.0,97.0,84.0,83.0,165.0,154.0,158.0,89.0,149.0,96.0,106.0,128.0,98.0,99.0,113.0,71.0,83.0,129.0,117.0,93.0,124.0,177.0,104.0,113.0,178.0,90.0,154.0,122.0,115.0,126.0,88.0,99.0,144.0,111.0,73.0,81.0,114.0,112.0,80.0,24.0,100.0,96.0,88.0,95.0,112.0,112.0,97.0,97.0,94.0,97.0,118.0,95.0,120.0,84.0,101.0,103.0,83.0,107.0,136.0,96.0,45.0,92.0,120.0,119.0,100.0,92.0,104.0,93.0,98.0,80.0,79.0,122.0,118.0,89.0,26.0,62.0,137.0,121.0,103.0,92.0,89.0,97.0,134.0,116.0,110.0,88.0,93.0,72.0,141.0,82.0,117.0,118.0,91.0,105.0,94.0,137.0,61.0,86.0,118.0,173.0,152.0,99.0,110.0,116.0,107.0,109.0,65.0,32.0,122.0,228.0,86.0,72.0,102.0,140.0,145.0,126.0,133.0,141.0,78.0,150.0,153.0,83.0,95.0,93.0,126.0,95.0,99.0,93.0,93.0,88.0,88.0,195.0,120.0,77.0,112.0,121.0,117.0,90.0,110.0,86.0,95.0,101.0,111.0,54.0,54.0,54.0,55.0,54.0,55.0,55.0,55.0,55.0,55.0,102.0,106.0,69.0,85.0,146.0,145.0,103.0,111.0,125.0,115.0,168.0,109.0,148.0,92.0,91.0,135.0,71.0,112.0,128.0,168.0,45.0,75.0,71.0,122.0,97.0,89.0,98.0,115.0,96.0,119.0,105.0,88.0,94.0,77.0,143.0,127.0,92.0,87.0,83.0,95.0,96.0,107.0,100.0,49.0,94.0,101.0,89.0,135.0,107.0,84.0,110.0,95.0,66.0,83.0,86.0,137.0,87.0,142.0,94.0,135.0,135.0,104.0,97.0,128.0,109.0,73.0,106.0,94.0,85.0,98.0,96.0,75.0,139.0,117.0,95.0,129.0,94.0,112.0,88.0,100.0,83.0,93.0,103.0,88.0,86.0,88.0,152.0,106.0,52.0,98.0,89.0,86.0,106.0,100.0,91.0,113.0,100.0,132.0,96.0,96.0,113.0,95.0,85.0,106.0,117.0,123.0,78.0,95.0,135.0,130.0,115.0,114.0,107.0,93.0,94.0,85.0,63.0,104.0,127.0,113.0,91.0,154.0,82.0,98.0,103.0,86.0,92.0,123.0,116.0,93.0,97.0,108.0,101.0,177.0,95.0,97.0,111.0,81.0,89.0,72.0,112.0,48.0,81.0,137.0,89.0,87.0,88.0,94.0,125.0,67.0,108.0,102.0,109.0,115.0,98.0,84.0,133.0,121.0,100.0,117.0,78.0,87.0,88.0,93.0,107.0,99.0,140.0,113.0,89.0,97.0,97.0,108.0,80.0,90.0,117.0,95.0,86.0,100.0,87.0,101.0,83.0,89.0,18.0,72.0,95.0,95.0,98.0,59.0,118.0,98.0,111.0,116.0,97.0,95.0,122.0,95.0,93.0,107.0,119.0,119.0,97.0,96.0,103.0,96.0,106.0,109.0,112.0,96.0,60.0,113.0,126.0,109.0,93.0,101.0,111.0,107.0,100.0,92.0,103.0,105.0,103.0,101.0,123.0,114.0,101.0,99.0,102.0,66.0,112.0,101.0,99.0,105.0,93.0,121.0,75.0,95.0,100.0,151.0,78.0,85.0,69.0,84.0,88.0,86.0,121.0,99.0,110.0,104.0,95.0,96.0,106.0,112.0,85.0,107.0,76.0,95.0,88.0,116.0,121.0,82.0,87.0,46.0,103.0,97.0,91.0,91.0,101.0,104.0,92.0,113.0,89.0,115.0,84.0,106.0,124.0,83.0,107.0,158.0,95.0,97.0,97.0,89.0,161.0,205.0,123.0,190.0,136.0,161.0,133.0,119.0,94.0,85.0,108.0,71.0,147.0,88.0,99.0,96.0,97.0,92.0,79.0,53.0,94.0,123.0,103.0,111.0,123.0,100.0,75.0,118.0,96.0,108.0,99.0,103.0,99.0,100.0,105.0,52.0,106.0,90.0,95.0,118.0,98.0,86.0,84.0,93.0,88.0,131.0,44.0,96.0,70.0,88.0,87.0,118.0,89.0,85.0,107.0,138.0,119.0,93.0,87.0,121.0,95.0,103.0,201.0,179.0,87.0,98.0,82.0,85.0,90.0,68.0,138.0,136.0,138.0,129.0,116.0,130.0,40.0,94.0,104.0,91.0,70.0,104.0,115.0,85.0,85.0,138.0,40.0,82.0,90.0,99.0,91.0,106.0,108.0,94.0,87.0,124.0,141.0,93.0,103.0,141.0,155.0,93.0,78.0,118.0,88.0,140.0,124.0,110.0,100.0,96.0,116.0,91.0,111.0,98.0,125.0,76.0,117.0,90.0,119.0,136.0,52.0,81.0,77.0,120.0,102.0,90.0,90.0,92.0,93.0,116.0,107.0,87.0,111.0,101.0,91.0,103.0,120.0,90.0,92.0,99.0,124.0,111.0,32.0,86.0,104.0,123.0,105.0,97.0,97.0,90.0,163.0,121.0,120.0,95.0,84.0,94.0,94.0,122.0,90.0,91.0,89.0,98.0,106.0,139.0,83.0,96.0,94.0,58.0,96.0,107.0,104.0,94.0,108.0,91.0,58.0,99.0,96.0,93.0,106.0,103.0,91.0,98.0,111.0,112.0,90.0,101.0,98.0,92.0,88.0,47.0,100.0,114.0,128.0,53.0,89.0,83.0,85.0,94.0,104.0,89.0,86.0,107.0,77.0,123.0,122.0,131.0,77.0,125.0,125.0,88.0,96.0,93.0,42.0,108.0,151.0,125.0,78.0,97.0,84.0,108.0,89.0,60.0,119.0,87.0,104.0,94.0,94.0,130.0,88.0,118.0,94.0,114.0,119.0,114.0,94.0,82.0,82.0,96.0,100.0,104.0,101.0,99.0,98.0,100.0,134.0,173.0,113.0,91.0,110.0,90.0,128.0,108.0,124.0,89.0,162.0,76.0,96.0,102.0,53.0,86.0,89.0,80.0,95.0,78.0,90.0,125.0,94.0,90.0,104.0,40.0,108.0,94.0,61.0,94.0,105.0,83.0,110.0,121.0,95.0,130.0,132.0,90.0,117.0,130.0,78.0,106.0,110.0,91.0,113.0,101.0,125.0,116.0,106.0,113.0,99.0,130.0,120.0,94.0,94.0,109.0,94.0,96.0,103.0,109.0,147.0,98.0,73.0,92.0,78.0,68.0,96.0,83.0,91.0,93.0,38.0,94.0,91.0,95.0,124.0,73.0,108.0,84.0,93.0,96.0,102.0,130.0,52.0,91.0,110.0,75.0,103.0,89.0,86.0,97.0,89.0,91.0,78.0,90.0,50.0,84.0,82.0,106.0,105.0,105.0,100.0,85.0,86.0,100.0,106.0,108.0,74.0,109.0,97.0,129.0,49.0,93.0,133.0,140.0,45.0,191.0,81.0,124.0,101.0,106.0,137.0,171.0,132.0,147.0,151.0,97.0,90.0,111.0,112.0,107.0,96.0,88.0,78.0,87.0,85.0,157.0,116.0,113.0,94.0,81.0,88.0,98.0,131.0,120.0,96.0,158.0,88.0,88.0,111.0],\"xaxis\":\"x\",\"xbins\":{\"end\":312.0,\"size\":1.0,\"start\":3.0},\"yaxis\":\"y\",\"type\":\"histogram\"},{\"legendgroup\":\"distplot\",\"marker\":{\"color\":\"rgb(31, 119, 180)\"},\"mode\":\"lines\",\"name\":\"distplot\",\"showlegend\":false,\"x\":[3.0,3.618,4.236,4.854,5.4719999999999995,6.09,6.708,7.326,7.944,8.562000000000001,9.18,9.798,10.416,11.034,11.652,12.27,12.888,13.506,14.124,14.742,15.36,15.978,16.596,17.214,17.832,18.45,19.068,19.686,20.304,20.922,21.54,22.158,22.776,23.394,24.012,24.63,25.248,25.866,26.484,27.102,27.72,28.338,28.956,29.574,30.192,30.81,31.428,32.046,32.664,33.282,33.9,34.518,35.136,35.754,36.372,36.99,37.608,38.226,38.844,39.462,40.08,40.698,41.316,41.934,42.552,43.17,43.788,44.406,45.024,45.642,46.26,46.878,47.496,48.114,48.732,49.35,49.968,50.586,51.204,51.822,52.44,53.058,53.676,54.294,54.912,55.53,56.148,56.766,57.384,58.002,58.62,59.238,59.856,60.474,61.092,61.71,62.328,62.946,63.564,64.182,64.8,65.418,66.036,66.654,67.272,67.89,68.508,69.126,69.744,70.362,70.98,71.598,72.216,72.834,73.452,74.07,74.688,75.306,75.924,76.542,77.16,77.778,78.396,79.014,79.632,80.25,80.868,81.486,82.104,82.722,83.34,83.958,84.576,85.194,85.812,86.43,87.048,87.666,88.284,88.902,89.52,90.138,90.756,91.374,91.992,92.61,93.228,93.846,94.464,95.082,95.7,96.318,96.936,97.554,98.172,98.79,99.408,100.026,100.644,101.262,101.88,102.498,103.116,103.734,104.352,104.97,105.588,106.206,106.824,107.442,108.06,108.678,109.296,109.914,110.532,111.15,111.768,112.386,113.004,113.622,114.24,114.858,115.476,116.094,116.712,117.33,117.948,118.566,119.184,119.802,120.42,121.038,121.656,122.274,122.892,123.51,124.128,124.746,125.364,125.982,126.6,127.218,127.836,128.454,129.072,129.69,130.308,130.926,131.544,132.162,132.78,133.398,134.016,134.634,135.252,135.87,136.488,137.106,137.724,138.342,138.96,139.578,140.196,140.814,141.432,142.05,142.668,143.286,143.904,144.522,145.14,145.758,146.376,146.994,147.612,148.23,148.848,149.466,150.084,150.702,151.32,151.938,152.556,153.174,153.792,154.41,155.028,155.646,156.264,156.882,157.5,158.118,158.736,159.354,159.972,160.59,161.208,161.826,162.444,163.062,163.68,164.298,164.916,165.534,166.152,166.77,167.388,168.006,168.624,169.242,169.86,170.478,171.096,171.714,172.332,172.95,173.568,174.186,174.804,175.422,176.04,176.658,177.276,177.894,178.512,179.13,179.748,180.366,180.984,181.602,182.22,182.838,183.456,184.074,184.692,185.31,185.928,186.546,187.164,187.782,188.4,189.018,189.636,190.254,190.872,191.49,192.108,192.726,193.344,193.962,194.58,195.198,195.816,196.434,197.052,197.67,198.288,198.906,199.524,200.142,200.76,201.378,201.996,202.614,203.232,203.85,204.468,205.086,205.704,206.322,206.94,207.558,208.176,208.794,209.412,210.03,210.648,211.266,211.884,212.502,213.12,213.738,214.356,214.974,215.592,216.21,216.828,217.446,218.064,218.682,219.3,219.918,220.536,221.154,221.772,222.39,223.008,223.626,224.244,224.862,225.48,226.098,226.716,227.334,227.952,228.57,229.188,229.806,230.424,231.042,231.66,232.278,232.896,233.514,234.132,234.75,235.368,235.986,236.604,237.222,237.84,238.458,239.076,239.694,240.312,240.93,241.548,242.166,242.784,243.402,244.02,244.638,245.256,245.874,246.492,247.11,247.728,248.346,248.964,249.582,250.2,250.818,251.436,252.054,252.672,253.29,253.908,254.526,255.144,255.762,256.38,256.998,257.616,258.23400000000004,258.852,259.47,260.088,260.706,261.324,261.942,262.56,263.178,263.796,264.414,265.032,265.65,266.268,266.886,267.504,268.122,268.74,269.358,269.976,270.594,271.212,271.83,272.448,273.066,273.684,274.302,274.92,275.538,276.156,276.774,277.392,278.01,278.628,279.246,279.864,280.482,281.1,281.718,282.336,282.954,283.572,284.19,284.808,285.426,286.044,286.662,287.28,287.898,288.516,289.134,289.752,290.37,290.988,291.606,292.224,292.842,293.46,294.078,294.696,295.314,295.932,296.55,297.168,297.786,298.404,299.022,299.64,300.258,300.876,301.494,302.112,302.73,303.348,303.966,304.584,305.202,305.82,306.438,307.056,307.674,308.292,308.91,309.528,310.146,310.764,311.382],\"xaxis\":\"x\",\"y\":[0.00007125863945455439,0.00008188036114661196,0.00009360341257100292,0.00010646505135417473,0.00012048810138993981,0.00013568029525515732,0.00015203603207924817,0.00016954117772313067,0.0001881812441421791,0.000207952850641943,0.0002288778218114366,0.0002510186713769588,0.00027449363684337307,0.00029948896068645215,0.00032626585813281145,0.00035515965689605753,0.00038656900199507394,0.0004209338088657565,0.0004587017870899212,0.0005002847530862171,0.000546007454941467,0.0005960530547888443,0.0006504105413704248,0.0007088299743538147,0.0007707914322666657,0.000835492762419335,0.0009018597283033951,0.000968580042324976,0.001034160287230919,0.0010970021734851298,0.0011554922927264682,0.0012080978329608678,0.0012534598726902137,0.0012904760072519556,0.0013183651780606306,0.0013367095263402298,0.001345470606945553,0.001344980025865277,0.0013359071363391816,0.0013192085109608098,0.00129606525813604,0.0012678147514633045,0.0012358830040986098,0.00120172288127494,0.0011667618248086303,0.0011323610291900522,0.0010997863225883206,0.0010701895881879229,0.0010445985625962754,0.0010239123385840845,0.0010088998717641521,0.0010001991751879896,0.00099831557119249,0.0010036182258941948,0.0010163350877484326,0.0010365471694569776,0.0010641837541664298,0.0010990204975588331,0.0011406824870057485,0.0011886540839265683,0.0012422968224185163,0.001300875807323128,0.0013635940276667505,0.0014296328942538109,0.001498196270934628,0.0015685544598021094,0.0016400841732962634,0.0017123005937591512,0.0017848782291062454,0.0018576583808116369,0.001930642514370015,0.0020039724519115127,0.0020778998356064345,0.002152748484223326,0.002228873881926426,0.0023066239941129207,0.0023863049206596237,0.0024681537194941286,0.0025523193097124024,0.002638850989734828,0.0027276930643437927,0.0028186835703740013,0.0029115552063023256,0.0030059372445920968,0.0031013582452113853,0.0031972505139704517,0.0032929581551786003,0.003387750994310387,0.0034808464372322674,0.0035714404735996638,0.0036587476554176845,0.003742048239592353,0.003820739095601054,0.0038943837684900237,0.003962756512925255,0.004025875322336948,0.004084019974515933,0.004137732768362806,0.0041878016905845805,0.004235227914236528,0.004281181469721389,0.004326950361389051,0.004373889131504205,0.004423372810136595,0.004476761362802706,0.004535378290348659,0.004600505159187861,0.00467339180000378,0.004755279970897605,0.004847436669028293,0.004951192167746209,0.005067977352521728,0.0051993550434957,0.0053470406606879696,0.00551290868024414,0.005698982674517151,0.005907408138125506,0.006140408602678675,0.006400226599865624,0.006689051768861314,0.007008938808705098,0.007361718101921995,0.007748901783776137,0.00817158792916659,0.008630365500035802,0.00912522283208295,0.009655462777475338,0.01021962812970768,0.010815441540784844,0.01143976465078693,0.012088581411249076,0.012757010429809007,0.013439350468474059,0.014129161935088518,0.014819385346529849,0.015502495430820284,0.016170686967936714,0.01681608589115728,0.01743097684618006,0.018008036580983995,0.018540561414004966,0.019022676728939657,0.01944951701593463,0.01981736638380438,0.020123751598350507,0.020367482397294405,0.020548636900167783,0.02066849316575308,0.02072941114548532,0.020734672243580037,0.020688286242965374,0.0205947773265422,0.02045896217305391,0.02028573352113049,0.020079862100008002,0.019845828402946932,0.019587693483121435,0.01930901491715662,0.01901281052675527,0.01870156866294063,0.01837730017454882,0.01804162394573728,0.017695875406813506,0.01734122593588029,0.01697880070907123,0.016609783337347087,0.01623549744105133,0.015857457950470118,0.015477388100050095,0.015097201488495185,0.014718951890742633,0.014344756446625006,0.013976700184445176,0.013616731400660406,0.013266558112489522,0.01292755559819682,0.012600693971463333,0.012286492891785376,0.011985008037944105,0.01169585106496571,0.011418241671768742,0.011151087405872135,0.010893084214961775,0.010642828797886429,0.010398932733667193,0.010160128314450007,0.009925357002024527,0.009693833366251446,0.009465080024903868,0.009238932169635172,0.009015513360055504,0.008795187024740069,0.008578490205949953,0.008366057305621441,0.008158541845343972,0.007956543591629246,0.007760546991393303,0.007570874970841229,0.0073876600748180535,0.007210832955183837,0.0070401265945547725,0.006875093529935574,0.006715132775088092,0.006559523093118605,0.006407459630084464,0.006258091531247286,0.006110558858357365,0.005964027763228832,0.005817723345627988,0.005670959880582575,0.0055231681424355835,0.005373919424455994,0.005222945625825121,0.005070154535818586,0.004915639266920926,0.004759680736853037,0.0046027422127094,0.004445455220875851,0.0042885965811759585,0.004133056908276698,0.0039798015865795166,0.0038298259041657113,0.003684106658465205,0.0035435530523003447,0.003408960020064405,0.0032809672073942473,0.0031600266385048447,0.0030463816314957324,0.0029400587798090326,0.002840873854942914,0.0027484513788066166,0.002662256465828812,0.0025816364620634843,0.0025058690292647685,0.002434212739780634,0.0023659560366294428,0.0023004606035170764,0.00223719576451457,0.0021757614280123096,0.0021158982014008055,0.0020574845056111294,0.002000521681690553,0.001945109088594885,0.001891411954677474,0.0018396252142299596,0.001789936721848637,0.0017424931101750968,0.001697371181284265,0.0016545571500350387,0.0016139353423262907,0.001575287142912669,0.0015383001339229296,0.0015025865147143295,0.0014677090991969826,0.0014332125083048417,0.001398656677955184,0.0013636495496402285,0.0013278758513781586,0.0012911192344598297,0.0012532756922566943,0.0012143570943353712,0.0011744847246284264,0.001133873789115831,0.0010928108175713859,0.0010516265973787306,0.0010106676497974333,0.0009702692445237864,0.000930732559148048,0.0008923078944843983,0.0008551849671897154,0.0008194903544575317,0.0007852912996589414,0.0007526044185836769,0.0007214074498995785,0.000691652097986791,0.0006632761994888053,0.0006362138440204121,0.00061040260585062,0.0005857876004079748,0.0005623225797177784,0.0005399686594876893,0.0005186914925494481,0.0004984577645663611,0.00047923181008641754,0.0004609729691520294,0.00044363407286240777,0.0004271612044504567,0.0004114946656639996,0.0003965709094800959,0.00038232509022396023,0.00036869383199706024,0.0003556178205604616,0.0003430438739774808,0.00033092623395778587,0.00031922693331888657,0.0003079152249844825,0.00029696619253999845,0.0002863587873615796,0.00027607363663163976,0.0002660910238792908,0.0002563894454572758,0.00024694508508529996,0.00023773242580144466,0.00022872604658764586,0.00021990345203125314,0.00021124858764437886,0.00020275553374945885,0.0001944317770980512,0.0001863004528721779,0.00017840103843245886,0.00017078815656493615,0.0001635283873741221,0.00015669525987148974,0.00015036285590010103,0.00014459866997303223,0.00013945649582464993,0.00013497013379631595,0.00013114862866577345,0.00012797356804970962,0.00012539872440688106,0.0001233520460197269,0.00012173973465828288,0.00012045192723398012,0.00011936935384777194,0.00011837029029294607,0.00011733715958555754,0.0001161622509777185,0.00011475219214815462,0.00011303100111999709,0.00011094172882241474,0.00010844685553642188,0.00010552770736963775,0.00010218320500835999,0.00009842824879830859,0.00009429199230918542,0.00008981617674392102,0.00008505360852350051,0.00008006677852093937,0.00007492655650140954,0.00006971085609587271,0.00006450315647601336,0.000059390784370563826,0.000054462898059774564,0.00004980816518917712,0.00004551217963232435,0.00004165471082142113,0.00003830691528099149,0.000035528660303729225,0.00003336611234086747,0.00003184972901878947,0.00003099276732225071,0.00003079038652144129,0.000031219388503370324,0.000032238605347015616,0.000033789917719590464,0.000035799869175158835,0.00003818182949282683,0.00004083865159175405,0.00004366575707217941,0.000046554571121245,0.000049396206118739345,0.000052085265224832304,0.00005452360610765671,0.000056623877086196406,0.000058312621161652,0.00005953274525683063,0.00006024517779640905,0.00006042958892952076,0.00006008412075004998,0.0000592241615982049,0.00005788028719255573,0.000056095568779263635,0.00005392250263815612,0.000051419837620774855,0.00004864956464788637,0.000045674286938846513,0.000042555120253277444,0.00003935019042672293,0.00003611371421861996,0.00003289558108743059,0.000029741306807624115,0.00002669220905552861,0.000023785659483272205,0.00002105529142430408,0.000018531079583478316,0.0000162392494162938,0.000014202011986147498,0.00001243714988246199,0.00001095749926590882,9.77038307513344e-6,8.877053634043416e-6,8.272202796033858e-6,7.943597224456284e-6,7.871896745446543e-6,8.0307142356998e-6,8.386973771410653e-6,8.901616350349319e-6,9.530686199307918e-6,0.000010226803717038504,0.000010940994079994203,0.000011624796839183923,0.000012232537347341294,0.000012723603017844961,0.000013064543798604946,0.000013230812934510524,0.000013207984277207239,0.000012992325452891443,0.000012590667499802447,0.000012019583153763381,0.000011303957753944414,0.000010475098402882294,9.568569671797352e-6,8.621961927130602e-6,7.67278934943856e-6,6.756681166108511e-6,5.905977413388654e-6,5.148778108238276e-6,4.508431564255734e-6,4.003392826173066e-6,3.647344183855141e-6,3.4494511392886664e-6,3.414630561919288e-6,3.5437314343214337e-6,3.8335681380489046e-6,4.2767951461006794e-6,4.8616625583078265e-6,5.571736208126104e-6,6.385696942556637e-6,7.277345721962739e-6,8.215931516016561e-6,9.166887756079298e-6,0.000010093013747591044,0.00001095607632103215,0.000011718742704535156,0.000012346697786833201,0.000012810756852104753,0.000013088765827920088,0.00001316708917717097,0.000013041520799632647,0.000012717511476374718,0.000012209679635915337,0.00001154065029731866,0.000010739339004639878,9.838853576721845e-6,8.87421942876728e-6,7.880140718744566e-6,6.888990396273015e-6,5.9291818801424526e-6,5.024020777810972e-6,4.191075320736336e-6,3.4420473890427363e-6,2.7830790413912002e-6,2.2153969091273003e-6,1.7361805049683175e-6,1.3395397156942913e-6,1.0174987555109852e-6,7.609046759539998e-7,5.602037858045518e-7,4.060549937907032e-7,2.897719716010504e-7,2.0360409705810594e-7,1.4087848279061836e-7,9.603212028308751e-8,6.456508267544284e-8,4.2944042861182544e-8,2.8481399482372284e-8,1.9210274179804226e-8,1.3770506443206846e-8,1.1316165854916885e-8,1.1451342170970212e-8,1.419809709256917e-8,1.9998285846000023e-8,2.9749155470228084e-8,4.487080378116395e-8,6.740134604368176e-8,1.0011267095798565e-7,1.4663581157054902e-7,2.1158027296902112e-7,3.006264968407213e-7,4.205656765396078e-7,5.792573542562949e-7,7.854738661981248e-7,1.0486030755256153e-6,1.3781881286005903e-6,1.7832959362603756e-6,2.2717247200565167e-6,2.849084260730797e-6,3.517808268427976e-6,4.276183274624292e-6,5.117498520767991e-6,6.02943211642151e-6,6.99378637190357e-6,7.986667112654966e-6,8.979167481618633e-6,9.938568361186759e-6,0.000010830009923061618,0.000011618529042887902,0.000012271303839828978,0.000012759907882968959,0.000013062359642621812],\"yaxis\":\"y\",\"type\":\"scatter\"},{\"legendgroup\":\"distplot\",\"marker\":{\"color\":\"rgb(31, 119, 180)\",\"symbol\":\"line-ns-open\"},\"mode\":\"markers\",\"name\":\"distplot\",\"showlegend\":false,\"x\":[90.0,91.0,125.0,104.0,127.0,91.0,67.0,94.0,161.0,61.0,166.0,147.0,103.0,97.0,106.0,111.0,110.0,105.0,96.0,124.0,116.0,98.0,91.0,23.0,115.0,122.0,99.0,99.0,88.0,100.0,102.0,93.0,96.0,95.0,85.0,97.0,95.0,83.0,103.0,113.0,13.0,182.0,106.0,48.0,145.0,145.0,93.0,106.0,147.0,87.0,96.0,95.0,92.0,91.0,90.0,97.0,80.0,117.0,128.0,90.0,119.0,110.0,143.0,119.0,114.0,94.0,106.0,99.0,118.0,115.0,95.0,115.0,108.0,63.0,117.0,121.0,142.0,113.0,154.0,95.0,108.0,120.0,100.0,82.0,124.0,114.0,104.0,94.0,94.0,93.0,97.0,109.0,88.0,101.0,105.0,102.0,101.0,103.0,106.0,118.0,86.0,121.0,229.0,76.0,95.0,98.0,89.0,120.0,110.0,83.0,121.0,105.0,94.0,156.0,112.0,95.0,107.0,114.0,129.0,86.0,97.0,125.0,107.0,127.0,128.0,92.0,135.0,124.0,136.0,165.0,124.0,136.0,150.0,112.0,119.0,133.0,142.0,93.0,113.0,124.0,116.0,106.0,145.0,93.0,95.0,108.0,90.0,86.0,92.0,82.0,70.0,122.0,122.0,122.0,122.0,84.0,96.0,115.0,110.0,88.0,102.0,91.0,105.0,135.0,86.0,140.0,133.0,92.0,82.0,97.0,78.0,94.0,121.0,97.0,110.0,64.0,59.0,101.0,127.0,90.0,114.0,108.0,70.0,98.0,86.0,139.0,111.0,115.0,102.0,100.0,135.0,69.0,95.0,97.0,124.0,118.0,115.0,115.0,104.0,106.0,102.0,97.0,87.0,88.0,114.0,90.0,142.0,90.0,105.0,103.0,116.0,113.0,99.0,96.0,148.0,189.0,97.0,102.0,99.0,85.0,112.0,91.0,91.0,141.0,130.0,98.0,105.0,101.0,105.0,118.0,97.0,102.0,114.0,111.0,125.0,76.0,118.0,103.0,114.0,95.0,138.0,112.0,94.0,102.0,92.0,81.0,143.0,86.0,132.0,117.0,165.0,91.0,97.0,97.0,123.0,94.0,111.0,85.0,65.0,64.0,68.0,67.0,66.0,64.0,64.0,65.0,64.0,68.0,68.0,64.0,62.0,63.0,69.0,70.0,63.0,68.0,74.0,68.0,99.0,90.0,87.0,105.0,106.0,102.0,91.0,88.0,107.0,101.0,114.0,123.0,94.0,105.0,117.0,115.0,124.0,131.0,122.0,113.0,91.0,100.0,93.0,90.0,86.0,100.0,96.0,95.0,115.0,100.0,102.0,87.0,39.0,110.0,93.0,96.0,93.0,93.0,111.0,105.0,101.0,102.0,46.0,89.0,94.0,104.0,97.0,91.0,106.0,38.0,90.0,87.0,138.0,105.0,104.0,85.0,92.0,108.0,95.0,105.0,116.0,124.0,101.0,95.0,128.0,143.0,107.0,136.0,94.0,136.0,126.0,116.0,100.0,115.0,125.0,39.0,94.0,90.0,95.0,155.0,98.0,108.0,96.0,117.0,118.0,103.0,94.0,93.0,115.0,120.0,145.0,126.0,96.0,101.0,118.0,109.0,89.0,106.0,101.0,101.0,123.0,106.0,89.0,128.0,85.0,89.0,108.0,105.0,133.0,129.0,127.0,113.0,112.0,130.0,100.0,103.0,85.0,124.0,103.0,121.0,89.0,92.0,112.0,114.0,116.0,110.0,98.0,98.0,100.0,90.0,92.0,82.0,97.0,90.0,76.0,83.0,101.0,109.0,97.0,87.0,94.0,89.0,88.0,108.0,96.0,84.0,70.0,125.0,119.0,105.0,133.0,140.0,120.0,135.0,111.0,159.0,119.0,139.0,137.0,101.0,13.0,12.0,101.0,96.0,122.0,95.0,89.0,98.0,119.0,138.0,104.0,273.0,101.0,99.0,84.0,82.0,97.0,89.0,36.0,34.0,36.0,113.0,110.0,36.0,102.0,86.0,91.0,117.0,99.0,77.0,97.0,106.0,97.0,104.0,110.0,61.0,98.0,74.0,60.0,60.0,103.0,94.0,112.0,49.0,111.0,58.0,72.0,78.0,101.0,110.0,94.0,70.0,118.0,99.0,103.0,95.0,93.0,101.0,101.0,89.0,109.0,104.0,90.0,109.0,145.0,88.0,132.0,109.0,133.0,85.0,104.0,99.0,93.0,204.0,212.0,98.0,101.0,94.0,25.0,99.0,108.0,106.0,128.0,104.0,127.0,136.0,97.0,88.0,97.0,97.0,88.0,103.0,97.0,88.0,97.0,118.0,70.0,91.0,92.0,120.0,73.0,110.0,94.0,61.0,131.0,131.0,131.0,148.0,29.0,107.0,99.0,92.0,91.0,47.0,88.0,116.0,109.0,92.0,87.0,101.0,140.0,89.0,81.0,116.0,99.0,107.0,107.0,90.0,104.0,100.0,32.0,102.0,105.0,107.0,64.0,99.0,102.0,126.0,119.0,86.0,122.0,95.0,104.0,118.0,85.0,98.0,99.0,35.0,107.0,97.0,112.0,118.0,109.0,109.0,88.0,97.0,97.0,99.0,95.0,91.0,115.0,93.0,109.0,96.0,78.0,87.0,76.0,76.0,71.0,138.0,113.0,94.0,89.0,121.0,127.0,94.0,89.0,136.0,89.0,99.0,93.0,85.0,102.0,101.0,113.0,128.0,114.0,85.0,121.0,95.0,121.0,116.0,91.0,149.0,113.0,33.0,127.0,101.0,102.0,102.0,107.0,123.0,98.0,95.0,101.0,104.0,104.0,103.0,111.0,102.0,15.0,54.0,120.0,106.0,116.0,58.0,116.0,126.0,86.0,97.0,76.0,80.0,81.0,84.0,87.0,91.0,76.0,132.0,126.0,101.0,102.0,147.0,224.0,141.0,109.0,162.0,142.0,93.0,60.0,119.0,37.0,96.0,116.0,102.0,123.0,102.0,127.0,88.0,106.0,65.0,96.0,88.0,143.0,137.0,75.0,71.0,103.0,130.0,145.0,84.0,84.0,77.0,86.0,79.0,80.0,81.0,78.0,118.0,102.0,132.0,108.0,133.0,107.0,32.0,78.0,55.0,92.0,86.0,140.0,143.0,88.0,89.0,93.0,97.0,94.0,112.0,100.0,120.0,91.0,98.0,113.0,98.0,91.0,158.0,164.0,133.0,75.0,103.0,90.0,116.0,96.0,121.0,101.0,173.0,89.0,182.0,181.0,185.0,99.0,88.0,107.0,114.0,96.0,149.0,102.0,83.0,98.0,83.0,104.0,111.0,98.0,93.0,73.0,141.0,116.0,21.0,98.0,87.0,87.0,95.0,87.0,93.0,97.0,114.0,100.0,105.0,90.0,60.0,98.0,108.0,90.0,102.0,84.0,120.0,106.0,115.0,98.0,60.0,113.0,101.0,24.0,51.0,80.0,100.0,139.0,74.0,131.0,131.0,118.0,87.0,101.0,97.0,92.0,136.0,97.0,103.0,110.0,105.0,90.0,107.0,92.0,94.0,99.0,97.0,151.0,108.0,113.0,81.0,116.0,119.0,116.0,112.0,121.0,115.0,182.0,98.0,96.0,42.0,181.0,100.0,22.0,134.0,177.0,94.0,88.0,119.0,107.0,112.0,35.0,103.0,90.0,120.0,97.0,102.0,106.0,119.0,84.0,58.0,90.0,109.0,143.0,112.0,134.0,123.0,36.0,123.0,58.0,118.0,91.0,76.0,97.0,85.0,92.0,139.0,162.0,92.0,86.0,107.0,85.0,83.0,104.0,116.0,87.0,91.0,119.0,102.0,86.0,102.0,98.0,99.0,108.0,114.0,104.0,88.0,104.0,123.0,106.0,138.0,113.0,107.0,133.0,97.0,116.0,123.0,89.0,93.0,139.0,112.0,101.0,113.0,89.0,107.0,123.0,113.0,90.0,52.0,127.0,95.0,121.0,108.0,102.0,95.0,133.0,127.0,95.0,101.0,123.0,89.0,100.0,108.0,94.0,103.0,105.0,116.0,92.0,65.0,115.0,96.0,32.0,102.0,102.0,101.0,71.0,81.0,98.0,90.0,112.0,161.0,129.0,85.0,14.0,148.0,99.0,97.0,101.0,89.0,128.0,76.0,99.0,126.0,106.0,101.0,87.0,111.0,90.0,91.0,101.0,96.0,96.0,148.0,96.0,98.0,104.0,53.0,54.0,113.0,102.0,118.0,83.0,77.0,116.0,116.0,106.0,105.0,8.0,110.0,71.0,91.0,46.0,109.0,102.0,101.0,94.0,110.0,117.0,85.0,119.0,115.0,105.0,68.0,57.0,28.0,98.0,95.0,96.0,66.0,112.0,84.0,94.0,32.0,98.0,85.0,120.0,83.0,94.0,102.0,111.0,90.0,111.0,110.0,87.0,132.0,117.0,50.0,106.0,125.0,107.0,59.0,28.0,9.0,91.0,132.0,133.0,109.0,107.0,111.0,108.0,105.0,119.0,104.0,83.0,90.0,79.0,24.0,115.0,97.0,26.0,46.0,106.0,113.0,133.0,93.0,108.0,96.0,25.0,101.0,106.0,54.0,118.0,58.0,117.0,48.0,139.0,115.0,109.0,91.0,60.0,102.0,120.0,149.0,91.0,99.0,106.0,108.0,45.0,93.0,22.0,81.0,98.0,100.0,112.0,114.0,68.0,103.0,121.0,95.0,87.0,115.0,171.0,171.0,46.0,117.0,84.0,98.0,83.0,97.0,99.0,108.0,93.0,42.0,13.0,64.0,162.0,130.0,108.0,129.0,105.0,133.0,142.0,128.0,97.0,107.0,135.0,84.0,70.0,124.0,102.0,84.0,95.0,84.0,120.0,87.0,75.0,124.0,92.0,95.0,107.0,123.0,85.0,150.0,97.0,88.0,74.0,93.0,151.0,82.0,148.0,95.0,90.0,103.0,87.0,102.0,96.0,87.0,86.0,136.0,60.0,127.0,96.0,15.0,100.0,87.0,28.0,27.0,90.0,102.0,94.0,81.0,134.0,114.0,107.0,107.0,130.0,87.0,93.0,114.0,91.0,116.0,93.0,106.0,105.0,50.0,93.0,103.0,114.0,95.0,50.0,150.0,100.0,117.0,87.0,100.0,86.0,102.0,87.0,103.0,112.0,120.0,111.0,78.0,51.0,123.0,46.0,102.0,106.0,112.0,101.0,96.0,103.0,94.0,69.0,81.0,76.0,108.0,94.0,106.0,98.0,93.0,99.0,93.0,82.0,107.0,104.0,130.0,83.0,99.0,77.0,94.0,118.0,87.0,42.0,101.0,80.0,110.0,117.0,47.0,165.0,134.0,140.0,150.0,156.0,86.0,126.0,100.0,25.0,124.0,100.0,106.0,104.0,96.0,90.0,33.0,81.0,84.0,44.0,115.0,94.0,22.0,107.0,115.0,93.0,107.0,86.0,112.0,102.0,91.0,83.0,73.0,139.0,95.0,101.0,75.0,87.0,91.0,120.0,123.0,95.0,84.0,29.0,28.0,122.0,28.0,98.0,59.0,80.0,103.0,104.0,146.0,135.0,129.0,115.0,143.0,173.0,129.0,149.0,98.0,115.0,44.0,127.0,124.0,85.0,20.0,102.0,129.0,124.0,118.0,111.0,125.0,94.0,130.0,117.0,137.0,139.0,111.0,103.0,120.0,98.0,130.0,96.0,61.0,137.0,90.0,69.0,139.0,94.0,92.0,80.0,63.0,88.0,105.0,93.0,140.0,103.0,102.0,93.0,69.0,133.0,157.0,116.0,112.0,96.0,127.0,130.0,93.0,138.0,138.0,92.0,110.0,102.0,113.0,96.0,108.0,94.0,99.0,86.0,98.0,111.0,97.0,135.0,93.0,94.0,117.0,63.0,73.0,91.0,93.0,101.0,93.0,96.0,112.0,72.0,112.0,72.0,92.0,109.0,155.0,109.0,115.0,97.0,103.0,24.0,110.0,97.0,94.0,107.0,97.0,103.0,88.0,111.0,94.0,33.0,107.0,110.0,98.0,81.0,104.0,17.0,121.0,100.0,70.0,97.0,75.0,102.0,88.0,158.0,102.0,203.0,59.0,92.0,104.0,72.0,113.0,93.0,119.0,105.0,113.0,93.0,44.0,110.0,113.0,90.0,82.0,69.0,46.0,94.0,72.0,95.0,101.0,21.0,71.0,64.0,92.0,80.0,104.0,25.0,111.0,72.0,99.0,83.0,150.0,108.0,44.0,102.0,137.0,112.0,102.0,103.0,136.0,41.0,88.0,84.0,114.0,110.0,103.0,106.0,46.0,115.0,140.0,124.0,133.0,91.0,30.0,67.0,105.0,58.0,87.0,100.0,95.0,90.0,102.0,98.0,68.0,104.0,89.0,62.0,86.0,104.0,101.0,17.0,126.0,120.0,89.0,96.0,91.0,86.0,67.0,89.0,65.0,151.0,116.0,110.0,123.0,139.0,95.0,121.0,127.0,162.0,128.0,112.0,125.0,128.0,120.0,86.0,107.0,129.0,135.0,97.0,125.0,162.0,136.0,138.0,126.0,137.0,114.0,96.0,107.0,89.0,94.0,148.0,82.0,95.0,120.0,115.0,107.0,105.0,134.0,128.0,103.0,96.0,114.0,102.0,52.0,86.0,104.0,76.0,135.0,99.0,124.0,117.0,107.0,111.0,116.0,135.0,126.0,164.0,166.0,104.0,94.0,92.0,52.0,112.0,90.0,101.0,84.0,112.0,136.0,108.0,110.0,93.0,90.0,130.0,128.0,104.0,131.0,109.0,129.0,73.0,104.0,48.0,114.0,86.0,194.0,76.0,116.0,130.0,85.0,108.0,81.0,76.0,92.0,85.0,85.0,108.0,120.0,117.0,100.0,101.0,156.0,55.0,96.0,104.0,101.0,113.0,126.0,98.0,114.0,132.0,92.0,90.0,86.0,103.0,114.0,115.0,149.0,96.0,102.0,105.0,114.0,94.0,83.0,106.0,116.0,109.0,97.0,100.0,116.0,111.0,24.0,95.0,135.0,95.0,92.0,100.0,80.0,98.0,104.0,98.0,104.0,99.0,68.0,106.0,71.0,80.0,116.0,112.0,73.0,110.0,135.0,128.0,93.0,149.0,54.0,87.0,102.0,177.0,204.0,233.0,98.0,237.0,230.0,173.0,195.0,253.0,157.0,97.0,85.0,94.0,80.0,94.0,92.0,105.0,120.0,96.0,107.0,93.0,101.0,110.0,112.0,93.0,109.0,105.0,97.0,91.0,88.0,109.0,118.0,109.0,131.0,91.0,152.0,67.0,72.0,83.0,90.0,106.0,190.0,129.0,160.0,86.0,92.0,114.0,90.0,94.0,86.0,89.0,107.0,61.0,93.0,81.0,120.0,94.0,91.0,104.0,76.0,90.0,103.0,122.0,97.0,98.0,42.0,90.0,91.0,94.0,107.0,143.0,105.0,116.0,23.0,23.0,23.0,105.0,97.0,105.0,83.0,109.0,111.0,97.0,132.0,102.0,107.0,100.0,115.0,104.0,110.0,100.0,111.0,108.0,104.0,116.0,106.0,96.0,140.0,107.0,138.0,132.0,208.0,105.0,101.0,124.0,93.0,110.0,115.0,107.0,72.0,107.0,95.0,180.0,135.0,87.0,94.0,105.0,93.0,92.0,144.0,101.0,81.0,95.0,119.0,121.0,88.0,106.0,119.0,63.0,82.0,95.0,93.0,120.0,147.0,55.0,107.0,92.0,85.0,98.0,92.0,101.0,112.0,103.0,91.0,96.0,104.0,66.0,83.0,111.0,90.0,121.0,121.0,88.0,57.0,107.0,5.0,91.0,174.0,155.0,87.0,77.0,142.0,170.0,165.0,161.0,144.0,149.0,135.0,131.0,126.0,192.0,209.0,187.0,138.0,185.0,143.0,97.0,172.0,103.0,83.0,107.0,114.0,93.0,85.0,85.0,131.0,101.0,107.0,84.0,104.0,160.0,103.0,46.0,112.0,83.0,72.0,24.0,104.0,72.0,113.0,21.0,100.0,108.0,99.0,104.0,70.0,93.0,95.0,109.0,91.0,75.0,100.0,95.0,113.0,91.0,62.0,93.0,135.0,23.0,23.0,23.0,101.0,98.0,103.0,106.0,95.0,132.0,82.0,71.0,16.0,104.0,79.0,120.0,82.0,115.0,111.0,110.0,121.0,162.0,108.0,186.0,116.0,154.0,105.0,71.0,61.0,133.0,98.0,119.0,61.0,130.0,11.0,87.0,127.0,87.0,88.0,158.0,82.0,93.0,90.0,109.0,72.0,162.0,98.0,103.0,97.0,94.0,101.0,138.0,109.0,50.0,110.0,92.0,120.0,101.0,116.0,117.0,95.0,93.0,122.0,102.0,96.0,93.0,93.0,72.0,87.0,95.0,33.0,113.0,118.0,171.0,100.0,103.0,86.0,102.0,81.0,101.0,73.0,96.0,106.0,88.0,103.0,139.0,89.0,104.0,124.0,112.0,70.0,106.0,97.0,106.0,60.0,148.0,122.0,86.0,193.0,92.0,94.0,82.0,59.0,89.0,176.0,116.0,86.0,93.0,85.0,62.0,112.0,121.0,133.0,76.0,82.0,156.0,90.0,97.0,51.0,98.0,61.0,116.0,132.0,17.0,91.0,121.0,78.0,95.0,86.0,132.0,107.0,122.0,95.0,108.0,99.0,103.0,66.0,132.0,56.0,128.0,119.0,97.0,92.0,102.0,90.0,129.0,106.0,105.0,78.0,79.0,78.0,145.0,71.0,83.0,81.0,119.0,98.0,102.0,88.0,97.0,110.0,85.0,90.0,89.0,120.0,102.0,73.0,103.0,79.0,97.0,91.0,96.0,103.0,95.0,83.0,117.0,70.0,90.0,86.0,86.0,113.0,82.0,141.0,107.0,126.0,25.0,63.0,136.0,120.0,134.0,185.0,174.0,169.0,148.0,135.0,135.0,89.0,119.0,98.0,135.0,185.0,156.0,104.0,139.0,140.0,154.0,129.0,99.0,100.0,110.0,107.0,95.0,89.0,65.0,143.0,101.0,60.0,29.0,92.0,172.0,97.0,108.0,107.0,137.0,106.0,115.0,46.0,92.0,93.0,85.0,24.0,56.0,86.0,127.0,93.0,94.0,120.0,108.0,135.0,111.0,134.0,137.0,103.0,133.0,95.0,126.0,67.0,135.0,106.0,107.0,81.0,107.0,118.0,110.0,104.0,93.0,94.0,137.0,134.0,69.0,106.0,209.0,86.0,24.0,46.0,117.0,87.0,121.0,97.0,121.0,56.0,119.0,93.0,86.0,134.0,28.0,131.0,78.0,93.0,84.0,107.0,101.0,107.0,74.0,60.0,143.0,105.0,110.0,98.0,74.0,46.0,54.0,59.0,100.0,88.0,93.0,94.0,121.0,78.0,116.0,87.0,61.0,98.0,123.0,85.0,78.0,103.0,44.0,68.0,68.0,69.0,81.0,69.0,68.0,68.0,86.0,40.0,94.0,90.0,112.0,101.0,119.0,40.0,86.0,92.0,91.0,36.0,141.0,107.0,97.0,24.0,89.0,65.0,126.0,63.0,14.0,28.0,20.0,106.0,118.0,127.0,61.0,86.0,94.0,82.0,92.0,52.0,108.0,67.0,91.0,66.0,118.0,87.0,47.0,56.0,61.0,34.0,98.0,99.0,95.0,100.0,101.0,86.0,96.0,99.0,112.0,127.0,22.0,78.0,63.0,97.0,86.0,62.0,96.0,104.0,123.0,100.0,99.0,151.0,102.0,154.0,106.0,87.0,70.0,46.0,101.0,109.0,100.0,110.0,102.0,102.0,24.0,98.0,76.0,90.0,59.0,58.0,64.0,79.0,81.0,81.0,64.0,45.0,90.0,102.0,116.0,42.0,133.0,108.0,38.0,146.0,146.0,106.0,58.0,152.0,87.0,121.0,83.0,111.0,24.0,171.0,88.0,76.0,64.0,94.0,157.0,83.0,65.0,105.0,107.0,103.0,67.0,96.0,125.0,142.0,133.0,100.0,10.0,128.0,93.0,81.0,82.0,47.0,95.0,84.0,91.0,102.0,100.0,98.0,110.0,85.0,66.0,92.0,133.0,135.0,120.0,118.0,110.0,98.0,98.0,98.0,104.0,63.0,52.0,72.0,117.0,100.0,24.0,86.0,69.0,119.0,123.0,93.0,109.0,66.0,107.0,46.0,117.0,67.0,114.0,67.0,77.0,105.0,63.0,59.0,102.0,81.0,84.0,101.0,116.0,177.0,130.0,59.0,111.0,100.0,77.0,93.0,114.0,58.0,56.0,110.0,98.0,106.0,102.0,81.0,98.0,136.0,161.0,32.0,105.0,106.0,90.0,87.0,91.0,106.0,65.0,105.0,40.0,66.0,61.0,122.0,141.0,176.0,73.0,87.0,15.0,55.0,141.0,122.0,109.0,63.0,96.0,113.0,69.0,87.0,116.0,116.0,110.0,122.0,59.0,88.0,91.0,40.0,113.0,90.0,95.0,98.0,61.0,117.0,60.0,142.0,74.0,119.0,114.0,125.0,71.0,110.0,127.0,118.0,90.0,130.0,12.0,62.0,3.0,114.0,128.0,109.0,109.0,101.0,103.0,98.0,123.0,38.0,101.0,99.0,91.0,30.0,30.0,137.0,66.0,70.0,87.0,88.0,90.0,84.0,53.0,87.0,90.0,96.0,94.0,108.0,102.0,61.0,94.0,70.0,88.0,100.0,111.0,128.0,98.0,104.0,126.0,86.0,125.0,40.0,79.0,110.0,128.0,110.0,116.0,119.0,90.0,88.0,104.0,140.0,92.0,64.0,119.0,91.0,122.0,125.0,49.0,168.0,98.0,77.0,102.0,92.0,111.0,113.0,54.0,138.0,123.0,59.0,102.0,141.0,95.0,111.0,131.0,116.0,119.0,146.0,101.0,87.0,94.0,133.0,135.0,61.0,91.0,59.0,91.0,131.0,170.0,88.0,170.0,92.0,59.0,126.0,120.0,76.0,60.0,103.0,124.0,91.0,88.0,81.0,124.0,102.0,132.0,87.0,75.0,126.0,61.0,126.0,108.0,100.0,129.0,71.0,108.0,60.0,105.0,115.0,118.0,130.0,115.0,69.0,97.0,61.0,92.0,108.0,104.0,65.0,106.0,69.0,97.0,80.0,85.0,98.0,115.0,117.0,132.0,127.0,125.0,128.0,126.0,58.0,116.0,90.0,111.0,100.0,99.0,105.0,128.0,91.0,127.0,94.0,124.0,103.0,118.0,162.0,89.0,89.0,108.0,103.0,87.0,93.0,90.0,131.0,114.0,107.0,97.0,103.0,125.0,130.0,119.0,110.0,120.0,102.0,125.0,127.0,121.0,113.0,118.0,132.0,61.0,80.0,110.0,70.0,117.0,89.0,84.0,131.0,139.0,42.0,79.0,96.0,114.0,99.0,111.0,112.0,96.0,103.0,104.0,102.0,97.0,132.0,120.0,137.0,82.0,115.0,130.0,62.0,26.0,91.0,63.0,74.0,136.0,59.0,91.0,93.0,84.0,100.0,51.0,22.0,22.0,22.0,24.0,113.0,110.0,120.0,56.0,127.0,74.0,91.0,137.0,86.0,106.0,125.0,114.0,143.0,121.0,119.0,150.0,88.0,105.0,119.0,96.0,95.0,98.0,96.0,96.0,90.0,97.0,90.0,88.0,105.0,127.0,125.0,116.0,102.0,65.0,106.0,117.0,136.0,104.0,65.0,91.0,99.0,91.0,117.0,95.0,101.0,102.0,122.0,95.0,92.0,111.0,115.0,61.0,97.0,120.0,148.0,48.0,28.0,34.0,61.0,56.0,81.0,68.0,58.0,100.0,50.0,49.0,71.0,29.0,108.0,125.0,100.0,30.0,30.0,146.0,127.0,46.0,57.0,122.0,312.0,109.0,73.0,96.0,105.0,124.0,105.0,78.0,22.0,95.0,82.0,89.0,90.0,85.0,29.0,137.0,27.0,112.0,112.0,153.0,123.0,90.0,84.0,78.0,79.0,73.0,83.0,83.0,145.0,135.0,35.0,68.0,96.0,110.0,58.0,105.0,59.0,28.0,98.0,63.0,155.0,122.0,87.0,73.0,98.0,130.0,105.0,110.0,81.0,115.0,113.0,146.0,118.0,109.0,117.0,23.0,95.0,124.0,90.0,96.0,96.0,93.0,30.0,82.0,127.0,114.0,119.0,101.0,96.0,44.0,104.0,91.0,91.0,114.0,91.0,64.0,89.0,95.0,94.0,133.0,102.0,122.0,86.0,111.0,111.0,136.0,121.0,119.0,115.0,128.0,92.0,99.0,106.0,122.0,129.0,90.0,116.0,59.0,95.0,122.0,98.0,117.0,95.0,146.0,136.0,91.0,123.0,144.0,121.0,91.0,158.0,157.0,124.0,106.0,92.0,80.0,126.0,129.0,133.0,109.0,143.0,140.0,150.0,128.0,120.0,154.0,45.0,132.0,126.0,95.0,135.0,139.0,131.0,118.0,129.0,131.0,146.0,123.0,141.0,93.0,91.0,106.0,131.0,95.0,104.0,126.0,118.0,94.0,100.0,126.0,90.0,87.0,97.0,115.0,93.0,138.0,74.0,102.0,104.0,51.0,50.0,86.0,140.0,122.0,23.0,95.0,121.0,131.0,63.0,150.0,159.0,131.0,130.0,99.0,86.0,106.0,57.0,97.0,144.0,110.0,57.0,119.0,94.0,89.0,124.0,25.0,121.0,88.0,111.0,81.0,64.0,55.0,137.0,56.0,58.0,80.0,94.0,94.0,72.0,60.0,140.0,91.0,97.0,146.0,118.0,128.0,137.0,145.0,141.0,106.0,135.0,137.0,129.0,99.0,155.0,142.0,214.0,137.0,128.0,151.0,121.0,101.0,145.0,147.0,90.0,129.0,129.0,136.0,117.0,150.0,134.0,100.0,44.0,44.0,111.0,147.0,115.0,121.0,103.0,73.0,129.0,102.0,122.0,155.0,139.0,131.0,127.0,156.0,91.0,132.0,130.0,137.0,156.0,132.0,119.0,140.0,126.0,107.0,111.0,130.0,126.0,24.0,108.0,117.0,101.0,124.0,63.0,114.0,98.0,100.0,100.0,123.0,77.0,106.0,106.0,102.0,146.0,96.0,104.0,109.0,110.0,110.0,101.0,94.0,101.0,141.0,120.0,140.0,50.0,57.0,31.0,90.0,110.0,162.0,139.0,130.0,145.0,33.0,114.0,100.0,54.0,150.0,105.0,124.0,95.0,12.0,104.0,143.0,127.0,100.0,74.0,104.0,148.0,127.0,158.0,124.0,163.0,121.0,154.0,127.0,128.0,98.0,109.0,168.0,162.0,159.0,137.0,133.0,127.0,131.0,90.0,88.0,87.0,82.0,86.0,100.0,57.0,95.0,101.0,124.0,72.0,93.0,92.0,95.0,133.0,85.0,105.0,101.0,88.0,113.0,71.0,75.0,66.0,83.0,110.0,88.0,77.0,58.0,69.0,61.0,88.0,122.0,60.0,166.0,107.0,94.0,87.0,92.0,130.0,88.0,128.0,96.0,94.0,69.0,90.0,101.0,77.0,89.0,90.0,98.0,66.0,103.0,95.0,89.0,74.0,119.0,70.0,121.0,106.0,74.0,106.0,113.0,119.0,100.0,110.0,66.0,126.0,130.0,110.0,85.0,117.0,63.0,94.0,74.0,58.0,117.0,89.0,66.0,158.0,100.0,64.0,92.0,63.0,105.0,67.0,91.0,92.0,87.0,100.0,113.0,40.0,105.0,94.0,109.0,99.0,89.0,92.0,105.0,130.0,69.0,98.0,90.0,65.0,92.0,19.0,25.0,22.0,40.0,22.0,24.0,101.0,90.0,96.0,115.0,92.0,93.0,95.0,105.0,117.0,66.0,97.0,78.0,102.0,62.0,97.0,105.0,79.0,90.0,107.0,105.0,99.0,108.0,66.0,75.0,96.0,95.0,32.0,70.0,94.0,78.0,91.0,75.0,105.0,96.0,132.0,60.0,171.0,116.0,169.0,134.0,159.0,87.0,103.0,78.0,62.0,97.0,102.0,95.0,115.0,102.0,99.0,74.0,100.0,150.0,87.0,88.0,63.0,129.0,91.0,115.0,140.0,79.0,104.0,121.0,40.0,94.0,58.0,78.0,51.0,69.0,104.0,59.0,94.0,166.0,155.0,145.0,106.0,94.0,127.0,87.0,185.0,75.0,89.0,81.0,47.0,46.0,125.0,160.0,110.0,69.0,67.0,105.0,127.0,109.0,134.0,60.0,96.0,65.0,133.0,96.0,95.0,24.0,97.0,65.0,102.0,53.0,116.0,102.0,86.0,117.0,96.0,69.0,108.0,102.0,61.0,57.0,49.0,87.0,59.0,63.0,69.0,62.0,108.0,95.0,99.0,62.0,60.0,147.0,153.0,87.0,124.0,94.0,100.0,71.0,60.0,135.0,97.0,86.0,91.0,82.0,102.0,105.0,106.0,91.0,61.0,80.0,118.0,94.0,84.0,103.0,69.0,105.0,128.0,86.0,109.0,70.0,89.0,162.0,163.0,91.0,27.0,67.0,142.0,78.0,26.0,46.0,81.0,119.0,99.0,96.0,128.0,114.0,101.0,109.0,51.0,61.0,73.0,92.0,94.0,135.0,66.0,126.0,54.0,100.0,81.0,123.0,144.0,153.0,141.0,104.0,97.0,82.0,98.0,84.0,76.0,75.0,93.0,98.0,91.0,168.0,68.0,103.0,95.0,82.0,94.0,66.0,135.0,144.0,90.0,158.0,83.0,102.0,52.0,110.0,85.0,113.0,88.0,89.0,59.0,106.0,66.0,135.0,93.0,79.0,107.0,47.0,118.0,81.0,103.0,40.0,103.0,85.0,104.0,82.0,112.0,102.0,101.0,119.0,62.0,64.0,137.0,108.0,78.0,40.0,71.0,99.0,60.0,78.0,98.0,70.0,148.0,54.0,92.0,107.0,90.0,135.0,151.0,132.0,95.0,162.0,163.0,89.0,28.0,103.0,160.0,113.0,86.0,83.0,113.0,86.0,57.0,98.0,116.0,100.0,51.0,113.0,124.0,63.0,56.0,94.0,90.0,71.0,97.0,83.0,92.0,165.0,166.0,166.0,159.0,160.0,159.0,22.0,105.0,54.0,121.0,103.0,129.0,95.0,80.0,67.0,84.0,97.0,86.0,114.0,84.0,67.0,91.0,63.0,116.0,104.0,14.0,89.0,108.0,59.0,74.0,84.0,97.0,95.0,116.0,86.0,153.0,104.0,163.0,106.0,148.0,105.0,121.0,66.0,102.0,96.0,89.0,161.0,24.0,66.0,91.0,92.0,104.0,73.0,47.0,102.0,87.0,117.0,119.0,130.0,102.0,154.0,44.0,96.0,47.0,44.0,109.0,89.0,92.0,122.0,19.0,154.0,152.0,161.0,123.0,44.0,80.0,71.0,153.0,79.0,143.0,123.0,80.0,73.0,106.0,101.0,59.0,164.0,151.0,84.0,51.0,142.0,110.0,86.0,101.0,88.0,86.0,61.0,81.0,72.0,98.0,64.0,111.0,148.0,163.0,95.0,99.0,44.0,93.0,89.0,83.0,104.0,81.0,53.0,95.0,149.0,106.0,108.0,66.0,113.0,83.0,50.0,97.0,105.0,107.0,99.0,101.0,81.0,92.0,131.0,101.0,96.0,85.0,110.0,89.0,88.0,88.0,143.0,83.0,107.0,99.0,134.0,78.0,81.0,106.0,51.0,102.0,63.0,91.0,93.0,93.0,97.0,92.0,137.0,143.0,168.0,117.0,87.0,160.0,62.0,109.0,102.0,118.0,57.0,94.0,71.0,123.0,97.0,99.0,97.0,67.0,105.0,78.0,99.0,119.0,109.0,107.0,92.0,88.0,71.0,64.0,97.0,96.0,150.0,54.0,78.0,86.0,154.0,179.0,93.0,97.0,108.0,92.0,78.0,87.0,99.0,91.0,102.0,67.0,57.0,130.0,80.0,66.0,105.0,98.0,91.0,123.0,82.0,104.0,109.0,74.0,84.0,98.0,22.0,100.0,75.0,69.0,97.0,92.0,92.0,146.0,97.0,93.0,62.0,22.0,88.0,105.0,88.0,93.0,98.0,88.0,31.0,83.0,38.0,108.0,97.0,81.0,70.0,62.0,99.0,112.0,90.0,56.0,89.0,24.0,100.0,116.0,92.0,79.0,72.0,92.0,61.0,88.0,113.0,67.0,65.0,62.0,107.0,69.0,77.0,98.0,71.0,64.0,112.0,59.0,91.0,44.0,107.0,92.0,89.0,107.0,94.0,110.0,81.0,77.0,64.0,97.0,77.0,94.0,94.0,91.0,80.0,95.0,90.0,101.0,73.0,108.0,25.0,86.0,105.0,100.0,96.0,97.0,73.0,44.0,132.0,96.0,92.0,99.0,92.0,99.0,78.0,65.0,65.0,69.0,64.0,63.0,63.0,89.0,60.0,41.0,83.0,25.0,94.0,52.0,75.0,92.0,80.0,46.0,72.0,71.0,77.0,70.0,73.0,81.0,63.0,45.0,46.0,112.0,101.0,117.0,114.0,96.0,87.0,105.0,80.0,97.0,105.0,60.0,109.0,60.0,101.0,91.0,66.0,127.0,82.0,70.0,23.0,97.0,62.0,84.0,90.0,101.0,74.0,68.0,92.0,107.0,108.0,74.0,29.0,60.0,120.0,74.0,57.0,91.0,62.0,85.0,90.0,105.0,59.0,137.0,86.0,99.0,64.0,82.0,90.0,80.0,62.0,92.0,78.0,92.0,69.0,103.0,92.0,143.0,83.0,78.0,84.0,84.0,58.0,82.0,83.0,29.0,72.0,26.0,81.0,75.0,100.0,90.0,68.0,71.0,100.0,94.0,80.0,35.0,93.0,105.0,130.0,100.0,80.0,76.0,95.0,96.0,94.0,94.0,93.0,96.0,94.0,94.0,93.0,95.0,93.0,75.0,103.0,29.0,104.0,81.0,80.0,123.0,119.0,118.0,143.0,149.0,144.0,124.0,87.0,128.0,117.0,100.0,84.0,90.0,105.0,106.0,99.0,93.0,89.0,105.0,109.0,93.0,75.0,90.0,90.0,93.0,37.0,113.0,89.0,102.0,102.0,90.0,94.0,91.0,107.0,95.0,119.0,93.0,101.0,93.0,82.0,70.0,104.0,121.0,92.0,124.0,53.0,91.0,83.0,93.0,81.0,86.0,106.0,97.0,99.0,100.0,126.0,94.0,103.0,96.0,137.0,104.0,104.0,94.0,176.0,137.0,101.0,111.0,110.0,142.0,86.0,93.0,86.0,80.0,92.0,96.0,87.0,98.0,125.0,91.0,76.0,82.0,111.0,92.0,94.0,91.0,44.0,108.0,123.0,106.0,89.0,98.0,108.0,92.0,102.0,103.0,91.0,110.0,77.0,99.0,122.0,150.0,126.0,164.0,115.0,133.0,127.0,100.0,131.0,44.0,101.0,90.0,89.0,88.0,133.0,110.0,112.0,87.0,91.0,111.0,99.0,86.0,93.0,87.0,107.0,89.0,92.0,122.0,91.0,127.0,153.0,94.0,106.0,102.0,112.0,63.0,90.0,89.0,101.0,85.0,83.0,92.0,84.0,91.0,100.0,103.0,103.0,45.0,45.0,90.0,98.0,92.0,172.0,125.0,81.0,112.0,122.0,101.0,53.0,53.0,99.0,95.0,119.0,163.0,55.0,102.0,106.0,128.0,80.0,80.0,75.0,75.0,79.0,87.0,97.0,85.0,111.0,113.0,90.0,103.0,105.0,104.0,127.0,92.0,72.0,118.0,110.0,65.0,90.0,134.0,89.0,86.0,87.0,107.0,79.0,87.0,113.0,110.0,98.0,93.0,139.0,94.0,133.0,81.0,91.0,122.0,102.0,88.0,49.0,110.0,150.0,97.0,129.0,99.0,112.0,143.0,61.0,95.0,92.0,97.0,90.0,119.0,147.0,83.0,83.0,91.0,117.0,78.0,75.0,78.0,149.0,103.0,94.0,95.0,122.0,107.0,126.0,122.0,95.0,101.0,74.0,74.0,74.0,83.0,79.0,72.0,80.0,75.0,75.0,72.0,99.0,91.0,166.0,103.0,128.0,87.0,125.0,121.0,110.0,88.0,52.0,89.0,52.0,81.0,73.0,75.0,99.0,121.0,100.0,97.0,105.0,100.0,115.0,99.0,91.0,90.0,100.0,25.0,99.0,120.0,98.0,104.0,149.0,112.0,98.0,120.0,151.0,63.0,148.0,114.0,123.0,87.0,93.0,88.0,126.0,90.0,95.0,108.0,65.0,110.0,66.0,127.0,131.0,88.0,97.0,116.0,117.0,79.0,144.0,79.0,135.0,88.0,116.0,91.0,83.0,90.0,129.0,120.0,91.0,85.0,88.0,123.0,180.0,98.0,90.0,90.0,94.0,112.0,85.0,97.0,47.0,99.0,168.0,99.0,106.0,92.0,99.0,89.0,88.0,111.0,79.0,86.0,74.0,84.0,80.0,86.0,90.0,102.0,92.0,81.0,116.0,110.0,95.0,133.0,120.0,91.0,90.0,90.0,103.0,73.0,98.0,119.0,76.0,148.0,94.0,108.0,114.0,98.0,151.0,78.0,125.0,126.0,11.0,22.0,104.0,104.0,117.0,101.0,99.0,103.0,126.0,92.0,131.0,119.0,98.0,85.0,84.0,145.0,125.0,108.0,108.0,74.0,82.0,75.0,77.0,156.0,116.0,126.0,129.0,132.0,118.0,87.0,95.0,86.0,106.0,115.0,106.0,94.0,121.0,113.0,129.0,99.0,116.0,88.0,63.0,62.0,62.0,112.0,113.0,82.0,98.0,87.0,111.0,63.0,105.0,146.0,96.0,80.0,99.0,87.0,88.0,99.0,104.0,104.0,118.0,127.0,109.0,130.0,110.0,88.0,106.0,91.0,103.0,89.0,108.0,124.0,96.0,172.0,124.0,85.0,137.0,91.0,120.0,118.0,110.0,114.0,112.0,92.0,137.0,84.0,52.0,96.0,112.0,90.0,106.0,116.0,97.0,127.0,96.0,45.0,101.0,88.0,75.0,112.0,110.0,120.0,90.0,82.0,118.0,153.0,117.0,93.0,82.0,115.0,151.0,103.0,117.0,100.0,70.0,103.0,108.0,100.0,91.0,93.0,113.0,116.0,121.0,112.0,76.0,81.0,110.0,90.0,97.0,86.0,94.0,83.0,43.0,92.0,93.0,88.0,53.0,156.0,79.0,96.0,99.0,140.0,62.0,88.0,76.0,99.0,97.0,87.0,108.0,94.0,123.0,128.0,132.0,93.0,113.0,96.0,133.0,176.0,115.0,90.0,111.0,87.0,112.0,200.0,93.0,90.0,107.0,89.0,83.0,96.0,99.0,95.0,88.0,94.0,93.0,93.0,92.0,127.0,105.0,94.0,104.0,94.0,82.0,86.0,103.0,97.0,84.0,98.0,68.0,42.0,92.0,89.0,99.0,93.0,162.0,85.0,52.0,91.0,106.0,92.0,140.0,69.0,153.0,124.0,120.0,134.0,105.0,119.0,106.0,79.0,196.0,90.0,109.0,93.0,92.0,49.0,102.0,82.0,74.0,94.0,87.0,108.0,151.0,109.0,91.0,93.0,85.0,103.0,102.0,107.0,88.0,95.0,100.0,91.0,110.0,96.0,96.0,98.0,133.0,102.0,108.0,133.0,58.0,79.0,101.0,81.0,99.0,106.0,103.0,92.0,89.0,150.0,80.0,124.0,99.0,29.0,91.0,102.0,94.0,118.0,70.0,181.0,101.0,29.0,92.0,94.0,118.0,98.0,90.0,93.0,114.0,99.0,96.0,102.0,90.0,49.0,61.0,60.0,104.0,119.0,102.0,83.0,88.0,86.0,90.0,134.0,92.0,145.0,95.0,93.0,84.0,81.0,98.0,74.0,87.0,96.0,88.0,118.0,113.0,86.0,91.0,115.0,112.0,103.0,116.0,72.0,104.0,97.0,92.0,93.0,93.0,99.0,47.0,52.0,97.0,88.0,106.0,97.0,88.0,88.0,132.0,108.0,111.0,167.0,96.0,95.0,107.0,118.0,130.0,90.0,87.0,109.0,103.0,110.0,85.0,163.0,100.0,58.0,110.0,58.0,56.0,161.0,141.0,115.0,90.0,103.0,77.0,111.0,103.0,129.0,113.0,106.0,105.0,137.0,22.0,130.0,89.0,110.0,148.0,100.0,90.0,103.0,75.0,99.0,93.0,90.0,145.0,95.0,92.0,90.0,137.0,98.0,109.0,117.0,93.0,57.0,110.0,95.0,102.0,97.0,82.0,90.0,57.0,91.0,100.0,101.0,138.0,95.0,116.0,117.0,65.0,158.0,110.0,79.0,99.0,86.0,138.0,91.0,79.0,79.0,96.0,55.0,101.0,88.0,95.0,87.0,83.0,90.0,151.0,89.0,99.0,86.0,85.0,93.0,89.0,89.0,90.0,104.0,107.0,124.0,87.0,94.0,86.0,102.0,122.0,126.0,87.0,156.0,97.0,89.0,88.0,96.0,104.0,80.0,95.0,97.0,118.0,118.0,44.0,54.0,170.0,118.0,128.0,106.0,103.0,92.0,102.0,126.0,73.0,111.0,100.0,86.0,95.0,79.0,81.0,120.0,85.0,96.0,91.0,134.0,93.0,82.0,88.0,96.0,97.0,101.0,88.0,84.0,110.0,105.0,116.0,94.0,110.0,116.0,51.0,103.0,83.0,176.0,149.0,79.0,97.0,91.0,85.0,85.0,117.0,84.0,106.0,107.0,98.0,54.0,139.0,88.0,93.0,91.0,89.0,106.0,116.0,100.0,96.0,119.0,108.0,104.0,124.0,87.0,75.0,108.0,103.0,103.0,89.0,103.0,89.0,119.0,106.0,90.0,118.0,95.0,123.0,127.0,116.0,119.0,99.0,90.0,90.0,153.0,106.0,141.0,122.0,87.0,102.0,88.0,99.0,99.0,134.0,91.0,88.0,127.0,137.0,77.0,71.0,130.0,140.0,101.0,101.0,91.0,84.0,88.0,68.0,163.0,93.0,86.0,154.0,92.0,132.0,22.0,132.0,94.0,132.0,105.0,97.0,109.0,134.0,53.0,84.0,102.0,79.0,181.0,90.0,79.0,133.0,125.0,80.0,101.0,135.0,133.0,91.0,52.0,123.0,113.0,107.0,128.0,94.0,95.0,106.0,138.0,139.0,132.0,173.0,105.0,148.0,120.0,85.0,113.0,99.0,41.0,110.0,137.0,118.0,140.0,85.0,116.0,133.0,89.0,75.0,67.0,90.0,170.0,124.0,120.0,157.0,124.0,110.0,90.0,97.0,108.0,95.0,111.0,137.0,100.0,53.0,87.0,106.0,86.0,100.0,103.0,109.0,81.0,98.0,114.0,87.0,132.0,116.0,92.0,99.0,63.0,121.0,56.0,96.0,115.0,117.0,58.0,62.0,65.0,61.0,65.0,65.0,58.0,60.0,81.0,85.0,93.0,126.0,99.0,79.0,26.0,107.0,133.0,95.0,100.0,149.0,52.0,165.0,104.0,114.0,109.0,88.0,143.0,112.0,101.0,110.0,83.0,145.0,87.0,86.0,115.0,93.0,121.0,54.0,100.0,37.0,33.0,35.0,32.0,147.0,110.0,97.0,108.0,101.0,100.0,48.0,44.0,78.0,103.0,58.0,90.0,89.0,83.0,84.0,104.0,99.0,105.0,94.0,150.0,111.0,116.0,92.0,23.0,25.0,85.0,90.0,68.0,67.0,66.0,91.0,87.0,98.0,108.0,85.0,95.0,103.0,118.0,153.0,96.0,88.0,116.0,155.0,88.0,92.0,98.0,103.0,163.0,93.0,77.0,97.0,115.0,103.0,82.0,77.0,79.0,98.0,131.0,110.0,100.0,117.0,107.0,76.0,118.0,93.0,99.0,84.0,102.0,134.0,78.0,95.0,73.0,110.0,75.0,119.0,92.0,137.0,192.0,132.0,91.0,105.0,88.0,155.0,103.0,97.0,92.0,98.0,89.0,112.0,75.0,89.0,99.0,107.0,29.0,94.0,90.0,104.0,55.0,83.0,77.0,72.0,103.0,131.0,138.0,143.0,80.0,132.0,84.0,99.0,93.0,114.0,100.0,132.0,83.0,105.0,112.0,94.0,90.0,48.0,110.0,84.0,118.0,86.0,98.0,88.0,81.0,112.0,106.0,148.0,105.0,92.0,112.0,128.0,128.0,136.0,106.0,129.0,90.0,130.0,85.0,90.0,94.0,86.0,100.0,107.0,93.0,109.0,109.0,92.0,93.0,100.0,141.0,119.0,84.0,96.0,83.0,117.0,93.0,73.0,72.0,46.0,74.0,46.0,46.0,74.0,71.0,72.0,76.0,23.0,60.0,46.0,101.0,97.0,111.0,96.0,135.0,91.0,84.0,121.0,109.0,74.0,94.0,105.0,97.0,102.0,86.0,88.0,90.0,131.0,158.0,85.0,110.0,79.0,185.0,80.0,116.0,95.0,99.0,77.0,91.0,115.0,68.0,72.0,73.0,104.0,90.0,99.0,109.0,108.0,99.0,99.0,88.0,92.0,73.0,85.0,91.0,171.0,80.0,102.0,76.0,92.0,82.0,42.0,131.0,165.0,91.0,101.0,53.0,59.0,108.0,89.0,91.0,84.0,96.0,124.0,87.0,113.0,118.0,97.0,161.0,116.0,104.0,89.0,92.0,90.0,50.0,53.0,113.0,53.0,54.0,53.0,54.0,113.0,53.0,53.0,53.0,54.0,54.0,52.0,54.0,54.0,53.0,53.0,53.0,113.0,53.0,86.0,102.0,114.0,99.0,55.0,91.0,117.0,124.0,122.0,84.0,84.0,120.0,127.0,122.0,125.0,107.0,91.0,103.0,103.0,106.0,102.0,97.0,89.0,92.0,107.0,86.0,70.0,66.0,72.0,111.0,166.0,135.0,92.0,87.0,92.0,89.0,93.0,90.0,76.0,86.0,111.0,124.0,93.0,139.0,91.0,86.0,122.0,96.0,88.0,93.0,90.0,103.0,102.0,105.0,117.0,126.0,89.0,82.0,82.0,98.0,96.0,108.0,91.0,163.0,112.0,137.0,89.0,86.0,187.0,109.0,77.0,84.0,140.0,68.0,117.0,105.0,91.0,104.0,114.0,112.0,48.0,95.0,89.0,108.0,72.0,109.0,105.0,92.0,95.0,108.0,85.0,126.0,118.0,125.0,112.0,96.0,81.0,81.0,92.0,127.0,81.0,133.0,81.0,108.0,120.0,149.0,92.0,96.0,114.0,77.0,90.0,24.0,46.0,24.0,55.0,24.0,23.0,24.0,24.0,106.0,52.0,127.0,86.0,131.0,93.0,97.0,84.0,83.0,165.0,154.0,158.0,89.0,149.0,96.0,106.0,128.0,98.0,99.0,113.0,71.0,83.0,129.0,117.0,93.0,124.0,177.0,104.0,113.0,178.0,90.0,154.0,122.0,115.0,126.0,88.0,99.0,144.0,111.0,73.0,81.0,114.0,112.0,80.0,24.0,100.0,96.0,88.0,95.0,112.0,112.0,97.0,97.0,94.0,97.0,118.0,95.0,120.0,84.0,101.0,103.0,83.0,107.0,136.0,96.0,45.0,92.0,120.0,119.0,100.0,92.0,104.0,93.0,98.0,80.0,79.0,122.0,118.0,89.0,26.0,62.0,137.0,121.0,103.0,92.0,89.0,97.0,134.0,116.0,110.0,88.0,93.0,72.0,141.0,82.0,117.0,118.0,91.0,105.0,94.0,137.0,61.0,86.0,118.0,173.0,152.0,99.0,110.0,116.0,107.0,109.0,65.0,32.0,122.0,228.0,86.0,72.0,102.0,140.0,145.0,126.0,133.0,141.0,78.0,150.0,153.0,83.0,95.0,93.0,126.0,95.0,99.0,93.0,93.0,88.0,88.0,195.0,120.0,77.0,112.0,121.0,117.0,90.0,110.0,86.0,95.0,101.0,111.0,54.0,54.0,54.0,55.0,54.0,55.0,55.0,55.0,55.0,55.0,102.0,106.0,69.0,85.0,146.0,145.0,103.0,111.0,125.0,115.0,168.0,109.0,148.0,92.0,91.0,135.0,71.0,112.0,128.0,168.0,45.0,75.0,71.0,122.0,97.0,89.0,98.0,115.0,96.0,119.0,105.0,88.0,94.0,77.0,143.0,127.0,92.0,87.0,83.0,95.0,96.0,107.0,100.0,49.0,94.0,101.0,89.0,135.0,107.0,84.0,110.0,95.0,66.0,83.0,86.0,137.0,87.0,142.0,94.0,135.0,135.0,104.0,97.0,128.0,109.0,73.0,106.0,94.0,85.0,98.0,96.0,75.0,139.0,117.0,95.0,129.0,94.0,112.0,88.0,100.0,83.0,93.0,103.0,88.0,86.0,88.0,152.0,106.0,52.0,98.0,89.0,86.0,106.0,100.0,91.0,113.0,100.0,132.0,96.0,96.0,113.0,95.0,85.0,106.0,117.0,123.0,78.0,95.0,135.0,130.0,115.0,114.0,107.0,93.0,94.0,85.0,63.0,104.0,127.0,113.0,91.0,154.0,82.0,98.0,103.0,86.0,92.0,123.0,116.0,93.0,97.0,108.0,101.0,177.0,95.0,97.0,111.0,81.0,89.0,72.0,112.0,48.0,81.0,137.0,89.0,87.0,88.0,94.0,125.0,67.0,108.0,102.0,109.0,115.0,98.0,84.0,133.0,121.0,100.0,117.0,78.0,87.0,88.0,93.0,107.0,99.0,140.0,113.0,89.0,97.0,97.0,108.0,80.0,90.0,117.0,95.0,86.0,100.0,87.0,101.0,83.0,89.0,18.0,72.0,95.0,95.0,98.0,59.0,118.0,98.0,111.0,116.0,97.0,95.0,122.0,95.0,93.0,107.0,119.0,119.0,97.0,96.0,103.0,96.0,106.0,109.0,112.0,96.0,60.0,113.0,126.0,109.0,93.0,101.0,111.0,107.0,100.0,92.0,103.0,105.0,103.0,101.0,123.0,114.0,101.0,99.0,102.0,66.0,112.0,101.0,99.0,105.0,93.0,121.0,75.0,95.0,100.0,151.0,78.0,85.0,69.0,84.0,88.0,86.0,121.0,99.0,110.0,104.0,95.0,96.0,106.0,112.0,85.0,107.0,76.0,95.0,88.0,116.0,121.0,82.0,87.0,46.0,103.0,97.0,91.0,91.0,101.0,104.0,92.0,113.0,89.0,115.0,84.0,106.0,124.0,83.0,107.0,158.0,95.0,97.0,97.0,89.0,161.0,205.0,123.0,190.0,136.0,161.0,133.0,119.0,94.0,85.0,108.0,71.0,147.0,88.0,99.0,96.0,97.0,92.0,79.0,53.0,94.0,123.0,103.0,111.0,123.0,100.0,75.0,118.0,96.0,108.0,99.0,103.0,99.0,100.0,105.0,52.0,106.0,90.0,95.0,118.0,98.0,86.0,84.0,93.0,88.0,131.0,44.0,96.0,70.0,88.0,87.0,118.0,89.0,85.0,107.0,138.0,119.0,93.0,87.0,121.0,95.0,103.0,201.0,179.0,87.0,98.0,82.0,85.0,90.0,68.0,138.0,136.0,138.0,129.0,116.0,130.0,40.0,94.0,104.0,91.0,70.0,104.0,115.0,85.0,85.0,138.0,40.0,82.0,90.0,99.0,91.0,106.0,108.0,94.0,87.0,124.0,141.0,93.0,103.0,141.0,155.0,93.0,78.0,118.0,88.0,140.0,124.0,110.0,100.0,96.0,116.0,91.0,111.0,98.0,125.0,76.0,117.0,90.0,119.0,136.0,52.0,81.0,77.0,120.0,102.0,90.0,90.0,92.0,93.0,116.0,107.0,87.0,111.0,101.0,91.0,103.0,120.0,90.0,92.0,99.0,124.0,111.0,32.0,86.0,104.0,123.0,105.0,97.0,97.0,90.0,163.0,121.0,120.0,95.0,84.0,94.0,94.0,122.0,90.0,91.0,89.0,98.0,106.0,139.0,83.0,96.0,94.0,58.0,96.0,107.0,104.0,94.0,108.0,91.0,58.0,99.0,96.0,93.0,106.0,103.0,91.0,98.0,111.0,112.0,90.0,101.0,98.0,92.0,88.0,47.0,100.0,114.0,128.0,53.0,89.0,83.0,85.0,94.0,104.0,89.0,86.0,107.0,77.0,123.0,122.0,131.0,77.0,125.0,125.0,88.0,96.0,93.0,42.0,108.0,151.0,125.0,78.0,97.0,84.0,108.0,89.0,60.0,119.0,87.0,104.0,94.0,94.0,130.0,88.0,118.0,94.0,114.0,119.0,114.0,94.0,82.0,82.0,96.0,100.0,104.0,101.0,99.0,98.0,100.0,134.0,173.0,113.0,91.0,110.0,90.0,128.0,108.0,124.0,89.0,162.0,76.0,96.0,102.0,53.0,86.0,89.0,80.0,95.0,78.0,90.0,125.0,94.0,90.0,104.0,40.0,108.0,94.0,61.0,94.0,105.0,83.0,110.0,121.0,95.0,130.0,132.0,90.0,117.0,130.0,78.0,106.0,110.0,91.0,113.0,101.0,125.0,116.0,106.0,113.0,99.0,130.0,120.0,94.0,94.0,109.0,94.0,96.0,103.0,109.0,147.0,98.0,73.0,92.0,78.0,68.0,96.0,83.0,91.0,93.0,38.0,94.0,91.0,95.0,124.0,73.0,108.0,84.0,93.0,96.0,102.0,130.0,52.0,91.0,110.0,75.0,103.0,89.0,86.0,97.0,89.0,91.0,78.0,90.0,50.0,84.0,82.0,106.0,105.0,105.0,100.0,85.0,86.0,100.0,106.0,108.0,74.0,109.0,97.0,129.0,49.0,93.0,133.0,140.0,45.0,191.0,81.0,124.0,101.0,106.0,137.0,171.0,132.0,147.0,151.0,97.0,90.0,111.0,112.0,107.0,96.0,88.0,78.0,87.0,85.0,157.0,116.0,113.0,94.0,81.0,88.0,98.0,131.0,120.0,96.0,158.0,88.0,88.0,111.0],\"xaxis\":\"x\",\"y\":[\"distplot\",\"distplot\",\"distplot\",\"distplot\",\"distplot\",\"distplot\",\"distplot\",\"distplot\",\"distplot\",\"distplot\",\"distplot\",\"distplot\",\"distplot\",\"distplot\",\"distplot\",\"distplot\",\"distplot\",\"distplot\",\"distplot\",\"distplot\",\"distplot\",\"distplot\",\"distplot\",\"distplot\",\"distplot\",\"distplot\",\"distplot\",\"distplot\",\"distplot\",\"distplot\",\"distplot\",\"distplot\",\"distplot\",\"distplot\",\"distplot\",\"distplot\",\"distplot\",\"distplot\",\"distplot\",\"distplot\",\"distplot\",\"distplot\",\"distplot\",\"distplot\",\"distplot\",\"distplot\",\"distplot\",\"distplot\",\"distplot\",\"distplot\",\"distplot\",\"distplot\",\"distplot\",\"distplot\",\"distplot\",\"distplot\",\"distplot\",\"distplot\",\"distplot\",\"distplot\",\"distplot\",\"distplot\",\"distplot\",\"distplot\",\"distplot\",\"distplot\",\"distplot\",\"distplot\",\"distplot\",\"distplot\",\"distplot\",\"distplot\",\"distplot\",\"distplot\",\"distplot\",\"distplot\",\"distplot\",\"distplot\",\"distplot\",\"distplot\",\"distplot\",\"distplot\",\"distplot\",\"distplot\",\"distplot\",\"distplot\",\"distplot\",\"distplot\",\"distplot\",\"distplot\",\"distplot\",\"distplot\",\"distplot\",\"distplot\",\"distplot\",\"distplot\",\"distplot\",\"distplot\",\"distplot\",\"distplot\",\"distplot\",\"distplot\",\"distplot\",\"distplot\",\"distplot\",\"distplot\",\"distplot\",\"distplot\",\"distplot\",\"distplot\",\"distplot\",\"distplot\",\"distplot\",\"distplot\",\"distplot\",\"distplot\",\"distplot\",\"distplot\",\"distplot\",\"distplot\",\"distplot\",\"distplot\",\"distplot\",\"distplot\",\"distplot\",\"distplot\",\"distplot\",\"distplot\",\"distplot\",\"distplot\",\"distplot\",\"distplot\",\"distplot\",\"distplot\",\"distplot\",\"distplot\",\"distplot\",\"distplot\",\"distplot\",\"distplot\",\"distplot\",\"distplot\",\"distplot\",\"distplot\",\"distplot\",\"distplot\",\"distplot\",\"distplot\",\"distplot\",\"distplot\",\"distplot\",\"distplot\",\"distplot\",\"distplot\",\"distplot\",\"distplot\",\"distplot\",\"distplot\",\"distplot\",\"distplot\",\"distplot\",\"distplot\",\"distplot\",\"distplot\",\"distplot\",\"distplot\",\"distplot\",\"distplot\",\"distplot\",\"distplot\",\"distplot\",\"distplot\",\"distplot\",\"distplot\",\"distplot\",\"distplot\",\"distplot\",\"distplot\",\"distplot\",\"distplot\",\"distplot\",\"distplot\",\"distplot\",\"distplot\",\"distplot\",\"distplot\",\"distplot\",\"distplot\",\"distplot\",\"distplot\",\"distplot\",\"distplot\",\"distplot\",\"distplot\",\"distplot\",\"distplot\",\"distplot\",\"distplot\",\"distplot\",\"distplot\",\"distplot\",\"distplot\",\"distplot\",\"distplot\",\"distplot\",\"distplot\",\"distplot\",\"distplot\",\"distplot\",\"distplot\",\"distplot\",\"distplot\",\"distplot\",\"distplot\",\"distplot\",\"distplot\",\"distplot\",\"distplot\",\"distplot\",\"distplot\",\"distplot\",\"distplot\",\"distplot\",\"distplot\",\"distplot\",\"distplot\",\"distplot\",\"distplot\",\"distplot\",\"distplot\",\"distplot\",\"distplot\",\"distplot\",\"distplot\",\"distplot\",\"distplot\",\"distplot\",\"distplot\",\"distplot\",\"distplot\",\"distplot\",\"distplot\",\"distplot\",\"distplot\",\"distplot\",\"distplot\",\"distplot\",\"distplot\",\"distplot\",\"distplot\",\"distplot\",\"distplot\",\"distplot\",\"distplot\",\"distplot\",\"distplot\",\"distplot\",\"distplot\",\"distplot\",\"distplot\",\"distplot\",\"distplot\",\"distplot\",\"distplot\",\"distplot\",\"distplot\",\"distplot\",\"distplot\",\"distplot\",\"distplot\",\"distplot\",\"distplot\",\"distplot\",\"distplot\",\"distplot\",\"distplot\",\"distplot\",\"distplot\",\"distplot\",\"distplot\",\"distplot\",\"distplot\",\"distplot\",\"distplot\",\"distplot\",\"distplot\",\"distplot\",\"distplot\",\"distplot\",\"distplot\",\"distplot\",\"distplot\",\"distplot\",\"distplot\",\"distplot\",\"distplot\",\"distplot\",\"distplot\",\"distplot\",\"distplot\",\"distplot\",\"distplot\",\"distplot\",\"distplot\",\"distplot\",\"distplot\",\"distplot\",\"distplot\",\"distplot\",\"distplot\",\"distplot\",\"distplot\",\"distplot\",\"distplot\",\"distplot\",\"distplot\",\"distplot\",\"distplot\",\"distplot\",\"distplot\",\"distplot\",\"distplot\",\"distplot\",\"distplot\",\"distplot\",\"distplot\",\"distplot\",\"distplot\",\"distplot\",\"distplot\",\"distplot\",\"distplot\",\"distplot\",\"distplot\",\"distplot\",\"distplot\",\"distplot\",\"distplot\",\"distplot\",\"distplot\",\"distplot\",\"distplot\",\"distplot\",\"distplot\",\"distplot\",\"distplot\",\"distplot\",\"distplot\",\"distplot\",\"distplot\",\"distplot\",\"distplot\",\"distplot\",\"distplot\",\"distplot\",\"distplot\",\"distplot\",\"distplot\",\"distplot\",\"distplot\",\"distplot\",\"distplot\",\"distplot\",\"distplot\",\"distplot\",\"distplot\",\"distplot\",\"distplot\",\"distplot\",\"distplot\",\"distplot\",\"distplot\",\"distplot\",\"distplot\",\"distplot\",\"distplot\",\"distplot\",\"distplot\",\"distplot\",\"distplot\",\"distplot\",\"distplot\",\"distplot\",\"distplot\",\"distplot\",\"distplot\",\"distplot\",\"distplot\",\"distplot\",\"distplot\",\"distplot\",\"distplot\",\"distplot\",\"distplot\",\"distplot\",\"distplot\",\"distplot\",\"distplot\",\"distplot\",\"distplot\",\"distplot\",\"distplot\",\"distplot\",\"distplot\",\"distplot\",\"distplot\",\"distplot\",\"distplot\",\"distplot\",\"distplot\",\"distplot\",\"distplot\",\"distplot\",\"distplot\",\"distplot\",\"distplot\",\"distplot\",\"distplot\",\"distplot\",\"distplot\",\"distplot\",\"distplot\",\"distplot\",\"distplot\",\"distplot\",\"distplot\",\"distplot\",\"distplot\",\"distplot\",\"distplot\",\"distplot\",\"distplot\",\"distplot\",\"distplot\",\"distplot\",\"distplot\",\"distplot\",\"distplot\",\"distplot\",\"distplot\",\"distplot\",\"distplot\",\"distplot\",\"distplot\",\"distplot\",\"distplot\",\"distplot\",\"distplot\",\"distplot\",\"distplot\",\"distplot\",\"distplot\",\"distplot\",\"distplot\",\"distplot\",\"distplot\",\"distplot\",\"distplot\",\"distplot\",\"distplot\",\"distplot\",\"distplot\",\"distplot\",\"distplot\",\"distplot\",\"distplot\",\"distplot\",\"distplot\",\"distplot\",\"distplot\",\"distplot\",\"distplot\",\"distplot\",\"distplot\",\"distplot\",\"distplot\",\"distplot\",\"distplot\",\"distplot\",\"distplot\",\"distplot\",\"distplot\",\"distplot\",\"distplot\",\"distplot\",\"distplot\",\"distplot\",\"distplot\",\"distplot\",\"distplot\",\"distplot\",\"distplot\",\"distplot\",\"distplot\",\"distplot\",\"distplot\",\"distplot\",\"distplot\",\"distplot\",\"distplot\",\"distplot\",\"distplot\",\"distplot\",\"distplot\",\"distplot\",\"distplot\",\"distplot\",\"distplot\",\"distplot\",\"distplot\",\"distplot\",\"distplot\",\"distplot\",\"distplot\",\"distplot\",\"distplot\",\"distplot\",\"distplot\",\"distplot\",\"distplot\",\"distplot\",\"distplot\",\"distplot\",\"distplot\",\"distplot\",\"distplot\",\"distplot\",\"distplot\",\"distplot\",\"distplot\",\"distplot\",\"distplot\",\"distplot\",\"distplot\",\"distplot\",\"distplot\",\"distplot\",\"distplot\",\"distplot\",\"distplot\",\"distplot\",\"distplot\",\"distplot\",\"distplot\",\"distplot\",\"distplot\",\"distplot\",\"distplot\",\"distplot\",\"distplot\",\"distplot\",\"distplot\",\"distplot\",\"distplot\",\"distplot\",\"distplot\",\"distplot\",\"distplot\",\"distplot\",\"distplot\",\"distplot\",\"distplot\",\"distplot\",\"distplot\",\"distplot\",\"distplot\",\"distplot\",\"distplot\",\"distplot\",\"distplot\",\"distplot\",\"distplot\",\"distplot\",\"distplot\",\"distplot\",\"distplot\",\"distplot\",\"distplot\",\"distplot\",\"distplot\",\"distplot\",\"distplot\",\"distplot\",\"distplot\",\"distplot\",\"distplot\",\"distplot\",\"distplot\",\"distplot\",\"distplot\",\"distplot\",\"distplot\",\"distplot\",\"distplot\",\"distplot\",\"distplot\",\"distplot\",\"distplot\",\"distplot\",\"distplot\",\"distplot\",\"distplot\",\"distplot\",\"distplot\",\"distplot\",\"distplot\",\"distplot\",\"distplot\",\"distplot\",\"distplot\",\"distplot\",\"distplot\",\"distplot\",\"distplot\",\"distplot\",\"distplot\",\"distplot\",\"distplot\",\"distplot\",\"distplot\",\"distplot\",\"distplot\",\"distplot\",\"distplot\",\"distplot\",\"distplot\",\"distplot\",\"distplot\",\"distplot\",\"distplot\",\"distplot\",\"distplot\",\"distplot\",\"distplot\",\"distplot\",\"distplot\",\"distplot\",\"distplot\",\"distplot\",\"distplot\",\"distplot\",\"distplot\",\"distplot\",\"distplot\",\"distplot\",\"distplot\",\"distplot\",\"distplot\",\"distplot\",\"distplot\",\"distplot\",\"distplot\",\"distplot\",\"distplot\",\"distplot\",\"distplot\",\"distplot\",\"distplot\",\"distplot\",\"distplot\",\"distplot\",\"distplot\",\"distplot\",\"distplot\",\"distplot\",\"distplot\",\"distplot\",\"distplot\",\"distplot\",\"distplot\",\"distplot\",\"distplot\",\"distplot\",\"distplot\",\"distplot\",\"distplot\",\"distplot\",\"distplot\",\"distplot\",\"distplot\",\"distplot\",\"distplot\",\"distplot\",\"distplot\",\"distplot\",\"distplot\",\"distplot\",\"distplot\",\"distplot\",\"distplot\",\"distplot\",\"distplot\",\"distplot\",\"distplot\",\"distplot\",\"distplot\",\"distplot\",\"distplot\",\"distplot\",\"distplot\",\"distplot\",\"distplot\",\"distplot\",\"distplot\",\"distplot\",\"distplot\",\"distplot\",\"distplot\",\"distplot\",\"distplot\",\"distplot\",\"distplot\",\"distplot\",\"distplot\",\"distplot\",\"distplot\",\"distplot\",\"distplot\",\"distplot\",\"distplot\",\"distplot\",\"distplot\",\"distplot\",\"distplot\",\"distplot\",\"distplot\",\"distplot\",\"distplot\",\"distplot\",\"distplot\",\"distplot\",\"distplot\",\"distplot\",\"distplot\",\"distplot\",\"distplot\",\"distplot\",\"distplot\",\"distplot\",\"distplot\",\"distplot\",\"distplot\",\"distplot\",\"distplot\",\"distplot\",\"distplot\",\"distplot\",\"distplot\",\"distplot\",\"distplot\",\"distplot\",\"distplot\",\"distplot\",\"distplot\",\"distplot\",\"distplot\",\"distplot\",\"distplot\",\"distplot\",\"distplot\",\"distplot\",\"distplot\",\"distplot\",\"distplot\",\"distplot\",\"distplot\",\"distplot\",\"distplot\",\"distplot\",\"distplot\",\"distplot\",\"distplot\",\"distplot\",\"distplot\",\"distplot\",\"distplot\",\"distplot\",\"distplot\",\"distplot\",\"distplot\",\"distplot\",\"distplot\",\"distplot\",\"distplot\",\"distplot\",\"distplot\",\"distplot\",\"distplot\",\"distplot\",\"distplot\",\"distplot\",\"distplot\",\"distplot\",\"distplot\",\"distplot\",\"distplot\",\"distplot\",\"distplot\",\"distplot\",\"distplot\",\"distplot\",\"distplot\",\"distplot\",\"distplot\",\"distplot\",\"distplot\",\"distplot\",\"distplot\",\"distplot\",\"distplot\",\"distplot\",\"distplot\",\"distplot\",\"distplot\",\"distplot\",\"distplot\",\"distplot\",\"distplot\",\"distplot\",\"distplot\",\"distplot\",\"distplot\",\"distplot\",\"distplot\",\"distplot\",\"distplot\",\"distplot\",\"distplot\",\"distplot\",\"distplot\",\"distplot\",\"distplot\",\"distplot\",\"distplot\",\"distplot\",\"distplot\",\"distplot\",\"distplot\",\"distplot\",\"distplot\",\"distplot\",\"distplot\",\"distplot\",\"distplot\",\"distplot\",\"distplot\",\"distplot\",\"distplot\",\"distplot\",\"distplot\",\"distplot\",\"distplot\",\"distplot\",\"distplot\",\"distplot\",\"distplot\",\"distplot\",\"distplot\",\"distplot\",\"distplot\",\"distplot\",\"distplot\",\"distplot\",\"distplot\",\"distplot\",\"distplot\",\"distplot\",\"distplot\",\"distplot\",\"distplot\",\"distplot\",\"distplot\",\"distplot\",\"distplot\",\"distplot\",\"distplot\",\"distplot\",\"distplot\",\"distplot\",\"distplot\",\"distplot\",\"distplot\",\"distplot\",\"distplot\",\"distplot\",\"distplot\",\"distplot\",\"distplot\",\"distplot\",\"distplot\",\"distplot\",\"distplot\",\"distplot\",\"distplot\",\"distplot\",\"distplot\",\"distplot\",\"distplot\",\"distplot\",\"distplot\",\"distplot\",\"distplot\",\"distplot\",\"distplot\",\"distplot\",\"distplot\",\"distplot\",\"distplot\",\"distplot\",\"distplot\",\"distplot\",\"distplot\",\"distplot\",\"distplot\",\"distplot\",\"distplot\",\"distplot\",\"distplot\",\"distplot\",\"distplot\",\"distplot\",\"distplot\",\"distplot\",\"distplot\",\"distplot\",\"distplot\",\"distplot\",\"distplot\",\"distplot\",\"distplot\",\"distplot\",\"distplot\",\"distplot\",\"distplot\",\"distplot\",\"distplot\",\"distplot\",\"distplot\",\"distplot\",\"distplot\",\"distplot\",\"distplot\",\"distplot\",\"distplot\",\"distplot\",\"distplot\",\"distplot\",\"distplot\",\"distplot\",\"distplot\",\"distplot\",\"distplot\",\"distplot\",\"distplot\",\"distplot\",\"distplot\",\"distplot\",\"distplot\",\"distplot\",\"distplot\",\"distplot\",\"distplot\",\"distplot\",\"distplot\",\"distplot\",\"distplot\",\"distplot\",\"distplot\",\"distplot\",\"distplot\",\"distplot\",\"distplot\",\"distplot\",\"distplot\",\"distplot\",\"distplot\",\"distplot\",\"distplot\",\"distplot\",\"distplot\",\"distplot\",\"distplot\",\"distplot\",\"distplot\",\"distplot\",\"distplot\",\"distplot\",\"distplot\",\"distplot\",\"distplot\",\"distplot\",\"distplot\",\"distplot\",\"distplot\",\"distplot\",\"distplot\",\"distplot\",\"distplot\",\"distplot\",\"distplot\",\"distplot\",\"distplot\",\"distplot\",\"distplot\",\"distplot\",\"distplot\",\"distplot\",\"distplot\",\"distplot\",\"distplot\",\"distplot\",\"distplot\",\"distplot\",\"distplot\",\"distplot\",\"distplot\",\"distplot\",\"distplot\",\"distplot\",\"distplot\",\"distplot\",\"distplot\",\"distplot\",\"distplot\",\"distplot\",\"distplot\",\"distplot\",\"distplot\",\"distplot\",\"distplot\",\"distplot\",\"distplot\",\"distplot\",\"distplot\",\"distplot\",\"distplot\",\"distplot\",\"distplot\",\"distplot\",\"distplot\",\"distplot\",\"distplot\",\"distplot\",\"distplot\",\"distplot\",\"distplot\",\"distplot\",\"distplot\",\"distplot\",\"distplot\",\"distplot\",\"distplot\",\"distplot\",\"distplot\",\"distplot\",\"distplot\",\"distplot\",\"distplot\",\"distplot\",\"distplot\",\"distplot\",\"distplot\",\"distplot\",\"distplot\",\"distplot\",\"distplot\",\"distplot\",\"distplot\",\"distplot\",\"distplot\",\"distplot\",\"distplot\",\"distplot\",\"distplot\",\"distplot\",\"distplot\",\"distplot\",\"distplot\",\"distplot\",\"distplot\",\"distplot\",\"distplot\",\"distplot\",\"distplot\",\"distplot\",\"distplot\",\"distplot\",\"distplot\",\"distplot\",\"distplot\",\"distplot\",\"distplot\",\"distplot\",\"distplot\",\"distplot\",\"distplot\",\"distplot\",\"distplot\",\"distplot\",\"distplot\",\"distplot\",\"distplot\",\"distplot\",\"distplot\",\"distplot\",\"distplot\",\"distplot\",\"distplot\",\"distplot\",\"distplot\",\"distplot\",\"distplot\",\"distplot\",\"distplot\",\"distplot\",\"distplot\",\"distplot\",\"distplot\",\"distplot\",\"distplot\",\"distplot\",\"distplot\",\"distplot\",\"distplot\",\"distplot\",\"distplot\",\"distplot\",\"distplot\",\"distplot\",\"distplot\",\"distplot\",\"distplot\",\"distplot\",\"distplot\",\"distplot\",\"distplot\",\"distplot\",\"distplot\",\"distplot\",\"distplot\",\"distplot\",\"distplot\",\"distplot\",\"distplot\",\"distplot\",\"distplot\",\"distplot\",\"distplot\",\"distplot\",\"distplot\",\"distplot\",\"distplot\",\"distplot\",\"distplot\",\"distplot\",\"distplot\",\"distplot\",\"distplot\",\"distplot\",\"distplot\",\"distplot\",\"distplot\",\"distplot\",\"distplot\",\"distplot\",\"distplot\",\"distplot\",\"distplot\",\"distplot\",\"distplot\",\"distplot\",\"distplot\",\"distplot\",\"distplot\",\"distplot\",\"distplot\",\"distplot\",\"distplot\",\"distplot\",\"distplot\",\"distplot\",\"distplot\",\"distplot\",\"distplot\",\"distplot\",\"distplot\",\"distplot\",\"distplot\",\"distplot\",\"distplot\",\"distplot\",\"distplot\",\"distplot\",\"distplot\",\"distplot\",\"distplot\",\"distplot\",\"distplot\",\"distplot\",\"distplot\",\"distplot\",\"distplot\",\"distplot\",\"distplot\",\"distplot\",\"distplot\",\"distplot\",\"distplot\",\"distplot\",\"distplot\",\"distplot\",\"distplot\",\"distplot\",\"distplot\",\"distplot\",\"distplot\",\"distplot\",\"distplot\",\"distplot\",\"distplot\",\"distplot\",\"distplot\",\"distplot\",\"distplot\",\"distplot\",\"distplot\",\"distplot\",\"distplot\",\"distplot\",\"distplot\",\"distplot\",\"distplot\",\"distplot\",\"distplot\",\"distplot\",\"distplot\",\"distplot\",\"distplot\",\"distplot\",\"distplot\",\"distplot\",\"distplot\",\"distplot\",\"distplot\",\"distplot\",\"distplot\",\"distplot\",\"distplot\",\"distplot\",\"distplot\",\"distplot\",\"distplot\",\"distplot\",\"distplot\",\"distplot\",\"distplot\",\"distplot\",\"distplot\",\"distplot\",\"distplot\",\"distplot\",\"distplot\",\"distplot\",\"distplot\",\"distplot\",\"distplot\",\"distplot\",\"distplot\",\"distplot\",\"distplot\",\"distplot\",\"distplot\",\"distplot\",\"distplot\",\"distplot\",\"distplot\",\"distplot\",\"distplot\",\"distplot\",\"distplot\",\"distplot\",\"distplot\",\"distplot\",\"distplot\",\"distplot\",\"distplot\",\"distplot\",\"distplot\",\"distplot\",\"distplot\",\"distplot\",\"distplot\",\"distplot\",\"distplot\",\"distplot\",\"distplot\",\"distplot\",\"distplot\",\"distplot\",\"distplot\",\"distplot\",\"distplot\",\"distplot\",\"distplot\",\"distplot\",\"distplot\",\"distplot\",\"distplot\",\"distplot\",\"distplot\",\"distplot\",\"distplot\",\"distplot\",\"distplot\",\"distplot\",\"distplot\",\"distplot\",\"distplot\",\"distplot\",\"distplot\",\"distplot\",\"distplot\",\"distplot\",\"distplot\",\"distplot\",\"distplot\",\"distplot\",\"distplot\",\"distplot\",\"distplot\",\"distplot\",\"distplot\",\"distplot\",\"distplot\",\"distplot\",\"distplot\",\"distplot\",\"distplot\",\"distplot\",\"distplot\",\"distplot\",\"distplot\",\"distplot\",\"distplot\",\"distplot\",\"distplot\",\"distplot\",\"distplot\",\"distplot\",\"distplot\",\"distplot\",\"distplot\",\"distplot\",\"distplot\",\"distplot\",\"distplot\",\"distplot\",\"distplot\",\"distplot\",\"distplot\",\"distplot\",\"distplot\",\"distplot\",\"distplot\",\"distplot\",\"distplot\",\"distplot\",\"distplot\",\"distplot\",\"distplot\",\"distplot\",\"distplot\",\"distplot\",\"distplot\",\"distplot\",\"distplot\",\"distplot\",\"distplot\",\"distplot\",\"distplot\",\"distplot\",\"distplot\",\"distplot\",\"distplot\",\"distplot\",\"distplot\",\"distplot\",\"distplot\",\"distplot\",\"distplot\",\"distplot\",\"distplot\",\"distplot\",\"distplot\",\"distplot\",\"distplot\",\"distplot\",\"distplot\",\"distplot\",\"distplot\",\"distplot\",\"distplot\",\"distplot\",\"distplot\",\"distplot\",\"distplot\",\"distplot\",\"distplot\",\"distplot\",\"distplot\",\"distplot\",\"distplot\",\"distplot\",\"distplot\",\"distplot\",\"distplot\",\"distplot\",\"distplot\",\"distplot\",\"distplot\",\"distplot\",\"distplot\",\"distplot\",\"distplot\",\"distplot\",\"distplot\",\"distplot\",\"distplot\",\"distplot\",\"distplot\",\"distplot\",\"distplot\",\"distplot\",\"distplot\",\"distplot\",\"distplot\",\"distplot\",\"distplot\",\"distplot\",\"distplot\",\"distplot\",\"distplot\",\"distplot\",\"distplot\",\"distplot\",\"distplot\",\"distplot\",\"distplot\",\"distplot\",\"distplot\",\"distplot\",\"distplot\",\"distplot\",\"distplot\",\"distplot\",\"distplot\",\"distplot\",\"distplot\",\"distplot\",\"distplot\",\"distplot\",\"distplot\",\"distplot\",\"distplot\",\"distplot\",\"distplot\",\"distplot\",\"distplot\",\"distplot\",\"distplot\",\"distplot\",\"distplot\",\"distplot\",\"distplot\",\"distplot\",\"distplot\",\"distplot\",\"distplot\",\"distplot\",\"distplot\",\"distplot\",\"distplot\",\"distplot\",\"distplot\",\"distplot\",\"distplot\",\"distplot\",\"distplot\",\"distplot\",\"distplot\",\"distplot\",\"distplot\",\"distplot\",\"distplot\",\"distplot\",\"distplot\",\"distplot\",\"distplot\",\"distplot\",\"distplot\",\"distplot\",\"distplot\",\"distplot\",\"distplot\",\"distplot\",\"distplot\",\"distplot\",\"distplot\",\"distplot\",\"distplot\",\"distplot\",\"distplot\",\"distplot\",\"distplot\",\"distplot\",\"distplot\",\"distplot\",\"distplot\",\"distplot\",\"distplot\",\"distplot\",\"distplot\",\"distplot\",\"distplot\",\"distplot\",\"distplot\",\"distplot\",\"distplot\",\"distplot\",\"distplot\",\"distplot\",\"distplot\",\"distplot\",\"distplot\",\"distplot\",\"distplot\",\"distplot\",\"distplot\",\"distplot\",\"distplot\",\"distplot\",\"distplot\",\"distplot\",\"distplot\",\"distplot\",\"distplot\",\"distplot\",\"distplot\",\"distplot\",\"distplot\",\"distplot\",\"distplot\",\"distplot\",\"distplot\",\"distplot\",\"distplot\",\"distplot\",\"distplot\",\"distplot\",\"distplot\",\"distplot\",\"distplot\",\"distplot\",\"distplot\",\"distplot\",\"distplot\",\"distplot\",\"distplot\",\"distplot\",\"distplot\",\"distplot\",\"distplot\",\"distplot\",\"distplot\",\"distplot\",\"distplot\",\"distplot\",\"distplot\",\"distplot\",\"distplot\",\"distplot\",\"distplot\",\"distplot\",\"distplot\",\"distplot\",\"distplot\",\"distplot\",\"distplot\",\"distplot\",\"distplot\",\"distplot\",\"distplot\",\"distplot\",\"distplot\",\"distplot\",\"distplot\",\"distplot\",\"distplot\",\"distplot\",\"distplot\",\"distplot\",\"distplot\",\"distplot\",\"distplot\",\"distplot\",\"distplot\",\"distplot\",\"distplot\",\"distplot\",\"distplot\",\"distplot\",\"distplot\",\"distplot\",\"distplot\",\"distplot\",\"distplot\",\"distplot\",\"distplot\",\"distplot\",\"distplot\",\"distplot\",\"distplot\",\"distplot\",\"distplot\",\"distplot\",\"distplot\",\"distplot\",\"distplot\",\"distplot\",\"distplot\",\"distplot\",\"distplot\",\"distplot\",\"distplot\",\"distplot\",\"distplot\",\"distplot\",\"distplot\",\"distplot\",\"distplot\",\"distplot\",\"distplot\",\"distplot\",\"distplot\",\"distplot\",\"distplot\",\"distplot\",\"distplot\",\"distplot\",\"distplot\",\"distplot\",\"distplot\",\"distplot\",\"distplot\",\"distplot\",\"distplot\",\"distplot\",\"distplot\",\"distplot\",\"distplot\",\"distplot\",\"distplot\",\"distplot\",\"distplot\",\"distplot\",\"distplot\",\"distplot\",\"distplot\",\"distplot\",\"distplot\",\"distplot\",\"distplot\",\"distplot\",\"distplot\",\"distplot\",\"distplot\",\"distplot\",\"distplot\",\"distplot\",\"distplot\",\"distplot\",\"distplot\",\"distplot\",\"distplot\",\"distplot\",\"distplot\",\"distplot\",\"distplot\",\"distplot\",\"distplot\",\"distplot\",\"distplot\",\"distplot\",\"distplot\",\"distplot\",\"distplot\",\"distplot\",\"distplot\",\"distplot\",\"distplot\",\"distplot\",\"distplot\",\"distplot\",\"distplot\",\"distplot\",\"distplot\",\"distplot\",\"distplot\",\"distplot\",\"distplot\",\"distplot\",\"distplot\",\"distplot\",\"distplot\",\"distplot\",\"distplot\",\"distplot\",\"distplot\",\"distplot\",\"distplot\",\"distplot\",\"distplot\",\"distplot\",\"distplot\",\"distplot\",\"distplot\",\"distplot\",\"distplot\",\"distplot\",\"distplot\",\"distplot\",\"distplot\",\"distplot\",\"distplot\",\"distplot\",\"distplot\",\"distplot\",\"distplot\",\"distplot\",\"distplot\",\"distplot\",\"distplot\",\"distplot\",\"distplot\",\"distplot\",\"distplot\",\"distplot\",\"distplot\",\"distplot\",\"distplot\",\"distplot\",\"distplot\",\"distplot\",\"distplot\",\"distplot\",\"distplot\",\"distplot\",\"distplot\",\"distplot\",\"distplot\",\"distplot\",\"distplot\",\"distplot\",\"distplot\",\"distplot\",\"distplot\",\"distplot\",\"distplot\",\"distplot\",\"distplot\",\"distplot\",\"distplot\",\"distplot\",\"distplot\",\"distplot\",\"distplot\",\"distplot\",\"distplot\",\"distplot\",\"distplot\",\"distplot\",\"distplot\",\"distplot\",\"distplot\",\"distplot\",\"distplot\",\"distplot\",\"distplot\",\"distplot\",\"distplot\",\"distplot\",\"distplot\",\"distplot\",\"distplot\",\"distplot\",\"distplot\",\"distplot\",\"distplot\",\"distplot\",\"distplot\",\"distplot\",\"distplot\",\"distplot\",\"distplot\",\"distplot\",\"distplot\",\"distplot\",\"distplot\",\"distplot\",\"distplot\",\"distplot\",\"distplot\",\"distplot\",\"distplot\",\"distplot\",\"distplot\",\"distplot\",\"distplot\",\"distplot\",\"distplot\",\"distplot\",\"distplot\",\"distplot\",\"distplot\",\"distplot\",\"distplot\",\"distplot\",\"distplot\",\"distplot\",\"distplot\",\"distplot\",\"distplot\",\"distplot\",\"distplot\",\"distplot\",\"distplot\",\"distplot\",\"distplot\",\"distplot\",\"distplot\",\"distplot\",\"distplot\",\"distplot\",\"distplot\",\"distplot\",\"distplot\",\"distplot\",\"distplot\",\"distplot\",\"distplot\",\"distplot\",\"distplot\",\"distplot\",\"distplot\",\"distplot\",\"distplot\",\"distplot\",\"distplot\",\"distplot\",\"distplot\",\"distplot\",\"distplot\",\"distplot\",\"distplot\",\"distplot\",\"distplot\",\"distplot\",\"distplot\",\"distplot\",\"distplot\",\"distplot\",\"distplot\",\"distplot\",\"distplot\",\"distplot\",\"distplot\",\"distplot\",\"distplot\",\"distplot\",\"distplot\",\"distplot\",\"distplot\",\"distplot\",\"distplot\",\"distplot\",\"distplot\",\"distplot\",\"distplot\",\"distplot\",\"distplot\",\"distplot\",\"distplot\",\"distplot\",\"distplot\",\"distplot\",\"distplot\",\"distplot\",\"distplot\",\"distplot\",\"distplot\",\"distplot\",\"distplot\",\"distplot\",\"distplot\",\"distplot\",\"distplot\",\"distplot\",\"distplot\",\"distplot\",\"distplot\",\"distplot\",\"distplot\",\"distplot\",\"distplot\",\"distplot\",\"distplot\",\"distplot\",\"distplot\",\"distplot\",\"distplot\",\"distplot\",\"distplot\",\"distplot\",\"distplot\",\"distplot\",\"distplot\",\"distplot\",\"distplot\",\"distplot\",\"distplot\",\"distplot\",\"distplot\",\"distplot\",\"distplot\",\"distplot\",\"distplot\",\"distplot\",\"distplot\",\"distplot\",\"distplot\",\"distplot\",\"distplot\",\"distplot\",\"distplot\",\"distplot\",\"distplot\",\"distplot\",\"distplot\",\"distplot\",\"distplot\",\"distplot\",\"distplot\",\"distplot\",\"distplot\",\"distplot\",\"distplot\",\"distplot\",\"distplot\",\"distplot\",\"distplot\",\"distplot\",\"distplot\",\"distplot\",\"distplot\",\"distplot\",\"distplot\",\"distplot\",\"distplot\",\"distplot\",\"distplot\",\"distplot\",\"distplot\",\"distplot\",\"distplot\",\"distplot\",\"distplot\",\"distplot\",\"distplot\",\"distplot\",\"distplot\",\"distplot\",\"distplot\",\"distplot\",\"distplot\",\"distplot\",\"distplot\",\"distplot\",\"distplot\",\"distplot\",\"distplot\",\"distplot\",\"distplot\",\"distplot\",\"distplot\",\"distplot\",\"distplot\",\"distplot\",\"distplot\",\"distplot\",\"distplot\",\"distplot\",\"distplot\",\"distplot\",\"distplot\",\"distplot\",\"distplot\",\"distplot\",\"distplot\",\"distplot\",\"distplot\",\"distplot\",\"distplot\",\"distplot\",\"distplot\",\"distplot\",\"distplot\",\"distplot\",\"distplot\",\"distplot\",\"distplot\",\"distplot\",\"distplot\",\"distplot\",\"distplot\",\"distplot\",\"distplot\",\"distplot\",\"distplot\",\"distplot\",\"distplot\",\"distplot\",\"distplot\",\"distplot\",\"distplot\",\"distplot\",\"distplot\",\"distplot\",\"distplot\",\"distplot\",\"distplot\",\"distplot\",\"distplot\",\"distplot\",\"distplot\",\"distplot\",\"distplot\",\"distplot\",\"distplot\",\"distplot\",\"distplot\",\"distplot\",\"distplot\",\"distplot\",\"distplot\",\"distplot\",\"distplot\",\"distplot\",\"distplot\",\"distplot\",\"distplot\",\"distplot\",\"distplot\",\"distplot\",\"distplot\",\"distplot\",\"distplot\",\"distplot\",\"distplot\",\"distplot\",\"distplot\",\"distplot\",\"distplot\",\"distplot\",\"distplot\",\"distplot\",\"distplot\",\"distplot\",\"distplot\",\"distplot\",\"distplot\",\"distplot\",\"distplot\",\"distplot\",\"distplot\",\"distplot\",\"distplot\",\"distplot\",\"distplot\",\"distplot\",\"distplot\",\"distplot\",\"distplot\",\"distplot\",\"distplot\",\"distplot\",\"distplot\",\"distplot\",\"distplot\",\"distplot\",\"distplot\",\"distplot\",\"distplot\",\"distplot\",\"distplot\",\"distplot\",\"distplot\",\"distplot\",\"distplot\",\"distplot\",\"distplot\",\"distplot\",\"distplot\",\"distplot\",\"distplot\",\"distplot\",\"distplot\",\"distplot\",\"distplot\",\"distplot\",\"distplot\",\"distplot\",\"distplot\",\"distplot\",\"distplot\",\"distplot\",\"distplot\",\"distplot\",\"distplot\",\"distplot\",\"distplot\",\"distplot\",\"distplot\",\"distplot\",\"distplot\",\"distplot\",\"distplot\",\"distplot\",\"distplot\",\"distplot\",\"distplot\",\"distplot\",\"distplot\",\"distplot\",\"distplot\",\"distplot\",\"distplot\",\"distplot\",\"distplot\",\"distplot\",\"distplot\",\"distplot\",\"distplot\",\"distplot\",\"distplot\",\"distplot\",\"distplot\",\"distplot\",\"distplot\",\"distplot\",\"distplot\",\"distplot\",\"distplot\",\"distplot\",\"distplot\",\"distplot\",\"distplot\",\"distplot\",\"distplot\",\"distplot\",\"distplot\",\"distplot\",\"distplot\",\"distplot\",\"distplot\",\"distplot\",\"distplot\",\"distplot\",\"distplot\",\"distplot\",\"distplot\",\"distplot\",\"distplot\",\"distplot\",\"distplot\",\"distplot\",\"distplot\",\"distplot\",\"distplot\",\"distplot\",\"distplot\",\"distplot\",\"distplot\",\"distplot\",\"distplot\",\"distplot\",\"distplot\",\"distplot\",\"distplot\",\"distplot\",\"distplot\",\"distplot\",\"distplot\",\"distplot\",\"distplot\",\"distplot\",\"distplot\",\"distplot\",\"distplot\",\"distplot\",\"distplot\",\"distplot\",\"distplot\",\"distplot\",\"distplot\",\"distplot\",\"distplot\",\"distplot\",\"distplot\",\"distplot\",\"distplot\",\"distplot\",\"distplot\",\"distplot\",\"distplot\",\"distplot\",\"distplot\",\"distplot\",\"distplot\",\"distplot\",\"distplot\",\"distplot\",\"distplot\",\"distplot\",\"distplot\",\"distplot\",\"distplot\",\"distplot\",\"distplot\",\"distplot\",\"distplot\",\"distplot\",\"distplot\",\"distplot\",\"distplot\",\"distplot\",\"distplot\",\"distplot\",\"distplot\",\"distplot\",\"distplot\",\"distplot\",\"distplot\",\"distplot\",\"distplot\",\"distplot\",\"distplot\",\"distplot\",\"distplot\",\"distplot\",\"distplot\",\"distplot\",\"distplot\",\"distplot\",\"distplot\",\"distplot\",\"distplot\",\"distplot\",\"distplot\",\"distplot\",\"distplot\",\"distplot\",\"distplot\",\"distplot\",\"distplot\",\"distplot\",\"distplot\",\"distplot\",\"distplot\",\"distplot\",\"distplot\",\"distplot\",\"distplot\",\"distplot\",\"distplot\",\"distplot\",\"distplot\",\"distplot\",\"distplot\",\"distplot\",\"distplot\",\"distplot\",\"distplot\",\"distplot\",\"distplot\",\"distplot\",\"distplot\",\"distplot\",\"distplot\",\"distplot\",\"distplot\",\"distplot\",\"distplot\",\"distplot\",\"distplot\",\"distplot\",\"distplot\",\"distplot\",\"distplot\",\"distplot\",\"distplot\",\"distplot\",\"distplot\",\"distplot\",\"distplot\",\"distplot\",\"distplot\",\"distplot\",\"distplot\",\"distplot\",\"distplot\",\"distplot\",\"distplot\",\"distplot\",\"distplot\",\"distplot\",\"distplot\",\"distplot\",\"distplot\",\"distplot\",\"distplot\",\"distplot\",\"distplot\",\"distplot\",\"distplot\",\"distplot\",\"distplot\",\"distplot\",\"distplot\",\"distplot\",\"distplot\",\"distplot\",\"distplot\",\"distplot\",\"distplot\",\"distplot\",\"distplot\",\"distplot\",\"distplot\",\"distplot\",\"distplot\",\"distplot\",\"distplot\",\"distplot\",\"distplot\",\"distplot\",\"distplot\",\"distplot\",\"distplot\",\"distplot\",\"distplot\",\"distplot\",\"distplot\",\"distplot\",\"distplot\",\"distplot\",\"distplot\",\"distplot\",\"distplot\",\"distplot\",\"distplot\",\"distplot\",\"distplot\",\"distplot\",\"distplot\",\"distplot\",\"distplot\",\"distplot\",\"distplot\",\"distplot\",\"distplot\",\"distplot\",\"distplot\",\"distplot\",\"distplot\",\"distplot\",\"distplot\",\"distplot\",\"distplot\",\"distplot\",\"distplot\",\"distplot\",\"distplot\",\"distplot\",\"distplot\",\"distplot\",\"distplot\",\"distplot\",\"distplot\",\"distplot\",\"distplot\",\"distplot\",\"distplot\",\"distplot\",\"distplot\",\"distplot\",\"distplot\",\"distplot\",\"distplot\",\"distplot\",\"distplot\",\"distplot\",\"distplot\",\"distplot\",\"distplot\",\"distplot\",\"distplot\",\"distplot\",\"distplot\",\"distplot\",\"distplot\",\"distplot\",\"distplot\",\"distplot\",\"distplot\",\"distplot\",\"distplot\",\"distplot\",\"distplot\",\"distplot\",\"distplot\",\"distplot\",\"distplot\",\"distplot\",\"distplot\",\"distplot\",\"distplot\",\"distplot\",\"distplot\",\"distplot\",\"distplot\",\"distplot\",\"distplot\",\"distplot\",\"distplot\",\"distplot\",\"distplot\",\"distplot\",\"distplot\",\"distplot\",\"distplot\",\"distplot\",\"distplot\",\"distplot\",\"distplot\",\"distplot\",\"distplot\",\"distplot\",\"distplot\",\"distplot\",\"distplot\",\"distplot\",\"distplot\",\"distplot\",\"distplot\",\"distplot\",\"distplot\",\"distplot\",\"distplot\",\"distplot\",\"distplot\",\"distplot\",\"distplot\",\"distplot\",\"distplot\",\"distplot\",\"distplot\",\"distplot\",\"distplot\",\"distplot\",\"distplot\",\"distplot\",\"distplot\",\"distplot\",\"distplot\",\"distplot\",\"distplot\",\"distplot\",\"distplot\",\"distplot\",\"distplot\",\"distplot\",\"distplot\",\"distplot\",\"distplot\",\"distplot\",\"distplot\",\"distplot\",\"distplot\",\"distplot\",\"distplot\",\"distplot\",\"distplot\",\"distplot\",\"distplot\",\"distplot\",\"distplot\",\"distplot\",\"distplot\",\"distplot\",\"distplot\",\"distplot\",\"distplot\",\"distplot\",\"distplot\",\"distplot\",\"distplot\",\"distplot\",\"distplot\",\"distplot\",\"distplot\",\"distplot\",\"distplot\",\"distplot\",\"distplot\",\"distplot\",\"distplot\",\"distplot\",\"distplot\",\"distplot\",\"distplot\",\"distplot\",\"distplot\",\"distplot\",\"distplot\",\"distplot\",\"distplot\",\"distplot\",\"distplot\",\"distplot\",\"distplot\",\"distplot\",\"distplot\",\"distplot\",\"distplot\",\"distplot\",\"distplot\",\"distplot\",\"distplot\",\"distplot\",\"distplot\",\"distplot\",\"distplot\",\"distplot\",\"distplot\",\"distplot\",\"distplot\",\"distplot\",\"distplot\",\"distplot\",\"distplot\",\"distplot\",\"distplot\",\"distplot\",\"distplot\",\"distplot\",\"distplot\",\"distplot\",\"distplot\",\"distplot\",\"distplot\",\"distplot\",\"distplot\",\"distplot\",\"distplot\",\"distplot\",\"distplot\",\"distplot\",\"distplot\",\"distplot\",\"distplot\",\"distplot\",\"distplot\",\"distplot\",\"distplot\",\"distplot\",\"distplot\",\"distplot\",\"distplot\",\"distplot\",\"distplot\",\"distplot\",\"distplot\",\"distplot\",\"distplot\",\"distplot\",\"distplot\",\"distplot\",\"distplot\",\"distplot\",\"distplot\",\"distplot\",\"distplot\",\"distplot\",\"distplot\",\"distplot\",\"distplot\",\"distplot\",\"distplot\",\"distplot\",\"distplot\",\"distplot\",\"distplot\",\"distplot\",\"distplot\",\"distplot\",\"distplot\",\"distplot\",\"distplot\",\"distplot\",\"distplot\",\"distplot\",\"distplot\",\"distplot\",\"distplot\",\"distplot\",\"distplot\",\"distplot\",\"distplot\",\"distplot\",\"distplot\",\"distplot\",\"distplot\",\"distplot\",\"distplot\",\"distplot\",\"distplot\",\"distplot\",\"distplot\",\"distplot\",\"distplot\",\"distplot\",\"distplot\",\"distplot\",\"distplot\",\"distplot\",\"distplot\",\"distplot\",\"distplot\",\"distplot\",\"distplot\",\"distplot\",\"distplot\",\"distplot\",\"distplot\",\"distplot\",\"distplot\",\"distplot\",\"distplot\",\"distplot\",\"distplot\",\"distplot\",\"distplot\",\"distplot\",\"distplot\",\"distplot\",\"distplot\",\"distplot\",\"distplot\",\"distplot\",\"distplot\",\"distplot\",\"distplot\",\"distplot\",\"distplot\",\"distplot\",\"distplot\",\"distplot\",\"distplot\",\"distplot\",\"distplot\",\"distplot\",\"distplot\",\"distplot\",\"distplot\",\"distplot\",\"distplot\",\"distplot\",\"distplot\",\"distplot\",\"distplot\",\"distplot\",\"distplot\",\"distplot\",\"distplot\",\"distplot\",\"distplot\",\"distplot\",\"distplot\",\"distplot\",\"distplot\",\"distplot\",\"distplot\",\"distplot\",\"distplot\",\"distplot\",\"distplot\",\"distplot\",\"distplot\",\"distplot\",\"distplot\",\"distplot\",\"distplot\",\"distplot\",\"distplot\",\"distplot\",\"distplot\",\"distplot\",\"distplot\",\"distplot\",\"distplot\",\"distplot\",\"distplot\",\"distplot\",\"distplot\",\"distplot\",\"distplot\",\"distplot\",\"distplot\",\"distplot\",\"distplot\",\"distplot\",\"distplot\",\"distplot\",\"distplot\",\"distplot\",\"distplot\",\"distplot\",\"distplot\",\"distplot\",\"distplot\",\"distplot\",\"distplot\",\"distplot\",\"distplot\",\"distplot\",\"distplot\",\"distplot\",\"distplot\",\"distplot\",\"distplot\",\"distplot\",\"distplot\",\"distplot\",\"distplot\",\"distplot\",\"distplot\",\"distplot\",\"distplot\",\"distplot\",\"distplot\",\"distplot\",\"distplot\",\"distplot\",\"distplot\",\"distplot\",\"distplot\",\"distplot\",\"distplot\",\"distplot\",\"distplot\",\"distplot\",\"distplot\",\"distplot\",\"distplot\",\"distplot\",\"distplot\",\"distplot\",\"distplot\",\"distplot\",\"distplot\",\"distplot\",\"distplot\",\"distplot\",\"distplot\",\"distplot\",\"distplot\",\"distplot\",\"distplot\",\"distplot\",\"distplot\",\"distplot\",\"distplot\",\"distplot\",\"distplot\",\"distplot\",\"distplot\",\"distplot\",\"distplot\",\"distplot\",\"distplot\",\"distplot\",\"distplot\",\"distplot\",\"distplot\",\"distplot\",\"distplot\",\"distplot\",\"distplot\",\"distplot\",\"distplot\",\"distplot\",\"distplot\",\"distplot\",\"distplot\",\"distplot\",\"distplot\",\"distplot\",\"distplot\",\"distplot\",\"distplot\",\"distplot\",\"distplot\",\"distplot\",\"distplot\",\"distplot\",\"distplot\",\"distplot\",\"distplot\",\"distplot\",\"distplot\",\"distplot\",\"distplot\",\"distplot\",\"distplot\",\"distplot\",\"distplot\",\"distplot\",\"distplot\",\"distplot\",\"distplot\",\"distplot\",\"distplot\",\"distplot\",\"distplot\",\"distplot\",\"distplot\",\"distplot\",\"distplot\",\"distplot\",\"distplot\",\"distplot\",\"distplot\",\"distplot\",\"distplot\",\"distplot\",\"distplot\",\"distplot\",\"distplot\",\"distplot\",\"distplot\",\"distplot\",\"distplot\",\"distplot\",\"distplot\",\"distplot\",\"distplot\",\"distplot\",\"distplot\",\"distplot\",\"distplot\",\"distplot\",\"distplot\",\"distplot\",\"distplot\",\"distplot\",\"distplot\",\"distplot\",\"distplot\",\"distplot\",\"distplot\",\"distplot\",\"distplot\",\"distplot\",\"distplot\",\"distplot\",\"distplot\",\"distplot\",\"distplot\",\"distplot\",\"distplot\",\"distplot\",\"distplot\",\"distplot\",\"distplot\",\"distplot\",\"distplot\",\"distplot\",\"distplot\",\"distplot\",\"distplot\",\"distplot\",\"distplot\",\"distplot\",\"distplot\",\"distplot\",\"distplot\",\"distplot\",\"distplot\",\"distplot\",\"distplot\",\"distplot\",\"distplot\",\"distplot\",\"distplot\",\"distplot\",\"distplot\",\"distplot\",\"distplot\",\"distplot\",\"distplot\",\"distplot\",\"distplot\",\"distplot\",\"distplot\",\"distplot\",\"distplot\",\"distplot\",\"distplot\",\"distplot\",\"distplot\",\"distplot\",\"distplot\",\"distplot\",\"distplot\",\"distplot\",\"distplot\",\"distplot\",\"distplot\",\"distplot\",\"distplot\",\"distplot\",\"distplot\",\"distplot\",\"distplot\",\"distplot\",\"distplot\",\"distplot\",\"distplot\",\"distplot\",\"distplot\",\"distplot\",\"distplot\",\"distplot\",\"distplot\",\"distplot\",\"distplot\",\"distplot\",\"distplot\",\"distplot\",\"distplot\",\"distplot\",\"distplot\",\"distplot\",\"distplot\",\"distplot\",\"distplot\",\"distplot\",\"distplot\",\"distplot\",\"distplot\",\"distplot\",\"distplot\",\"distplot\",\"distplot\",\"distplot\",\"distplot\",\"distplot\",\"distplot\",\"distplot\",\"distplot\",\"distplot\",\"distplot\",\"distplot\",\"distplot\",\"distplot\",\"distplot\",\"distplot\",\"distplot\",\"distplot\",\"distplot\",\"distplot\",\"distplot\",\"distplot\",\"distplot\",\"distplot\",\"distplot\",\"distplot\",\"distplot\",\"distplot\",\"distplot\",\"distplot\",\"distplot\",\"distplot\",\"distplot\",\"distplot\",\"distplot\",\"distplot\",\"distplot\",\"distplot\",\"distplot\",\"distplot\",\"distplot\",\"distplot\",\"distplot\",\"distplot\",\"distplot\",\"distplot\",\"distplot\",\"distplot\",\"distplot\",\"distplot\",\"distplot\",\"distplot\",\"distplot\",\"distplot\",\"distplot\",\"distplot\",\"distplot\",\"distplot\",\"distplot\",\"distplot\",\"distplot\",\"distplot\",\"distplot\",\"distplot\",\"distplot\",\"distplot\",\"distplot\",\"distplot\",\"distplot\",\"distplot\",\"distplot\",\"distplot\",\"distplot\",\"distplot\",\"distplot\",\"distplot\",\"distplot\",\"distplot\",\"distplot\",\"distplot\",\"distplot\",\"distplot\",\"distplot\",\"distplot\",\"distplot\",\"distplot\",\"distplot\",\"distplot\",\"distplot\",\"distplot\",\"distplot\",\"distplot\",\"distplot\",\"distplot\",\"distplot\",\"distplot\",\"distplot\",\"distplot\",\"distplot\",\"distplot\",\"distplot\",\"distplot\",\"distplot\",\"distplot\",\"distplot\",\"distplot\",\"distplot\",\"distplot\",\"distplot\",\"distplot\",\"distplot\",\"distplot\",\"distplot\",\"distplot\",\"distplot\",\"distplot\",\"distplot\",\"distplot\",\"distplot\",\"distplot\",\"distplot\",\"distplot\",\"distplot\",\"distplot\",\"distplot\",\"distplot\",\"distplot\",\"distplot\",\"distplot\",\"distplot\",\"distplot\",\"distplot\",\"distplot\",\"distplot\",\"distplot\",\"distplot\",\"distplot\",\"distplot\",\"distplot\",\"distplot\",\"distplot\",\"distplot\",\"distplot\",\"distplot\",\"distplot\",\"distplot\",\"distplot\",\"distplot\",\"distplot\",\"distplot\",\"distplot\",\"distplot\",\"distplot\",\"distplot\",\"distplot\",\"distplot\",\"distplot\",\"distplot\",\"distplot\",\"distplot\",\"distplot\",\"distplot\",\"distplot\",\"distplot\",\"distplot\",\"distplot\",\"distplot\",\"distplot\",\"distplot\",\"distplot\",\"distplot\",\"distplot\",\"distplot\",\"distplot\",\"distplot\",\"distplot\",\"distplot\",\"distplot\",\"distplot\",\"distplot\",\"distplot\",\"distplot\",\"distplot\",\"distplot\",\"distplot\",\"distplot\",\"distplot\",\"distplot\",\"distplot\",\"distplot\",\"distplot\",\"distplot\",\"distplot\",\"distplot\",\"distplot\",\"distplot\",\"distplot\",\"distplot\",\"distplot\",\"distplot\",\"distplot\",\"distplot\",\"distplot\",\"distplot\",\"distplot\",\"distplot\",\"distplot\",\"distplot\",\"distplot\",\"distplot\",\"distplot\",\"distplot\",\"distplot\",\"distplot\",\"distplot\",\"distplot\",\"distplot\",\"distplot\",\"distplot\",\"distplot\",\"distplot\",\"distplot\",\"distplot\",\"distplot\",\"distplot\",\"distplot\",\"distplot\",\"distplot\",\"distplot\",\"distplot\",\"distplot\",\"distplot\",\"distplot\",\"distplot\",\"distplot\",\"distplot\",\"distplot\",\"distplot\",\"distplot\",\"distplot\",\"distplot\",\"distplot\",\"distplot\",\"distplot\",\"distplot\",\"distplot\",\"distplot\",\"distplot\",\"distplot\",\"distplot\",\"distplot\",\"distplot\",\"distplot\",\"distplot\",\"distplot\",\"distplot\",\"distplot\",\"distplot\",\"distplot\",\"distplot\",\"distplot\",\"distplot\",\"distplot\",\"distplot\",\"distplot\",\"distplot\",\"distplot\",\"distplot\",\"distplot\",\"distplot\",\"distplot\",\"distplot\",\"distplot\",\"distplot\",\"distplot\",\"distplot\",\"distplot\",\"distplot\",\"distplot\",\"distplot\",\"distplot\",\"distplot\",\"distplot\",\"distplot\",\"distplot\",\"distplot\",\"distplot\",\"distplot\",\"distplot\",\"distplot\",\"distplot\",\"distplot\",\"distplot\",\"distplot\",\"distplot\",\"distplot\",\"distplot\",\"distplot\",\"distplot\",\"distplot\",\"distplot\",\"distplot\",\"distplot\",\"distplot\",\"distplot\",\"distplot\",\"distplot\",\"distplot\",\"distplot\",\"distplot\",\"distplot\",\"distplot\",\"distplot\",\"distplot\",\"distplot\",\"distplot\",\"distplot\",\"distplot\",\"distplot\",\"distplot\",\"distplot\",\"distplot\",\"distplot\",\"distplot\",\"distplot\",\"distplot\",\"distplot\",\"distplot\",\"distplot\",\"distplot\",\"distplot\",\"distplot\",\"distplot\",\"distplot\",\"distplot\",\"distplot\",\"distplot\",\"distplot\",\"distplot\",\"distplot\",\"distplot\",\"distplot\",\"distplot\",\"distplot\",\"distplot\",\"distplot\",\"distplot\",\"distplot\",\"distplot\",\"distplot\",\"distplot\",\"distplot\",\"distplot\",\"distplot\",\"distplot\",\"distplot\",\"distplot\",\"distplot\",\"distplot\",\"distplot\",\"distplot\",\"distplot\",\"distplot\",\"distplot\",\"distplot\",\"distplot\",\"distplot\",\"distplot\",\"distplot\",\"distplot\",\"distplot\",\"distplot\",\"distplot\",\"distplot\",\"distplot\",\"distplot\",\"distplot\",\"distplot\",\"distplot\",\"distplot\",\"distplot\",\"distplot\",\"distplot\",\"distplot\",\"distplot\",\"distplot\",\"distplot\",\"distplot\",\"distplot\",\"distplot\",\"distplot\",\"distplot\",\"distplot\",\"distplot\",\"distplot\",\"distplot\",\"distplot\",\"distplot\",\"distplot\",\"distplot\",\"distplot\",\"distplot\",\"distplot\",\"distplot\",\"distplot\",\"distplot\",\"distplot\",\"distplot\",\"distplot\",\"distplot\",\"distplot\",\"distplot\",\"distplot\",\"distplot\",\"distplot\",\"distplot\",\"distplot\",\"distplot\",\"distplot\",\"distplot\",\"distplot\",\"distplot\",\"distplot\",\"distplot\",\"distplot\",\"distplot\",\"distplot\",\"distplot\",\"distplot\",\"distplot\",\"distplot\",\"distplot\",\"distplot\",\"distplot\",\"distplot\",\"distplot\",\"distplot\",\"distplot\",\"distplot\",\"distplot\",\"distplot\",\"distplot\",\"distplot\",\"distplot\",\"distplot\",\"distplot\",\"distplot\",\"distplot\",\"distplot\",\"distplot\",\"distplot\",\"distplot\",\"distplot\",\"distplot\",\"distplot\",\"distplot\",\"distplot\",\"distplot\",\"distplot\",\"distplot\",\"distplot\",\"distplot\",\"distplot\",\"distplot\",\"distplot\",\"distplot\",\"distplot\",\"distplot\",\"distplot\",\"distplot\",\"distplot\",\"distplot\",\"distplot\",\"distplot\",\"distplot\",\"distplot\",\"distplot\",\"distplot\",\"distplot\",\"distplot\",\"distplot\",\"distplot\",\"distplot\",\"distplot\",\"distplot\",\"distplot\",\"distplot\",\"distplot\",\"distplot\",\"distplot\",\"distplot\",\"distplot\",\"distplot\",\"distplot\",\"distplot\",\"distplot\",\"distplot\",\"distplot\",\"distplot\",\"distplot\",\"distplot\",\"distplot\",\"distplot\",\"distplot\",\"distplot\",\"distplot\",\"distplot\",\"distplot\",\"distplot\",\"distplot\",\"distplot\",\"distplot\",\"distplot\",\"distplot\",\"distplot\",\"distplot\",\"distplot\",\"distplot\",\"distplot\",\"distplot\",\"distplot\",\"distplot\",\"distplot\",\"distplot\",\"distplot\",\"distplot\",\"distplot\",\"distplot\",\"distplot\",\"distplot\",\"distplot\",\"distplot\",\"distplot\",\"distplot\",\"distplot\",\"distplot\",\"distplot\",\"distplot\",\"distplot\",\"distplot\",\"distplot\",\"distplot\",\"distplot\",\"distplot\",\"distplot\",\"distplot\",\"distplot\",\"distplot\",\"distplot\",\"distplot\",\"distplot\",\"distplot\",\"distplot\",\"distplot\",\"distplot\",\"distplot\",\"distplot\",\"distplot\",\"distplot\",\"distplot\",\"distplot\",\"distplot\",\"distplot\",\"distplot\",\"distplot\",\"distplot\",\"distplot\",\"distplot\",\"distplot\",\"distplot\",\"distplot\",\"distplot\",\"distplot\",\"distplot\",\"distplot\",\"distplot\",\"distplot\",\"distplot\",\"distplot\",\"distplot\",\"distplot\",\"distplot\",\"distplot\",\"distplot\",\"distplot\",\"distplot\",\"distplot\",\"distplot\",\"distplot\",\"distplot\",\"distplot\",\"distplot\",\"distplot\",\"distplot\",\"distplot\",\"distplot\",\"distplot\",\"distplot\",\"distplot\",\"distplot\",\"distplot\",\"distplot\",\"distplot\",\"distplot\",\"distplot\",\"distplot\",\"distplot\",\"distplot\",\"distplot\",\"distplot\",\"distplot\",\"distplot\",\"distplot\",\"distplot\",\"distplot\",\"distplot\",\"distplot\",\"distplot\",\"distplot\",\"distplot\",\"distplot\",\"distplot\",\"distplot\",\"distplot\",\"distplot\",\"distplot\",\"distplot\",\"distplot\",\"distplot\",\"distplot\",\"distplot\",\"distplot\",\"distplot\",\"distplot\",\"distplot\",\"distplot\",\"distplot\",\"distplot\",\"distplot\",\"distplot\",\"distplot\",\"distplot\",\"distplot\",\"distplot\",\"distplot\",\"distplot\",\"distplot\",\"distplot\",\"distplot\",\"distplot\",\"distplot\",\"distplot\",\"distplot\",\"distplot\",\"distplot\",\"distplot\",\"distplot\",\"distplot\",\"distplot\",\"distplot\",\"distplot\",\"distplot\",\"distplot\",\"distplot\",\"distplot\",\"distplot\",\"distplot\",\"distplot\",\"distplot\",\"distplot\",\"distplot\",\"distplot\",\"distplot\",\"distplot\",\"distplot\",\"distplot\",\"distplot\",\"distplot\",\"distplot\",\"distplot\",\"distplot\",\"distplot\",\"distplot\",\"distplot\",\"distplot\",\"distplot\",\"distplot\",\"distplot\",\"distplot\",\"distplot\",\"distplot\",\"distplot\",\"distplot\",\"distplot\",\"distplot\",\"distplot\",\"distplot\",\"distplot\",\"distplot\",\"distplot\",\"distplot\",\"distplot\",\"distplot\",\"distplot\",\"distplot\",\"distplot\",\"distplot\",\"distplot\",\"distplot\",\"distplot\",\"distplot\",\"distplot\",\"distplot\",\"distplot\",\"distplot\",\"distplot\",\"distplot\",\"distplot\",\"distplot\",\"distplot\",\"distplot\",\"distplot\",\"distplot\",\"distplot\",\"distplot\",\"distplot\",\"distplot\",\"distplot\",\"distplot\",\"distplot\",\"distplot\",\"distplot\",\"distplot\",\"distplot\",\"distplot\",\"distplot\",\"distplot\",\"distplot\",\"distplot\",\"distplot\",\"distplot\",\"distplot\",\"distplot\",\"distplot\",\"distplot\",\"distplot\",\"distplot\",\"distplot\",\"distplot\",\"distplot\",\"distplot\",\"distplot\",\"distplot\",\"distplot\",\"distplot\",\"distplot\",\"distplot\",\"distplot\",\"distplot\",\"distplot\",\"distplot\",\"distplot\",\"distplot\",\"distplot\",\"distplot\",\"distplot\",\"distplot\",\"distplot\",\"distplot\",\"distplot\",\"distplot\",\"distplot\",\"distplot\",\"distplot\",\"distplot\",\"distplot\",\"distplot\",\"distplot\",\"distplot\",\"distplot\",\"distplot\",\"distplot\",\"distplot\",\"distplot\",\"distplot\",\"distplot\",\"distplot\",\"distplot\",\"distplot\",\"distplot\",\"distplot\",\"distplot\",\"distplot\",\"distplot\",\"distplot\",\"distplot\",\"distplot\",\"distplot\",\"distplot\",\"distplot\",\"distplot\",\"distplot\",\"distplot\",\"distplot\",\"distplot\",\"distplot\",\"distplot\",\"distplot\",\"distplot\",\"distplot\",\"distplot\",\"distplot\",\"distplot\",\"distplot\",\"distplot\",\"distplot\",\"distplot\",\"distplot\",\"distplot\",\"distplot\",\"distplot\",\"distplot\",\"distplot\",\"distplot\",\"distplot\",\"distplot\",\"distplot\",\"distplot\",\"distplot\",\"distplot\",\"distplot\",\"distplot\",\"distplot\",\"distplot\",\"distplot\",\"distplot\",\"distplot\",\"distplot\",\"distplot\",\"distplot\",\"distplot\",\"distplot\",\"distplot\",\"distplot\",\"distplot\",\"distplot\",\"distplot\",\"distplot\",\"distplot\",\"distplot\",\"distplot\",\"distplot\",\"distplot\",\"distplot\",\"distplot\",\"distplot\",\"distplot\",\"distplot\",\"distplot\",\"distplot\",\"distplot\",\"distplot\",\"distplot\",\"distplot\",\"distplot\",\"distplot\",\"distplot\",\"distplot\",\"distplot\",\"distplot\",\"distplot\",\"distplot\",\"distplot\",\"distplot\",\"distplot\",\"distplot\",\"distplot\",\"distplot\",\"distplot\",\"distplot\",\"distplot\",\"distplot\",\"distplot\",\"distplot\",\"distplot\",\"distplot\",\"distplot\",\"distplot\",\"distplot\",\"distplot\",\"distplot\",\"distplot\",\"distplot\",\"distplot\",\"distplot\",\"distplot\",\"distplot\",\"distplot\",\"distplot\",\"distplot\",\"distplot\",\"distplot\",\"distplot\",\"distplot\",\"distplot\",\"distplot\",\"distplot\",\"distplot\",\"distplot\",\"distplot\",\"distplot\",\"distplot\",\"distplot\",\"distplot\",\"distplot\",\"distplot\",\"distplot\",\"distplot\",\"distplot\",\"distplot\",\"distplot\",\"distplot\",\"distplot\",\"distplot\",\"distplot\",\"distplot\",\"distplot\",\"distplot\",\"distplot\",\"distplot\",\"distplot\",\"distplot\",\"distplot\",\"distplot\",\"distplot\",\"distplot\",\"distplot\",\"distplot\",\"distplot\",\"distplot\",\"distplot\",\"distplot\",\"distplot\",\"distplot\",\"distplot\",\"distplot\",\"distplot\",\"distplot\",\"distplot\",\"distplot\",\"distplot\",\"distplot\",\"distplot\",\"distplot\",\"distplot\",\"distplot\",\"distplot\",\"distplot\",\"distplot\",\"distplot\",\"distplot\",\"distplot\",\"distplot\",\"distplot\",\"distplot\",\"distplot\",\"distplot\",\"distplot\",\"distplot\",\"distplot\",\"distplot\",\"distplot\",\"distplot\",\"distplot\",\"distplot\",\"distplot\",\"distplot\",\"distplot\",\"distplot\",\"distplot\",\"distplot\",\"distplot\",\"distplot\",\"distplot\",\"distplot\",\"distplot\",\"distplot\",\"distplot\",\"distplot\",\"distplot\",\"distplot\",\"distplot\",\"distplot\",\"distplot\",\"distplot\",\"distplot\",\"distplot\",\"distplot\",\"distplot\",\"distplot\",\"distplot\",\"distplot\",\"distplot\",\"distplot\",\"distplot\",\"distplot\",\"distplot\",\"distplot\",\"distplot\",\"distplot\",\"distplot\",\"distplot\",\"distplot\",\"distplot\",\"distplot\",\"distplot\",\"distplot\",\"distplot\",\"distplot\",\"distplot\",\"distplot\",\"distplot\",\"distplot\",\"distplot\",\"distplot\",\"distplot\",\"distplot\",\"distplot\",\"distplot\",\"distplot\",\"distplot\",\"distplot\",\"distplot\",\"distplot\",\"distplot\",\"distplot\",\"distplot\",\"distplot\",\"distplot\",\"distplot\",\"distplot\",\"distplot\",\"distplot\",\"distplot\",\"distplot\",\"distplot\",\"distplot\",\"distplot\",\"distplot\",\"distplot\",\"distplot\",\"distplot\",\"distplot\",\"distplot\",\"distplot\",\"distplot\",\"distplot\",\"distplot\",\"distplot\",\"distplot\",\"distplot\",\"distplot\",\"distplot\",\"distplot\",\"distplot\",\"distplot\",\"distplot\",\"distplot\",\"distplot\",\"distplot\",\"distplot\",\"distplot\",\"distplot\",\"distplot\",\"distplot\",\"distplot\",\"distplot\",\"distplot\",\"distplot\",\"distplot\",\"distplot\",\"distplot\",\"distplot\",\"distplot\",\"distplot\",\"distplot\",\"distplot\",\"distplot\",\"distplot\",\"distplot\",\"distplot\",\"distplot\",\"distplot\",\"distplot\",\"distplot\",\"distplot\",\"distplot\",\"distplot\",\"distplot\",\"distplot\",\"distplot\",\"distplot\",\"distplot\",\"distplot\",\"distplot\",\"distplot\",\"distplot\",\"distplot\",\"distplot\",\"distplot\",\"distplot\",\"distplot\",\"distplot\",\"distplot\",\"distplot\",\"distplot\",\"distplot\",\"distplot\",\"distplot\",\"distplot\",\"distplot\",\"distplot\",\"distplot\",\"distplot\",\"distplot\",\"distplot\",\"distplot\",\"distplot\",\"distplot\",\"distplot\",\"distplot\",\"distplot\",\"distplot\",\"distplot\",\"distplot\",\"distplot\",\"distplot\",\"distplot\",\"distplot\",\"distplot\",\"distplot\",\"distplot\",\"distplot\",\"distplot\",\"distplot\",\"distplot\",\"distplot\",\"distplot\",\"distplot\",\"distplot\",\"distplot\",\"distplot\",\"distplot\",\"distplot\",\"distplot\",\"distplot\",\"distplot\",\"distplot\",\"distplot\",\"distplot\",\"distplot\",\"distplot\",\"distplot\",\"distplot\",\"distplot\",\"distplot\",\"distplot\",\"distplot\",\"distplot\",\"distplot\",\"distplot\",\"distplot\",\"distplot\",\"distplot\",\"distplot\",\"distplot\",\"distplot\",\"distplot\",\"distplot\",\"distplot\",\"distplot\",\"distplot\",\"distplot\",\"distplot\",\"distplot\",\"distplot\",\"distplot\",\"distplot\",\"distplot\",\"distplot\",\"distplot\",\"distplot\",\"distplot\",\"distplot\",\"distplot\",\"distplot\",\"distplot\",\"distplot\",\"distplot\",\"distplot\",\"distplot\",\"distplot\",\"distplot\",\"distplot\",\"distplot\",\"distplot\",\"distplot\",\"distplot\",\"distplot\",\"distplot\",\"distplot\",\"distplot\",\"distplot\",\"distplot\",\"distplot\",\"distplot\",\"distplot\",\"distplot\",\"distplot\",\"distplot\",\"distplot\",\"distplot\",\"distplot\",\"distplot\",\"distplot\",\"distplot\",\"distplot\",\"distplot\",\"distplot\",\"distplot\",\"distplot\",\"distplot\",\"distplot\",\"distplot\",\"distplot\",\"distplot\",\"distplot\",\"distplot\",\"distplot\",\"distplot\",\"distplot\",\"distplot\",\"distplot\",\"distplot\",\"distplot\",\"distplot\",\"distplot\",\"distplot\",\"distplot\",\"distplot\",\"distplot\",\"distplot\",\"distplot\",\"distplot\",\"distplot\",\"distplot\",\"distplot\",\"distplot\",\"distplot\",\"distplot\",\"distplot\",\"distplot\",\"distplot\",\"distplot\",\"distplot\",\"distplot\",\"distplot\",\"distplot\",\"distplot\",\"distplot\",\"distplot\",\"distplot\",\"distplot\",\"distplot\",\"distplot\",\"distplot\",\"distplot\",\"distplot\",\"distplot\",\"distplot\",\"distplot\",\"distplot\",\"distplot\",\"distplot\",\"distplot\",\"distplot\",\"distplot\",\"distplot\",\"distplot\",\"distplot\",\"distplot\",\"distplot\",\"distplot\",\"distplot\",\"distplot\",\"distplot\",\"distplot\",\"distplot\",\"distplot\",\"distplot\",\"distplot\",\"distplot\",\"distplot\",\"distplot\",\"distplot\",\"distplot\",\"distplot\",\"distplot\",\"distplot\",\"distplot\",\"distplot\",\"distplot\",\"distplot\",\"distplot\",\"distplot\",\"distplot\",\"distplot\",\"distplot\",\"distplot\",\"distplot\",\"distplot\",\"distplot\",\"distplot\",\"distplot\",\"distplot\",\"distplot\",\"distplot\",\"distplot\",\"distplot\",\"distplot\",\"distplot\",\"distplot\",\"distplot\",\"distplot\",\"distplot\",\"distplot\",\"distplot\",\"distplot\",\"distplot\",\"distplot\",\"distplot\",\"distplot\",\"distplot\",\"distplot\",\"distplot\",\"distplot\",\"distplot\",\"distplot\",\"distplot\",\"distplot\",\"distplot\",\"distplot\",\"distplot\",\"distplot\",\"distplot\",\"distplot\",\"distplot\",\"distplot\",\"distplot\",\"distplot\",\"distplot\",\"distplot\",\"distplot\",\"distplot\",\"distplot\",\"distplot\",\"distplot\",\"distplot\",\"distplot\",\"distplot\",\"distplot\",\"distplot\",\"distplot\",\"distplot\",\"distplot\",\"distplot\",\"distplot\",\"distplot\",\"distplot\",\"distplot\",\"distplot\",\"distplot\",\"distplot\",\"distplot\",\"distplot\",\"distplot\",\"distplot\",\"distplot\",\"distplot\",\"distplot\",\"distplot\",\"distplot\",\"distplot\",\"distplot\",\"distplot\",\"distplot\",\"distplot\",\"distplot\",\"distplot\",\"distplot\",\"distplot\",\"distplot\",\"distplot\",\"distplot\",\"distplot\",\"distplot\",\"distplot\",\"distplot\",\"distplot\",\"distplot\",\"distplot\",\"distplot\",\"distplot\",\"distplot\",\"distplot\",\"distplot\",\"distplot\",\"distplot\",\"distplot\",\"distplot\",\"distplot\",\"distplot\",\"distplot\",\"distplot\",\"distplot\",\"distplot\",\"distplot\",\"distplot\",\"distplot\",\"distplot\",\"distplot\",\"distplot\",\"distplot\",\"distplot\",\"distplot\",\"distplot\",\"distplot\",\"distplot\",\"distplot\",\"distplot\",\"distplot\",\"distplot\",\"distplot\",\"distplot\",\"distplot\",\"distplot\",\"distplot\",\"distplot\",\"distplot\",\"distplot\",\"distplot\",\"distplot\",\"distplot\",\"distplot\",\"distplot\",\"distplot\",\"distplot\",\"distplot\",\"distplot\",\"distplot\",\"distplot\",\"distplot\",\"distplot\",\"distplot\",\"distplot\",\"distplot\",\"distplot\",\"distplot\",\"distplot\",\"distplot\",\"distplot\",\"distplot\",\"distplot\",\"distplot\",\"distplot\",\"distplot\",\"distplot\",\"distplot\",\"distplot\",\"distplot\",\"distplot\",\"distplot\",\"distplot\",\"distplot\",\"distplot\",\"distplot\",\"distplot\",\"distplot\",\"distplot\",\"distplot\",\"distplot\",\"distplot\",\"distplot\",\"distplot\",\"distplot\",\"distplot\",\"distplot\",\"distplot\",\"distplot\",\"distplot\",\"distplot\",\"distplot\",\"distplot\",\"distplot\",\"distplot\",\"distplot\",\"distplot\",\"distplot\",\"distplot\",\"distplot\",\"distplot\",\"distplot\",\"distplot\",\"distplot\",\"distplot\",\"distplot\",\"distplot\",\"distplot\",\"distplot\",\"distplot\",\"distplot\",\"distplot\",\"distplot\",\"distplot\",\"distplot\",\"distplot\",\"distplot\",\"distplot\",\"distplot\",\"distplot\",\"distplot\",\"distplot\",\"distplot\",\"distplot\",\"distplot\",\"distplot\",\"distplot\",\"distplot\",\"distplot\",\"distplot\",\"distplot\",\"distplot\",\"distplot\",\"distplot\",\"distplot\",\"distplot\",\"distplot\",\"distplot\",\"distplot\",\"distplot\",\"distplot\",\"distplot\",\"distplot\",\"distplot\",\"distplot\",\"distplot\",\"distplot\",\"distplot\",\"distplot\",\"distplot\",\"distplot\",\"distplot\",\"distplot\",\"distplot\",\"distplot\",\"distplot\",\"distplot\",\"distplot\",\"distplot\",\"distplot\",\"distplot\",\"distplot\",\"distplot\",\"distplot\",\"distplot\",\"distplot\",\"distplot\",\"distplot\",\"distplot\",\"distplot\",\"distplot\",\"distplot\",\"distplot\",\"distplot\",\"distplot\",\"distplot\",\"distplot\",\"distplot\",\"distplot\",\"distplot\",\"distplot\",\"distplot\",\"distplot\",\"distplot\",\"distplot\",\"distplot\",\"distplot\",\"distplot\",\"distplot\",\"distplot\",\"distplot\",\"distplot\",\"distplot\",\"distplot\",\"distplot\",\"distplot\",\"distplot\",\"distplot\",\"distplot\",\"distplot\",\"distplot\",\"distplot\",\"distplot\",\"distplot\",\"distplot\",\"distplot\",\"distplot\",\"distplot\",\"distplot\",\"distplot\",\"distplot\",\"distplot\",\"distplot\",\"distplot\",\"distplot\",\"distplot\",\"distplot\",\"distplot\",\"distplot\",\"distplot\",\"distplot\",\"distplot\",\"distplot\",\"distplot\",\"distplot\",\"distplot\",\"distplot\",\"distplot\",\"distplot\",\"distplot\",\"distplot\",\"distplot\",\"distplot\",\"distplot\",\"distplot\",\"distplot\",\"distplot\",\"distplot\",\"distplot\",\"distplot\",\"distplot\",\"distplot\",\"distplot\",\"distplot\",\"distplot\",\"distplot\",\"distplot\",\"distplot\",\"distplot\",\"distplot\",\"distplot\",\"distplot\",\"distplot\",\"distplot\",\"distplot\",\"distplot\",\"distplot\",\"distplot\",\"distplot\",\"distplot\",\"distplot\",\"distplot\",\"distplot\",\"distplot\",\"distplot\",\"distplot\",\"distplot\",\"distplot\",\"distplot\",\"distplot\",\"distplot\",\"distplot\",\"distplot\",\"distplot\",\"distplot\",\"distplot\",\"distplot\",\"distplot\",\"distplot\",\"distplot\",\"distplot\",\"distplot\",\"distplot\",\"distplot\",\"distplot\",\"distplot\",\"distplot\",\"distplot\",\"distplot\",\"distplot\",\"distplot\",\"distplot\",\"distplot\",\"distplot\",\"distplot\",\"distplot\",\"distplot\",\"distplot\",\"distplot\",\"distplot\",\"distplot\",\"distplot\",\"distplot\",\"distplot\",\"distplot\",\"distplot\",\"distplot\",\"distplot\",\"distplot\",\"distplot\",\"distplot\",\"distplot\",\"distplot\",\"distplot\",\"distplot\",\"distplot\",\"distplot\",\"distplot\",\"distplot\",\"distplot\",\"distplot\",\"distplot\",\"distplot\",\"distplot\",\"distplot\",\"distplot\",\"distplot\",\"distplot\",\"distplot\",\"distplot\",\"distplot\",\"distplot\",\"distplot\",\"distplot\",\"distplot\",\"distplot\",\"distplot\",\"distplot\",\"distplot\",\"distplot\",\"distplot\",\"distplot\",\"distplot\",\"distplot\",\"distplot\",\"distplot\",\"distplot\",\"distplot\",\"distplot\",\"distplot\",\"distplot\",\"distplot\",\"distplot\",\"distplot\",\"distplot\",\"distplot\",\"distplot\",\"distplot\",\"distplot\",\"distplot\",\"distplot\",\"distplot\",\"distplot\",\"distplot\",\"distplot\",\"distplot\",\"distplot\",\"distplot\",\"distplot\",\"distplot\",\"distplot\",\"distplot\",\"distplot\",\"distplot\",\"distplot\",\"distplot\",\"distplot\",\"distplot\",\"distplot\",\"distplot\",\"distplot\",\"distplot\",\"distplot\",\"distplot\",\"distplot\",\"distplot\",\"distplot\",\"distplot\",\"distplot\",\"distplot\",\"distplot\",\"distplot\",\"distplot\",\"distplot\",\"distplot\",\"distplot\",\"distplot\",\"distplot\",\"distplot\",\"distplot\",\"distplot\",\"distplot\",\"distplot\",\"distplot\",\"distplot\",\"distplot\",\"distplot\",\"distplot\",\"distplot\",\"distplot\",\"distplot\",\"distplot\",\"distplot\",\"distplot\",\"distplot\",\"distplot\",\"distplot\",\"distplot\",\"distplot\",\"distplot\",\"distplot\",\"distplot\",\"distplot\",\"distplot\",\"distplot\",\"distplot\",\"distplot\",\"distplot\",\"distplot\",\"distplot\",\"distplot\",\"distplot\",\"distplot\",\"distplot\",\"distplot\",\"distplot\",\"distplot\",\"distplot\",\"distplot\",\"distplot\",\"distplot\",\"distplot\",\"distplot\",\"distplot\",\"distplot\",\"distplot\",\"distplot\",\"distplot\",\"distplot\",\"distplot\",\"distplot\",\"distplot\",\"distplot\",\"distplot\",\"distplot\",\"distplot\",\"distplot\",\"distplot\",\"distplot\",\"distplot\",\"distplot\",\"distplot\",\"distplot\",\"distplot\",\"distplot\",\"distplot\",\"distplot\",\"distplot\",\"distplot\",\"distplot\",\"distplot\",\"distplot\",\"distplot\",\"distplot\",\"distplot\",\"distplot\",\"distplot\",\"distplot\",\"distplot\",\"distplot\",\"distplot\",\"distplot\",\"distplot\",\"distplot\",\"distplot\",\"distplot\",\"distplot\",\"distplot\",\"distplot\",\"distplot\",\"distplot\",\"distplot\",\"distplot\",\"distplot\",\"distplot\",\"distplot\",\"distplot\",\"distplot\",\"distplot\",\"distplot\",\"distplot\",\"distplot\",\"distplot\",\"distplot\",\"distplot\",\"distplot\",\"distplot\",\"distplot\",\"distplot\",\"distplot\",\"distplot\",\"distplot\",\"distplot\",\"distplot\",\"distplot\",\"distplot\",\"distplot\",\"distplot\",\"distplot\",\"distplot\",\"distplot\",\"distplot\",\"distplot\",\"distplot\",\"distplot\",\"distplot\",\"distplot\",\"distplot\",\"distplot\",\"distplot\",\"distplot\",\"distplot\",\"distplot\",\"distplot\",\"distplot\",\"distplot\",\"distplot\",\"distplot\",\"distplot\",\"distplot\",\"distplot\",\"distplot\",\"distplot\",\"distplot\",\"distplot\",\"distplot\",\"distplot\",\"distplot\",\"distplot\",\"distplot\",\"distplot\",\"distplot\",\"distplot\",\"distplot\",\"distplot\",\"distplot\",\"distplot\",\"distplot\",\"distplot\",\"distplot\",\"distplot\",\"distplot\",\"distplot\",\"distplot\",\"distplot\",\"distplot\",\"distplot\",\"distplot\",\"distplot\",\"distplot\",\"distplot\",\"distplot\",\"distplot\",\"distplot\",\"distplot\",\"distplot\",\"distplot\",\"distplot\",\"distplot\",\"distplot\",\"distplot\",\"distplot\",\"distplot\",\"distplot\",\"distplot\",\"distplot\",\"distplot\",\"distplot\",\"distplot\",\"distplot\",\"distplot\",\"distplot\",\"distplot\",\"distplot\",\"distplot\",\"distplot\",\"distplot\",\"distplot\",\"distplot\",\"distplot\",\"distplot\",\"distplot\",\"distplot\",\"distplot\",\"distplot\",\"distplot\",\"distplot\",\"distplot\",\"distplot\",\"distplot\",\"distplot\",\"distplot\",\"distplot\",\"distplot\",\"distplot\",\"distplot\",\"distplot\",\"distplot\",\"distplot\",\"distplot\",\"distplot\",\"distplot\",\"distplot\",\"distplot\",\"distplot\",\"distplot\",\"distplot\",\"distplot\",\"distplot\",\"distplot\",\"distplot\",\"distplot\",\"distplot\",\"distplot\",\"distplot\",\"distplot\",\"distplot\",\"distplot\",\"distplot\",\"distplot\",\"distplot\",\"distplot\",\"distplot\",\"distplot\",\"distplot\",\"distplot\",\"distplot\",\"distplot\",\"distplot\",\"distplot\",\"distplot\",\"distplot\",\"distplot\",\"distplot\",\"distplot\",\"distplot\",\"distplot\",\"distplot\",\"distplot\",\"distplot\",\"distplot\",\"distplot\",\"distplot\",\"distplot\",\"distplot\",\"distplot\",\"distplot\",\"distplot\",\"distplot\",\"distplot\",\"distplot\",\"distplot\",\"distplot\",\"distplot\",\"distplot\",\"distplot\",\"distplot\",\"distplot\",\"distplot\",\"distplot\",\"distplot\",\"distplot\",\"distplot\",\"distplot\",\"distplot\",\"distplot\",\"distplot\",\"distplot\",\"distplot\",\"distplot\",\"distplot\",\"distplot\",\"distplot\",\"distplot\",\"distplot\",\"distplot\",\"distplot\",\"distplot\",\"distplot\",\"distplot\",\"distplot\",\"distplot\",\"distplot\",\"distplot\",\"distplot\",\"distplot\",\"distplot\",\"distplot\",\"distplot\",\"distplot\",\"distplot\",\"distplot\",\"distplot\",\"distplot\",\"distplot\",\"distplot\",\"distplot\",\"distplot\",\"distplot\",\"distplot\",\"distplot\",\"distplot\",\"distplot\",\"distplot\",\"distplot\",\"distplot\",\"distplot\",\"distplot\",\"distplot\",\"distplot\",\"distplot\",\"distplot\",\"distplot\",\"distplot\",\"distplot\",\"distplot\",\"distplot\",\"distplot\",\"distplot\",\"distplot\",\"distplot\",\"distplot\",\"distplot\",\"distplot\",\"distplot\",\"distplot\",\"distplot\",\"distplot\",\"distplot\",\"distplot\",\"distplot\",\"distplot\",\"distplot\",\"distplot\",\"distplot\",\"distplot\",\"distplot\",\"distplot\",\"distplot\",\"distplot\",\"distplot\",\"distplot\",\"distplot\",\"distplot\",\"distplot\",\"distplot\",\"distplot\",\"distplot\",\"distplot\",\"distplot\",\"distplot\",\"distplot\",\"distplot\",\"distplot\",\"distplot\",\"distplot\",\"distplot\",\"distplot\",\"distplot\",\"distplot\",\"distplot\",\"distplot\",\"distplot\",\"distplot\",\"distplot\",\"distplot\",\"distplot\",\"distplot\",\"distplot\",\"distplot\",\"distplot\",\"distplot\",\"distplot\",\"distplot\",\"distplot\",\"distplot\",\"distplot\",\"distplot\",\"distplot\",\"distplot\",\"distplot\",\"distplot\",\"distplot\",\"distplot\",\"distplot\",\"distplot\",\"distplot\",\"distplot\",\"distplot\",\"distplot\",\"distplot\",\"distplot\",\"distplot\",\"distplot\",\"distplot\",\"distplot\",\"distplot\",\"distplot\",\"distplot\",\"distplot\",\"distplot\",\"distplot\",\"distplot\",\"distplot\",\"distplot\",\"distplot\",\"distplot\",\"distplot\",\"distplot\",\"distplot\",\"distplot\",\"distplot\",\"distplot\",\"distplot\",\"distplot\",\"distplot\",\"distplot\",\"distplot\",\"distplot\",\"distplot\",\"distplot\",\"distplot\",\"distplot\",\"distplot\",\"distplot\",\"distplot\",\"distplot\",\"distplot\",\"distplot\",\"distplot\",\"distplot\",\"distplot\",\"distplot\",\"distplot\",\"distplot\",\"distplot\",\"distplot\",\"distplot\",\"distplot\",\"distplot\",\"distplot\",\"distplot\",\"distplot\",\"distplot\",\"distplot\",\"distplot\",\"distplot\",\"distplot\",\"distplot\",\"distplot\",\"distplot\",\"distplot\",\"distplot\",\"distplot\",\"distplot\",\"distplot\",\"distplot\",\"distplot\",\"distplot\",\"distplot\",\"distplot\",\"distplot\",\"distplot\",\"distplot\",\"distplot\",\"distplot\",\"distplot\",\"distplot\",\"distplot\",\"distplot\",\"distplot\",\"distplot\",\"distplot\",\"distplot\",\"distplot\",\"distplot\",\"distplot\",\"distplot\",\"distplot\",\"distplot\",\"distplot\",\"distplot\",\"distplot\",\"distplot\",\"distplot\",\"distplot\",\"distplot\",\"distplot\",\"distplot\",\"distplot\",\"distplot\",\"distplot\",\"distplot\",\"distplot\",\"distplot\",\"distplot\",\"distplot\",\"distplot\",\"distplot\",\"distplot\",\"distplot\",\"distplot\",\"distplot\",\"distplot\",\"distplot\",\"distplot\",\"distplot\",\"distplot\",\"distplot\",\"distplot\",\"distplot\",\"distplot\",\"distplot\",\"distplot\",\"distplot\",\"distplot\",\"distplot\",\"distplot\",\"distplot\",\"distplot\",\"distplot\",\"distplot\",\"distplot\",\"distplot\",\"distplot\",\"distplot\",\"distplot\",\"distplot\",\"distplot\",\"distplot\",\"distplot\",\"distplot\",\"distplot\",\"distplot\",\"distplot\",\"distplot\",\"distplot\",\"distplot\",\"distplot\",\"distplot\",\"distplot\",\"distplot\",\"distplot\",\"distplot\",\"distplot\",\"distplot\",\"distplot\",\"distplot\",\"distplot\",\"distplot\",\"distplot\",\"distplot\",\"distplot\",\"distplot\",\"distplot\",\"distplot\",\"distplot\",\"distplot\",\"distplot\",\"distplot\",\"distplot\",\"distplot\",\"distplot\",\"distplot\",\"distplot\",\"distplot\",\"distplot\",\"distplot\",\"distplot\",\"distplot\",\"distplot\",\"distplot\",\"distplot\",\"distplot\",\"distplot\",\"distplot\",\"distplot\",\"distplot\",\"distplot\",\"distplot\",\"distplot\",\"distplot\",\"distplot\",\"distplot\",\"distplot\",\"distplot\",\"distplot\",\"distplot\",\"distplot\",\"distplot\",\"distplot\",\"distplot\",\"distplot\",\"distplot\",\"distplot\",\"distplot\",\"distplot\",\"distplot\",\"distplot\",\"distplot\",\"distplot\",\"distplot\",\"distplot\",\"distplot\",\"distplot\",\"distplot\",\"distplot\",\"distplot\",\"distplot\",\"distplot\",\"distplot\",\"distplot\",\"distplot\",\"distplot\",\"distplot\",\"distplot\",\"distplot\",\"distplot\",\"distplot\",\"distplot\",\"distplot\",\"distplot\",\"distplot\",\"distplot\",\"distplot\",\"distplot\",\"distplot\",\"distplot\",\"distplot\",\"distplot\",\"distplot\",\"distplot\",\"distplot\",\"distplot\",\"distplot\",\"distplot\",\"distplot\",\"distplot\",\"distplot\",\"distplot\",\"distplot\",\"distplot\",\"distplot\",\"distplot\",\"distplot\",\"distplot\",\"distplot\",\"distplot\",\"distplot\",\"distplot\",\"distplot\",\"distplot\",\"distplot\",\"distplot\",\"distplot\",\"distplot\",\"distplot\",\"distplot\",\"distplot\",\"distplot\",\"distplot\",\"distplot\",\"distplot\",\"distplot\",\"distplot\",\"distplot\",\"distplot\",\"distplot\",\"distplot\",\"distplot\",\"distplot\",\"distplot\",\"distplot\",\"distplot\",\"distplot\",\"distplot\",\"distplot\",\"distplot\",\"distplot\",\"distplot\",\"distplot\",\"distplot\",\"distplot\",\"distplot\",\"distplot\",\"distplot\",\"distplot\",\"distplot\",\"distplot\",\"distplot\",\"distplot\",\"distplot\",\"distplot\",\"distplot\",\"distplot\",\"distplot\",\"distplot\",\"distplot\",\"distplot\",\"distplot\",\"distplot\",\"distplot\",\"distplot\",\"distplot\",\"distplot\",\"distplot\",\"distplot\",\"distplot\",\"distplot\",\"distplot\",\"distplot\",\"distplot\",\"distplot\",\"distplot\",\"distplot\",\"distplot\",\"distplot\",\"distplot\",\"distplot\",\"distplot\",\"distplot\",\"distplot\",\"distplot\",\"distplot\",\"distplot\",\"distplot\",\"distplot\",\"distplot\",\"distplot\",\"distplot\",\"distplot\",\"distplot\",\"distplot\",\"distplot\",\"distplot\",\"distplot\",\"distplot\",\"distplot\",\"distplot\",\"distplot\",\"distplot\",\"distplot\",\"distplot\",\"distplot\",\"distplot\",\"distplot\",\"distplot\",\"distplot\",\"distplot\",\"distplot\",\"distplot\",\"distplot\",\"distplot\",\"distplot\",\"distplot\",\"distplot\",\"distplot\",\"distplot\",\"distplot\",\"distplot\",\"distplot\",\"distplot\",\"distplot\",\"distplot\",\"distplot\",\"distplot\",\"distplot\",\"distplot\",\"distplot\",\"distplot\",\"distplot\",\"distplot\",\"distplot\",\"distplot\",\"distplot\",\"distplot\",\"distplot\",\"distplot\",\"distplot\",\"distplot\",\"distplot\",\"distplot\",\"distplot\",\"distplot\",\"distplot\",\"distplot\",\"distplot\",\"distplot\",\"distplot\",\"distplot\",\"distplot\",\"distplot\",\"distplot\",\"distplot\",\"distplot\",\"distplot\",\"distplot\",\"distplot\",\"distplot\",\"distplot\",\"distplot\",\"distplot\",\"distplot\",\"distplot\",\"distplot\",\"distplot\",\"distplot\",\"distplot\",\"distplot\",\"distplot\",\"distplot\",\"distplot\",\"distplot\",\"distplot\",\"distplot\",\"distplot\",\"distplot\",\"distplot\",\"distplot\",\"distplot\",\"distplot\",\"distplot\",\"distplot\",\"distplot\",\"distplot\",\"distplot\",\"distplot\",\"distplot\",\"distplot\",\"distplot\",\"distplot\",\"distplot\",\"distplot\",\"distplot\",\"distplot\",\"distplot\",\"distplot\",\"distplot\",\"distplot\",\"distplot\",\"distplot\",\"distplot\",\"distplot\",\"distplot\",\"distplot\",\"distplot\",\"distplot\",\"distplot\",\"distplot\",\"distplot\",\"distplot\",\"distplot\",\"distplot\",\"distplot\",\"distplot\",\"distplot\",\"distplot\",\"distplot\",\"distplot\",\"distplot\",\"distplot\",\"distplot\",\"distplot\",\"distplot\",\"distplot\",\"distplot\",\"distplot\",\"distplot\",\"distplot\",\"distplot\",\"distplot\",\"distplot\",\"distplot\",\"distplot\",\"distplot\",\"distplot\",\"distplot\",\"distplot\",\"distplot\",\"distplot\",\"distplot\",\"distplot\",\"distplot\",\"distplot\",\"distplot\",\"distplot\",\"distplot\",\"distplot\",\"distplot\",\"distplot\",\"distplot\",\"distplot\",\"distplot\",\"distplot\",\"distplot\",\"distplot\",\"distplot\",\"distplot\",\"distplot\",\"distplot\",\"distplot\",\"distplot\",\"distplot\",\"distplot\",\"distplot\",\"distplot\",\"distplot\",\"distplot\",\"distplot\",\"distplot\",\"distplot\",\"distplot\",\"distplot\",\"distplot\",\"distplot\",\"distplot\",\"distplot\",\"distplot\",\"distplot\",\"distplot\",\"distplot\",\"distplot\",\"distplot\",\"distplot\",\"distplot\",\"distplot\",\"distplot\",\"distplot\",\"distplot\",\"distplot\",\"distplot\",\"distplot\",\"distplot\",\"distplot\",\"distplot\",\"distplot\",\"distplot\",\"distplot\",\"distplot\",\"distplot\",\"distplot\",\"distplot\",\"distplot\",\"distplot\",\"distplot\",\"distplot\",\"distplot\",\"distplot\",\"distplot\",\"distplot\",\"distplot\",\"distplot\",\"distplot\",\"distplot\",\"distplot\",\"distplot\",\"distplot\",\"distplot\",\"distplot\",\"distplot\",\"distplot\",\"distplot\",\"distplot\",\"distplot\",\"distplot\",\"distplot\",\"distplot\",\"distplot\",\"distplot\",\"distplot\",\"distplot\",\"distplot\",\"distplot\",\"distplot\",\"distplot\",\"distplot\",\"distplot\",\"distplot\",\"distplot\",\"distplot\",\"distplot\",\"distplot\",\"distplot\",\"distplot\",\"distplot\",\"distplot\",\"distplot\",\"distplot\",\"distplot\",\"distplot\",\"distplot\",\"distplot\",\"distplot\",\"distplot\",\"distplot\",\"distplot\",\"distplot\",\"distplot\",\"distplot\",\"distplot\",\"distplot\",\"distplot\",\"distplot\",\"distplot\",\"distplot\",\"distplot\",\"distplot\",\"distplot\",\"distplot\",\"distplot\",\"distplot\",\"distplot\",\"distplot\",\"distplot\",\"distplot\",\"distplot\",\"distplot\",\"distplot\",\"distplot\",\"distplot\",\"distplot\",\"distplot\",\"distplot\",\"distplot\",\"distplot\",\"distplot\",\"distplot\",\"distplot\",\"distplot\",\"distplot\",\"distplot\",\"distplot\",\"distplot\",\"distplot\",\"distplot\",\"distplot\",\"distplot\",\"distplot\",\"distplot\",\"distplot\",\"distplot\",\"distplot\",\"distplot\",\"distplot\",\"distplot\",\"distplot\",\"distplot\",\"distplot\",\"distplot\",\"distplot\",\"distplot\",\"distplot\",\"distplot\",\"distplot\",\"distplot\",\"distplot\",\"distplot\",\"distplot\",\"distplot\",\"distplot\",\"distplot\",\"distplot\",\"distplot\",\"distplot\",\"distplot\",\"distplot\",\"distplot\",\"distplot\",\"distplot\",\"distplot\",\"distplot\",\"distplot\",\"distplot\",\"distplot\",\"distplot\",\"distplot\",\"distplot\",\"distplot\",\"distplot\",\"distplot\",\"distplot\",\"distplot\",\"distplot\",\"distplot\",\"distplot\",\"distplot\",\"distplot\",\"distplot\",\"distplot\",\"distplot\",\"distplot\",\"distplot\",\"distplot\",\"distplot\",\"distplot\",\"distplot\",\"distplot\",\"distplot\",\"distplot\",\"distplot\",\"distplot\",\"distplot\",\"distplot\",\"distplot\",\"distplot\",\"distplot\",\"distplot\",\"distplot\",\"distplot\",\"distplot\",\"distplot\",\"distplot\",\"distplot\",\"distplot\",\"distplot\",\"distplot\",\"distplot\",\"distplot\",\"distplot\",\"distplot\",\"distplot\",\"distplot\",\"distplot\",\"distplot\",\"distplot\",\"distplot\",\"distplot\",\"distplot\",\"distplot\",\"distplot\",\"distplot\",\"distplot\",\"distplot\",\"distplot\",\"distplot\",\"distplot\",\"distplot\",\"distplot\",\"distplot\",\"distplot\",\"distplot\",\"distplot\",\"distplot\",\"distplot\",\"distplot\",\"distplot\",\"distplot\",\"distplot\",\"distplot\",\"distplot\",\"distplot\",\"distplot\",\"distplot\",\"distplot\",\"distplot\",\"distplot\",\"distplot\",\"distplot\",\"distplot\",\"distplot\",\"distplot\",\"distplot\",\"distplot\",\"distplot\",\"distplot\",\"distplot\",\"distplot\",\"distplot\",\"distplot\",\"distplot\",\"distplot\",\"distplot\",\"distplot\",\"distplot\",\"distplot\",\"distplot\",\"distplot\",\"distplot\",\"distplot\",\"distplot\",\"distplot\",\"distplot\",\"distplot\",\"distplot\",\"distplot\",\"distplot\",\"distplot\",\"distplot\",\"distplot\",\"distplot\",\"distplot\",\"distplot\",\"distplot\",\"distplot\",\"distplot\",\"distplot\",\"distplot\",\"distplot\",\"distplot\",\"distplot\",\"distplot\",\"distplot\",\"distplot\",\"distplot\",\"distplot\",\"distplot\",\"distplot\",\"distplot\",\"distplot\",\"distplot\",\"distplot\",\"distplot\",\"distplot\",\"distplot\",\"distplot\",\"distplot\",\"distplot\",\"distplot\",\"distplot\",\"distplot\",\"distplot\",\"distplot\",\"distplot\",\"distplot\",\"distplot\",\"distplot\",\"distplot\",\"distplot\",\"distplot\",\"distplot\",\"distplot\",\"distplot\",\"distplot\",\"distplot\",\"distplot\",\"distplot\",\"distplot\",\"distplot\",\"distplot\",\"distplot\",\"distplot\",\"distplot\",\"distplot\",\"distplot\",\"distplot\",\"distplot\",\"distplot\",\"distplot\",\"distplot\",\"distplot\",\"distplot\",\"distplot\",\"distplot\",\"distplot\",\"distplot\",\"distplot\",\"distplot\",\"distplot\",\"distplot\",\"distplot\",\"distplot\",\"distplot\",\"distplot\",\"distplot\",\"distplot\",\"distplot\",\"distplot\",\"distplot\",\"distplot\",\"distplot\",\"distplot\",\"distplot\",\"distplot\",\"distplot\",\"distplot\",\"distplot\",\"distplot\",\"distplot\",\"distplot\",\"distplot\",\"distplot\",\"distplot\",\"distplot\",\"distplot\",\"distplot\",\"distplot\",\"distplot\",\"distplot\",\"distplot\",\"distplot\",\"distplot\",\"distplot\",\"distplot\",\"distplot\",\"distplot\",\"distplot\",\"distplot\",\"distplot\",\"distplot\",\"distplot\",\"distplot\",\"distplot\",\"distplot\",\"distplot\",\"distplot\",\"distplot\",\"distplot\",\"distplot\",\"distplot\",\"distplot\",\"distplot\",\"distplot\",\"distplot\",\"distplot\",\"distplot\",\"distplot\",\"distplot\",\"distplot\",\"distplot\",\"distplot\",\"distplot\",\"distplot\",\"distplot\",\"distplot\",\"distplot\",\"distplot\",\"distplot\"],\"yaxis\":\"y2\",\"type\":\"scatter\"}],                        {\"barmode\":\"overlay\",\"hovermode\":\"closest\",\"legend\":{\"traceorder\":\"reversed\"},\"xaxis\":{\"anchor\":\"y2\",\"domain\":[0.0,1.0],\"zeroline\":false},\"yaxis\":{\"anchor\":\"free\",\"domain\":[0.35,1],\"position\":0.0},\"yaxis2\":{\"anchor\":\"x\",\"domain\":[0,0.25],\"dtick\":1,\"showticklabels\":false},\"template\":{\"data\":{\"barpolar\":[{\"marker\":{\"line\":{\"color\":\"rgb(17,17,17)\",\"width\":0.5},\"pattern\":{\"fillmode\":\"overlay\",\"size\":10,\"solidity\":0.2}},\"type\":\"barpolar\"}],\"bar\":[{\"error_x\":{\"color\":\"#f2f5fa\"},\"error_y\":{\"color\":\"#f2f5fa\"},\"marker\":{\"line\":{\"color\":\"rgb(17,17,17)\",\"width\":0.5},\"pattern\":{\"fillmode\":\"overlay\",\"size\":10,\"solidity\":0.2}},\"type\":\"bar\"}],\"carpet\":[{\"aaxis\":{\"endlinecolor\":\"#A2B1C6\",\"gridcolor\":\"#506784\",\"linecolor\":\"#506784\",\"minorgridcolor\":\"#506784\",\"startlinecolor\":\"#A2B1C6\"},\"baxis\":{\"endlinecolor\":\"#A2B1C6\",\"gridcolor\":\"#506784\",\"linecolor\":\"#506784\",\"minorgridcolor\":\"#506784\",\"startlinecolor\":\"#A2B1C6\"},\"type\":\"carpet\"}],\"choropleth\":[{\"colorbar\":{\"outlinewidth\":0,\"ticks\":\"\"},\"type\":\"choropleth\"}],\"contourcarpet\":[{\"colorbar\":{\"outlinewidth\":0,\"ticks\":\"\"},\"type\":\"contourcarpet\"}],\"contour\":[{\"colorbar\":{\"outlinewidth\":0,\"ticks\":\"\"},\"colorscale\":[[0.0,\"#0d0887\"],[0.1111111111111111,\"#46039f\"],[0.2222222222222222,\"#7201a8\"],[0.3333333333333333,\"#9c179e\"],[0.4444444444444444,\"#bd3786\"],[0.5555555555555556,\"#d8576b\"],[0.6666666666666666,\"#ed7953\"],[0.7777777777777778,\"#fb9f3a\"],[0.8888888888888888,\"#fdca26\"],[1.0,\"#f0f921\"]],\"type\":\"contour\"}],\"heatmapgl\":[{\"colorbar\":{\"outlinewidth\":0,\"ticks\":\"\"},\"colorscale\":[[0.0,\"#0d0887\"],[0.1111111111111111,\"#46039f\"],[0.2222222222222222,\"#7201a8\"],[0.3333333333333333,\"#9c179e\"],[0.4444444444444444,\"#bd3786\"],[0.5555555555555556,\"#d8576b\"],[0.6666666666666666,\"#ed7953\"],[0.7777777777777778,\"#fb9f3a\"],[0.8888888888888888,\"#fdca26\"],[1.0,\"#f0f921\"]],\"type\":\"heatmapgl\"}],\"heatmap\":[{\"colorbar\":{\"outlinewidth\":0,\"ticks\":\"\"},\"colorscale\":[[0.0,\"#0d0887\"],[0.1111111111111111,\"#46039f\"],[0.2222222222222222,\"#7201a8\"],[0.3333333333333333,\"#9c179e\"],[0.4444444444444444,\"#bd3786\"],[0.5555555555555556,\"#d8576b\"],[0.6666666666666666,\"#ed7953\"],[0.7777777777777778,\"#fb9f3a\"],[0.8888888888888888,\"#fdca26\"],[1.0,\"#f0f921\"]],\"type\":\"heatmap\"}],\"histogram2dcontour\":[{\"colorbar\":{\"outlinewidth\":0,\"ticks\":\"\"},\"colorscale\":[[0.0,\"#0d0887\"],[0.1111111111111111,\"#46039f\"],[0.2222222222222222,\"#7201a8\"],[0.3333333333333333,\"#9c179e\"],[0.4444444444444444,\"#bd3786\"],[0.5555555555555556,\"#d8576b\"],[0.6666666666666666,\"#ed7953\"],[0.7777777777777778,\"#fb9f3a\"],[0.8888888888888888,\"#fdca26\"],[1.0,\"#f0f921\"]],\"type\":\"histogram2dcontour\"}],\"histogram2d\":[{\"colorbar\":{\"outlinewidth\":0,\"ticks\":\"\"},\"colorscale\":[[0.0,\"#0d0887\"],[0.1111111111111111,\"#46039f\"],[0.2222222222222222,\"#7201a8\"],[0.3333333333333333,\"#9c179e\"],[0.4444444444444444,\"#bd3786\"],[0.5555555555555556,\"#d8576b\"],[0.6666666666666666,\"#ed7953\"],[0.7777777777777778,\"#fb9f3a\"],[0.8888888888888888,\"#fdca26\"],[1.0,\"#f0f921\"]],\"type\":\"histogram2d\"}],\"histogram\":[{\"marker\":{\"pattern\":{\"fillmode\":\"overlay\",\"size\":10,\"solidity\":0.2}},\"type\":\"histogram\"}],\"mesh3d\":[{\"colorbar\":{\"outlinewidth\":0,\"ticks\":\"\"},\"type\":\"mesh3d\"}],\"parcoords\":[{\"line\":{\"colorbar\":{\"outlinewidth\":0,\"ticks\":\"\"}},\"type\":\"parcoords\"}],\"pie\":[{\"automargin\":true,\"type\":\"pie\"}],\"scatter3d\":[{\"line\":{\"colorbar\":{\"outlinewidth\":0,\"ticks\":\"\"}},\"marker\":{\"colorbar\":{\"outlinewidth\":0,\"ticks\":\"\"}},\"type\":\"scatter3d\"}],\"scattercarpet\":[{\"marker\":{\"colorbar\":{\"outlinewidth\":0,\"ticks\":\"\"}},\"type\":\"scattercarpet\"}],\"scattergeo\":[{\"marker\":{\"colorbar\":{\"outlinewidth\":0,\"ticks\":\"\"}},\"type\":\"scattergeo\"}],\"scattergl\":[{\"marker\":{\"line\":{\"color\":\"#283442\"}},\"type\":\"scattergl\"}],\"scattermapbox\":[{\"marker\":{\"colorbar\":{\"outlinewidth\":0,\"ticks\":\"\"}},\"type\":\"scattermapbox\"}],\"scatterpolargl\":[{\"marker\":{\"colorbar\":{\"outlinewidth\":0,\"ticks\":\"\"}},\"type\":\"scatterpolargl\"}],\"scatterpolar\":[{\"marker\":{\"colorbar\":{\"outlinewidth\":0,\"ticks\":\"\"}},\"type\":\"scatterpolar\"}],\"scatter\":[{\"marker\":{\"line\":{\"color\":\"#283442\"}},\"type\":\"scatter\"}],\"scatterternary\":[{\"marker\":{\"colorbar\":{\"outlinewidth\":0,\"ticks\":\"\"}},\"type\":\"scatterternary\"}],\"surface\":[{\"colorbar\":{\"outlinewidth\":0,\"ticks\":\"\"},\"colorscale\":[[0.0,\"#0d0887\"],[0.1111111111111111,\"#46039f\"],[0.2222222222222222,\"#7201a8\"],[0.3333333333333333,\"#9c179e\"],[0.4444444444444444,\"#bd3786\"],[0.5555555555555556,\"#d8576b\"],[0.6666666666666666,\"#ed7953\"],[0.7777777777777778,\"#fb9f3a\"],[0.8888888888888888,\"#fdca26\"],[1.0,\"#f0f921\"]],\"type\":\"surface\"}],\"table\":[{\"cells\":{\"fill\":{\"color\":\"#506784\"},\"line\":{\"color\":\"rgb(17,17,17)\"}},\"header\":{\"fill\":{\"color\":\"#2a3f5f\"},\"line\":{\"color\":\"rgb(17,17,17)\"}},\"type\":\"table\"}]},\"layout\":{\"annotationdefaults\":{\"arrowcolor\":\"#f2f5fa\",\"arrowhead\":0,\"arrowwidth\":1},\"autotypenumbers\":\"strict\",\"coloraxis\":{\"colorbar\":{\"outlinewidth\":0,\"ticks\":\"\"}},\"colorscale\":{\"diverging\":[[0,\"#8e0152\"],[0.1,\"#c51b7d\"],[0.2,\"#de77ae\"],[0.3,\"#f1b6da\"],[0.4,\"#fde0ef\"],[0.5,\"#f7f7f7\"],[0.6,\"#e6f5d0\"],[0.7,\"#b8e186\"],[0.8,\"#7fbc41\"],[0.9,\"#4d9221\"],[1,\"#276419\"]],\"sequential\":[[0.0,\"#0d0887\"],[0.1111111111111111,\"#46039f\"],[0.2222222222222222,\"#7201a8\"],[0.3333333333333333,\"#9c179e\"],[0.4444444444444444,\"#bd3786\"],[0.5555555555555556,\"#d8576b\"],[0.6666666666666666,\"#ed7953\"],[0.7777777777777778,\"#fb9f3a\"],[0.8888888888888888,\"#fdca26\"],[1.0,\"#f0f921\"]],\"sequentialminus\":[[0.0,\"#0d0887\"],[0.1111111111111111,\"#46039f\"],[0.2222222222222222,\"#7201a8\"],[0.3333333333333333,\"#9c179e\"],[0.4444444444444444,\"#bd3786\"],[0.5555555555555556,\"#d8576b\"],[0.6666666666666666,\"#ed7953\"],[0.7777777777777778,\"#fb9f3a\"],[0.8888888888888888,\"#fdca26\"],[1.0,\"#f0f921\"]]},\"colorway\":[\"#636efa\",\"#EF553B\",\"#00cc96\",\"#ab63fa\",\"#FFA15A\",\"#19d3f3\",\"#FF6692\",\"#B6E880\",\"#FF97FF\",\"#FECB52\"],\"font\":{\"color\":\"#f2f5fa\"},\"geo\":{\"bgcolor\":\"rgb(17,17,17)\",\"lakecolor\":\"rgb(17,17,17)\",\"landcolor\":\"rgb(17,17,17)\",\"showlakes\":true,\"showland\":true,\"subunitcolor\":\"#506784\"},\"hoverlabel\":{\"align\":\"left\"},\"hovermode\":\"closest\",\"mapbox\":{\"style\":\"dark\"},\"paper_bgcolor\":\"rgb(17,17,17)\",\"plot_bgcolor\":\"rgb(17,17,17)\",\"polar\":{\"angularaxis\":{\"gridcolor\":\"#506784\",\"linecolor\":\"#506784\",\"ticks\":\"\"},\"bgcolor\":\"rgb(17,17,17)\",\"radialaxis\":{\"gridcolor\":\"#506784\",\"linecolor\":\"#506784\",\"ticks\":\"\"}},\"scene\":{\"xaxis\":{\"backgroundcolor\":\"rgb(17,17,17)\",\"gridcolor\":\"#506784\",\"gridwidth\":2,\"linecolor\":\"#506784\",\"showbackground\":true,\"ticks\":\"\",\"zerolinecolor\":\"#C8D4E3\"},\"yaxis\":{\"backgroundcolor\":\"rgb(17,17,17)\",\"gridcolor\":\"#506784\",\"gridwidth\":2,\"linecolor\":\"#506784\",\"showbackground\":true,\"ticks\":\"\",\"zerolinecolor\":\"#C8D4E3\"},\"zaxis\":{\"backgroundcolor\":\"rgb(17,17,17)\",\"gridcolor\":\"#506784\",\"gridwidth\":2,\"linecolor\":\"#506784\",\"showbackground\":true,\"ticks\":\"\",\"zerolinecolor\":\"#C8D4E3\"}},\"shapedefaults\":{\"line\":{\"color\":\"#f2f5fa\"}},\"sliderdefaults\":{\"bgcolor\":\"#C8D4E3\",\"bordercolor\":\"rgb(17,17,17)\",\"borderwidth\":1,\"tickwidth\":0},\"ternary\":{\"aaxis\":{\"gridcolor\":\"#506784\",\"linecolor\":\"#506784\",\"ticks\":\"\"},\"baxis\":{\"gridcolor\":\"#506784\",\"linecolor\":\"#506784\",\"ticks\":\"\"},\"bgcolor\":\"rgb(17,17,17)\",\"caxis\":{\"gridcolor\":\"#506784\",\"linecolor\":\"#506784\",\"ticks\":\"\"}},\"title\":{\"x\":0.05},\"updatemenudefaults\":{\"bgcolor\":\"#506784\",\"borderwidth\":0},\"xaxis\":{\"automargin\":true,\"gridcolor\":\"#283442\",\"linecolor\":\"#506784\",\"ticks\":\"\",\"title\":{\"standoff\":15},\"zerolinecolor\":\"#283442\",\"zerolinewidth\":2},\"yaxis\":{\"automargin\":true,\"gridcolor\":\"#283442\",\"linecolor\":\"#506784\",\"ticks\":\"\",\"title\":{\"standoff\":15},\"zerolinecolor\":\"#283442\",\"zerolinewidth\":2}}},\"title\":{\"text\":\"Movies duration distribution\"},\"width\":900,\"height\":600},                        {\"responsive\": true}                    ).then(function(){\n",
       "                            \n",
       "var gd = document.getElementById('dedc1d95-e8db-4ce9-b1fc-7684ee5a259a');\n",
       "var x = new MutationObserver(function (mutations, observer) {{\n",
       "        var display = window.getComputedStyle(gd).display;\n",
       "        if (!display || display === 'none') {{\n",
       "            console.log([gd, 'removed!']);\n",
       "            Plotly.purge(gd);\n",
       "            observer.disconnect();\n",
       "        }}\n",
       "}});\n",
       "\n",
       "// Listen for the removal of the full notebook cells\n",
       "var notebookContainer = gd.closest('#notebook-container');\n",
       "if (notebookContainer) {{\n",
       "    x.observe(notebookContainer, {childList: true});\n",
       "}}\n",
       "\n",
       "// Listen for the clearing of the current output cell\n",
       "var outputEl = gd.closest('.output');\n",
       "if (outputEl) {{\n",
       "    x.observe(outputEl, {childList: true});\n",
       "}}\n",
       "\n",
       "                        })                };                });            </script>        </div>"
      ]
     },
     "metadata": {},
     "output_type": "display_data"
    }
   ],
   "source": [
    "x = movies_duration.values\n",
    "hist_data = [x]\n",
    "group_labels = ['distplot'] # name of the dataset\n",
    "\n",
    "fig = ff.create_distplot(hist_data, group_labels)\n",
    "\n",
    "fig.update_layout(title=\"Movies duration distribution\", \n",
    "                  width = 900, height = 600, \n",
    "                  template= \"plotly_dark\")                    \n",
    "                   \n",
    "fig.show()"
   ]
  },
  {
   "cell_type": "markdown",
   "id": "4c903112",
   "metadata": {
    "papermill": {
     "duration": 0.048566,
     "end_time": "2024-05-13T12:24:33.809227",
     "exception": false,
     "start_time": "2024-05-13T12:24:33.760661",
     "status": "completed"
    },
    "tags": []
   },
   "source": [
    "* We see that the most frequant are movies with duration between 85-105 mins."
   ]
  },
  {
   "cell_type": "markdown",
   "id": "c9dad1c3",
   "metadata": {
    "execution": {
     "iopub.execute_input": "2024-05-11T09:55:45.595627Z",
     "iopub.status.busy": "2024-05-11T09:55:45.595117Z",
     "iopub.status.idle": "2024-05-11T09:55:45.601110Z",
     "shell.execute_reply": "2024-05-11T09:55:45.599706Z",
     "shell.execute_reply.started": "2024-05-11T09:55:45.595592Z"
    },
    "papermill": {
     "duration": 0.048357,
     "end_time": "2024-05-13T12:24:33.905745",
     "exception": false,
     "start_time": "2024-05-13T12:24:33.857388",
     "status": "completed"
    },
    "tags": []
   },
   "source": [
    "#### Genres"
   ]
  },
  {
   "cell_type": "code",
   "execution_count": 61,
   "id": "44446895",
   "metadata": {
    "execution": {
     "iopub.execute_input": "2024-05-13T12:24:34.003422Z",
     "iopub.status.busy": "2024-05-13T12:24:34.003041Z",
     "iopub.status.idle": "2024-05-13T12:24:34.008283Z",
     "shell.execute_reply": "2024-05-13T12:24:34.007287Z"
    },
    "papermill": {
     "duration": 0.057258,
     "end_time": "2024-05-13T12:24:34.010928",
     "exception": false,
     "start_time": "2024-05-13T12:24:33.953670",
     "status": "completed"
    },
    "tags": []
   },
   "outputs": [],
   "source": [
    "genre = movies['listed_in']"
   ]
  },
  {
   "cell_type": "code",
   "execution_count": 62,
   "id": "96544ad5",
   "metadata": {
    "execution": {
     "iopub.execute_input": "2024-05-13T12:24:34.114674Z",
     "iopub.status.busy": "2024-05-13T12:24:34.114256Z",
     "iopub.status.idle": "2024-05-13T12:24:34.134349Z",
     "shell.execute_reply": "2024-05-13T12:24:34.133173Z"
    },
    "papermill": {
     "duration": 0.075263,
     "end_time": "2024-05-13T12:24:34.136928",
     "exception": false,
     "start_time": "2024-05-13T12:24:34.061665",
     "status": "completed"
    },
    "tags": []
   },
   "outputs": [],
   "source": [
    "genre_list = []\n",
    "\n",
    "for i in genre:\n",
    "    i = i.split(',')\n",
    "    for j in i:\n",
    "        genre_list.append(' '.join(j.split())) # merging all values into one list and deleting extra spaces"
   ]
  },
  {
   "cell_type": "code",
   "execution_count": 63,
   "id": "f14de188",
   "metadata": {
    "execution": {
     "iopub.execute_input": "2024-05-13T12:24:34.246611Z",
     "iopub.status.busy": "2024-05-13T12:24:34.245782Z",
     "iopub.status.idle": "2024-05-13T12:24:34.253705Z",
     "shell.execute_reply": "2024-05-13T12:24:34.252771Z"
    },
    "papermill": {
     "duration": 0.069023,
     "end_time": "2024-05-13T12:24:34.256403",
     "exception": false,
     "start_time": "2024-05-13T12:24:34.187380",
     "status": "completed"
    },
    "tags": []
   },
   "outputs": [],
   "source": [
    "from collections import Counter\n",
    "\n",
    "genre = Counter(genre_list)\n",
    "genre = sorted(genre.items(), key= lambda item: genre[item[0]], reverse = True)\n",
    "genre = genre[:15]"
   ]
  },
  {
   "cell_type": "code",
   "execution_count": 64,
   "id": "9f5fa45f",
   "metadata": {
    "execution": {
     "iopub.execute_input": "2024-05-13T12:24:34.359083Z",
     "iopub.status.busy": "2024-05-13T12:24:34.358348Z",
     "iopub.status.idle": "2024-05-13T12:24:34.363330Z",
     "shell.execute_reply": "2024-05-13T12:24:34.362411Z"
    },
    "papermill": {
     "duration": 0.060714,
     "end_time": "2024-05-13T12:24:34.365794",
     "exception": false,
     "start_time": "2024-05-13T12:24:34.305080",
     "status": "completed"
    },
    "tags": []
   },
   "outputs": [],
   "source": [
    "value = [value for value, value in genre] # extracting values\n",
    "name = [name for name, value in genre] # extracting keys"
   ]
  },
  {
   "cell_type": "code",
   "execution_count": 65,
   "id": "9bb29e5c",
   "metadata": {
    "execution": {
     "iopub.execute_input": "2024-05-13T12:24:34.469172Z",
     "iopub.status.busy": "2024-05-13T12:24:34.468388Z",
     "iopub.status.idle": "2024-05-13T12:24:34.527048Z",
     "shell.execute_reply": "2024-05-13T12:24:34.525782Z"
    },
    "papermill": {
     "duration": 0.110927,
     "end_time": "2024-05-13T12:24:34.529593",
     "exception": false,
     "start_time": "2024-05-13T12:24:34.418666",
     "status": "completed"
    },
    "tags": []
   },
   "outputs": [
    {
     "data": {
      "text/html": [
       "<div>                            <div id=\"3b519af4-d038-4710-b1b2-d5676b2010fd\" class=\"plotly-graph-div\" style=\"height:500px; width:800px;\"></div>            <script type=\"text/javascript\">                require([\"plotly\"], function(Plotly) {                    window.PLOTLYENV=window.PLOTLYENV || {};                                    if (document.getElementById(\"3b519af4-d038-4710-b1b2-d5676b2010fd\")) {                    Plotly.newPlot(                        \"3b519af4-d038-4710-b1b2-d5676b2010fd\",                        [{\"domain\":{\"x\":[0.0,1.0],\"y\":[0.0,1.0]},\"hovertemplate\":\"label=%{label}\\u003cbr\\u003evalue=%{value}\\u003cextra\\u003e\\u003c\\u002fextra\\u003e\",\"labels\":[\"International Movies\",\"Dramas\",\"Comedies\",\"Documentaries\",\"Action & Adventure\",\"Independent Movies\",\"Children & Family Movies\",\"Romantic Movies\",\"Thrillers\",\"Music & Musicals\",\"Horror Movies\",\"Stand-Up Comedy\",\"Sci-Fi & Fantasy\",\"Sports Movies\",\"Classic Movies\"],\"legendgroup\":\"\",\"name\":\"\",\"showlegend\":true,\"values\":[2752,2427,1674,869,859,756,641,616,577,375,357,343,243,219,116],\"type\":\"pie\"}],                        {\"template\":{\"data\":{\"barpolar\":[{\"marker\":{\"line\":{\"color\":\"rgb(17,17,17)\",\"width\":0.5},\"pattern\":{\"fillmode\":\"overlay\",\"size\":10,\"solidity\":0.2}},\"type\":\"barpolar\"}],\"bar\":[{\"error_x\":{\"color\":\"#f2f5fa\"},\"error_y\":{\"color\":\"#f2f5fa\"},\"marker\":{\"line\":{\"color\":\"rgb(17,17,17)\",\"width\":0.5},\"pattern\":{\"fillmode\":\"overlay\",\"size\":10,\"solidity\":0.2}},\"type\":\"bar\"}],\"carpet\":[{\"aaxis\":{\"endlinecolor\":\"#A2B1C6\",\"gridcolor\":\"#506784\",\"linecolor\":\"#506784\",\"minorgridcolor\":\"#506784\",\"startlinecolor\":\"#A2B1C6\"},\"baxis\":{\"endlinecolor\":\"#A2B1C6\",\"gridcolor\":\"#506784\",\"linecolor\":\"#506784\",\"minorgridcolor\":\"#506784\",\"startlinecolor\":\"#A2B1C6\"},\"type\":\"carpet\"}],\"choropleth\":[{\"colorbar\":{\"outlinewidth\":0,\"ticks\":\"\"},\"type\":\"choropleth\"}],\"contourcarpet\":[{\"colorbar\":{\"outlinewidth\":0,\"ticks\":\"\"},\"type\":\"contourcarpet\"}],\"contour\":[{\"colorbar\":{\"outlinewidth\":0,\"ticks\":\"\"},\"colorscale\":[[0.0,\"#0d0887\"],[0.1111111111111111,\"#46039f\"],[0.2222222222222222,\"#7201a8\"],[0.3333333333333333,\"#9c179e\"],[0.4444444444444444,\"#bd3786\"],[0.5555555555555556,\"#d8576b\"],[0.6666666666666666,\"#ed7953\"],[0.7777777777777778,\"#fb9f3a\"],[0.8888888888888888,\"#fdca26\"],[1.0,\"#f0f921\"]],\"type\":\"contour\"}],\"heatmapgl\":[{\"colorbar\":{\"outlinewidth\":0,\"ticks\":\"\"},\"colorscale\":[[0.0,\"#0d0887\"],[0.1111111111111111,\"#46039f\"],[0.2222222222222222,\"#7201a8\"],[0.3333333333333333,\"#9c179e\"],[0.4444444444444444,\"#bd3786\"],[0.5555555555555556,\"#d8576b\"],[0.6666666666666666,\"#ed7953\"],[0.7777777777777778,\"#fb9f3a\"],[0.8888888888888888,\"#fdca26\"],[1.0,\"#f0f921\"]],\"type\":\"heatmapgl\"}],\"heatmap\":[{\"colorbar\":{\"outlinewidth\":0,\"ticks\":\"\"},\"colorscale\":[[0.0,\"#0d0887\"],[0.1111111111111111,\"#46039f\"],[0.2222222222222222,\"#7201a8\"],[0.3333333333333333,\"#9c179e\"],[0.4444444444444444,\"#bd3786\"],[0.5555555555555556,\"#d8576b\"],[0.6666666666666666,\"#ed7953\"],[0.7777777777777778,\"#fb9f3a\"],[0.8888888888888888,\"#fdca26\"],[1.0,\"#f0f921\"]],\"type\":\"heatmap\"}],\"histogram2dcontour\":[{\"colorbar\":{\"outlinewidth\":0,\"ticks\":\"\"},\"colorscale\":[[0.0,\"#0d0887\"],[0.1111111111111111,\"#46039f\"],[0.2222222222222222,\"#7201a8\"],[0.3333333333333333,\"#9c179e\"],[0.4444444444444444,\"#bd3786\"],[0.5555555555555556,\"#d8576b\"],[0.6666666666666666,\"#ed7953\"],[0.7777777777777778,\"#fb9f3a\"],[0.8888888888888888,\"#fdca26\"],[1.0,\"#f0f921\"]],\"type\":\"histogram2dcontour\"}],\"histogram2d\":[{\"colorbar\":{\"outlinewidth\":0,\"ticks\":\"\"},\"colorscale\":[[0.0,\"#0d0887\"],[0.1111111111111111,\"#46039f\"],[0.2222222222222222,\"#7201a8\"],[0.3333333333333333,\"#9c179e\"],[0.4444444444444444,\"#bd3786\"],[0.5555555555555556,\"#d8576b\"],[0.6666666666666666,\"#ed7953\"],[0.7777777777777778,\"#fb9f3a\"],[0.8888888888888888,\"#fdca26\"],[1.0,\"#f0f921\"]],\"type\":\"histogram2d\"}],\"histogram\":[{\"marker\":{\"pattern\":{\"fillmode\":\"overlay\",\"size\":10,\"solidity\":0.2}},\"type\":\"histogram\"}],\"mesh3d\":[{\"colorbar\":{\"outlinewidth\":0,\"ticks\":\"\"},\"type\":\"mesh3d\"}],\"parcoords\":[{\"line\":{\"colorbar\":{\"outlinewidth\":0,\"ticks\":\"\"}},\"type\":\"parcoords\"}],\"pie\":[{\"automargin\":true,\"type\":\"pie\"}],\"scatter3d\":[{\"line\":{\"colorbar\":{\"outlinewidth\":0,\"ticks\":\"\"}},\"marker\":{\"colorbar\":{\"outlinewidth\":0,\"ticks\":\"\"}},\"type\":\"scatter3d\"}],\"scattercarpet\":[{\"marker\":{\"colorbar\":{\"outlinewidth\":0,\"ticks\":\"\"}},\"type\":\"scattercarpet\"}],\"scattergeo\":[{\"marker\":{\"colorbar\":{\"outlinewidth\":0,\"ticks\":\"\"}},\"type\":\"scattergeo\"}],\"scattergl\":[{\"marker\":{\"line\":{\"color\":\"#283442\"}},\"type\":\"scattergl\"}],\"scattermapbox\":[{\"marker\":{\"colorbar\":{\"outlinewidth\":0,\"ticks\":\"\"}},\"type\":\"scattermapbox\"}],\"scatterpolargl\":[{\"marker\":{\"colorbar\":{\"outlinewidth\":0,\"ticks\":\"\"}},\"type\":\"scatterpolargl\"}],\"scatterpolar\":[{\"marker\":{\"colorbar\":{\"outlinewidth\":0,\"ticks\":\"\"}},\"type\":\"scatterpolar\"}],\"scatter\":[{\"marker\":{\"line\":{\"color\":\"#283442\"}},\"type\":\"scatter\"}],\"scatterternary\":[{\"marker\":{\"colorbar\":{\"outlinewidth\":0,\"ticks\":\"\"}},\"type\":\"scatterternary\"}],\"surface\":[{\"colorbar\":{\"outlinewidth\":0,\"ticks\":\"\"},\"colorscale\":[[0.0,\"#0d0887\"],[0.1111111111111111,\"#46039f\"],[0.2222222222222222,\"#7201a8\"],[0.3333333333333333,\"#9c179e\"],[0.4444444444444444,\"#bd3786\"],[0.5555555555555556,\"#d8576b\"],[0.6666666666666666,\"#ed7953\"],[0.7777777777777778,\"#fb9f3a\"],[0.8888888888888888,\"#fdca26\"],[1.0,\"#f0f921\"]],\"type\":\"surface\"}],\"table\":[{\"cells\":{\"fill\":{\"color\":\"#506784\"},\"line\":{\"color\":\"rgb(17,17,17)\"}},\"header\":{\"fill\":{\"color\":\"#2a3f5f\"},\"line\":{\"color\":\"rgb(17,17,17)\"}},\"type\":\"table\"}]},\"layout\":{\"annotationdefaults\":{\"arrowcolor\":\"#f2f5fa\",\"arrowhead\":0,\"arrowwidth\":1},\"autotypenumbers\":\"strict\",\"coloraxis\":{\"colorbar\":{\"outlinewidth\":0,\"ticks\":\"\"}},\"colorscale\":{\"diverging\":[[0,\"#8e0152\"],[0.1,\"#c51b7d\"],[0.2,\"#de77ae\"],[0.3,\"#f1b6da\"],[0.4,\"#fde0ef\"],[0.5,\"#f7f7f7\"],[0.6,\"#e6f5d0\"],[0.7,\"#b8e186\"],[0.8,\"#7fbc41\"],[0.9,\"#4d9221\"],[1,\"#276419\"]],\"sequential\":[[0.0,\"#0d0887\"],[0.1111111111111111,\"#46039f\"],[0.2222222222222222,\"#7201a8\"],[0.3333333333333333,\"#9c179e\"],[0.4444444444444444,\"#bd3786\"],[0.5555555555555556,\"#d8576b\"],[0.6666666666666666,\"#ed7953\"],[0.7777777777777778,\"#fb9f3a\"],[0.8888888888888888,\"#fdca26\"],[1.0,\"#f0f921\"]],\"sequentialminus\":[[0.0,\"#0d0887\"],[0.1111111111111111,\"#46039f\"],[0.2222222222222222,\"#7201a8\"],[0.3333333333333333,\"#9c179e\"],[0.4444444444444444,\"#bd3786\"],[0.5555555555555556,\"#d8576b\"],[0.6666666666666666,\"#ed7953\"],[0.7777777777777778,\"#fb9f3a\"],[0.8888888888888888,\"#fdca26\"],[1.0,\"#f0f921\"]]},\"colorway\":[\"#636efa\",\"#EF553B\",\"#00cc96\",\"#ab63fa\",\"#FFA15A\",\"#19d3f3\",\"#FF6692\",\"#B6E880\",\"#FF97FF\",\"#FECB52\"],\"font\":{\"color\":\"#f2f5fa\"},\"geo\":{\"bgcolor\":\"rgb(17,17,17)\",\"lakecolor\":\"rgb(17,17,17)\",\"landcolor\":\"rgb(17,17,17)\",\"showlakes\":true,\"showland\":true,\"subunitcolor\":\"#506784\"},\"hoverlabel\":{\"align\":\"left\"},\"hovermode\":\"closest\",\"mapbox\":{\"style\":\"dark\"},\"paper_bgcolor\":\"rgb(17,17,17)\",\"plot_bgcolor\":\"rgb(17,17,17)\",\"polar\":{\"angularaxis\":{\"gridcolor\":\"#506784\",\"linecolor\":\"#506784\",\"ticks\":\"\"},\"bgcolor\":\"rgb(17,17,17)\",\"radialaxis\":{\"gridcolor\":\"#506784\",\"linecolor\":\"#506784\",\"ticks\":\"\"}},\"scene\":{\"xaxis\":{\"backgroundcolor\":\"rgb(17,17,17)\",\"gridcolor\":\"#506784\",\"gridwidth\":2,\"linecolor\":\"#506784\",\"showbackground\":true,\"ticks\":\"\",\"zerolinecolor\":\"#C8D4E3\"},\"yaxis\":{\"backgroundcolor\":\"rgb(17,17,17)\",\"gridcolor\":\"#506784\",\"gridwidth\":2,\"linecolor\":\"#506784\",\"showbackground\":true,\"ticks\":\"\",\"zerolinecolor\":\"#C8D4E3\"},\"zaxis\":{\"backgroundcolor\":\"rgb(17,17,17)\",\"gridcolor\":\"#506784\",\"gridwidth\":2,\"linecolor\":\"#506784\",\"showbackground\":true,\"ticks\":\"\",\"zerolinecolor\":\"#C8D4E3\"}},\"shapedefaults\":{\"line\":{\"color\":\"#f2f5fa\"}},\"sliderdefaults\":{\"bgcolor\":\"#C8D4E3\",\"bordercolor\":\"rgb(17,17,17)\",\"borderwidth\":1,\"tickwidth\":0},\"ternary\":{\"aaxis\":{\"gridcolor\":\"#506784\",\"linecolor\":\"#506784\",\"ticks\":\"\"},\"baxis\":{\"gridcolor\":\"#506784\",\"linecolor\":\"#506784\",\"ticks\":\"\"},\"bgcolor\":\"rgb(17,17,17)\",\"caxis\":{\"gridcolor\":\"#506784\",\"linecolor\":\"#506784\",\"ticks\":\"\"}},\"title\":{\"x\":0.05},\"updatemenudefaults\":{\"bgcolor\":\"#506784\",\"borderwidth\":0},\"xaxis\":{\"automargin\":true,\"gridcolor\":\"#283442\",\"linecolor\":\"#506784\",\"ticks\":\"\",\"title\":{\"standoff\":15},\"zerolinecolor\":\"#283442\",\"zerolinewidth\":2},\"yaxis\":{\"automargin\":true,\"gridcolor\":\"#283442\",\"linecolor\":\"#506784\",\"ticks\":\"\",\"title\":{\"standoff\":15},\"zerolinecolor\":\"#283442\",\"zerolinewidth\":2}}},\"legend\":{\"tracegroupgap\":0},\"title\":{\"text\":\"Top 15 genres\"},\"piecolorway\":[\"#1F77B4\",\"#FF7F0E\",\"#2CA02C\",\"#D62728\",\"#9467BD\",\"#E377C2\"],\"height\":500,\"width\":800},                        {\"responsive\": true}                    ).then(function(){\n",
       "                            \n",
       "var gd = document.getElementById('3b519af4-d038-4710-b1b2-d5676b2010fd');\n",
       "var x = new MutationObserver(function (mutations, observer) {{\n",
       "        var display = window.getComputedStyle(gd).display;\n",
       "        if (!display || display === 'none') {{\n",
       "            console.log([gd, 'removed!']);\n",
       "            Plotly.purge(gd);\n",
       "            observer.disconnect();\n",
       "        }}\n",
       "}});\n",
       "\n",
       "// Listen for the removal of the full notebook cells\n",
       "var notebookContainer = gd.closest('#notebook-container');\n",
       "if (notebookContainer) {{\n",
       "    x.observe(notebookContainer, {childList: true});\n",
       "}}\n",
       "\n",
       "// Listen for the clearing of the current output cell\n",
       "var outputEl = gd.closest('.output');\n",
       "if (outputEl) {{\n",
       "    x.observe(outputEl, {childList: true});\n",
       "}}\n",
       "\n",
       "                        })                };                });            </script>        </div>"
      ]
     },
     "metadata": {},
     "output_type": "display_data"
    }
   ],
   "source": [
    "chart_colors = ['#1F77B4', '#FF7F0E', '#2CA02C', '#D62728', '#9467BD', '#E377C2'] \n",
    "\n",
    "fig = px.pie(values = value, names = name,\n",
    "             template= \"plotly_dark\", \n",
    "             title = 'Top 15 genres', \n",
    "             width = 800, height = 500, \n",
    "             color_discrete_sequence=  chart_colors)\n",
    "\n",
    "\n",
    "fig.show()"
   ]
  },
  {
   "cell_type": "markdown",
   "id": "c04d26eb",
   "metadata": {
    "papermill": {
     "duration": 0.050648,
     "end_time": "2024-05-13T12:24:34.629190",
     "exception": false,
     "start_time": "2024-05-13T12:24:34.578542",
     "status": "completed"
    },
    "tags": []
   },
   "source": [
    "* International Movies, Dramas, Comedies are in top-3, respectively."
   ]
  },
  {
   "cell_type": "markdown",
   "id": "2b089662",
   "metadata": {
    "papermill": {
     "duration": 0.051631,
     "end_time": "2024-05-13T12:24:34.734954",
     "exception": false,
     "start_time": "2024-05-13T12:24:34.683323",
     "status": "completed"
    },
    "tags": []
   },
   "source": [
    "#### Directors"
   ]
  },
  {
   "cell_type": "code",
   "execution_count": 66,
   "id": "9a7b2e9f",
   "metadata": {
    "execution": {
     "iopub.execute_input": "2024-05-13T12:24:34.837830Z",
     "iopub.status.busy": "2024-05-13T12:24:34.837373Z",
     "iopub.status.idle": "2024-05-13T12:24:34.844440Z",
     "shell.execute_reply": "2024-05-13T12:24:34.843062Z"
    },
    "papermill": {
     "duration": 0.061064,
     "end_time": "2024-05-13T12:24:34.847509",
     "exception": false,
     "start_time": "2024-05-13T12:24:34.786445",
     "status": "completed"
    },
    "tags": []
   },
   "outputs": [],
   "source": [
    "d = movies['director']\n",
    "d = d.dropna()"
   ]
  },
  {
   "cell_type": "code",
   "execution_count": 67,
   "id": "178507c5",
   "metadata": {
    "execution": {
     "iopub.execute_input": "2024-05-13T12:24:34.952720Z",
     "iopub.status.busy": "2024-05-13T12:24:34.951381Z",
     "iopub.status.idle": "2024-05-13T12:24:34.969427Z",
     "shell.execute_reply": "2024-05-13T12:24:34.967467Z"
    },
    "papermill": {
     "duration": 0.074145,
     "end_time": "2024-05-13T12:24:34.972997",
     "exception": false,
     "start_time": "2024-05-13T12:24:34.898852",
     "status": "completed"
    },
    "tags": []
   },
   "outputs": [],
   "source": [
    "director = []\n",
    "\n",
    "for i in d:\n",
    "    i = i.split(',')\n",
    "    for j in i:\n",
    "        director.append(' '.join(j.split()))"
   ]
  },
  {
   "cell_type": "code",
   "execution_count": 68,
   "id": "7699d591",
   "metadata": {
    "execution": {
     "iopub.execute_input": "2024-05-13T12:24:35.072954Z",
     "iopub.status.busy": "2024-05-13T12:24:35.071684Z",
     "iopub.status.idle": "2024-05-13T12:24:35.077876Z",
     "shell.execute_reply": "2024-05-13T12:24:35.076927Z"
    },
    "papermill": {
     "duration": 0.058591,
     "end_time": "2024-05-13T12:24:35.080790",
     "exception": false,
     "start_time": "2024-05-13T12:24:35.022199",
     "status": "completed"
    },
    "tags": []
   },
   "outputs": [],
   "source": [
    "director = Counter(director)"
   ]
  },
  {
   "cell_type": "code",
   "execution_count": 69,
   "id": "2b3797f8",
   "metadata": {
    "execution": {
     "iopub.execute_input": "2024-05-13T12:24:35.180938Z",
     "iopub.status.busy": "2024-05-13T12:24:35.179656Z",
     "iopub.status.idle": "2024-05-13T12:24:35.189655Z",
     "shell.execute_reply": "2024-05-13T12:24:35.188342Z"
    },
    "papermill": {
     "duration": 0.06261,
     "end_time": "2024-05-13T12:24:35.192687",
     "exception": false,
     "start_time": "2024-05-13T12:24:35.130077",
     "status": "completed"
    },
    "tags": []
   },
   "outputs": [],
   "source": [
    "director = sorted(director.items(), key = lambda item: director[item[0]], reverse = True)[:10]"
   ]
  },
  {
   "cell_type": "code",
   "execution_count": 70,
   "id": "7d6a1c15",
   "metadata": {
    "execution": {
     "iopub.execute_input": "2024-05-13T12:24:35.293949Z",
     "iopub.status.busy": "2024-05-13T12:24:35.293488Z",
     "iopub.status.idle": "2024-05-13T12:24:35.301762Z",
     "shell.execute_reply": "2024-05-13T12:24:35.300290Z"
    },
    "papermill": {
     "duration": 0.060811,
     "end_time": "2024-05-13T12:24:35.304404",
     "exception": false,
     "start_time": "2024-05-13T12:24:35.243593",
     "status": "completed"
    },
    "tags": []
   },
   "outputs": [
    {
     "data": {
      "text/plain": [
       "[('Rajiv Chilaka', 22),\n",
       " ('Jan Suter', 21),\n",
       " ('Raúl Campos', 19),\n",
       " ('Suhas Kadav', 16),\n",
       " ('Jay Karas', 15),\n",
       " ('Marcus Raboy', 15),\n",
       " ('Cathy Garcia-Molina', 13),\n",
       " ('Youssef Chahine', 12),\n",
       " ('Martin Scorsese', 12),\n",
       " ('Jay Chapman', 12)]"
      ]
     },
     "execution_count": 70,
     "metadata": {},
     "output_type": "execute_result"
    }
   ],
   "source": [
    "director"
   ]
  },
  {
   "cell_type": "code",
   "execution_count": 71,
   "id": "2fe2b716",
   "metadata": {
    "execution": {
     "iopub.execute_input": "2024-05-13T12:24:35.409778Z",
     "iopub.status.busy": "2024-05-13T12:24:35.408669Z",
     "iopub.status.idle": "2024-05-13T12:24:35.414652Z",
     "shell.execute_reply": "2024-05-13T12:24:35.413754Z"
    },
    "papermill": {
     "duration": 0.059493,
     "end_time": "2024-05-13T12:24:35.417107",
     "exception": false,
     "start_time": "2024-05-13T12:24:35.357614",
     "status": "completed"
    },
    "tags": []
   },
   "outputs": [],
   "source": [
    "name = [name for name, value in director]\n",
    "value = [value for name, value in director]"
   ]
  },
  {
   "cell_type": "code",
   "execution_count": 72,
   "id": "b5aa90b6",
   "metadata": {
    "execution": {
     "iopub.execute_input": "2024-05-13T12:24:35.519385Z",
     "iopub.status.busy": "2024-05-13T12:24:35.518398Z",
     "iopub.status.idle": "2024-05-13T12:24:35.594076Z",
     "shell.execute_reply": "2024-05-13T12:24:35.592932Z"
    },
    "papermill": {
     "duration": 0.12992,
     "end_time": "2024-05-13T12:24:35.596531",
     "exception": false,
     "start_time": "2024-05-13T12:24:35.466611",
     "status": "completed"
    },
    "tags": []
   },
   "outputs": [
    {
     "data": {
      "text/html": [
       "<div>                            <div id=\"89f7d96c-a646-43f6-b405-1da176bf6e79\" class=\"plotly-graph-div\" style=\"height:500px; width:800px;\"></div>            <script type=\"text/javascript\">                require([\"plotly\"], function(Plotly) {                    window.PLOTLYENV=window.PLOTLYENV || {};                                    if (document.getElementById(\"89f7d96c-a646-43f6-b405-1da176bf6e79\")) {                    Plotly.newPlot(                        \"89f7d96c-a646-43f6-b405-1da176bf6e79\",                        [{\"alignmentgroup\":\"True\",\"hovertemplate\":\"x=%{x}\\u003cbr\\u003ey=%{y}\\u003cextra\\u003e\\u003c\\u002fextra\\u003e\",\"legendgroup\":\"\",\"marker\":{\"color\":\"#ff7f0e\",\"pattern\":{\"shape\":\"\"}},\"name\":\"\",\"offsetgroup\":\"\",\"orientation\":\"v\",\"showlegend\":false,\"textposition\":\"auto\",\"texttemplate\":\"%{y}\",\"x\":[\"Rajiv Chilaka\",\"Jan Suter\",\"Raúl Campos\",\"Suhas Kadav\",\"Jay Karas\",\"Marcus Raboy\",\"Cathy Garcia-Molina\",\"Youssef Chahine\",\"Martin Scorsese\",\"Jay Chapman\"],\"xaxis\":\"x\",\"y\":[22,21,19,16,15,15,13,12,12,12],\"yaxis\":\"y\",\"type\":\"bar\"}],                        {\"template\":{\"data\":{\"barpolar\":[{\"marker\":{\"line\":{\"color\":\"rgb(17,17,17)\",\"width\":0.5},\"pattern\":{\"fillmode\":\"overlay\",\"size\":10,\"solidity\":0.2}},\"type\":\"barpolar\"}],\"bar\":[{\"error_x\":{\"color\":\"#f2f5fa\"},\"error_y\":{\"color\":\"#f2f5fa\"},\"marker\":{\"line\":{\"color\":\"rgb(17,17,17)\",\"width\":0.5},\"pattern\":{\"fillmode\":\"overlay\",\"size\":10,\"solidity\":0.2}},\"type\":\"bar\"}],\"carpet\":[{\"aaxis\":{\"endlinecolor\":\"#A2B1C6\",\"gridcolor\":\"#506784\",\"linecolor\":\"#506784\",\"minorgridcolor\":\"#506784\",\"startlinecolor\":\"#A2B1C6\"},\"baxis\":{\"endlinecolor\":\"#A2B1C6\",\"gridcolor\":\"#506784\",\"linecolor\":\"#506784\",\"minorgridcolor\":\"#506784\",\"startlinecolor\":\"#A2B1C6\"},\"type\":\"carpet\"}],\"choropleth\":[{\"colorbar\":{\"outlinewidth\":0,\"ticks\":\"\"},\"type\":\"choropleth\"}],\"contourcarpet\":[{\"colorbar\":{\"outlinewidth\":0,\"ticks\":\"\"},\"type\":\"contourcarpet\"}],\"contour\":[{\"colorbar\":{\"outlinewidth\":0,\"ticks\":\"\"},\"colorscale\":[[0.0,\"#0d0887\"],[0.1111111111111111,\"#46039f\"],[0.2222222222222222,\"#7201a8\"],[0.3333333333333333,\"#9c179e\"],[0.4444444444444444,\"#bd3786\"],[0.5555555555555556,\"#d8576b\"],[0.6666666666666666,\"#ed7953\"],[0.7777777777777778,\"#fb9f3a\"],[0.8888888888888888,\"#fdca26\"],[1.0,\"#f0f921\"]],\"type\":\"contour\"}],\"heatmapgl\":[{\"colorbar\":{\"outlinewidth\":0,\"ticks\":\"\"},\"colorscale\":[[0.0,\"#0d0887\"],[0.1111111111111111,\"#46039f\"],[0.2222222222222222,\"#7201a8\"],[0.3333333333333333,\"#9c179e\"],[0.4444444444444444,\"#bd3786\"],[0.5555555555555556,\"#d8576b\"],[0.6666666666666666,\"#ed7953\"],[0.7777777777777778,\"#fb9f3a\"],[0.8888888888888888,\"#fdca26\"],[1.0,\"#f0f921\"]],\"type\":\"heatmapgl\"}],\"heatmap\":[{\"colorbar\":{\"outlinewidth\":0,\"ticks\":\"\"},\"colorscale\":[[0.0,\"#0d0887\"],[0.1111111111111111,\"#46039f\"],[0.2222222222222222,\"#7201a8\"],[0.3333333333333333,\"#9c179e\"],[0.4444444444444444,\"#bd3786\"],[0.5555555555555556,\"#d8576b\"],[0.6666666666666666,\"#ed7953\"],[0.7777777777777778,\"#fb9f3a\"],[0.8888888888888888,\"#fdca26\"],[1.0,\"#f0f921\"]],\"type\":\"heatmap\"}],\"histogram2dcontour\":[{\"colorbar\":{\"outlinewidth\":0,\"ticks\":\"\"},\"colorscale\":[[0.0,\"#0d0887\"],[0.1111111111111111,\"#46039f\"],[0.2222222222222222,\"#7201a8\"],[0.3333333333333333,\"#9c179e\"],[0.4444444444444444,\"#bd3786\"],[0.5555555555555556,\"#d8576b\"],[0.6666666666666666,\"#ed7953\"],[0.7777777777777778,\"#fb9f3a\"],[0.8888888888888888,\"#fdca26\"],[1.0,\"#f0f921\"]],\"type\":\"histogram2dcontour\"}],\"histogram2d\":[{\"colorbar\":{\"outlinewidth\":0,\"ticks\":\"\"},\"colorscale\":[[0.0,\"#0d0887\"],[0.1111111111111111,\"#46039f\"],[0.2222222222222222,\"#7201a8\"],[0.3333333333333333,\"#9c179e\"],[0.4444444444444444,\"#bd3786\"],[0.5555555555555556,\"#d8576b\"],[0.6666666666666666,\"#ed7953\"],[0.7777777777777778,\"#fb9f3a\"],[0.8888888888888888,\"#fdca26\"],[1.0,\"#f0f921\"]],\"type\":\"histogram2d\"}],\"histogram\":[{\"marker\":{\"pattern\":{\"fillmode\":\"overlay\",\"size\":10,\"solidity\":0.2}},\"type\":\"histogram\"}],\"mesh3d\":[{\"colorbar\":{\"outlinewidth\":0,\"ticks\":\"\"},\"type\":\"mesh3d\"}],\"parcoords\":[{\"line\":{\"colorbar\":{\"outlinewidth\":0,\"ticks\":\"\"}},\"type\":\"parcoords\"}],\"pie\":[{\"automargin\":true,\"type\":\"pie\"}],\"scatter3d\":[{\"line\":{\"colorbar\":{\"outlinewidth\":0,\"ticks\":\"\"}},\"marker\":{\"colorbar\":{\"outlinewidth\":0,\"ticks\":\"\"}},\"type\":\"scatter3d\"}],\"scattercarpet\":[{\"marker\":{\"colorbar\":{\"outlinewidth\":0,\"ticks\":\"\"}},\"type\":\"scattercarpet\"}],\"scattergeo\":[{\"marker\":{\"colorbar\":{\"outlinewidth\":0,\"ticks\":\"\"}},\"type\":\"scattergeo\"}],\"scattergl\":[{\"marker\":{\"line\":{\"color\":\"#283442\"}},\"type\":\"scattergl\"}],\"scattermapbox\":[{\"marker\":{\"colorbar\":{\"outlinewidth\":0,\"ticks\":\"\"}},\"type\":\"scattermapbox\"}],\"scatterpolargl\":[{\"marker\":{\"colorbar\":{\"outlinewidth\":0,\"ticks\":\"\"}},\"type\":\"scatterpolargl\"}],\"scatterpolar\":[{\"marker\":{\"colorbar\":{\"outlinewidth\":0,\"ticks\":\"\"}},\"type\":\"scatterpolar\"}],\"scatter\":[{\"marker\":{\"line\":{\"color\":\"#283442\"}},\"type\":\"scatter\"}],\"scatterternary\":[{\"marker\":{\"colorbar\":{\"outlinewidth\":0,\"ticks\":\"\"}},\"type\":\"scatterternary\"}],\"surface\":[{\"colorbar\":{\"outlinewidth\":0,\"ticks\":\"\"},\"colorscale\":[[0.0,\"#0d0887\"],[0.1111111111111111,\"#46039f\"],[0.2222222222222222,\"#7201a8\"],[0.3333333333333333,\"#9c179e\"],[0.4444444444444444,\"#bd3786\"],[0.5555555555555556,\"#d8576b\"],[0.6666666666666666,\"#ed7953\"],[0.7777777777777778,\"#fb9f3a\"],[0.8888888888888888,\"#fdca26\"],[1.0,\"#f0f921\"]],\"type\":\"surface\"}],\"table\":[{\"cells\":{\"fill\":{\"color\":\"#506784\"},\"line\":{\"color\":\"rgb(17,17,17)\"}},\"header\":{\"fill\":{\"color\":\"#2a3f5f\"},\"line\":{\"color\":\"rgb(17,17,17)\"}},\"type\":\"table\"}]},\"layout\":{\"annotationdefaults\":{\"arrowcolor\":\"#f2f5fa\",\"arrowhead\":0,\"arrowwidth\":1},\"autotypenumbers\":\"strict\",\"coloraxis\":{\"colorbar\":{\"outlinewidth\":0,\"ticks\":\"\"}},\"colorscale\":{\"diverging\":[[0,\"#8e0152\"],[0.1,\"#c51b7d\"],[0.2,\"#de77ae\"],[0.3,\"#f1b6da\"],[0.4,\"#fde0ef\"],[0.5,\"#f7f7f7\"],[0.6,\"#e6f5d0\"],[0.7,\"#b8e186\"],[0.8,\"#7fbc41\"],[0.9,\"#4d9221\"],[1,\"#276419\"]],\"sequential\":[[0.0,\"#0d0887\"],[0.1111111111111111,\"#46039f\"],[0.2222222222222222,\"#7201a8\"],[0.3333333333333333,\"#9c179e\"],[0.4444444444444444,\"#bd3786\"],[0.5555555555555556,\"#d8576b\"],[0.6666666666666666,\"#ed7953\"],[0.7777777777777778,\"#fb9f3a\"],[0.8888888888888888,\"#fdca26\"],[1.0,\"#f0f921\"]],\"sequentialminus\":[[0.0,\"#0d0887\"],[0.1111111111111111,\"#46039f\"],[0.2222222222222222,\"#7201a8\"],[0.3333333333333333,\"#9c179e\"],[0.4444444444444444,\"#bd3786\"],[0.5555555555555556,\"#d8576b\"],[0.6666666666666666,\"#ed7953\"],[0.7777777777777778,\"#fb9f3a\"],[0.8888888888888888,\"#fdca26\"],[1.0,\"#f0f921\"]]},\"colorway\":[\"#636efa\",\"#EF553B\",\"#00cc96\",\"#ab63fa\",\"#FFA15A\",\"#19d3f3\",\"#FF6692\",\"#B6E880\",\"#FF97FF\",\"#FECB52\"],\"font\":{\"color\":\"#f2f5fa\"},\"geo\":{\"bgcolor\":\"rgb(17,17,17)\",\"lakecolor\":\"rgb(17,17,17)\",\"landcolor\":\"rgb(17,17,17)\",\"showlakes\":true,\"showland\":true,\"subunitcolor\":\"#506784\"},\"hoverlabel\":{\"align\":\"left\"},\"hovermode\":\"closest\",\"mapbox\":{\"style\":\"dark\"},\"paper_bgcolor\":\"rgb(17,17,17)\",\"plot_bgcolor\":\"rgb(17,17,17)\",\"polar\":{\"angularaxis\":{\"gridcolor\":\"#506784\",\"linecolor\":\"#506784\",\"ticks\":\"\"},\"bgcolor\":\"rgb(17,17,17)\",\"radialaxis\":{\"gridcolor\":\"#506784\",\"linecolor\":\"#506784\",\"ticks\":\"\"}},\"scene\":{\"xaxis\":{\"backgroundcolor\":\"rgb(17,17,17)\",\"gridcolor\":\"#506784\",\"gridwidth\":2,\"linecolor\":\"#506784\",\"showbackground\":true,\"ticks\":\"\",\"zerolinecolor\":\"#C8D4E3\"},\"yaxis\":{\"backgroundcolor\":\"rgb(17,17,17)\",\"gridcolor\":\"#506784\",\"gridwidth\":2,\"linecolor\":\"#506784\",\"showbackground\":true,\"ticks\":\"\",\"zerolinecolor\":\"#C8D4E3\"},\"zaxis\":{\"backgroundcolor\":\"rgb(17,17,17)\",\"gridcolor\":\"#506784\",\"gridwidth\":2,\"linecolor\":\"#506784\",\"showbackground\":true,\"ticks\":\"\",\"zerolinecolor\":\"#C8D4E3\"}},\"shapedefaults\":{\"line\":{\"color\":\"#f2f5fa\"}},\"sliderdefaults\":{\"bgcolor\":\"#C8D4E3\",\"bordercolor\":\"rgb(17,17,17)\",\"borderwidth\":1,\"tickwidth\":0},\"ternary\":{\"aaxis\":{\"gridcolor\":\"#506784\",\"linecolor\":\"#506784\",\"ticks\":\"\"},\"baxis\":{\"gridcolor\":\"#506784\",\"linecolor\":\"#506784\",\"ticks\":\"\"},\"bgcolor\":\"rgb(17,17,17)\",\"caxis\":{\"gridcolor\":\"#506784\",\"linecolor\":\"#506784\",\"ticks\":\"\"}},\"title\":{\"x\":0.05},\"updatemenudefaults\":{\"bgcolor\":\"#506784\",\"borderwidth\":0},\"xaxis\":{\"automargin\":true,\"gridcolor\":\"#283442\",\"linecolor\":\"#506784\",\"ticks\":\"\",\"title\":{\"standoff\":15},\"zerolinecolor\":\"#283442\",\"zerolinewidth\":2},\"yaxis\":{\"automargin\":true,\"gridcolor\":\"#283442\",\"linecolor\":\"#506784\",\"ticks\":\"\",\"title\":{\"standoff\":15},\"zerolinecolor\":\"#283442\",\"zerolinewidth\":2}}},\"xaxis\":{\"anchor\":\"y\",\"domain\":[0.0,1.0],\"title\":{\"text\":\"director\"}},\"yaxis\":{\"anchor\":\"x\",\"domain\":[0.0,1.0],\"title\":{\"text\":\"movies_number\"}},\"legend\":{\"tracegroupgap\":0},\"title\":{\"text\":\"Top-10 directors by produced movies q-ty\"},\"barmode\":\"relative\",\"height\":500,\"width\":800},                        {\"responsive\": true}                    ).then(function(){\n",
       "                            \n",
       "var gd = document.getElementById('89f7d96c-a646-43f6-b405-1da176bf6e79');\n",
       "var x = new MutationObserver(function (mutations, observer) {{\n",
       "        var display = window.getComputedStyle(gd).display;\n",
       "        if (!display || display === 'none') {{\n",
       "            console.log([gd, 'removed!']);\n",
       "            Plotly.purge(gd);\n",
       "            observer.disconnect();\n",
       "        }}\n",
       "}});\n",
       "\n",
       "// Listen for the removal of the full notebook cells\n",
       "var notebookContainer = gd.closest('#notebook-container');\n",
       "if (notebookContainer) {{\n",
       "    x.observe(notebookContainer, {childList: true});\n",
       "}}\n",
       "\n",
       "// Listen for the clearing of the current output cell\n",
       "var outputEl = gd.closest('.output');\n",
       "if (outputEl) {{\n",
       "    x.observe(outputEl, {childList: true});\n",
       "}}\n",
       "\n",
       "                        })                };                });            </script>        </div>"
      ]
     },
     "metadata": {},
     "output_type": "display_data"
    }
   ],
   "source": [
    "fig = px.bar(x = name, y = value, \n",
    "             template= \"plotly_dark\",\n",
    "             color_discrete_sequence= ['#ff7f0e'],\n",
    "             width = 800, height = 500,\n",
    "             text_auto=True,\n",
    "             title = 'Top-10 directors by produced movies q-ty'\n",
    "            )\n",
    "\n",
    "fig.update_layout(\n",
    "    xaxis_title=dict(text=\"director\"), \n",
    "    yaxis_title=dict(text=\"movies_number\")\n",
    ")\n",
    "\n",
    "fig.show()"
   ]
  },
  {
   "cell_type": "markdown",
   "id": "3dade791",
   "metadata": {
    "papermill": {
     "duration": 0.050123,
     "end_time": "2024-05-13T12:24:35.695534",
     "exception": false,
     "start_time": "2024-05-13T12:24:35.645411",
     "status": "completed"
    },
    "tags": []
   },
   "source": [
    "# Recommendation system."
   ]
  },
  {
   "cell_type": "markdown",
   "id": "d35f9bd8",
   "metadata": {
    "execution": {
     "iopub.execute_input": "2024-05-11T19:39:13.269063Z",
     "iopub.status.busy": "2024-05-11T19:39:13.268290Z",
     "iopub.status.idle": "2024-05-11T19:39:13.273939Z",
     "shell.execute_reply": "2024-05-11T19:39:13.272627Z",
     "shell.execute_reply.started": "2024-05-11T19:39:13.269021Z"
    },
    "papermill": {
     "duration": 0.05048,
     "end_time": "2024-05-13T12:24:35.796603",
     "exception": false,
     "start_time": "2024-05-13T12:24:35.746123",
     "status": "completed"
    },
    "tags": []
   },
   "source": [
    "# ![](https://i.postimg.cc/7Zf0Qq86/image.jpg)"
   ]
  },
  {
   "cell_type": "markdown",
   "id": "87b7b0d4",
   "metadata": {
    "papermill": {
     "duration": 0.055195,
     "end_time": "2024-05-13T12:24:35.901962",
     "exception": false,
     "start_time": "2024-05-13T12:24:35.846767",
     "status": "completed"
    },
    "tags": []
   },
   "source": [
    "* We gonna use TF-IDF"
   ]
  },
  {
   "cell_type": "code",
   "execution_count": 73,
   "id": "0d7f9426",
   "metadata": {
    "execution": {
     "iopub.execute_input": "2024-05-13T12:24:36.006877Z",
     "iopub.status.busy": "2024-05-13T12:24:36.006439Z",
     "iopub.status.idle": "2024-05-13T12:24:36.214698Z",
     "shell.execute_reply": "2024-05-13T12:24:36.213193Z"
    },
    "papermill": {
     "duration": 0.263603,
     "end_time": "2024-05-13T12:24:36.217587",
     "exception": false,
     "start_time": "2024-05-13T12:24:35.953984",
     "status": "completed"
    },
    "tags": []
   },
   "outputs": [],
   "source": [
    "from sklearn.feature_extraction.text import TfidfVectorizer"
   ]
  },
  {
   "cell_type": "code",
   "execution_count": 74,
   "id": "acb5dfd4",
   "metadata": {
    "execution": {
     "iopub.execute_input": "2024-05-13T12:24:36.323291Z",
     "iopub.status.busy": "2024-05-13T12:24:36.322885Z",
     "iopub.status.idle": "2024-05-13T12:24:36.337046Z",
     "shell.execute_reply": "2024-05-13T12:24:36.335358Z"
    },
    "papermill": {
     "duration": 0.071307,
     "end_time": "2024-05-13T12:24:36.340105",
     "exception": false,
     "start_time": "2024-05-13T12:24:36.268798",
     "status": "completed"
    },
    "tags": []
   },
   "outputs": [
    {
     "data": {
      "text/plain": [
       "0"
      ]
     },
     "execution_count": 74,
     "metadata": {},
     "output_type": "execute_result"
    }
   ],
   "source": [
    "movies['description'] = movies['description'].fillna('')\n",
    "movies['description'].isna().sum()"
   ]
  },
  {
   "cell_type": "code",
   "execution_count": 75,
   "id": "d5cc93a9",
   "metadata": {
    "execution": {
     "iopub.execute_input": "2024-05-13T12:24:36.448366Z",
     "iopub.status.busy": "2024-05-13T12:24:36.447954Z",
     "iopub.status.idle": "2024-05-13T12:24:36.459227Z",
     "shell.execute_reply": "2024-05-13T12:24:36.457868Z"
    },
    "papermill": {
     "duration": 0.0678,
     "end_time": "2024-05-13T12:24:36.461967",
     "exception": false,
     "start_time": "2024-05-13T12:24:36.394167",
     "status": "completed"
    },
    "tags": []
   },
   "outputs": [
    {
     "data": {
      "text/plain": [
       "0    As her father nears the end of his life, filmm...\n",
       "6    Equestria's divided. But a bright-eyed hero be...\n",
       "7    On a photo shoot in Ghana, an American model s...\n",
       "Name: description, dtype: object"
      ]
     },
     "execution_count": 75,
     "metadata": {},
     "output_type": "execute_result"
    }
   ],
   "source": [
    "movies['description'].head(3)"
   ]
  },
  {
   "cell_type": "code",
   "execution_count": 76,
   "id": "a7150ffe",
   "metadata": {
    "execution": {
     "iopub.execute_input": "2024-05-13T12:24:36.565779Z",
     "iopub.status.busy": "2024-05-13T12:24:36.565334Z",
     "iopub.status.idle": "2024-05-13T12:24:36.860174Z",
     "shell.execute_reply": "2024-05-13T12:24:36.858987Z"
    },
    "papermill": {
     "duration": 0.349358,
     "end_time": "2024-05-13T12:24:36.862732",
     "exception": false,
     "start_time": "2024-05-13T12:24:36.513374",
     "status": "completed"
    },
    "tags": []
   },
   "outputs": [
    {
     "data": {
      "text/plain": [
       "(6131, 15483)"
      ]
     },
     "execution_count": 76,
     "metadata": {},
     "output_type": "execute_result"
    }
   ],
   "source": [
    "tfidf = TfidfVectorizer(stop_words='english')\n",
    "tfidf_matrix = tfidf.fit_transform(movies['description'])\n",
    "tfidf_matrix.shape"
   ]
  },
  {
   "cell_type": "code",
   "execution_count": 77,
   "id": "b601be62",
   "metadata": {
    "execution": {
     "iopub.execute_input": "2024-05-13T12:24:36.974544Z",
     "iopub.status.busy": "2024-05-13T12:24:36.974158Z",
     "iopub.status.idle": "2024-05-13T12:24:37.684672Z",
     "shell.execute_reply": "2024-05-13T12:24:37.683337Z"
    },
    "papermill": {
     "duration": 0.770189,
     "end_time": "2024-05-13T12:24:37.687349",
     "exception": false,
     "start_time": "2024-05-13T12:24:36.917160",
     "status": "completed"
    },
    "tags": []
   },
   "outputs": [
    {
     "data": {
      "text/plain": [
       "array([[1.        , 0.        , 0.        , ..., 0.        , 0.01624469,\n",
       "        0.        ],\n",
       "       [0.        , 1.        , 0.        , ..., 0.        , 0.        ,\n",
       "        0.        ],\n",
       "       [0.        , 0.        , 1.        , ..., 0.        , 0.        ,\n",
       "        0.03650444],\n",
       "       ...,\n",
       "       [0.        , 0.        , 0.        , ..., 1.        , 0.        ,\n",
       "        0.        ],\n",
       "       [0.01624469, 0.        , 0.        , ..., 0.        , 1.        ,\n",
       "        0.        ],\n",
       "       [0.        , 0.        , 0.03650444, ..., 0.        , 0.        ,\n",
       "        1.        ]])"
      ]
     },
     "execution_count": 77,
     "metadata": {},
     "output_type": "execute_result"
    }
   ],
   "source": [
    "from sklearn.metrics.pairwise import cosine_similarity\n",
    "\n",
    "cos_sim = cosine_similarity(tfidf_matrix, tfidf_matrix)\n",
    "cos_sim"
   ]
  },
  {
   "cell_type": "code",
   "execution_count": 78,
   "id": "bd965a37",
   "metadata": {
    "execution": {
     "iopub.execute_input": "2024-05-13T12:24:37.793213Z",
     "iopub.status.busy": "2024-05-13T12:24:37.792753Z",
     "iopub.status.idle": "2024-05-13T12:24:37.800065Z",
     "shell.execute_reply": "2024-05-13T12:24:37.798939Z"
    },
    "papermill": {
     "duration": 0.063251,
     "end_time": "2024-05-13T12:24:37.802229",
     "exception": false,
     "start_time": "2024-05-13T12:24:37.738978",
     "status": "completed"
    },
    "tags": []
   },
   "outputs": [
    {
     "data": {
      "text/plain": [
       "(6131, 6131)"
      ]
     },
     "execution_count": 78,
     "metadata": {},
     "output_type": "execute_result"
    }
   ],
   "source": [
    "cos_sim.shape"
   ]
  },
  {
   "cell_type": "code",
   "execution_count": 79,
   "id": "4ac55220",
   "metadata": {
    "execution": {
     "iopub.execute_input": "2024-05-13T12:24:37.907680Z",
     "iopub.status.busy": "2024-05-13T12:24:37.906942Z",
     "iopub.status.idle": "2024-05-13T12:24:37.920121Z",
     "shell.execute_reply": "2024-05-13T12:24:37.918715Z"
    },
    "papermill": {
     "duration": 0.069218,
     "end_time": "2024-05-13T12:24:37.922911",
     "exception": false,
     "start_time": "2024-05-13T12:24:37.853693",
     "status": "completed"
    },
    "tags": []
   },
   "outputs": [
    {
     "data": {
      "text/plain": [
       "title\n",
       "Dick Johnson Is Dead                   0\n",
       "My Little Pony: A New Generation       6\n",
       "Sankofa                                7\n",
       "The Starling                           9\n",
       "Je Suis Karl                          12\n",
       "                                    ... \n",
       "Zinzana                             8801\n",
       "Zodiac                              8802\n",
       "Zombieland                          8804\n",
       "Zoom                                8805\n",
       "Zubaan                              8806\n",
       "Length: 6131, dtype: int64"
      ]
     },
     "execution_count": 79,
     "metadata": {},
     "output_type": "execute_result"
    }
   ],
   "source": [
    "indexes = pd.Series(movies.index, index=movies['title']).drop_duplicates()\n",
    "indexes"
   ]
  },
  {
   "cell_type": "code",
   "execution_count": 80,
   "id": "981b2f56",
   "metadata": {
    "execution": {
     "iopub.execute_input": "2024-05-13T12:24:38.037257Z",
     "iopub.status.busy": "2024-05-13T12:24:38.036129Z",
     "iopub.status.idle": "2024-05-13T12:24:38.041856Z",
     "shell.execute_reply": "2024-05-13T12:24:38.040930Z"
    },
    "papermill": {
     "duration": 0.066887,
     "end_time": "2024-05-13T12:24:38.044461",
     "exception": false,
     "start_time": "2024-05-13T12:24:37.977574",
     "status": "completed"
    },
    "tags": []
   },
   "outputs": [],
   "source": [
    "cos_sim_df = pd.DataFrame(cos_sim)"
   ]
  },
  {
   "cell_type": "code",
   "execution_count": 81,
   "id": "e7fe05d6",
   "metadata": {
    "execution": {
     "iopub.execute_input": "2024-05-13T12:24:38.147212Z",
     "iopub.status.busy": "2024-05-13T12:24:38.146403Z",
     "iopub.status.idle": "2024-05-13T12:24:38.151901Z",
     "shell.execute_reply": "2024-05-13T12:24:38.150955Z"
    },
    "papermill": {
     "duration": 0.0594,
     "end_time": "2024-05-13T12:24:38.154369",
     "exception": false,
     "start_time": "2024-05-13T12:24:38.094969",
     "status": "completed"
    },
    "tags": []
   },
   "outputs": [],
   "source": [
    "cos_sim_df.columns = indexes.index"
   ]
  },
  {
   "cell_type": "code",
   "execution_count": 82,
   "id": "6b987c2f",
   "metadata": {
    "execution": {
     "iopub.execute_input": "2024-05-13T12:24:38.265904Z",
     "iopub.status.busy": "2024-05-13T12:24:38.264799Z",
     "iopub.status.idle": "2024-05-13T12:24:38.270916Z",
     "shell.execute_reply": "2024-05-13T12:24:38.269936Z"
    },
    "papermill": {
     "duration": 0.0616,
     "end_time": "2024-05-13T12:24:38.273565",
     "exception": false,
     "start_time": "2024-05-13T12:24:38.211965",
     "status": "completed"
    },
    "tags": []
   },
   "outputs": [],
   "source": [
    "cos_sim_df['title'] = indexes.index"
   ]
  },
  {
   "cell_type": "code",
   "execution_count": 83,
   "id": "271eaa71",
   "metadata": {
    "execution": {
     "iopub.execute_input": "2024-05-13T12:24:38.379329Z",
     "iopub.status.busy": "2024-05-13T12:24:38.378591Z",
     "iopub.status.idle": "2024-05-13T12:24:38.968877Z",
     "shell.execute_reply": "2024-05-13T12:24:38.967086Z"
    },
    "papermill": {
     "duration": 0.647147,
     "end_time": "2024-05-13T12:24:38.971601",
     "exception": false,
     "start_time": "2024-05-13T12:24:38.324454",
     "status": "completed"
    },
    "tags": []
   },
   "outputs": [],
   "source": [
    "cos_sim_df = cos_sim_df.set_index('title')"
   ]
  },
  {
   "cell_type": "code",
   "execution_count": 84,
   "id": "d34fbd82",
   "metadata": {
    "execution": {
     "iopub.execute_input": "2024-05-13T12:24:39.080723Z",
     "iopub.status.busy": "2024-05-13T12:24:39.080202Z",
     "iopub.status.idle": "2024-05-13T12:24:39.119270Z",
     "shell.execute_reply": "2024-05-13T12:24:39.117911Z"
    },
    "papermill": {
     "duration": 0.093995,
     "end_time": "2024-05-13T12:24:39.122260",
     "exception": false,
     "start_time": "2024-05-13T12:24:39.028265",
     "status": "completed"
    },
    "tags": []
   },
   "outputs": [
    {
     "data": {
      "text/html": [
       "<div>\n",
       "<style scoped>\n",
       "    .dataframe tbody tr th:only-of-type {\n",
       "        vertical-align: middle;\n",
       "    }\n",
       "\n",
       "    .dataframe tbody tr th {\n",
       "        vertical-align: top;\n",
       "    }\n",
       "\n",
       "    .dataframe thead th {\n",
       "        text-align: right;\n",
       "    }\n",
       "</style>\n",
       "<table border=\"1\" class=\"dataframe\">\n",
       "  <thead>\n",
       "    <tr style=\"text-align: right;\">\n",
       "      <th>title</th>\n",
       "      <th>Dick Johnson Is Dead</th>\n",
       "      <th>My Little Pony: A New Generation</th>\n",
       "      <th>Sankofa</th>\n",
       "      <th>The Starling</th>\n",
       "      <th>Je Suis Karl</th>\n",
       "      <th>Confessions of an Invisible Girl</th>\n",
       "      <th>Europe's Most Dangerous Man: Otto Skorzeny in Spain</th>\n",
       "      <th>Intrusion</th>\n",
       "      <th>Avvai Shanmughi</th>\n",
       "      <th>Go! Go! Cory Carson: Chrissy Takes the Wheel</th>\n",
       "      <th>...</th>\n",
       "      <th>Young Tiger</th>\n",
       "      <th>Yours, Mine and Ours</th>\n",
       "      <th>اشتباك</th>\n",
       "      <th>Zed Plus</th>\n",
       "      <th>Zenda</th>\n",
       "      <th>Zinzana</th>\n",
       "      <th>Zodiac</th>\n",
       "      <th>Zombieland</th>\n",
       "      <th>Zoom</th>\n",
       "      <th>Zubaan</th>\n",
       "    </tr>\n",
       "    <tr>\n",
       "      <th>title</th>\n",
       "      <th></th>\n",
       "      <th></th>\n",
       "      <th></th>\n",
       "      <th></th>\n",
       "      <th></th>\n",
       "      <th></th>\n",
       "      <th></th>\n",
       "      <th></th>\n",
       "      <th></th>\n",
       "      <th></th>\n",
       "      <th></th>\n",
       "      <th></th>\n",
       "      <th></th>\n",
       "      <th></th>\n",
       "      <th></th>\n",
       "      <th></th>\n",
       "      <th></th>\n",
       "      <th></th>\n",
       "      <th></th>\n",
       "      <th></th>\n",
       "      <th></th>\n",
       "    </tr>\n",
       "  </thead>\n",
       "  <tbody>\n",
       "    <tr>\n",
       "      <th>Dick Johnson Is Dead</th>\n",
       "      <td>1.000000</td>\n",
       "      <td>0.0</td>\n",
       "      <td>0.0</td>\n",
       "      <td>0.018285</td>\n",
       "      <td>0.000000</td>\n",
       "      <td>0.0</td>\n",
       "      <td>0.014848</td>\n",
       "      <td>0.0</td>\n",
       "      <td>0.023927</td>\n",
       "      <td>0.0</td>\n",
       "      <td>...</td>\n",
       "      <td>0.0</td>\n",
       "      <td>0.02889</td>\n",
       "      <td>0.0</td>\n",
       "      <td>0.0</td>\n",
       "      <td>0.0</td>\n",
       "      <td>0.0</td>\n",
       "      <td>0.0</td>\n",
       "      <td>0.000000</td>\n",
       "      <td>0.016245</td>\n",
       "      <td>0.000000</td>\n",
       "    </tr>\n",
       "    <tr>\n",
       "      <th>My Little Pony: A New Generation</th>\n",
       "      <td>0.000000</td>\n",
       "      <td>1.0</td>\n",
       "      <td>0.0</td>\n",
       "      <td>0.000000</td>\n",
       "      <td>0.000000</td>\n",
       "      <td>0.0</td>\n",
       "      <td>0.000000</td>\n",
       "      <td>0.0</td>\n",
       "      <td>0.000000</td>\n",
       "      <td>0.0</td>\n",
       "      <td>...</td>\n",
       "      <td>0.0</td>\n",
       "      <td>0.00000</td>\n",
       "      <td>0.0</td>\n",
       "      <td>0.0</td>\n",
       "      <td>0.0</td>\n",
       "      <td>0.0</td>\n",
       "      <td>0.0</td>\n",
       "      <td>0.000000</td>\n",
       "      <td>0.000000</td>\n",
       "      <td>0.000000</td>\n",
       "    </tr>\n",
       "    <tr>\n",
       "      <th>Sankofa</th>\n",
       "      <td>0.000000</td>\n",
       "      <td>0.0</td>\n",
       "      <td>1.0</td>\n",
       "      <td>0.000000</td>\n",
       "      <td>0.000000</td>\n",
       "      <td>0.0</td>\n",
       "      <td>0.000000</td>\n",
       "      <td>0.0</td>\n",
       "      <td>0.029736</td>\n",
       "      <td>0.0</td>\n",
       "      <td>...</td>\n",
       "      <td>0.0</td>\n",
       "      <td>0.00000</td>\n",
       "      <td>0.0</td>\n",
       "      <td>0.0</td>\n",
       "      <td>0.0</td>\n",
       "      <td>0.0</td>\n",
       "      <td>0.0</td>\n",
       "      <td>0.000000</td>\n",
       "      <td>0.000000</td>\n",
       "      <td>0.036504</td>\n",
       "    </tr>\n",
       "    <tr>\n",
       "      <th>The Starling</th>\n",
       "      <td>0.018285</td>\n",
       "      <td>0.0</td>\n",
       "      <td>0.0</td>\n",
       "      <td>1.000000</td>\n",
       "      <td>0.029133</td>\n",
       "      <td>0.0</td>\n",
       "      <td>0.016294</td>\n",
       "      <td>0.0</td>\n",
       "      <td>0.000000</td>\n",
       "      <td>0.0</td>\n",
       "      <td>...</td>\n",
       "      <td>0.0</td>\n",
       "      <td>0.00000</td>\n",
       "      <td>0.0</td>\n",
       "      <td>0.0</td>\n",
       "      <td>0.0</td>\n",
       "      <td>0.0</td>\n",
       "      <td>0.0</td>\n",
       "      <td>0.061674</td>\n",
       "      <td>0.017826</td>\n",
       "      <td>0.045998</td>\n",
       "    </tr>\n",
       "    <tr>\n",
       "      <th>Je Suis Karl</th>\n",
       "      <td>0.000000</td>\n",
       "      <td>0.0</td>\n",
       "      <td>0.0</td>\n",
       "      <td>0.029133</td>\n",
       "      <td>1.000000</td>\n",
       "      <td>0.0</td>\n",
       "      <td>0.000000</td>\n",
       "      <td>0.0</td>\n",
       "      <td>0.000000</td>\n",
       "      <td>0.0</td>\n",
       "      <td>...</td>\n",
       "      <td>0.0</td>\n",
       "      <td>0.00000</td>\n",
       "      <td>0.0</td>\n",
       "      <td>0.0</td>\n",
       "      <td>0.0</td>\n",
       "      <td>0.0</td>\n",
       "      <td>0.0</td>\n",
       "      <td>0.000000</td>\n",
       "      <td>0.000000</td>\n",
       "      <td>0.028473</td>\n",
       "    </tr>\n",
       "  </tbody>\n",
       "</table>\n",
       "<p>5 rows × 6131 columns</p>\n",
       "</div>"
      ],
      "text/plain": [
       "title                             Dick Johnson Is Dead  \\\n",
       "title                                                    \n",
       "Dick Johnson Is Dead                          1.000000   \n",
       "My Little Pony: A New Generation              0.000000   \n",
       "Sankofa                                       0.000000   \n",
       "The Starling                                  0.018285   \n",
       "Je Suis Karl                                  0.000000   \n",
       "\n",
       "title                             My Little Pony: A New Generation  Sankofa  \\\n",
       "title                                                                         \n",
       "Dick Johnson Is Dead                                           0.0      0.0   \n",
       "My Little Pony: A New Generation                               1.0      0.0   \n",
       "Sankofa                                                        0.0      1.0   \n",
       "The Starling                                                   0.0      0.0   \n",
       "Je Suis Karl                                                   0.0      0.0   \n",
       "\n",
       "title                             The Starling  Je Suis Karl  \\\n",
       "title                                                          \n",
       "Dick Johnson Is Dead                  0.018285      0.000000   \n",
       "My Little Pony: A New Generation      0.000000      0.000000   \n",
       "Sankofa                               0.000000      0.000000   \n",
       "The Starling                          1.000000      0.029133   \n",
       "Je Suis Karl                          0.029133      1.000000   \n",
       "\n",
       "title                             Confessions of an Invisible Girl  \\\n",
       "title                                                                \n",
       "Dick Johnson Is Dead                                           0.0   \n",
       "My Little Pony: A New Generation                               0.0   \n",
       "Sankofa                                                        0.0   \n",
       "The Starling                                                   0.0   \n",
       "Je Suis Karl                                                   0.0   \n",
       "\n",
       "title                             Europe's Most Dangerous Man: Otto Skorzeny in Spain  \\\n",
       "title                                                                                   \n",
       "Dick Johnson Is Dead                                                       0.014848     \n",
       "My Little Pony: A New Generation                                           0.000000     \n",
       "Sankofa                                                                    0.000000     \n",
       "The Starling                                                               0.016294     \n",
       "Je Suis Karl                                                               0.000000     \n",
       "\n",
       "title                             Intrusion  Avvai Shanmughi  \\\n",
       "title                                                          \n",
       "Dick Johnson Is Dead                    0.0         0.023927   \n",
       "My Little Pony: A New Generation        0.0         0.000000   \n",
       "Sankofa                                 0.0         0.029736   \n",
       "The Starling                            0.0         0.000000   \n",
       "Je Suis Karl                            0.0         0.000000   \n",
       "\n",
       "title                             Go! Go! Cory Carson: Chrissy Takes the Wheel  \\\n",
       "title                                                                            \n",
       "Dick Johnson Is Dead                                                       0.0   \n",
       "My Little Pony: A New Generation                                           0.0   \n",
       "Sankofa                                                                    0.0   \n",
       "The Starling                                                               0.0   \n",
       "Je Suis Karl                                                               0.0   \n",
       "\n",
       "title                             ...  Young Tiger  Yours, Mine and Ours  \\\n",
       "title                             ...                                      \n",
       "Dick Johnson Is Dead              ...          0.0               0.02889   \n",
       "My Little Pony: A New Generation  ...          0.0               0.00000   \n",
       "Sankofa                           ...          0.0               0.00000   \n",
       "The Starling                      ...          0.0               0.00000   \n",
       "Je Suis Karl                      ...          0.0               0.00000   \n",
       "\n",
       "title                             اشتباك  Zed Plus  Zenda  Zinzana  Zodiac  \\\n",
       "title                                                                        \n",
       "Dick Johnson Is Dead                 0.0       0.0    0.0      0.0     0.0   \n",
       "My Little Pony: A New Generation     0.0       0.0    0.0      0.0     0.0   \n",
       "Sankofa                              0.0       0.0    0.0      0.0     0.0   \n",
       "The Starling                         0.0       0.0    0.0      0.0     0.0   \n",
       "Je Suis Karl                         0.0       0.0    0.0      0.0     0.0   \n",
       "\n",
       "title                             Zombieland      Zoom    Zubaan  \n",
       "title                                                             \n",
       "Dick Johnson Is Dead                0.000000  0.016245  0.000000  \n",
       "My Little Pony: A New Generation    0.000000  0.000000  0.000000  \n",
       "Sankofa                             0.000000  0.000000  0.036504  \n",
       "The Starling                        0.061674  0.017826  0.045998  \n",
       "Je Suis Karl                        0.000000  0.000000  0.028473  \n",
       "\n",
       "[5 rows x 6131 columns]"
      ]
     },
     "execution_count": 84,
     "metadata": {},
     "output_type": "execute_result"
    }
   ],
   "source": [
    "cos_sim_df.head(5)"
   ]
  },
  {
   "cell_type": "code",
   "execution_count": 85,
   "id": "54df0c40",
   "metadata": {
    "execution": {
     "iopub.execute_input": "2024-05-13T12:24:39.226147Z",
     "iopub.status.busy": "2024-05-13T12:24:39.225700Z",
     "iopub.status.idle": "2024-05-13T12:24:39.233291Z",
     "shell.execute_reply": "2024-05-13T12:24:39.232056Z"
    },
    "papermill": {
     "duration": 0.062797,
     "end_time": "2024-05-13T12:24:39.235842",
     "exception": false,
     "start_time": "2024-05-13T12:24:39.173045",
     "status": "completed"
    },
    "tags": []
   },
   "outputs": [],
   "source": [
    "def show_recommendation(title, cos_sim = cos_sim_df):\n",
    "    idx = indexes[title]\n",
    "    sim_scores = list(enumerate(cos_sim_df.loc[title]))\n",
    "    \n",
    "    sim_scores = sorted(sim_scores, key= lambda x: x[1], reverse = True)\n",
    "    sim_scores = sim_scores[1:11]\n",
    "    \n",
    "    movies_indexes = [i[0] for i in sim_scores]\n",
    "    \n",
    "    return movies['title'].iloc[movies_indexes]"
   ]
  },
  {
   "cell_type": "code",
   "execution_count": 86,
   "id": "dc93329b",
   "metadata": {
    "execution": {
     "iopub.execute_input": "2024-05-13T12:24:39.344609Z",
     "iopub.status.busy": "2024-05-13T12:24:39.343620Z",
     "iopub.status.idle": "2024-05-13T12:24:39.358841Z",
     "shell.execute_reply": "2024-05-13T12:24:39.356423Z"
    },
    "papermill": {
     "duration": 0.073552,
     "end_time": "2024-05-13T12:24:39.361502",
     "exception": false,
     "start_time": "2024-05-13T12:24:39.287950",
     "status": "completed"
    },
    "tags": []
   },
   "outputs": [
    {
     "data": {
      "text/plain": [
       "4877                                   End Game\n",
       "1066                                   The Soul\n",
       "7506                                       Moon\n",
       "5047                    The Cloverfield Paradox\n",
       "5233    The Death and Life of Marsha P. Johnson\n",
       "2674                                      Alelí\n",
       "6327                           Black Snake Moan\n",
       "4241                  Secrets in the Hot Spring\n",
       "1731               A New York Christmas Wedding\n",
       "2380                               Riding Faith\n",
       "Name: title, dtype: object"
      ]
     },
     "execution_count": 86,
     "metadata": {},
     "output_type": "execute_result"
    }
   ],
   "source": [
    "# Let's take 'Dick Johnson Is Dead' movie as example.\n",
    "\n",
    "show_recommendation('Dick Johnson Is Dead')"
   ]
  },
  {
   "cell_type": "code",
   "execution_count": 87,
   "id": "705adca4",
   "metadata": {
    "execution": {
     "iopub.execute_input": "2024-05-13T12:24:39.468697Z",
     "iopub.status.busy": "2024-05-13T12:24:39.467954Z",
     "iopub.status.idle": "2024-05-13T12:24:39.483950Z",
     "shell.execute_reply": "2024-05-13T12:24:39.482349Z"
    },
    "papermill": {
     "duration": 0.072822,
     "end_time": "2024-05-13T12:24:39.487257",
     "exception": false,
     "start_time": "2024-05-13T12:24:39.414435",
     "status": "completed"
    },
    "tags": []
   },
   "outputs": [
    {
     "data": {
      "text/html": [
       "<div>\n",
       "<style scoped>\n",
       "    .dataframe tbody tr th:only-of-type {\n",
       "        vertical-align: middle;\n",
       "    }\n",
       "\n",
       "    .dataframe tbody tr th {\n",
       "        vertical-align: top;\n",
       "    }\n",
       "\n",
       "    .dataframe thead th {\n",
       "        text-align: right;\n",
       "    }\n",
       "</style>\n",
       "<table border=\"1\" class=\"dataframe\">\n",
       "  <thead>\n",
       "    <tr style=\"text-align: right;\">\n",
       "      <th>title</th>\n",
       "      <th>Dick Johnson Is Dead</th>\n",
       "      <th>End Game</th>\n",
       "    </tr>\n",
       "    <tr>\n",
       "      <th>title</th>\n",
       "      <th></th>\n",
       "      <th></th>\n",
       "    </tr>\n",
       "  </thead>\n",
       "  <tbody>\n",
       "    <tr>\n",
       "      <th>Dick Johnson Is Dead</th>\n",
       "      <td>1.000000</td>\n",
       "      <td>0.156451</td>\n",
       "    </tr>\n",
       "    <tr>\n",
       "      <th>End Game</th>\n",
       "      <td>0.156451</td>\n",
       "      <td>1.000000</td>\n",
       "    </tr>\n",
       "  </tbody>\n",
       "</table>\n",
       "</div>"
      ],
      "text/plain": [
       "title                 Dick Johnson Is Dead  End Game\n",
       "title                                               \n",
       "Dick Johnson Is Dead              1.000000  0.156451\n",
       "End Game                          0.156451  1.000000"
      ]
     },
     "execution_count": 87,
     "metadata": {},
     "output_type": "execute_result"
    }
   ],
   "source": [
    "cos_sim_df.loc[(cos_sim_df.index == 'Dick Johnson Is Dead') | (cos_sim_df.index == 'End Game'), \n",
    "               ['Dick Johnson Is Dead', 'End Game']]"
   ]
  },
  {
   "cell_type": "code",
   "execution_count": 88,
   "id": "800ebb33",
   "metadata": {
    "execution": {
     "iopub.execute_input": "2024-05-13T12:24:39.593312Z",
     "iopub.status.busy": "2024-05-13T12:24:39.592099Z",
     "iopub.status.idle": "2024-05-13T12:24:39.601640Z",
     "shell.execute_reply": "2024-05-13T12:24:39.600264Z"
    },
    "papermill": {
     "duration": 0.065093,
     "end_time": "2024-05-13T12:24:39.604576",
     "exception": false,
     "start_time": "2024-05-13T12:24:39.539483",
     "status": "completed"
    },
    "tags": []
   },
   "outputs": [
    {
     "data": {
      "text/plain": [
       "'As her father nears the end of his life, filmmaker Kirsten Johnson stages his death in inventive and comical ways to help them both face the inevitable.'"
      ]
     },
     "execution_count": 88,
     "metadata": {},
     "output_type": "execute_result"
    }
   ],
   "source": [
    "movies[movies['title'] == 'Dick Johnson Is Dead'].description.iloc[0]"
   ]
  },
  {
   "cell_type": "code",
   "execution_count": 89,
   "id": "acba9ce9",
   "metadata": {
    "execution": {
     "iopub.execute_input": "2024-05-13T12:24:39.710469Z",
     "iopub.status.busy": "2024-05-13T12:24:39.709451Z",
     "iopub.status.idle": "2024-05-13T12:24:39.718458Z",
     "shell.execute_reply": "2024-05-13T12:24:39.717521Z"
    },
    "papermill": {
     "duration": 0.063998,
     "end_time": "2024-05-13T12:24:39.720674",
     "exception": false,
     "start_time": "2024-05-13T12:24:39.656676",
     "status": "completed"
    },
    "tags": []
   },
   "outputs": [
    {
     "data": {
      "text/plain": [
       "'Facing an inevitable outcome, terminally ill patients meet extraordinary medical practitioners seeking to change our approach to life and death.'"
      ]
     },
     "execution_count": 89,
     "metadata": {},
     "output_type": "execute_result"
    }
   ],
   "source": [
    "movies[movies['title'] == 'End Game'].description.iloc[0]"
   ]
  },
  {
   "cell_type": "markdown",
   "id": "95999fac",
   "metadata": {
    "papermill": {
     "duration": 0.052332,
     "end_time": "2024-05-13T12:24:39.823857",
     "exception": false,
     "start_time": "2024-05-13T12:24:39.771525",
     "status": "completed"
    },
    "tags": []
   },
   "source": [
    "* Thanks for your attention.\n",
    "* If you liked this work or found it usefull, please share your feedback.\n"
   ]
  },
  {
   "cell_type": "markdown",
   "id": "1917418e",
   "metadata": {
    "papermill": {
     "duration": 0.053026,
     "end_time": "2024-05-13T12:24:39.927647",
     "exception": false,
     "start_time": "2024-05-13T12:24:39.874621",
     "status": "completed"
    },
    "tags": []
   },
   "source": [
    "* P.S: special thanks for inspiration to Ms.Julia Ponomareva -https://t.me/machine_learrrning"
   ]
  },
  {
   "cell_type": "code",
   "execution_count": null,
   "id": "de3c5b1f",
   "metadata": {
    "papermill": {
     "duration": 0.051064,
     "end_time": "2024-05-13T12:24:40.032182",
     "exception": false,
     "start_time": "2024-05-13T12:24:39.981118",
     "status": "completed"
    },
    "tags": []
   },
   "outputs": [],
   "source": []
  }
 ],
 "metadata": {
  "kaggle": {
   "accelerator": "none",
   "dataSources": [
    {
     "datasetId": 434238,
     "sourceId": 2654038,
     "sourceType": "datasetVersion"
    }
   ],
   "dockerImageVersionId": 30698,
   "isGpuEnabled": false,
   "isInternetEnabled": true,
   "language": "python",
   "sourceType": "notebook"
  },
  "kernelspec": {
   "display_name": "Python 3",
   "language": "python",
   "name": "python3"
  },
  "language_info": {
   "codemirror_mode": {
    "name": "ipython",
    "version": 3
   },
   "file_extension": ".py",
   "mimetype": "text/x-python",
   "name": "python",
   "nbconvert_exporter": "python",
   "pygments_lexer": "ipython3",
   "version": "3.10.13"
  },
  "papermill": {
   "default_parameters": {},
   "duration": 26.308841,
   "end_time": "2024-05-13T12:24:40.905356",
   "environment_variables": {},
   "exception": null,
   "input_path": "__notebook__.ipynb",
   "output_path": "__notebook__.ipynb",
   "parameters": {},
   "start_time": "2024-05-13T12:24:14.596515",
   "version": "2.5.0"
  }
 },
 "nbformat": 4,
 "nbformat_minor": 5
}
