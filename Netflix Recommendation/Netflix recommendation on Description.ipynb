{
 "cells": [
  {
   "cell_type": "markdown",
   "source": [
    "### Movie Based Application"
   ],
   "metadata": {
    "collapsed": false
   },
   "id": "732857c16598dbfc"
  },
  {
   "cell_type": "code",
   "execution_count": 1,
   "outputs": [],
   "source": [
    "import numpy as np # linear algebra\n",
    "import pandas as pd # data processing, CSV file I/O (e.g. pd.read_csv)\n",
    "import os\n",
    "\n",
    "df = pd.read_csv(\"netflix_titles.csv\")"
   ],
   "metadata": {
    "collapsed": false,
    "ExecuteTime": {
     "end_time": "2024-07-16T18:26:48.811802900Z",
     "start_time": "2024-07-16T18:26:48.750804900Z"
    }
   },
   "id": "f3a21b3fe36c9e27"
  },
  {
   "cell_type": "code",
   "execution_count": 2,
   "outputs": [
    {
     "data": {
      "text/plain": "  show_id     type                  title         director  \\\n0      s1    Movie   Dick Johnson Is Dead  Kirsten Johnson   \n1      s2  TV Show          Blood & Water              NaN   \n2      s3  TV Show              Ganglands  Julien Leclercq   \n3      s4  TV Show  Jailbirds New Orleans              NaN   \n4      s5  TV Show           Kota Factory              NaN   \n\n                                                cast        country  \\\n0                                                NaN  United States   \n1  Ama Qamata, Khosi Ngema, Gail Mabalane, Thaban...   South Africa   \n2  Sami Bouajila, Tracy Gotoas, Samuel Jouy, Nabi...            NaN   \n3                                                NaN            NaN   \n4  Mayur More, Jitendra Kumar, Ranjan Raj, Alam K...          India   \n\n           date_added  release_year rating   duration  \\\n0  September 25, 2021          2020  PG-13     90 min   \n1  September 24, 2021          2021  TV-MA  2 Seasons   \n2  September 24, 2021          2021  TV-MA   1 Season   \n3  September 24, 2021          2021  TV-MA   1 Season   \n4  September 24, 2021          2021  TV-MA  2 Seasons   \n\n                                           listed_in  \\\n0                                      Documentaries   \n1    International TV Shows, TV Dramas, TV Mysteries   \n2  Crime TV Shows, International TV Shows, TV Act...   \n3                             Docuseries, Reality TV   \n4  International TV Shows, Romantic TV Shows, TV ...   \n\n                                         description  \n0  As her father nears the end of his life, filmm...  \n1  After crossing paths at a party, a Cape Town t...  \n2  To protect his family from a powerful drug lor...  \n3  Feuds, flirtations and toilet talk go down amo...  \n4  In a city of coaching centers known to train I...  ",
      "text/html": "<div>\n<style scoped>\n    .dataframe tbody tr th:only-of-type {\n        vertical-align: middle;\n    }\n\n    .dataframe tbody tr th {\n        vertical-align: top;\n    }\n\n    .dataframe thead th {\n        text-align: right;\n    }\n</style>\n<table border=\"1\" class=\"dataframe\">\n  <thead>\n    <tr style=\"text-align: right;\">\n      <th></th>\n      <th>show_id</th>\n      <th>type</th>\n      <th>title</th>\n      <th>director</th>\n      <th>cast</th>\n      <th>country</th>\n      <th>date_added</th>\n      <th>release_year</th>\n      <th>rating</th>\n      <th>duration</th>\n      <th>listed_in</th>\n      <th>description</th>\n    </tr>\n  </thead>\n  <tbody>\n    <tr>\n      <th>0</th>\n      <td>s1</td>\n      <td>Movie</td>\n      <td>Dick Johnson Is Dead</td>\n      <td>Kirsten Johnson</td>\n      <td>NaN</td>\n      <td>United States</td>\n      <td>September 25, 2021</td>\n      <td>2020</td>\n      <td>PG-13</td>\n      <td>90 min</td>\n      <td>Documentaries</td>\n      <td>As her father nears the end of his life, filmm...</td>\n    </tr>\n    <tr>\n      <th>1</th>\n      <td>s2</td>\n      <td>TV Show</td>\n      <td>Blood &amp; Water</td>\n      <td>NaN</td>\n      <td>Ama Qamata, Khosi Ngema, Gail Mabalane, Thaban...</td>\n      <td>South Africa</td>\n      <td>September 24, 2021</td>\n      <td>2021</td>\n      <td>TV-MA</td>\n      <td>2 Seasons</td>\n      <td>International TV Shows, TV Dramas, TV Mysteries</td>\n      <td>After crossing paths at a party, a Cape Town t...</td>\n    </tr>\n    <tr>\n      <th>2</th>\n      <td>s3</td>\n      <td>TV Show</td>\n      <td>Ganglands</td>\n      <td>Julien Leclercq</td>\n      <td>Sami Bouajila, Tracy Gotoas, Samuel Jouy, Nabi...</td>\n      <td>NaN</td>\n      <td>September 24, 2021</td>\n      <td>2021</td>\n      <td>TV-MA</td>\n      <td>1 Season</td>\n      <td>Crime TV Shows, International TV Shows, TV Act...</td>\n      <td>To protect his family from a powerful drug lor...</td>\n    </tr>\n    <tr>\n      <th>3</th>\n      <td>s4</td>\n      <td>TV Show</td>\n      <td>Jailbirds New Orleans</td>\n      <td>NaN</td>\n      <td>NaN</td>\n      <td>NaN</td>\n      <td>September 24, 2021</td>\n      <td>2021</td>\n      <td>TV-MA</td>\n      <td>1 Season</td>\n      <td>Docuseries, Reality TV</td>\n      <td>Feuds, flirtations and toilet talk go down amo...</td>\n    </tr>\n    <tr>\n      <th>4</th>\n      <td>s5</td>\n      <td>TV Show</td>\n      <td>Kota Factory</td>\n      <td>NaN</td>\n      <td>Mayur More, Jitendra Kumar, Ranjan Raj, Alam K...</td>\n      <td>India</td>\n      <td>September 24, 2021</td>\n      <td>2021</td>\n      <td>TV-MA</td>\n      <td>2 Seasons</td>\n      <td>International TV Shows, Romantic TV Shows, TV ...</td>\n      <td>In a city of coaching centers known to train I...</td>\n    </tr>\n  </tbody>\n</table>\n</div>"
     },
     "execution_count": 2,
     "metadata": {},
     "output_type": "execute_result"
    }
   ],
   "source": [
    "df.head()"
   ],
   "metadata": {
    "collapsed": false,
    "ExecuteTime": {
     "end_time": "2024-07-16T18:26:48.834805900Z",
     "start_time": "2024-07-16T18:26:48.815804Z"
    }
   },
   "id": "168a43930e4329d8"
  },
  {
   "cell_type": "code",
   "execution_count": 3,
   "outputs": [
    {
     "data": {
      "text/plain": "(8807, 12)"
     },
     "execution_count": 3,
     "metadata": {},
     "output_type": "execute_result"
    }
   ],
   "source": [
    "df.shape"
   ],
   "metadata": {
    "collapsed": false,
    "ExecuteTime": {
     "end_time": "2024-07-16T18:26:48.883851600Z",
     "start_time": "2024-07-16T18:26:48.828805400Z"
    }
   },
   "id": "ede6d3b8601dd293"
  },
  {
   "cell_type": "code",
   "execution_count": 4,
   "outputs": [],
   "source": [
    "df.drop(columns = ['type', 'country', 'date_added', 'rating', 'duration'], inplace = True)"
   ],
   "metadata": {
    "collapsed": false,
    "ExecuteTime": {
     "end_time": "2024-07-16T18:26:48.920851700Z",
     "start_time": "2024-07-16T18:26:48.843803500Z"
    }
   },
   "id": "9963c3ee82171e34"
  },
  {
   "cell_type": "code",
   "execution_count": 5,
   "outputs": [
    {
     "data": {
      "text/plain": "show_id            0\ntitle              0\ndirector        2634\ncast             825\nrelease_year       0\nlisted_in          0\ndescription        0\ndtype: int64"
     },
     "execution_count": 5,
     "metadata": {},
     "output_type": "execute_result"
    }
   ],
   "source": [
    "df.isnull().sum()"
   ],
   "metadata": {
    "collapsed": false,
    "ExecuteTime": {
     "end_time": "2024-07-16T18:26:48.945577300Z",
     "start_time": "2024-07-16T18:26:48.860804500Z"
    }
   },
   "id": "e4ef56cd667b99f5"
  },
  {
   "cell_type": "code",
   "execution_count": 6,
   "outputs": [
    {
     "data": {
      "text/plain": "  show_id                  title         director  \\\n0      s1   Dick Johnson Is Dead  Kirsten Johnson   \n1      s2          Blood & Water              NaN   \n2      s3              Ganglands  Julien Leclercq   \n3      s4  Jailbirds New Orleans              NaN   \n4      s5           Kota Factory              NaN   \n\n                                                cast  release_year  \\\n0                                                NaN          2020   \n1  Ama Qamata, Khosi Ngema, Gail Mabalane, Thaban...          2021   \n2  Sami Bouajila, Tracy Gotoas, Samuel Jouy, Nabi...          2021   \n3                                                NaN          2021   \n4  Mayur More, Jitendra Kumar, Ranjan Raj, Alam K...          2021   \n\n                                           listed_in  \\\n0                                      Documentaries   \n1    International TV Shows, TV Dramas, TV Mysteries   \n2  Crime TV Shows, International TV Shows, TV Act...   \n3                             Docuseries, Reality TV   \n4  International TV Shows, Romantic TV Shows, TV ...   \n\n                                         description  \n0  As her father nears the end of his life, filmm...  \n1  After crossing paths at a party, a Cape Town t...  \n2  To protect his family from a powerful drug lor...  \n3  Feuds, flirtations and toilet talk go down amo...  \n4  In a city of coaching centers known to train I...  ",
      "text/html": "<div>\n<style scoped>\n    .dataframe tbody tr th:only-of-type {\n        vertical-align: middle;\n    }\n\n    .dataframe tbody tr th {\n        vertical-align: top;\n    }\n\n    .dataframe thead th {\n        text-align: right;\n    }\n</style>\n<table border=\"1\" class=\"dataframe\">\n  <thead>\n    <tr style=\"text-align: right;\">\n      <th></th>\n      <th>show_id</th>\n      <th>title</th>\n      <th>director</th>\n      <th>cast</th>\n      <th>release_year</th>\n      <th>listed_in</th>\n      <th>description</th>\n    </tr>\n  </thead>\n  <tbody>\n    <tr>\n      <th>0</th>\n      <td>s1</td>\n      <td>Dick Johnson Is Dead</td>\n      <td>Kirsten Johnson</td>\n      <td>NaN</td>\n      <td>2020</td>\n      <td>Documentaries</td>\n      <td>As her father nears the end of his life, filmm...</td>\n    </tr>\n    <tr>\n      <th>1</th>\n      <td>s2</td>\n      <td>Blood &amp; Water</td>\n      <td>NaN</td>\n      <td>Ama Qamata, Khosi Ngema, Gail Mabalane, Thaban...</td>\n      <td>2021</td>\n      <td>International TV Shows, TV Dramas, TV Mysteries</td>\n      <td>After crossing paths at a party, a Cape Town t...</td>\n    </tr>\n    <tr>\n      <th>2</th>\n      <td>s3</td>\n      <td>Ganglands</td>\n      <td>Julien Leclercq</td>\n      <td>Sami Bouajila, Tracy Gotoas, Samuel Jouy, Nabi...</td>\n      <td>2021</td>\n      <td>Crime TV Shows, International TV Shows, TV Act...</td>\n      <td>To protect his family from a powerful drug lor...</td>\n    </tr>\n    <tr>\n      <th>3</th>\n      <td>s4</td>\n      <td>Jailbirds New Orleans</td>\n      <td>NaN</td>\n      <td>NaN</td>\n      <td>2021</td>\n      <td>Docuseries, Reality TV</td>\n      <td>Feuds, flirtations and toilet talk go down amo...</td>\n    </tr>\n    <tr>\n      <th>4</th>\n      <td>s5</td>\n      <td>Kota Factory</td>\n      <td>NaN</td>\n      <td>Mayur More, Jitendra Kumar, Ranjan Raj, Alam K...</td>\n      <td>2021</td>\n      <td>International TV Shows, Romantic TV Shows, TV ...</td>\n      <td>In a city of coaching centers known to train I...</td>\n    </tr>\n  </tbody>\n</table>\n</div>"
     },
     "execution_count": 6,
     "metadata": {},
     "output_type": "execute_result"
    }
   ],
   "source": [
    "df.head()"
   ],
   "metadata": {
    "collapsed": false,
    "ExecuteTime": {
     "end_time": "2024-07-16T18:26:48.966578300Z",
     "start_time": "2024-07-16T18:26:48.876839900Z"
    }
   },
   "id": "900d0ae43d53ce59"
  },
  {
   "cell_type": "code",
   "execution_count": 7,
   "outputs": [],
   "source": [
    "#Replacing NaN values to an Empty string as replace doesn't work on float values and \"NaN\" is a float value\n",
    "df['cast'] = df['cast'].apply(lambda x: '' if pd.isna(x) else x.replace(\" \", \"\"))\n",
    "df['listed_in'] = df['listed_in'].apply(lambda x: '' if pd.isna(x) else x.replace(\" \", \"\"))\n",
    "df['director'] = df['director'].apply(lambda x: '' if pd.isna(x) else x.replace(\" \", \"\"))"
   ],
   "metadata": {
    "collapsed": false,
    "ExecuteTime": {
     "end_time": "2024-07-16T18:26:49.030959400Z",
     "start_time": "2024-07-16T18:26:48.893851900Z"
    }
   },
   "id": "b02f11f5dfdd1838"
  },
  {
   "cell_type": "code",
   "execution_count": 8,
   "outputs": [
    {
     "data": {
      "text/plain": "0                                                        \n1       AmaQamata,KhosiNgema,GailMabalane,ThabangMolab...\n2       SamiBouajila,TracyGotoas,SamuelJouy,NabihaAkka...\n3                                                        \n4       MayurMore,JitendraKumar,RanjanRaj,AlamKhan,Ahs...\n                              ...                        \n8802    MarkRuffalo,JakeGyllenhaal,RobertDowneyJr.,Ant...\n8803                                                     \n8804    JesseEisenberg,WoodyHarrelson,EmmaStone,Abigai...\n8805    TimAllen,CourteneyCox,ChevyChase,KateMara,Ryan...\n8806    VickyKaushal,Sarah-JaneDias,RaaghavChanana,Man...\nName: cast, Length: 8807, dtype: object"
     },
     "execution_count": 8,
     "metadata": {},
     "output_type": "execute_result"
    }
   ],
   "source": [
    "df['cast']"
   ],
   "metadata": {
    "collapsed": false,
    "ExecuteTime": {
     "end_time": "2024-07-16T18:26:49.030959400Z",
     "start_time": "2024-07-16T18:26:48.923849700Z"
    }
   },
   "id": "d539b58e3a5bf199"
  },
  {
   "cell_type": "code",
   "execution_count": 9,
   "outputs": [],
   "source": [
    "#Removing Space\n",
    "df['listed_in'] = df['listed_in'].apply(lambda x: x.replace(\" \",\"\"))\n",
    "df['cast'] = df['cast'].apply(lambda x: x.replace(\" \",\"\"))"
   ],
   "metadata": {
    "collapsed": false,
    "ExecuteTime": {
     "end_time": "2024-07-16T18:26:49.140325100Z",
     "start_time": "2024-07-16T18:26:48.940575800Z"
    }
   },
   "id": "4dfe064b5bfc04c4"
  },
  {
   "cell_type": "code",
   "execution_count": 10,
   "outputs": [
    {
     "data": {
      "text/plain": "  show_id                  title        director  \\\n0      s1   Dick Johnson Is Dead  KirstenJohnson   \n1      s2          Blood & Water                   \n2      s3              Ganglands  JulienLeclercq   \n3      s4  Jailbirds New Orleans                   \n4      s5           Kota Factory                   \n\n                                                cast  release_year  \\\n0                                                             2020   \n1  AmaQamata,KhosiNgema,GailMabalane,ThabangMolab...          2021   \n2  SamiBouajila,TracyGotoas,SamuelJouy,NabihaAkka...          2021   \n3                                                             2021   \n4  MayurMore,JitendraKumar,RanjanRaj,AlamKhan,Ahs...          2021   \n\n                                           listed_in  \\\n0                                      Documentaries   \n1          InternationalTVShows,TVDramas,TVMysteries   \n2  CrimeTVShows,InternationalTVShows,TVAction&Adv...   \n3                               Docuseries,RealityTV   \n4    InternationalTVShows,RomanticTVShows,TVComedies   \n\n                                         description  \n0  As her father nears the end of his life, filmm...  \n1  After crossing paths at a party, a Cape Town t...  \n2  To protect his family from a powerful drug lor...  \n3  Feuds, flirtations and toilet talk go down amo...  \n4  In a city of coaching centers known to train I...  ",
      "text/html": "<div>\n<style scoped>\n    .dataframe tbody tr th:only-of-type {\n        vertical-align: middle;\n    }\n\n    .dataframe tbody tr th {\n        vertical-align: top;\n    }\n\n    .dataframe thead th {\n        text-align: right;\n    }\n</style>\n<table border=\"1\" class=\"dataframe\">\n  <thead>\n    <tr style=\"text-align: right;\">\n      <th></th>\n      <th>show_id</th>\n      <th>title</th>\n      <th>director</th>\n      <th>cast</th>\n      <th>release_year</th>\n      <th>listed_in</th>\n      <th>description</th>\n    </tr>\n  </thead>\n  <tbody>\n    <tr>\n      <th>0</th>\n      <td>s1</td>\n      <td>Dick Johnson Is Dead</td>\n      <td>KirstenJohnson</td>\n      <td></td>\n      <td>2020</td>\n      <td>Documentaries</td>\n      <td>As her father nears the end of his life, filmm...</td>\n    </tr>\n    <tr>\n      <th>1</th>\n      <td>s2</td>\n      <td>Blood &amp; Water</td>\n      <td></td>\n      <td>AmaQamata,KhosiNgema,GailMabalane,ThabangMolab...</td>\n      <td>2021</td>\n      <td>InternationalTVShows,TVDramas,TVMysteries</td>\n      <td>After crossing paths at a party, a Cape Town t...</td>\n    </tr>\n    <tr>\n      <th>2</th>\n      <td>s3</td>\n      <td>Ganglands</td>\n      <td>JulienLeclercq</td>\n      <td>SamiBouajila,TracyGotoas,SamuelJouy,NabihaAkka...</td>\n      <td>2021</td>\n      <td>CrimeTVShows,InternationalTVShows,TVAction&amp;Adv...</td>\n      <td>To protect his family from a powerful drug lor...</td>\n    </tr>\n    <tr>\n      <th>3</th>\n      <td>s4</td>\n      <td>Jailbirds New Orleans</td>\n      <td></td>\n      <td></td>\n      <td>2021</td>\n      <td>Docuseries,RealityTV</td>\n      <td>Feuds, flirtations and toilet talk go down amo...</td>\n    </tr>\n    <tr>\n      <th>4</th>\n      <td>s5</td>\n      <td>Kota Factory</td>\n      <td></td>\n      <td>MayurMore,JitendraKumar,RanjanRaj,AlamKhan,Ahs...</td>\n      <td>2021</td>\n      <td>InternationalTVShows,RomanticTVShows,TVComedies</td>\n      <td>In a city of coaching centers known to train I...</td>\n    </tr>\n  </tbody>\n</table>\n</div>"
     },
     "execution_count": 10,
     "metadata": {},
     "output_type": "execute_result"
    }
   ],
   "source": [
    "df.head()"
   ],
   "metadata": {
    "collapsed": false,
    "ExecuteTime": {
     "end_time": "2024-07-16T18:26:49.152007900Z",
     "start_time": "2024-07-16T18:26:48.956620900Z"
    }
   },
   "id": "e5ebedde73f1c963"
  },
  {
   "cell_type": "code",
   "execution_count": 11,
   "outputs": [
    {
     "data": {
      "text/plain": "     show_id                  title        director  \\\n0         s1   Dick Johnson Is Dead  KirstenJohnson   \n1         s2          Blood & Water                   \n2         s3              Ganglands  JulienLeclercq   \n3         s4  Jailbirds New Orleans                   \n4         s5           Kota Factory                   \n...      ...                    ...             ...   \n8802   s8803                 Zodiac    DavidFincher   \n8803   s8804            Zombie Dumb                   \n8804   s8805             Zombieland  RubenFleischer   \n8805   s8806                   Zoom     PeterHewitt   \n8806   s8807                 Zubaan      MozezSingh   \n\n                                                   cast  release_year  \\\n0                                                                2020   \n1     AmaQamata,KhosiNgema,GailMabalane,ThabangMolab...          2021   \n2     SamiBouajila,TracyGotoas,SamuelJouy,NabihaAkka...          2021   \n3                                                                2021   \n4     MayurMore,JitendraKumar,RanjanRaj,AlamKhan,Ahs...          2021   \n...                                                 ...           ...   \n8802  MarkRuffalo,JakeGyllenhaal,RobertDowneyJr.,Ant...          2007   \n8803                                                             2018   \n8804  JesseEisenberg,WoodyHarrelson,EmmaStone,Abigai...          2009   \n8805  TimAllen,CourteneyCox,ChevyChase,KateMara,Ryan...          2006   \n8806  VickyKaushal,Sarah-JaneDias,RaaghavChanana,Man...          2015   \n\n                                              listed_in  \\\n0                                         Documentaries   \n1             InternationalTVShows,TVDramas,TVMysteries   \n2     CrimeTVShows,InternationalTVShows,TVAction&Adv...   \n3                                  Docuseries,RealityTV   \n4       InternationalTVShows,RomanticTVShows,TVComedies   \n...                                                 ...   \n8802                        CultMovies,Dramas,Thrillers   \n8803                   Kids'TV,KoreanTVShows,TVComedies   \n8804                              Comedies,HorrorMovies   \n8805                     Children&FamilyMovies,Comedies   \n8806          Dramas,InternationalMovies,Music&Musicals   \n\n                                            description  \n0     As her father nears the end of his life, filmm...  \n1     After crossing paths at a party, a Cape Town t...  \n2     To protect his family from a powerful drug lor...  \n3     Feuds, flirtations and toilet talk go down amo...  \n4     In a city of coaching centers known to train I...  \n...                                                 ...  \n8802  A political cartoonist, a crime reporter and a...  \n8803  While living alone in a spooky town, a young g...  \n8804  Looking to survive in a world taken over by zo...  \n8805  Dragged from civilian life, a former superhero...  \n8806  A scrappy but poor boy worms his way into a ty...  \n\n[8807 rows x 7 columns]",
      "text/html": "<div>\n<style scoped>\n    .dataframe tbody tr th:only-of-type {\n        vertical-align: middle;\n    }\n\n    .dataframe tbody tr th {\n        vertical-align: top;\n    }\n\n    .dataframe thead th {\n        text-align: right;\n    }\n</style>\n<table border=\"1\" class=\"dataframe\">\n  <thead>\n    <tr style=\"text-align: right;\">\n      <th></th>\n      <th>show_id</th>\n      <th>title</th>\n      <th>director</th>\n      <th>cast</th>\n      <th>release_year</th>\n      <th>listed_in</th>\n      <th>description</th>\n    </tr>\n  </thead>\n  <tbody>\n    <tr>\n      <th>0</th>\n      <td>s1</td>\n      <td>Dick Johnson Is Dead</td>\n      <td>KirstenJohnson</td>\n      <td></td>\n      <td>2020</td>\n      <td>Documentaries</td>\n      <td>As her father nears the end of his life, filmm...</td>\n    </tr>\n    <tr>\n      <th>1</th>\n      <td>s2</td>\n      <td>Blood &amp; Water</td>\n      <td></td>\n      <td>AmaQamata,KhosiNgema,GailMabalane,ThabangMolab...</td>\n      <td>2021</td>\n      <td>InternationalTVShows,TVDramas,TVMysteries</td>\n      <td>After crossing paths at a party, a Cape Town t...</td>\n    </tr>\n    <tr>\n      <th>2</th>\n      <td>s3</td>\n      <td>Ganglands</td>\n      <td>JulienLeclercq</td>\n      <td>SamiBouajila,TracyGotoas,SamuelJouy,NabihaAkka...</td>\n      <td>2021</td>\n      <td>CrimeTVShows,InternationalTVShows,TVAction&amp;Adv...</td>\n      <td>To protect his family from a powerful drug lor...</td>\n    </tr>\n    <tr>\n      <th>3</th>\n      <td>s4</td>\n      <td>Jailbirds New Orleans</td>\n      <td></td>\n      <td></td>\n      <td>2021</td>\n      <td>Docuseries,RealityTV</td>\n      <td>Feuds, flirtations and toilet talk go down amo...</td>\n    </tr>\n    <tr>\n      <th>4</th>\n      <td>s5</td>\n      <td>Kota Factory</td>\n      <td></td>\n      <td>MayurMore,JitendraKumar,RanjanRaj,AlamKhan,Ahs...</td>\n      <td>2021</td>\n      <td>InternationalTVShows,RomanticTVShows,TVComedies</td>\n      <td>In a city of coaching centers known to train I...</td>\n    </tr>\n    <tr>\n      <th>...</th>\n      <td>...</td>\n      <td>...</td>\n      <td>...</td>\n      <td>...</td>\n      <td>...</td>\n      <td>...</td>\n      <td>...</td>\n    </tr>\n    <tr>\n      <th>8802</th>\n      <td>s8803</td>\n      <td>Zodiac</td>\n      <td>DavidFincher</td>\n      <td>MarkRuffalo,JakeGyllenhaal,RobertDowneyJr.,Ant...</td>\n      <td>2007</td>\n      <td>CultMovies,Dramas,Thrillers</td>\n      <td>A political cartoonist, a crime reporter and a...</td>\n    </tr>\n    <tr>\n      <th>8803</th>\n      <td>s8804</td>\n      <td>Zombie Dumb</td>\n      <td></td>\n      <td></td>\n      <td>2018</td>\n      <td>Kids'TV,KoreanTVShows,TVComedies</td>\n      <td>While living alone in a spooky town, a young g...</td>\n    </tr>\n    <tr>\n      <th>8804</th>\n      <td>s8805</td>\n      <td>Zombieland</td>\n      <td>RubenFleischer</td>\n      <td>JesseEisenberg,WoodyHarrelson,EmmaStone,Abigai...</td>\n      <td>2009</td>\n      <td>Comedies,HorrorMovies</td>\n      <td>Looking to survive in a world taken over by zo...</td>\n    </tr>\n    <tr>\n      <th>8805</th>\n      <td>s8806</td>\n      <td>Zoom</td>\n      <td>PeterHewitt</td>\n      <td>TimAllen,CourteneyCox,ChevyChase,KateMara,Ryan...</td>\n      <td>2006</td>\n      <td>Children&amp;FamilyMovies,Comedies</td>\n      <td>Dragged from civilian life, a former superhero...</td>\n    </tr>\n    <tr>\n      <th>8806</th>\n      <td>s8807</td>\n      <td>Zubaan</td>\n      <td>MozezSingh</td>\n      <td>VickyKaushal,Sarah-JaneDias,RaaghavChanana,Man...</td>\n      <td>2015</td>\n      <td>Dramas,InternationalMovies,Music&amp;Musicals</td>\n      <td>A scrappy but poor boy worms his way into a ty...</td>\n    </tr>\n  </tbody>\n</table>\n<p>8807 rows × 7 columns</p>\n</div>"
     },
     "execution_count": 11,
     "metadata": {},
     "output_type": "execute_result"
    }
   ],
   "source": [
    "df"
   ],
   "metadata": {
    "collapsed": false,
    "ExecuteTime": {
     "end_time": "2024-07-16T18:26:49.153017500Z",
     "start_time": "2024-07-16T18:26:48.972579900Z"
    }
   },
   "id": "e02ceb07f0361126"
  },
  {
   "cell_type": "markdown",
   "source": [
    "## Making tags for the content"
   ],
   "metadata": {
    "collapsed": false
   },
   "id": "2a52555f56379972"
  },
  {
   "cell_type": "code",
   "execution_count": 12,
   "outputs": [],
   "source": [
    "df['tags'] = df['director']+ \" \" + df['cast']  + \" \" +  df['description']  +  \" \" + df['listed_in']"
   ],
   "metadata": {
    "collapsed": false,
    "ExecuteTime": {
     "end_time": "2024-07-16T18:26:49.154010100Z",
     "start_time": "2024-07-16T18:26:48.987578600Z"
    }
   },
   "id": "36f2249eedb5ce6b"
  },
  {
   "cell_type": "code",
   "execution_count": 13,
   "outputs": [
    {
     "data": {
      "text/plain": "  show_id                  title        director  \\\n0      s1   Dick Johnson Is Dead  KirstenJohnson   \n1      s2          Blood & Water                   \n2      s3              Ganglands  JulienLeclercq   \n3      s4  Jailbirds New Orleans                   \n4      s5           Kota Factory                   \n\n                                                cast  release_year  \\\n0                                                             2020   \n1  AmaQamata,KhosiNgema,GailMabalane,ThabangMolab...          2021   \n2  SamiBouajila,TracyGotoas,SamuelJouy,NabihaAkka...          2021   \n3                                                             2021   \n4  MayurMore,JitendraKumar,RanjanRaj,AlamKhan,Ahs...          2021   \n\n                                           listed_in  \\\n0                                      Documentaries   \n1          InternationalTVShows,TVDramas,TVMysteries   \n2  CrimeTVShows,InternationalTVShows,TVAction&Adv...   \n3                               Docuseries,RealityTV   \n4    InternationalTVShows,RomanticTVShows,TVComedies   \n\n                                         description  \\\n0  As her father nears the end of his life, filmm...   \n1  After crossing paths at a party, a Cape Town t...   \n2  To protect his family from a powerful drug lor...   \n3  Feuds, flirtations and toilet talk go down amo...   \n4  In a city of coaching centers known to train I...   \n\n                                                tags  \n0  KirstenJohnson  As her father nears the end of...  \n1   AmaQamata,KhosiNgema,GailMabalane,ThabangMola...  \n2  JulienLeclercq SamiBouajila,TracyGotoas,Samuel...  \n3    Feuds, flirtations and toilet talk go down a...  \n4   MayurMore,JitendraKumar,RanjanRaj,AlamKhan,Ah...  ",
      "text/html": "<div>\n<style scoped>\n    .dataframe tbody tr th:only-of-type {\n        vertical-align: middle;\n    }\n\n    .dataframe tbody tr th {\n        vertical-align: top;\n    }\n\n    .dataframe thead th {\n        text-align: right;\n    }\n</style>\n<table border=\"1\" class=\"dataframe\">\n  <thead>\n    <tr style=\"text-align: right;\">\n      <th></th>\n      <th>show_id</th>\n      <th>title</th>\n      <th>director</th>\n      <th>cast</th>\n      <th>release_year</th>\n      <th>listed_in</th>\n      <th>description</th>\n      <th>tags</th>\n    </tr>\n  </thead>\n  <tbody>\n    <tr>\n      <th>0</th>\n      <td>s1</td>\n      <td>Dick Johnson Is Dead</td>\n      <td>KirstenJohnson</td>\n      <td></td>\n      <td>2020</td>\n      <td>Documentaries</td>\n      <td>As her father nears the end of his life, filmm...</td>\n      <td>KirstenJohnson  As her father nears the end of...</td>\n    </tr>\n    <tr>\n      <th>1</th>\n      <td>s2</td>\n      <td>Blood &amp; Water</td>\n      <td></td>\n      <td>AmaQamata,KhosiNgema,GailMabalane,ThabangMolab...</td>\n      <td>2021</td>\n      <td>InternationalTVShows,TVDramas,TVMysteries</td>\n      <td>After crossing paths at a party, a Cape Town t...</td>\n      <td>AmaQamata,KhosiNgema,GailMabalane,ThabangMola...</td>\n    </tr>\n    <tr>\n      <th>2</th>\n      <td>s3</td>\n      <td>Ganglands</td>\n      <td>JulienLeclercq</td>\n      <td>SamiBouajila,TracyGotoas,SamuelJouy,NabihaAkka...</td>\n      <td>2021</td>\n      <td>CrimeTVShows,InternationalTVShows,TVAction&amp;Adv...</td>\n      <td>To protect his family from a powerful drug lor...</td>\n      <td>JulienLeclercq SamiBouajila,TracyGotoas,Samuel...</td>\n    </tr>\n    <tr>\n      <th>3</th>\n      <td>s4</td>\n      <td>Jailbirds New Orleans</td>\n      <td></td>\n      <td></td>\n      <td>2021</td>\n      <td>Docuseries,RealityTV</td>\n      <td>Feuds, flirtations and toilet talk go down amo...</td>\n      <td>Feuds, flirtations and toilet talk go down a...</td>\n    </tr>\n    <tr>\n      <th>4</th>\n      <td>s5</td>\n      <td>Kota Factory</td>\n      <td></td>\n      <td>MayurMore,JitendraKumar,RanjanRaj,AlamKhan,Ahs...</td>\n      <td>2021</td>\n      <td>InternationalTVShows,RomanticTVShows,TVComedies</td>\n      <td>In a city of coaching centers known to train I...</td>\n      <td>MayurMore,JitendraKumar,RanjanRaj,AlamKhan,Ah...</td>\n    </tr>\n  </tbody>\n</table>\n</div>"
     },
     "execution_count": 13,
     "metadata": {},
     "output_type": "execute_result"
    }
   ],
   "source": [
    "df.head()"
   ],
   "metadata": {
    "collapsed": false,
    "ExecuteTime": {
     "end_time": "2024-07-16T18:26:49.277998400Z",
     "start_time": "2024-07-16T18:26:49.025959400Z"
    }
   },
   "id": "3acf1c67c9f7f4f"
  },
  {
   "cell_type": "code",
   "execution_count": 14,
   "outputs": [
    {
     "data": {
      "text/plain": "  show_id                  title  \\\n0      s1   Dick Johnson Is Dead   \n1      s2          Blood & Water   \n2      s3              Ganglands   \n3      s4  Jailbirds New Orleans   \n4      s5           Kota Factory   \n\n                                                tags  \n0  KirstenJohnson  As her father nears the end of...  \n1   AmaQamata,KhosiNgema,GailMabalane,ThabangMola...  \n2  JulienLeclercq SamiBouajila,TracyGotoas,Samuel...  \n3    Feuds, flirtations and toilet talk go down a...  \n4   MayurMore,JitendraKumar,RanjanRaj,AlamKhan,Ah...  ",
      "text/html": "<div>\n<style scoped>\n    .dataframe tbody tr th:only-of-type {\n        vertical-align: middle;\n    }\n\n    .dataframe tbody tr th {\n        vertical-align: top;\n    }\n\n    .dataframe thead th {\n        text-align: right;\n    }\n</style>\n<table border=\"1\" class=\"dataframe\">\n  <thead>\n    <tr style=\"text-align: right;\">\n      <th></th>\n      <th>show_id</th>\n      <th>title</th>\n      <th>tags</th>\n    </tr>\n  </thead>\n  <tbody>\n    <tr>\n      <th>0</th>\n      <td>s1</td>\n      <td>Dick Johnson Is Dead</td>\n      <td>KirstenJohnson  As her father nears the end of...</td>\n    </tr>\n    <tr>\n      <th>1</th>\n      <td>s2</td>\n      <td>Blood &amp; Water</td>\n      <td>AmaQamata,KhosiNgema,GailMabalane,ThabangMola...</td>\n    </tr>\n    <tr>\n      <th>2</th>\n      <td>s3</td>\n      <td>Ganglands</td>\n      <td>JulienLeclercq SamiBouajila,TracyGotoas,Samuel...</td>\n    </tr>\n    <tr>\n      <th>3</th>\n      <td>s4</td>\n      <td>Jailbirds New Orleans</td>\n      <td>Feuds, flirtations and toilet talk go down a...</td>\n    </tr>\n    <tr>\n      <th>4</th>\n      <td>s5</td>\n      <td>Kota Factory</td>\n      <td>MayurMore,JitendraKumar,RanjanRaj,AlamKhan,Ah...</td>\n    </tr>\n  </tbody>\n</table>\n</div>"
     },
     "execution_count": 14,
     "metadata": {},
     "output_type": "execute_result"
    }
   ],
   "source": [
    "#making a new dataframe\n",
    "new_df = df[['show_id','title','tags']]\n",
    "new_df.head()"
   ],
   "metadata": {
    "collapsed": false,
    "ExecuteTime": {
     "end_time": "2024-07-16T18:26:49.471573Z",
     "start_time": "2024-07-16T18:26:49.376015300Z"
    }
   },
   "id": "2fe57f259203c270"
  },
  {
   "cell_type": "code",
   "execution_count": 15,
   "outputs": [],
   "source": [
    "#converting to lowercase\n",
    "new_df = new_df.copy()\n",
    "new_df['tags'] = new_df['tags'].apply(lambda x: x.lower())"
   ],
   "metadata": {
    "collapsed": false,
    "ExecuteTime": {
     "end_time": "2024-07-16T18:26:49.865160600Z",
     "start_time": "2024-07-16T18:26:49.673128400Z"
    }
   },
   "id": "f5db41fdca33760c"
  },
  {
   "cell_type": "markdown",
   "source": [
    "## Stemming Analysis"
   ],
   "metadata": {
    "collapsed": false
   },
   "id": "a9725dbf575603bb"
  },
  {
   "cell_type": "code",
   "execution_count": 16,
   "outputs": [],
   "source": [
    "import nltk"
   ],
   "metadata": {
    "collapsed": false,
    "ExecuteTime": {
     "end_time": "2024-07-16T18:26:51.828236100Z",
     "start_time": "2024-07-16T18:26:51.396537500Z"
    }
   },
   "id": "2dd9562a5bf22ab6"
  },
  {
   "cell_type": "code",
   "execution_count": 17,
   "outputs": [],
   "source": [
    "from nltk.stem.porter import PorterStemmer\n",
    "ps = PorterStemmer()"
   ],
   "metadata": {
    "collapsed": false,
    "ExecuteTime": {
     "end_time": "2024-07-16T18:26:51.844236400Z",
     "start_time": "2024-07-16T18:26:51.830234800Z"
    }
   },
   "id": "99e75c536c329841"
  },
  {
   "cell_type": "code",
   "execution_count": 18,
   "outputs": [],
   "source": [
    "def stem(text):\n",
    "    l = []\n",
    "    for i in text.split():           #split the word by a comma and list \n",
    "        l.append(ps.stem(i))\n",
    "\n",
    "    return \" \".join(l)               # list string separated by space"
   ],
   "metadata": {
    "collapsed": false,
    "ExecuteTime": {
     "end_time": "2024-07-16T18:26:51.942401400Z",
     "start_time": "2024-07-16T18:26:51.927353500Z"
    }
   },
   "id": "dc81914071ec70e4"
  },
  {
   "cell_type": "code",
   "execution_count": 19,
   "outputs": [],
   "source": [
    "new_df['tags'] = new_df['tags'].apply(stem)"
   ],
   "metadata": {
    "collapsed": false,
    "ExecuteTime": {
     "end_time": "2024-07-16T18:26:54.371259700Z",
     "start_time": "2024-07-16T18:26:52.124956800Z"
    }
   },
   "id": "b32b7de7a374d9f1"
  },
  {
   "cell_type": "code",
   "execution_count": 20,
   "outputs": [
    {
     "data": {
      "text/plain": "  show_id                  title  \\\n0      s1   Dick Johnson Is Dead   \n1      s2          Blood & Water   \n2      s3              Ganglands   \n3      s4  Jailbirds New Orleans   \n4      s5           Kota Factory   \n\n                                                tags  \n0  kirstenjohnson as her father near the end of h...  \n1  amaqamata,khosingema,gailmabalane,thabangmolab...  \n2  julienleclercq samibouajila,tracygotoas,samuel...  \n3  feuds, flirtat and toilet talk go down among t...  \n4  mayurmore,jitendrakumar,ranjanraj,alamkhan,ahs...  ",
      "text/html": "<div>\n<style scoped>\n    .dataframe tbody tr th:only-of-type {\n        vertical-align: middle;\n    }\n\n    .dataframe tbody tr th {\n        vertical-align: top;\n    }\n\n    .dataframe thead th {\n        text-align: right;\n    }\n</style>\n<table border=\"1\" class=\"dataframe\">\n  <thead>\n    <tr style=\"text-align: right;\">\n      <th></th>\n      <th>show_id</th>\n      <th>title</th>\n      <th>tags</th>\n    </tr>\n  </thead>\n  <tbody>\n    <tr>\n      <th>0</th>\n      <td>s1</td>\n      <td>Dick Johnson Is Dead</td>\n      <td>kirstenjohnson as her father near the end of h...</td>\n    </tr>\n    <tr>\n      <th>1</th>\n      <td>s2</td>\n      <td>Blood &amp; Water</td>\n      <td>amaqamata,khosingema,gailmabalane,thabangmolab...</td>\n    </tr>\n    <tr>\n      <th>2</th>\n      <td>s3</td>\n      <td>Ganglands</td>\n      <td>julienleclercq samibouajila,tracygotoas,samuel...</td>\n    </tr>\n    <tr>\n      <th>3</th>\n      <td>s4</td>\n      <td>Jailbirds New Orleans</td>\n      <td>feuds, flirtat and toilet talk go down among t...</td>\n    </tr>\n    <tr>\n      <th>4</th>\n      <td>s5</td>\n      <td>Kota Factory</td>\n      <td>mayurmore,jitendrakumar,ranjanraj,alamkhan,ahs...</td>\n    </tr>\n  </tbody>\n</table>\n</div>"
     },
     "execution_count": 20,
     "metadata": {},
     "output_type": "execute_result"
    }
   ],
   "source": [
    "new_df.head()"
   ],
   "metadata": {
    "collapsed": false,
    "ExecuteTime": {
     "end_time": "2024-07-16T18:26:54.377258800Z",
     "start_time": "2024-07-16T18:26:54.359260200Z"
    }
   },
   "id": "bec39a0ef985938b"
  },
  {
   "cell_type": "code",
   "execution_count": 21,
   "outputs": [
    {
     "data": {
      "text/plain": "(8807, 3)"
     },
     "execution_count": 21,
     "metadata": {},
     "output_type": "execute_result"
    }
   ],
   "source": [
    "new_df.shape"
   ],
   "metadata": {
    "collapsed": false,
    "ExecuteTime": {
     "end_time": "2024-07-16T18:26:54.390303500Z",
     "start_time": "2024-07-16T18:26:54.374258500Z"
    }
   },
   "id": "6f65ceb7a696142e"
  },
  {
   "cell_type": "code",
   "execution_count": 22,
   "outputs": [
    {
     "data": {
      "text/plain": "0       kirstenjohnson as her father near the end of h...\n1       amaqamata,khosingema,gailmabalane,thabangmolab...\n2       julienleclercq samibouajila,tracygotoas,samuel...\n3       feuds, flirtat and toilet talk go down among t...\n4       mayurmore,jitendrakumar,ranjanraj,alamkhan,ahs...\n                              ...                        \n8802    davidfinch markruffalo,jakegyllenhaal,robertdo...\n8803    while live alon in a spooki town, a young girl...\n8804    rubenfleisch jesseeisenberg,woodyharrelson,emm...\n8805    peterhewitt timallen,courteneycox,chevychase,k...\n8806    mozezsingh vickykaushal,sarah-janedias,raaghav...\nName: tags, Length: 8807, dtype: object"
     },
     "execution_count": 22,
     "metadata": {},
     "output_type": "execute_result"
    }
   ],
   "source": [
    "new_df['tags']"
   ],
   "metadata": {
    "collapsed": false,
    "ExecuteTime": {
     "end_time": "2024-07-16T18:26:54.427356800Z",
     "start_time": "2024-07-16T18:26:54.390303500Z"
    }
   },
   "id": "b9b4c8d279c95c6c"
  },
  {
   "cell_type": "code",
   "execution_count": 23,
   "outputs": [
    {
     "data": {
      "text/plain": "233293"
     },
     "execution_count": 23,
     "metadata": {},
     "output_type": "execute_result"
    }
   ],
   "source": [
    "def count_words(row):\n",
    "    return len(row.split())\n",
    "\n",
    "# Apply the count_words function to each row of the 'tags' column\n",
    "new_df['word_count'] = df['tags'].apply(count_words)\n",
    "new_df['word_count'].mean()\n",
    "new_df['word_count'].sum() "
   ],
   "metadata": {
    "collapsed": false,
    "ExecuteTime": {
     "end_time": "2024-07-16T18:26:54.501997700Z",
     "start_time": "2024-07-16T18:26:54.407334900Z"
    }
   },
   "id": "f3d88a24000a897b"
  },
  {
   "cell_type": "code",
   "execution_count": 24,
   "outputs": [
    {
     "data": {
      "text/plain": "116646.5"
     },
     "execution_count": 24,
     "metadata": {},
     "output_type": "execute_result"
    }
   ],
   "source": [
    "233293/2"
   ],
   "metadata": {
    "collapsed": false,
    "ExecuteTime": {
     "end_time": "2024-07-16T18:26:54.547002Z",
     "start_time": "2024-07-16T18:26:54.436356600Z"
    }
   },
   "id": "9be20e31c94edecd"
  },
  {
   "cell_type": "markdown",
   "source": [
    "## Vectorization"
   ],
   "metadata": {
    "collapsed": false
   },
   "id": "1a110cbcd04d657d"
  },
  {
   "cell_type": "code",
   "execution_count": 25,
   "outputs": [],
   "source": [
    "from sklearn.feature_extraction.text import CountVectorizer"
   ],
   "metadata": {
    "collapsed": false,
    "ExecuteTime": {
     "end_time": "2024-07-16T18:26:54.570067400Z",
     "start_time": "2024-07-16T18:26:54.495381100Z"
    }
   },
   "id": "76ddf4f4f5662e0d"
  },
  {
   "cell_type": "code",
   "execution_count": 26,
   "outputs": [],
   "source": [
    "cv = CountVectorizer(max_features = 5000, stop_words = 'english')"
   ],
   "metadata": {
    "collapsed": false,
    "ExecuteTime": {
     "end_time": "2024-07-16T18:26:54.870186Z",
     "start_time": "2024-07-16T18:26:54.764185900Z"
    }
   },
   "id": "5f9ce4912135da8e"
  },
  {
   "cell_type": "code",
   "execution_count": 27,
   "outputs": [],
   "source": [
    "vectors = cv.fit_transform(new_df['tags']).toarray()"
   ],
   "metadata": {
    "collapsed": false,
    "ExecuteTime": {
     "end_time": "2024-07-16T18:26:55.303550800Z",
     "start_time": "2024-07-16T18:26:54.917184100Z"
    }
   },
   "id": "ecaed58721721456"
  },
  {
   "cell_type": "markdown",
   "source": [
    "## Similarity Score"
   ],
   "metadata": {
    "collapsed": false
   },
   "id": "6beea88595f51d35"
  },
  {
   "cell_type": "code",
   "execution_count": 28,
   "outputs": [],
   "source": [
    "from sklearn.metrics.pairwise import cosine_similarity"
   ],
   "metadata": {
    "collapsed": false,
    "ExecuteTime": {
     "end_time": "2024-07-16T18:26:55.682933100Z",
     "start_time": "2024-07-16T18:26:55.669933300Z"
    }
   },
   "id": "383eb61c1ce41f2e"
  },
  {
   "cell_type": "code",
   "execution_count": 29,
   "outputs": [],
   "source": [
    "similarity = cosine_similarity(vectors)"
   ],
   "metadata": {
    "collapsed": false,
    "ExecuteTime": {
     "end_time": "2024-07-16T18:26:59.376042400Z",
     "start_time": "2024-07-16T18:26:56.095559900Z"
    }
   },
   "id": "b919612be896cbc4"
  },
  {
   "cell_type": "code",
   "execution_count": 30,
   "outputs": [
    {
     "data": {
      "text/plain": "array([[1.        , 0.        , 0.20100756, ..., 0.        , 0.05892557,\n        0.35015049],\n       [0.        , 1.        , 0.05330018, ..., 0.        , 0.        ,\n        0.        ],\n       [0.20100756, 0.05330018, 1.        , ..., 0.05170877, 0.        ,\n        0.23754227],\n       ...,\n       [0.        , 0.        , 0.05170877, ..., 1.        , 0.        ,\n        0.        ],\n       [0.05892557, 0.        , 0.        , ..., 0.        , 1.        ,\n        0.        ],\n       [0.35015049, 0.        , 0.23754227, ..., 0.        , 0.        ,\n        1.        ]])"
     },
     "execution_count": 30,
     "metadata": {},
     "output_type": "execute_result"
    }
   ],
   "source": [
    "similarity"
   ],
   "metadata": {
    "collapsed": false,
    "ExecuteTime": {
     "end_time": "2024-07-16T18:26:59.377042900Z",
     "start_time": "2024-07-16T18:26:59.358043500Z"
    }
   },
   "id": "afc5b070b3441a33"
  },
  {
   "cell_type": "markdown",
   "source": [
    "## Recommendation Function"
   ],
   "metadata": {
    "collapsed": false
   },
   "id": "ba1081c31e741ef5"
  },
  {
   "cell_type": "code",
   "execution_count": 31,
   "outputs": [
    {
     "data": {
      "text/plain": "1"
     },
     "execution_count": 31,
     "metadata": {},
     "output_type": "execute_result"
    }
   ],
   "source": [
    "df[df['title'] == 'Blood & Water'].index[0]"
   ],
   "metadata": {
    "collapsed": false,
    "ExecuteTime": {
     "end_time": "2024-07-16T18:26:59.387043800Z",
     "start_time": "2024-07-16T18:26:59.370044Z"
    }
   },
   "id": "20e1efb70ac3c830"
  },
  {
   "cell_type": "code",
   "execution_count": 32,
   "outputs": [
    {
     "data": {
      "text/plain": "[(1639, 0.32274861218395134),\n (2230, 0.3125),\n (4487, 0.2946278254943948),\n (3352, 0.2886751345948129),\n (8574, 0.2886751345948129)]"
     },
     "execution_count": 32,
     "metadata": {},
     "output_type": "execute_result"
    }
   ],
   "source": [
    "sorted(list(enumerate(similarity[1])), reverse = True, key = lambda x: x[1])[1:6]"
   ],
   "metadata": {
    "collapsed": false,
    "ExecuteTime": {
     "end_time": "2024-07-16T18:26:59.403041400Z",
     "start_time": "2024-07-16T18:26:59.386045700Z"
    }
   },
   "id": "4d0f51a79234f4c5"
  },
  {
   "cell_type": "code",
   "execution_count": 33,
   "outputs": [],
   "source": [
    "def recommend(movie):\n",
    "    movie_index = df[df['title'] == movie].index[0]             #index fetch \n",
    "    similar_movies = sorted(list(enumerate(similarity[movie_index])), reverse = True, key = lambda x: x[1])[1:6]   #sabse kam distance wali movies\n",
    "    \n",
    "    for i in similar_movies:\n",
    "        print(new_df.iloc[i[0]].title)"
   ],
   "metadata": {
    "collapsed": false,
    "ExecuteTime": {
     "end_time": "2024-07-16T18:26:59.487835Z",
     "start_time": "2024-07-16T18:26:59.400042600Z"
    }
   },
   "id": "7ebac15a9cb42e95"
  },
  {
   "cell_type": "code",
   "execution_count": 34,
   "outputs": [
    {
     "name": "stdout",
     "output_type": "stream",
     "text": [
      "Somewhere Only We Know\n",
      "Man Like Mobeen\n",
      "Dancing Angels\n",
      "O-Negative, Love Can’t Be Designed\n",
      "Castle of Stars\n"
     ]
    }
   ],
   "source": [
    "recommend('Kota Factory')"
   ],
   "metadata": {
    "collapsed": false,
    "ExecuteTime": {
     "end_time": "2024-07-16T18:26:59.488838900Z",
     "start_time": "2024-07-16T18:26:59.417189400Z"
    }
   },
   "id": "909c72d45a440841"
  },
  {
   "cell_type": "markdown",
   "source": [
    "### Saving the Model"
   ],
   "metadata": {
    "collapsed": false
   },
   "id": "4b1cc2ac06ce11cf"
  },
  {
   "cell_type": "code",
   "execution_count": 36,
   "outputs": [],
   "source": [
    "import h5py\n",
    "import numpy as np\n",
    "import pickle\n",
    "\n",
    "# Save the model\n",
    "with h5py.File('models/movie_recommendation_model.h5', 'w') as hf:\n",
    "    # Save the cosine similarity matrix\n",
    "    hf.create_dataset('cosine_sim', data=similarity)\n",
    "\n",
    "    # Save the TF-IDF vectorizer\n",
    "    with open('models/tfidf_vectorizer.pkl', 'wb') as f:\n",
    "        pickle.dump(cv, f)\n",
    "\n",
    "# Also save the dataframe to ensure the indices are maintained\n",
    "new_df.to_csv('models/netflix_titles_with_indices.csv', index=False)\n"
   ],
   "metadata": {
    "collapsed": false,
    "ExecuteTime": {
     "end_time": "2024-07-16T18:33:22.489012500Z",
     "start_time": "2024-07-16T18:33:21.827458100Z"
    }
   },
   "id": "2ad782e02f3916f0"
  },
  {
   "cell_type": "markdown",
   "source": [
    "##"
   ],
   "metadata": {
    "collapsed": false
   },
   "id": "224c76b5eaaaea75"
  },
  {
   "cell_type": "code",
   "execution_count": 37,
   "outputs": [],
   "source": [
    "import h5py\n",
    "import numpy as np\n",
    "import pickle\n",
    "\n",
    "# Load the model\n",
    "with h5py.File('models/movie_recommendation_model.h5', 'r') as hf:\n",
    "    cosine_sim = np.array(hf['cosine_sim'])\n",
    "\n",
    "# Load the TF-IDF vectorizer\n",
    "with open('models/tfidf_vectorizer.pkl', 'rb') as f:\n",
    "    tfidf_vectorizer = pickle.load(f)\n",
    "\n",
    "# Load the dataframe\n",
    "netflix_df = pd.read_csv('models/netflix_titles_with_indices.csv')\n"
   ],
   "metadata": {
    "collapsed": false,
    "ExecuteTime": {
     "end_time": "2024-07-16T18:34:54.838208200Z",
     "start_time": "2024-07-16T18:34:53.864488200Z"
    }
   },
   "id": "b9e3efb9633a2d97"
  },
  {
   "cell_type": "code",
   "execution_count": 39,
   "outputs": [
    {
     "data": {
      "text/plain": "7590                        No Entry\n2116                Meet the In-Laws\n8260                      The Cruise\n984                        Kara Bela\n3545               Uncle Naji in UAE\n298                     Quam's Money\n2614                       Boushkash\n3482                        Deliha 2\n3548                Feo pero sabroso\n6108    Alarmoty in the Land of Fire\nName: title, dtype: object"
     },
     "execution_count": 39,
     "metadata": {},
     "output_type": "execute_result"
    }
   ],
   "source": [
    "def get_recommendations(title, cosine_sim=cosine_sim):\n",
    "    # Get the index of the movie that matches the title\n",
    "    idx = netflix_df[netflix_df['title'] == title].index[0]\n",
    "\n",
    "    # Get the pairwise similarity scores of all movies with that movie\n",
    "    sim_scores = list(enumerate(cosine_sim[idx]))\n",
    "\n",
    "    # Sort the movies based on the similarity scores\n",
    "    sim_scores = sorted(sim_scores, key=lambda x: x[1], reverse=True)\n",
    "\n",
    "    # Get the scores of the 10 most similar movies\n",
    "    sim_scores = sim_scores[1:11]\n",
    "\n",
    "    # Get the movie indices\n",
    "    movie_indices = [i[0] for i in sim_scores]\n",
    "\n",
    "    # Return the top 10 most similar movies\n",
    "    return netflix_df['title'].iloc[movie_indices]\n",
    "\n",
    "# Example usage: Get recommendations for the movie \"A Trip to Jamaica\"\n",
    "recommendations = get_recommendations('A Trip to Jamaica')\n",
    "recommendations\n"
   ],
   "metadata": {
    "collapsed": false,
    "ExecuteTime": {
     "end_time": "2024-07-16T18:36:58.255020600Z",
     "start_time": "2024-07-16T18:36:58.230026400Z"
    }
   },
   "id": "7036713999c4794d"
  },
  {
   "cell_type": "code",
   "execution_count": 43,
   "outputs": [
    {
     "data": {
      "text/plain": "               title  similarity_score\n0           No Entry             0.275\n1   Meet the In-Laws             0.251\n2         The Cruise             0.246\n3          Kara Bela             0.238\n4  Uncle Naji in UAE             0.237\n5       Quam's Money             0.227",
      "text/html": "<div>\n<style scoped>\n    .dataframe tbody tr th:only-of-type {\n        vertical-align: middle;\n    }\n\n    .dataframe tbody tr th {\n        vertical-align: top;\n    }\n\n    .dataframe thead th {\n        text-align: right;\n    }\n</style>\n<table border=\"1\" class=\"dataframe\">\n  <thead>\n    <tr style=\"text-align: right;\">\n      <th></th>\n      <th>title</th>\n      <th>similarity_score</th>\n    </tr>\n  </thead>\n  <tbody>\n    <tr>\n      <th>0</th>\n      <td>No Entry</td>\n      <td>0.275</td>\n    </tr>\n    <tr>\n      <th>1</th>\n      <td>Meet the In-Laws</td>\n      <td>0.251</td>\n    </tr>\n    <tr>\n      <th>2</th>\n      <td>The Cruise</td>\n      <td>0.246</td>\n    </tr>\n    <tr>\n      <th>3</th>\n      <td>Kara Bela</td>\n      <td>0.238</td>\n    </tr>\n    <tr>\n      <th>4</th>\n      <td>Uncle Naji in UAE</td>\n      <td>0.237</td>\n    </tr>\n    <tr>\n      <th>5</th>\n      <td>Quam's Money</td>\n      <td>0.227</td>\n    </tr>\n  </tbody>\n</table>\n</div>"
     },
     "execution_count": 43,
     "metadata": {},
     "output_type": "execute_result"
    }
   ],
   "source": [
    "def get_recommendations(title, cosine_sim=cosine_sim):\n",
    "    # Get the index of the movie that matches the title\n",
    "    idx = netflix_df[netflix_df['title'] == title].index[0]\n",
    "\n",
    "    # Get the pairwise similarity scores of all movies with that movie\n",
    "    sim_scores = list(enumerate(cosine_sim[idx]))\n",
    "\n",
    "    # Sort the movies based on the similarity scores\n",
    "    sim_scores = sorted(sim_scores, key=lambda x: x[1], reverse=True)  # Descending order\n",
    "\n",
    "    # Get the scores of the 6 most similar movies\n",
    "    sim_scores = sim_scores[1:7]\n",
    "\n",
    "    # Get the movie indices and similarity scores\n",
    "    movie_indices = [i[0] for i in sim_scores]\n",
    "    movie_scores = [round(i[1], 3) for i in sim_scores]\n",
    "\n",
    "    # Return the top 10 most similar movies with their scores\n",
    "    recommendations = pd.DataFrame({\n",
    "        'title': netflix_df['title'].iloc[movie_indices].values,\n",
    "        'similarity_score': movie_scores\n",
    "    })\n",
    "\n",
    "    return recommendations\n",
    "\n",
    "# Example usage: Get recommendations for the movie \"A Trip to Jamaica\"\n",
    "recommendations = get_recommendations('A Trip to Jamaica')\n",
    "recommendations"
   ],
   "metadata": {
    "collapsed": false,
    "ExecuteTime": {
     "end_time": "2024-07-16T18:44:51.894370500Z",
     "start_time": "2024-07-16T18:44:51.865577300Z"
    }
   },
   "id": "1c6ab77b987fe72f"
  },
  {
   "cell_type": "code",
   "execution_count": null,
   "outputs": [],
   "source": [],
   "metadata": {
    "collapsed": false
   },
   "id": "539c61510f85e924"
  }
 ],
 "metadata": {
  "kernelspec": {
   "display_name": "Python 3",
   "language": "python",
   "name": "python3"
  },
  "language_info": {
   "codemirror_mode": {
    "name": "ipython",
    "version": 2
   },
   "file_extension": ".py",
   "mimetype": "text/x-python",
   "name": "python",
   "nbconvert_exporter": "python",
   "pygments_lexer": "ipython2",
   "version": "2.7.6"
  }
 },
 "nbformat": 4,
 "nbformat_minor": 5
}
